{
 "cells": [
  {
   "cell_type": "markdown",
   "id": "4dfeb390-6093-4a06-8d19-fd94bfc22789",
   "metadata": {},
   "source": [
    "# DataFrame 복습"
   ]
  },
  {
   "cell_type": "code",
   "execution_count": 1,
   "id": "4d746c0c-49bc-46ce-8bf9-726f16f2e0d7",
   "metadata": {
    "tags": []
   },
   "outputs": [
    {
     "data": {
      "text/html": [
       "<div>\n",
       "<style scoped>\n",
       "    .dataframe tbody tr th:only-of-type {\n",
       "        vertical-align: middle;\n",
       "    }\n",
       "\n",
       "    .dataframe tbody tr th {\n",
       "        vertical-align: top;\n",
       "    }\n",
       "\n",
       "    .dataframe thead th {\n",
       "        text-align: right;\n",
       "    }\n",
       "</style>\n",
       "<table border=\"1\" class=\"dataframe\">\n",
       "  <thead>\n",
       "    <tr style=\"text-align: right;\">\n",
       "      <th></th>\n",
       "      <th>나라</th>\n",
       "      <th>언어</th>\n",
       "    </tr>\n",
       "  </thead>\n",
       "  <tbody>\n",
       "    <tr>\n",
       "      <th>0</th>\n",
       "      <td>한국</td>\n",
       "      <td>한국어</td>\n",
       "    </tr>\n",
       "    <tr>\n",
       "      <th>1</th>\n",
       "      <td>미국</td>\n",
       "      <td>영어</td>\n",
       "    </tr>\n",
       "  </tbody>\n",
       "</table>\n",
       "</div>"
      ],
      "text/plain": [
       "   나라   언어\n",
       "0  한국  한국어\n",
       "1  미국   영어"
      ]
     },
     "execution_count": 1,
     "metadata": {},
     "output_type": "execute_result"
    }
   ],
   "source": [
    "# 열병함\n",
    "import pandas as pd\n",
    "row1 = [\"한국\",\"한국어\"]\n",
    "row2 = [\"미국\",\"영어\"]\n",
    "\n",
    "# 칼럼의 갯수를 맞춰줘야한다.\n",
    "finalRow= pd.DataFrame([row1,row2],columns=[\"나라\",\"언어\"])\n",
    "finalRow"
   ]
  },
  {
   "cell_type": "code",
   "execution_count": 2,
   "id": "7070c444-d11c-4c6a-a210-18b896e4ba17",
   "metadata": {},
   "outputs": [
    {
     "data": {
      "text/html": [
       "<div>\n",
       "<style scoped>\n",
       "    .dataframe tbody tr th:only-of-type {\n",
       "        vertical-align: middle;\n",
       "    }\n",
       "\n",
       "    .dataframe tbody tr th {\n",
       "        vertical-align: top;\n",
       "    }\n",
       "\n",
       "    .dataframe thead th {\n",
       "        text-align: right;\n",
       "    }\n",
       "</style>\n",
       "<table border=\"1\" class=\"dataframe\">\n",
       "  <thead>\n",
       "    <tr style=\"text-align: right;\">\n",
       "      <th></th>\n",
       "      <th>1번</th>\n",
       "      <th>2번</th>\n",
       "      <th>3번</th>\n",
       "    </tr>\n",
       "  </thead>\n",
       "  <tbody>\n",
       "    <tr>\n",
       "      <th>0</th>\n",
       "      <td>1998</td>\n",
       "      <td>1972</td>\n",
       "      <td>1988</td>\n",
       "    </tr>\n",
       "    <tr>\n",
       "      <th>1</th>\n",
       "      <td>코끼리</td>\n",
       "      <td>강아지</td>\n",
       "      <td>고양이</td>\n",
       "    </tr>\n",
       "    <tr>\n",
       "      <th>2</th>\n",
       "      <td>울산</td>\n",
       "      <td>서울</td>\n",
       "      <td>부산</td>\n",
       "    </tr>\n",
       "  </tbody>\n",
       "</table>\n",
       "</div>"
      ],
      "text/plain": [
       "     1번    2번    3번\n",
       "0  1998  1972  1988\n",
       "1   코끼리   강아지   고양이\n",
       "2    울산    서울    부산"
      ]
     },
     "execution_count": 2,
     "metadata": {},
     "output_type": "execute_result"
    }
   ],
   "source": [
    "#칼럼 병합\n",
    "import pandas as pd\n",
    "list1 = [1998,\"코끼리\",\"울산\"]\n",
    "list2 = [1972,\"강아지\",\"서울\"]\n",
    "list3 = [1988,\"고양이\",\"부산\"]\n",
    "\n",
    "finalCol = pd.DataFrame(zip(list1,list2,list3),columns=[\"1번\",\"2번\",\"3번\"])\n",
    "finalCol"
   ]
  },
  {
   "cell_type": "code",
   "execution_count": 10,
   "id": "cdce8a48-111b-4e07-bd88-01c1ccf5113f",
   "metadata": {},
   "outputs": [],
   "source": [
    "customerDATA = pd.read_csv(\"../dataset/customer.csv\")"
   ]
  },
  {
   "cell_type": "code",
   "execution_count": 11,
   "id": "04444f4c-64c7-4b61-a7ea-2767eafc2e9b",
   "metadata": {},
   "outputs": [
    {
     "data": {
      "text/plain": [
       "balance     int64\n",
       "stock       int64\n",
       "label      object\n",
       "dtype: object"
      ]
     },
     "execution_count": 11,
     "metadata": {},
     "output_type": "execute_result"
    }
   ],
   "source": [
    "# 데이터 프레임 타입조회\n",
    "customerDATA.dtypes"
   ]
  },
  {
   "cell_type": "code",
   "execution_count": 55,
   "id": "9bfe1150-94fb-42ae-8be9-39b1dc7a1a9c",
   "metadata": {},
   "outputs": [
    {
     "data": {
      "text/html": [
       "<div>\n",
       "<style scoped>\n",
       "    .dataframe tbody tr th:only-of-type {\n",
       "        vertical-align: middle;\n",
       "    }\n",
       "\n",
       "    .dataframe tbody tr th {\n",
       "        vertical-align: top;\n",
       "    }\n",
       "\n",
       "    .dataframe thead th {\n",
       "        text-align: right;\n",
       "    }\n",
       "</style>\n",
       "<table border=\"1\" class=\"dataframe\">\n",
       "  <thead>\n",
       "    <tr style=\"text-align: right;\">\n",
       "      <th></th>\n",
       "      <th>balance</th>\n",
       "      <th>stock</th>\n",
       "      <th>STOCK</th>\n",
       "    </tr>\n",
       "  </thead>\n",
       "  <tbody>\n",
       "    <tr>\n",
       "      <th>count</th>\n",
       "      <td>2.000000e+04</td>\n",
       "      <td>2.000000e+04</td>\n",
       "      <td>2.000000e+04</td>\n",
       "    </tr>\n",
       "    <tr>\n",
       "      <th>mean</th>\n",
       "      <td>5.602255e+08</td>\n",
       "      <td>3.876165e+07</td>\n",
       "      <td>3.876165e+07</td>\n",
       "    </tr>\n",
       "    <tr>\n",
       "      <th>std</th>\n",
       "      <td>1.978967e+08</td>\n",
       "      <td>1.541275e+07</td>\n",
       "      <td>1.541275e+07</td>\n",
       "    </tr>\n",
       "    <tr>\n",
       "      <th>min</th>\n",
       "      <td>3.000000e+07</td>\n",
       "      <td>1.750000e+07</td>\n",
       "      <td>1.750000e+07</td>\n",
       "    </tr>\n",
       "    <tr>\n",
       "      <th>25%</th>\n",
       "      <td>2.960000e+08</td>\n",
       "      <td>2.666667e+07</td>\n",
       "      <td>2.666667e+07</td>\n",
       "    </tr>\n",
       "    <tr>\n",
       "      <th>50%</th>\n",
       "      <td>6.360000e+08</td>\n",
       "      <td>3.550000e+07</td>\n",
       "      <td>3.550000e+07</td>\n",
       "    </tr>\n",
       "    <tr>\n",
       "      <th>75%</th>\n",
       "      <td>7.200000e+08</td>\n",
       "      <td>4.733333e+07</td>\n",
       "      <td>4.733333e+07</td>\n",
       "    </tr>\n",
       "    <tr>\n",
       "      <th>max</th>\n",
       "      <td>8.000000e+08</td>\n",
       "      <td>8.000000e+07</td>\n",
       "      <td>8.000000e+07</td>\n",
       "    </tr>\n",
       "  </tbody>\n",
       "</table>\n",
       "</div>"
      ],
      "text/plain": [
       "            balance         stock         STOCK\n",
       "count  2.000000e+04  2.000000e+04  2.000000e+04\n",
       "mean   5.602255e+08  3.876165e+07  3.876165e+07\n",
       "std    1.978967e+08  1.541275e+07  1.541275e+07\n",
       "min    3.000000e+07  1.750000e+07  1.750000e+07\n",
       "25%    2.960000e+08  2.666667e+07  2.666667e+07\n",
       "50%    6.360000e+08  3.550000e+07  3.550000e+07\n",
       "75%    7.200000e+08  4.733333e+07  4.733333e+07\n",
       "max    8.000000e+08  8.000000e+07  8.000000e+07"
      ]
     },
     "execution_count": 55,
     "metadata": {},
     "output_type": "execute_result"
    }
   ],
   "source": [
    "# 데이터 확인\n",
    "customerDATA.describe()"
   ]
  },
  {
   "cell_type": "code",
   "execution_count": 22,
   "id": "168e31db-32e8-4525-81db-975e170bb471",
   "metadata": {},
   "outputs": [
    {
     "data": {
      "text/plain": [
       "0        22500000\n",
       "1        48000000\n",
       "2        40666666\n",
       "3        28000000\n",
       "4        32000000\n",
       "           ...   \n",
       "19995    44666666\n",
       "19996    20000000\n",
       "19997    41333333\n",
       "19998    45333333\n",
       "19999    26000000\n",
       "Name: stock, Length: 20000, dtype: int64"
      ]
     },
     "execution_count": 22,
     "metadata": {},
     "output_type": "execute_result"
    }
   ],
   "source": [
    "# 데이터 조회\n",
    "customerDATA.loc[:,\"stock\"]\n",
    "# 괄호 안에 변수를 한번 더 써주고 조건을 검색해야한다.\n",
    "# 변수명 + 컬럼명\n",
    "# 2가지 표현방식 : [customerDATA.stock>20000000]  [customerDATA[\"stock\"]>20000000]"
   ]
  },
  {
   "cell_type": "code",
   "execution_count": 60,
   "id": "df57dee6-e195-44ad-b28b-5fd30b423284",
   "metadata": {},
   "outputs": [
    {
     "data": {
      "text/html": [
       "<div>\n",
       "<style scoped>\n",
       "    .dataframe tbody tr th:only-of-type {\n",
       "        vertical-align: middle;\n",
       "    }\n",
       "\n",
       "    .dataframe tbody tr th {\n",
       "        vertical-align: top;\n",
       "    }\n",
       "\n",
       "    .dataframe thead th {\n",
       "        text-align: right;\n",
       "    }\n",
       "</style>\n",
       "<table border=\"1\" class=\"dataframe\">\n",
       "  <thead>\n",
       "    <tr style=\"text-align: right;\">\n",
       "      <th></th>\n",
       "      <th>balance</th>\n",
       "      <th>stock_1</th>\n",
       "      <th>label</th>\n",
       "      <th>STOCK</th>\n",
       "      <th>LABEL</th>\n",
       "      <th>BALANCE</th>\n",
       "    </tr>\n",
       "  </thead>\n",
       "  <tbody>\n",
       "    <tr>\n",
       "      <th>0</th>\n",
       "      <td>30000000.0</td>\n",
       "      <td>22500000</td>\n",
       "      <td>normal</td>\n",
       "      <td>22500000</td>\n",
       "      <td>normal</td>\n",
       "      <td>30000000.0</td>\n",
       "    </tr>\n",
       "    <tr>\n",
       "      <th>1</th>\n",
       "      <td>280000000.0</td>\n",
       "      <td>48000000</td>\n",
       "      <td>diamond</td>\n",
       "      <td>48000000</td>\n",
       "      <td>diamond</td>\n",
       "      <td>280000000.0</td>\n",
       "    </tr>\n",
       "    <tr>\n",
       "      <th>2</th>\n",
       "      <td>300000000.0</td>\n",
       "      <td>40666666</td>\n",
       "      <td>diamond</td>\n",
       "      <td>40666666</td>\n",
       "      <td>diamond</td>\n",
       "      <td>300000000.0</td>\n",
       "    </tr>\n",
       "    <tr>\n",
       "      <th>3</th>\n",
       "      <td>54000000.0</td>\n",
       "      <td>28000000</td>\n",
       "      <td>normal</td>\n",
       "      <td>28000000</td>\n",
       "      <td>normal</td>\n",
       "      <td>54000000.0</td>\n",
       "    </tr>\n",
       "    <tr>\n",
       "      <th>4</th>\n",
       "      <td>768000000.0</td>\n",
       "      <td>32000000</td>\n",
       "      <td>vip</td>\n",
       "      <td>32000000</td>\n",
       "      <td>vip</td>\n",
       "      <td>768000000.0</td>\n",
       "    </tr>\n",
       "    <tr>\n",
       "      <th>...</th>\n",
       "      <td>...</td>\n",
       "      <td>...</td>\n",
       "      <td>...</td>\n",
       "      <td>...</td>\n",
       "      <td>...</td>\n",
       "      <td>...</td>\n",
       "    </tr>\n",
       "    <tr>\n",
       "      <th>19995</th>\n",
       "      <td>628000000.0</td>\n",
       "      <td>44666666</td>\n",
       "      <td>diamond</td>\n",
       "      <td>44666666</td>\n",
       "      <td>diamond</td>\n",
       "      <td>628000000.0</td>\n",
       "    </tr>\n",
       "    <tr>\n",
       "      <th>19996</th>\n",
       "      <td>276000000.0</td>\n",
       "      <td>20000000</td>\n",
       "      <td>normal</td>\n",
       "      <td>20000000</td>\n",
       "      <td>normal</td>\n",
       "      <td>276000000.0</td>\n",
       "    </tr>\n",
       "    <tr>\n",
       "      <th>19997</th>\n",
       "      <td>652000000.0</td>\n",
       "      <td>41333333</td>\n",
       "      <td>diamond</td>\n",
       "      <td>41333333</td>\n",
       "      <td>diamond</td>\n",
       "      <td>652000000.0</td>\n",
       "    </tr>\n",
       "    <tr>\n",
       "      <th>19998</th>\n",
       "      <td>676000000.0</td>\n",
       "      <td>45333333</td>\n",
       "      <td>diamond</td>\n",
       "      <td>45333333</td>\n",
       "      <td>diamond</td>\n",
       "      <td>676000000.0</td>\n",
       "    </tr>\n",
       "    <tr>\n",
       "      <th>19999</th>\n",
       "      <td>732000000.0</td>\n",
       "      <td>26000000</td>\n",
       "      <td>diamond</td>\n",
       "      <td>26000000</td>\n",
       "      <td>diamond</td>\n",
       "      <td>732000000.0</td>\n",
       "    </tr>\n",
       "  </tbody>\n",
       "</table>\n",
       "<p>20000 rows × 6 columns</p>\n",
       "</div>"
      ],
      "text/plain": [
       "           balance   stock_1    label     STOCK    LABEL      BALANCE\n",
       "0       30000000.0  22500000   normal  22500000   normal   30000000.0\n",
       "1      280000000.0  48000000  diamond  48000000  diamond  280000000.0\n",
       "2      300000000.0  40666666  diamond  40666666  diamond  300000000.0\n",
       "3       54000000.0  28000000   normal  28000000   normal   54000000.0\n",
       "4      768000000.0  32000000      vip  32000000      vip  768000000.0\n",
       "...            ...       ...      ...       ...      ...          ...\n",
       "19995  628000000.0  44666666  diamond  44666666  diamond  628000000.0\n",
       "19996  276000000.0  20000000   normal  20000000   normal  276000000.0\n",
       "19997  652000000.0  41333333  diamond  41333333  diamond  652000000.0\n",
       "19998  676000000.0  45333333  diamond  45333333  diamond  676000000.0\n",
       "19999  732000000.0  26000000  diamond  26000000  diamond  732000000.0\n",
       "\n",
       "[20000 rows x 6 columns]"
      ]
     },
     "execution_count": 60,
     "metadata": {},
     "output_type": "execute_result"
    }
   ],
   "source": [
    "# 각각의 컬럼 바꾸는 법\n",
    "basicCol = list(customerDATA.columns)\n",
    "for i in range (0,len(basicCol)) :\n",
    "    customerDATA[basicCol[i].upper()] = customerDATA[basicCol[i]]\n",
    "# 컬럼명 변경법\n",
    "customerDATA.rename(columns={\"stock\":\"stock_1\"})"
   ]
  },
  {
   "cell_type": "code",
   "execution_count": 61,
   "id": "e2d91b07-5ea9-47da-ba33-91888bb952a3",
   "metadata": {},
   "outputs": [],
   "source": [
    "# 컬럼 drop\n",
    "customerDATA = customerDATA.drop(columns=[\"BALANCE\"])"
   ]
  },
  {
   "cell_type": "code",
   "execution_count": 62,
   "id": "21a8e800-90c8-4386-8da1-ac83c7713039",
   "metadata": {},
   "outputs": [
    {
     "data": {
      "text/plain": [
       "0     normal\n",
       "1    diamond\n",
       "4        vip\n",
       "Name: LABEL, dtype: object"
      ]
     },
     "execution_count": 62,
     "metadata": {},
     "output_type": "execute_result"
    }
   ],
   "source": [
    "# 중복값 제외하고 보기\n",
    "customerDATA[\"LABEL\"].drop_duplicates()"
   ]
  },
  {
   "cell_type": "code",
   "execution_count": 63,
   "id": "1d28f16c-c411-4e5a-aa51-67ffad5f3ae9",
   "metadata": {},
   "outputs": [
    {
     "data": {
      "text/plain": [
       "0"
      ]
     },
     "execution_count": 63,
     "metadata": {},
     "output_type": "execute_result"
    }
   ],
   "source": [
    "# 컬럼별 null보기\n",
    "customerDATA[\"label\"].isnull().sum()"
   ]
  },
  {
   "cell_type": "code",
   "execution_count": 64,
   "id": "04a20ca1-39b7-4ead-b34a-468784ebca30",
   "metadata": {},
   "outputs": [],
   "source": [
    "# 데이터 타입의 변환\n",
    "customerDATA.balance = customerDATA.balance.astype(float)"
   ]
  },
  {
   "cell_type": "code",
   "execution_count": 66,
   "id": "f6d69864-aae0-4b27-a03b-37ddd33f97db",
   "metadata": {},
   "outputs": [],
   "source": [
    "# 데이터 라벨링\n",
    "# customerDATA[\"label\"] = np.where(customerDATA.PROMOTION == \"normal\" , 1, 0)\n",
    "# from sklearn.preprocessing import LabelEncoder 선언 후 \n",
    "# LabelEn = LabelEncoder()\n",
    "# customerDATA[\"label\"] = LabelEn.fit_transform(customerDATA[\"label\"])"
   ]
  },
  {
   "cell_type": "code",
   "execution_count": 68,
   "id": "25f15ff3-d028-47ed-b1c3-00541ceebea5",
   "metadata": {},
   "outputs": [],
   "source": [
    "# 데이터 정규화 - classification\n",
    "# def minMaxNorm(indata) :\n",
    "#     maxValue = max(indata)\n",
    "#     minValue = min(indata)\n",
    "#     deNormValue = maxValue - minValue\n",
    "\n",
    "#     plusData = indata - minValue\n",
    "#     outData = indata # 0을 넣기 위함\n",
    "\n",
    "#     if deNormValue != 0 :\n",
    "#         outData = plusData / deNormValue\n",
    "#     else : \n",
    "#         pass\n",
    "#     return outData\n",
    "\n",
    "# 라이브러리에 동일한게 있다.\n",
    "# from sklearn.preprocessing import minmax_scale 선언후\n",
    "# customerDATA[\"balance_norm\"] = minmax_scale(customerDATA.balance)"
   ]
  },
  {
   "cell_type": "code",
   "execution_count": null,
   "id": "25666d80-67d3-4468-932a-f847f5ba52f8",
   "metadata": {},
   "outputs": [],
   "source": []
  },
  {
   "cell_type": "code",
   "execution_count": null,
   "id": "bdca5288-240b-4236-884d-86494f55a8d8",
   "metadata": {},
   "outputs": [],
   "source": []
  },
  {
   "cell_type": "code",
   "execution_count": null,
   "id": "5ef0045d-bb57-43aa-b1a6-5fb324508198",
   "metadata": {},
   "outputs": [],
   "source": []
  },
  {
   "cell_type": "code",
   "execution_count": 52,
   "id": "c34240bb-dba7-42dd-b7ff-bc5c5ac8ec32",
   "metadata": {},
   "outputs": [],
   "source": [
    "# 상관관계\n",
    "corrDf = customerDATA.corr()\n",
    "stdRatio = 0.3"
   ]
  },
  {
   "cell_type": "code",
   "execution_count": 53,
   "id": "c32ed1f6-8e9d-4320-8fe6-8d7b1f4167aa",
   "metadata": {},
   "outputs": [
    {
     "data": {
      "text/plain": [
       "['stock', 'STOCK']"
      ]
     },
     "execution_count": 53,
     "metadata": {},
     "output_type": "execute_result"
    }
   ],
   "source": [
    "# 관련성 있는 데이터 컬럼 추출\n",
    "feature = list(corrDf.loc[(abs(corrDf.balance)>stdRatio)&(abs(corrDf.balance!=1))].index)\n",
    "feature"
   ]
  },
  {
   "cell_type": "code",
   "execution_count": null,
   "id": "61d3724b-96f6-42ab-a92d-80a9568a170f",
   "metadata": {},
   "outputs": [],
   "source": []
  },
  {
   "cell_type": "code",
   "execution_count": null,
   "id": "50930096-9c04-4360-9ee0-9511ec7b7617",
   "metadata": {},
   "outputs": [],
   "source": []
  },
  {
   "cell_type": "code",
   "execution_count": null,
   "id": "86406463-3e81-4bff-8ce4-d72c61754324",
   "metadata": {},
   "outputs": [],
   "source": []
  }
 ],
 "metadata": {
  "kernelspec": {
   "display_name": "Python 3 (ipykernel)",
   "language": "python",
   "name": "python3"
  },
  "language_info": {
   "codemirror_mode": {
    "name": "ipython",
    "version": 3
   },
   "file_extension": ".py",
   "mimetype": "text/x-python",
   "name": "python",
   "nbconvert_exporter": "python",
   "pygments_lexer": "ipython3",
   "version": "3.9.13"
  }
 },
 "nbformat": 4,
 "nbformat_minor": 5
}
