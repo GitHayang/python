{
 "cells": [
  {
   "cell_type": "markdown",
   "id": "4dfeb390-6093-4a06-8d19-fd94bfc22789",
   "metadata": {},
   "source": [
    "# DataFrame 복습"
   ]
  },
  {
   "cell_type": "code",
   "execution_count": 4,
   "id": "4d746c0c-49bc-46ce-8bf9-726f16f2e0d7",
   "metadata": {},
   "outputs": [
    {
     "data": {
      "text/html": [
       "<div>\n",
       "<style scoped>\n",
       "    .dataframe tbody tr th:only-of-type {\n",
       "        vertical-align: middle;\n",
       "    }\n",
       "\n",
       "    .dataframe tbody tr th {\n",
       "        vertical-align: top;\n",
       "    }\n",
       "\n",
       "    .dataframe thead th {\n",
       "        text-align: right;\n",
       "    }\n",
       "</style>\n",
       "<table border=\"1\" class=\"dataframe\">\n",
       "  <thead>\n",
       "    <tr style=\"text-align: right;\">\n",
       "      <th></th>\n",
       "      <th>나라</th>\n",
       "      <th>언어</th>\n",
       "    </tr>\n",
       "  </thead>\n",
       "  <tbody>\n",
       "    <tr>\n",
       "      <th>0</th>\n",
       "      <td>한국</td>\n",
       "      <td>한국어</td>\n",
       "    </tr>\n",
       "    <tr>\n",
       "      <th>1</th>\n",
       "      <td>미국</td>\n",
       "      <td>영어</td>\n",
       "    </tr>\n",
       "  </tbody>\n",
       "</table>\n",
       "</div>"
      ],
      "text/plain": [
       "   나라   언어\n",
       "0  한국  한국어\n",
       "1  미국   영어"
      ]
     },
     "execution_count": 4,
     "metadata": {},
     "output_type": "execute_result"
    }
   ],
   "source": [
    "# 열병함\n",
    "import pandas as pd\n",
    "row1 = [\"한국\",\"한국어\"]\n",
    "row2 = [\"미국\",\"영어\"]\n",
    "\n",
    "# 칼럼의 갯수를 맞춰줘야한다.\n",
    "finalRow= pd.DataFrame([row1,row2],columns=[\"나라\",\"언어\"])\n",
    "finalRow"
   ]
  },
  {
   "cell_type": "code",
   "execution_count": 2,
   "id": "7070c444-d11c-4c6a-a210-18b896e4ba17",
   "metadata": {},
   "outputs": [
    {
     "data": {
      "text/html": [
       "<div>\n",
       "<style scoped>\n",
       "    .dataframe tbody tr th:only-of-type {\n",
       "        vertical-align: middle;\n",
       "    }\n",
       "\n",
       "    .dataframe tbody tr th {\n",
       "        vertical-align: top;\n",
       "    }\n",
       "\n",
       "    .dataframe thead th {\n",
       "        text-align: right;\n",
       "    }\n",
       "</style>\n",
       "<table border=\"1\" class=\"dataframe\">\n",
       "  <thead>\n",
       "    <tr style=\"text-align: right;\">\n",
       "      <th></th>\n",
       "      <th>1번</th>\n",
       "      <th>2번</th>\n",
       "      <th>3번</th>\n",
       "    </tr>\n",
       "  </thead>\n",
       "  <tbody>\n",
       "    <tr>\n",
       "      <th>0</th>\n",
       "      <td>1998</td>\n",
       "      <td>1972</td>\n",
       "      <td>1988</td>\n",
       "    </tr>\n",
       "    <tr>\n",
       "      <th>1</th>\n",
       "      <td>코끼리</td>\n",
       "      <td>강아지</td>\n",
       "      <td>고양이</td>\n",
       "    </tr>\n",
       "    <tr>\n",
       "      <th>2</th>\n",
       "      <td>울산</td>\n",
       "      <td>서울</td>\n",
       "      <td>부산</td>\n",
       "    </tr>\n",
       "  </tbody>\n",
       "</table>\n",
       "</div>"
      ],
      "text/plain": [
       "     1번    2번    3번\n",
       "0  1998  1972  1988\n",
       "1   코끼리   강아지   고양이\n",
       "2    울산    서울    부산"
      ]
     },
     "execution_count": 2,
     "metadata": {},
     "output_type": "execute_result"
    }
   ],
   "source": [
    "#칼럼 병합\n",
    "import pandas as pd\n",
    "list1 = [1998,\"코끼리\",\"울산\"]\n",
    "list2 = [1972,\"강아지\",\"서울\"]\n",
    "list3 = [1988,\"고양이\",\"부산\"]\n",
    "\n",
    "finalCol = pd.DataFrame(zip(list1,list2,list3),columns=[\"1번\",\"2번\",\"3번\"])\n",
    "finalCol"
   ]
  },
  {
   "cell_type": "code",
   "execution_count": null,
   "id": "04444f4c-64c7-4b61-a7ea-2767eafc2e9b",
   "metadata": {},
   "outputs": [],
   "source": [
    "# 데이터 프레임 타입조회\n",
    "customerDATA.dtypes"
   ]
  },
  {
   "cell_type": "code",
   "execution_count": null,
   "id": "168e31db-32e8-4525-81db-975e170bb471",
   "metadata": {},
   "outputs": [],
   "source": [
    "# 데이터 조회\n",
    "customerDATA.loc[customerDATA.EMI>2].head()\n",
    "# 괄호 안에 변수를 한번 더 써주고 조건을 검색해야한다.\n",
    "# 변수명 + 컬럼명\n",
    "# 2가지 표현방식 : [customerDATA.EMI>2]  [customerDATA[\"EMI\"]>2]"
   ]
  },
  {
   "cell_type": "code",
   "execution_count": null,
   "id": "df57dee6-e195-44ad-b28b-5fd30b423284",
   "metadata": {},
   "outputs": [],
   "source": [
    "# 각각의 컬럼 바꾸는 법\n",
    "basicCol = list(featuresData.columns)\n",
    "for i in range (0,len(basicCol)) :\n",
    "    featuresData[basicCol[i].upper()] = featuresData[basicCol[i]]"
   ]
  },
  {
   "cell_type": "code",
   "execution_count": null,
   "id": "e2d91b07-5ea9-47da-ba33-91888bb952a3",
   "metadata": {},
   "outputs": [],
   "source": [
    "# 컬럼 drop\n",
    "featuresData = featuresData.drop(columns=[\"LABEL\"])"
   ]
  },
  {
   "cell_type": "code",
   "execution_count": null,
   "id": "21a8e800-90c8-4386-8da1-ac83c7713039",
   "metadata": {},
   "outputs": [],
   "source": [
    "# 중복값 제외하고 보기\n",
    "featuresData.LABEL_LEN.drop_duplicates()"
   ]
  },
  {
   "cell_type": "code",
   "execution_count": 1,
   "id": "1d28f16c-c411-4e5a-aa51-67ffad5f3ae9",
   "metadata": {},
   "outputs": [],
   "source": [
    "# 컬럼별 null보기\n",
    "featuredData.isnull().sum()"
   ]
  },
  {
   "cell_type": "code",
   "execution_count": null,
   "id": "04a20ca1-39b7-4ead-b34a-468784ebca30",
   "metadata": {},
   "outputs": [],
   "source": []
  },
  {
   "cell_type": "code",
   "execution_count": null,
   "id": "f6d69864-aae0-4b27-a03b-37ddd33f97db",
   "metadata": {},
   "outputs": [],
   "source": []
  },
  {
   "cell_type": "code",
   "execution_count": null,
   "id": "25f15ff3-d028-47ed-b1c3-00541ceebea5",
   "metadata": {},
   "outputs": [],
   "source": []
  },
  {
   "cell_type": "code",
   "execution_count": null,
   "id": "ed8aebbf-c6b4-437e-896a-4719e6a84a07",
   "metadata": {},
   "outputs": [],
   "source": []
  },
  {
   "cell_type": "code",
   "execution_count": null,
   "id": "6c046c4f-8da9-4b0e-b48e-873b92b1784d",
   "metadata": {},
   "outputs": [],
   "source": []
  },
  {
   "cell_type": "code",
   "execution_count": null,
   "id": "25666d80-67d3-4468-932a-f847f5ba52f8",
   "metadata": {},
   "outputs": [],
   "source": []
  },
  {
   "cell_type": "code",
   "execution_count": null,
   "id": "bdca5288-240b-4236-884d-86494f55a8d8",
   "metadata": {},
   "outputs": [],
   "source": []
  },
  {
   "cell_type": "code",
   "execution_count": null,
   "id": "5ef0045d-bb57-43aa-b1a6-5fb324508198",
   "metadata": {},
   "outputs": [],
   "source": []
  },
  {
   "cell_type": "code",
   "execution_count": null,
   "id": "c34240bb-dba7-42dd-b7ff-bc5c5ac8ec32",
   "metadata": {},
   "outputs": [],
   "source": [
    "# 상관관계\n",
    "featuredData.corr()"
   ]
  },
  {
   "cell_type": "code",
   "execution_count": null,
   "id": "c32ed1f6-8e9d-4320-8fe6-8d7b1f4167aa",
   "metadata": {},
   "outputs": [],
   "source": []
  },
  {
   "cell_type": "code",
   "execution_count": null,
   "id": "61d3724b-96f6-42ab-a92d-80a9568a170f",
   "metadata": {},
   "outputs": [],
   "source": []
  },
  {
   "cell_type": "code",
   "execution_count": null,
   "id": "50930096-9c04-4360-9ee0-9511ec7b7617",
   "metadata": {},
   "outputs": [],
   "source": []
  },
  {
   "cell_type": "code",
   "execution_count": null,
   "id": "86406463-3e81-4bff-8ce4-d72c61754324",
   "metadata": {},
   "outputs": [],
   "source": []
  }
 ],
 "metadata": {
  "kernelspec": {
   "display_name": "Python 3 (ipykernel)",
   "language": "python",
   "name": "python3"
  },
  "language_info": {
   "codemirror_mode": {
    "name": "ipython",
    "version": 3
   },
   "file_extension": ".py",
   "mimetype": "text/x-python",
   "name": "python",
   "nbconvert_exporter": "python",
   "pygments_lexer": "ipython3",
   "version": "3.9.13"
  }
 },
 "nbformat": 4,
 "nbformat_minor": 5
}
