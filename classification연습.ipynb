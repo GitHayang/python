{
 "cells": [
  {
   "cell_type": "code",
   "execution_count": 1,
   "id": "6ef8a26e-edd1-4ff0-aa4b-4bd165c0ab38",
   "metadata": {},
   "outputs": [],
   "source": [
    "import pandas as pd\n",
    "import numpy as np\n",
    "\n",
    "from sklearn import svm\n",
    "\n",
    "from sklearn.model_selection import train_test_split\n",
    "# 정답과 예측을 넣으면, 정확도를 산출해서 보여준다.\n",
    "from sklearn.metrics import accuracy_score\n",
    "# 평가지표를 한눈에 보게해주는 라이브러리\n",
    "from sklearn.metrics import classification_report"
   ]
  },
  {
   "cell_type": "code",
   "execution_count": 2,
   "id": "75cbd270-d4b1-458c-911a-7175d73c0d43",
   "metadata": {},
   "outputs": [
    {
     "data": {
      "text/html": [
       "<div>\n",
       "<style scoped>\n",
       "    .dataframe tbody tr th:only-of-type {\n",
       "        vertical-align: middle;\n",
       "    }\n",
       "\n",
       "    .dataframe tbody tr th {\n",
       "        vertical-align: top;\n",
       "    }\n",
       "\n",
       "    .dataframe thead th {\n",
       "        text-align: right;\n",
       "    }\n",
       "</style>\n",
       "<table border=\"1\" class=\"dataframe\">\n",
       "  <thead>\n",
       "    <tr style=\"text-align: right;\">\n",
       "      <th></th>\n",
       "      <th>balance</th>\n",
       "      <th>stock</th>\n",
       "      <th>label</th>\n",
       "    </tr>\n",
       "  </thead>\n",
       "  <tbody>\n",
       "    <tr>\n",
       "      <th>0</th>\n",
       "      <td>30000000</td>\n",
       "      <td>22500000</td>\n",
       "      <td>normal</td>\n",
       "    </tr>\n",
       "    <tr>\n",
       "      <th>1</th>\n",
       "      <td>280000000</td>\n",
       "      <td>48000000</td>\n",
       "      <td>diamond</td>\n",
       "    </tr>\n",
       "    <tr>\n",
       "      <th>2</th>\n",
       "      <td>300000000</td>\n",
       "      <td>40666666</td>\n",
       "      <td>diamond</td>\n",
       "    </tr>\n",
       "    <tr>\n",
       "      <th>3</th>\n",
       "      <td>54000000</td>\n",
       "      <td>28000000</td>\n",
       "      <td>normal</td>\n",
       "    </tr>\n",
       "    <tr>\n",
       "      <th>4</th>\n",
       "      <td>768000000</td>\n",
       "      <td>32000000</td>\n",
       "      <td>vip</td>\n",
       "    </tr>\n",
       "    <tr>\n",
       "      <th>...</th>\n",
       "      <td>...</td>\n",
       "      <td>...</td>\n",
       "      <td>...</td>\n",
       "    </tr>\n",
       "    <tr>\n",
       "      <th>19995</th>\n",
       "      <td>628000000</td>\n",
       "      <td>44666666</td>\n",
       "      <td>diamond</td>\n",
       "    </tr>\n",
       "    <tr>\n",
       "      <th>19996</th>\n",
       "      <td>276000000</td>\n",
       "      <td>20000000</td>\n",
       "      <td>normal</td>\n",
       "    </tr>\n",
       "    <tr>\n",
       "      <th>19997</th>\n",
       "      <td>652000000</td>\n",
       "      <td>41333333</td>\n",
       "      <td>diamond</td>\n",
       "    </tr>\n",
       "    <tr>\n",
       "      <th>19998</th>\n",
       "      <td>676000000</td>\n",
       "      <td>45333333</td>\n",
       "      <td>diamond</td>\n",
       "    </tr>\n",
       "    <tr>\n",
       "      <th>19999</th>\n",
       "      <td>732000000</td>\n",
       "      <td>26000000</td>\n",
       "      <td>diamond</td>\n",
       "    </tr>\n",
       "  </tbody>\n",
       "</table>\n",
       "<p>20000 rows × 3 columns</p>\n",
       "</div>"
      ],
      "text/plain": [
       "         balance     stock    label\n",
       "0       30000000  22500000   normal\n",
       "1      280000000  48000000  diamond\n",
       "2      300000000  40666666  diamond\n",
       "3       54000000  28000000   normal\n",
       "4      768000000  32000000      vip\n",
       "...          ...       ...      ...\n",
       "19995  628000000  44666666  diamond\n",
       "19996  276000000  20000000   normal\n",
       "19997  652000000  41333333  diamond\n",
       "19998  676000000  45333333  diamond\n",
       "19999  732000000  26000000  diamond\n",
       "\n",
       "[20000 rows x 3 columns]"
      ]
     },
     "execution_count": 2,
     "metadata": {},
     "output_type": "execute_result"
    }
   ],
   "source": [
    "csData = pd.read_csv(\"../dataset/customer.csv\")\n",
    "csData"
   ]
  },
  {
   "cell_type": "code",
   "execution_count": 3,
   "id": "e0b4930e-5140-43b9-a4ab-add4b9b84377",
   "metadata": {},
   "outputs": [
    {
     "data": {
      "text/plain": [
       "0        30000000\n",
       "1       280000000\n",
       "2       300000000\n",
       "3        54000000\n",
       "4       768000000\n",
       "          ...    \n",
       "717     516000000\n",
       "778     318000000\n",
       "801     320000000\n",
       "1239    508000000\n",
       "5763    484000000\n",
       "Name: balance, Length: 129, dtype: int64"
      ]
     },
     "execution_count": 3,
     "metadata": {},
     "output_type": "execute_result"
    }
   ],
   "source": [
    "csData.balance.drop_duplicates()"
   ]
  },
  {
   "cell_type": "code",
   "execution_count": 4,
   "id": "06e178a1-ce92-482a-877d-22e43a5bc861",
   "metadata": {},
   "outputs": [
    {
     "data": {
      "text/plain": [
       "0       22500000\n",
       "1       48000000\n",
       "2       40666666\n",
       "3       28000000\n",
       "4       32000000\n",
       "          ...   \n",
       "1085    31000000\n",
       "1378    39500000\n",
       "1401    38500000\n",
       "2494    39000000\n",
       "5725    51000000\n",
       "Name: stock, Length: 112, dtype: int64"
      ]
     },
     "execution_count": 4,
     "metadata": {},
     "output_type": "execute_result"
    }
   ],
   "source": [
    "csData.stock.drop_duplicates()"
   ]
  },
  {
   "cell_type": "code",
   "execution_count": 5,
   "id": "c51d1f16-cc2e-44e6-9054-79a6b811be02",
   "metadata": {},
   "outputs": [
    {
     "data": {
      "text/plain": [
       "0     normal\n",
       "1    diamond\n",
       "4        vip\n",
       "Name: label, dtype: object"
      ]
     },
     "execution_count": 5,
     "metadata": {},
     "output_type": "execute_result"
    }
   ],
   "source": [
    "csData.label.drop_duplicates()"
   ]
  },
  {
   "cell_type": "code",
   "execution_count": 6,
   "id": "a506a519-9dff-4bd0-8caf-417701f6867d",
   "metadata": {},
   "outputs": [
    {
     "data": {
      "text/plain": [
       "0"
      ]
     },
     "execution_count": 6,
     "metadata": {},
     "output_type": "execute_result"
    }
   ],
   "source": [
    "csData.label.isnull().sum()"
   ]
  },
  {
   "cell_type": "code",
   "execution_count": 7,
   "id": "fa077323-046e-418c-b4b4-39c87184551b",
   "metadata": {},
   "outputs": [
    {
     "data": {
      "text/plain": [
       "0"
      ]
     },
     "execution_count": 7,
     "metadata": {},
     "output_type": "execute_result"
    }
   ],
   "source": [
    "csData.stock.isnull().sum()"
   ]
  },
  {
   "cell_type": "code",
   "execution_count": 8,
   "id": "34e449af-b627-46fe-af24-15ed0afd2289",
   "metadata": {},
   "outputs": [
    {
     "data": {
      "text/plain": [
       "0"
      ]
     },
     "execution_count": 8,
     "metadata": {},
     "output_type": "execute_result"
    }
   ],
   "source": [
    "csData.balance.isnull().sum()"
   ]
  },
  {
   "cell_type": "code",
   "execution_count": 9,
   "id": "47da0cac-02e5-463a-a198-f5bb61925ad8",
   "metadata": {},
   "outputs": [
    {
     "data": {
      "text/html": [
       "<div>\n",
       "<style scoped>\n",
       "    .dataframe tbody tr th:only-of-type {\n",
       "        vertical-align: middle;\n",
       "    }\n",
       "\n",
       "    .dataframe tbody tr th {\n",
       "        vertical-align: top;\n",
       "    }\n",
       "\n",
       "    .dataframe thead th {\n",
       "        text-align: right;\n",
       "    }\n",
       "</style>\n",
       "<table border=\"1\" class=\"dataframe\">\n",
       "  <thead>\n",
       "    <tr style=\"text-align: right;\">\n",
       "      <th></th>\n",
       "      <th>balance</th>\n",
       "      <th>stock</th>\n",
       "      <th>label</th>\n",
       "      <th>labelcode</th>\n",
       "    </tr>\n",
       "  </thead>\n",
       "  <tbody>\n",
       "    <tr>\n",
       "      <th>0</th>\n",
       "      <td>30000000</td>\n",
       "      <td>22500000</td>\n",
       "      <td>normal</td>\n",
       "      <td>0</td>\n",
       "    </tr>\n",
       "    <tr>\n",
       "      <th>1</th>\n",
       "      <td>280000000</td>\n",
       "      <td>48000000</td>\n",
       "      <td>diamond</td>\n",
       "      <td>1</td>\n",
       "    </tr>\n",
       "    <tr>\n",
       "      <th>2</th>\n",
       "      <td>300000000</td>\n",
       "      <td>40666666</td>\n",
       "      <td>diamond</td>\n",
       "      <td>1</td>\n",
       "    </tr>\n",
       "    <tr>\n",
       "      <th>3</th>\n",
       "      <td>54000000</td>\n",
       "      <td>28000000</td>\n",
       "      <td>normal</td>\n",
       "      <td>0</td>\n",
       "    </tr>\n",
       "    <tr>\n",
       "      <th>4</th>\n",
       "      <td>768000000</td>\n",
       "      <td>32000000</td>\n",
       "      <td>vip</td>\n",
       "      <td>2</td>\n",
       "    </tr>\n",
       "    <tr>\n",
       "      <th>...</th>\n",
       "      <td>...</td>\n",
       "      <td>...</td>\n",
       "      <td>...</td>\n",
       "      <td>...</td>\n",
       "    </tr>\n",
       "    <tr>\n",
       "      <th>19995</th>\n",
       "      <td>628000000</td>\n",
       "      <td>44666666</td>\n",
       "      <td>diamond</td>\n",
       "      <td>1</td>\n",
       "    </tr>\n",
       "    <tr>\n",
       "      <th>19996</th>\n",
       "      <td>276000000</td>\n",
       "      <td>20000000</td>\n",
       "      <td>normal</td>\n",
       "      <td>0</td>\n",
       "    </tr>\n",
       "    <tr>\n",
       "      <th>19997</th>\n",
       "      <td>652000000</td>\n",
       "      <td>41333333</td>\n",
       "      <td>diamond</td>\n",
       "      <td>1</td>\n",
       "    </tr>\n",
       "    <tr>\n",
       "      <th>19998</th>\n",
       "      <td>676000000</td>\n",
       "      <td>45333333</td>\n",
       "      <td>diamond</td>\n",
       "      <td>1</td>\n",
       "    </tr>\n",
       "    <tr>\n",
       "      <th>19999</th>\n",
       "      <td>732000000</td>\n",
       "      <td>26000000</td>\n",
       "      <td>diamond</td>\n",
       "      <td>1</td>\n",
       "    </tr>\n",
       "  </tbody>\n",
       "</table>\n",
       "<p>20000 rows × 4 columns</p>\n",
       "</div>"
      ],
      "text/plain": [
       "         balance     stock    label  labelcode\n",
       "0       30000000  22500000   normal          0\n",
       "1      280000000  48000000  diamond          1\n",
       "2      300000000  40666666  diamond          1\n",
       "3       54000000  28000000   normal          0\n",
       "4      768000000  32000000      vip          2\n",
       "...          ...       ...      ...        ...\n",
       "19995  628000000  44666666  diamond          1\n",
       "19996  276000000  20000000   normal          0\n",
       "19997  652000000  41333333  diamond          1\n",
       "19998  676000000  45333333  diamond          1\n",
       "19999  732000000  26000000  diamond          1\n",
       "\n",
       "[20000 rows x 4 columns]"
      ]
     },
     "execution_count": 9,
     "metadata": {},
     "output_type": "execute_result"
    }
   ],
   "source": [
    "labelDict = {\"normal\":0,\"diamond\":1,\"vip\":2}\n",
    "csData[\"labelcode\"] = csData.label.map(labelDict)\n",
    "csData"
   ]
  },
  {
   "cell_type": "code",
   "execution_count": 10,
   "id": "24108c24-7828-4d31-9069-fbe5bcbced4d",
   "metadata": {},
   "outputs": [
    {
     "data": {
      "text/plain": [
       "0    0\n",
       "1    1\n",
       "4    2\n",
       "Name: labelcode, dtype: int64"
      ]
     },
     "execution_count": 10,
     "metadata": {},
     "output_type": "execute_result"
    }
   ],
   "source": [
    "csData[\"labelcode\"].drop_duplicates()"
   ]
  },
  {
   "cell_type": "code",
   "execution_count": 11,
   "id": "37dee511-400c-467c-925e-cc134b18e906",
   "metadata": {},
   "outputs": [],
   "source": [
    "def minMaxNorm(indata) :\n",
    "    maxValue = max(indata)\n",
    "    minValue = min(indata)\n",
    "    deNormValue = maxValue - minValue\n",
    "\n",
    "    plusData = indata - minValue\n",
    "    outData = indata # 0을 넣기 위함\n",
    "\n",
    "    if deNormValue != 0 :\n",
    "        outData = plusData / deNormValue\n",
    "    else : \n",
    "        pass\n",
    "    return outData\n",
    "# 가장 큰값과 작은 값을 받아온다\n",
    "# 큰 값에서 작은 값을 빼서 양수 값으로 만든다 = deNormValue\n",
    "# 원래값에서 작은 수를 뺀다 = plusData\n",
    "# deNormValue가 0이 아닐경우 plusData / deNormValue를 실행한다.\n",
    "# 0일 경우에는 0으로 넣는다.\n",
    "# 모든 값이 0~1이 된다."
   ]
  },
  {
   "cell_type": "code",
   "execution_count": 12,
   "id": "99eecc4c-98a9-4a5c-9919-81c291d9e607",
   "metadata": {},
   "outputs": [
    {
     "data": {
      "text/html": [
       "<div>\n",
       "<style scoped>\n",
       "    .dataframe tbody tr th:only-of-type {\n",
       "        vertical-align: middle;\n",
       "    }\n",
       "\n",
       "    .dataframe tbody tr th {\n",
       "        vertical-align: top;\n",
       "    }\n",
       "\n",
       "    .dataframe thead th {\n",
       "        text-align: right;\n",
       "    }\n",
       "</style>\n",
       "<table border=\"1\" class=\"dataframe\">\n",
       "  <thead>\n",
       "    <tr style=\"text-align: right;\">\n",
       "      <th></th>\n",
       "      <th>balance</th>\n",
       "      <th>stock</th>\n",
       "      <th>label</th>\n",
       "      <th>labelcode</th>\n",
       "      <th>balance_norm</th>\n",
       "      <th>stock_norm</th>\n",
       "    </tr>\n",
       "  </thead>\n",
       "  <tbody>\n",
       "    <tr>\n",
       "      <th>0</th>\n",
       "      <td>30000000</td>\n",
       "      <td>22500000</td>\n",
       "      <td>normal</td>\n",
       "      <td>0</td>\n",
       "      <td>0.000000</td>\n",
       "      <td>0.080000</td>\n",
       "    </tr>\n",
       "    <tr>\n",
       "      <th>1</th>\n",
       "      <td>280000000</td>\n",
       "      <td>48000000</td>\n",
       "      <td>diamond</td>\n",
       "      <td>1</td>\n",
       "      <td>0.324675</td>\n",
       "      <td>0.488000</td>\n",
       "    </tr>\n",
       "    <tr>\n",
       "      <th>2</th>\n",
       "      <td>300000000</td>\n",
       "      <td>40666666</td>\n",
       "      <td>diamond</td>\n",
       "      <td>1</td>\n",
       "      <td>0.350649</td>\n",
       "      <td>0.370667</td>\n",
       "    </tr>\n",
       "    <tr>\n",
       "      <th>3</th>\n",
       "      <td>54000000</td>\n",
       "      <td>28000000</td>\n",
       "      <td>normal</td>\n",
       "      <td>0</td>\n",
       "      <td>0.031169</td>\n",
       "      <td>0.168000</td>\n",
       "    </tr>\n",
       "    <tr>\n",
       "      <th>4</th>\n",
       "      <td>768000000</td>\n",
       "      <td>32000000</td>\n",
       "      <td>vip</td>\n",
       "      <td>2</td>\n",
       "      <td>0.958442</td>\n",
       "      <td>0.232000</td>\n",
       "    </tr>\n",
       "    <tr>\n",
       "      <th>...</th>\n",
       "      <td>...</td>\n",
       "      <td>...</td>\n",
       "      <td>...</td>\n",
       "      <td>...</td>\n",
       "      <td>...</td>\n",
       "      <td>...</td>\n",
       "    </tr>\n",
       "    <tr>\n",
       "      <th>19995</th>\n",
       "      <td>628000000</td>\n",
       "      <td>44666666</td>\n",
       "      <td>diamond</td>\n",
       "      <td>1</td>\n",
       "      <td>0.776623</td>\n",
       "      <td>0.434667</td>\n",
       "    </tr>\n",
       "    <tr>\n",
       "      <th>19996</th>\n",
       "      <td>276000000</td>\n",
       "      <td>20000000</td>\n",
       "      <td>normal</td>\n",
       "      <td>0</td>\n",
       "      <td>0.319481</td>\n",
       "      <td>0.040000</td>\n",
       "    </tr>\n",
       "    <tr>\n",
       "      <th>19997</th>\n",
       "      <td>652000000</td>\n",
       "      <td>41333333</td>\n",
       "      <td>diamond</td>\n",
       "      <td>1</td>\n",
       "      <td>0.807792</td>\n",
       "      <td>0.381333</td>\n",
       "    </tr>\n",
       "    <tr>\n",
       "      <th>19998</th>\n",
       "      <td>676000000</td>\n",
       "      <td>45333333</td>\n",
       "      <td>diamond</td>\n",
       "      <td>1</td>\n",
       "      <td>0.838961</td>\n",
       "      <td>0.445333</td>\n",
       "    </tr>\n",
       "    <tr>\n",
       "      <th>19999</th>\n",
       "      <td>732000000</td>\n",
       "      <td>26000000</td>\n",
       "      <td>diamond</td>\n",
       "      <td>1</td>\n",
       "      <td>0.911688</td>\n",
       "      <td>0.136000</td>\n",
       "    </tr>\n",
       "  </tbody>\n",
       "</table>\n",
       "<p>20000 rows × 6 columns</p>\n",
       "</div>"
      ],
      "text/plain": [
       "         balance     stock    label  labelcode  balance_norm  stock_norm\n",
       "0       30000000  22500000   normal          0      0.000000    0.080000\n",
       "1      280000000  48000000  diamond          1      0.324675    0.488000\n",
       "2      300000000  40666666  diamond          1      0.350649    0.370667\n",
       "3       54000000  28000000   normal          0      0.031169    0.168000\n",
       "4      768000000  32000000      vip          2      0.958442    0.232000\n",
       "...          ...       ...      ...        ...           ...         ...\n",
       "19995  628000000  44666666  diamond          1      0.776623    0.434667\n",
       "19996  276000000  20000000   normal          0      0.319481    0.040000\n",
       "19997  652000000  41333333  diamond          1      0.807792    0.381333\n",
       "19998  676000000  45333333  diamond          1      0.838961    0.445333\n",
       "19999  732000000  26000000  diamond          1      0.911688    0.136000\n",
       "\n",
       "[20000 rows x 6 columns]"
      ]
     },
     "execution_count": 12,
     "metadata": {},
     "output_type": "execute_result"
    }
   ],
   "source": [
    "csData[\"balance_norm\"] = minMaxNorm(csData.balance)\n",
    "csData[\"stock_norm\"] = minMaxNorm(csData.stock)\n",
    "csData"
   ]
  },
  {
   "cell_type": "code",
   "execution_count": 13,
   "id": "2ed88e78-1151-44b0-a23f-f76468012619",
   "metadata": {},
   "outputs": [
    {
     "data": {
      "text/html": [
       "<div>\n",
       "<style scoped>\n",
       "    .dataframe tbody tr th:only-of-type {\n",
       "        vertical-align: middle;\n",
       "    }\n",
       "\n",
       "    .dataframe tbody tr th {\n",
       "        vertical-align: top;\n",
       "    }\n",
       "\n",
       "    .dataframe thead th {\n",
       "        text-align: right;\n",
       "    }\n",
       "</style>\n",
       "<table border=\"1\" class=\"dataframe\">\n",
       "  <thead>\n",
       "    <tr style=\"text-align: right;\">\n",
       "      <th></th>\n",
       "      <th>balance</th>\n",
       "      <th>stock</th>\n",
       "      <th>labelcode</th>\n",
       "      <th>balance_norm</th>\n",
       "      <th>stock_norm</th>\n",
       "    </tr>\n",
       "  </thead>\n",
       "  <tbody>\n",
       "    <tr>\n",
       "      <th>balance</th>\n",
       "      <td>1.000000</td>\n",
       "      <td>0.565942</td>\n",
       "      <td>0.883144</td>\n",
       "      <td>1.000000</td>\n",
       "      <td>0.565942</td>\n",
       "    </tr>\n",
       "    <tr>\n",
       "      <th>stock</th>\n",
       "      <td>0.565942</td>\n",
       "      <td>1.000000</td>\n",
       "      <td>0.824174</td>\n",
       "      <td>0.565942</td>\n",
       "      <td>1.000000</td>\n",
       "    </tr>\n",
       "    <tr>\n",
       "      <th>labelcode</th>\n",
       "      <td>0.883144</td>\n",
       "      <td>0.824174</td>\n",
       "      <td>1.000000</td>\n",
       "      <td>0.883144</td>\n",
       "      <td>0.824174</td>\n",
       "    </tr>\n",
       "    <tr>\n",
       "      <th>balance_norm</th>\n",
       "      <td>1.000000</td>\n",
       "      <td>0.565942</td>\n",
       "      <td>0.883144</td>\n",
       "      <td>1.000000</td>\n",
       "      <td>0.565942</td>\n",
       "    </tr>\n",
       "    <tr>\n",
       "      <th>stock_norm</th>\n",
       "      <td>0.565942</td>\n",
       "      <td>1.000000</td>\n",
       "      <td>0.824174</td>\n",
       "      <td>0.565942</td>\n",
       "      <td>1.000000</td>\n",
       "    </tr>\n",
       "  </tbody>\n",
       "</table>\n",
       "</div>"
      ],
      "text/plain": [
       "               balance     stock  labelcode  balance_norm  stock_norm\n",
       "balance       1.000000  0.565942   0.883144      1.000000    0.565942\n",
       "stock         0.565942  1.000000   0.824174      0.565942    1.000000\n",
       "labelcode     0.883144  0.824174   1.000000      0.883144    0.824174\n",
       "balance_norm  1.000000  0.565942   0.883144      1.000000    0.565942\n",
       "stock_norm    0.565942  1.000000   0.824174      0.565942    1.000000"
      ]
     },
     "execution_count": 13,
     "metadata": {},
     "output_type": "execute_result"
    }
   ],
   "source": [
    "corrDf = csData.corr()\n",
    "corrDf"
   ]
  },
  {
   "cell_type": "code",
   "execution_count": 14,
   "id": "996d1ca6-46ee-4c95-96d5-a008b0777139",
   "metadata": {},
   "outputs": [
    {
     "data": {
      "text/plain": [
       "['balance_norm', 'stock_norm']"
      ]
     },
     "execution_count": 14,
     "metadata": {},
     "output_type": "execute_result"
    }
   ],
   "source": [
    "feature_col = (list(corrDf.loc[(abs(corrDf.labelcode)>0.5) & (corrDf.labelcode != 1)].index))\n",
    "features_Col = feature_col[2:]\n",
    "features_Col"
   ]
  },
  {
   "cell_type": "code",
   "execution_count": 15,
   "id": "06fadd54-ddab-47bb-bf93-e0f8668f3e72",
   "metadata": {},
   "outputs": [],
   "source": [
    "labelCol = [\"label\"]"
   ]
  },
  {
   "cell_type": "code",
   "execution_count": 16,
   "id": "c331b4e8-b8c7-49eb-964c-65a482d3d45e",
   "metadata": {},
   "outputs": [],
   "source": [
    "featuresData = csData.loc[:,features_Col]\n",
    "labelData = csData.loc[:,labelCol]"
   ]
  },
  {
   "cell_type": "code",
   "execution_count": 17,
   "id": "fa90f9fe-ef71-4358-9f1b-240785f22398",
   "metadata": {},
   "outputs": [
    {
     "name": "stdout",
     "output_type": "stream",
     "text": [
      "(20000, 2)\n",
      "(20000, 1)\n"
     ]
    }
   ],
   "source": [
    "print(featuresData.shape)\n",
    "print(labelData.shape)"
   ]
  },
  {
   "cell_type": "code",
   "execution_count": 18,
   "id": "ef455f5b-c89e-4e4e-953e-8c2e86947bc2",
   "metadata": {},
   "outputs": [],
   "source": [
    "trainingData_features, \\\n",
    "testData_features, \\\n",
    "trainingData_label, \\\n",
    "testData_label = train_test_split(featuresData, labelData, test_size = 0.3, random_state = 1)"
   ]
  },
  {
   "cell_type": "code",
   "execution_count": 19,
   "id": "1eab3570-c17b-4026-8c5b-bef527048b3e",
   "metadata": {},
   "outputs": [
    {
     "name": "stdout",
     "output_type": "stream",
     "text": [
      "(14000, 2)\n",
      "(14000, 1)\n",
      "(6000, 2)\n",
      "(6000, 1)\n"
     ]
    }
   ],
   "source": [
    "print(trainingData_features.shape)\n",
    "print(trainingData_label.shape)\n",
    "print(testData_features.shape)\n",
    "print(testData_label.shape)"
   ]
  },
  {
   "cell_type": "code",
   "execution_count": 20,
   "id": "8bf73749-b387-4f1a-b921-516563bf2486",
   "metadata": {},
   "outputs": [],
   "source": [
    "model_method = svm.SVC(random_state=1)\n",
    "# svm = 선형분리)\n",
    "# = dtModel"
   ]
  },
  {
   "cell_type": "code",
   "execution_count": 21,
   "id": "38c06b5d-854c-444e-82fd-ec954b2f2a1e",
   "metadata": {},
   "outputs": [
    {
     "name": "stderr",
     "output_type": "stream",
     "text": [
      "C:\\Users\\caose\\anaconda3\\lib\\site-packages\\sklearn\\utils\\validation.py:993: DataConversionWarning: A column-vector y was passed when a 1d array was expected. Please change the shape of y to (n_samples, ), for example using ravel().\n",
      "  y = column_or_1d(y, warn=True)\n"
     ]
    }
   ],
   "source": [
    "model = model_method.fit(X = trainingData_features,\n",
    "                         y = trainingData_label)\n",
    "# 학습된 dtModel"
   ]
  },
  {
   "cell_type": "code",
   "execution_count": 22,
   "id": "bcaf3f2d-a1fb-496d-9498-83547df3ad1e",
   "metadata": {},
   "outputs": [],
   "source": [
    "predict = model.predict(X = testData_features)"
   ]
  },
  {
   "cell_type": "code",
   "execution_count": 23,
   "id": "4c4a8df0-70a2-45f9-b361-b629eef610e1",
   "metadata": {
    "tags": []
   },
   "outputs": [
    {
     "data": {
      "text/html": [
       "<div>\n",
       "<style scoped>\n",
       "    .dataframe tbody tr th:only-of-type {\n",
       "        vertical-align: middle;\n",
       "    }\n",
       "\n",
       "    .dataframe tbody tr th {\n",
       "        vertical-align: top;\n",
       "    }\n",
       "\n",
       "    .dataframe thead th {\n",
       "        text-align: right;\n",
       "    }\n",
       "</style>\n",
       "<table border=\"1\" class=\"dataframe\">\n",
       "  <thead>\n",
       "    <tr style=\"text-align: right;\">\n",
       "      <th></th>\n",
       "      <th>predict</th>\n",
       "    </tr>\n",
       "  </thead>\n",
       "  <tbody>\n",
       "    <tr>\n",
       "      <th>0</th>\n",
       "      <td>diamond</td>\n",
       "    </tr>\n",
       "    <tr>\n",
       "      <th>1</th>\n",
       "      <td>diamond</td>\n",
       "    </tr>\n",
       "    <tr>\n",
       "      <th>2</th>\n",
       "      <td>diamond</td>\n",
       "    </tr>\n",
       "    <tr>\n",
       "      <th>3</th>\n",
       "      <td>normal</td>\n",
       "    </tr>\n",
       "    <tr>\n",
       "      <th>4</th>\n",
       "      <td>normal</td>\n",
       "    </tr>\n",
       "    <tr>\n",
       "      <th>...</th>\n",
       "      <td>...</td>\n",
       "    </tr>\n",
       "    <tr>\n",
       "      <th>5995</th>\n",
       "      <td>diamond</td>\n",
       "    </tr>\n",
       "    <tr>\n",
       "      <th>5996</th>\n",
       "      <td>diamond</td>\n",
       "    </tr>\n",
       "    <tr>\n",
       "      <th>5997</th>\n",
       "      <td>diamond</td>\n",
       "    </tr>\n",
       "    <tr>\n",
       "      <th>5998</th>\n",
       "      <td>vip</td>\n",
       "    </tr>\n",
       "    <tr>\n",
       "      <th>5999</th>\n",
       "      <td>diamond</td>\n",
       "    </tr>\n",
       "  </tbody>\n",
       "</table>\n",
       "<p>6000 rows × 1 columns</p>\n",
       "</div>"
      ],
      "text/plain": [
       "      predict\n",
       "0     diamond\n",
       "1     diamond\n",
       "2     diamond\n",
       "3      normal\n",
       "4      normal\n",
       "...       ...\n",
       "5995  diamond\n",
       "5996  diamond\n",
       "5997  diamond\n",
       "5998      vip\n",
       "5999  diamond\n",
       "\n",
       "[6000 rows x 1 columns]"
      ]
     },
     "execution_count": 23,
     "metadata": {},
     "output_type": "execute_result"
    }
   ],
   "source": [
    "predictData = pd.DataFrame(predict, columns = [\"predict\"])\n",
    "predictData"
   ]
  },
  {
   "cell_type": "code",
   "execution_count": 24,
   "id": "19b8cd16-2258-4091-97b5-77b17aade450",
   "metadata": {},
   "outputs": [],
   "source": [
    "testData_label.reset_index(drop=True, inplace=True) "
   ]
  },
  {
   "cell_type": "code",
   "execution_count": 33,
   "id": "a540cd99-e478-4ada-8283-b8f2dacb6059",
   "metadata": {
    "tags": []
   },
   "outputs": [
    {
     "data": {
      "text/html": [
       "<div>\n",
       "<style scoped>\n",
       "    .dataframe tbody tr th:only-of-type {\n",
       "        vertical-align: middle;\n",
       "    }\n",
       "\n",
       "    .dataframe tbody tr th {\n",
       "        vertical-align: top;\n",
       "    }\n",
       "\n",
       "    .dataframe thead th {\n",
       "        text-align: right;\n",
       "    }\n",
       "</style>\n",
       "<table border=\"1\" class=\"dataframe\">\n",
       "  <thead>\n",
       "    <tr style=\"text-align: right;\">\n",
       "      <th></th>\n",
       "      <th>label</th>\n",
       "      <th>predict</th>\n",
       "    </tr>\n",
       "  </thead>\n",
       "  <tbody>\n",
       "    <tr>\n",
       "      <th>0</th>\n",
       "      <td>diamond</td>\n",
       "      <td>diamond</td>\n",
       "    </tr>\n",
       "    <tr>\n",
       "      <th>1</th>\n",
       "      <td>diamond</td>\n",
       "      <td>diamond</td>\n",
       "    </tr>\n",
       "    <tr>\n",
       "      <th>2</th>\n",
       "      <td>diamond</td>\n",
       "      <td>diamond</td>\n",
       "    </tr>\n",
       "    <tr>\n",
       "      <th>3</th>\n",
       "      <td>normal</td>\n",
       "      <td>normal</td>\n",
       "    </tr>\n",
       "    <tr>\n",
       "      <th>4</th>\n",
       "      <td>normal</td>\n",
       "      <td>normal</td>\n",
       "    </tr>\n",
       "    <tr>\n",
       "      <th>...</th>\n",
       "      <td>...</td>\n",
       "      <td>...</td>\n",
       "    </tr>\n",
       "    <tr>\n",
       "      <th>5995</th>\n",
       "      <td>diamond</td>\n",
       "      <td>diamond</td>\n",
       "    </tr>\n",
       "    <tr>\n",
       "      <th>5996</th>\n",
       "      <td>diamond</td>\n",
       "      <td>diamond</td>\n",
       "    </tr>\n",
       "    <tr>\n",
       "      <th>5997</th>\n",
       "      <td>diamond</td>\n",
       "      <td>diamond</td>\n",
       "    </tr>\n",
       "    <tr>\n",
       "      <th>5998</th>\n",
       "      <td>vip</td>\n",
       "      <td>vip</td>\n",
       "    </tr>\n",
       "    <tr>\n",
       "      <th>5999</th>\n",
       "      <td>diamond</td>\n",
       "      <td>diamond</td>\n",
       "    </tr>\n",
       "  </tbody>\n",
       "</table>\n",
       "<p>6000 rows × 2 columns</p>\n",
       "</div>"
      ],
      "text/plain": [
       "        label  predict\n",
       "0     diamond  diamond\n",
       "1     diamond  diamond\n",
       "2     diamond  diamond\n",
       "3      normal   normal\n",
       "4      normal   normal\n",
       "...       ...      ...\n",
       "5995  diamond  diamond\n",
       "5996  diamond  diamond\n",
       "5997  diamond  diamond\n",
       "5998      vip      vip\n",
       "5999  diamond  diamond\n",
       "\n",
       "[6000 rows x 2 columns]"
      ]
     },
     "execution_count": 33,
     "metadata": {},
     "output_type": "execute_result"
    }
   ],
   "source": [
    "fianlData = pd.concat( [testData_label, predictData], axis=1)\n",
    "fianlData"
   ]
  },
  {
   "cell_type": "code",
   "execution_count": 34,
   "id": "ee0268a6-8828-431e-bd04-60eb85afb6ab",
   "metadata": {},
   "outputs": [
    {
     "data": {
      "text/html": [
       "<div>\n",
       "<style scoped>\n",
       "    .dataframe tbody tr th:only-of-type {\n",
       "        vertical-align: middle;\n",
       "    }\n",
       "\n",
       "    .dataframe tbody tr th {\n",
       "        vertical-align: top;\n",
       "    }\n",
       "\n",
       "    .dataframe thead th {\n",
       "        text-align: right;\n",
       "    }\n",
       "</style>\n",
       "<table border=\"1\" class=\"dataframe\">\n",
       "  <thead>\n",
       "    <tr style=\"text-align: right;\">\n",
       "      <th></th>\n",
       "      <th>balance</th>\n",
       "      <th>stock</th>\n",
       "      <th>label</th>\n",
       "      <th>labelcode</th>\n",
       "      <th>balance_norm</th>\n",
       "      <th>stock_norm</th>\n",
       "    </tr>\n",
       "  </thead>\n",
       "  <tbody>\n",
       "    <tr>\n",
       "      <th>0</th>\n",
       "      <td>30000000</td>\n",
       "      <td>22500000</td>\n",
       "      <td>normal</td>\n",
       "      <td>0</td>\n",
       "      <td>0.000000</td>\n",
       "      <td>0.080000</td>\n",
       "    </tr>\n",
       "    <tr>\n",
       "      <th>1</th>\n",
       "      <td>280000000</td>\n",
       "      <td>48000000</td>\n",
       "      <td>diamond</td>\n",
       "      <td>1</td>\n",
       "      <td>0.324675</td>\n",
       "      <td>0.488000</td>\n",
       "    </tr>\n",
       "    <tr>\n",
       "      <th>2</th>\n",
       "      <td>300000000</td>\n",
       "      <td>40666666</td>\n",
       "      <td>diamond</td>\n",
       "      <td>1</td>\n",
       "      <td>0.350649</td>\n",
       "      <td>0.370667</td>\n",
       "    </tr>\n",
       "    <tr>\n",
       "      <th>3</th>\n",
       "      <td>54000000</td>\n",
       "      <td>28000000</td>\n",
       "      <td>normal</td>\n",
       "      <td>0</td>\n",
       "      <td>0.031169</td>\n",
       "      <td>0.168000</td>\n",
       "    </tr>\n",
       "    <tr>\n",
       "      <th>4</th>\n",
       "      <td>768000000</td>\n",
       "      <td>32000000</td>\n",
       "      <td>vip</td>\n",
       "      <td>2</td>\n",
       "      <td>0.958442</td>\n",
       "      <td>0.232000</td>\n",
       "    </tr>\n",
       "    <tr>\n",
       "      <th>...</th>\n",
       "      <td>...</td>\n",
       "      <td>...</td>\n",
       "      <td>...</td>\n",
       "      <td>...</td>\n",
       "      <td>...</td>\n",
       "      <td>...</td>\n",
       "    </tr>\n",
       "    <tr>\n",
       "      <th>5995</th>\n",
       "      <td>648000000</td>\n",
       "      <td>51333333</td>\n",
       "      <td>diamond</td>\n",
       "      <td>1</td>\n",
       "      <td>0.802597</td>\n",
       "      <td>0.541333</td>\n",
       "    </tr>\n",
       "    <tr>\n",
       "      <th>5996</th>\n",
       "      <td>600000000</td>\n",
       "      <td>44666666</td>\n",
       "      <td>diamond</td>\n",
       "      <td>1</td>\n",
       "      <td>0.740260</td>\n",
       "      <td>0.434667</td>\n",
       "    </tr>\n",
       "    <tr>\n",
       "      <th>5997</th>\n",
       "      <td>712000000</td>\n",
       "      <td>25333333</td>\n",
       "      <td>diamond</td>\n",
       "      <td>1</td>\n",
       "      <td>0.885714</td>\n",
       "      <td>0.125333</td>\n",
       "    </tr>\n",
       "    <tr>\n",
       "      <th>5998</th>\n",
       "      <td>612000000</td>\n",
       "      <td>39333333</td>\n",
       "      <td>diamond</td>\n",
       "      <td>1</td>\n",
       "      <td>0.755844</td>\n",
       "      <td>0.349333</td>\n",
       "    </tr>\n",
       "    <tr>\n",
       "      <th>5999</th>\n",
       "      <td>628000000</td>\n",
       "      <td>49333333</td>\n",
       "      <td>diamond</td>\n",
       "      <td>1</td>\n",
       "      <td>0.776623</td>\n",
       "      <td>0.509333</td>\n",
       "    </tr>\n",
       "  </tbody>\n",
       "</table>\n",
       "<p>6000 rows × 6 columns</p>\n",
       "</div>"
      ],
      "text/plain": [
       "        balance     stock    label  labelcode  balance_norm  stock_norm\n",
       "0      30000000  22500000   normal          0      0.000000    0.080000\n",
       "1     280000000  48000000  diamond          1      0.324675    0.488000\n",
       "2     300000000  40666666  diamond          1      0.350649    0.370667\n",
       "3      54000000  28000000   normal          0      0.031169    0.168000\n",
       "4     768000000  32000000      vip          2      0.958442    0.232000\n",
       "...         ...       ...      ...        ...           ...         ...\n",
       "5995  648000000  51333333  diamond          1      0.802597    0.541333\n",
       "5996  600000000  44666666  diamond          1      0.740260    0.434667\n",
       "5997  712000000  25333333  diamond          1      0.885714    0.125333\n",
       "5998  612000000  39333333  diamond          1      0.755844    0.349333\n",
       "5999  628000000  49333333  diamond          1      0.776623    0.509333\n",
       "\n",
       "[6000 rows x 6 columns]"
      ]
     },
     "execution_count": 34,
     "metadata": {},
     "output_type": "execute_result"
    }
   ],
   "source": [
    "labelData = csData.loc[testData_label.index,:]\n",
    "labelData.reset_index(drop=True, inplace=True)\n",
    "labelData"
   ]
  },
  {
   "cell_type": "code",
   "execution_count": 35,
   "id": "7719a9c8-ca6d-4862-9d3f-9e4093f37acf",
   "metadata": {},
   "outputs": [
    {
     "data": {
      "text/html": [
       "<div>\n",
       "<style scoped>\n",
       "    .dataframe tbody tr th:only-of-type {\n",
       "        vertical-align: middle;\n",
       "    }\n",
       "\n",
       "    .dataframe tbody tr th {\n",
       "        vertical-align: top;\n",
       "    }\n",
       "\n",
       "    .dataframe thead th {\n",
       "        text-align: right;\n",
       "    }\n",
       "</style>\n",
       "<table border=\"1\" class=\"dataframe\">\n",
       "  <thead>\n",
       "    <tr style=\"text-align: right;\">\n",
       "      <th></th>\n",
       "      <th>balance</th>\n",
       "      <th>stock</th>\n",
       "      <th>label</th>\n",
       "      <th>labelcode</th>\n",
       "      <th>balance_norm</th>\n",
       "      <th>stock_norm</th>\n",
       "      <th>predict</th>\n",
       "    </tr>\n",
       "  </thead>\n",
       "  <tbody>\n",
       "    <tr>\n",
       "      <th>0</th>\n",
       "      <td>30000000</td>\n",
       "      <td>22500000</td>\n",
       "      <td>normal</td>\n",
       "      <td>0</td>\n",
       "      <td>0.000000</td>\n",
       "      <td>0.080000</td>\n",
       "      <td>diamond</td>\n",
       "    </tr>\n",
       "    <tr>\n",
       "      <th>1</th>\n",
       "      <td>280000000</td>\n",
       "      <td>48000000</td>\n",
       "      <td>diamond</td>\n",
       "      <td>1</td>\n",
       "      <td>0.324675</td>\n",
       "      <td>0.488000</td>\n",
       "      <td>diamond</td>\n",
       "    </tr>\n",
       "    <tr>\n",
       "      <th>2</th>\n",
       "      <td>300000000</td>\n",
       "      <td>40666666</td>\n",
       "      <td>diamond</td>\n",
       "      <td>1</td>\n",
       "      <td>0.350649</td>\n",
       "      <td>0.370667</td>\n",
       "      <td>diamond</td>\n",
       "    </tr>\n",
       "    <tr>\n",
       "      <th>3</th>\n",
       "      <td>54000000</td>\n",
       "      <td>28000000</td>\n",
       "      <td>normal</td>\n",
       "      <td>0</td>\n",
       "      <td>0.031169</td>\n",
       "      <td>0.168000</td>\n",
       "      <td>normal</td>\n",
       "    </tr>\n",
       "    <tr>\n",
       "      <th>4</th>\n",
       "      <td>768000000</td>\n",
       "      <td>32000000</td>\n",
       "      <td>vip</td>\n",
       "      <td>2</td>\n",
       "      <td>0.958442</td>\n",
       "      <td>0.232000</td>\n",
       "      <td>normal</td>\n",
       "    </tr>\n",
       "    <tr>\n",
       "      <th>...</th>\n",
       "      <td>...</td>\n",
       "      <td>...</td>\n",
       "      <td>...</td>\n",
       "      <td>...</td>\n",
       "      <td>...</td>\n",
       "      <td>...</td>\n",
       "      <td>...</td>\n",
       "    </tr>\n",
       "    <tr>\n",
       "      <th>5995</th>\n",
       "      <td>648000000</td>\n",
       "      <td>51333333</td>\n",
       "      <td>diamond</td>\n",
       "      <td>1</td>\n",
       "      <td>0.802597</td>\n",
       "      <td>0.541333</td>\n",
       "      <td>diamond</td>\n",
       "    </tr>\n",
       "    <tr>\n",
       "      <th>5996</th>\n",
       "      <td>600000000</td>\n",
       "      <td>44666666</td>\n",
       "      <td>diamond</td>\n",
       "      <td>1</td>\n",
       "      <td>0.740260</td>\n",
       "      <td>0.434667</td>\n",
       "      <td>diamond</td>\n",
       "    </tr>\n",
       "    <tr>\n",
       "      <th>5997</th>\n",
       "      <td>712000000</td>\n",
       "      <td>25333333</td>\n",
       "      <td>diamond</td>\n",
       "      <td>1</td>\n",
       "      <td>0.885714</td>\n",
       "      <td>0.125333</td>\n",
       "      <td>diamond</td>\n",
       "    </tr>\n",
       "    <tr>\n",
       "      <th>5998</th>\n",
       "      <td>612000000</td>\n",
       "      <td>39333333</td>\n",
       "      <td>diamond</td>\n",
       "      <td>1</td>\n",
       "      <td>0.755844</td>\n",
       "      <td>0.349333</td>\n",
       "      <td>vip</td>\n",
       "    </tr>\n",
       "    <tr>\n",
       "      <th>5999</th>\n",
       "      <td>628000000</td>\n",
       "      <td>49333333</td>\n",
       "      <td>diamond</td>\n",
       "      <td>1</td>\n",
       "      <td>0.776623</td>\n",
       "      <td>0.509333</td>\n",
       "      <td>diamond</td>\n",
       "    </tr>\n",
       "  </tbody>\n",
       "</table>\n",
       "<p>6000 rows × 7 columns</p>\n",
       "</div>"
      ],
      "text/plain": [
       "        balance     stock    label  labelcode  balance_norm  stock_norm  \\\n",
       "0      30000000  22500000   normal          0      0.000000    0.080000   \n",
       "1     280000000  48000000  diamond          1      0.324675    0.488000   \n",
       "2     300000000  40666666  diamond          1      0.350649    0.370667   \n",
       "3      54000000  28000000   normal          0      0.031169    0.168000   \n",
       "4     768000000  32000000      vip          2      0.958442    0.232000   \n",
       "...         ...       ...      ...        ...           ...         ...   \n",
       "5995  648000000  51333333  diamond          1      0.802597    0.541333   \n",
       "5996  600000000  44666666  diamond          1      0.740260    0.434667   \n",
       "5997  712000000  25333333  diamond          1      0.885714    0.125333   \n",
       "5998  612000000  39333333  diamond          1      0.755844    0.349333   \n",
       "5999  628000000  49333333  diamond          1      0.776623    0.509333   \n",
       "\n",
       "      predict  \n",
       "0     diamond  \n",
       "1     diamond  \n",
       "2     diamond  \n",
       "3      normal  \n",
       "4      normal  \n",
       "...       ...  \n",
       "5995  diamond  \n",
       "5996  diamond  \n",
       "5997  diamond  \n",
       "5998      vip  \n",
       "5999  diamond  \n",
       "\n",
       "[6000 rows x 7 columns]"
      ]
     },
     "execution_count": 35,
     "metadata": {},
     "output_type": "execute_result"
    }
   ],
   "source": [
    "finalResult = pd.concat( [labelData, predictData], axis=1) \n",
    "finalResult"
   ]
  },
  {
   "cell_type": "code",
   "execution_count": 36,
   "id": "372460a3-efaa-46eb-bf94-a41d144b2147",
   "metadata": {},
   "outputs": [],
   "source": [
    "ac_score = accuracy_score(finalResult.label, finalResult.predict)\n",
    "cl_report = classification_report(finalResult.label, finalResult.predict)"
   ]
  },
  {
   "cell_type": "code",
   "execution_count": 37,
   "id": "f30bceb4-da81-4412-956c-340a88adbfa0",
   "metadata": {},
   "outputs": [
    {
     "name": "stdout",
     "output_type": "stream",
     "text": [
      "0.43766666666666665\n"
     ]
    }
   ],
   "source": [
    "print(ac_score)\n",
    "# finalData를 굳이 train과 합치지 않아도 내용물은 같은데, 결과는 다르다.\n",
    "# 어쩌면 합쳐놓으면, label만이 아니라 다른 요소들도 고려하는게 아닐까?\n",
    "# 하지만 그안에서 값을 골라서 넣었으니 아닐것이다."
   ]
  },
  {
   "cell_type": "code",
   "execution_count": 38,
   "id": "44345ba2-8fea-4acf-9752-8d1073b6c700",
   "metadata": {},
   "outputs": [
    {
     "name": "stdout",
     "output_type": "stream",
     "text": [
      "              precision    recall  f1-score   support\n",
      "\n",
      "     diamond       0.58      0.57      0.57      3517\n",
      "      normal       0.29      0.30      0.30      1734\n",
      "         vip       0.12      0.12      0.12       749\n",
      "\n",
      "    accuracy                           0.44      6000\n",
      "   macro avg       0.33      0.33      0.33      6000\n",
      "weighted avg       0.44      0.44      0.44      6000\n",
      "\n"
     ]
    }
   ],
   "source": [
    "print(cl_report)"
   ]
  },
  {
   "cell_type": "code",
   "execution_count": null,
   "id": "e7bb33d2-94ca-4deb-b74a-c48cd8512554",
   "metadata": {},
   "outputs": [],
   "source": [
    "# 합치기 전에 데이터프레임에서 가져온 값"
   ]
  },
  {
   "cell_type": "code",
   "execution_count": 39,
   "id": "7b06fb40-325d-448b-b2ba-fb4d7c399792",
   "metadata": {},
   "outputs": [
    {
     "name": "stdout",
     "output_type": "stream",
     "text": [
      "0.9953333333333333\n"
     ]
    }
   ],
   "source": [
    "print(accuracy_score(fianlData.label,fianlData.predict))"
   ]
  },
  {
   "cell_type": "code",
   "execution_count": 40,
   "id": "fa5de0ab-5ee1-4f08-8bb1-da888623b979",
   "metadata": {},
   "outputs": [
    {
     "name": "stdout",
     "output_type": "stream",
     "text": [
      "              precision    recall  f1-score   support\n",
      "\n",
      "     diamond       1.00      1.00      1.00      3483\n",
      "      normal       0.99      0.99      0.99      1803\n",
      "         vip       0.99      0.99      0.99       714\n",
      "\n",
      "    accuracy                           1.00      6000\n",
      "   macro avg       1.00      0.99      0.99      6000\n",
      "weighted avg       1.00      1.00      1.00      6000\n",
      "\n"
     ]
    }
   ],
   "source": [
    "print(classification_report(fianlData.label,fianlData.predict))"
   ]
  }
 ],
 "metadata": {
  "kernelspec": {
   "display_name": "Python 3 (ipykernel)",
   "language": "python",
   "name": "python3"
  },
  "language_info": {
   "codemirror_mode": {
    "name": "ipython",
    "version": 3
   },
   "file_extension": ".py",
   "mimetype": "text/x-python",
   "name": "python",
   "nbconvert_exporter": "python",
   "pygments_lexer": "ipython3",
   "version": "3.9.13"
  }
 },
 "nbformat": 4,
 "nbformat_minor": 5
}
