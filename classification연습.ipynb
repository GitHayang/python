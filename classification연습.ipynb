{
 "cells": [
  {
   "cell_type": "code",
   "execution_count": 1,
   "id": "6ef8a26e-edd1-4ff0-aa4b-4bd165c0ab38",
   "metadata": {},
   "outputs": [],
   "source": [
    "import pandas as pd\n",
    "import numpy as np\n",
    "\n",
    "from sklearn import svm\n",
    "\n",
    "# train, test 데이터 자동 분리\n",
    "from sklearn.model_selection import train_test_split\n",
    "# classification에서 쓸 수 있게 0~1값으로 치환해줌\n",
    "from sklearn.preprocessing import minmax_scale\n",
    "# 칼럼에 있는 수많은 값들을 컴퓨터가 학습할 수 있는 숫자로 바꿔준다.\n",
    "from sklearn.preprocessing import LabelEncoder\n",
    "# 정답과 예측을 넣으면, 정확도를 산출해서 보여준다.\n",
    "from sklearn.metrics import accuracy_score\n",
    "# 평가지표를 한눈에 보게해주는 라이브러리\n",
    "from sklearn.metrics import classification_report"
   ]
  },
  {
   "cell_type": "code",
   "execution_count": 2,
   "id": "75cbd270-d4b1-458c-911a-7175d73c0d43",
   "metadata": {},
   "outputs": [
    {
     "data": {
      "text/html": [
       "<div>\n",
       "<style scoped>\n",
       "    .dataframe tbody tr th:only-of-type {\n",
       "        vertical-align: middle;\n",
       "    }\n",
       "\n",
       "    .dataframe tbody tr th {\n",
       "        vertical-align: top;\n",
       "    }\n",
       "\n",
       "    .dataframe thead th {\n",
       "        text-align: right;\n",
       "    }\n",
       "</style>\n",
       "<table border=\"1\" class=\"dataframe\">\n",
       "  <thead>\n",
       "    <tr style=\"text-align: right;\">\n",
       "      <th></th>\n",
       "      <th>balance</th>\n",
       "      <th>stock</th>\n",
       "      <th>label</th>\n",
       "    </tr>\n",
       "  </thead>\n",
       "  <tbody>\n",
       "    <tr>\n",
       "      <th>0</th>\n",
       "      <td>30000000</td>\n",
       "      <td>22500000</td>\n",
       "      <td>normal</td>\n",
       "    </tr>\n",
       "    <tr>\n",
       "      <th>1</th>\n",
       "      <td>280000000</td>\n",
       "      <td>48000000</td>\n",
       "      <td>diamond</td>\n",
       "    </tr>\n",
       "    <tr>\n",
       "      <th>2</th>\n",
       "      <td>300000000</td>\n",
       "      <td>40666666</td>\n",
       "      <td>diamond</td>\n",
       "    </tr>\n",
       "    <tr>\n",
       "      <th>3</th>\n",
       "      <td>54000000</td>\n",
       "      <td>28000000</td>\n",
       "      <td>normal</td>\n",
       "    </tr>\n",
       "    <tr>\n",
       "      <th>4</th>\n",
       "      <td>768000000</td>\n",
       "      <td>32000000</td>\n",
       "      <td>vip</td>\n",
       "    </tr>\n",
       "    <tr>\n",
       "      <th>...</th>\n",
       "      <td>...</td>\n",
       "      <td>...</td>\n",
       "      <td>...</td>\n",
       "    </tr>\n",
       "    <tr>\n",
       "      <th>19995</th>\n",
       "      <td>628000000</td>\n",
       "      <td>44666666</td>\n",
       "      <td>diamond</td>\n",
       "    </tr>\n",
       "    <tr>\n",
       "      <th>19996</th>\n",
       "      <td>276000000</td>\n",
       "      <td>20000000</td>\n",
       "      <td>normal</td>\n",
       "    </tr>\n",
       "    <tr>\n",
       "      <th>19997</th>\n",
       "      <td>652000000</td>\n",
       "      <td>41333333</td>\n",
       "      <td>diamond</td>\n",
       "    </tr>\n",
       "    <tr>\n",
       "      <th>19998</th>\n",
       "      <td>676000000</td>\n",
       "      <td>45333333</td>\n",
       "      <td>diamond</td>\n",
       "    </tr>\n",
       "    <tr>\n",
       "      <th>19999</th>\n",
       "      <td>732000000</td>\n",
       "      <td>26000000</td>\n",
       "      <td>diamond</td>\n",
       "    </tr>\n",
       "  </tbody>\n",
       "</table>\n",
       "<p>20000 rows × 3 columns</p>\n",
       "</div>"
      ],
      "text/plain": [
       "         balance     stock    label\n",
       "0       30000000  22500000   normal\n",
       "1      280000000  48000000  diamond\n",
       "2      300000000  40666666  diamond\n",
       "3       54000000  28000000   normal\n",
       "4      768000000  32000000      vip\n",
       "...          ...       ...      ...\n",
       "19995  628000000  44666666  diamond\n",
       "19996  276000000  20000000   normal\n",
       "19997  652000000  41333333  diamond\n",
       "19998  676000000  45333333  diamond\n",
       "19999  732000000  26000000  diamond\n",
       "\n",
       "[20000 rows x 3 columns]"
      ]
     },
     "execution_count": 2,
     "metadata": {},
     "output_type": "execute_result"
    }
   ],
   "source": [
    "csData = pd.read_csv(\"../dataset/customer.csv\")\n",
    "csData"
   ]
  },
  {
   "cell_type": "code",
   "execution_count": 3,
   "id": "e0b4930e-5140-43b9-a4ab-add4b9b84377",
   "metadata": {},
   "outputs": [
    {
     "data": {
      "text/plain": [
       "0        30000000\n",
       "1       280000000\n",
       "2       300000000\n",
       "3        54000000\n",
       "4       768000000\n",
       "          ...    \n",
       "717     516000000\n",
       "778     318000000\n",
       "801     320000000\n",
       "1239    508000000\n",
       "5763    484000000\n",
       "Name: balance, Length: 129, dtype: int64"
      ]
     },
     "execution_count": 3,
     "metadata": {},
     "output_type": "execute_result"
    }
   ],
   "source": [
    "csData.balance.drop_duplicates()"
   ]
  },
  {
   "cell_type": "code",
   "execution_count": 4,
   "id": "06e178a1-ce92-482a-877d-22e43a5bc861",
   "metadata": {},
   "outputs": [
    {
     "data": {
      "text/plain": [
       "0       22500000\n",
       "1       48000000\n",
       "2       40666666\n",
       "3       28000000\n",
       "4       32000000\n",
       "          ...   \n",
       "1085    31000000\n",
       "1378    39500000\n",
       "1401    38500000\n",
       "2494    39000000\n",
       "5725    51000000\n",
       "Name: stock, Length: 112, dtype: int64"
      ]
     },
     "execution_count": 4,
     "metadata": {},
     "output_type": "execute_result"
    }
   ],
   "source": [
    "csData.stock.drop_duplicates()"
   ]
  },
  {
   "cell_type": "code",
   "execution_count": 5,
   "id": "c51d1f16-cc2e-44e6-9054-79a6b811be02",
   "metadata": {},
   "outputs": [
    {
     "data": {
      "text/plain": [
       "0     normal\n",
       "1    diamond\n",
       "4        vip\n",
       "Name: label, dtype: object"
      ]
     },
     "execution_count": 5,
     "metadata": {},
     "output_type": "execute_result"
    }
   ],
   "source": [
    "csData.label.drop_duplicates()"
   ]
  },
  {
   "cell_type": "code",
   "execution_count": 6,
   "id": "a506a519-9dff-4bd0-8caf-417701f6867d",
   "metadata": {},
   "outputs": [
    {
     "data": {
      "text/plain": [
       "0"
      ]
     },
     "execution_count": 6,
     "metadata": {},
     "output_type": "execute_result"
    }
   ],
   "source": [
    "csData.label.isnull().sum()"
   ]
  },
  {
   "cell_type": "code",
   "execution_count": 7,
   "id": "fa077323-046e-418c-b4b4-39c87184551b",
   "metadata": {},
   "outputs": [
    {
     "data": {
      "text/plain": [
       "0"
      ]
     },
     "execution_count": 7,
     "metadata": {},
     "output_type": "execute_result"
    }
   ],
   "source": [
    "csData.stock.isnull().sum()"
   ]
  },
  {
   "cell_type": "code",
   "execution_count": 8,
   "id": "34e449af-b627-46fe-af24-15ed0afd2289",
   "metadata": {},
   "outputs": [
    {
     "data": {
      "text/plain": [
       "0"
      ]
     },
     "execution_count": 8,
     "metadata": {},
     "output_type": "execute_result"
    }
   ],
   "source": [
    "csData.balance.isnull().sum()"
   ]
  },
  {
   "cell_type": "code",
   "execution_count": 9,
   "id": "47da0cac-02e5-463a-a198-f5bb61925ad8",
   "metadata": {},
   "outputs": [
    {
     "data": {
      "text/html": [
       "<div>\n",
       "<style scoped>\n",
       "    .dataframe tbody tr th:only-of-type {\n",
       "        vertical-align: middle;\n",
       "    }\n",
       "\n",
       "    .dataframe tbody tr th {\n",
       "        vertical-align: top;\n",
       "    }\n",
       "\n",
       "    .dataframe thead th {\n",
       "        text-align: right;\n",
       "    }\n",
       "</style>\n",
       "<table border=\"1\" class=\"dataframe\">\n",
       "  <thead>\n",
       "    <tr style=\"text-align: right;\">\n",
       "      <th></th>\n",
       "      <th>balance</th>\n",
       "      <th>stock</th>\n",
       "      <th>label</th>\n",
       "      <th>labelcode</th>\n",
       "    </tr>\n",
       "  </thead>\n",
       "  <tbody>\n",
       "    <tr>\n",
       "      <th>0</th>\n",
       "      <td>30000000</td>\n",
       "      <td>22500000</td>\n",
       "      <td>normal</td>\n",
       "      <td>1</td>\n",
       "    </tr>\n",
       "    <tr>\n",
       "      <th>1</th>\n",
       "      <td>280000000</td>\n",
       "      <td>48000000</td>\n",
       "      <td>diamond</td>\n",
       "      <td>0</td>\n",
       "    </tr>\n",
       "    <tr>\n",
       "      <th>2</th>\n",
       "      <td>300000000</td>\n",
       "      <td>40666666</td>\n",
       "      <td>diamond</td>\n",
       "      <td>0</td>\n",
       "    </tr>\n",
       "    <tr>\n",
       "      <th>3</th>\n",
       "      <td>54000000</td>\n",
       "      <td>28000000</td>\n",
       "      <td>normal</td>\n",
       "      <td>1</td>\n",
       "    </tr>\n",
       "    <tr>\n",
       "      <th>4</th>\n",
       "      <td>768000000</td>\n",
       "      <td>32000000</td>\n",
       "      <td>vip</td>\n",
       "      <td>2</td>\n",
       "    </tr>\n",
       "    <tr>\n",
       "      <th>...</th>\n",
       "      <td>...</td>\n",
       "      <td>...</td>\n",
       "      <td>...</td>\n",
       "      <td>...</td>\n",
       "    </tr>\n",
       "    <tr>\n",
       "      <th>19995</th>\n",
       "      <td>628000000</td>\n",
       "      <td>44666666</td>\n",
       "      <td>diamond</td>\n",
       "      <td>0</td>\n",
       "    </tr>\n",
       "    <tr>\n",
       "      <th>19996</th>\n",
       "      <td>276000000</td>\n",
       "      <td>20000000</td>\n",
       "      <td>normal</td>\n",
       "      <td>1</td>\n",
       "    </tr>\n",
       "    <tr>\n",
       "      <th>19997</th>\n",
       "      <td>652000000</td>\n",
       "      <td>41333333</td>\n",
       "      <td>diamond</td>\n",
       "      <td>0</td>\n",
       "    </tr>\n",
       "    <tr>\n",
       "      <th>19998</th>\n",
       "      <td>676000000</td>\n",
       "      <td>45333333</td>\n",
       "      <td>diamond</td>\n",
       "      <td>0</td>\n",
       "    </tr>\n",
       "    <tr>\n",
       "      <th>19999</th>\n",
       "      <td>732000000</td>\n",
       "      <td>26000000</td>\n",
       "      <td>diamond</td>\n",
       "      <td>0</td>\n",
       "    </tr>\n",
       "  </tbody>\n",
       "</table>\n",
       "<p>20000 rows × 4 columns</p>\n",
       "</div>"
      ],
      "text/plain": [
       "         balance     stock    label  labelcode\n",
       "0       30000000  22500000   normal          1\n",
       "1      280000000  48000000  diamond          0\n",
       "2      300000000  40666666  diamond          0\n",
       "3       54000000  28000000   normal          1\n",
       "4      768000000  32000000      vip          2\n",
       "...          ...       ...      ...        ...\n",
       "19995  628000000  44666666  diamond          0\n",
       "19996  276000000  20000000   normal          1\n",
       "19997  652000000  41333333  diamond          0\n",
       "19998  676000000  45333333  diamond          0\n",
       "19999  732000000  26000000  diamond          0\n",
       "\n",
       "[20000 rows x 4 columns]"
      ]
     },
     "execution_count": 9,
     "metadata": {},
     "output_type": "execute_result"
    }
   ],
   "source": [
    "# fit_transform은 숫자로 바꿔주고, inverse_transform은 원래대로 바꿔준다.\n",
    "labelEn = LabelEncoder()\n",
    "csData[\"labelcode\"] = labelEn.fit_transform(csData.label)\n",
    "csData"
   ]
  },
  {
   "cell_type": "code",
   "execution_count": 10,
   "id": "24108c24-7828-4d31-9069-fbe5bcbced4d",
   "metadata": {},
   "outputs": [
    {
     "data": {
      "text/plain": [
       "0    1\n",
       "1    0\n",
       "4    2\n",
       "Name: labelcode, dtype: int32"
      ]
     },
     "execution_count": 10,
     "metadata": {},
     "output_type": "execute_result"
    }
   ],
   "source": [
    "csData[\"labelcode\"].drop_duplicates()"
   ]
  },
  {
   "cell_type": "raw",
   "id": "f12984e7-fb73-48c4-8543-e893e445f4c6",
   "metadata": {},
   "source": [
    "# minmax_scale의 로직을 함수로 표현해서 사용하는 것이다.\n",
    "# from sklearn.preprocessing import minmax_scale을 쓰면 편하다.\n",
    "\n",
    "def minMaxNorm(indata) :\n",
    "    maxValue = max(indata)\n",
    "    minValue = min(indata)\n",
    "    deNormValue = maxValue - minValue\n",
    "\n",
    "    plusData = indata - minValue\n",
    "    outData = indata # 0을 넣기 위함\n",
    "\n",
    "    if deNormValue != 0 :\n",
    "        outData = plusData / deNormValue\n",
    "    else : \n",
    "        pass\n",
    "    return outData\n",
    "# 가장 큰값과 작은 값을 받아온다\n",
    "# 큰 값에서 작은 값을 빼서 양수 값으로 만든다 = deNormValue\n",
    "# 원래값에서 작은 수를 뺀다 = plusData\n",
    "# deNormValue가 0이 아닐경우 plusData / deNormValue를 실행한다.\n",
    "# 0일 경우에는 0으로 넣는다.\n",
    "# 모든 값이 0~1이 된다."
   ]
  },
  {
   "cell_type": "code",
   "execution_count": 11,
   "id": "99eecc4c-98a9-4a5c-9919-81c291d9e607",
   "metadata": {},
   "outputs": [
    {
     "data": {
      "text/html": [
       "<div>\n",
       "<style scoped>\n",
       "    .dataframe tbody tr th:only-of-type {\n",
       "        vertical-align: middle;\n",
       "    }\n",
       "\n",
       "    .dataframe tbody tr th {\n",
       "        vertical-align: top;\n",
       "    }\n",
       "\n",
       "    .dataframe thead th {\n",
       "        text-align: right;\n",
       "    }\n",
       "</style>\n",
       "<table border=\"1\" class=\"dataframe\">\n",
       "  <thead>\n",
       "    <tr style=\"text-align: right;\">\n",
       "      <th></th>\n",
       "      <th>balance</th>\n",
       "      <th>stock</th>\n",
       "      <th>label</th>\n",
       "      <th>labelcode</th>\n",
       "      <th>stock_norm</th>\n",
       "      <th>balance_norm</th>\n",
       "    </tr>\n",
       "  </thead>\n",
       "  <tbody>\n",
       "    <tr>\n",
       "      <th>0</th>\n",
       "      <td>30000000</td>\n",
       "      <td>22500000</td>\n",
       "      <td>normal</td>\n",
       "      <td>1</td>\n",
       "      <td>0.080000</td>\n",
       "      <td>0.000000</td>\n",
       "    </tr>\n",
       "    <tr>\n",
       "      <th>1</th>\n",
       "      <td>280000000</td>\n",
       "      <td>48000000</td>\n",
       "      <td>diamond</td>\n",
       "      <td>0</td>\n",
       "      <td>0.488000</td>\n",
       "      <td>0.324675</td>\n",
       "    </tr>\n",
       "    <tr>\n",
       "      <th>2</th>\n",
       "      <td>300000000</td>\n",
       "      <td>40666666</td>\n",
       "      <td>diamond</td>\n",
       "      <td>0</td>\n",
       "      <td>0.370667</td>\n",
       "      <td>0.350649</td>\n",
       "    </tr>\n",
       "    <tr>\n",
       "      <th>3</th>\n",
       "      <td>54000000</td>\n",
       "      <td>28000000</td>\n",
       "      <td>normal</td>\n",
       "      <td>1</td>\n",
       "      <td>0.168000</td>\n",
       "      <td>0.031169</td>\n",
       "    </tr>\n",
       "    <tr>\n",
       "      <th>4</th>\n",
       "      <td>768000000</td>\n",
       "      <td>32000000</td>\n",
       "      <td>vip</td>\n",
       "      <td>2</td>\n",
       "      <td>0.232000</td>\n",
       "      <td>0.958442</td>\n",
       "    </tr>\n",
       "    <tr>\n",
       "      <th>...</th>\n",
       "      <td>...</td>\n",
       "      <td>...</td>\n",
       "      <td>...</td>\n",
       "      <td>...</td>\n",
       "      <td>...</td>\n",
       "      <td>...</td>\n",
       "    </tr>\n",
       "    <tr>\n",
       "      <th>19995</th>\n",
       "      <td>628000000</td>\n",
       "      <td>44666666</td>\n",
       "      <td>diamond</td>\n",
       "      <td>0</td>\n",
       "      <td>0.434667</td>\n",
       "      <td>0.776623</td>\n",
       "    </tr>\n",
       "    <tr>\n",
       "      <th>19996</th>\n",
       "      <td>276000000</td>\n",
       "      <td>20000000</td>\n",
       "      <td>normal</td>\n",
       "      <td>1</td>\n",
       "      <td>0.040000</td>\n",
       "      <td>0.319481</td>\n",
       "    </tr>\n",
       "    <tr>\n",
       "      <th>19997</th>\n",
       "      <td>652000000</td>\n",
       "      <td>41333333</td>\n",
       "      <td>diamond</td>\n",
       "      <td>0</td>\n",
       "      <td>0.381333</td>\n",
       "      <td>0.807792</td>\n",
       "    </tr>\n",
       "    <tr>\n",
       "      <th>19998</th>\n",
       "      <td>676000000</td>\n",
       "      <td>45333333</td>\n",
       "      <td>diamond</td>\n",
       "      <td>0</td>\n",
       "      <td>0.445333</td>\n",
       "      <td>0.838961</td>\n",
       "    </tr>\n",
       "    <tr>\n",
       "      <th>19999</th>\n",
       "      <td>732000000</td>\n",
       "      <td>26000000</td>\n",
       "      <td>diamond</td>\n",
       "      <td>0</td>\n",
       "      <td>0.136000</td>\n",
       "      <td>0.911688</td>\n",
       "    </tr>\n",
       "  </tbody>\n",
       "</table>\n",
       "<p>20000 rows × 6 columns</p>\n",
       "</div>"
      ],
      "text/plain": [
       "         balance     stock    label  labelcode  stock_norm  balance_norm\n",
       "0       30000000  22500000   normal          1    0.080000      0.000000\n",
       "1      280000000  48000000  diamond          0    0.488000      0.324675\n",
       "2      300000000  40666666  diamond          0    0.370667      0.350649\n",
       "3       54000000  28000000   normal          1    0.168000      0.031169\n",
       "4      768000000  32000000      vip          2    0.232000      0.958442\n",
       "...          ...       ...      ...        ...         ...           ...\n",
       "19995  628000000  44666666  diamond          0    0.434667      0.776623\n",
       "19996  276000000  20000000   normal          1    0.040000      0.319481\n",
       "19997  652000000  41333333  diamond          0    0.381333      0.807792\n",
       "19998  676000000  45333333  diamond          0    0.445333      0.838961\n",
       "19999  732000000  26000000  diamond          0    0.136000      0.911688\n",
       "\n",
       "[20000 rows x 6 columns]"
      ]
     },
     "execution_count": 11,
     "metadata": {},
     "output_type": "execute_result"
    }
   ],
   "source": [
    "csData[\"stock_norm\"] = minmax_scale(csData.stock)\n",
    "csData[\"balance_norm\"] = minmax_scale(csData.balance)\n",
    "csData"
   ]
  },
  {
   "cell_type": "code",
   "execution_count": 12,
   "id": "2ed88e78-1151-44b0-a23f-f76468012619",
   "metadata": {},
   "outputs": [
    {
     "data": {
      "text/html": [
       "<div>\n",
       "<style scoped>\n",
       "    .dataframe tbody tr th:only-of-type {\n",
       "        vertical-align: middle;\n",
       "    }\n",
       "\n",
       "    .dataframe tbody tr th {\n",
       "        vertical-align: top;\n",
       "    }\n",
       "\n",
       "    .dataframe thead th {\n",
       "        text-align: right;\n",
       "    }\n",
       "</style>\n",
       "<table border=\"1\" class=\"dataframe\">\n",
       "  <thead>\n",
       "    <tr style=\"text-align: right;\">\n",
       "      <th></th>\n",
       "      <th>balance</th>\n",
       "      <th>stock</th>\n",
       "      <th>labelcode</th>\n",
       "      <th>stock_norm</th>\n",
       "      <th>balance_norm</th>\n",
       "    </tr>\n",
       "  </thead>\n",
       "  <tbody>\n",
       "    <tr>\n",
       "      <th>balance</th>\n",
       "      <td>1.000000</td>\n",
       "      <td>0.565942</td>\n",
       "      <td>-0.253072</td>\n",
       "      <td>0.565942</td>\n",
       "      <td>1.000000</td>\n",
       "    </tr>\n",
       "    <tr>\n",
       "      <th>stock</th>\n",
       "      <td>0.565942</td>\n",
       "      <td>1.000000</td>\n",
       "      <td>0.339862</td>\n",
       "      <td>1.000000</td>\n",
       "      <td>0.565942</td>\n",
       "    </tr>\n",
       "    <tr>\n",
       "      <th>labelcode</th>\n",
       "      <td>-0.253072</td>\n",
       "      <td>0.339862</td>\n",
       "      <td>1.000000</td>\n",
       "      <td>0.339862</td>\n",
       "      <td>-0.253072</td>\n",
       "    </tr>\n",
       "    <tr>\n",
       "      <th>stock_norm</th>\n",
       "      <td>0.565942</td>\n",
       "      <td>1.000000</td>\n",
       "      <td>0.339862</td>\n",
       "      <td>1.000000</td>\n",
       "      <td>0.565942</td>\n",
       "    </tr>\n",
       "    <tr>\n",
       "      <th>balance_norm</th>\n",
       "      <td>1.000000</td>\n",
       "      <td>0.565942</td>\n",
       "      <td>-0.253072</td>\n",
       "      <td>0.565942</td>\n",
       "      <td>1.000000</td>\n",
       "    </tr>\n",
       "  </tbody>\n",
       "</table>\n",
       "</div>"
      ],
      "text/plain": [
       "               balance     stock  labelcode  stock_norm  balance_norm\n",
       "balance       1.000000  0.565942  -0.253072    0.565942      1.000000\n",
       "stock         0.565942  1.000000   0.339862    1.000000      0.565942\n",
       "labelcode    -0.253072  0.339862   1.000000    0.339862     -0.253072\n",
       "stock_norm    0.565942  1.000000   0.339862    1.000000      0.565942\n",
       "balance_norm  1.000000  0.565942  -0.253072    0.565942      1.000000"
      ]
     },
     "execution_count": 12,
     "metadata": {},
     "output_type": "execute_result"
    }
   ],
   "source": [
    "corrDf = csData.corr()\n",
    "corrDf"
   ]
  },
  {
   "cell_type": "code",
   "execution_count": 25,
   "id": "996d1ca6-46ee-4c95-96d5-a008b0777139",
   "metadata": {},
   "outputs": [],
   "source": [
    "stdRatio = 0.5\n",
    "featCol = list(corrDf.loc[(abs(corrDf.labelcode)>stdRatio)&corrDf.labelcode!=1].index)\n",
    "feature = featCol[2:]\n",
    "label = [\"label\"]"
   ]
  },
  {
   "cell_type": "code",
   "execution_count": 26,
   "id": "06fadd54-ddab-47bb-bf93-e0f8668f3e72",
   "metadata": {},
   "outputs": [],
   "source": [
    "labelCol = [\"label\"]"
   ]
  },
  {
   "cell_type": "code",
   "execution_count": 27,
   "id": "c331b4e8-b8c7-49eb-964c-65a482d3d45e",
   "metadata": {},
   "outputs": [],
   "source": [
    "featuresData = csData.loc[:,features_Col]\n",
    "labelData = csData.loc[:,labelCol]"
   ]
  },
  {
   "cell_type": "code",
   "execution_count": 28,
   "id": "fa90f9fe-ef71-4358-9f1b-240785f22398",
   "metadata": {},
   "outputs": [
    {
     "name": "stdout",
     "output_type": "stream",
     "text": [
      "(20000, 0)\n",
      "(20000, 1)\n"
     ]
    }
   ],
   "source": [
    "print(featuresData.shape)\n",
    "print(labelData.shape)"
   ]
  },
  {
   "cell_type": "code",
   "execution_count": 29,
   "id": "ef455f5b-c89e-4e4e-953e-8c2e86947bc2",
   "metadata": {},
   "outputs": [],
   "source": [
    "trainingData_features, \\\n",
    "testData_features, \\\n",
    "trainingData_label, \\\n",
    "testData_label = train_test_split(featuresData, labelData, test_size = 0.3, random_state = 1)"
   ]
  },
  {
   "cell_type": "code",
   "execution_count": 30,
   "id": "1eab3570-c17b-4026-8c5b-bef527048b3e",
   "metadata": {},
   "outputs": [
    {
     "name": "stdout",
     "output_type": "stream",
     "text": [
      "(14000, 0)\n",
      "(14000, 1)\n",
      "(6000, 0)\n",
      "(6000, 1)\n"
     ]
    }
   ],
   "source": [
    "print(trainingData_features.shape)\n",
    "print(trainingData_label.shape)\n",
    "print(testData_features.shape)\n",
    "print(testData_label.shape)"
   ]
  },
  {
   "cell_type": "code",
   "execution_count": 19,
   "id": "8bf73749-b387-4f1a-b921-516563bf2486",
   "metadata": {},
   "outputs": [],
   "source": [
    "model_method = svm.SVC(random_state=1)\n",
    "# svm = 선형분리"
   ]
  },
  {
   "cell_type": "code",
   "execution_count": 20,
   "id": "38c06b5d-854c-444e-82fd-ec954b2f2a1e",
   "metadata": {},
   "outputs": [
    {
     "ename": "ValueError",
     "evalue": "at least one array or dtype is required",
     "output_type": "error",
     "traceback": [
      "\u001b[1;31m---------------------------------------------------------------------------\u001b[0m",
      "\u001b[1;31mValueError\u001b[0m                                Traceback (most recent call last)",
      "\u001b[1;32m~\\AppData\\Local\\Temp\\ipykernel_15844\\2076329971.py\u001b[0m in \u001b[0;36m<module>\u001b[1;34m\u001b[0m\n\u001b[1;32m----> 1\u001b[1;33m model = model_method.fit(X = trainingData_features,\n\u001b[0m\u001b[0;32m      2\u001b[0m                          y = trainingData_label)\n",
      "\u001b[1;32m~\\anaconda3\\lib\\site-packages\\sklearn\\svm\\_base.py\u001b[0m in \u001b[0;36mfit\u001b[1;34m(self, X, y, sample_weight)\u001b[0m\n\u001b[0;32m    188\u001b[0m             \u001b[0mcheck_consistent_length\u001b[0m\u001b[1;33m(\u001b[0m\u001b[0mX\u001b[0m\u001b[1;33m,\u001b[0m \u001b[0my\u001b[0m\u001b[1;33m)\u001b[0m\u001b[1;33m\u001b[0m\u001b[1;33m\u001b[0m\u001b[0m\n\u001b[0;32m    189\u001b[0m         \u001b[1;32melse\u001b[0m\u001b[1;33m:\u001b[0m\u001b[1;33m\u001b[0m\u001b[1;33m\u001b[0m\u001b[0m\n\u001b[1;32m--> 190\u001b[1;33m             X, y = self._validate_data(\n\u001b[0m\u001b[0;32m    191\u001b[0m                 \u001b[0mX\u001b[0m\u001b[1;33m,\u001b[0m\u001b[1;33m\u001b[0m\u001b[1;33m\u001b[0m\u001b[0m\n\u001b[0;32m    192\u001b[0m                 \u001b[0my\u001b[0m\u001b[1;33m,\u001b[0m\u001b[1;33m\u001b[0m\u001b[1;33m\u001b[0m\u001b[0m\n",
      "\u001b[1;32m~\\anaconda3\\lib\\site-packages\\sklearn\\base.py\u001b[0m in \u001b[0;36m_validate_data\u001b[1;34m(self, X, y, reset, validate_separately, **check_params)\u001b[0m\n\u001b[0;32m    579\u001b[0m                 \u001b[0my\u001b[0m \u001b[1;33m=\u001b[0m \u001b[0mcheck_array\u001b[0m\u001b[1;33m(\u001b[0m\u001b[0my\u001b[0m\u001b[1;33m,\u001b[0m \u001b[1;33m**\u001b[0m\u001b[0mcheck_y_params\u001b[0m\u001b[1;33m)\u001b[0m\u001b[1;33m\u001b[0m\u001b[1;33m\u001b[0m\u001b[0m\n\u001b[0;32m    580\u001b[0m             \u001b[1;32melse\u001b[0m\u001b[1;33m:\u001b[0m\u001b[1;33m\u001b[0m\u001b[1;33m\u001b[0m\u001b[0m\n\u001b[1;32m--> 581\u001b[1;33m                 \u001b[0mX\u001b[0m\u001b[1;33m,\u001b[0m \u001b[0my\u001b[0m \u001b[1;33m=\u001b[0m \u001b[0mcheck_X_y\u001b[0m\u001b[1;33m(\u001b[0m\u001b[0mX\u001b[0m\u001b[1;33m,\u001b[0m \u001b[0my\u001b[0m\u001b[1;33m,\u001b[0m \u001b[1;33m**\u001b[0m\u001b[0mcheck_params\u001b[0m\u001b[1;33m)\u001b[0m\u001b[1;33m\u001b[0m\u001b[1;33m\u001b[0m\u001b[0m\n\u001b[0m\u001b[0;32m    582\u001b[0m             \u001b[0mout\u001b[0m \u001b[1;33m=\u001b[0m \u001b[0mX\u001b[0m\u001b[1;33m,\u001b[0m \u001b[0my\u001b[0m\u001b[1;33m\u001b[0m\u001b[1;33m\u001b[0m\u001b[0m\n\u001b[0;32m    583\u001b[0m \u001b[1;33m\u001b[0m\u001b[0m\n",
      "\u001b[1;32m~\\anaconda3\\lib\\site-packages\\sklearn\\utils\\validation.py\u001b[0m in \u001b[0;36mcheck_X_y\u001b[1;34m(X, y, accept_sparse, accept_large_sparse, dtype, order, copy, force_all_finite, ensure_2d, allow_nd, multi_output, ensure_min_samples, ensure_min_features, y_numeric, estimator)\u001b[0m\n\u001b[0;32m    962\u001b[0m         \u001b[1;32mraise\u001b[0m \u001b[0mValueError\u001b[0m\u001b[1;33m(\u001b[0m\u001b[1;34m\"y cannot be None\"\u001b[0m\u001b[1;33m)\u001b[0m\u001b[1;33m\u001b[0m\u001b[1;33m\u001b[0m\u001b[0m\n\u001b[0;32m    963\u001b[0m \u001b[1;33m\u001b[0m\u001b[0m\n\u001b[1;32m--> 964\u001b[1;33m     X = check_array(\n\u001b[0m\u001b[0;32m    965\u001b[0m         \u001b[0mX\u001b[0m\u001b[1;33m,\u001b[0m\u001b[1;33m\u001b[0m\u001b[1;33m\u001b[0m\u001b[0m\n\u001b[0;32m    966\u001b[0m         \u001b[0maccept_sparse\u001b[0m\u001b[1;33m=\u001b[0m\u001b[0maccept_sparse\u001b[0m\u001b[1;33m,\u001b[0m\u001b[1;33m\u001b[0m\u001b[1;33m\u001b[0m\u001b[0m\n",
      "\u001b[1;32m~\\anaconda3\\lib\\site-packages\\sklearn\\utils\\validation.py\u001b[0m in \u001b[0;36mcheck_array\u001b[1;34m(array, accept_sparse, accept_large_sparse, dtype, order, copy, force_all_finite, ensure_2d, allow_nd, ensure_min_samples, ensure_min_features, estimator)\u001b[0m\n\u001b[0;32m    663\u001b[0m \u001b[1;33m\u001b[0m\u001b[0m\n\u001b[0;32m    664\u001b[0m         \u001b[1;32mif\u001b[0m \u001b[0mall\u001b[0m\u001b[1;33m(\u001b[0m\u001b[0misinstance\u001b[0m\u001b[1;33m(\u001b[0m\u001b[0mdtype\u001b[0m\u001b[1;33m,\u001b[0m \u001b[0mnp\u001b[0m\u001b[1;33m.\u001b[0m\u001b[0mdtype\u001b[0m\u001b[1;33m)\u001b[0m \u001b[1;32mfor\u001b[0m \u001b[0mdtype\u001b[0m \u001b[1;32min\u001b[0m \u001b[0mdtypes_orig\u001b[0m\u001b[1;33m)\u001b[0m\u001b[1;33m:\u001b[0m\u001b[1;33m\u001b[0m\u001b[1;33m\u001b[0m\u001b[0m\n\u001b[1;32m--> 665\u001b[1;33m             \u001b[0mdtype_orig\u001b[0m \u001b[1;33m=\u001b[0m \u001b[0mnp\u001b[0m\u001b[1;33m.\u001b[0m\u001b[0mresult_type\u001b[0m\u001b[1;33m(\u001b[0m\u001b[1;33m*\u001b[0m\u001b[0mdtypes_orig\u001b[0m\u001b[1;33m)\u001b[0m\u001b[1;33m\u001b[0m\u001b[1;33m\u001b[0m\u001b[0m\n\u001b[0m\u001b[0;32m    666\u001b[0m \u001b[1;33m\u001b[0m\u001b[0m\n\u001b[0;32m    667\u001b[0m     \u001b[1;32mif\u001b[0m \u001b[0mdtype_numeric\u001b[0m\u001b[1;33m:\u001b[0m\u001b[1;33m\u001b[0m\u001b[1;33m\u001b[0m\u001b[0m\n",
      "\u001b[1;32m<__array_function__ internals>\u001b[0m in \u001b[0;36mresult_type\u001b[1;34m(*args, **kwargs)\u001b[0m\n",
      "\u001b[1;31mValueError\u001b[0m: at least one array or dtype is required"
     ]
    }
   ],
   "source": [
    "model = model_method.fit(X = trainingData_features,\n",
    "                         y = trainingData_label)"
   ]
  },
  {
   "cell_type": "code",
   "execution_count": null,
   "id": "bcaf3f2d-a1fb-496d-9498-83547df3ad1e",
   "metadata": {},
   "outputs": [],
   "source": [
    "predict = model.predict(X = testData_features)"
   ]
  },
  {
   "cell_type": "code",
   "execution_count": null,
   "id": "4c4a8df0-70a2-45f9-b361-b629eef610e1",
   "metadata": {
    "tags": []
   },
   "outputs": [],
   "source": [
    "predictData = pd.DataFrame(predict, columns = [\"predict\"])\n",
    "predictData"
   ]
  },
  {
   "cell_type": "code",
   "execution_count": null,
   "id": "19b8cd16-2258-4091-97b5-77b17aade450",
   "metadata": {},
   "outputs": [],
   "source": [
    "testData_label.reset_index(drop=True, inplace=True) "
   ]
  },
  {
   "cell_type": "code",
   "execution_count": null,
   "id": "a540cd99-e478-4ada-8283-b8f2dacb6059",
   "metadata": {
    "tags": []
   },
   "outputs": [],
   "source": [
    "fianlData = pd.concat( [testData_label, predictData], axis=1)\n",
    "fianlData"
   ]
  },
  {
   "cell_type": "code",
   "execution_count": null,
   "id": "ee0268a6-8828-431e-bd04-60eb85afb6ab",
   "metadata": {},
   "outputs": [],
   "source": [
    "labelData = csData.loc[testData_label.index,:]\n",
    "labelData.reset_index(drop=True, inplace=True)\n",
    "labelData"
   ]
  },
  {
   "cell_type": "code",
   "execution_count": null,
   "id": "7719a9c8-ca6d-4862-9d3f-9e4093f37acf",
   "metadata": {},
   "outputs": [],
   "source": [
    "finalResult = pd.concat( [labelData, predictData], axis=1) \n",
    "finalResult"
   ]
  },
  {
   "cell_type": "code",
   "execution_count": null,
   "id": "372460a3-efaa-46eb-bf94-a41d144b2147",
   "metadata": {},
   "outputs": [],
   "source": [
    "ac_score = accuracy_score(finalResult.label, finalResult.predict)\n",
    "cl_report = classification_report(finalResult.label, finalResult.predict)"
   ]
  },
  {
   "cell_type": "code",
   "execution_count": null,
   "id": "e4c11ef0-1ff4-49ad-9be8-8d933a78590a",
   "metadata": {},
   "outputs": [],
   "source": [
    "print(ac_score)"
   ]
  },
  {
   "cell_type": "code",
   "execution_count": null,
   "id": "44345ba2-8fea-4acf-9752-8d1073b6c700",
   "metadata": {},
   "outputs": [],
   "source": [
    "print(cl_report)"
   ]
  }
 ],
 "metadata": {
  "kernelspec": {
   "display_name": "Python 3 (ipykernel)",
   "language": "python",
   "name": "python3"
  },
  "language_info": {
   "codemirror_mode": {
    "name": "ipython",
    "version": 3
   },
   "file_extension": ".py",
   "mimetype": "text/x-python",
   "name": "python",
   "nbconvert_exporter": "python",
   "pygments_lexer": "ipython3",
   "version": "3.9.13"
  }
 },
 "nbformat": 4,
 "nbformat_minor": 5
}
