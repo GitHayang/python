{
 "cells": [
  {
   "cell_type": "code",
   "execution_count": 132,
   "id": "ee9365f9-59f6-48f4-9cf1-16bf45be2805",
   "metadata": {},
   "outputs": [],
   "source": [
    "def whatDate(now,minusDay):\n",
    "\n",
    "    import datetime\n",
    "    import calendar\n",
    "\n",
    "    # now = '2022-7-22' #현재날짜\n",
    "    # minusDay = 150 #이 부분에 빼고 싶은 날짜수\n",
    "    \n",
    "    howYear = int(minusDay/365)\n",
    "    howDay = int(minusDay%365)\n",
    "\n",
    "    date = now\n",
    "    date = str(date).split(\"-\")\n",
    "\n",
    "    year=int(date[0])\n",
    "    month=int(date[1])\n",
    "    day=int(date[2])\n",
    "\n",
    "    year = year-howYear\n",
    "    year\n",
    "\n",
    "    resultDay = day-howDay\n",
    "    resultDay\n",
    "\n",
    "    while(resultDay<=0):\n",
    "        month = month-1\n",
    "        if(month<=0):\n",
    "            year = year-1\n",
    "            month = 12\n",
    "        newDay = calendar.monthrange(year,month)[1]\n",
    "        resultDay = newDay+resultDay\n",
    "        result = str(year) + '-' + str(month).zfill(2) + '-' + str(resultDay+1).zfill(2) #최종 년차와 최종 주차를 합친다\n",
    "    print(result)"
   ]
  },
  {
   "cell_type": "code",
   "execution_count": 136,
   "id": "a647b5a1-f8a0-4746-b688-4044116d5da4",
   "metadata": {},
   "outputs": [
    {
     "name": "stdout",
     "output_type": "stream",
     "text": [
      "2021-09-15\n"
     ]
    }
   ],
   "source": [
    "whatDate('2022-02-11',150)"
   ]
  },
  {
   "cell_type": "code",
   "execution_count": null,
   "id": "cf8efa25-8e1a-4913-9e69-4b537cb88400",
   "metadata": {},
   "outputs": [],
   "source": []
  }
 ],
 "metadata": {
  "kernelspec": {
   "display_name": "Python 3 (ipykernel)",
   "language": "python",
   "name": "python3"
  },
  "language_info": {
   "codemirror_mode": {
    "name": "ipython",
    "version": 3
   },
   "file_extension": ".py",
   "mimetype": "text/x-python",
   "name": "python",
   "nbconvert_exporter": "python",
   "pygments_lexer": "ipython3",
   "version": "3.9.13"
  }
 },
 "nbformat": 4,
 "nbformat_minor": 5
}
