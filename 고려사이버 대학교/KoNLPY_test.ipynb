{
 "cells": [
  {
   "cell_type": "code",
   "execution_count": 1,
   "id": "77491474-f0cf-4d92-ad6b-55d74fe0465b",
   "metadata": {},
   "outputs": [],
   "source": [
    "from konlpy.tag import Kkma\n",
    "from konlpy.utils import pprint\n",
    "from konlpy.tag import Okt"
   ]
  },
  {
   "cell_type": "code",
   "execution_count": 4,
   "id": "05123995-2876-4457-bcb4-4009fea2c6f0",
   "metadata": {},
   "outputs": [
    {
     "name": "stdout",
     "output_type": "stream",
     "text": [
      "['네, 안녕하세요.', '반갑습니다.']\n"
     ]
    }
   ],
   "source": [
    "kkma = Kkma()\n",
    "# 문장분석\n",
    "pprint(kkma.sentences(u\"네, 안녕하세요. 반갑습니다.\"))"
   ]
  },
  {
   "cell_type": "code",
   "execution_count": 5,
   "id": "a90063b5-7a66-4b30-b5c3-24e1c4d1e202",
   "metadata": {},
   "outputs": [
    {
     "name": "stdout",
     "output_type": "stream",
     "text": [
      "['질문', '건의', '건의사항', '사항', '깃헙', '이슈', '트래커']\n"
     ]
    }
   ],
   "source": [
    "# 명사분석\n",
    "pprint(kkma.nouns(u'질문이나 건의사항은 깃헙 이슈 트래커에 남겨주세요.'))"
   ]
  },
  {
   "cell_type": "code",
   "execution_count": 6,
   "id": "4d8df98e-d3fd-4b46-b2dc-0bf9578acc12",
   "metadata": {
    "scrolled": true,
    "tags": []
   },
   "outputs": [
    {
     "name": "stdout",
     "output_type": "stream",
     "text": [
      "[('오류', 'NNG'),\n",
      " ('보고', 'NNG'),\n",
      " ('는', 'JX'),\n",
      " ('실행', 'NNG'),\n",
      " ('환경', 'NNG'),\n",
      " (',', 'SP'),\n",
      " ('에러', 'NNG'),\n",
      " ('메세지', 'NNG'),\n",
      " ('와', 'JKM'),\n",
      " ('함께', 'MAG'),\n",
      " ('설명', 'NNG'),\n",
      " ('을', 'JKO'),\n",
      " ('최대한', 'NNG'),\n",
      " ('상세히', 'MAG'),\n",
      " ('!', 'SF'),\n",
      " ('^^', 'EMO')]\n"
     ]
    }
   ],
   "source": [
    "# 품사분석 : 한국어는 형태변화가 많아 영어처럼 쉽게 안됨\n",
    "pprint(kkma.pos(u'오류보고는 실행환경, 에러메세지와함께 설명을 최대한상세히!^^'))"
   ]
  },
  {
   "cell_type": "code",
   "execution_count": 7,
   "id": "dc25229e-2652-4057-987f-d098c5e08328",
   "metadata": {},
   "outputs": [],
   "source": [
    "from konlpy.tag import Hannanum"
   ]
  },
  {
   "cell_type": "code",
   "execution_count": 8,
   "id": "197840f8-9e4b-4616-9d0a-c82c73a20c24",
   "metadata": {},
   "outputs": [],
   "source": [
    "hannanum = Hannanum()"
   ]
  },
  {
   "cell_type": "code",
   "execution_count": 9,
   "id": "2b0809f4-6b9f-43f0-b184-4b2e1ebb5391",
   "metadata": {},
   "outputs": [
    {
     "data": {
      "text/plain": [
       "['한국어', '분석', '시작']"
      ]
     },
     "execution_count": 9,
     "metadata": {},
     "output_type": "execute_result"
    }
   ],
   "source": [
    "# 명사분석 : kkoma 엔진과 다른 결과\n",
    "hannanum.nouns('한국어 분석을 시작합니다 재미있었을까')"
   ]
  },
  {
   "cell_type": "code",
   "execution_count": 10,
   "id": "9cae0a30-ae16-4bab-8d8d-94ceb74de307",
   "metadata": {},
   "outputs": [
    {
     "data": {
      "text/plain": [
       "['한국어', '분석', '을', '시작', '하', 'ㅂ니다', '재미있', '었을까']"
      ]
     },
     "execution_count": 10,
     "metadata": {},
     "output_type": "execute_result"
    }
   ],
   "source": [
    "# 형태소분석\n",
    "hannanum.morphs('한국어 분석을 시작합니다 재미있었을까')"
   ]
  },
  {
   "cell_type": "code",
   "execution_count": 11,
   "id": "0a314238-c42f-4252-967c-16016cab875f",
   "metadata": {},
   "outputs": [
    {
     "data": {
      "text/plain": [
       "[('한국어', 'N'),\n",
       " ('분석', 'N'),\n",
       " ('을', 'J'),\n",
       " ('시작', 'N'),\n",
       " ('하', 'X'),\n",
       " ('ㅂ니다', 'E'),\n",
       " ('재미있', 'P'),\n",
       " ('었을까', 'E')]"
      ]
     },
     "execution_count": 11,
     "metadata": {},
     "output_type": "execute_result"
    }
   ],
   "source": [
    "# 품사분석\n",
    "hannanum.pos('한국어 분석을 시작합니다 재미있었을까')"
   ]
  },
  {
   "cell_type": "code",
   "execution_count": null,
   "id": "e47e080a-70aa-4568-ae13-5e7d96009107",
   "metadata": {},
   "outputs": [],
   "source": []
  },
  {
   "cell_type": "code",
   "execution_count": null,
   "id": "ac938e6b-c838-4df2-b6cd-cefcd418fbb2",
   "metadata": {},
   "outputs": [],
   "source": []
  },
  {
   "cell_type": "code",
   "execution_count": null,
   "id": "79f26074-cae8-4a5a-acc8-6419fef405df",
   "metadata": {},
   "outputs": [],
   "source": []
  },
  {
   "cell_type": "code",
   "execution_count": null,
   "id": "c2e6cd3f-cc4c-4fef-afc8-f7effbc20efd",
   "metadata": {},
   "outputs": [],
   "source": []
  },
  {
   "cell_type": "code",
   "execution_count": null,
   "id": "b0724a3d-1e7a-4176-bd9b-cd67461c1de1",
   "metadata": {},
   "outputs": [],
   "source": []
  },
  {
   "cell_type": "code",
   "execution_count": null,
   "id": "3171fd9e-fe5b-4611-96c9-73b35625dee4",
   "metadata": {},
   "outputs": [],
   "source": []
  },
  {
   "cell_type": "code",
   "execution_count": null,
   "id": "74b28148-1b4c-4a4b-9996-97a9ac7ee495",
   "metadata": {},
   "outputs": [],
   "source": []
  },
  {
   "cell_type": "code",
   "execution_count": null,
   "id": "f0653938-9693-449d-a828-3770b7ab8863",
   "metadata": {},
   "outputs": [],
   "source": []
  },
  {
   "cell_type": "code",
   "execution_count": null,
   "id": "c2ed5a66-1503-4bbc-9410-f88b8e98a496",
   "metadata": {},
   "outputs": [],
   "source": []
  },
  {
   "cell_type": "code",
   "execution_count": null,
   "id": "ac9f6d6c-f605-4a66-b3cf-4ae0b8ee4efe",
   "metadata": {},
   "outputs": [],
   "source": []
  },
  {
   "cell_type": "code",
   "execution_count": null,
   "id": "a4f3ce9b-f75b-463d-9376-ba6552dbf42b",
   "metadata": {},
   "outputs": [],
   "source": []
  },
  {
   "cell_type": "code",
   "execution_count": null,
   "id": "4fa7b5e5-6a0e-45f1-9d77-0f8f6819f842",
   "metadata": {},
   "outputs": [],
   "source": []
  },
  {
   "cell_type": "code",
   "execution_count": null,
   "id": "4a0488f4-f225-4996-93e0-a0823b5e8b2e",
   "metadata": {},
   "outputs": [],
   "source": []
  },
  {
   "cell_type": "code",
   "execution_count": null,
   "id": "6d28e391-4054-4f09-bdbc-fba85129db5d",
   "metadata": {},
   "outputs": [],
   "source": []
  },
  {
   "cell_type": "code",
   "execution_count": null,
   "id": "7002a330-8ccb-4aa0-a00b-7b85b79c8e76",
   "metadata": {},
   "outputs": [],
   "source": []
  },
  {
   "cell_type": "code",
   "execution_count": null,
   "id": "9ce9f5bf-ecde-456a-bb3d-02b8f4726b56",
   "metadata": {},
   "outputs": [],
   "source": []
  },
  {
   "cell_type": "code",
   "execution_count": null,
   "id": "18db8895-5792-4b99-88be-86e7271c907d",
   "metadata": {},
   "outputs": [],
   "source": []
  },
  {
   "cell_type": "code",
   "execution_count": null,
   "id": "883ca9df-589e-4c62-ae3a-28d1067927db",
   "metadata": {},
   "outputs": [],
   "source": []
  },
  {
   "cell_type": "code",
   "execution_count": null,
   "id": "c85b0af0-acfe-45d1-919d-68428751e43b",
   "metadata": {},
   "outputs": [],
   "source": []
  },
  {
   "cell_type": "code",
   "execution_count": null,
   "id": "65d3f501-f35d-49ee-ac83-bb98498c23ea",
   "metadata": {},
   "outputs": [],
   "source": []
  },
  {
   "cell_type": "code",
   "execution_count": null,
   "id": "bfc097b9-a6b8-4097-85ae-31f65456df40",
   "metadata": {},
   "outputs": [],
   "source": []
  },
  {
   "cell_type": "code",
   "execution_count": null,
   "id": "1496d2e1-c597-45bb-a403-a3303ee92df0",
   "metadata": {},
   "outputs": [],
   "source": []
  },
  {
   "cell_type": "code",
   "execution_count": null,
   "id": "d9228c80-2ffe-43dd-bcaa-2205a2f04625",
   "metadata": {},
   "outputs": [],
   "source": []
  },
  {
   "cell_type": "code",
   "execution_count": null,
   "id": "5610adc2-692b-4257-92bc-053ef575e97b",
   "metadata": {},
   "outputs": [],
   "source": []
  },
  {
   "cell_type": "code",
   "execution_count": null,
   "id": "488fbae5-9943-4f52-afcc-271ad1551fbb",
   "metadata": {},
   "outputs": [],
   "source": []
  },
  {
   "cell_type": "code",
   "execution_count": null,
   "id": "22ed3ebf-e231-4af9-a3b8-ecc7d8aa121b",
   "metadata": {},
   "outputs": [],
   "source": []
  },
  {
   "cell_type": "code",
   "execution_count": null,
   "id": "54f87242-97a7-490f-badf-581a175f6697",
   "metadata": {},
   "outputs": [],
   "source": []
  },
  {
   "cell_type": "code",
   "execution_count": null,
   "id": "a524782d-8ce2-4f77-8f69-4a6d6c8ea2f3",
   "metadata": {},
   "outputs": [],
   "source": []
  },
  {
   "cell_type": "code",
   "execution_count": null,
   "id": "80890584-7406-4801-bcc8-4b8c08382096",
   "metadata": {},
   "outputs": [],
   "source": []
  }
 ],
 "metadata": {
  "kernelspec": {
   "display_name": "Python 3 (ipykernel)",
   "language": "python",
   "name": "python3"
  },
  "language_info": {
   "codemirror_mode": {
    "name": "ipython",
    "version": 3
   },
   "file_extension": ".py",
   "mimetype": "text/x-python",
   "name": "python",
   "nbconvert_exporter": "python",
   "pygments_lexer": "ipython3",
   "version": "3.9.13"
  }
 },
 "nbformat": 4,
 "nbformat_minor": 5
}
