{
 "cells": [
  {
   "cell_type": "markdown",
   "id": "d5e51f9e-d4b8-481d-a1e1-1d1a40bd9c12",
   "metadata": {},
   "source": [
    "# 모듈 임포트"
   ]
  },
  {
   "cell_type": "code",
   "execution_count": 1,
   "id": "e4148ca1-9ca7-48c5-b0ab-b5fbb031f527",
   "metadata": {},
   "outputs": [],
   "source": [
    "import pandas as pd\n",
    "import numpy as np\n",
    "from bs4 import BeautifulSoup\n",
    "import requests\n",
    "import imaplib\n",
    "import email\n",
    "from email.header import decode_header, make_header\n",
    "import re\n",
    "import chardet"
   ]
  },
  {
   "cell_type": "markdown",
   "id": "413a3dc7-bd61-445a-a982-4fe76d74a84c",
   "metadata": {},
   "source": [
    "# 저장할 데이터 프레임 불러오기\n",
    "사실 별 필요없음 만든 데이터 프레임을 바로 저장해도 됨"
   ]
  },
  {
   "cell_type": "code",
   "execution_count": 2,
   "id": "10e7aca6-6c0a-40f5-a60f-d3b0e3627826",
   "metadata": {},
   "outputs": [
    {
     "data": {
      "text/plain": [
       "(0, 4)"
      ]
     },
     "execution_count": 2,
     "metadata": {},
     "output_type": "execute_result"
    }
   ],
   "source": [
    "# 미리 만들어둔 빈 데이터 프레임\n",
    "mail_df = pd.read_csv(\"./mail.csv\")\n",
    "mail_df.shape"
   ]
  },
  {
   "cell_type": "markdown",
   "id": "21c836b7-4a4f-4881-a9fd-b554fa87c108",
   "metadata": {},
   "source": [
    "# 네이버 계정에 접속하기\n",
    "접속 후 전체 메일함의 메일들 가져오기"
   ]
  },
  {
   "cell_type": "code",
   "execution_count": 3,
   "id": "e3ad4c10-84ae-4496-b79d-30829fde8781",
   "metadata": {},
   "outputs": [],
   "source": [
    "imap = imaplib.IMAP4_SSL(\"imap.naver.com\")"
   ]
  },
  {
   "cell_type": "code",
   "execution_count": 4,
   "id": "05f4bed4-a356-4e02-acf0-5ee9040e6adc",
   "metadata": {},
   "outputs": [],
   "source": [
    "google_id = \"caose9\"\n",
    "google_pw = pd.read_csv(\"./google_passwoed/naver_password.csv\")\n",
    "google_pw = list(google_pw)[0]"
   ]
  },
  {
   "cell_type": "code",
   "execution_count": 5,
   "id": "79e67d2e-d9c6-4554-814a-e5ae98090fdf",
   "metadata": {},
   "outputs": [
    {
     "data": {
      "text/plain": [
       "('OK',\n",
       " [b'[CAPABILITY IMAP4rev1 LITERAL+ SASL-IR ID LIST-EXTENDED SPECIAL-USE UNSELECT QUOTA MOVE AUTH=PLAIN] Logged in'])"
      ]
     },
     "execution_count": 5,
     "metadata": {},
     "output_type": "execute_result"
    }
   ],
   "source": [
    "imap.login(google_id, google_pw)"
   ]
  },
  {
   "cell_type": "code",
   "execution_count": 6,
   "id": "bf8b3964-7500-48f4-9d49-6a3e81ae50a4",
   "metadata": {},
   "outputs": [
    {
     "data": {
      "text/plain": [
       "('OK', [b'70'])"
      ]
     },
     "execution_count": 6,
     "metadata": {},
     "output_type": "execute_result"
    }
   ],
   "source": [
    "# 사서함 선택, 반환 데이터는 mailbox에 있는 메시지 수\n",
    "imap.select(\"INBOX\")"
   ]
  },
  {
   "cell_type": "code",
   "execution_count": 7,
   "id": "e87dd6bb-77aa-4270-b33f-93fe29da8c96",
   "metadata": {},
   "outputs": [
    {
     "data": {
      "text/plain": [
       "'OK'"
      ]
     },
     "execution_count": 7,
     "metadata": {},
     "output_type": "execute_result"
    }
   ],
   "source": [
    "# 사서함의 모든 메일의 uid 정보 가져오기\n",
    "# 만약 특정 발신 메일만 선택하고 싶다면 'ALL' 대신에 '(FROM \"xxxxx@naver.com\")' 입력\n",
    "status, messages = imap.uid('search', None, 'ALL')\n",
    "status"
   ]
  },
  {
   "cell_type": "code",
   "execution_count": 8,
   "id": "72355610-0cec-4359-86a2-5d6bd3ba0fe3",
   "metadata": {},
   "outputs": [],
   "source": [
    "messages = messages[0].split()"
   ]
  },
  {
   "cell_type": "markdown",
   "id": "183950af-3a62-4991-928f-31eb9a40561c",
   "metadata": {
    "tags": []
   },
   "source": [
    "# 메일함의 전체 메일들 크롤링해서 데이터프레임화"
   ]
  },
  {
   "cell_type": "code",
   "execution_count": 9,
   "id": "aaeb4803-f6be-464f-9097-466d257dc788",
   "metadata": {
    "scrolled": true,
    "tags": []
   },
   "outputs": [
    {
     "name": "stdout",
     "output_type": "stream",
     "text": [
      "0\n",
      "네이버 시리즈\n",
      "series_noreply@webtoonscorp.com\n",
      "1\n",
      "\" 현금이벤트 \"\n",
      "nbadmin2@imga1.com\n",
      "2\n",
      "네이버 시리즈\n",
      "series_noreply@webtoonscorp.com\n",
      "3\n",
      "네이버 시리즈\n",
      "series_noreply@webtoonscorp.com\n",
      "4\n",
      "네이버 시리즈\n",
      "series_noreply@webtoonscorp.com\n",
      "5\n",
      "네이버 시리즈\n",
      "series_noreply@webtoonscorp.com\n",
      "6\n",
      "네이버 시리즈\n",
      "series_noreply@webtoonscorp.com\n",
      "7\n",
      "네이버 시리즈\n",
      "series_noreply@webtoonscorp.com\n",
      "8\n",
      "💗이상형찾기💗\n",
      "manager@successbizcom.com\n",
      "9\n",
      "네이버 시리즈\n",
      "series_noreply@webtoonscorp.com\n",
      "10\n",
      "네이버 시리즈\n",
      "series_noreply@webtoonscorp.com\n",
      "11\n",
      "네이버 시리즈\n",
      "series_noreply@webtoonscorp.com\n",
      "12\n",
      "네이버 시리즈\n",
      "series_noreply@webtoonscorp.com\n",
      "13\n",
      "네이버 시리즈\n",
      "series_noreply@webtoonscorp.com\n",
      "14\n",
      "네이버 시리즈\n",
      "series_noreply@webtoonscorp.com\n",
      "15\n",
      "네이버 시리즈\n",
      "series_noreply@webtoonscorp.com\n",
      "16\n",
      "네이버 웹툰\n",
      "series_noreply@webtoonscorp.com\n",
      "17\n",
      "네이버 웹툰\n",
      "series_noreply@webtoonscorp.com\n",
      "18\n",
      "온라인마케터스\n",
      "manager@successbizcom.com\n",
      "19\n",
      "\" 갤럭시Z플립5 \"\n",
      "biznb2@nate.com\n",
      "20\n",
      "\" 갤럭시Z플립5 \"\n",
      "biznb2@nate.com\n",
      "21\n",
      "네이버 시리즈\n",
      "series_noreply@webtoonscorp.com\n",
      "22\n",
      "네이버 시리즈\n",
      "series_noreply@webtoonscorp.com\n",
      "23\n",
      "네이버 시리즈\n",
      "series_noreply@webtoonscorp.com\n",
      "24\n",
      "네이버 시리즈\n",
      "series_noreply@webtoonscorp.com\n",
      "25\n",
      "CHEOMAD\n",
      "admin@cheom-ad.kr\n",
      "26\n",
      "네이버 시리즈\n",
      "series_noreply@webtoonscorp.com\n",
      "27\n",
      "💗이상형찾기💗\n",
      "manager@successbizcom.com\n",
      "28\n",
      "네이버 웹툰\n",
      "series_noreply@webtoonscorp.com\n",
      "29\n",
      "네이버 시리즈\n",
      "series_noreply@webtoonscorp.com\n",
      "30\n",
      "네이버 시리즈\n",
      "series_noreply@webtoonscorp.com\n",
      "31\n",
      "네이버 시리즈\n",
      "series_noreply@webtoonscorp.com\n",
      "32\n",
      "네이버 시리즈\n",
      "series_noreply@webtoonscorp.com\n",
      "33\n",
      "CHEOMAD\n",
      "admin@cheom-ad.kr\n",
      "34\n",
      "네이버 시리즈\n",
      "series_noreply@webtoonscorp.com\n",
      "35\n",
      "네이버 시리즈\n",
      "series_noreply@webtoonscorp.com\n",
      "36\n",
      "네이버 시리즈\n",
      "series_noreply@webtoonscorp.com\n",
      "37\n",
      "네이버 시리즈\n",
      "series_noreply@webtoonscorp.com\n",
      "38\n",
      "네이버 시리즈\n",
      "series_noreply@webtoonscorp.com\n",
      "39\n",
      "🚩일본골프회원권🚩\n",
      "admin@com2here.com\n",
      "40\n",
      "네이버\n",
      "account_noreply@navercorp.com\n",
      "41\n",
      "네이버\n",
      "account_noreply@navercorp.com\n",
      "42\n",
      "\" 예스24 \"\n",
      "no-reply@yes24.com\n",
      "43\n",
      "\" KG이니시스 \"\n",
      "inimail@inicis.com\n",
      "44\n",
      "\" 예스24 \"\n",
      "no-reply@yes24.com\n",
      "45\n",
      "네이버 시리즈\n",
      "series_noreply@webtoonscorp.com\n",
      "46\n",
      "네이버 시리즈\n",
      "series_noreply@webtoonscorp.com\n",
      "47\n",
      "네이버 시리즈\n",
      "series_noreply@webtoonscorp.com\n",
      "48\n",
      "네이버 시리즈\n",
      "series_noreply@webtoonscorp.com\n",
      "49\n",
      "채무조정지원센터\n",
      "admin@com2here.com\n",
      "50\n",
      "네이버 시리즈\n",
      "series_noreply@webtoonscorp.com\n",
      "51\n",
      "네이버 시리즈\n",
      "series_noreply@webtoonscorp.com\n",
      "52\n",
      "네이버 시리즈\n",
      "series_noreply@webtoonscorp.com\n",
      "53\n",
      "CHEOMAD\n",
      "admin@cheom-ad.kr\n",
      "54\n",
      "무료 이혼 법률상담\n",
      "admin@com2here.com\n",
      "55\n",
      "네이버 시리즈\n",
      "series_noreply@webtoonscorp.com\n",
      "56\n",
      "네이버 웹툰\n",
      "series_noreply@webtoonscorp.com\n",
      "57\n",
      "네이버 웹툰\n",
      "series_noreply@webtoonscorp.com\n",
      "58\n",
      "네이버 웹툰\n",
      "series_noreply@webtoonscorp.com\n",
      "59\n",
      "💗이상형찾기💗\n",
      "manager@successbizcom.com\n",
      "60\n",
      "네이버 시리즈\n",
      "series_noreply@webtoonscorp.com\n",
      "61\n",
      "네이버 시리즈\n",
      "series_noreply@webtoonscorp.com\n",
      "62\n",
      "네이버 시리즈\n",
      "series_noreply@webtoonscorp.com\n",
      "63\n",
      "네이버 시리즈\n",
      "series_noreply@webtoonscorp.com\n",
      "64\n",
      "\" 라식라섹 \"\n",
      "nbadmin2@imga1.com\n",
      "65\n",
      "온라인마케터스\n",
      "manager@successbizcom.com\n",
      "66\n",
      "네이버 시리즈\n",
      "series_noreply@webtoonscorp.com\n",
      "67\n",
      "CHEOMAD\n",
      "admin@cheom-ad.kr\n",
      "68\n",
      "네이버\n",
      "account_noreply@navercorp.com\n",
      "69\n",
      "네이버\n",
      "account_noreply@navercorp.com\n"
     ]
    }
   ],
   "source": [
    "for i in range(len(messages)):\n",
    "    recent_email = messages[i]\n",
    "    \n",
    "    # fetch 명령어로 메일 가져오기\n",
    "    res, msg = imap.uid('fetch', recent_email, \"(RFC822)\")\n",
    "    \n",
    "    # 기본적으로 IMAP 서버에 연결하면 NONAUTH 상태, OK되어야 실행 가능\n",
    "    # 최대 10번까지 시도해보기\n",
    "    # 1번당 2초간 대기 총합 약 20초의 대기\n",
    "    max_attempts = 10\n",
    "    for attempt in range(max_attempts):\n",
    "        # fetch 명령어로 메일 가져오기\n",
    "        res, msg = imap.uid('fetch', recent_email, \"(RFC822)\")\n",
    "\n",
    "        if res == \"OK\":\n",
    "            break  # 정상적으로 연결되었으면 반복문을 빠져나감\n",
    "        else:\n",
    "            time.sleep(2)  # 2초 대기 후 다시 시도\n",
    "\n",
    "    # OK상태시 나머지 코드 실행\n",
    "    if res == \"OK\":\n",
    "\n",
    "        # 사람이 읽을 수 있는 형태로 변환\n",
    "        raw_readable = None\n",
    "        for encoding in ['utf-8', 'euc-kr', 'cp949', 'shift-jis', 'iso-2022-jp']:\n",
    "            try:\n",
    "                raw_readable = msg[0][1].decode(encoding)\n",
    "                break\n",
    "            except UnicodeDecodeError:\n",
    "                continue\n",
    "\n",
    "        # raw_readable에서 원하는 부분만 파싱하기 위해 email 모듈을 이용해 변환\n",
    "        email_message = email.message_from_string(raw_readable)\n",
    "\n",
    "        # 보낸사람\n",
    "        try:\n",
    "            fr_header = make_header(decode_header(email_message.get('From')))    \n",
    "            fr_header = email_message.get('From')\n",
    "            decoded_fr = make_header(decode_header(fr_header))\n",
    "\n",
    "            # 보낸사람 디코딩된 문자열을 문자열로 변환\n",
    "            fr = str(decoded_fr)\n",
    "            match = re.match(r'(.+?)\\s*<(.+?)>', fr)\n",
    "            name = \"\"\n",
    "            email_address = \"\"\n",
    "            if match:\n",
    "                name = match.group(1).strip()\n",
    "                email_address = match.group(2).strip()\n",
    "            else:\n",
    "                print(\"패턴이 매치되지 않았습니다.\")\n",
    "                if fr.split(\"@\"):\n",
    "                    fr_split = fr.split(\"@\")\n",
    "                    fr_split = fr_split[0] + \"@\" + fr_split[1] \n",
    "                    email_address = fr_split\n",
    "                else :\n",
    "                    name = fr\n",
    "\n",
    "            print(i)\n",
    "            print(name)\n",
    "            print(email_address)\n",
    "\n",
    "            # 메일 제목\n",
    "            subject = make_header(decode_header(email_message.get('Subject')))\n",
    "\n",
    "            # 메일 내용\n",
    "            body = \"\"\n",
    "            if email_message.is_multipart():\n",
    "                for part in email_message.walk():\n",
    "                    ctype = part.get_content_type()\n",
    "                    cdispo = str(part.get('Content-Disposition'))\n",
    "                    if ctype == 'text/plain' and 'attachment' not in cdispo:\n",
    "                        body = part.get_payload(decode=True)  # decode\n",
    "                        break\n",
    "            else:\n",
    "                body = email_message.get_payload(decode=True)\n",
    "\n",
    "            # 내용 부분 디코딩\n",
    "            if body:\n",
    "                try:\n",
    "                    body = body.decode('utf-8')\n",
    "                except UnicodeDecodeError:\n",
    "                    # UTF-8로 디코딩할 수 없는 경우 대체 문자로 처리\n",
    "                    body = body.decode('utf-8', errors='replace')\n",
    "            else:\n",
    "                body = \"\"\n",
    "\n",
    "            data = {'보낸이': [name], \"메일주소\" : [email_address], '제목': [subject], '내용': [body]}\n",
    "            df = pd.DataFrame(data)\n",
    "            mail_df = pd.concat([mail_df, df], ignore_index=True)\n",
    "        except:\n",
    "            pass"
   ]
  },
  {
   "cell_type": "code",
   "execution_count": 10,
   "id": "8c897812-07c1-41f4-9385-66ded85d2df3",
   "metadata": {
    "scrolled": true,
    "tags": []
   },
   "outputs": [
    {
     "data": {
      "text/plain": [
       "(70, 4)"
      ]
     },
     "execution_count": 10,
     "metadata": {},
     "output_type": "execute_result"
    }
   ],
   "source": [
    "mail_df.shape"
   ]
  },
  {
   "cell_type": "code",
   "execution_count": 11,
   "id": "94485afc-0b17-456f-9fb4-ef944dbf510a",
   "metadata": {},
   "outputs": [
    {
     "ename": "SyntaxError",
     "evalue": "invalid syntax (1241381794.py, line 1)",
     "output_type": "error",
     "traceback": [
      "\u001b[1;36m  File \u001b[1;32m\"C:\\Users\\User\\AppData\\Local\\Temp\\ipykernel_9308\\1241381794.py\"\u001b[1;36m, line \u001b[1;32m1\u001b[0m\n\u001b[1;33m    -------------\u001b[0m\n\u001b[1;37m                 ^\u001b[0m\n\u001b[1;31mSyntaxError\u001b[0m\u001b[1;31m:\u001b[0m invalid syntax\n"
     ]
    }
   ],
   "source": [
    "-------------"
   ]
  },
  {
   "cell_type": "code",
   "execution_count": 12,
   "id": "35d8662f-30db-4558-9406-29d23d804752",
   "metadata": {},
   "outputs": [],
   "source": [
    "# 최종적 저장\n",
    "mail_df.to_csv(\"./mail.csv\", index = False)"
   ]
  },
  {
   "cell_type": "code",
   "execution_count": 23,
   "id": "27c5586d-aaf1-4921-808f-8086a9786b72",
   "metadata": {},
   "outputs": [
    {
     "data": {
      "text/plain": [
       "(70, 4)"
      ]
     },
     "execution_count": 23,
     "metadata": {},
     "output_type": "execute_result"
    }
   ],
   "source": [
    "# 내용 확인\n",
    "pd.read_csv(\"./mail.csv\").shape"
   ]
  },
  {
   "cell_type": "code",
   "execution_count": 24,
   "id": "52727888-f68a-4678-9ada-e45c885142be",
   "metadata": {},
   "outputs": [
    {
     "data": {
      "text/html": [
       "<div>\n",
       "<style scoped>\n",
       "    .dataframe tbody tr th:only-of-type {\n",
       "        vertical-align: middle;\n",
       "    }\n",
       "\n",
       "    .dataframe tbody tr th {\n",
       "        vertical-align: top;\n",
       "    }\n",
       "\n",
       "    .dataframe thead th {\n",
       "        text-align: right;\n",
       "    }\n",
       "</style>\n",
       "<table border=\"1\" class=\"dataframe\">\n",
       "  <thead>\n",
       "    <tr style=\"text-align: right;\">\n",
       "      <th></th>\n",
       "      <th>보낸이</th>\n",
       "      <th>메일주소</th>\n",
       "      <th>제목</th>\n",
       "      <th>내용</th>\n",
       "    </tr>\n",
       "  </thead>\n",
       "  <tbody>\n",
       "    <tr>\n",
       "      <th>0</th>\n",
       "      <td>네이버 시리즈</td>\n",
       "      <td>series_noreply@webtoonscorp.com</td>\n",
       "      <td>[네이버 시리즈] '히든 특성 13개 ...'의 구매 내역을 안내해 드립니다.</td>\n",
       "      <td></td>\n",
       "    </tr>\n",
       "    <tr>\n",
       "      <th>1</th>\n",
       "      <td>\" 현금이벤트 \"</td>\n",
       "      <td>nbadmin2@imga1.com</td>\n",
       "      <td>(광고) 않바꾸면 손해! 인터넷 변경하고 현금 47만원 받아가세요~</td>\n",
       "      <td>&lt;table width=\"100%\" border=\"0\" cellspacing=\"0\"...</td>\n",
       "    </tr>\n",
       "    <tr>\n",
       "      <th>2</th>\n",
       "      <td>네이버 시리즈</td>\n",
       "      <td>series_noreply@webtoonscorp.com</td>\n",
       "      <td>[네이버 시리즈] '아카데미 편의점으로...'의 구매 내역을 안내해 드립니다.</td>\n",
       "      <td></td>\n",
       "    </tr>\n",
       "    <tr>\n",
       "      <th>3</th>\n",
       "      <td>네이버 시리즈</td>\n",
       "      <td>series_noreply@webtoonscorp.com</td>\n",
       "      <td>[네이버 시리즈] '나 혼자 탑에서 농...'의 구매 내역을 안내해 드립니다.</td>\n",
       "      <td></td>\n",
       "    </tr>\n",
       "    <tr>\n",
       "      <th>4</th>\n",
       "      <td>네이버 시리즈</td>\n",
       "      <td>series_noreply@webtoonscorp.com</td>\n",
       "      <td>[네이버 시리즈] '멸망 예정인 아카데...'의 구매 내역을 안내해 드립니다.</td>\n",
       "      <td></td>\n",
       "    </tr>\n",
       "    <tr>\n",
       "      <th>...</th>\n",
       "      <td>...</td>\n",
       "      <td>...</td>\n",
       "      <td>...</td>\n",
       "      <td>...</td>\n",
       "    </tr>\n",
       "    <tr>\n",
       "      <th>65</th>\n",
       "      <td>온라인마케터스</td>\n",
       "      <td>manager@successbizcom.com</td>\n",
       "      <td>(광고)신규,잠재 고객유입 온라인 마케팅. CPA마케팅</td>\n",
       "      <td>[https://hiddenmailer.com/mail/gourl.php?campa...</td>\n",
       "    </tr>\n",
       "    <tr>\n",
       "      <th>66</th>\n",
       "      <td>네이버 시리즈</td>\n",
       "      <td>series_noreply@webtoonscorp.com</td>\n",
       "      <td>[네이버 시리즈] '아카데미 편의점으로...'의 구매 내역을 안내해 드립니다.</td>\n",
       "      <td></td>\n",
       "    </tr>\n",
       "    <tr>\n",
       "      <th>67</th>\n",
       "      <td>CHEOMAD</td>\n",
       "      <td>admin@cheom-ad.kr</td>\n",
       "      <td>(광고) 하늘안과 겨울한정 라식/라섹 이벤트 시작!  [ 4가지 특별혜택 ]</td>\n",
       "      <td>&lt;html&gt;\\r\\n\\r\\n&lt;body&gt;\\r\\n\\r\\n&lt;table border=\"0\" ...</td>\n",
       "    </tr>\n",
       "    <tr>\n",
       "      <th>68</th>\n",
       "      <td>네이버</td>\n",
       "      <td>account_noreply@navercorp.com</td>\n",
       "      <td>2단계 인증 기능이 설정되었습니다.</td>\n",
       "      <td>\\n&lt;!-- 아웃룩용 max-width 핵 --&gt; &lt;!--[if (gte mso 9...</td>\n",
       "    </tr>\n",
       "    <tr>\n",
       "      <th>69</th>\n",
       "      <td>네이버</td>\n",
       "      <td>account_noreply@navercorp.com</td>\n",
       "      <td>2단계 인증을 위한 애플리케이션 비밀번호 생성</td>\n",
       "      <td>\\n&lt;!-- 아웃룩용 max-width 핵 --&gt; &lt;!--[if (gte mso 9...</td>\n",
       "    </tr>\n",
       "  </tbody>\n",
       "</table>\n",
       "<p>70 rows × 4 columns</p>\n",
       "</div>"
      ],
      "text/plain": [
       "          보낸이                             메일주소  \\\n",
       "0     네이버 시리즈  series_noreply@webtoonscorp.com   \n",
       "1   \" 현금이벤트 \"               nbadmin2@imga1.com   \n",
       "2     네이버 시리즈  series_noreply@webtoonscorp.com   \n",
       "3     네이버 시리즈  series_noreply@webtoonscorp.com   \n",
       "4     네이버 시리즈  series_noreply@webtoonscorp.com   \n",
       "..        ...                              ...   \n",
       "65    온라인마케터스        manager@successbizcom.com   \n",
       "66    네이버 시리즈  series_noreply@webtoonscorp.com   \n",
       "67    CHEOMAD                admin@cheom-ad.kr   \n",
       "68        네이버    account_noreply@navercorp.com   \n",
       "69        네이버    account_noreply@navercorp.com   \n",
       "\n",
       "                                             제목  \\\n",
       "0   [네이버 시리즈] '히든 특성 13개 ...'의 구매 내역을 안내해 드립니다.   \n",
       "1         (광고) 않바꾸면 손해! 인터넷 변경하고 현금 47만원 받아가세요~   \n",
       "2   [네이버 시리즈] '아카데미 편의점으로...'의 구매 내역을 안내해 드립니다.   \n",
       "3   [네이버 시리즈] '나 혼자 탑에서 농...'의 구매 내역을 안내해 드립니다.   \n",
       "4   [네이버 시리즈] '멸망 예정인 아카데...'의 구매 내역을 안내해 드립니다.   \n",
       "..                                          ...   \n",
       "65               (광고)신규,잠재 고객유입 온라인 마케팅. CPA마케팅   \n",
       "66  [네이버 시리즈] '아카데미 편의점으로...'의 구매 내역을 안내해 드립니다.   \n",
       "67   (광고) 하늘안과 겨울한정 라식/라섹 이벤트 시작!  [ 4가지 특별혜택 ]   \n",
       "68                          2단계 인증 기능이 설정되었습니다.   \n",
       "69                    2단계 인증을 위한 애플리케이션 비밀번호 생성   \n",
       "\n",
       "                                                   내용  \n",
       "0                                                      \n",
       "1   <table width=\"100%\" border=\"0\" cellspacing=\"0\"...  \n",
       "2                                                      \n",
       "3                                                      \n",
       "4                                                      \n",
       "..                                                ...  \n",
       "65  [https://hiddenmailer.com/mail/gourl.php?campa...  \n",
       "66                                                     \n",
       "67  <html>\\r\\n\\r\\n<body>\\r\\n\\r\\n<table border=\"0\" ...  \n",
       "68  \\n<!-- 아웃룩용 max-width 핵 --> <!--[if (gte mso 9...  \n",
       "69  \\n<!-- 아웃룩용 max-width 핵 --> <!--[if (gte mso 9...  \n",
       "\n",
       "[70 rows x 4 columns]"
      ]
     },
     "execution_count": 24,
     "metadata": {},
     "output_type": "execute_result"
    }
   ],
   "source": [
    "mail_df"
   ]
  },
  {
   "cell_type": "code",
   "execution_count": null,
   "id": "fb1e5a63-de48-428b-a5cb-cc0da81f483e",
   "metadata": {},
   "outputs": [],
   "source": []
  }
 ],
 "metadata": {
  "kernelspec": {
   "display_name": "Python 3 (ipykernel)",
   "language": "python",
   "name": "python3"
  },
  "language_info": {
   "codemirror_mode": {
    "name": "ipython",
    "version": 3
   },
   "file_extension": ".py",
   "mimetype": "text/x-python",
   "name": "python",
   "nbconvert_exporter": "python",
   "pygments_lexer": "ipython3",
   "version": "3.9.13"
  }
 },
 "nbformat": 4,
 "nbformat_minor": 5
}
