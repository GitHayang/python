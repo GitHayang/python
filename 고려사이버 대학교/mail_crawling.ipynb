{
 "cells": [
  {
   "cell_type": "code",
   "execution_count": 1,
   "id": "ad325cbd-2d28-4ed1-8c3c-72891f385af9",
   "metadata": {},
   "outputs": [],
   "source": [
    "import pandas as pd\n",
    "import numpy as np\n",
    "from bs4 import BeautifulSoup\n",
    "import requests\n",
    "import imaplib"
   ]
  },
  {
   "cell_type": "code",
   "execution_count": 2,
   "id": "475fd671-d320-46c5-b61e-44631db20ea4",
   "metadata": {},
   "outputs": [],
   "source": [
    "import email\n",
    "from email.header import decode_header, make_header"
   ]
  },
  {
   "cell_type": "code",
   "execution_count": 3,
   "id": "7dc7b248-f5db-4c3c-bb64-a0a8cbe40cec",
   "metadata": {},
   "outputs": [],
   "source": [
    "import re"
   ]
  },
  {
   "cell_type": "code",
   "execution_count": 4,
   "id": "d1f19a91-8539-48c4-90ca-73df3b5620dd",
   "metadata": {},
   "outputs": [],
   "source": [
    "imap = imaplib.IMAP4_SSL(\"imap.gmail.com\")"
   ]
  },
  {
   "cell_type": "code",
   "execution_count": 5,
   "id": "14dba069-c9fc-4a7a-a52f-5cbd342d7f33",
   "metadata": {},
   "outputs": [],
   "source": [
    "google_id = \"hayangee100@gmail.com\"\n",
    "google_pw = pd.read_csv(\"./google_passwoed/google_password.csv\")\n",
    "google_pw = list(google_pw)[0]"
   ]
  },
  {
   "cell_type": "code",
   "execution_count": 6,
   "id": "1c444b05-8e0e-494f-8c3f-9d54d032086d",
   "metadata": {},
   "outputs": [
    {
     "data": {
      "text/plain": [
       "('OK', [b'hayangee100@gmail.com authenticated (Success)'])"
      ]
     },
     "execution_count": 6,
     "metadata": {},
     "output_type": "execute_result"
    }
   ],
   "source": [
    "imap.login(google_id, google_pw)"
   ]
  },
  {
   "cell_type": "code",
   "execution_count": 7,
   "id": "fbf6f221-923d-4bc7-b39f-5d4908327eb5",
   "metadata": {},
   "outputs": [
    {
     "data": {
      "text/plain": [
       "('OK', [b'43'])"
      ]
     },
     "execution_count": 7,
     "metadata": {},
     "output_type": "execute_result"
    }
   ],
   "source": [
    "# 사서함 선택, 반환 데이터는 mailbox에 있는 메시지 수\n",
    "imap.select(\"INBOX\")"
   ]
  },
  {
   "cell_type": "code",
   "execution_count": 8,
   "id": "b3536f8a-7930-437d-880a-bf1844e7c7ad",
   "metadata": {},
   "outputs": [
    {
     "data": {
      "text/plain": [
       "'OK'"
      ]
     },
     "execution_count": 8,
     "metadata": {},
     "output_type": "execute_result"
    }
   ],
   "source": [
    "# 사서함의 모든 메일의 uid 정보 가져오기\n",
    "# 만약 특정 발신 메일만 선택하고 싶다면 'ALL' 대신에 '(FROM \"xxxxx@naver.com\")' 입력\n",
    "status, messages = imap.uid('search', None, 'ALL')\n",
    "status"
   ]
  },
  {
   "cell_type": "code",
   "execution_count": 9,
   "id": "2e805465-e5e3-4340-b13d-e79f4003fe08",
   "metadata": {
    "scrolled": true,
    "tags": []
   },
   "outputs": [],
   "source": [
    "messages = messages[0].split()"
   ]
  },
  {
   "cell_type": "code",
   "execution_count": 10,
   "id": "2a48ab4c-2bb9-488b-8588-cf4e35a45b82",
   "metadata": {},
   "outputs": [
    {
     "data": {
      "text/plain": [
       "b'318'"
      ]
     },
     "execution_count": 10,
     "metadata": {},
     "output_type": "execute_result"
    }
   ],
   "source": [
    "# 0이 가장 마지막 메일(옛날거), -1이 가장 최신 메일\n",
    "# recent_email = messages[-1]\n",
    "\n",
    "recent_email = messages[-1]\n",
    "recent_email"
   ]
  },
  {
   "cell_type": "code",
   "execution_count": 11,
   "id": "c0a3822c-94d6-4bf6-aaf2-c7e27e3785dd",
   "metadata": {
    "scrolled": true,
    "tags": []
   },
   "outputs": [],
   "source": [
    "# fetch 명령어로 메일 가져오기\n",
    "res, msg = imap.uid('fetch', recent_email, \"(RFC822)\")"
   ]
  },
  {
   "cell_type": "code",
   "execution_count": 12,
   "id": "a1d2f8b8-aedb-42bf-a4eb-7521c0831633",
   "metadata": {
    "scrolled": true,
    "tags": []
   },
   "outputs": [],
   "source": [
    "# 사람이 읽을 수 있는 없는 상태의 이메일\n",
    "raw = msg[0][1]"
   ]
  },
  {
   "cell_type": "code",
   "execution_count": 13,
   "id": "fc87583c-9547-4dc7-8bf0-9b6cf4ab0b7f",
   "metadata": {
    "scrolled": true,
    "tags": []
   },
   "outputs": [],
   "source": [
    "# 사람이 읽을 수 있는 형태로 변환\n",
    "raw_readable = msg[0][1].decode('utf-8')"
   ]
  },
  {
   "cell_type": "code",
   "execution_count": 14,
   "id": "f60c3eaa-fb5d-4f3e-a062-22143c1d5069",
   "metadata": {},
   "outputs": [],
   "source": [
    "# raw_readable에서 원하는 부분만 파싱하기 위해 email 모듈을 이용해 변환\n",
    "email_message = email.message_from_string(raw_readable)"
   ]
  },
  {
   "cell_type": "code",
   "execution_count": 15,
   "id": "4dc36af5-9696-44d9-a011-9b4fc6b04fef",
   "metadata": {},
   "outputs": [
    {
     "name": "stdout",
     "output_type": "stream",
     "text": [
      "hayangee100@gmail.com\n"
     ]
    }
   ],
   "source": [
    "# 보낸사람\n",
    "fr_header = make_header(decode_header(email_message.get('From')))\n",
    "print(fr_header)"
   ]
  },
  {
   "cell_type": "code",
   "execution_count": 16,
   "id": "5f9c2362-25bb-4b15-921d-f3aa213b5ecc",
   "metadata": {},
   "outputs": [
    {
     "data": {
      "text/plain": [
       "<email.header.Header at 0x27673683670>"
      ]
     },
     "execution_count": 16,
     "metadata": {},
     "output_type": "execute_result"
    }
   ],
   "source": [
    "fr_header = email_message.get('From')\n",
    "decoded_fr = make_header(decode_header(fr_header))\n",
    "decoded_fr"
   ]
  },
  {
   "cell_type": "code",
   "execution_count": 17,
   "id": "b6347ca5-63fc-439a-b727-530ffe7e3f00",
   "metadata": {},
   "outputs": [
    {
     "data": {
      "text/plain": [
       "'hayangee100@gmail.com'"
      ]
     },
     "execution_count": 17,
     "metadata": {},
     "output_type": "execute_result"
    }
   ],
   "source": [
    "# 디코딩된 문자열을 문자열로 변환\n",
    "fr = str(decoded_fr)\n",
    "fr"
   ]
  },
  {
   "cell_type": "code",
   "execution_count": 18,
   "id": "13a962c5-4010-4b79-86c0-3f480fb2838c",
   "metadata": {},
   "outputs": [],
   "source": [
    "match = re.match(r'(.+?)\\s*<(.+?)>', fr)"
   ]
  },
  {
   "cell_type": "code",
   "execution_count": 19,
   "id": "466010b5-3369-427b-a4a8-e7dc8aee5f75",
   "metadata": {},
   "outputs": [
    {
     "name": "stdout",
     "output_type": "stream",
     "text": [
      "패턴이 매치되지 않았습니다.\n"
     ]
    }
   ],
   "source": [
    "name = \"\"\n",
    "email_address = \"\"\n",
    "if match:\n",
    "    name = match.group(1).strip()\n",
    "    email_address = match.group(2).strip()\n",
    "\n",
    "    print(\"Name:\", name)\n",
    "    print(\"Email Address:\", email_address)\n",
    "else:\n",
    "    print(\"패턴이 매치되지 않았습니다.\")\n",
    "    if fr.split(\"@\"):\n",
    "        fr_split = fr.split(\"@\")\n",
    "        fr_split = fr_split[0] + \"@\" + fr_split[1] \n",
    "        email_address = fr_split\n",
    "    else :\n",
    "        name = fr"
   ]
  },
  {
   "cell_type": "code",
   "execution_count": 20,
   "id": "9c77ad7f-ff6e-47dc-a169-5da758021869",
   "metadata": {},
   "outputs": [
    {
     "name": "stdout",
     "output_type": "stream",
     "text": [
      "\n",
      "hayangee100@gmail.com\n"
     ]
    }
   ],
   "source": [
    "print(name)\n",
    "print(email_address)"
   ]
  },
  {
   "cell_type": "code",
   "execution_count": 21,
   "id": "d8dfcffe-9fcd-47af-b528-9725f5ee33fe",
   "metadata": {},
   "outputs": [
    {
     "name": "stdout",
     "output_type": "stream",
     "text": [
      "제목: 파이썬으로 Gmail 보내기\n"
     ]
    }
   ],
   "source": [
    "# 메일 제목\n",
    "subject = make_header(decode_header(email_message.get('Subject')))\n",
    "print(subject)"
   ]
  },
  {
   "cell_type": "code",
   "execution_count": 22,
   "id": "2e9b2639-7bdd-4131-b85e-4eb489142a02",
   "metadata": {},
   "outputs": [],
   "source": [
    "body = \"\"\n",
    "# 메일 내용\n",
    "if email_message.is_multipart():\n",
    "    for part in email_message.walk():\n",
    "        ctype = part.get_content_type()\n",
    "        cdispo = str(part.get('Content-Disposition'))\n",
    "        if ctype == 'text/plain' and 'attachment' not in cdispo:\n",
    "            body = part.get_payload(decode=True)  # decode\n",
    "            break\n",
    "else:\n",
    "    body = email_message.get_payload(decode=True)"
   ]
  },
  {
   "cell_type": "code",
   "execution_count": 23,
   "id": "86be6fa9-6d44-4bc2-9460-864c6436cb35",
   "metadata": {
    "scrolled": true,
    "tags": []
   },
   "outputs": [
    {
     "name": "stdout",
     "output_type": "stream",
     "text": [
      "내용: 본문 내용\n"
     ]
    }
   ],
   "source": [
    "# 내용 부분 디코딩\n",
    "if body != \"\":\n",
    "    body = body.decode('utf-8')\n",
    "else :\n",
    "    body = \"\"\n",
    "print(body)"
   ]
  },
  {
   "cell_type": "raw",
   "id": "3fce23ec-7fa2-4539-af4b-9f880936745d",
   "metadata": {},
   "source": [
    "# 최초 1회 데이터 프레임 생성\n",
    "columns = ['보낸이', '메일주소', '제목', '내용']\n",
    "mail_df = pd.DataFrame(columns=columns)\n",
    "mail_df"
   ]
  },
  {
   "cell_type": "code",
   "execution_count": 24,
   "id": "1a1c4a61-7ba3-485d-b5d1-c4b5775301f6",
   "metadata": {},
   "outputs": [
    {
     "data": {
      "text/html": [
       "<div>\n",
       "<style scoped>\n",
       "    .dataframe tbody tr th:only-of-type {\n",
       "        vertical-align: middle;\n",
       "    }\n",
       "\n",
       "    .dataframe tbody tr th {\n",
       "        vertical-align: top;\n",
       "    }\n",
       "\n",
       "    .dataframe thead th {\n",
       "        text-align: right;\n",
       "    }\n",
       "</style>\n",
       "<table border=\"1\" class=\"dataframe\">\n",
       "  <thead>\n",
       "    <tr style=\"text-align: right;\">\n",
       "      <th></th>\n",
       "      <th>보낸이</th>\n",
       "      <th>메일주소</th>\n",
       "      <th>제목</th>\n",
       "      <th>내용</th>\n",
       "    </tr>\n",
       "  </thead>\n",
       "  <tbody>\n",
       "  </tbody>\n",
       "</table>\n",
       "</div>"
      ],
      "text/plain": [
       "Empty DataFrame\n",
       "Columns: [보낸이, 메일주소, 제목, 내용]\n",
       "Index: []"
      ]
     },
     "execution_count": 24,
     "metadata": {},
     "output_type": "execute_result"
    }
   ],
   "source": [
    "# 미리 만들어둔 빈 데이터 프레임\n",
    "mail_df = pd.read_csv(\"./mail.csv\")\n",
    "mail_df"
   ]
  },
  {
   "cell_type": "code",
   "execution_count": 25,
   "id": "fb8493e7-ac4d-40a6-a382-2192665dda1a",
   "metadata": {},
   "outputs": [],
   "source": [
    "# 데이터 프레임으로 만들기\n",
    "data = {'보낸이': [name], \"메일주소\" : [email_address], '제목': [subject], '내용': [body]}\n",
    "df = pd.DataFrame(data)"
   ]
  },
  {
   "cell_type": "code",
   "execution_count": 26,
   "id": "66efb5a7-9b8e-4b5a-87e9-2ebc02b1b66f",
   "metadata": {},
   "outputs": [
    {
     "data": {
      "text/html": [
       "<div>\n",
       "<style scoped>\n",
       "    .dataframe tbody tr th:only-of-type {\n",
       "        vertical-align: middle;\n",
       "    }\n",
       "\n",
       "    .dataframe tbody tr th {\n",
       "        vertical-align: top;\n",
       "    }\n",
       "\n",
       "    .dataframe thead th {\n",
       "        text-align: right;\n",
       "    }\n",
       "</style>\n",
       "<table border=\"1\" class=\"dataframe\">\n",
       "  <thead>\n",
       "    <tr style=\"text-align: right;\">\n",
       "      <th></th>\n",
       "      <th>보낸이</th>\n",
       "      <th>메일주소</th>\n",
       "      <th>제목</th>\n",
       "      <th>내용</th>\n",
       "    </tr>\n",
       "  </thead>\n",
       "  <tbody>\n",
       "    <tr>\n",
       "      <th>0</th>\n",
       "      <td></td>\n",
       "      <td>hayangee100@gmail.com</td>\n",
       "      <td>제목: 파이썬으로 Gmail 보내기</td>\n",
       "      <td>내용: 본문 내용</td>\n",
       "    </tr>\n",
       "  </tbody>\n",
       "</table>\n",
       "</div>"
      ],
      "text/plain": [
       "  보낸이                   메일주소                   제목         내용\n",
       "0      hayangee100@gmail.com  제목: 파이썬으로 Gmail 보내기  내용: 본문 내용"
      ]
     },
     "execution_count": 26,
     "metadata": {},
     "output_type": "execute_result"
    }
   ],
   "source": [
    "df"
   ]
  },
  {
   "cell_type": "code",
   "execution_count": 27,
   "id": "fbe89e27-f6b4-4c5d-b74d-1aa65fa86a50",
   "metadata": {},
   "outputs": [],
   "source": [
    "mail_df = pd.concat([mail_df, df], ignore_index=True)"
   ]
  },
  {
   "cell_type": "code",
   "execution_count": 28,
   "id": "d984af0c-ff23-4725-9f68-6c40b87b36bc",
   "metadata": {},
   "outputs": [
    {
     "data": {
      "text/html": [
       "<div>\n",
       "<style scoped>\n",
       "    .dataframe tbody tr th:only-of-type {\n",
       "        vertical-align: middle;\n",
       "    }\n",
       "\n",
       "    .dataframe tbody tr th {\n",
       "        vertical-align: top;\n",
       "    }\n",
       "\n",
       "    .dataframe thead th {\n",
       "        text-align: right;\n",
       "    }\n",
       "</style>\n",
       "<table border=\"1\" class=\"dataframe\">\n",
       "  <thead>\n",
       "    <tr style=\"text-align: right;\">\n",
       "      <th></th>\n",
       "      <th>보낸이</th>\n",
       "      <th>메일주소</th>\n",
       "      <th>제목</th>\n",
       "      <th>내용</th>\n",
       "    </tr>\n",
       "  </thead>\n",
       "  <tbody>\n",
       "    <tr>\n",
       "      <th>0</th>\n",
       "      <td></td>\n",
       "      <td>hayangee100@gmail.com</td>\n",
       "      <td>제목: 파이썬으로 Gmail 보내기</td>\n",
       "      <td>내용: 본문 내용</td>\n",
       "    </tr>\n",
       "  </tbody>\n",
       "</table>\n",
       "</div>"
      ],
      "text/plain": [
       "  보낸이                   메일주소                   제목         내용\n",
       "0      hayangee100@gmail.com  제목: 파이썬으로 Gmail 보내기  내용: 본문 내용"
      ]
     },
     "execution_count": 28,
     "metadata": {},
     "output_type": "execute_result"
    }
   ],
   "source": [
    "mail_df"
   ]
  },
  {
   "cell_type": "code",
   "execution_count": 29,
   "id": "58a366ae-2a80-4939-af47-d1f2ed315d4d",
   "metadata": {},
   "outputs": [
    {
     "ename": "SyntaxError",
     "evalue": "invalid syntax (3549499166.py, line 1)",
     "output_type": "error",
     "traceback": [
      "\u001b[1;36m  File \u001b[1;32m\"C:\\Users\\User\\AppData\\Local\\Temp\\ipykernel_7116\\3549499166.py\"\u001b[1;36m, line \u001b[1;32m1\u001b[0m\n\u001b[1;33m    ------\u001b[0m\n\u001b[1;37m          ^\u001b[0m\n\u001b[1;31mSyntaxError\u001b[0m\u001b[1;31m:\u001b[0m invalid syntax\n"
     ]
    }
   ],
   "source": [
    "------"
   ]
  },
  {
   "cell_type": "code",
   "execution_count": null,
   "id": "bbc794a0-8b52-479d-9759-449aebfc58ae",
   "metadata": {},
   "outputs": [],
   "source": [
    "# 최종적 저장\n",
    "mail_df.to_csv(\"./mail.csv\", index = False)"
   ]
  },
  {
   "cell_type": "code",
   "execution_count": null,
   "id": "6f22e03a-4459-4f23-904f-b74efd7aaafd",
   "metadata": {},
   "outputs": [],
   "source": [
    "pd.read_csv(\"./mail.csv\")"
   ]
  },
  {
   "cell_type": "code",
   "execution_count": null,
   "id": "c592a34c-17ac-4f36-a746-3bcd68d862bf",
   "metadata": {},
   "outputs": [],
   "source": []
  }
 ],
 "metadata": {
  "kernelspec": {
   "display_name": "Python 3 (ipykernel)",
   "language": "python",
   "name": "python3"
  },
  "language_info": {
   "codemirror_mode": {
    "name": "ipython",
    "version": 3
   },
   "file_extension": ".py",
   "mimetype": "text/x-python",
   "name": "python",
   "nbconvert_exporter": "python",
   "pygments_lexer": "ipython3",
   "version": "3.9.13"
  }
 },
 "nbformat": 4,
 "nbformat_minor": 5
}
