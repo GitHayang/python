{
 "cells": [
  {
   "cell_type": "code",
   "execution_count": 5,
   "id": "f01233ca-3320-489d-a084-1de55076fdee",
   "metadata": {},
   "outputs": [],
   "source": [
    "import smtplib\n",
    "from email.mime.text import MIMEText\n",
    "import os"
   ]
  },
  {
   "cell_type": "code",
   "execution_count": 6,
   "id": "c2f04af4-4f5e-414c-aec2-26a98b71f493",
   "metadata": {},
   "outputs": [],
   "source": [
    "import pandas as pd"
   ]
  },
  {
   "cell_type": "code",
   "execution_count": 13,
   "id": "ace21d9e-9c5a-442b-ad9a-a2e2e3719f64",
   "metadata": {},
   "outputs": [],
   "source": [
    "# Gmail 계정으로 로그인"
   ]
  },
  {
   "cell_type": "code",
   "execution_count": 14,
   "id": "42634ca3-011b-4f9c-b839-76fbc0d1311b",
   "metadata": {},
   "outputs": [
    {
     "data": {
      "text/plain": [
       "'qypc beii jrcm txef'"
      ]
     },
     "execution_count": 14,
     "metadata": {},
     "output_type": "execute_result"
    }
   ],
   "source": [
    "email_address = 'hayangee100@gmail.com'\n",
    "email_password = pd.read_csv(\"./google_password.csv\")\n",
    "email_password = list(email_password)[0]\n",
    "email_password"
   ]
  },
  {
   "cell_type": "code",
   "execution_count": null,
   "id": "3a9e5648-aa65-4346-8000-2046afe0178f",
   "metadata": {},
   "outputs": [],
   "source": [
    "# 발신자, 수신자 이메일 주소 설정\n",
    "from_address = 'hayangee100@gmail.com'\n",
    "to_address = 'hayangee100@gmail.com'"
   ]
  },
  {
   "cell_type": "code",
   "execution_count": null,
   "id": "45a09f88-ad60-43b5-93e0-ccd678db38a8",
   "metadata": {},
   "outputs": [],
   "source": [
    "# 이메일 내용 설정\n",
    "msg = MIMEText('내용: 본문 내용')\n",
    "msg['Subject'] = '제목: 파이썬으로 Gmail 보내기'"
   ]
  },
  {
   "cell_type": "code",
   "execution_count": 11,
   "id": "5487392d-a8c1-4133-8e89-46fcbb92aefa",
   "metadata": {},
   "outputs": [
    {
     "data": {
      "text/plain": [
       "(221,\n",
       " b'2.0.0 closing connection x26-20020a62fb1a000000b006ce48a0b7c6sm365506pfm.109 - gsmtp')"
      ]
     },
     "execution_count": 11,
     "metadata": {},
     "output_type": "execute_result"
    }
   ],
   "source": [
    "# Gmail SMTP 서버에 연결\n",
    "smtp = smtplib.SMTP('smtp.gmail.com', 587)\n",
    "\n",
    "# 서버 연결 시작\n",
    "smtp.ehlo()\n",
    "\n",
    "# TLS 암호화 시작\n",
    "smtp.starttls()\n",
    "\n",
    "# 로그인\n",
    "smtp.login(email_address, email_password)\n",
    "\n",
    "# 이메일 전송\n",
    "smtp.sendmail(from_address, to_address, msg.as_string())\n",
    "\n",
    "# 서버 연결 종료\n",
    "smtp.quit()"
   ]
  },
  {
   "cell_type": "code",
   "execution_count": null,
   "id": "6b6ef47f-e91e-475d-8438-d4a742b9ded4",
   "metadata": {},
   "outputs": [],
   "source": []
  }
 ],
 "metadata": {
  "kernelspec": {
   "display_name": "Python 3 (ipykernel)",
   "language": "python",
   "name": "python3"
  },
  "language_info": {
   "codemirror_mode": {
    "name": "ipython",
    "version": 3
   },
   "file_extension": ".py",
   "mimetype": "text/x-python",
   "name": "python",
   "nbconvert_exporter": "python",
   "pygments_lexer": "ipython3",
   "version": "3.9.13"
  }
 },
 "nbformat": 4,
 "nbformat_minor": 5
}
