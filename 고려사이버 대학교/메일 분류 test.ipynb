{
 "cells": [
  {
   "cell_type": "code",
   "execution_count": 28,
   "id": "06a9a117-c5f7-4469-a137-cc3e8844403c",
   "metadata": {},
   "outputs": [],
   "source": [
    "import pandas as pd"
   ]
  },
  {
   "cell_type": "code",
   "execution_count": 29,
   "id": "16c5ecef-7a4b-4db6-b42e-de37c2b83c92",
   "metadata": {},
   "outputs": [
    {
     "data": {
      "text/html": [
       "<div>\n",
       "<style scoped>\n",
       "    .dataframe tbody tr th:only-of-type {\n",
       "        vertical-align: middle;\n",
       "    }\n",
       "\n",
       "    .dataframe tbody tr th {\n",
       "        vertical-align: top;\n",
       "    }\n",
       "\n",
       "    .dataframe thead th {\n",
       "        text-align: right;\n",
       "    }\n",
       "</style>\n",
       "<table border=\"1\" class=\"dataframe\">\n",
       "  <thead>\n",
       "    <tr style=\"text-align: right;\">\n",
       "      <th></th>\n",
       "      <th>sender</th>\n",
       "    </tr>\n",
       "  </thead>\n",
       "  <tbody>\n",
       "    <tr>\n",
       "      <th>0</th>\n",
       "      <td>네이버 시리즈</td>\n",
       "    </tr>\n",
       "    <tr>\n",
       "      <th>1</th>\n",
       "      <td>다음</td>\n",
       "    </tr>\n",
       "    <tr>\n",
       "      <th>2</th>\n",
       "      <td>구글</td>\n",
       "    </tr>\n",
       "    <tr>\n",
       "      <th>3</th>\n",
       "      <td>네이버</td>\n",
       "    </tr>\n",
       "    <tr>\n",
       "      <th>4</th>\n",
       "      <td>카카오</td>\n",
       "    </tr>\n",
       "    <tr>\n",
       "      <th>5</th>\n",
       "      <td>카카오 페이지</td>\n",
       "    </tr>\n",
       "  </tbody>\n",
       "</table>\n",
       "</div>"
      ],
      "text/plain": [
       "    sender\n",
       "0  네이버 시리즈\n",
       "1       다음\n",
       "2       구글\n",
       "3      네이버\n",
       "4      카카오\n",
       "5  카카오 페이지"
      ]
     },
     "execution_count": 29,
     "metadata": {},
     "output_type": "execute_result"
    }
   ],
   "source": [
    "df = pd.read_excel(\"./test_sender.xlsx\")\n",
    "df"
   ]
  },
  {
   "cell_type": "code",
   "execution_count": 30,
   "id": "e7e5f686-9b51-4f51-a51d-5225b7e575eb",
   "metadata": {},
   "outputs": [
    {
     "data": {
      "text/plain": [
       "array(['네이버 시리즈', '다음', '구글', '네이버', '카카오', '카카오 페이지'], dtype=object)"
      ]
     },
     "execution_count": 30,
     "metadata": {},
     "output_type": "execute_result"
    }
   ],
   "source": [
    "sender = df.sender.unique()\n",
    "sender"
   ]
  },
  {
   "cell_type": "code",
   "execution_count": 31,
   "id": "fe098a74-f89f-4b98-9b9f-a4e8117fd1e3",
   "metadata": {},
   "outputs": [
    {
     "data": {
      "text/plain": [
       "['네이버', '다음', '네이버 시리즈', '스팸', 'spam']"
      ]
     },
     "execution_count": 31,
     "metadata": {},
     "output_type": "execute_result"
    }
   ],
   "source": [
    "tar = [\"네이버\", \"다음\", \"네이버 시리즈\", \"스팸\", \"spam\"]\n",
    "tar"
   ]
  },
  {
   "cell_type": "code",
   "execution_count": 32,
   "id": "2d7ef0f9-8f1a-48c9-859d-257c98519c84",
   "metadata": {},
   "outputs": [
    {
     "name": "stdout",
     "output_type": "stream",
     "text": [
      "네이버 시리즈\n",
      "다음\n",
      "네이버\n"
     ]
    }
   ],
   "source": [
    "for value in sender:\n",
    "    if value in tar:\n",
    "        print(value)"
   ]
  },
  {
   "cell_type": "code",
   "execution_count": 33,
   "id": "c4a82cdf-37e1-464c-94f5-09a33de67080",
   "metadata": {},
   "outputs": [],
   "source": [
    "from datetime import datetime"
   ]
  },
  {
   "cell_type": "code",
   "execution_count": 34,
   "id": "212f7d10-e421-4c69-a486-a1d5b2d3c3dc",
   "metadata": {},
   "outputs": [],
   "source": [
    "current_datetime = datetime.now()"
   ]
  },
  {
   "cell_type": "code",
   "execution_count": 35,
   "id": "d72e7139-fba7-41f3-9362-d02f6d3fb5fc",
   "metadata": {},
   "outputs": [],
   "source": [
    "current_date_string = current_datetime.strftime('%Y-%m-%d %H:%M')"
   ]
  },
  {
   "cell_type": "code",
   "execution_count": 36,
   "id": "8caa7dd6-8502-4090-af79-85659fd52715",
   "metadata": {},
   "outputs": [
    {
     "name": "stdout",
     "output_type": "stream",
     "text": [
      "현재 날짜: 2023-12-07 17:53\n"
     ]
    }
   ],
   "source": [
    "print(\"현재 날짜:\", current_date_string)"
   ]
  },
  {
   "cell_type": "code",
   "execution_count": null,
   "id": "5298bad2-59b0-4951-ab73-ec0948126d3f",
   "metadata": {},
   "outputs": [],
   "source": []
  }
 ],
 "metadata": {
  "kernelspec": {
   "display_name": "Python 3 (ipykernel)",
   "language": "python",
   "name": "python3"
  },
  "language_info": {
   "codemirror_mode": {
    "name": "ipython",
    "version": 3
   },
   "file_extension": ".py",
   "mimetype": "text/x-python",
   "name": "python",
   "nbconvert_exporter": "python",
   "pygments_lexer": "ipython3",
   "version": "3.9.13"
  }
 },
 "nbformat": 4,
 "nbformat_minor": 5
}
