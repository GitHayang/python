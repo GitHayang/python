{
 "cells": [
  {
   "cell_type": "markdown",
   "id": "8d448192-b4b7-4030-a41b-f33e1b22d215",
   "metadata": {},
   "source": [
    "# 모듈 불러오기"
   ]
  },
  {
   "cell_type": "code",
   "execution_count": 1,
   "id": "b609b983-bcf9-4142-b28c-7b452b287d7c",
   "metadata": {},
   "outputs": [],
   "source": [
    "# import re\n",
    "import numpy as np\n",
    "import pandas as pd\n",
    "from sklearn.model_selection import train_test_split\n",
    "from tensorflow.keras.preprocessing.text import Tokenizer\n",
    "from tensorflow.keras.preprocessing.sequence import pad_sequences"
   ]
  },
  {
   "cell_type": "raw",
   "id": "b77a2fd1-e46b-4d16-8388-f2599f6c0ec5",
   "metadata": {},
   "source": [
    "# 한글 형태소 모듈\n",
    "from konlpy.tag import Kkma\n",
    "from konlpy.utils import pprint\n",
    "from konlpy.tag import Okt"
   ]
  },
  {
   "cell_type": "code",
   "execution_count": 2,
   "id": "b0b413fb-ac6f-4ecf-bb0a-657804f4c6af",
   "metadata": {},
   "outputs": [],
   "source": [
    "# 그래프 한글 깨짐\n",
    "import matplotlib.pyplot as plt\n",
    "import matplotlib\n",
    "from matplotlib import font_manager, rc\n",
    "%matplotlib inline\n",
    "plt.rc('font', family='NanumBarunGothic')\n",
    "\n",
    "#warning 메시지 무시\n",
    "import warnings\n",
    "warnings.filterwarnings(action='ignore')\n",
    "warnings.filterwarnings(\"ignore\")"
   ]
  },
  {
   "cell_type": "markdown",
   "id": "679d2928-d177-45b2-b852-89b3d3971ebc",
   "metadata": {},
   "source": [
    "# 데이터 불러오기"
   ]
  },
  {
   "cell_type": "code",
   "execution_count": 3,
   "id": "bd057361-e195-4d07-bbf0-0f5c8475ddfe",
   "metadata": {
    "tags": []
   },
   "outputs": [
    {
     "data": {
      "text/html": [
       "<div>\n",
       "<style scoped>\n",
       "    .dataframe tbody tr th:only-of-type {\n",
       "        vertical-align: middle;\n",
       "    }\n",
       "\n",
       "    .dataframe tbody tr th {\n",
       "        vertical-align: top;\n",
       "    }\n",
       "\n",
       "    .dataframe thead th {\n",
       "        text-align: right;\n",
       "    }\n",
       "</style>\n",
       "<table border=\"1\" class=\"dataframe\">\n",
       "  <thead>\n",
       "    <tr style=\"text-align: right;\">\n",
       "      <th></th>\n",
       "      <th>보낸이</th>\n",
       "      <th>메일주소</th>\n",
       "      <th>제목</th>\n",
       "      <th>내용</th>\n",
       "      <th>스팸여부</th>\n",
       "    </tr>\n",
       "  </thead>\n",
       "  <tbody>\n",
       "    <tr>\n",
       "      <th>0</th>\n",
       "      <td>네이버 시리즈</td>\n",
       "      <td>series_noreply@webtoonscorp.com</td>\n",
       "      <td>[네이버 시리즈] '히든 특성 13개 ...'의 구매 내역을 안내해 드립니다.</td>\n",
       "      <td>NaN</td>\n",
       "      <td>1</td>\n",
       "    </tr>\n",
       "    <tr>\n",
       "      <th>1</th>\n",
       "      <td>\" 현금이벤트 \"</td>\n",
       "      <td>nbadmin2@imga1.com</td>\n",
       "      <td>(광고) 않바꾸면 손해! 인터넷 변경하고 현금 47만원 받아가세요~</td>\n",
       "      <td>&lt;table width=\"100%\" border=\"0\" cellspacing=\"0\"...</td>\n",
       "      <td>0</td>\n",
       "    </tr>\n",
       "    <tr>\n",
       "      <th>2</th>\n",
       "      <td>네이버 시리즈</td>\n",
       "      <td>series_noreply@webtoonscorp.com</td>\n",
       "      <td>[네이버 시리즈] '아카데미 편의점으로...'의 구매 내역을 안내해 드립니다.</td>\n",
       "      <td>NaN</td>\n",
       "      <td>1</td>\n",
       "    </tr>\n",
       "    <tr>\n",
       "      <th>3</th>\n",
       "      <td>네이버 시리즈</td>\n",
       "      <td>series_noreply@webtoonscorp.com</td>\n",
       "      <td>[네이버 시리즈] '나 혼자 탑에서 농...'의 구매 내역을 안내해 드립니다.</td>\n",
       "      <td>NaN</td>\n",
       "      <td>1</td>\n",
       "    </tr>\n",
       "    <tr>\n",
       "      <th>4</th>\n",
       "      <td>네이버 시리즈</td>\n",
       "      <td>series_noreply@webtoonscorp.com</td>\n",
       "      <td>[네이버 시리즈] '멸망 예정인 아카데...'의 구매 내역을 안내해 드립니다.</td>\n",
       "      <td>NaN</td>\n",
       "      <td>1</td>\n",
       "    </tr>\n",
       "  </tbody>\n",
       "</table>\n",
       "</div>"
      ],
      "text/plain": [
       "         보낸이                             메일주소  \\\n",
       "0    네이버 시리즈  series_noreply@webtoonscorp.com   \n",
       "1  \" 현금이벤트 \"               nbadmin2@imga1.com   \n",
       "2    네이버 시리즈  series_noreply@webtoonscorp.com   \n",
       "3    네이버 시리즈  series_noreply@webtoonscorp.com   \n",
       "4    네이버 시리즈  series_noreply@webtoonscorp.com   \n",
       "\n",
       "                                            제목  \\\n",
       "0  [네이버 시리즈] '히든 특성 13개 ...'의 구매 내역을 안내해 드립니다.   \n",
       "1        (광고) 않바꾸면 손해! 인터넷 변경하고 현금 47만원 받아가세요~   \n",
       "2  [네이버 시리즈] '아카데미 편의점으로...'의 구매 내역을 안내해 드립니다.   \n",
       "3  [네이버 시리즈] '나 혼자 탑에서 농...'의 구매 내역을 안내해 드립니다.   \n",
       "4  [네이버 시리즈] '멸망 예정인 아카데...'의 구매 내역을 안내해 드립니다.   \n",
       "\n",
       "                                                  내용  스팸여부  \n",
       "0                                                NaN     1  \n",
       "1  <table width=\"100%\" border=\"0\" cellspacing=\"0\"...     0  \n",
       "2                                                NaN     1  \n",
       "3                                                NaN     1  \n",
       "4                                                NaN     1  "
      ]
     },
     "execution_count": 3,
     "metadata": {},
     "output_type": "execute_result"
    }
   ],
   "source": [
    "df = pd.read_csv(\"./mail.csv\")\n",
    "df.head(5)"
   ]
  },
  {
   "cell_type": "markdown",
   "id": "fe1af9ce-d447-4459-b93c-171228b9da1c",
   "metadata": {},
   "source": [
    "# 전처리"
   ]
  },
  {
   "cell_type": "code",
   "execution_count": 4,
   "id": "8dde8f62-ebcd-46b6-be34-d1e8fbbf2c33",
   "metadata": {},
   "outputs": [],
   "source": [
    "df = df.dropna(subset=[\"제목\"])\n",
    "# null값이 있으면 제대로 된 예측이 안나오니 null값을 제거"
   ]
  },
  {
   "cell_type": "markdown",
   "id": "9497a3a3-8168-4b33-824e-01f14a4b3ef6",
   "metadata": {},
   "source": [
    "## 필요한 컬럼 선정"
   ]
  },
  {
   "cell_type": "code",
   "execution_count": 5,
   "id": "d3e5d5b5-93c9-40a6-9dd7-4075bee1ae40",
   "metadata": {},
   "outputs": [],
   "source": [
    "# 제목과 스팸여부만을 이용해 예측\n",
    "notnull_df = df.loc[:,[\"스팸여부\",\"제목\"]]"
   ]
  },
  {
   "cell_type": "code",
   "execution_count": 6,
   "id": "ec3663bc-a2ed-4d74-b161-a64f15c44f8b",
   "metadata": {},
   "outputs": [
    {
     "data": {
      "text/html": [
       "<div>\n",
       "<style scoped>\n",
       "    .dataframe tbody tr th:only-of-type {\n",
       "        vertical-align: middle;\n",
       "    }\n",
       "\n",
       "    .dataframe tbody tr th {\n",
       "        vertical-align: top;\n",
       "    }\n",
       "\n",
       "    .dataframe thead th {\n",
       "        text-align: right;\n",
       "    }\n",
       "</style>\n",
       "<table border=\"1\" class=\"dataframe\">\n",
       "  <thead>\n",
       "    <tr style=\"text-align: right;\">\n",
       "      <th></th>\n",
       "      <th>스팸여부</th>\n",
       "      <th>제목</th>\n",
       "    </tr>\n",
       "  </thead>\n",
       "  <tbody>\n",
       "    <tr>\n",
       "      <th>0</th>\n",
       "      <td>1</td>\n",
       "      <td>[네이버 시리즈] '히든 특성 13개 ...'의 구매 내역을 안내해 드립니다.</td>\n",
       "    </tr>\n",
       "    <tr>\n",
       "      <th>1</th>\n",
       "      <td>0</td>\n",
       "      <td>(광고) 않바꾸면 손해! 인터넷 변경하고 현금 47만원 받아가세요~</td>\n",
       "    </tr>\n",
       "    <tr>\n",
       "      <th>2</th>\n",
       "      <td>1</td>\n",
       "      <td>[네이버 시리즈] '아카데미 편의점으로...'의 구매 내역을 안내해 드립니다.</td>\n",
       "    </tr>\n",
       "    <tr>\n",
       "      <th>3</th>\n",
       "      <td>1</td>\n",
       "      <td>[네이버 시리즈] '나 혼자 탑에서 농...'의 구매 내역을 안내해 드립니다.</td>\n",
       "    </tr>\n",
       "    <tr>\n",
       "      <th>4</th>\n",
       "      <td>1</td>\n",
       "      <td>[네이버 시리즈] '멸망 예정인 아카데...'의 구매 내역을 안내해 드립니다.</td>\n",
       "    </tr>\n",
       "    <tr>\n",
       "      <th>...</th>\n",
       "      <td>...</td>\n",
       "      <td>...</td>\n",
       "    </tr>\n",
       "    <tr>\n",
       "      <th>178</th>\n",
       "      <td>0</td>\n",
       "      <td>한국 Twitch에 대한 주요 공지사항</td>\n",
       "    </tr>\n",
       "    <tr>\n",
       "      <th>179</th>\n",
       "      <td>1</td>\n",
       "      <td>YouTube Premium 가격 업데이트</td>\n",
       "    </tr>\n",
       "    <tr>\n",
       "      <th>180</th>\n",
       "      <td>0</td>\n",
       "      <td>안녕, 마테오 👋</td>\n",
       "    </tr>\n",
       "    <tr>\n",
       "      <th>181</th>\n",
       "      <td>1</td>\n",
       "      <td>보안 알림</td>\n",
       "    </tr>\n",
       "    <tr>\n",
       "      <th>182</th>\n",
       "      <td>0</td>\n",
       "      <td>[와디즈] [10만원대 소가죽 수제화] 초경량 키높이+5.5cm 직장인 더비슈즈 프...</td>\n",
       "    </tr>\n",
       "  </tbody>\n",
       "</table>\n",
       "<p>182 rows × 2 columns</p>\n",
       "</div>"
      ],
      "text/plain": [
       "     스팸여부                                                 제목\n",
       "0       1        [네이버 시리즈] '히든 특성 13개 ...'의 구매 내역을 안내해 드립니다.\n",
       "1       0              (광고) 않바꾸면 손해! 인터넷 변경하고 현금 47만원 받아가세요~\n",
       "2       1        [네이버 시리즈] '아카데미 편의점으로...'의 구매 내역을 안내해 드립니다.\n",
       "3       1        [네이버 시리즈] '나 혼자 탑에서 농...'의 구매 내역을 안내해 드립니다.\n",
       "4       1        [네이버 시리즈] '멸망 예정인 아카데...'의 구매 내역을 안내해 드립니다.\n",
       "..    ...                                                ...\n",
       "178     0                              한국 Twitch에 대한 주요 공지사항\n",
       "179     1                            YouTube Premium 가격 업데이트\n",
       "180     0                                          안녕, 마테오 👋\n",
       "181     1                                              보안 알림\n",
       "182     0  [와디즈] [10만원대 소가죽 수제화] 초경량 키높이+5.5cm 직장인 더비슈즈 프...\n",
       "\n",
       "[182 rows x 2 columns]"
      ]
     },
     "execution_count": 6,
     "metadata": {},
     "output_type": "execute_result"
    }
   ],
   "source": [
    "notnull_df"
   ]
  },
  {
   "cell_type": "code",
   "execution_count": 7,
   "id": "5e6db9f8-5a8f-40df-addf-be1cded5e44c",
   "metadata": {},
   "outputs": [
    {
     "name": "stdout",
     "output_type": "stream",
     "text": [
      "<class 'pandas.core.frame.DataFrame'>\n",
      "Int64Index: 182 entries, 0 to 182\n",
      "Data columns (total 2 columns):\n",
      " #   Column  Non-Null Count  Dtype \n",
      "---  ------  --------------  ----- \n",
      " 0   스팸여부    182 non-null    int64 \n",
      " 1   제목      182 non-null    object\n",
      "dtypes: int64(1), object(1)\n",
      "memory usage: 4.3+ KB\n"
     ]
    }
   ],
   "source": [
    "notnull_df.info()"
   ]
  },
  {
   "cell_type": "code",
   "execution_count": 8,
   "id": "44fd05ef-2995-485c-9f3a-f6605611b345",
   "metadata": {},
   "outputs": [
    {
     "data": {
      "text/plain": [
       "(182, 2)"
      ]
     },
     "execution_count": 8,
     "metadata": {},
     "output_type": "execute_result"
    }
   ],
   "source": [
    "notnull_df.shape"
   ]
  },
  {
   "cell_type": "code",
   "execution_count": 9,
   "id": "29f0acd1-7b78-4c7d-996c-a5ff948e94ae",
   "metadata": {},
   "outputs": [
    {
     "name": "stdout",
     "output_type": "stream",
     "text": [
      "제목의 유니크한 값 : 133\n"
     ]
    }
   ],
   "source": [
    "print('제목의 유니크한 값 :',notnull_df['제목'].nunique())\n",
    "# 182개중 유니크한 값이 133개라는 것은 49개의 중복값이 존재한다는 의미"
   ]
  },
  {
   "cell_type": "code",
   "execution_count": 10,
   "id": "e3feda4b-52a0-4e06-9141-778919a23f85",
   "metadata": {},
   "outputs": [
    {
     "name": "stdout",
     "output_type": "stream",
     "text": [
      "총 샘플의 수 : 133\n"
     ]
    }
   ],
   "source": [
    "# 중복 값들을 제거\n",
    "notnull_df.drop_duplicates(subset=['제목'], inplace=True)\n",
    "print('총 샘플의 수 :',len(notnull_df))"
   ]
  },
  {
   "cell_type": "code",
   "execution_count": 11,
   "id": "e70a0797-cd20-4929-aedc-1f5b20a8f1e9",
   "metadata": {},
   "outputs": [
    {
     "name": "stderr",
     "output_type": "stream",
     "text": [
      "findfont: Font family ['NanumBarunGothic'] not found. Falling back to DejaVu Sans.\n"
     ]
    },
    {
     "name": "stdout",
     "output_type": "stream",
     "text": [
      "정상 메일과 스팸 메일의 개수\n",
      "   스팸여부  count\n",
      "0     0     90\n",
      "1     1     43\n"
     ]
    },
    {
     "data": {
      "image/png": "[encoded data removed]",
      "text/plain": [
       "<Figure size 640x480 with 1 Axes>"
      ]
     },
     "metadata": {},
     "output_type": "display_data"
    }
   ],
   "source": [
    "notnull_df['스팸여부'].value_counts().plot(kind='bar')\n",
    "print('정상 메일과 스팸 메일의 개수')\n",
    "print(notnull_df.groupby('스팸여부').size().reset_index(name='count'))\n",
    "# 스팸 90건, 일반 메일 43건\n",
    "# 데이터의 갯수도 적지만, 대부분이 스팸 메일이다."
   ]
  },
  {
   "cell_type": "code",
   "execution_count": 12,
   "id": "99e3c32f-083f-49d9-9d89-67d5d55be6d6",
   "metadata": {},
   "outputs": [
    {
     "name": "stdout",
     "output_type": "stream",
     "text": [
      "스팸 메일의 비율 = 67.67%\n",
      "정상 메일의 비율 = 32.33%\n"
     ]
    }
   ],
   "source": [
    "print(f'스팸 메일의 비율 = {round(notnull_df[\"스팸여부\"].value_counts()[0]/len(notnull_df) * 100,2)}%')\n",
    "print(f'정상 메일의 비율 = {round(notnull_df[\"스팸여부\"].value_counts()[1]/len(notnull_df) * 100,2)}%')"
   ]
  },
  {
   "cell_type": "code",
   "execution_count": 13,
   "id": "d2e22a0e-6f41-49ea-b24d-1069db6862cb",
   "metadata": {},
   "outputs": [],
   "source": [
    "X_data = notnull_df['제목']\n",
    "y_data = notnull_df['스팸여부']\n",
    "# 학습대상과 정답을 분리"
   ]
  },
  {
   "cell_type": "code",
   "execution_count": 14,
   "id": "371cb108-0be2-4ebf-9f94-d5f4b2a8ac34",
   "metadata": {},
   "outputs": [],
   "source": [
    "X_train, X_test, y_train, y_test = train_test_split(X_data, y_data, test_size=0.2, random_state=0, stratify=y_data)\n",
    "# stratify : train,test에 스팸이 과다하게 들어가서 일반 메일이 없거나, 모든 일반 메일이 들어가는 경우를 없게한다."
   ]
  },
  {
   "cell_type": "code",
   "execution_count": 15,
   "id": "30a28551-2732-4196-8282-4e23f700d417",
   "metadata": {},
   "outputs": [
    {
     "name": "stdout",
     "output_type": "stream",
     "text": [
      "[[27, 98, 99, 100, 12, 101, 28], [1, 29, 30, 14, 9], [102, 103, 104, 105, 106, 107], [1, 18, 19, 108, 109, 110, 31, 20], [1, 111, 112, 113, 32, 114, 115]]\n"
     ]
    }
   ],
   "source": [
    "# 토큰화와 정수 인코딩 과정을 수행\n",
    "tokenizer = Tokenizer()\n",
    "tokenizer.fit_on_texts(X_train)\n",
    "X_train_encoded = tokenizer.texts_to_sequences(X_train)\n",
    "print(X_train_encoded[:5])"
   ]
  },
  {
   "cell_type": "code",
   "execution_count": 16,
   "id": "97516591-bb71-4c50-939d-afb69049f795",
   "metadata": {},
   "outputs": [
    {
     "name": "stdout",
     "output_type": "stream",
     "text": [
      "{'광고': 1, '드립니다': 2, '네이버': 3, '구매': 4, '내역을': 5, '안내해': 6, '안내': 7, \"'의\": 8, '할인': 9, '시리즈': 10, '웹툰': 11, '및': 12, '11': 13, '45': 14, '2024': 15, \"sara's\": 16, 'pick': 17, 'dacon': 18, '데이스쿨': 19, '오픈': 20, '알림': 21, '모집': 22, '위한': 23, '최초': 24, '시작': 25, '개인정보': 26, '주': 27, '개정': 28, '사이버': 29, '먼데이': 30, '예측': 31, '온라인': 32, '비밀번호': 33, '데이콘': 34, 'ai': 35, '경진대회': 36, 'ipv4': 37, '대한': 38, '새로운': 39, 'for': 40, '1': 41, '내역': 42, '광군제': 43, '50': 44, 'on': 45, '되었습니다': 46, '와디즈': 47, '10만원대': 48, '소가죽': 49, '수제화': 50, '초경량': 51, '키높이': 52, '5': 53, '5cm': 54, '직장인': 55, '더비슈즈': 56, '프로젝트': 57, '새소식': 58, '❗': 59, '수': 60, '참가': 61, '접수완료': 62, '광고성': 63, '백승수님의': 64, '갤럭시z': 65, 'flip5': 66, '확인하세요': 67, '업데이트': 68, '회원가입': 69, '환영합니다': 70, '남성': 71, '패션': 72, '혜택': 73, '💌': 74, \"'아카데미\": 75, 'fine': 76, 'tuning': 77, 'job': 78, 'ftjob': 79, 'successfully': 80, 'completed': 81, '🔴': 82, '방금': 83, '공개': 84, 'music': 85, '이용내역': 86, '25': 87, '마감': 88, '임박': 89, '신청하세요': 90, '등': 91, '안': 92, '2단계': 93, '최대': 94, '있습니다': 95, '사용': 96, 'aws': 97, '브랜디': 98, '서비스': 99, '이용약관': 100, '개인정보처리방침': 101, '기후동행카드에': 102, '인천': 103, '동참': 104, '9호선·공항철도': 105, '직결': 106, '추진': 107, '경제의': 108, '기본기': 109, '인구소득': 110, '신규': 111, '잠재': 112, '고객유입': 113, '마케팅': 114, 'cpa마케팅': 115, '정기적인': 116, '닌텐도': 117, '어카운트': 118, '변경': 119, '대구': 120, '교통사고': 121, '피해': 122, '2024년': 123, '2월': 124, '1일부터': 125, '퍼블릭': 126, '주소에': 127, '요금이': 128, '부과됩니다': 129, 'notification': 130, 'new': 131, 'charge': 132, 'public': 133, 'addresses': 134, 'starting': 135, 'february': 136, 'account': 137, 'id': 138, '453944967086': 139, 'ap': 140, 'northeast': 141, '2': 142, '안녕': 143, '마테오': 144, '👋': 145, 'kg이니시스': 146, '결제확인': 147, '백승수님': 148, '예스이십사주식회사에서': 149, '결제하신': 150, '확인바랍니다': 151, '실명': 152, '정보가': 153, '등록되었습니다': 154, '메리프': 155, '를': 156, '잡으세요': 157, '마지막': 158, '3일': 159, '0': 160, '요기요': 161, '계정': 162, '휴면': 163, '해제': 164, '커밍쑨': 165, '🧺': 166, 'upgrade': 167, 'save': 168, 'picnic': 169, 'plan': 170, 'a': 171, 'limited': 172, 'time': 173, 'newsletter': 174, '실시간': 175, '통번역': 176, '시대를': 177, '열다🌍': 178, '없이': 179, '로그인하는': 180, '기기로': 181, '등록': 182, 'connect': 183, 'job공고': 184, 'bemac': 185, '서울면접회': 186, '19': 187, '금': 188, '보안': 189, '가판대·구두수선대': 190, \"'서울마이소울'\": 191, '빙고': 192, '맞추면': 193, '선물이': 194, '빙긋': 195, '사이즈': 196, '관련': 197, 'tip': 198, '랭커': 199, '특강': 200, '수강생': 201, '\\x08오픈🎉': 202, '기다리셨죠': 203, '놓칠': 204, '없는': 205, \"'ddp겨울축제'\": 206, '21일': 207, '개막': 208, '튜토리얼': 209, '추론': 210, '자동화': 211, '태스크': 212, '제출': 213, '따라하기': 214, '데이터': 215, '분석': 216, '아이디어': 217, '12월': 218, '스터디': 219, '챌린지': 220, '카카오페이지': 221, '정보수신': 222, '국가연구자번호가': 223, '발급되었습니다': 224, '갤럭시23': 225, '폭탄지원금': 226, '쏜다': 227, '최저가': 228, '겨울축제': 229, '끝판왕': 230, '서울': 231, '매력명소': 232, '7곳서': 233, \"'서울윈타'\": 234, '개최': 235, 'youtube': 236, 'premium': 237, '가격': 238, '고려사이버대학교': 239, '미래교육원': 240, '🕰️✨': 241, 'pokémon': 242, 'go': 243, '시간을': 244, '초월한': 245, '여행': 246, '에': 247, '오신': 248, '걸': 249, \"'천하제일\": 250, '대사형': 251, '🎁sns': 252, '해시태그하고': 253, '스타벅스': 254, '쿠폰': 255, '응모하세요': 256, '❤': 257, '창립구좌': 258, '마감임박🚨': 259, '구마모토': 260, '3개': 261, '골프장': 262, '63홀': 263, '라운드가능': 264, '겨울골프': 265, '해결': 266, '일본쿠마cc': 267, '골프회원권': 268, \"'그날의\": 269, '기억': 270, '그들의': 271, \"바람'\": 272, '청년부상제대군인': 273, '상담센터': 274, '이야기': 275, \"'용사보다\": 276, '너무': 277, '강해': 278, '입사': 279, '안내메일의': 280, '건': 281, '김한수': 282, '백승수': 283, '사원': 284, '06입사': 285, '전략사업본부': 286, '쿠폰이': 287, '도착했어요': 288, 'reminder': 289, 'older': 290, 'openai': 291, 'models': 292, 'will': 293, 'be': 294, 'shut': 295, 'down': 296, 'january': 297, '4th': 298, '디자인과': 299, '영상': 300, '제작을': 301, '모든': 302, '앱': 303, 'cu멤버십': 304, '정보': 305, '수신동의': 306, \"'목욕탕\": 307, '사장이': 308, '게이': 309, '중급': 310, '생산설비': 311, '이상': 312, '진단하기': 313, '구경하기': 314, '라식': 315, '라섹': 316, '지원자를': 317, '찾습니다': 318, '가입비': 319, '테스트로': 320, '미래의': 321, '반쪽': 322, '찾기': 323, '1분': 324, '내로': 325, '체크해보세요': 326, '상암': 327, '평화의공원에': 328, '세계': 329, \"'트윈휠'\": 330, '대관람차': 331, '생긴다': 332, '기기에서': 333, '로그인': 334, 'gmail의': 335, '스토리지를': 336, '거의': 337, '다': 338, '사용했습니다': 339, '편의점으로': 340, '신제품': 341, '출시전': 342, '갤럭시': 343, 's23': 344, '파격특가': 345, '재고정리': 346, '한국': 347, 'twitch에': 348, '주요': 349, '공지사항': 350, '잠에': 351, '이토록': 352, '진심인': 353, '사람이': 354, '있다': 355, '7xqx36lhznwo85cb9vycfhgx': 356, 'vesperbell에서': 357, 'dear': 358, 'vesperbell': 359, 'ヨミ': 360, 'official': 361, 'video': 362, '구글': 363, '통지': 364, '않바꾸면': 365, '손해': 366, '인터넷': 367, '변경하고': 368, '현금': 369, '47만원': 370, '받아가세요': 371, '블랙': 372, '프라이데이': 373, \"'마교\": 374, '교주의': 375, '부군이': 376, '당신의': 377, \"'최애\": 378, \"정책'은\": 379, '서울시': 380, '10대': 381, '뉴스': 382, '투표': 383, '⚖️': 384, '이혼을': 385, '고민하고': 386, '계신분들은': 387, '필히': 388, '이혼': 389, '변호사와': 390, '무료': 391, '상담': 392, '기회': 393, '진행': 394, '가능': 395, '여부': 396, '양육권': 397, '재산분할': 398, '위자료': 399, '양육비': 400, \"'나\": 401, '혼자': 402, '탑에서': 403, '농': 404, '놓쳐선': 405, '될': 406, 'creative': 407, 'cloud': 408, 'pqcmi81eyxocaq5rvdafccej': 409, '인증': 410, '기능이': 411, '설정되었습니다': 412, \"'호랑이\": 413, \"들어와요'의\": 414, '‘ds': 415, '데이터분석그룹’': 416, '폴더가': 417, '공유됨': 418, '서울도시가스': 419, '인증메일입니다': 420, 'caose980': 421, '운동하면': 422, '10만': 423, '포인트': 424, '손목닥터9988': 425, '선착순': 426, '한강': 427, '노을': 428, '닮은': 429, \"'스카이코랄'\": 430, '서울색으로': 431, '선정': 432, '10년째': 433, '서울시청사': 434, '데운': 435, \"'지열에너지'\": 436, '본격': 437, '확대한다': 438, \"'도깨비의\": 439, '밤': 440, '독점': 441, \"'일렉시드'의\": 442, '당신을': 443, '베스트': 444, '고객님은': 445, '안정지원자금': 446, '대상자입니다': 447, '생계자금': 448, '대환자금': 449, '갤럭시s23': 450, '재고수량': 451, '대방출': 452, '온라인특가': 453, '플레이어를': 454, '병원': 455, '찾아': 456, '3만리': 457, '서울형': 458, '야간': 459, '소아의료체계로': 460, '안심': 461, '인증을': 462, '애플리케이션': 463, '생성': 464, '예스24': 465, '백': 466, '수님': 467, '주문하신': 468, '상품내역을': 469, '알려드립니다': 470, '회원가입을': 471, '골목상권': 472, '14곳서': 473, '물가안정': 474, '총력': 475, \"'역대급\": 476, '영지': 477, '설계사': 478, '알루미늄': 479, '계란후라이': 480, '🤢': 481, '스텐팬': 482, '왜': 483, '쓰세요': 484, '💸빚': 485, '채무에서': 486, '완전히': 487, '벗어날': 488, '💸': 489, '회생': 490, '파산이': 491, '급하신': 492, '분들': 493, '클릭': 494, '👆개인회생ㆍ개인파산': 495, '무료상담': 496, '신청📝': 497, '알리익스프레스': 498, '쇼핑': 499, '꿀기능을': 500, '소개합니다': 501, '7': 502, '전': 503, '자치구': 504, \"'서울사랑상품권'\": 505, '발행일은': 506, '포토샵': 507, '일러스트레이터': 508, '프리미어': 509, '프로': 510, '리멤버': 511, '처리방침': 512, '삼성계정': 513, '미리보기': 514, '통장': 515, '가능한': 516, 'rewards': 517, '포인트가': 518, '이메일': 519, '주소를': 520, '인증해주세요': 521, '지금': 522, '바로': 523, '크레딧': 524, '300': 525, 'usd': 526, '신청하기': 527, '아이리': 528, '칸나': 529, 'official에서': 530, '藍璃かんな': 531, 'airi': 532, 'kanna': 533, '‘最終花’': 534, '진짜': 535, '신기한데': 536, '설명할': 537, '방법이': 538, '없네': 539, '🤔': 540, '매번': 541, '찾아오는': 542, '사라는': 543, '대체': 544, '누구일까요': 545, '다음': 546, '생방송': 547, 're': 548, 'invent': 549, '기조': 550, '연설': 551, '다양한': 552, '세션을': 553, '무료로': 554, '시청': 555, '고려사이버대': 556, '매치업': 557, '심화과정': 558, '수강승인': 559, '강의수강': 560, '우아': 561, '한': 562, '건축美': 563, \"'서리풀\": 564, \"수장고'\": 565, '설계당선작': 566, '살펴보니': 567, '🌏': 568, '승수님의': 569, '10월': 570}\n"
     ]
    }
   ],
   "source": [
    "# 어떤 단어에 어떤 정수가 매칭 되었는지 롹인\n",
    "word_to_index = tokenizer.word_index\n",
    "print(word_to_index)"
   ]
  },
  {
   "cell_type": "code",
   "execution_count": 17,
   "id": "548c2b89-5da9-4405-b9ed-60da8e99ffe9",
   "metadata": {},
   "outputs": [
    {
     "name": "stdout",
     "output_type": "stream",
     "text": [
      "등장 빈도가 1번 이하인 희귀 단어의 수: 473\n",
      "단어 집합(vocabulary)에서 희귀 단어의 비율: 82.98245614035088\n",
      "전체 등장 빈도에서 희귀 단어 등장 빈도 비율: 59.27318295739349\n"
     ]
    }
   ],
   "source": [
    "threshold = 2\n",
    "total_cnt = len(word_to_index) # 단어의 수\n",
    "rare_cnt = 0 # 등장 빈도수가 threshold보다 작은 단어의 개수를 카운트\n",
    "total_freq = 0 # 훈련 데이터의 전체 단어 빈도수 총 합\n",
    "rare_freq = 0 # 등장 빈도수가 threshold보다 작은 단어의 등장 빈도수의 총 합\n",
    "\n",
    "# 단어와 빈도수의 쌍(pair)을 key와 value로 받는다.\n",
    "for key, value in tokenizer.word_counts.items():\n",
    "    total_freq = total_freq + value\n",
    "\n",
    "    # 단어의 등장 빈도수가 threshold보다 작으면\n",
    "    if(value < threshold):\n",
    "        rare_cnt = rare_cnt + 1\n",
    "        rare_freq = rare_freq + value\n",
    "\n",
    "print('등장 빈도가 %s번 이하인 희귀 단어의 수: %s'%(threshold - 1, rare_cnt))\n",
    "print(\"단어 집합(vocabulary)에서 희귀 단어의 비율:\", (rare_cnt / total_cnt)*100)\n",
    "print(\"전체 등장 빈도에서 희귀 단어 등장 빈도 비율:\", (rare_freq / total_freq)*100)"
   ]
  },
  {
   "cell_type": "code",
   "execution_count": 18,
   "id": "2abf85cf-31a5-4a96-ba36-c9627c5eafce",
   "metadata": {},
   "outputs": [],
   "source": [
    "# 등장빈도가 1회인 희귀단어의 등장 확률이 82%나 됩니다.\n",
    "# 여기서는 그렇지 않지만, 희귀단어의 등장확률이 너무 낮다면 threshold의 수를 변경하여 조절가능합니다."
   ]
  },
  {
   "cell_type": "code",
   "execution_count": 19,
   "id": "494dc19d-9e04-40a5-a85b-b4dbf554c4a6",
   "metadata": {},
   "outputs": [
    {
     "name": "stdout",
     "output_type": "stream",
     "text": [
      "단어 집합의 크기: 571\n"
     ]
    }
   ],
   "source": [
    "vocab_size = len(word_to_index) + 1\n",
    "print('단어 집합의 크기: {}'.format((vocab_size)))"
   ]
  },
  {
   "cell_type": "code",
   "execution_count": 20,
   "id": "453336d1-6036-443a-bd69-1c74d1d7fe27",
   "metadata": {},
   "outputs": [
    {
     "name": "stdout",
     "output_type": "stream",
     "text": [
      "메일의 최대 길이 : 28\n",
      "메일의 평균 길이 : 7.528302\n"
     ]
    },
    {
     "data": {
      "image/png": "[encoded data removed]",
      "text/plain": [
       "<Figure size 640x480 with 1 Axes>"
      ]
     },
     "metadata": {},
     "output_type": "display_data"
    }
   ],
   "source": [
    "print('메일의 최대 길이 : %d' % max(len(sample) for sample in X_train_encoded))\n",
    "print('메일의 평균 길이 : %f' % (sum(map(len, X_train_encoded))/len(X_train_encoded)))\n",
    "plt.hist([len(sample) for sample in X_data], bins=50)\n",
    "plt.xlabel('length of samples')\n",
    "plt.ylabel('number of samples')\n",
    "plt.show()"
   ]
  },
  {
   "cell_type": "code",
   "execution_count": 21,
   "id": "0a60923b-165a-4e42-86fd-24c51b57275a",
   "metadata": {},
   "outputs": [
    {
     "name": "stdout",
     "output_type": "stream",
     "text": [
      "훈련 데이터의 크기(shape): (106, 28)\n"
     ]
    }
   ],
   "source": [
    "max_len = 28\n",
    "X_train_padded = pad_sequences(X_train_encoded, maxlen = max_len)\n",
    "print(\"훈련 데이터의 크기(shape):\", X_train_padded.shape)"
   ]
  },
  {
   "cell_type": "code",
   "execution_count": null,
   "id": "db7d1202-7e3b-4341-9581-b586f1a1b385",
   "metadata": {},
   "outputs": [],
   "source": []
  },
  {
   "cell_type": "markdown",
   "id": "440d836b-50ef-4c2c-95f3-3211db345ef5",
   "metadata": {},
   "source": [
    "# RNN으로 스팸 메일 분류하기"
   ]
  },
  {
   "cell_type": "code",
   "execution_count": 22,
   "id": "37298b2a-f708-46c2-9823-e900cfee63a0",
   "metadata": {},
   "outputs": [],
   "source": [
    "from tensorflow.keras.layers import SimpleRNN, Embedding, Dense\n",
    "from tensorflow.keras.models import Sequential"
   ]
  },
  {
   "cell_type": "code",
   "execution_count": 23,
   "id": "bb6b2eb8-9a39-4740-aa1e-0779fcc434e2",
   "metadata": {},
   "outputs": [],
   "source": [
    "embedding_dim = 32\n",
    "hidden_units = 32"
   ]
  },
  {
   "cell_type": "code",
   "execution_count": 24,
   "id": "1e8eef82-5b39-4342-abfd-1015dae35402",
   "metadata": {},
   "outputs": [
    {
     "name": "stdout",
     "output_type": "stream",
     "text": [
      "Epoch 1/4\n",
      "2/2 [==============================] - 1s 259ms/step - loss: 0.7186 - acc: 0.4167 - val_loss: 0.6203 - val_acc: 0.7727\n",
      "Epoch 2/4\n",
      "2/2 [==============================] - 0s 52ms/step - loss: 0.6101 - acc: 0.6667 - val_loss: 0.6191 - val_acc: 0.8182\n",
      "Epoch 3/4\n",
      "2/2 [==============================] - 0s 36ms/step - loss: 0.5622 - acc: 0.7381 - val_loss: 0.5895 - val_acc: 0.8182\n",
      "Epoch 4/4\n",
      "2/2 [==============================] - 0s 34ms/step - loss: 0.5121 - acc: 0.7619 - val_loss: 0.6036 - val_acc: 0.8182\n"
     ]
    }
   ],
   "source": [
    "model = Sequential()\n",
    "model.add(Embedding(vocab_size, embedding_dim))\n",
    "model.add(SimpleRNN(hidden_units))\n",
    "model.add(Dense(1, activation='sigmoid'))\n",
    "\n",
    "model.compile(optimizer='rmsprop', loss='binary_crossentropy', metrics=['acc'])\n",
    "history = model.fit(X_train_padded, y_train, epochs=4, batch_size=64, validation_split=0.2)"
   ]
  },
  {
   "cell_type": "code",
   "execution_count": 25,
   "id": "5c32008f-ac39-4920-9033-1683ffab25e5",
   "metadata": {},
   "outputs": [
    {
     "name": "stdout",
     "output_type": "stream",
     "text": [
      "1/1 [==============================] - 0s 28ms/step - loss: 0.6155 - acc: 0.7778\n",
      "\n",
      " 테스트 정확도: 0.7778\n"
     ]
    }
   ],
   "source": [
    "X_test_encoded = tokenizer.texts_to_sequences(X_test)\n",
    "X_test_padded = pad_sequences(X_test_encoded, maxlen = max_len)\n",
    "print(\"\\n 테스트 정확도: %.4f\" % (model.evaluate(X_test_padded, y_test)[1]))\n",
    "# 정확도가 77%로 쓸만한 것 같지만, 애초에 데이터가 적어서 참고정도만 가능하다고 판단됨"
   ]
  },
  {
   "cell_type": "code",
   "execution_count": 26,
   "id": "48e00283-7855-418d-a9d6-13ceab43fce7",
   "metadata": {},
   "outputs": [
    {
     "name": "stderr",
     "output_type": "stream",
     "text": [
      "findfont: Font family ['NanumBarunGothic'] not found. Falling back to DejaVu Sans.\n"
     ]
    },
    {
     "data": {
      "image/png": "[encoded data removed]",
      "text/plain": [
       "<Figure size 640x480 with 1 Axes>"
      ]
     },
     "metadata": {},
     "output_type": "display_data"
    }
   ],
   "source": [
    "# 학습과 검정의 정확도 비교 시각화\n",
    "epochs = range(1, len(history.history['acc']) + 1)\n",
    "plt.plot(epochs, history.history['loss'])\n",
    "plt.plot(epochs, history.history['val_loss'])\n",
    "plt.title('model loss')\n",
    "plt.ylabel('loss')\n",
    "plt.xlabel('epoch')\n",
    "plt.legend(['train', 'val'], loc='upper right')\n",
    "plt.show()"
   ]
  },
  {
   "cell_type": "code",
   "execution_count": 27,
   "id": "229232d3-3bed-4200-9637-49d2d3e66e6b",
   "metadata": {},
   "outputs": [],
   "source": [
    "# 학습의 경우 loss가 가파르게 떨어지지만, 검증의 경우 그렇게 많이 떨어지진 않는다."
   ]
  },
  {
   "cell_type": "code",
   "execution_count": null,
   "id": "d2af9665-a6de-4a6a-a10f-4eb0d54f846f",
   "metadata": {},
   "outputs": [],
   "source": []
  },
  {
   "cell_type": "code",
   "execution_count": null,
   "id": "60a3831e-c643-4162-8b5b-a7b84a024698",
   "metadata": {},
   "outputs": [],
   "source": []
  },
  {
   "cell_type": "code",
   "execution_count": 28,
   "id": "92aa66f1-64d9-485d-8298-c185df686c11",
   "metadata": {},
   "outputs": [
    {
     "ename": "SyntaxError",
     "evalue": "invalid syntax (2834429341.py, line 1)",
     "output_type": "error",
     "traceback": [
      "\u001b[1;36m  File \u001b[1;32m\"C:\\Users\\User\\AppData\\Local\\Temp\\ipykernel_7972\\2834429341.py\"\u001b[1;36m, line \u001b[1;32m1\u001b[0m\n\u001b[1;33m    -------번외-------\u001b[0m\n\u001b[1;37m                    ^\u001b[0m\n\u001b[1;31mSyntaxError\u001b[0m\u001b[1;31m:\u001b[0m invalid syntax\n"
     ]
    }
   ],
   "source": [
    "-------번외-------"
   ]
  },
  {
   "cell_type": "code",
   "execution_count": 29,
   "id": "8d5282d4-0f09-42e1-954d-cea7e7a4a4fa",
   "metadata": {},
   "outputs": [
    {
     "name": "stdout",
     "output_type": "stream",
     "text": [
      "Epoch 1/10\n",
      "2/2 [==============================] - 1s 208ms/step - loss: 0.6918 - acc: 0.5476 - val_loss: 0.5655 - val_acc: 0.7727\n",
      "Epoch 2/10\n",
      "2/2 [==============================] - 0s 43ms/step - loss: 0.6107 - acc: 0.6667 - val_loss: 0.5543 - val_acc: 0.7727\n",
      "Epoch 3/10\n",
      "2/2 [==============================] - 0s 41ms/step - loss: 0.5710 - acc: 0.6667 - val_loss: 0.5820 - val_acc: 0.8182\n",
      "Epoch 4/10\n",
      "2/2 [==============================] - 0s 61ms/step - loss: 0.5261 - acc: 0.7381 - val_loss: 0.5822 - val_acc: 0.8182\n",
      "Epoch 5/10\n",
      "2/2 [==============================] - 0s 37ms/step - loss: 0.4830 - acc: 0.7857 - val_loss: 0.6347 - val_acc: 0.7273\n",
      "Epoch 6/10\n",
      "2/2 [==============================] - 0s 37ms/step - loss: 0.4407 - acc: 0.9405 - val_loss: 0.5654 - val_acc: 0.8182\n",
      "Epoch 7/10\n",
      "2/2 [==============================] - 0s 37ms/step - loss: 0.3866 - acc: 0.8810 - val_loss: 0.5881 - val_acc: 0.7273\n",
      "Epoch 8/10\n",
      "2/2 [==============================] - 0s 39ms/step - loss: 0.3435 - acc: 0.9286 - val_loss: 0.5490 - val_acc: 0.7727\n",
      "Epoch 9/10\n",
      "2/2 [==============================] - 0s 39ms/step - loss: 0.3157 - acc: 0.9048 - val_loss: 0.5494 - val_acc: 0.7273\n",
      "Epoch 10/10\n",
      "2/2 [==============================] - 0s 38ms/step - loss: 0.2778 - acc: 0.9286 - val_loss: 0.6377 - val_acc: 0.5909\n"
     ]
    }
   ],
   "source": [
    "model = Sequential()\n",
    "model.add(Embedding(vocab_size, embedding_dim))\n",
    "model.add(SimpleRNN(hidden_units))\n",
    "model.add(Dense(1, activation='sigmoid'))\n",
    "\n",
    "model.compile(optimizer='rmsprop', loss='binary_crossentropy', metrics=['acc'])\n",
    "history = model.fit(X_train_padded, y_train, epochs=10, batch_size=64, validation_split=0.2)"
   ]
  },
  {
   "cell_type": "code",
   "execution_count": 30,
   "id": "1d4efb08-bf67-42e5-bd88-882ea3021f6d",
   "metadata": {},
   "outputs": [
    {
     "name": "stdout",
     "output_type": "stream",
     "text": [
      "1/1 [==============================] - 0s 24ms/step - loss: 0.5789 - acc: 0.7778\n",
      "\n",
      " 테스트 정확도: 0.7778\n"
     ]
    }
   ],
   "source": [
    "X_test_encoded = tokenizer.texts_to_sequences(X_test)\n",
    "X_test_padded = pad_sequences(X_test_encoded, maxlen = max_len)\n",
    "print(\"\\n 테스트 정확도: %.4f\" % (model.evaluate(X_test_padded, y_test)[1]))"
   ]
  },
  {
   "cell_type": "code",
   "execution_count": 31,
   "id": "cfb2de5b-4113-4ef2-a5a3-ece396b68a26",
   "metadata": {},
   "outputs": [
    {
     "data": {
      "image/png": "[encoded data removed]",
      "text/plain": [
       "<Figure size 640x480 with 1 Axes>"
      ]
     },
     "metadata": {},
     "output_type": "display_data"
    }
   ],
   "source": [
    "# 학습과 검정의 정확도 비교 시각화\n",
    "epochs = range(1, len(history.history['acc']) + 1)\n",
    "plt.plot(epochs, history.history['loss'])\n",
    "plt.plot(epochs, history.history['val_loss'])\n",
    "plt.title('model loss')\n",
    "plt.ylabel('loss')\n",
    "plt.xlabel('epoch')\n",
    "plt.legend(['train', 'val'], loc='upper right')\n",
    "plt.show()"
   ]
  },
  {
   "cell_type": "code",
   "execution_count": 32,
   "id": "45f64cdc-c13d-4fd4-bf84-bd32da73f632",
   "metadata": {},
   "outputs": [],
   "source": [
    "# 에포크가 4가 넘어가면 검증의 경우 오히려 loss가 증가하는 경향을 보인다."
   ]
  },
  {
   "cell_type": "code",
   "execution_count": null,
   "id": "5662bdc5-14db-4613-90bd-1ab18fd6b5ff",
   "metadata": {},
   "outputs": [],
   "source": []
  }
 ],
 "metadata": {
  "kernelspec": {
   "display_name": "Python 3 (ipykernel)",
   "language": "python",
   "name": "python3"
  },
  "language_info": {
   "codemirror_mode": {
    "name": "ipython",
    "version": 3
   },
   "file_extension": ".py",
   "mimetype": "text/x-python",
   "name": "python",
   "nbconvert_exporter": "python",
   "pygments_lexer": "ipython3",
   "version": "3.9.13"
  }
 },
 "nbformat": 4,
 "nbformat_minor": 5
}
