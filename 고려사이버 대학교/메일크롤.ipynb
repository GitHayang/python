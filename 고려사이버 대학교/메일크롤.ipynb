{
 "cells": [
  {
   "cell_type": "markdown",
   "id": "d5e51f9e-d4b8-481d-a1e1-1d1a40bd9c12",
   "metadata": {},
   "source": [
    "# 모듈 임포트"
   ]
  },
  {
   "cell_type": "code",
   "execution_count": 1,
   "id": "e4148ca1-9ca7-48c5-b0ab-b5fbb031f527",
   "metadata": {},
   "outputs": [],
   "source": [
    "import pandas as pd\n",
    "import numpy as np\n",
    "from bs4 import BeautifulSoup\n",
    "import requests\n",
    "import imaplib\n",
    "import email\n",
    "from email.header import decode_header, make_header\n",
    "import re\n",
    "import chardet"
   ]
  },
  {
   "cell_type": "markdown",
   "id": "21c836b7-4a4f-4881-a9fd-b554fa87c108",
   "metadata": {},
   "source": [
    "# 구글 계정에 접속하기\n",
    "접속 후 전체 메일함의 메일들 가져오기"
   ]
  },
  {
   "cell_type": "code",
   "execution_count": 2,
   "id": "e3ad4c10-84ae-4496-b79d-30829fde8781",
   "metadata": {},
   "outputs": [],
   "source": [
    "imap = imaplib.IMAP4_SSL(\"imap.gmail.com\")"
   ]
  },
  {
   "cell_type": "code",
   "execution_count": 3,
   "id": "05f4bed4-a356-4e02-acf0-5ee9040e6adc",
   "metadata": {},
   "outputs": [],
   "source": [
    "# 해당 부분 수정시 다른 이메일을 사용가능\n",
    "google_id = \"hayangee100@gmail.com\"\n",
    "google_pw = pd.read_csv(\"./google_passwoed/google_password.csv\")\n",
    "google_pw = list(google_pw)[0]"
   ]
  },
  {
   "cell_type": "code",
   "execution_count": 4,
   "id": "79e67d2e-d9c6-4554-814a-e5ae98090fdf",
   "metadata": {},
   "outputs": [
    {
     "data": {
      "text/plain": [
       "('OK', [b'hayangee100@gmail.com authenticated (Success)'])"
      ]
     },
     "execution_count": 4,
     "metadata": {},
     "output_type": "execute_result"
    }
   ],
   "source": [
    "imap.login(google_id, google_pw)"
   ]
  },
  {
   "cell_type": "code",
   "execution_count": 5,
   "id": "bf8b3964-7500-48f4-9d49-6a3e81ae50a4",
   "metadata": {},
   "outputs": [
    {
     "data": {
      "text/plain": [
       "('OK', [b'43'])"
      ]
     },
     "execution_count": 5,
     "metadata": {},
     "output_type": "execute_result"
    }
   ],
   "source": [
    "# 사서함 선택, 반환 데이터는 mailbox에 있는 메시지 수\n",
    "imap.select(\"INBOX\")"
   ]
  },
  {
   "cell_type": "code",
   "execution_count": 6,
   "id": "e87dd6bb-77aa-4270-b33f-93fe29da8c96",
   "metadata": {},
   "outputs": [
    {
     "data": {
      "text/plain": [
       "'OK'"
      ]
     },
     "execution_count": 6,
     "metadata": {},
     "output_type": "execute_result"
    }
   ],
   "source": [
    "# 사서함의 모든 메일의 uid 정보 가져오기\n",
    "# 만약 특정 발신 메일만 선택하고 싶다면 'ALL' 대신에 '(FROM \"xxxxx@naver.com\")' 입력\n",
    "status, messages = imap.uid('search', None, 'ALL')\n",
    "status"
   ]
  },
  {
   "cell_type": "code",
   "execution_count": 7,
   "id": "bd1f494b-7995-4ae1-b152-f3c3266f41d4",
   "metadata": {},
   "outputs": [],
   "source": [
    "messages = messages[0].split()"
   ]
  },
  {
   "cell_type": "markdown",
   "id": "183950af-3a62-4991-928f-31eb9a40561c",
   "metadata": {},
   "source": [
    "# 메일함의 전체 메일들 크롤링해서 데이터프레임화"
   ]
  },
  {
   "cell_type": "code",
   "execution_count": 8,
   "id": "ab6a5c54-151c-4d50-9bcd-d1c25ba9d62a",
   "metadata": {},
   "outputs": [
    {
     "data": {
      "text/plain": [
       "(70, 4)"
      ]
     },
     "execution_count": 8,
     "metadata": {},
     "output_type": "execute_result"
    }
   ],
   "source": [
    "# 내용 확인\n",
    "mail_df = pd.read_csv(\"./mail.csv\")\n",
    "mail_df.shape"
   ]
  },
  {
   "cell_type": "code",
   "execution_count": 9,
   "id": "aaeb4803-f6be-464f-9097-466d257dc788",
   "metadata": {
    "scrolled": true,
    "tags": []
   },
   "outputs": [
    {
     "name": "stdout",
     "output_type": "stream",
     "text": [
      "0\n",
      "고아라 대리\n",
      "a.ra.ko@datastreams.co.kr\n",
      "1\n",
      "백승수\n",
      "caose980@gmail.com\n",
      "2\n",
      "리미(rimirimirimi) (Google Drive에서 공유)\n",
      "drive-shares-dm-noreply@google.com\n",
      "3\n",
      "OpenAI\n",
      "noreply@tm.openai.com\n",
      "4\n",
      "\" 서울시청 \"\n",
      "inews11@seoul.go.kr\n",
      "5\n",
      "\"Microsoft Rewards\"\n",
      "MicrosoftRewards@emailnotify.microsoft.com\n",
      "6\n",
      "\" 서울시청 \"\n",
      "inews11@seoul.go.kr\n",
      "7\n",
      "OpenAI\n",
      "noreply@tm.openai.com\n",
      "8\n",
      "\" 서울시청 \"\n",
      "inews11@seoul.go.kr\n",
      "9\n",
      "\" 서울시청 \"\n",
      "inews11@seoul.go.kr\n",
      "10\n",
      "\" 삼성계정 \"\n",
      "sa.noreply@samsung.com\n",
      "11\n",
      "\" 서울시청 \"\n",
      "inews11@seoul.go.kr\n",
      "12\n",
      "Creative Tim\n",
      "support@creative-tim.com\n",
      "13\n",
      "\" 서울시청 \"\n",
      "inews11@seoul.go.kr\n",
      "14\n",
      "\" 서울시청 \"\n",
      "inews11@seoul.go.kr\n",
      "15\n",
      "\" 서울시청 \"\n",
      "inews11@seoul.go.kr\n",
      "16\n",
      "네이버\n",
      "account_noreply@navercorp.com\n",
      "17\n",
      "\" 서울시청 \"\n",
      "inews11@seoul.go.kr\n",
      "18\n",
      "\" 서울시청 \"\n",
      "inews11@seoul.go.kr\n",
      "19\n",
      "\" 고려사이버대학교 미래교육원 (via 고려사이버대학교 미래교육원) \"\n",
      "no-reply9@cuk.edu\n",
      "20\n",
      "\" 서울시청 \"\n",
      "inews11@seoul.go.kr\n",
      "21\n",
      "Pinata Team\n",
      "team@pinata.cloud\n",
      "22\n",
      "\" 서울시청 \"\n",
      "inews11@seoul.go.kr\n",
      "23\n",
      "OpenAI\n",
      "noreply@tm.openai.com\n",
      "24\n",
      "이보라\n",
      "ta-leebr@cuk.edu\n",
      "25\n",
      "Google\n",
      "no-reply@accounts.google.com\n",
      "26\n",
      "\" 서울시청 \"\n",
      "inews11@seoul.go.kr\n",
      "27\n",
      "Google\n",
      "no-reply@accounts.google.com\n",
      "28\n",
      "\" 신해림튜터 (via 고려사이버대학교 미래교육원) \"\n",
      "no-reply9@cuk.edu\n",
      "29\n",
      "\" 신해림튜터 (via 고려사이버대학교 미래교육원) \"\n",
      "no-reply9@cuk.edu\n",
      "30\n",
      "범부처통합연구지원시스템\n",
      "iris-info@kistep.re.kr\n",
      "31\n",
      "범부처통합연구지원시스템\n",
      "iris-info@kistep.re.kr\n",
      "32\n",
      "\" 서울시청 \"\n",
      "inews11@seoul.go.kr\n",
      "33\n",
      "AIFactory\n",
      "no-reply@aifactory.page\n",
      "34\n",
      "AIFactory\n",
      "no-reply@aifactory.page\n",
      "35\n",
      "Google\n",
      "no-reply@accounts.google.com\n",
      "36\n",
      "Google\n",
      "google-noreply@google.com\n",
      "37\n",
      "\" 서울시청 \"\n",
      "inews11@seoul.go.kr\n",
      "38\n",
      "Google\n",
      "no-reply@accounts.google.com\n",
      "39\n",
      "Google\n",
      "no-reply@accounts.google.com\n",
      "40\n",
      "Google\n",
      "no-reply@accounts.google.com\n",
      "패턴이 매치되지 않았습니다.\n",
      "41\n",
      "\n",
      "hayangee100@gmail.com\n",
      "패턴이 매치되지 않았습니다.\n",
      "42\n",
      "\n",
      "hayangee100@gmail.com\n"
     ]
    }
   ],
   "source": [
    "for i in range(len(messages)):\n",
    "    recent_email = messages[i]\n",
    "    \n",
    "    # fetch 명령어로 메일 가져오기\n",
    "    res, msg = imap.uid('fetch', recent_email, \"(RFC822)\")\n",
    "    \n",
    "    # 기본적으로 IMAP 서버에 연결하면 NONAUTH 상태, OK되어야 실행 가능\n",
    "    # 최대 10번까지 시도해보기\n",
    "    # 1번당 2초간 대기 총합 약 20초의 대기\n",
    "    max_attempts = 10\n",
    "    for attempt in range(max_attempts):\n",
    "        # fetch 명령어로 메일 가져오기\n",
    "        res, msg = imap.uid('fetch', recent_email, \"(RFC822)\")\n",
    "\n",
    "        if res == \"OK\":\n",
    "            break  # 정상적으로 연결되었으면 반복문을 빠져나감\n",
    "        else:\n",
    "            time.sleep(2)  # 2초 대기 후 다시 시도\n",
    "\n",
    "    # OK상태시 나머지 코드 실행\n",
    "    if res == \"OK\":\n",
    "\n",
    "        # 사람이 읽을 수 있는 형태로 변환\n",
    "        raw_readable = None\n",
    "        for encoding in ['utf-8', 'euc-kr', 'cp949', 'shift-jis', 'iso-2022-jp']:\n",
    "            try:\n",
    "                raw_readable = msg[0][1].decode(encoding)\n",
    "                break\n",
    "            except UnicodeDecodeError:\n",
    "                continue\n",
    "\n",
    "        # raw_readable에서 원하는 부분만 파싱하기 위해 email 모듈을 이용해 변환\n",
    "        email_message = email.message_from_string(raw_readable)\n",
    "\n",
    "        # 보낸사람\n",
    "        try:\n",
    "            fr_header = make_header(decode_header(email_message.get('From')))    \n",
    "            fr_header = email_message.get('From')\n",
    "            decoded_fr = make_header(decode_header(fr_header))\n",
    "\n",
    "            # 보낸사람 디코딩된 문자열을 문자열로 변환\n",
    "            fr = str(decoded_fr)\n",
    "            match = re.match(r'(.+?)\\s*<(.+?)>', fr)\n",
    "            name = \"\"\n",
    "            email_address = \"\"\n",
    "            if match:\n",
    "                name = match.group(1).strip()\n",
    "                email_address = match.group(2).strip()\n",
    "            else:\n",
    "                print(\"패턴이 매치되지 않았습니다.\")\n",
    "                if fr.split(\"@\"):\n",
    "                    fr_split = fr.split(\"@\")\n",
    "                    fr_split = fr_split[0] + \"@\" + fr_split[1] \n",
    "                    email_address = fr_split\n",
    "                else :\n",
    "                    name = fr\n",
    "\n",
    "            print(i)\n",
    "            print(name)\n",
    "            print(email_address)\n",
    "\n",
    "            # 메일 제목\n",
    "            subject = make_header(decode_header(email_message.get('Subject')))\n",
    "\n",
    "            # 메일 내용\n",
    "            body = \"\"\n",
    "            if email_message.is_multipart():\n",
    "                for part in email_message.walk():\n",
    "                    ctype = part.get_content_type()\n",
    "                    cdispo = str(part.get('Content-Disposition'))\n",
    "                    if ctype == 'text/plain' and 'attachment' not in cdispo:\n",
    "                        body = part.get_payload(decode=True)  # decode\n",
    "                        break\n",
    "            else:\n",
    "                body = email_message.get_payload(decode=True)\n",
    "\n",
    "            # 내용 부분 디코딩\n",
    "            if body:\n",
    "                try:\n",
    "                    body = body.decode('utf-8')\n",
    "                except UnicodeDecodeError:\n",
    "                    # UTF-8로 디코딩할 수 없는 경우 대체 문자로 처리\n",
    "                    body = body.decode('utf-8', errors='replace')\n",
    "            else:\n",
    "                body = \"\"\n",
    "\n",
    "            data = {'보낸이': [name], \"메일주소\" : [email_address], '제목': [subject], '내용': [body]}\n",
    "            df = pd.DataFrame(data)\n",
    "            mail_df = pd.concat([mail_df, df], ignore_index=True)\n",
    "        except:\n",
    "            pass"
   ]
  },
  {
   "cell_type": "code",
   "execution_count": 10,
   "id": "9219de59-ffe7-46aa-a9fd-dd9f12826670",
   "metadata": {},
   "outputs": [
    {
     "data": {
      "text/plain": [
       "(113, 4)"
      ]
     },
     "execution_count": 10,
     "metadata": {},
     "output_type": "execute_result"
    }
   ],
   "source": [
    "mail_df.shape"
   ]
  },
  {
   "cell_type": "code",
   "execution_count": 11,
   "id": "6eda60b6-6a3a-4cc6-8e64-b5e40c6dfd3a",
   "metadata": {},
   "outputs": [
    {
     "data": {
      "text/plain": [
       "(70, 4)"
      ]
     },
     "execution_count": 11,
     "metadata": {},
     "output_type": "execute_result"
    }
   ],
   "source": [
    "# 내용 확인\n",
    "check_df = pd.read_csv(\"./mail.csv\")\n",
    "check_df.shape"
   ]
  },
  {
   "cell_type": "code",
   "execution_count": 12,
   "id": "94485afc-0b17-456f-9fb4-ef944dbf510a",
   "metadata": {},
   "outputs": [
    {
     "ename": "SyntaxError",
     "evalue": "invalid syntax (1241381794.py, line 1)",
     "output_type": "error",
     "traceback": [
      "\u001b[1;36m  File \u001b[1;32m\"C:\\Users\\User\\AppData\\Local\\Temp\\ipykernel_9232\\1241381794.py\"\u001b[1;36m, line \u001b[1;32m1\u001b[0m\n\u001b[1;33m    -------------\u001b[0m\n\u001b[1;37m                 ^\u001b[0m\n\u001b[1;31mSyntaxError\u001b[0m\u001b[1;31m:\u001b[0m invalid syntax\n"
     ]
    }
   ],
   "source": [
    "-------------"
   ]
  },
  {
   "cell_type": "code",
   "execution_count": 13,
   "id": "35d8662f-30db-4558-9406-29d23d804752",
   "metadata": {},
   "outputs": [],
   "source": [
    "# 최종적 저장\n",
    "mail_df.to_csv(\"./mail.csv\", index = False)"
   ]
  },
  {
   "cell_type": "code",
   "execution_count": 14,
   "id": "27c5586d-aaf1-4921-808f-8086a9786b72",
   "metadata": {},
   "outputs": [
    {
     "data": {
      "text/plain": [
       "(113, 4)"
      ]
     },
     "execution_count": 14,
     "metadata": {},
     "output_type": "execute_result"
    }
   ],
   "source": [
    "# 내용 확인\n",
    "pd.read_csv(\"./mail.csv\").shape"
   ]
  },
  {
   "cell_type": "code",
   "execution_count": null,
   "id": "e3f9ed53-8313-40bf-b7a3-37e595cacf8c",
   "metadata": {},
   "outputs": [],
   "source": []
  }
 ],
 "metadata": {
  "kernelspec": {
   "display_name": "Python 3 (ipykernel)",
   "language": "python",
   "name": "python3"
  },
  "language_info": {
   "codemirror_mode": {
    "name": "ipython",
    "version": 3
   },
   "file_extension": ".py",
   "mimetype": "text/x-python",
   "name": "python",
   "nbconvert_exporter": "python",
   "pygments_lexer": "ipython3",
   "version": "3.9.13"
  }
 },
 "nbformat": 4,
 "nbformat_minor": 5
}
