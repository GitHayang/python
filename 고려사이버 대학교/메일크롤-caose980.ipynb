{
 "cells": [
  {
   "cell_type": "markdown",
   "id": "d5e51f9e-d4b8-481d-a1e1-1d1a40bd9c12",
   "metadata": {},
   "source": [
    "# 모듈 임포트"
   ]
  },
  {
   "cell_type": "code",
   "execution_count": 1,
   "id": "e4148ca1-9ca7-48c5-b0ab-b5fbb031f527",
   "metadata": {},
   "outputs": [],
   "source": [
    "import pandas as pd\n",
    "import numpy as np\n",
    "from bs4 import BeautifulSoup\n",
    "import requests\n",
    "import imaplib\n",
    "import email\n",
    "from email.header import decode_header, make_header\n",
    "import re\n",
    "import chardet"
   ]
  },
  {
   "cell_type": "markdown",
   "id": "413a3dc7-bd61-445a-a982-4fe76d74a84c",
   "metadata": {},
   "source": [
    "# 저장할 데이터 프레임 불러오기\n",
    "이미 있는 데이터에 계속해서 추가하기 위함"
   ]
  },
  {
   "cell_type": "code",
   "execution_count": 2,
   "id": "10e7aca6-6c0a-40f5-a60f-d3b0e3627826",
   "metadata": {},
   "outputs": [
    {
     "data": {
      "text/plain": [
       "(113, 4)"
      ]
     },
     "execution_count": 2,
     "metadata": {},
     "output_type": "execute_result"
    }
   ],
   "source": [
    "# 미리 만들어둔 빈 데이터 프레임\n",
    "mail_df = pd.read_csv(\"./mail.csv\")\n",
    "mail_df.shape"
   ]
  },
  {
   "cell_type": "markdown",
   "id": "21c836b7-4a4f-4881-a9fd-b554fa87c108",
   "metadata": {},
   "source": [
    "# 구글 계정에 접속하기\n",
    "접속 후 전체 메일함의 메일들 가져오기"
   ]
  },
  {
   "cell_type": "code",
   "execution_count": 3,
   "id": "e3ad4c10-84ae-4496-b79d-30829fde8781",
   "metadata": {},
   "outputs": [],
   "source": [
    "imap = imaplib.IMAP4_SSL(\"imap.gmail.com\")"
   ]
  },
  {
   "cell_type": "code",
   "execution_count": 4,
   "id": "05f4bed4-a356-4e02-acf0-5ee9040e6adc",
   "metadata": {},
   "outputs": [],
   "source": [
    "google_id = \"caose980@gmail.com\"\n",
    "google_pw = pd.read_csv(\"./google_passwoed/google_pwd_ca.csv\")\n",
    "google_pw = list(google_pw)[0]"
   ]
  },
  {
   "cell_type": "code",
   "execution_count": 5,
   "id": "79e67d2e-d9c6-4554-814a-e5ae98090fdf",
   "metadata": {},
   "outputs": [
    {
     "data": {
      "text/plain": [
       "('OK', [b'caose980@gmail.com authenticated (Success)'])"
      ]
     },
     "execution_count": 5,
     "metadata": {},
     "output_type": "execute_result"
    }
   ],
   "source": [
    "imap.login(google_id, google_pw)"
   ]
  },
  {
   "cell_type": "code",
   "execution_count": 6,
   "id": "bf8b3964-7500-48f4-9d49-6a3e81ae50a4",
   "metadata": {},
   "outputs": [
    {
     "data": {
      "text/plain": [
       "('OK', [b'71'])"
      ]
     },
     "execution_count": 6,
     "metadata": {},
     "output_type": "execute_result"
    }
   ],
   "source": [
    "# 사서함 선택, 반환 데이터는 mailbox에 있는 메시지 수\n",
    "imap.select(\"INBOX\")"
   ]
  },
  {
   "cell_type": "code",
   "execution_count": 7,
   "id": "e87dd6bb-77aa-4270-b33f-93fe29da8c96",
   "metadata": {},
   "outputs": [
    {
     "data": {
      "text/plain": [
       "'OK'"
      ]
     },
     "execution_count": 7,
     "metadata": {},
     "output_type": "execute_result"
    }
   ],
   "source": [
    "# 사서함의 모든 메일의 uid 정보 가져오기\n",
    "# 만약 특정 발신 메일만 선택하고 싶다면 'ALL' 대신에 '(FROM \"xxxxx@naver.com\")' 입력\n",
    "status, messages = imap.uid('search', None, 'ALL')\n",
    "status"
   ]
  },
  {
   "cell_type": "code",
   "execution_count": 8,
   "id": "bd1f494b-7995-4ae1-b152-f3c3266f41d4",
   "metadata": {},
   "outputs": [],
   "source": [
    "messages = messages[0].split()"
   ]
  },
  {
   "cell_type": "markdown",
   "id": "183950af-3a62-4991-928f-31eb9a40561c",
   "metadata": {},
   "source": [
    "# 메일함의 전체 메일들 크롤링해서 데이터프레임화"
   ]
  },
  {
   "cell_type": "code",
   "execution_count": 9,
   "id": "aaeb4803-f6be-464f-9097-466d257dc788",
   "metadata": {
    "scrolled": true,
    "tags": []
   },
   "outputs": [
    {
     "name": "stdout",
     "output_type": "stream",
     "text": [
      "0\n",
      "최은주\n",
      "cej2933@naver.com\n",
      "1\n",
      "Zara\n",
      "noreply@zara.com\n",
      "2\n",
      "AliExpress\n",
      "promotion@aliexpress.com\n",
      "3\n",
      "\"Adobe Creative Cloud\"\n",
      "mail@mail.adobe.com\n",
      "4\n",
      "AliExpress\n",
      "ae-touch.ae3@mail.aliexpress.com\n",
      "5\n",
      "최미경\n",
      "mkc9637@naver.com\n",
      "6\n",
      "YouTube\n",
      "noreply@youtube.com\n",
      "7\n",
      "AliExpress\n",
      "ae-touch.ae3@mail.aliexpress.com\n",
      "8\n",
      "Dacon Service\n",
      "dacon@dacon.io\n",
      "9\n",
      "\"Adobe Creative Cloud\"\n",
      "mail@mail.adobe.com\n",
      "10\n",
      "AliExpress\n",
      "ae-touch.ae3@mail.aliexpress.com\n",
      "11\n",
      "\"Nintendo\"\n",
      "nintendo-noreply@ccg.nintendo.com\n",
      "12\n",
      "AliExpress\n",
      "promotion@aliexpress.com\n",
      "13\n",
      "Pinterest\n",
      "recommendations@discover.pinterest.com\n",
      "14\n",
      "Pinterest\n",
      "recommendations@discover.pinterest.com\n",
      "15\n",
      "\"Amazon Web Services, Inc.\"\n",
      "no-reply-aws@amazon.com\n",
      "16\n",
      "아마존웹서비스\n",
      "aws-korea-event@amazon.com\n",
      "17\n",
      "AliExpress\n",
      "ae-touch.ae3@mail.aliexpress.com\n",
      "18\n",
      "\"Adobe Special Offers\"\n",
      "mail@mail.adobe.com\n",
      "19\n",
      "Dacon Service\n",
      "mail@dacon.io\n",
      "20\n",
      "\" CU멤버십 \"\n",
      "cumembership@bgf.co.kr\n",
      "21\n",
      "AliExpress\n",
      "promotion@aliexpress.com\n",
      "22\n",
      "와디즈 뉴스레터\n",
      "newsletter@wadiz.kr\n",
      "23\n",
      "\"Adobe Special Offers\"\n",
      "mail@mail.adobe.com\n",
      "24\n",
      "AliExpress\n",
      "ae-touch.ae3@mail.aliexpress.com\n",
      "25\n",
      "\"Adobe Special Offers\"\n",
      "mail@mail.adobe.com\n",
      "26\n",
      "\" 주식회사 브랜디 \"\n",
      "no-ply@brandi.co.kr\n",
      "27\n",
      "YouTube\n",
      "noreply@youtube.com\n",
      "28\n",
      "\"Adobe Special Offers\"\n",
      "mail@mail.adobe.com\n",
      "29\n",
      "아마존웹서비스\n",
      "aws-korea-marketing@amazon.com\n",
      "패턴이 매치되지 않았습니다.\n",
      "30\n",
      "\n",
      "no-reply@kakaopage.com\n",
      "31\n",
      "Google Maps Timeline\n",
      "noreply-maps-timeline@google.com\n",
      "33\n",
      "\"Adobe Creative Cloud\"\n",
      "mail@mail.adobe.com\n",
      "34\n",
      "Amazon Web Services\n",
      "aws-marketing-email-replies@amazon.com\n",
      "35\n",
      "\" T아이디 \"\n",
      "skt-id@sk.com\n",
      "36\n",
      "\" T아이디 \"\n",
      "skt-id@sk.com\n",
      "37\n",
      "AliExpress\n",
      "promotion@aliexpress.com\n",
      "38\n",
      "와디즈 뉴스레터\n",
      "newsletter@wadiz.kr\n",
      "39\n",
      "\"Adobe Creative Cloud\"\n",
      "mail@mail.adobe.com\n",
      "40\n",
      "Pokémon GO\n",
      "pokemongo@email.nianticlabs.com\n",
      "41\n",
      "AliExpress\n",
      "deals01@deals.aliexpress.com\n",
      "42\n",
      "\"Adobe Special Offers\"\n",
      "mail@mail.adobe.com\n",
      "43\n",
      "Amazon Web Services\n",
      "aws-marketing-email-replies@amazon.com\n",
      "44\n",
      "Dacon Service\n",
      "mail@dacon.io\n",
      "45\n",
      "AliExpress\n",
      "promotion@aliexpress.com\n",
      "패턴이 매치되지 않았습니다.\n",
      "46\n",
      "\n",
      "freetier@costalerts.amazonaws.com\n",
      "47\n",
      "리멤버\n",
      "no-reply@rememberapp.co.kr\n",
      "48\n",
      "\" 요기요 \"\n",
      "post@yogiyo.co.kr\n",
      "49\n",
      "\" 삼성계정 \"\n",
      "sa.noreply@samsung.com\n",
      "50\n",
      "SeoulCityGas\n",
      "webmaster@seoulgas.co.kr\n",
      "51\n",
      "\"Adobe Special Offers\"\n",
      "mail@mail.adobe.com\n",
      "52\n",
      "\"Adobe Special Offers\"\n",
      "mail@mail.adobe.com\n",
      "53\n",
      "Dacon Service\n",
      "dacon@dacon.io\n",
      "54\n",
      "Pokémon GO\n",
      "pokemongo@email.nianticlabs.com\n",
      "55\n",
      "AliExpress\n",
      "promotion@aliexpress.com\n",
      "56\n",
      "\" 플리토 Flitto \"\n",
      "cafedeflitto@gmail.com\n",
      "57\n",
      "와디즈\n",
      "info@wadiz.kr\n",
      "58\n",
      "최미경\n",
      "mkc9637@naver.com\n",
      "59\n",
      "\" 사람인 \"\n",
      "evt@mailinfo.saramin.co.kr\n",
      "60\n",
      "와디즈 뉴스레터\n",
      "newsletter@wadiz.kr\n",
      "61\n",
      "Twitch\n",
      "no-reply@twitch.tv\n",
      "62\n",
      "와디즈 뉴스레터\n",
      "newsletter@wadiz.kr\n",
      "63\n",
      "Twitch\n",
      "no-reply@twitch.tv\n",
      "64\n",
      "AliExpress\n",
      "promotion@aliexpress.com\n",
      "65\n",
      "Google\n",
      "no-reply@accounts.google.com\n",
      "66\n",
      "Twitch\n",
      "no-reply@twitch.tv\n",
      "67\n",
      "YouTube Premium\n",
      "no-reply@youtube.com\n",
      "68\n",
      "Pokémon GO\n",
      "pokemongo@email.nianticlabs.com\n",
      "69\n",
      "Google\n",
      "no-reply@accounts.google.com\n",
      "70\n",
      "와디즈\n",
      "info@wadiz.kr\n"
     ]
    }
   ],
   "source": [
    "for i in range(len(messages)):\n",
    "    recent_email = messages[i]\n",
    "    \n",
    "    # fetch 명령어로 메일 가져오기\n",
    "    res, msg = imap.uid('fetch', recent_email, \"(RFC822)\")\n",
    "    \n",
    "    # 기본적으로 IMAP 서버에 연결하면 NONAUTH 상태, OK되어야 실행 가능\n",
    "    # 최대 10번까지 시도해보기\n",
    "    # 1번당 2초간 대기 총합 약 20초의 대기\n",
    "    max_attempts = 10\n",
    "    for attempt in range(max_attempts):\n",
    "        # fetch 명령어로 메일 가져오기\n",
    "        res, msg = imap.uid('fetch', recent_email, \"(RFC822)\")\n",
    "\n",
    "        if res == \"OK\":\n",
    "            break  # 정상적으로 연결되었으면 반복문을 빠져나감\n",
    "        else:\n",
    "            time.sleep(2)  # 2초 대기 후 다시 시도\n",
    "\n",
    "    # OK상태시 나머지 코드 실행\n",
    "    if res == \"OK\":\n",
    "\n",
    "        # 사람이 읽을 수 있는 형태로 변환\n",
    "        raw_readable = None\n",
    "        for encoding in ['utf-8', 'euc-kr', 'cp949', 'shift-jis', 'iso-2022-jp']:\n",
    "            try:\n",
    "                raw_readable = msg[0][1].decode(encoding)\n",
    "                break\n",
    "            except UnicodeDecodeError:\n",
    "                continue\n",
    "\n",
    "        # raw_readable에서 원하는 부분만 파싱하기 위해 email 모듈을 이용해 변환\n",
    "        email_message = email.message_from_string(raw_readable)\n",
    "\n",
    "        # 보낸사람\n",
    "        try:\n",
    "            fr_header = make_header(decode_header(email_message.get('From')))    \n",
    "            fr_header = email_message.get('From')\n",
    "            decoded_fr = make_header(decode_header(fr_header))\n",
    "\n",
    "            # 보낸사람 디코딩된 문자열을 문자열로 변환\n",
    "            fr = str(decoded_fr)\n",
    "            match = re.match(r'(.+?)\\s*<(.+?)>', fr)\n",
    "            name = \"\"\n",
    "            email_address = \"\"\n",
    "            if match:\n",
    "                name = match.group(1).strip()\n",
    "                email_address = match.group(2).strip()\n",
    "            else:\n",
    "                print(\"패턴이 매치되지 않았습니다.\")\n",
    "                if fr.split(\"@\"):\n",
    "                    fr_split = fr.split(\"@\")\n",
    "                    fr_split = fr_split[0] + \"@\" + fr_split[1] \n",
    "                    email_address = fr_split\n",
    "                else :\n",
    "                    name = fr\n",
    "\n",
    "            print(i)\n",
    "            print(name)\n",
    "            print(email_address)\n",
    "\n",
    "            # 메일 제목\n",
    "            subject = make_header(decode_header(email_message.get('Subject')))\n",
    "\n",
    "            # 메일 내용\n",
    "            body = \"\"\n",
    "            if email_message.is_multipart():\n",
    "                for part in email_message.walk():\n",
    "                    ctype = part.get_content_type()\n",
    "                    cdispo = str(part.get('Content-Disposition'))\n",
    "                    if ctype == 'text/plain' and 'attachment' not in cdispo:\n",
    "                        body = part.get_payload(decode=True)  # decode\n",
    "                        break\n",
    "            else:\n",
    "                body = email_message.get_payload(decode=True)\n",
    "\n",
    "            # 내용 부분 디코딩\n",
    "            if body:\n",
    "                try:\n",
    "                    body = body.decode('utf-8')\n",
    "                except UnicodeDecodeError:\n",
    "                    # UTF-8로 디코딩할 수 없는 경우 대체 문자로 처리\n",
    "                    body = body.decode('utf-8', errors='replace')\n",
    "            else:\n",
    "                body = \"\"\n",
    "\n",
    "            data = {'보낸이': [name], \"메일주소\" : [email_address], '제목': [subject], '내용': [body]}\n",
    "            df = pd.DataFrame(data)\n",
    "            mail_df = pd.concat([mail_df, df], ignore_index=True)\n",
    "        except:\n",
    "            pass"
   ]
  },
  {
   "cell_type": "code",
   "execution_count": 10,
   "id": "8c897812-07c1-41f4-9385-66ded85d2df3",
   "metadata": {
    "scrolled": true,
    "tags": []
   },
   "outputs": [
    {
     "data": {
      "text/plain": [
       "(183, 4)"
      ]
     },
     "execution_count": 10,
     "metadata": {},
     "output_type": "execute_result"
    }
   ],
   "source": [
    "mail_df.shape"
   ]
  },
  {
   "cell_type": "code",
   "execution_count": 11,
   "id": "94485afc-0b17-456f-9fb4-ef944dbf510a",
   "metadata": {},
   "outputs": [
    {
     "ename": "SyntaxError",
     "evalue": "invalid syntax (1241381794.py, line 1)",
     "output_type": "error",
     "traceback": [
      "\u001b[1;36m  File \u001b[1;32m\"C:\\Users\\User\\AppData\\Local\\Temp\\ipykernel_3368\\1241381794.py\"\u001b[1;36m, line \u001b[1;32m1\u001b[0m\n\u001b[1;33m    -------------\u001b[0m\n\u001b[1;37m                 ^\u001b[0m\n\u001b[1;31mSyntaxError\u001b[0m\u001b[1;31m:\u001b[0m invalid syntax\n"
     ]
    }
   ],
   "source": [
    "-------------"
   ]
  },
  {
   "cell_type": "code",
   "execution_count": 12,
   "id": "35d8662f-30db-4558-9406-29d23d804752",
   "metadata": {},
   "outputs": [],
   "source": [
    "# 최종적 저장\n",
    "mail_df.to_csv(\"./mail.csv\", index = False)"
   ]
  },
  {
   "cell_type": "code",
   "execution_count": 13,
   "id": "27c5586d-aaf1-4921-808f-8086a9786b72",
   "metadata": {},
   "outputs": [
    {
     "data": {
      "text/plain": [
       "(183, 4)"
      ]
     },
     "execution_count": 13,
     "metadata": {},
     "output_type": "execute_result"
    }
   ],
   "source": [
    "# 내용 확인\n",
    "pd.read_csv(\"./mail.csv\").shape"
   ]
  },
  {
   "cell_type": "code",
   "execution_count": null,
   "id": "8a07ee8d-92c8-4c5b-8337-6ee906ea7cc0",
   "metadata": {},
   "outputs": [],
   "source": []
  }
 ],
 "metadata": {
  "kernelspec": {
   "display_name": "Python 3 (ipykernel)",
   "language": "python",
   "name": "python3"
  },
  "language_info": {
   "codemirror_mode": {
    "name": "ipython",
    "version": 3
   },
   "file_extension": ".py",
   "mimetype": "text/x-python",
   "name": "python",
   "nbconvert_exporter": "python",
   "pygments_lexer": "ipython3",
   "version": "3.9.13"
  }
 },
 "nbformat": 4,
 "nbformat_minor": 5
}
