{
 "cells": [
  {
   "cell_type": "code",
   "execution_count": 1,
   "id": "b609b983-bcf9-4142-b28c-7b452b287d7c",
   "metadata": {},
   "outputs": [],
   "source": [
    "import numpy as np\n",
    "import pandas as pd\n",
    "import matplotlib.pyplot as plt\n",
    "from sklearn.model_selection import train_test_split\n",
    "from tensorflow.keras.preprocessing.text import Tokenizer\n",
    "from tensorflow.keras.preprocessing.sequence import pad_sequences"
   ]
  },
  {
   "cell_type": "code",
   "execution_count": 2,
   "id": "9b07781c-8bf5-4c72-8ee1-91baa6231d2a",
   "metadata": {},
   "outputs": [],
   "source": [
    "from konlpy.tag import Kkma\n",
    "from konlpy.utils import pprint\n",
    "from konlpy.tag import Okt"
   ]
  },
  {
   "cell_type": "code",
   "execution_count": 3,
   "id": "840aad39-344d-47e9-bd06-a03791f212c8",
   "metadata": {},
   "outputs": [],
   "source": [
    "import re"
   ]
  },
  {
   "cell_type": "code",
   "execution_count": 20,
   "id": "b0b413fb-ac6f-4ecf-bb0a-657804f4c6af",
   "metadata": {},
   "outputs": [],
   "source": [
    "# 그래프 한글 깨짐\n",
    "import matplotlib.pyplot as plt\n",
    "import matplotlib\n",
    "from matplotlib import font_manager, rc\n",
    "import platform\n",
    "\n",
    "plt.rc('font', family='NanumBarunGothic')\n",
    "\n",
    "\n",
    "matplotlib.rcParams['axes.unicode_minus'] = False\n",
    "#그래프에서 마이너스 기호가 표시되도록 하는 설정입니다.\n",
    "\n",
    "#warning 메시지 무시\n",
    "import warnings\n",
    "warnings.filterwarnings(action='ignore')\n",
    "warnings.filterwarnings(\"ignore\")\n",
    "%matplotlib inline"
   ]
  },
  {
   "cell_type": "code",
   "execution_count": 4,
   "id": "bd057361-e195-4d07-bbf0-0f5c8475ddfe",
   "metadata": {
    "tags": []
   },
   "outputs": [
    {
     "data": {
      "text/html": [
       "<div>\n",
       "<style scoped>\n",
       "    .dataframe tbody tr th:only-of-type {\n",
       "        vertical-align: middle;\n",
       "    }\n",
       "\n",
       "    .dataframe tbody tr th {\n",
       "        vertical-align: top;\n",
       "    }\n",
       "\n",
       "    .dataframe thead th {\n",
       "        text-align: right;\n",
       "    }\n",
       "</style>\n",
       "<table border=\"1\" class=\"dataframe\">\n",
       "  <thead>\n",
       "    <tr style=\"text-align: right;\">\n",
       "      <th></th>\n",
       "      <th>보낸이</th>\n",
       "      <th>메일주소</th>\n",
       "      <th>제목</th>\n",
       "      <th>내용</th>\n",
       "      <th>스팸여부</th>\n",
       "    </tr>\n",
       "  </thead>\n",
       "  <tbody>\n",
       "    <tr>\n",
       "      <th>0</th>\n",
       "      <td>네이버 시리즈</td>\n",
       "      <td>series_noreply@webtoonscorp.com</td>\n",
       "      <td>[네이버 시리즈] '히든 특성 13개 ...'의 구매 내역을 안내해 드립니다.</td>\n",
       "      <td>NaN</td>\n",
       "      <td>1</td>\n",
       "    </tr>\n",
       "    <tr>\n",
       "      <th>1</th>\n",
       "      <td>\" 현금이벤트 \"</td>\n",
       "      <td>nbadmin2@imga1.com</td>\n",
       "      <td>(광고) 않바꾸면 손해! 인터넷 변경하고 현금 47만원 받아가세요~</td>\n",
       "      <td>&lt;table width=\"100%\" border=\"0\" cellspacing=\"0\"...</td>\n",
       "      <td>0</td>\n",
       "    </tr>\n",
       "    <tr>\n",
       "      <th>2</th>\n",
       "      <td>네이버 시리즈</td>\n",
       "      <td>series_noreply@webtoonscorp.com</td>\n",
       "      <td>[네이버 시리즈] '아카데미 편의점으로...'의 구매 내역을 안내해 드립니다.</td>\n",
       "      <td>NaN</td>\n",
       "      <td>1</td>\n",
       "    </tr>\n",
       "    <tr>\n",
       "      <th>3</th>\n",
       "      <td>네이버 시리즈</td>\n",
       "      <td>series_noreply@webtoonscorp.com</td>\n",
       "      <td>[네이버 시리즈] '나 혼자 탑에서 농...'의 구매 내역을 안내해 드립니다.</td>\n",
       "      <td>NaN</td>\n",
       "      <td>1</td>\n",
       "    </tr>\n",
       "    <tr>\n",
       "      <th>4</th>\n",
       "      <td>네이버 시리즈</td>\n",
       "      <td>series_noreply@webtoonscorp.com</td>\n",
       "      <td>[네이버 시리즈] '멸망 예정인 아카데...'의 구매 내역을 안내해 드립니다.</td>\n",
       "      <td>NaN</td>\n",
       "      <td>1</td>\n",
       "    </tr>\n",
       "  </tbody>\n",
       "</table>\n",
       "</div>"
      ],
      "text/plain": [
       "         보낸이                             메일주소  \\\n",
       "0    네이버 시리즈  series_noreply@webtoonscorp.com   \n",
       "1  \" 현금이벤트 \"               nbadmin2@imga1.com   \n",
       "2    네이버 시리즈  series_noreply@webtoonscorp.com   \n",
       "3    네이버 시리즈  series_noreply@webtoonscorp.com   \n",
       "4    네이버 시리즈  series_noreply@webtoonscorp.com   \n",
       "\n",
       "                                            제목  \\\n",
       "0  [네이버 시리즈] '히든 특성 13개 ...'의 구매 내역을 안내해 드립니다.   \n",
       "1        (광고) 않바꾸면 손해! 인터넷 변경하고 현금 47만원 받아가세요~   \n",
       "2  [네이버 시리즈] '아카데미 편의점으로...'의 구매 내역을 안내해 드립니다.   \n",
       "3  [네이버 시리즈] '나 혼자 탑에서 농...'의 구매 내역을 안내해 드립니다.   \n",
       "4  [네이버 시리즈] '멸망 예정인 아카데...'의 구매 내역을 안내해 드립니다.   \n",
       "\n",
       "                                                  내용  스팸여부  \n",
       "0                                                NaN     1  \n",
       "1  <table width=\"100%\" border=\"0\" cellspacing=\"0\"...     0  \n",
       "2                                                NaN     1  \n",
       "3                                                NaN     1  \n",
       "4                                                NaN     1  "
      ]
     },
     "execution_count": 4,
     "metadata": {},
     "output_type": "execute_result"
    }
   ],
   "source": [
    "df = pd.read_csv(\"./mail.csv\")\n",
    "df.head(5)"
   ]
  },
  {
   "cell_type": "code",
   "execution_count": 9,
   "id": "8dde8f62-ebcd-46b6-be34-d1e8fbbf2c33",
   "metadata": {},
   "outputs": [],
   "source": [
    "df = df.dropna(subset=[\"제목\"])"
   ]
  },
  {
   "cell_type": "code",
   "execution_count": 10,
   "id": "d3e5d5b5-93c9-40a6-9dd7-4075bee1ae40",
   "metadata": {},
   "outputs": [],
   "source": [
    "notnull_df = df.loc[:,[\"스팸여부\",\"제목\"]]"
   ]
  },
  {
   "cell_type": "code",
   "execution_count": 11,
   "id": "ec3663bc-a2ed-4d74-b161-a64f15c44f8b",
   "metadata": {},
   "outputs": [
    {
     "data": {
      "text/html": [
       "<div>\n",
       "<style scoped>\n",
       "    .dataframe tbody tr th:only-of-type {\n",
       "        vertical-align: middle;\n",
       "    }\n",
       "\n",
       "    .dataframe tbody tr th {\n",
       "        vertical-align: top;\n",
       "    }\n",
       "\n",
       "    .dataframe thead th {\n",
       "        text-align: right;\n",
       "    }\n",
       "</style>\n",
       "<table border=\"1\" class=\"dataframe\">\n",
       "  <thead>\n",
       "    <tr style=\"text-align: right;\">\n",
       "      <th></th>\n",
       "      <th>스팸여부</th>\n",
       "      <th>제목</th>\n",
       "    </tr>\n",
       "  </thead>\n",
       "  <tbody>\n",
       "    <tr>\n",
       "      <th>0</th>\n",
       "      <td>1</td>\n",
       "      <td>[네이버 시리즈] '히든 특성 13개 ...'의 구매 내역을 안내해 드립니다.</td>\n",
       "    </tr>\n",
       "    <tr>\n",
       "      <th>1</th>\n",
       "      <td>0</td>\n",
       "      <td>(광고) 않바꾸면 손해! 인터넷 변경하고 현금 47만원 받아가세요~</td>\n",
       "    </tr>\n",
       "    <tr>\n",
       "      <th>2</th>\n",
       "      <td>1</td>\n",
       "      <td>[네이버 시리즈] '아카데미 편의점으로...'의 구매 내역을 안내해 드립니다.</td>\n",
       "    </tr>\n",
       "    <tr>\n",
       "      <th>3</th>\n",
       "      <td>1</td>\n",
       "      <td>[네이버 시리즈] '나 혼자 탑에서 농...'의 구매 내역을 안내해 드립니다.</td>\n",
       "    </tr>\n",
       "    <tr>\n",
       "      <th>4</th>\n",
       "      <td>1</td>\n",
       "      <td>[네이버 시리즈] '멸망 예정인 아카데...'의 구매 내역을 안내해 드립니다.</td>\n",
       "    </tr>\n",
       "    <tr>\n",
       "      <th>...</th>\n",
       "      <td>...</td>\n",
       "      <td>...</td>\n",
       "    </tr>\n",
       "    <tr>\n",
       "      <th>178</th>\n",
       "      <td>0</td>\n",
       "      <td>한국 Twitch에 대한 주요 공지사항</td>\n",
       "    </tr>\n",
       "    <tr>\n",
       "      <th>179</th>\n",
       "      <td>1</td>\n",
       "      <td>YouTube Premium 가격 업데이트</td>\n",
       "    </tr>\n",
       "    <tr>\n",
       "      <th>180</th>\n",
       "      <td>0</td>\n",
       "      <td>안녕, 마테오 👋</td>\n",
       "    </tr>\n",
       "    <tr>\n",
       "      <th>181</th>\n",
       "      <td>1</td>\n",
       "      <td>보안 알림</td>\n",
       "    </tr>\n",
       "    <tr>\n",
       "      <th>182</th>\n",
       "      <td>0</td>\n",
       "      <td>[와디즈] [10만원대 소가죽 수제화] 초경량 키높이+5.5cm 직장인 더비슈즈 프...</td>\n",
       "    </tr>\n",
       "  </tbody>\n",
       "</table>\n",
       "<p>182 rows × 2 columns</p>\n",
       "</div>"
      ],
      "text/plain": [
       "     스팸여부                                                 제목\n",
       "0       1        [네이버 시리즈] '히든 특성 13개 ...'의 구매 내역을 안내해 드립니다.\n",
       "1       0              (광고) 않바꾸면 손해! 인터넷 변경하고 현금 47만원 받아가세요~\n",
       "2       1        [네이버 시리즈] '아카데미 편의점으로...'의 구매 내역을 안내해 드립니다.\n",
       "3       1        [네이버 시리즈] '나 혼자 탑에서 농...'의 구매 내역을 안내해 드립니다.\n",
       "4       1        [네이버 시리즈] '멸망 예정인 아카데...'의 구매 내역을 안내해 드립니다.\n",
       "..    ...                                                ...\n",
       "178     0                              한국 Twitch에 대한 주요 공지사항\n",
       "179     1                            YouTube Premium 가격 업데이트\n",
       "180     0                                          안녕, 마테오 👋\n",
       "181     1                                              보안 알림\n",
       "182     0  [와디즈] [10만원대 소가죽 수제화] 초경량 키높이+5.5cm 직장인 더비슈즈 프...\n",
       "\n",
       "[182 rows x 2 columns]"
      ]
     },
     "execution_count": 11,
     "metadata": {},
     "output_type": "execute_result"
    }
   ],
   "source": [
    "notnull_df"
   ]
  },
  {
   "cell_type": "code",
   "execution_count": 12,
   "id": "5e6db9f8-5a8f-40df-addf-be1cded5e44c",
   "metadata": {},
   "outputs": [
    {
     "name": "stdout",
     "output_type": "stream",
     "text": [
      "<class 'pandas.core.frame.DataFrame'>\n",
      "Int64Index: 182 entries, 0 to 182\n",
      "Data columns (total 2 columns):\n",
      " #   Column  Non-Null Count  Dtype \n",
      "---  ------  --------------  ----- \n",
      " 0   스팸여부    182 non-null    int64 \n",
      " 1   제목      182 non-null    object\n",
      "dtypes: int64(1), object(1)\n",
      "memory usage: 4.3+ KB\n"
     ]
    }
   ],
   "source": [
    "notnull_df.info()"
   ]
  },
  {
   "cell_type": "code",
   "execution_count": 15,
   "id": "44fd05ef-2995-485c-9f3a-f6605611b345",
   "metadata": {},
   "outputs": [
    {
     "data": {
      "text/plain": [
       "(182, 2)"
      ]
     },
     "execution_count": 15,
     "metadata": {},
     "output_type": "execute_result"
    }
   ],
   "source": [
    "notnull_df.shape"
   ]
  },
  {
   "cell_type": "code",
   "execution_count": 16,
   "id": "29f0acd1-7b78-4c7d-996c-a5ff948e94ae",
   "metadata": {},
   "outputs": [
    {
     "name": "stdout",
     "output_type": "stream",
     "text": [
      "제목의 유니크한 값 : 133\n"
     ]
    }
   ],
   "source": [
    "print('제목의 유니크한 값 :',notnull_df['제목'].nunique())\n",
    "# 182개중 유니크한 값이 133개라는 것은 중복값이 존재한다는 의미"
   ]
  },
  {
   "cell_type": "code",
   "execution_count": 18,
   "id": "e3feda4b-52a0-4e06-9141-778919a23f85",
   "metadata": {},
   "outputs": [
    {
     "name": "stdout",
     "output_type": "stream",
     "text": [
      "총 샘플의 수 : 133\n"
     ]
    }
   ],
   "source": [
    "# 중복 값들을 제거\n",
    "notnull_df.drop_duplicates(subset=['제목'], inplace=True)\n",
    "print('총 샘플의 수 :',len(notnull_df))"
   ]
  },
  {
   "cell_type": "code",
   "execution_count": 28,
   "id": "e70a0797-cd20-4929-aedc-1f5b20a8f1e9",
   "metadata": {},
   "outputs": [
    {
     "name": "stdout",
     "output_type": "stream",
     "text": [
      "정상 메일과 스팸 메일의 개수\n",
      "   스팸여부  count\n",
      "0     0     90\n",
      "1     1     43\n"
     ]
    },
    {
     "data": {
      "image/png": "[encoded data removed]",
      "text/plain": [
       "<Figure size 640x480 with 1 Axes>"
      ]
     },
     "metadata": {},
     "output_type": "display_data"
    }
   ],
   "source": [
    "notnull_df['스팸여부'].value_counts().plot(kind='bar')\n",
    "print('정상 메일과 스팸 메일의 개수')\n",
    "print(notnull_df.groupby('스팸여부').size().reset_index(name='count'))\n",
    "# 스팸 90건, 일반 메일 43건\n",
    "# 데이터의 갯수도 적지만, 대부분이 스팸 메일이다."
   ]
  },
  {
   "cell_type": "code",
   "execution_count": 31,
   "id": "99e3c32f-083f-49d9-9d89-67d5d55be6d6",
   "metadata": {},
   "outputs": [
    {
     "name": "stdout",
     "output_type": "stream",
     "text": [
      "스팸 메일의 비율 = 67.67%\n",
      "정상 메일의 비율 = 32.33%\n"
     ]
    }
   ],
   "source": [
    "print(f'스팸 메일의 비율 = {round(notnull_df[\"스팸여부\"].value_counts()[0]/len(notnull_df) * 100,2)}%')\n",
    "print(f'정상 메일의 비율 = {round(notnull_df[\"스팸여부\"].value_counts()[1]/len(notnull_df) * 100,2)}%')"
   ]
  },
  {
   "cell_type": "code",
   "execution_count": 35,
   "id": "d2e22a0e-6f41-49ea-b24d-1069db6862cb",
   "metadata": {},
   "outputs": [],
   "source": [
    "X_data = notnull_df['제목']\n",
    "y_data = notnull_df['스팸여부']\n",
    "# 학습대상과 정답을 분리"
   ]
  },
  {
   "cell_type": "code",
   "execution_count": null,
   "id": "371cb108-0be2-4ebf-9f94-d5f4b2a8ac34",
   "metadata": {},
   "outputs": [],
   "source": []
  },
  {
   "cell_type": "code",
   "execution_count": null,
   "id": "7c7f5c03-f469-4d71-afc8-1dd0f9a63801",
   "metadata": {},
   "outputs": [],
   "source": []
  },
  {
   "cell_type": "code",
   "execution_count": 6,
   "id": "03c3903e-b9a1-4fc2-921a-7f42a9397a15",
   "metadata": {},
   "outputs": [],
   "source": [
    "from tqdm import tqdm\n",
    "tqdm.pandas()"
   ]
  },
  {
   "cell_type": "code",
   "execution_count": 7,
   "id": "eb3df97a-518b-435d-98e3-6dd0033b2177",
   "metadata": {},
   "outputs": [],
   "source": [
    "okt = Okt()"
   ]
  },
  {
   "cell_type": "code",
   "execution_count": 8,
   "id": "bb34c476-72a4-4ee2-9c93-522e1fe6171d",
   "metadata": {},
   "outputs": [
    {
     "name": "stderr",
     "output_type": "stream",
     "text": [
      "100%|████████████████████████████████████████████████████████████████████████████████| 183/183 [00:03<00:00, 46.52it/s]\n"
     ]
    }
   ],
   "source": [
    "def okt_clean(text):\n",
    "    # 입력이 문자열인지 확인하고, 아니라면 적절히 처리\n",
    "    if isinstance(text, str):\n",
    "        clean_text = []\n",
    "        for word in okt.pos(text, norm=True, stem=True):\n",
    "            if word[1] not in ['Josa', 'Eomi', 'Punctuation']:\n",
    "                clean_text.append(word[0])\n",
    "        return \" \".join(clean_text)\n",
    "    else:\n",
    "        # 입력이 문자열이 아닌 경우 문자열로 변환\n",
    "        return str(text)\n",
    "\n",
    "notnull_df[\"제목\"] = notnull_df[\"제목\"].progress_apply(okt_clean)"
   ]
  },
  {
   "cell_type": "code",
   "execution_count": 9,
   "id": "b2f439f1-271d-4045-b65f-e77946060b17",
   "metadata": {},
   "outputs": [
    {
     "name": "stderr",
     "output_type": "stream",
     "text": [
      "100%|███████████████████████████████████████████████████████████████████████████████| 183/183 [00:00<00:00, 548.70it/s]\n"
     ]
    }
   ],
   "source": [
    "notnull_df[\"제목\"] = notnull_df[\"제목\"].progress_map(okt_clean)"
   ]
  },
  {
   "cell_type": "code",
   "execution_count": 10,
   "id": "5a0d3053-76c7-448d-bb19-b45554957ced",
   "metadata": {},
   "outputs": [
    {
     "data": {
      "text/html": [
       "<div>\n",
       "<style scoped>\n",
       "    .dataframe tbody tr th:only-of-type {\n",
       "        vertical-align: middle;\n",
       "    }\n",
       "\n",
       "    .dataframe tbody tr th {\n",
       "        vertical-align: top;\n",
       "    }\n",
       "\n",
       "    .dataframe thead th {\n",
       "        text-align: right;\n",
       "    }\n",
       "</style>\n",
       "<table border=\"1\" class=\"dataframe\">\n",
       "  <thead>\n",
       "    <tr style=\"text-align: right;\">\n",
       "      <th></th>\n",
       "      <th>보낸이</th>\n",
       "      <th>메일주소</th>\n",
       "      <th>제목</th>\n",
       "      <th>내용</th>\n",
       "      <th>스팸여부</th>\n",
       "    </tr>\n",
       "  </thead>\n",
       "  <tbody>\n",
       "    <tr>\n",
       "      <th>0</th>\n",
       "      <td>네이버 시리즈</td>\n",
       "      <td>series_noreply@webtoonscorp.com</td>\n",
       "      <td>네이버 시리즈 히든 특성 13 개 의 구매 내 역 안내 하다 드리다</td>\n",
       "      <td>NaN</td>\n",
       "      <td>1</td>\n",
       "    </tr>\n",
       "  </tbody>\n",
       "</table>\n",
       "</div>"
      ],
      "text/plain": [
       "       보낸이                             메일주소  \\\n",
       "0  네이버 시리즈  series_noreply@webtoonscorp.com   \n",
       "\n",
       "                                      제목   내용  스팸여부  \n",
       "0  네이버 시리즈 히든 특성 13 개 의 구매 내 역 안내 하다 드리다  NaN     1  "
      ]
     },
     "execution_count": 10,
     "metadata": {},
     "output_type": "execute_result"
    }
   ],
   "source": [
    "notnull_df.head(1)"
   ]
  },
  {
   "cell_type": "code",
   "execution_count": 11,
   "id": "99773656-49ba-494c-b3f5-42f482144cdf",
   "metadata": {},
   "outputs": [],
   "source": [
    "# 불용어 제거함수 만들기\n",
    "def remove_stopwords(text):\n",
    "    tokens = text.split(' ')\n",
    "    # 직점 작성\n",
    "    stops = [ '합니다', '하는', '할', '하고', '한다', \n",
    "             '그리고', '입니다', '그', '등', '이런', '및','제', '더',\n",
    "            '받다']\n",
    "    meaningful_words = [w for w in tokens if not w in stops]\n",
    "    return ' '.join(meaningful_words)"
   ]
  },
  {
   "cell_type": "code",
   "execution_count": 12,
   "id": "6c00da07-7e9b-4ff0-a724-f2a1ee12f00d",
   "metadata": {},
   "outputs": [],
   "source": [
    "notnull_df[\"제목\"] = notnull_df[\"제목\"].map(remove_stopwords)"
   ]
  },
  {
   "cell_type": "code",
   "execution_count": 13,
   "id": "dd819faf-09dd-4b06-8348-c835a1944427",
   "metadata": {},
   "outputs": [
    {
     "data": {
      "text/plain": [
       "0                  네이버 시리즈 히든 특성 13 개 의 구매 내 역 안내 하다 드리다\n",
       "1                            광고 않다 바꾸다 손해 인터넷 변경 현금 47만원\n",
       "2                    네이버 시리즈 아카데미 편의점 의 구매 내 역 안내 하다 드리다\n",
       "3                    네이버 시리즈 나 혼자 탑 농 의 구매 내 역 안내 하다 드리다\n",
       "4                  네이버 시리즈 멸망 예정 아 크다 의 구매 내 역 안내 하다 드리다\n",
       "                             ...                        \n",
       "178                                한국 Twitch 대한 주요 공지 사항\n",
       "179                              YouTube Premium 가격 업데이트\n",
       "180                                            안녕 마 테오 👋\n",
       "181                                                보안 알림\n",
       "182    와디 즈 10만원 대다 소 가죽 수제 화 초 경량 키 높이 5.5 cm 직장인 더비...\n",
       "Name: 제목, Length: 183, dtype: object"
      ]
     },
     "execution_count": 13,
     "metadata": {},
     "output_type": "execute_result"
    }
   ],
   "source": [
    "notnull_df[\"제목\"]"
   ]
  },
  {
   "cell_type": "code",
   "execution_count": null,
   "id": "592c291f-ea04-4530-a21e-12c5ad1ee4b6",
   "metadata": {},
   "outputs": [],
   "source": [
    "tokenizer = Tokenizer()\n",
    "tokenizer.fit_on_texts(X_train)\n",
    "X_train_encoded = tokenizer.texts_to_sequences(X_train)\n",
    "print(X_train_encoded[:5])"
   ]
  },
  {
   "cell_type": "code",
   "execution_count": null,
   "id": "4544feaf-fb04-432f-a84a-80a443abcbb1",
   "metadata": {},
   "outputs": [],
   "source": []
  },
  {
   "cell_type": "code",
   "execution_count": null,
   "id": "3cf8aa5d-1377-44bd-83a2-acf17621205a",
   "metadata": {},
   "outputs": [],
   "source": []
  },
  {
   "cell_type": "code",
   "execution_count": null,
   "id": "6b07f21f-8e99-45f6-b92a-646903441358",
   "metadata": {},
   "outputs": [],
   "source": []
  },
  {
   "cell_type": "code",
   "execution_count": null,
   "id": "30a28551-2732-4196-8282-4e23f700d417",
   "metadata": {},
   "outputs": [],
   "source": []
  },
  {
   "cell_type": "code",
   "execution_count": null,
   "id": "97516591-bb71-4c50-939d-afb69049f795",
   "metadata": {},
   "outputs": [],
   "source": []
  },
  {
   "cell_type": "code",
   "execution_count": null,
   "id": "548c2b89-5da9-4405-b9ed-60da8e99ffe9",
   "metadata": {},
   "outputs": [],
   "source": []
  },
  {
   "cell_type": "code",
   "execution_count": null,
   "id": "2abf85cf-31a5-4a96-ba36-c9627c5eafce",
   "metadata": {},
   "outputs": [],
   "source": []
  },
  {
   "cell_type": "code",
   "execution_count": null,
   "id": "494dc19d-9e04-40a5-a85b-b4dbf554c4a6",
   "metadata": {},
   "outputs": [],
   "source": []
  },
  {
   "cell_type": "code",
   "execution_count": null,
   "id": "453336d1-6036-443a-bd69-1c74d1d7fe27",
   "metadata": {},
   "outputs": [],
   "source": []
  },
  {
   "cell_type": "code",
   "execution_count": null,
   "id": "0a60923b-165a-4e42-86fd-24c51b57275a",
   "metadata": {},
   "outputs": [],
   "source": []
  },
  {
   "cell_type": "code",
   "execution_count": null,
   "id": "db7d1202-7e3b-4341-9581-b586f1a1b385",
   "metadata": {},
   "outputs": [],
   "source": []
  },
  {
   "cell_type": "code",
   "execution_count": null,
   "id": "91071d6b-db3d-4229-8769-a71335f1567f",
   "metadata": {},
   "outputs": [],
   "source": []
  },
  {
   "cell_type": "code",
   "execution_count": null,
   "id": "77eee0cb-5cdf-4b75-84f4-2551073d5384",
   "metadata": {},
   "outputs": [],
   "source": []
  },
  {
   "cell_type": "code",
   "execution_count": null,
   "id": "829c3f38-0636-461f-a23c-045a4daf9731",
   "metadata": {},
   "outputs": [],
   "source": []
  },
  {
   "cell_type": "code",
   "execution_count": null,
   "id": "debb9f24-c8e1-42cc-8bf9-e1db651fe4fc",
   "metadata": {},
   "outputs": [],
   "source": []
  }
 ],
 "metadata": {
  "kernelspec": {
   "display_name": "Python 3 (ipykernel)",
   "language": "python",
   "name": "python3"
  },
  "language_info": {
   "codemirror_mode": {
    "name": "ipython",
    "version": 3
   },
   "file_extension": ".py",
   "mimetype": "text/x-python",
   "name": "python",
   "nbconvert_exporter": "python",
   "pygments_lexer": "ipython3",
   "version": "3.9.13"
  }
 },
 "nbformat": 4,
 "nbformat_minor": 5
}
