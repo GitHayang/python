{
 "cells": [
  {
   "cell_type": "markdown",
   "id": "c0cc1aa6-9c81-4545-9980-fcf9fba65dee",
   "metadata": {},
   "source": [
    "### 문자"
   ]
  },
  {
   "cell_type": "code",
   "execution_count": 1,
   "id": "60f94231-db74-4093-b930-854cc593f5a6",
   "metadata": {},
   "outputs": [
    {
     "data": {
      "text/plain": [
       "'가나다 abc'"
      ]
     },
     "execution_count": 1,
     "metadata": {},
     "output_type": "execute_result"
    }
   ],
   "source": [
    "# 문자열에서 +는 합친다\n",
    "a = '가나다 '\n",
    "b = 'abc'\n",
    "a+b"
   ]
  },
  {
   "cell_type": "code",
   "execution_count": 2,
   "id": "28109fab-f06e-4371-a1d1-a97073805723",
   "metadata": {},
   "outputs": [
    {
     "name": "stdout",
     "output_type": "stream",
     "text": [
      "******datavase access completed******\n"
     ]
    }
   ],
   "source": [
    "print(\"*\"*6+\"datavase access completed\"+\"*\"*6)"
   ]
  },
  {
   "cell_type": "code",
   "execution_count": 3,
   "id": "43bdafc9-d007-457e-93d0-940e5d3df0d0",
   "metadata": {},
   "outputs": [],
   "source": [
    "# 인덱스 활용은 코드에서 가장 중요하다."
   ]
  },
  {
   "cell_type": "code",
   "execution_count": 4,
   "id": "cdb93fe8-f3db-4d46-838b-5630dd893435",
   "metadata": {},
   "outputs": [],
   "source": [
    "Yearweek = '202301'"
   ]
  },
  {
   "cell_type": "code",
   "execution_count": 5,
   "id": "6c7bd73c-a7f7-4392-b05a-f44ddb9c1e1e",
   "metadata": {},
   "outputs": [
    {
     "data": {
      "text/plain": [
       "'2'"
      ]
     },
     "execution_count": 5,
     "metadata": {},
     "output_type": "execute_result"
    }
   ],
   "source": [
    "Yearweek[0]"
   ]
  },
  {
   "cell_type": "code",
   "execution_count": 6,
   "id": "85556bb8-e9e6-4bc6-84ca-41a7267e6b9e",
   "metadata": {},
   "outputs": [
    {
     "data": {
      "text/plain": [
       "'2023'"
      ]
     },
     "execution_count": 6,
     "metadata": {},
     "output_type": "execute_result"
    }
   ],
   "source": [
    "Yearweek[0:4]\n",
    "# 시작이 0이면 0은 생략 가능"
   ]
  },
  {
   "cell_type": "code",
   "execution_count": 7,
   "id": "0d1b79af-a561-42eb-bdbd-9deb46f357ef",
   "metadata": {},
   "outputs": [],
   "source": [
    "#인덱스의 시작은 0, 뒤에서 부터는 -1부터\n",
    "# 0:~출력시 끝부분은 n-1로 출력 ex)0:n // 0~(n-1)까지"
   ]
  },
  {
   "cell_type": "code",
   "execution_count": 8,
   "id": "3c0f95dc-7369-4611-9436-588a0f972a70",
   "metadata": {},
   "outputs": [
    {
     "data": {
      "text/plain": [
       "6"
      ]
     },
     "execution_count": 8,
     "metadata": {},
     "output_type": "execute_result"
    }
   ],
   "source": [
    "len(Yearweek)"
   ]
  },
  {
   "cell_type": "code",
   "execution_count": 9,
   "id": "7175dc4e-eedb-4774-9851-90a4d3538771",
   "metadata": {},
   "outputs": [],
   "source": [
    "# 고객과 협의된 기준값\n",
    "yearLen = 4\n",
    "weekLen = 2\n",
    "# 바뀔 수 있는 값은 미리 DB로 빼뒀다가 값만 수정해서 처리한다."
   ]
  },
  {
   "cell_type": "code",
   "execution_count": 10,
   "id": "f18d2696-8d9d-49b1-8fb1-510f4b64a1ad",
   "metadata": {},
   "outputs": [
    {
     "data": {
      "text/plain": [
       "'01'"
      ]
     },
     "execution_count": 10,
     "metadata": {},
     "output_type": "execute_result"
    }
   ],
   "source": [
    "week = Yearweek[yearLen:]\n",
    "week"
   ]
  },
  {
   "cell_type": "code",
   "execution_count": 16,
   "id": "52bfba99-5434-49a5-a9bc-8bfa7a7c3f77",
   "metadata": {},
   "outputs": [
    {
     "data": {
      "text/plain": [
       "'01'"
      ]
     },
     "execution_count": 16,
     "metadata": {},
     "output_type": "execute_result"
    }
   ],
   "source": [
    "yearWeek = \"2023W01\"\n",
    "yearWeek.count(\"W\")\n",
    "#기준 문자\n",
    "whereW = yearWeek.index(\"W\")\n",
    "whereW\n",
    "#연주차 정보 추출\n",
    "yearValue = yearWeek[:whereW]\n",
    "yearValue\n",
    "\n",
    "weekValue = yearWeek[whereW+1:]\n",
    "weekValue"
   ]
  },
  {
   "cell_type": "code",
   "execution_count": 17,
   "id": "be5e5f44-a3d7-4891-811a-a282bd8fab40",
   "metadata": {},
   "outputs": [
    {
     "data": {
      "text/plain": [
       "'2023W01'"
      ]
     },
     "execution_count": 17,
     "metadata": {},
     "output_type": "execute_result"
    }
   ],
   "source": [
    "#소문자로 변경\n",
    "yearWeek.lower()\n",
    "#대문자로 변경\n",
    "yearWeek.upper()"
   ]
  },
  {
   "cell_type": "code",
   "execution_count": 18,
   "id": "1f5e1b7b-da09-46a1-998c-98fa3ff23152",
   "metadata": {
    "tags": []
   },
   "outputs": [
    {
     "data": {
      "text/plain": [
       "'2023-01'"
      ]
     },
     "execution_count": 18,
     "metadata": {},
     "output_type": "execute_result"
    }
   ],
   "source": [
    "reyearWeek = yearWeek.replace(\"W\",\"-\")\n",
    "reyearWeek"
   ]
  },
  {
   "cell_type": "markdown",
   "id": "4f18eb90-e55b-41bb-8294-bd275d6acf1b",
   "metadata": {},
   "source": [
    "## 형변환"
   ]
  },
  {
   "cell_type": "code",
   "execution_count": 19,
   "id": "427ba9e2-eda0-4810-a935-ee6c93c737a0",
   "metadata": {},
   "outputs": [],
   "source": [
    "yearweek = \"2016W12\""
   ]
  },
  {
   "cell_type": "code",
   "execution_count": 20,
   "id": "995de8dd-25c5-49cd-8f9b-23a97688bc7e",
   "metadata": {},
   "outputs": [
    {
     "data": {
      "text/plain": [
       "'201612'"
      ]
     },
     "execution_count": 20,
     "metadata": {},
     "output_type": "execute_result"
    }
   ],
   "source": [
    "yearweek = yearweek.replace(\"W\",\"\")\n",
    "yearweek"
   ]
  },
  {
   "cell_type": "code",
   "execution_count": 21,
   "id": "95c50a87-d270-4ce9-b6e6-5a326fa08c71",
   "metadata": {},
   "outputs": [
    {
     "data": {
      "text/plain": [
       "201622"
      ]
     },
     "execution_count": 21,
     "metadata": {},
     "output_type": "execute_result"
    }
   ],
   "source": [
    "int(yearweek)+10"
   ]
  },
  {
   "cell_type": "code",
   "execution_count": 22,
   "id": "cd88e67c-b958-43a2-9eec-f6896911be21",
   "metadata": {},
   "outputs": [
    {
     "data": {
      "text/plain": [
       "201612.0"
      ]
     },
     "execution_count": 22,
     "metadata": {},
     "output_type": "execute_result"
    }
   ],
   "source": [
    "float(yearweek)"
   ]
  },
  {
   "cell_type": "code",
   "execution_count": 23,
   "id": "f149130f-e951-472e-ada9-6e1500a2d3a1",
   "metadata": {},
   "outputs": [],
   "source": [
    "### 숫자를 문자로"
   ]
  },
  {
   "cell_type": "code",
   "execution_count": 24,
   "id": "515b7d02-d107-4f83-94e3-832708687fed",
   "metadata": {},
   "outputs": [
    {
     "data": {
      "text/plain": [
       "'202301'"
      ]
     },
     "execution_count": 24,
     "metadata": {},
     "output_type": "execute_result"
    }
   ],
   "source": [
    "inValue = 202301\n",
    "YearWeek = str(inValue)\n",
    "YearWeek"
   ]
  },
  {
   "cell_type": "code",
   "execution_count": 25,
   "id": "910c9221-2405-47e1-9ed1-2d732c61162e",
   "metadata": {},
   "outputs": [
    {
     "name": "stdout",
     "output_type": "stream",
     "text": [
      "2023\n",
      "01\n"
     ]
    }
   ],
   "source": [
    "Year = YearWeek[:4]\n",
    "Week = YearWeek[4:]\n",
    "print(Year)\n",
    "print(Week)"
   ]
  },
  {
   "cell_type": "markdown",
   "id": "b2759d94-a000-4970-b0b4-d7d78569251b",
   "metadata": {},
   "source": [
    "# 실습"
   ]
  },
  {
   "cell_type": "markdown",
   "id": "e95d6065-759e-4af5-9e63-9378776d67f1",
   "metadata": {},
   "source": [
    "“Sec 2018W28 250”  문자열 생성 후\n",
    "stock_name, date, value로 각각 의미하는\n",
    "문자열을 생성하세요\n",
    "(단 모두 대문자여야 하며, ‘W’를 삭제해야함)"
   ]
  },
  {
   "cell_type": "code",
   "execution_count": 26,
   "id": "40f01e17-fd51-4a92-b8fc-4a315bf7d1ea",
   "metadata": {},
   "outputs": [],
   "source": [
    "# stock_name : 3자리\n",
    "# date : 7자리\n",
    "# value : 3자리"
   ]
  },
  {
   "cell_type": "code",
   "execution_count": 27,
   "id": "6a301700-a74d-40a3-8c06-618468f4ebe3",
   "metadata": {},
   "outputs": [
    {
     "name": "stdout",
     "output_type": "stream",
     "text": [
      "SEC\n",
      "2018W28\n",
      "250\n",
      "201828\n",
      "SEC\n",
      "201828\n",
      "250\n"
     ]
    }
   ],
   "source": [
    "Bas = \"Sec 2018W28 250\"\n",
    "Bas = Bas.upper()\n",
    "# upper이후 변수 저장 안 해주면 upper이전 것을 계속 쓰게 된다\n",
    "\n",
    "sep = Bas.split(\" \")\n",
    "sep\n",
    "\n",
    "print(sep[0])\n",
    "print(sep[1])\n",
    "print(sep[2])\n",
    "\n",
    "resultdate = sep[1].replace(\"W\",\"\")\n",
    "print(resultdate)\n",
    "\n",
    "stock_name = sep[0]\n",
    "date = resultdate\n",
    "value = sep[2]\n",
    "print(stock_name)\n",
    "print(date)\n",
    "print(value)"
   ]
  },
  {
   "cell_type": "code",
   "execution_count": 28,
   "id": "cf474e30-e6e1-4f61-83b4-f41d07718fc6",
   "metadata": {},
   "outputs": [
    {
     "name": "stdout",
     "output_type": "stream",
     "text": [
      "<class 'str'>\n",
      "<class 'int'>\n",
      "<class 'int'>\n"
     ]
    }
   ],
   "source": [
    "date = int(date)\n",
    "value = int(value)\n",
    "\n",
    "print(type(stock_name))\n",
    "print(type(date))\n",
    "print(type(value))"
   ]
  },
  {
   "cell_type": "code",
   "execution_count": 29,
   "id": "51abec9f-6fc3-402e-b7e2-43fa319b2dcd",
   "metadata": {},
   "outputs": [
    {
     "name": "stdout",
     "output_type": "stream",
     "text": [
      "sec\n",
      "<class 'str'>\n"
     ]
    }
   ],
   "source": [
    "stock_name = stock_name.lower()\n",
    "print(stock_name)\n",
    "print(type(stock_name))"
   ]
  },
  {
   "cell_type": "markdown",
   "id": "2aecba82-ab32-460d-a3a7-0a43a082d916",
   "metadata": {},
   "source": [
    "____________________________"
   ]
  },
  {
   "cell_type": "markdown",
   "id": "389a0927-5fb8-45c2-92c3-c52446aef31f",
   "metadata": {},
   "source": [
    "## 리스트"
   ]
  },
  {
   "cell_type": "code",
   "execution_count": 30,
   "id": "397feb6c-21f6-4f64-8c86-67bc22338640",
   "metadata": {},
   "outputs": [],
   "source": [
    "emptyL = []"
   ]
  },
  {
   "cell_type": "code",
   "execution_count": 31,
   "id": "d7ba4303-0618-4f64-88e6-2d337e7e19fb",
   "metadata": {},
   "outputs": [],
   "source": [
    "priceList = [1, 2, 3, 4, 5]"
   ]
  },
  {
   "cell_type": "code",
   "execution_count": 32,
   "id": "640635cd-f05a-4d15-a916-35b0134a38b1",
   "metadata": {},
   "outputs": [
    {
     "data": {
      "text/plain": [
       "['aa', 1, 'b', 2]"
      ]
     },
     "execution_count": 32,
     "metadata": {},
     "output_type": "execute_result"
    }
   ],
   "source": [
    "compList = [\"aa\", 1, \"b\", 2]\n",
    "compList"
   ]
  },
  {
   "cell_type": "code",
   "execution_count": 33,
   "id": "3b327c81-76e0-40a7-bc6c-814086f307f3",
   "metadata": {},
   "outputs": [
    {
     "data": {
      "text/plain": [
       "[1, 2, 3, 4, 5, 6, 7, 8]"
      ]
     },
     "execution_count": 33,
     "metadata": {},
     "output_type": "execute_result"
    }
   ],
   "source": [
    "PriceList = [1, 2, 3, 4]\n",
    "PriceList2 = [5, 6, 7, 8]\n",
    "PriceList + PriceList2"
   ]
  },
  {
   "cell_type": "code",
   "execution_count": 34,
   "id": "e94975e6-46dc-4e0e-9898-37fb6a7648fe",
   "metadata": {},
   "outputs": [
    {
     "data": {
      "text/plain": [
       "'미국'"
      ]
     },
     "execution_count": 34,
     "metadata": {},
     "output_type": "execute_result"
    }
   ],
   "source": [
    "testList = [1, \"한^국\", 2, \"미국\", 3, \"네덜란드\"]\n",
    "testList[3]"
   ]
  },
  {
   "cell_type": "code",
   "execution_count": 35,
   "id": "b1256527-2f51-4e15-b863-aa03a0097610",
   "metadata": {},
   "outputs": [
    {
     "data": {
      "text/plain": [
       "[1, '한^국']"
      ]
     },
     "execution_count": 35,
     "metadata": {},
     "output_type": "execute_result"
    }
   ],
   "source": [
    "testList[0:2]"
   ]
  },
  {
   "cell_type": "code",
   "execution_count": 36,
   "id": "b61f21e7-1255-4b5d-8fe5-9c705f64a426",
   "metadata": {},
   "outputs": [
    {
     "data": {
      "text/plain": [
       "6"
      ]
     },
     "execution_count": 36,
     "metadata": {},
     "output_type": "execute_result"
    }
   ],
   "source": [
    "len(testList)"
   ]
  },
  {
   "cell_type": "code",
   "execution_count": 37,
   "id": "846f0e1b-f6c3-4ebf-b0ab-561513212363",
   "metadata": {},
   "outputs": [
    {
     "data": {
      "text/plain": [
       "'한국'"
      ]
     },
     "execution_count": 37,
     "metadata": {},
     "output_type": "execute_result"
    }
   ],
   "source": [
    "testList[1] = testList[1].replace(\"^\",\"\")\n",
    "testList[1]"
   ]
  },
  {
   "cell_type": "code",
   "execution_count": 38,
   "id": "b8ed0684-a3eb-4d47-bc4e-db28bfc3d7c9",
   "metadata": {},
   "outputs": [
    {
     "data": {
      "text/plain": [
       "[1, '한국', 2, '미국', 3, '네덜란드']"
      ]
     },
     "execution_count": 38,
     "metadata": {},
     "output_type": "execute_result"
    }
   ],
   "source": [
    "testList"
   ]
  },
  {
   "cell_type": "code",
   "execution_count": 39,
   "id": "bd6652fc-95bc-469f-bc6f-7e1d55dece21",
   "metadata": {},
   "outputs": [
    {
     "ename": "SyntaxError",
     "evalue": "invalid syntax (1132990497.py, line 1)",
     "output_type": "error",
     "traceback": [
      "\u001b[1;36m  File \u001b[1;32m\"C:\\Users\\caose\\AppData\\Local\\Temp\\ipykernel_6576\\1132990497.py\"\u001b[1;36m, line \u001b[1;32m1\u001b[0m\n\u001b[1;33m    testList[i].is\u001b[0m\n\u001b[1;37m                ^\u001b[0m\n\u001b[1;31mSyntaxError\u001b[0m\u001b[1;31m:\u001b[0m invalid syntax\n"
     ]
    }
   ],
   "source": [
    "testList[i].is"
   ]
  },
  {
   "cell_type": "code",
   "execution_count": 40,
   "id": "87a8956c-2883-45dd-8a5c-87bd03233d7d",
   "metadata": {},
   "outputs": [
    {
     "data": {
      "text/plain": [
       "[1, '한^국', 2, '미국', 3, '네덜란드']"
      ]
     },
     "execution_count": 40,
     "metadata": {},
     "output_type": "execute_result"
    }
   ],
   "source": [
    "testList2 = [1, \"한^국\", 2, \"미국\", 3, \"네덜란드\"]\n",
    "testList2"
   ]
  },
  {
   "cell_type": "code",
   "execution_count": 41,
   "id": "547f1087-4604-44a7-ae6e-11df08248c83",
   "metadata": {},
   "outputs": [
    {
     "data": {
      "text/plain": [
       "[1, '한국', 2, '미국', 3, '네덜란드']"
      ]
     },
     "execution_count": 41,
     "metadata": {},
     "output_type": "execute_result"
    }
   ],
   "source": [
    "for i in range (0, len(testList2)):\n",
    "    try:\n",
    "        if testList2[i].isdecimal() == False:\n",
    "            testList2[i] = testList2[i].replace(\"^\",\"\")    \n",
    "    except :\n",
    "        pass\n",
    "\n",
    "testList"
   ]
  },
  {
   "cell_type": "code",
   "execution_count": 42,
   "id": "af7b28ce-f585-493e-99f9-4a52a166337c",
   "metadata": {},
   "outputs": [
    {
     "data": {
      "text/plain": [
       "[120, 130, 140, 150]"
      ]
     },
     "execution_count": 42,
     "metadata": {},
     "output_type": "execute_result"
    }
   ],
   "source": [
    "updateList = [120, 130, 140, 150]\n",
    "updateList"
   ]
  },
  {
   "cell_type": "code",
   "execution_count": 43,
   "id": "ee02f6d6-3945-4194-8f6c-ebba0257e8c7",
   "metadata": {},
   "outputs": [
    {
     "data": {
      "text/plain": [
       "[120, 125, 140, 150]"
      ]
     },
     "execution_count": 43,
     "metadata": {},
     "output_type": "execute_result"
    }
   ],
   "source": [
    "updateList[1] = 125\n",
    "updateList"
   ]
  },
  {
   "cell_type": "code",
   "execution_count": 44,
   "id": "b54e4b39-635a-492c-91d3-b739c4254a0b",
   "metadata": {},
   "outputs": [
    {
     "data": {
      "text/plain": [
       "[120, 140, 150]"
      ]
     },
     "execution_count": 44,
     "metadata": {},
     "output_type": "execute_result"
    }
   ],
   "source": [
    "updateList.remove(125) #타깃의 값\n",
    "updateList"
   ]
  },
  {
   "cell_type": "code",
   "execution_count": 45,
   "id": "eb9fdefb-c095-41a0-9ea7-8c6685c59405",
   "metadata": {},
   "outputs": [
    {
     "data": {
      "text/plain": [
       "[120, 150]"
      ]
     },
     "execution_count": 45,
     "metadata": {},
     "output_type": "execute_result"
    }
   ],
   "source": [
    "del updateList[1] #타깃의 인덱스\n",
    "updateList"
   ]
  },
  {
   "cell_type": "code",
   "execution_count": 46,
   "id": "0d956f76-7e42-4f89-9223-4a4fade5b53f",
   "metadata": {},
   "outputs": [
    {
     "data": {
      "text/plain": [
       "[1, 400, 3, 4]"
      ]
     },
     "execution_count": 46,
     "metadata": {},
     "output_type": "execute_result"
    }
   ],
   "source": [
    "testerList = [1, 400, 3, 4]\n",
    "testerList"
   ]
  },
  {
   "cell_type": "code",
   "execution_count": 47,
   "id": "50a2dd1a-b397-446b-afcf-13413aaa80c5",
   "metadata": {},
   "outputs": [],
   "source": [
    "adData = 10"
   ]
  },
  {
   "cell_type": "code",
   "execution_count": 48,
   "id": "b2798964-5266-48cf-b43b-418ff85abedb",
   "metadata": {},
   "outputs": [
    {
     "data": {
      "text/plain": [
       "[1, 400, 3, 4, 10]"
      ]
     },
     "execution_count": 48,
     "metadata": {},
     "output_type": "execute_result"
    }
   ],
   "source": [
    "# 데이터 추가\n",
    "testerList.append(adData)\n",
    "testerList"
   ]
  },
  {
   "cell_type": "code",
   "execution_count": 49,
   "id": "6059bb71-c0b5-41fc-934b-3fdd0643a0dc",
   "metadata": {},
   "outputs": [
    {
     "data": {
      "text/plain": [
       "[1, 400, 3, 4]"
      ]
     },
     "execution_count": 49,
     "metadata": {},
     "output_type": "execute_result"
    }
   ],
   "source": [
    "# 가장 뒤에 있는 값 제거\n",
    "testerList.pop()\n",
    "testerList"
   ]
  },
  {
   "cell_type": "code",
   "execution_count": 50,
   "id": "7f1ddab2-2e50-44ac-b86a-a3c7cd3eb894",
   "metadata": {},
   "outputs": [
    {
     "data": {
      "text/plain": [
       "[1, 3, 4, 400]"
      ]
     },
     "execution_count": 50,
     "metadata": {},
     "output_type": "execute_result"
    }
   ],
   "source": [
    "# 정렬 (오름차순)\n",
    "testerList.sort()\n",
    "testerList\n",
    "\n",
    "# 오름차순\n",
    "testerList.sort(reverse=False)\n",
    "testerList"
   ]
  },
  {
   "cell_type": "code",
   "execution_count": 51,
   "id": "2652a6ac-0db6-4131-bc88-35ec78129675",
   "metadata": {},
   "outputs": [
    {
     "data": {
      "text/plain": [
       "[400, 4, 3, 1]"
      ]
     },
     "execution_count": 51,
     "metadata": {},
     "output_type": "execute_result"
    }
   ],
   "source": [
    "# 뒤집기\n",
    "testerList.reverse()\n",
    "testerList\n",
    "\n",
    "#내림차순\n",
    "testerList.sort(reverse=True)\n",
    "testerList"
   ]
  },
  {
   "cell_type": "code",
   "execution_count": 52,
   "id": "f9dccc4f-7411-4feb-ae20-3807c1b7af8b",
   "metadata": {},
   "outputs": [
    {
     "name": "stdout",
     "output_type": "stream",
     "text": [
      "4\n",
      "408\n",
      "400\n",
      "1\n"
     ]
    }
   ],
   "source": [
    "# 숫자, 문자 다 가능\n",
    "print(len(testerList))\n",
    "# 숫자만 가능\n",
    "print(sum(testerList))\n",
    "print(max(testerList))\n",
    "print(min(testerList))"
   ]
  },
  {
   "cell_type": "markdown",
   "id": "040eb91d-2cd1-44ed-a509-f6a134a5b649",
   "metadata": {},
   "source": [
    "실습"
   ]
  },
  {
   "cell_type": "markdown",
   "id": "501955ee-4822-4de6-a755-bee876702bc1",
   "metadata": {},
   "source": [
    "[120,150,300,500,1000,100,2000] \n",
    "값에서 최소 최대 값을 뺀 평균을\n",
    "average 이름의 변수에 담으세요\n"
   ]
  },
  {
   "cell_type": "code",
   "execution_count": 53,
   "id": "cbe07484-7c02-4993-8659-7758a122a4df",
   "metadata": {},
   "outputs": [
    {
     "name": "stdout",
     "output_type": "stream",
     "text": [
      "[100, 120, 150, 300, 500, 1000, 2000]\n",
      "100\n",
      "2000\n",
      "5\n",
      "2070\n",
      "414.0\n"
     ]
    }
   ],
   "source": [
    "numList = [120,150,300,500,1000,100,2000]\n",
    "\n",
    "numList.sort()\n",
    "print(numList)\n",
    "\n",
    "minNum = min(numList)\n",
    "maxNum = max(numList)\n",
    "print(minNum)\n",
    "print(maxNum)\n",
    "\n",
    "numList.remove(maxNum)\n",
    "numList.remove(minNum)\n",
    "numList\n",
    "\n",
    "lenNumList = len(numList)\n",
    "sumNumList = sum(numList)\n",
    "\n",
    "print(lenNumList)\n",
    "print(sumNumList)\n",
    "\n",
    "average = sumNumList/lenNumList\n",
    "print(average)"
   ]
  },
  {
   "cell_type": "code",
   "execution_count": 54,
   "id": "0eb1c179-cfb4-43ae-9385-a069fbe08b4c",
   "metadata": {},
   "outputs": [
    {
     "name": "stdout",
     "output_type": "stream",
     "text": [
      "414\n"
     ]
    }
   ],
   "source": [
    "numList = [120,150,300,500,1000,100,2000]\n",
    "\n",
    "minNum = min(numList)\n",
    "maxNum = max(numList)\n",
    "\n",
    "numList.remove(maxNum)\n",
    "numList.remove(minNum)\n",
    "numList\n",
    "\n",
    "lenNumList = len(numList)\n",
    "sumNumList = sum(numList)\n",
    "\n",
    "average = sumNumList/lenNumList\n",
    "print(int(average))"
   ]
  },
  {
   "cell_type": "code",
   "execution_count": 55,
   "id": "c859e500-c114-419d-b9fa-66b2a89e1d4d",
   "metadata": {},
   "outputs": [
    {
     "name": "stdout",
     "output_type": "stream",
     "text": [
      "최소값:100 최대값:2000\n"
     ]
    }
   ],
   "source": [
    "print(\"최소값:{} 최대값:{}\".format(minNum,maxNum))"
   ]
  },
  {
   "cell_type": "code",
   "execution_count": 56,
   "id": "901fd9ff-bce1-4b28-8285-bc6a94952a50",
   "metadata": {},
   "outputs": [],
   "source": [
    "# 동일한 최소값이 존재할 경우"
   ]
  },
  {
   "cell_type": "code",
   "execution_count": 13,
   "id": "2eda47a1-e367-4506-ac53-adb9fe39f7a1",
   "metadata": {},
   "outputs": [
    {
     "name": "stdout",
     "output_type": "stream",
     "text": [
      "[120, 150, 300, 500, 1000, 100, 2000, 100]\n",
      "100\n",
      "2\n",
      "[100, 100, 120, 150, 300, 500, 1000, 2000]\n"
     ]
    },
    {
     "data": {
      "text/plain": [
       "[120, 150, 300, 500, 1000, 2000]"
      ]
     },
     "execution_count": 13,
     "metadata": {},
     "output_type": "execute_result"
    }
   ],
   "source": [
    "test = [120,150,300,500,1000,100,2000,100]\n",
    "print(test)\n",
    "\n",
    "# 최소값 파악\n",
    "minTest = min(test)\n",
    "print(minTest)\n",
    "\n",
    "# 최소값이 몇갠지 파악\n",
    "removeMin = test.count(minTest)\n",
    "print(removeMin)\n",
    "\n",
    "# 최소값 제거\n",
    "test.sort()\n",
    "print(test)\n",
    "del test[:removeMin]\n",
    "test\n",
    "# 최소값이 2개니까 오름차순 정렬 후 앞에 2개 제거"
   ]
  },
  {
   "cell_type": "markdown",
   "id": "66a81b83-f043-40df-bf14-2be0876dfac5",
   "metadata": {},
   "source": [
    "## 생각해볼것"
   ]
  },
  {
   "cell_type": "code",
   "execution_count": 58,
   "id": "caba876a-df08-478e-ae12-db0820c4a628",
   "metadata": {},
   "outputs": [
    {
     "name": "stdout",
     "output_type": "stream",
     "text": [
      "201612\n"
     ]
    },
    {
     "ename": "IndexError",
     "evalue": "list index out of range",
     "output_type": "error",
     "traceback": [
      "\u001b[1;31m---------------------------------------------------------------------------\u001b[0m",
      "\u001b[1;31mIndexError\u001b[0m                                Traceback (most recent call last)",
      "\u001b[1;32m~\\AppData\\Local\\Temp\\ipykernel_6576\\4222437352.py\u001b[0m in \u001b[0;36m<module>\u001b[1;34m\u001b[0m\n\u001b[0;32m     11\u001b[0m \u001b[1;33m\u001b[0m\u001b[0m\n\u001b[0;32m     12\u001b[0m \u001b[0mprint\u001b[0m\u001b[1;33m(\u001b[0m\u001b[0msplitYearWeek\u001b[0m\u001b[1;33m[\u001b[0m\u001b[1;36m0\u001b[0m\u001b[1;33m]\u001b[0m\u001b[1;33m)\u001b[0m\u001b[1;33m\u001b[0m\u001b[1;33m\u001b[0m\u001b[0m\n\u001b[1;32m---> 13\u001b[1;33m \u001b[0mprint\u001b[0m\u001b[1;33m(\u001b[0m\u001b[0msplitYearWeek\u001b[0m\u001b[1;33m[\u001b[0m\u001b[1;36m1\u001b[0m\u001b[1;33m]\u001b[0m\u001b[1;33m)\u001b[0m\u001b[1;33m\u001b[0m\u001b[1;33m\u001b[0m\u001b[0m\n\u001b[0m",
      "\u001b[1;31mIndexError\u001b[0m: list index out of range"
     ]
    }
   ],
   "source": [
    "# 나중에 연구해보기\n",
    "\n",
    "yearWeek = \"2023W01\"\n",
    "yearWeek.count(\"W\")\n",
    "#기준 문자\n",
    "whereW = yearWeek.index(\"W\")\n",
    "whereW\n",
    "# whereW는 4로 나오고 split에서는 해당 문자를 기준으로 하는데\n",
    "# 여기서 내가 원하는 값은 W인데 index로 바꾸면 W의 위치인 4가 나온다\n",
    "splitYearWeek = yearweek.split(\"whereW\")\n",
    "\n",
    "print(splitYearWeek[0])\n",
    "print(splitYearWeek[1])"
   ]
  },
  {
   "cell_type": "code",
   "execution_count": 59,
   "id": "9188b30d-7661-42c7-9e5e-48d0c54bb553",
   "metadata": {},
   "outputs": [
    {
     "name": "stdout",
     "output_type": "stream",
     "text": [
      "Object `무엇인가` not found.\n"
     ]
    },
    {
     "ename": "NameError",
     "evalue": "name 're' is not defined",
     "output_type": "error",
     "traceback": [
      "\u001b[1;31m---------------------------------------------------------------------------\u001b[0m",
      "\u001b[1;31mNameError\u001b[0m                                 Traceback (most recent call last)",
      "\u001b[1;32m~\\AppData\\Local\\Temp\\ipykernel_6576\\975044987.py\u001b[0m in \u001b[0;36m<module>\u001b[1;34m\u001b[0m\n\u001b[0;32m      1\u001b[0m \u001b[1;31m# 정규 표현식, 시간날때 들여다보면 좋다함\u001b[0m\u001b[1;33m\u001b[0m\u001b[1;33m\u001b[0m\u001b[0m\n\u001b[0;32m      2\u001b[0m \u001b[0mget_ipython\u001b[0m\u001b[1;33m(\u001b[0m\u001b[1;33m)\u001b[0m\u001b[1;33m.\u001b[0m\u001b[0mrun_line_magic\u001b[0m\u001b[1;33m(\u001b[0m\u001b[1;34m'pinfo'\u001b[0m\u001b[1;33m,\u001b[0m \u001b[1;34m'무엇인가'\u001b[0m\u001b[1;33m)\u001b[0m\u001b[1;33m\u001b[0m\u001b[1;33m\u001b[0m\u001b[0m\n\u001b[1;32m----> 3\u001b[1;33m \u001b[0mre\u001b[0m\u001b[1;33m.\u001b[0m\u001b[0msub\u001b[0m\u001b[1;33m[\u001b[0m\u001b[1;34m\"특수문자\"\u001b[0m\u001b[1;33m,\u001b[0m\u001b[1;34m\"바꿀거\"\u001b[0m\u001b[1;33m,\u001b[0m\u001b[0m문장\u001b[0m\u001b[1;33m(\u001b[0m\u001b[0m변수\u001b[0m\u001b[1;33m)\u001b[0m\u001b[1;33m]\u001b[0m\u001b[1;33m\u001b[0m\u001b[1;33m\u001b[0m\u001b[0m\n\u001b[0m\u001b[0;32m      4\u001b[0m \u001b[1;31m# re.sub[pattern,repl,string....]\u001b[0m\u001b[1;33m\u001b[0m\u001b[1;33m\u001b[0m\u001b[0m\n\u001b[0;32m      5\u001b[0m \u001b[1;31m# 특수문자를 바꾸는게 가장 많이 쓰인다\u001b[0m\u001b[1;33m\u001b[0m\u001b[1;33m\u001b[0m\u001b[0m\n",
      "\u001b[1;31mNameError\u001b[0m: name 're' is not defined"
     ]
    }
   ],
   "source": [
    "# 정규 표현식, 시간날때 들여다보면 좋다함\n",
    "import re가 무엇인가?\n",
    "re.sub[\"특수문자\",\"바꿀거\",문장(변수)]\n",
    "# re.sub[pattern,repl,string....]\n",
    "# 특수문자를 바꾸는게 가장 많이 쓰인다\n",
    "# 대괄호 안의 앞에걸 뒤에걸로 바꾸겠다.\n",
    "# 앞쪽에 우리가 쓸 수 있는 특수문자를 넣어 놓으면, 뒤에 걸로 바꿔준다.\n",
    "# 특수문자가 1개든 2개든 여러개든 있는 거라면, 조건에 맞는 거라면 바꿔준다"
   ]
  },
  {
   "cell_type": "code",
   "execution_count": 17,
   "id": "d330c3cb-904a-49b5-b9e6-f107a16161f3",
   "metadata": {},
   "outputs": [
    {
     "data": {
      "text/plain": [
       "[2000, 1000, 500, 300, 150, 120, 100, 100]"
      ]
     },
     "execution_count": 17,
     "metadata": {},
     "output_type": "execute_result"
    }
   ],
   "source": [
    "test = [120,150,300,500,1000,100,2000,100]\n",
    "test.sort(reverse=True)\n",
    "test"
   ]
  }
 ],
 "metadata": {
  "kernelspec": {
   "display_name": "Python 3 (ipykernel)",
   "language": "python",
   "name": "python3"
  },
  "language_info": {
   "codemirror_mode": {
    "name": "ipython",
    "version": 3
   },
   "file_extension": ".py",
   "mimetype": "text/x-python",
   "name": "python",
   "nbconvert_exporter": "python",
   "pygments_lexer": "ipython3",
   "version": "3.9.13"
  }
 },
 "nbformat": 4,
 "nbformat_minor": 5
}
