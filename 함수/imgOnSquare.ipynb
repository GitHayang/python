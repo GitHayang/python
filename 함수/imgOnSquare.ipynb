{
 "cells": [
  {
   "cell_type": "code",
   "execution_count": null,
   "id": "50d80e76-cea1-4511-9465-7151256854f8",
   "metadata": {},
   "outputs": [],
   "source": [
    "import cv2"
   ]
  },
  {
   "cell_type": "code",
   "execution_count": null,
   "id": "8bd3b0e2-1793-4b4d-a827-126eb4134117",
   "metadata": {},
   "outputs": [],
   "source": [
    "testImg = cv2.imread(\"./src/img3.png\")\n",
    "testImg.shape\n",
    "width = 100 # 가로 길이\n",
    "height = 100 # 세로 길이\n",
    "String = \"Animal\""
   ]
  },
  {
   "cell_type": "code",
   "execution_count": null,
   "id": "96b91813-ec9e-455b-b81c-27b188477e0f",
   "metadata": {},
   "outputs": [],
   "source": [
    "# 사진의 가운데를 기준으로 내가 원하는 가로, 세로 길이의 사각형을 그리고 좌측 상단에 원하는 문자를 넣는 함수\n",
    "def midRect(testImg, width, height, String):\n",
    "    X = testImg.shape[1]\n",
    "    Y = testImg.shape[0]\n",
    "    \n",
    "    # 한가운데\n",
    "    xMid = int(X/2)\n",
    "    yMid = int(Y/2)\n",
    "\n",
    "    # 사각형의 크기\n",
    "    halfWid = int(width/2)\n",
    "    halfHigh = int(height/2)\n",
    "\n",
    "    # 좌상,우하 좌표\n",
    "    left = ((xMid-halfWid),(yMid-halfHigh))\n",
    "    right = ((xMid+halfWid),(yMid+halfHigh))\n",
    "\n",
    "    # 사각형 그리기\n",
    "    imgRect = cv2.rectangle(testImg,\n",
    "                    left,\n",
    "                    right,\n",
    "                    (0,255,0), #RGB컬러값(녹색)\n",
    "                     3)\n",
    "    \n",
    "    imgRectFont = cv2.putText(imgRect, # 이미지\n",
    "            String, # 글자\n",
    "            left, # 좌측 상단 좌표\n",
    "            cv2.FONT_HERSHEY_PLAIN, # 폰트\n",
    "            2, # 폰트사이즈\n",
    "            (0,255,255), # RGB\n",
    "            2) # 폰트 굵기\n",
    "    \n",
    "    \n",
    "    return imgRectFont"
   ]
  },
  {
   "cell_type": "code",
   "execution_count": null,
   "id": "11b5cf8a-2302-45cf-8f2c-c6d74a5f5a41",
   "metadata": {},
   "outputs": [],
   "source": [
    "# 함수를 호출하고 반환값을 변수에 저장\n",
    "funcImgRect = midRect(testImg, 200, 200, \"Beast\")"
   ]
  },
  {
   "cell_type": "code",
   "execution_count": null,
   "id": "e1ddcc20-4610-4313-b8bf-3779b0c4bdaf",
   "metadata": {},
   "outputs": [],
   "source": []
  },
  {
   "cell_type": "code",
   "execution_count": null,
   "id": "b3fc5766-33b1-4cd4-9538-95c30ffd3b0b",
   "metadata": {},
   "outputs": [],
   "source": []
  }
 ],
 "metadata": {
  "kernelspec": {
   "display_name": "Python 3 (ipykernel)",
   "language": "python",
   "name": "python3"
  },
  "language_info": {
   "codemirror_mode": {
    "name": "ipython",
    "version": 3
   },
   "file_extension": ".py",
   "mimetype": "text/x-python",
   "name": "python",
   "nbconvert_exporter": "python",
   "pygments_lexer": "ipython3",
   "version": "3.9.13"
  }
 },
 "nbformat": 4,
 "nbformat_minor": 5
}
