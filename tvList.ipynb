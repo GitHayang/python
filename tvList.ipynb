{
 "cells": [
  {
   "cell_type": "code",
   "execution_count": null,
   "id": "a8734ee8-9a73-4f1b-9d8c-41e005d1b3b7",
   "metadata": {},
   "outputs": [],
   "source": []
  },
  {
   "cell_type": "code",
   "execution_count": null,
   "id": "be580a1e-4d9e-4f2b-a197-64cdf8c0c333",
   "metadata": {},
   "outputs": [],
   "source": [
    "tvList = [\"LEDTV_UN001\",\"LEDTV_LEDTV_UN002\",\"UN003\"]\n",
    "prefix = \"LEDTV_\"\n",
    "for i in range(0,len(tvList)): # 리스트 안의 갯수만큼 반복\n",
    "    if tvList[i].count(prefix) == 0 : # prefix가 없을때\n",
    "        tvList[i] = prefix + tvList[i]\n",
    "    elif tvList[i].count(prefix) >=2 : # prefix가 2개이상일때\n",
    "        tvList[i] = tvList[i].replace(prefix, \"\")\n",
    "        tvList[i] = prefix + tvList[i]\n",
    "    else : # prefi\n",
    "        pass\n",
    "print(tvList)\n",
    "\n",
    "\n",
    "# 2안\n",
    "# LEDTV가 2개인 부분은 split으로 나눈다 \n",
    "# split으로 나누면 나눈 후 리스트로 저장된다  = 2차원 배열상태\n",
    "# 그래서 for문을 1번더 돌려서 안쪽 리스트에 접근하여 해당 값중 잘리고 남은 LEDTV를 만나면 지나가고\n",
    "# LEDTV가 아니면 그 값의 인덱스로 그 앞의 값들은 리스트에서 삭제하고\n",
    "# prefix를 붙인 후 리스트를 스트링으로 만들어 1차원 배열로 되돌린다. \n",
    "\n",
    "tvList = [\"LEDTV_UN001\",\"LEDTV_LEDTV_UN002\",\"UN003\"]\n",
    "prefix = \"LEDTV_\"\n",
    "\n",
    "for i in range(0,len(tvList)):\n",
    "    if tvList[i].count(prefix)==1:\n",
    "        pass\n",
    "    elif tvList[i].count(prefix)>=2:\n",
    "        tvList[i]= tvList[i].split(\"_\") #split으로 나누면 리스트로 저장된다\n",
    "        for j in range(0, len(tvList[i])): #2차원 배열에 접근하기 위한 2중 for문\n",
    "            if tvList[i][j]==\"LEDTV\" : # LEDTV는 무시한다\n",
    "                pass\n",
    "            else :\n",
    "                tvList[i][j] = prefix + tvList[i][j] # LEDTV가 아니면 prefix를 붙여준다\n",
    "                del tvList[i][:j] # 인덱스를 이용해 리스트의 안의 prefix붙이기 전에거까지는는 전부 날린다\n",
    "                tvList[i] = ' '.join(s for s in tvList[i]) # 리스트를 스트링으로 변환하는 부분\n",
    "    else : \n",
    "        tvList[i] = prefix + tvList[i] \n",
    "print(tvList)        "
   ]
  }
 ],
 "metadata": {
  "kernelspec": {
   "display_name": "Python 3 (ipykernel)",
   "language": "python",
   "name": "python3"
  },
  "language_info": {
   "codemirror_mode": {
    "name": "ipython",
    "version": 3
   },
   "file_extension": ".py",
   "mimetype": "text/x-python",
   "name": "python",
   "nbconvert_exporter": "python",
   "pygments_lexer": "ipython3",
   "version": "3.9.13"
  }
 },
 "nbformat": 4,
 "nbformat_minor": 5
}
