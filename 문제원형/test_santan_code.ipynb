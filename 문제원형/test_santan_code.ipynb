{
 "cells": [
  {
   "cell_type": "markdown",
   "id": "98ea398c-4ad1-499d-a497-ef8328e46956",
   "metadata": {},
   "source": [
    "# 라이브러리 선언"
   ]
  },
  {
   "cell_type": "code",
   "execution_count": 1,
   "id": "25d52d95-cd9d-4365-906b-658ea7d12b62",
   "metadata": {},
   "outputs": [],
   "source": [
    "import pandas as pd\n",
    "import numpy as np"
   ]
  },
  {
   "cell_type": "code",
   "execution_count": 2,
   "id": "6bc31e45-573e-48d1-96e3-281ea099025a",
   "metadata": {},
   "outputs": [],
   "source": [
    "import pickle"
   ]
  },
  {
   "cell_type": "code",
   "execution_count": 3,
   "id": "044960a7-7ad6-4304-95e3-b3ffefe1e7a6",
   "metadata": {},
   "outputs": [],
   "source": [
    "from sklearn.metrics import accuracy_score\n",
    "from sklearn.tree import DecisionTreeClassifier\n",
    "from sklearn.model_selection import train_test_split\n",
    "from sklearn import tree\n",
    "import matplotlib.pyplot as plt\n",
    "from sklearn.tree import plot_tree, export_text"
   ]
  },
  {
   "cell_type": "code",
   "execution_count": 4,
   "id": "c6bd4ef9-0f7d-4f65-b132-716e2072f099",
   "metadata": {},
   "outputs": [],
   "source": [
    "# 데이터 불러오기"
   ]
  },
  {
   "cell_type": "code",
   "execution_count": 5,
   "id": "095071e1-8493-42b8-8775-3f7b2b3c7cdf",
   "metadata": {},
   "outputs": [],
   "source": [
    "secondStepDf = pd.read_csv(\"../test/Financial_Product_Recommendation.csv\")"
   ]
  },
  {
   "cell_type": "code",
   "execution_count": 6,
   "id": "1a44d7ad-1794-4a69-a7f7-fcd1403f09d7",
   "metadata": {},
   "outputs": [
    {
     "data": {
      "text/html": [
       "<div>\n",
       "<style scoped>\n",
       "    .dataframe tbody tr th:only-of-type {\n",
       "        vertical-align: middle;\n",
       "    }\n",
       "\n",
       "    .dataframe tbody tr th {\n",
       "        vertical-align: top;\n",
       "    }\n",
       "\n",
       "    .dataframe thead th {\n",
       "        text-align: right;\n",
       "    }\n",
       "</style>\n",
       "<table border=\"1\" class=\"dataframe\">\n",
       "  <thead>\n",
       "    <tr style=\"text-align: right;\">\n",
       "      <th></th>\n",
       "      <th>FINANCIALPRODUCT</th>\n",
       "      <th>GENDER</th>\n",
       "      <th>AGE</th>\n",
       "      <th>CUST_TYPE</th>\n",
       "      <th>INCOME</th>\n",
       "      <th>FOREINERINDEX</th>\n",
       "    </tr>\n",
       "  </thead>\n",
       "  <tbody>\n",
       "    <tr>\n",
       "      <th>0</th>\n",
       "      <td>급여계좌</td>\n",
       "      <td>0</td>\n",
       "      <td>2</td>\n",
       "      <td>0</td>\n",
       "      <td>5</td>\n",
       "      <td>0</td>\n",
       "    </tr>\n",
       "    <tr>\n",
       "      <th>1</th>\n",
       "      <td>신용카드</td>\n",
       "      <td>0</td>\n",
       "      <td>2</td>\n",
       "      <td>0</td>\n",
       "      <td>5</td>\n",
       "      <td>0</td>\n",
       "    </tr>\n",
       "    <tr>\n",
       "      <th>2</th>\n",
       "      <td>신용카드</td>\n",
       "      <td>0</td>\n",
       "      <td>3</td>\n",
       "      <td>0</td>\n",
       "      <td>5</td>\n",
       "      <td>1</td>\n",
       "    </tr>\n",
       "    <tr>\n",
       "      <th>3</th>\n",
       "      <td>증권</td>\n",
       "      <td>0</td>\n",
       "      <td>3</td>\n",
       "      <td>0</td>\n",
       "      <td>5</td>\n",
       "      <td>1</td>\n",
       "    </tr>\n",
       "    <tr>\n",
       "      <th>4</th>\n",
       "      <td>급여계좌</td>\n",
       "      <td>1</td>\n",
       "      <td>3</td>\n",
       "      <td>0</td>\n",
       "      <td>3</td>\n",
       "      <td>1</td>\n",
       "    </tr>\n",
       "    <tr>\n",
       "      <th>...</th>\n",
       "      <td>...</td>\n",
       "      <td>...</td>\n",
       "      <td>...</td>\n",
       "      <td>...</td>\n",
       "      <td>...</td>\n",
       "      <td>...</td>\n",
       "    </tr>\n",
       "    <tr>\n",
       "      <th>547143</th>\n",
       "      <td>급여계좌</td>\n",
       "      <td>0</td>\n",
       "      <td>5</td>\n",
       "      <td>0</td>\n",
       "      <td>5</td>\n",
       "      <td>1</td>\n",
       "    </tr>\n",
       "    <tr>\n",
       "      <th>547144</th>\n",
       "      <td>급여계좌</td>\n",
       "      <td>1</td>\n",
       "      <td>3</td>\n",
       "      <td>0</td>\n",
       "      <td>4</td>\n",
       "      <td>1</td>\n",
       "    </tr>\n",
       "    <tr>\n",
       "      <th>547145</th>\n",
       "      <td>주니어계좌</td>\n",
       "      <td>0</td>\n",
       "      <td>1</td>\n",
       "      <td>0</td>\n",
       "      <td>3</td>\n",
       "      <td>1</td>\n",
       "    </tr>\n",
       "    <tr>\n",
       "      <th>547146</th>\n",
       "      <td>급여계좌</td>\n",
       "      <td>1</td>\n",
       "      <td>2</td>\n",
       "      <td>0</td>\n",
       "      <td>5</td>\n",
       "      <td>0</td>\n",
       "    </tr>\n",
       "    <tr>\n",
       "      <th>547147</th>\n",
       "      <td>신용카드</td>\n",
       "      <td>1</td>\n",
       "      <td>2</td>\n",
       "      <td>0</td>\n",
       "      <td>5</td>\n",
       "      <td>0</td>\n",
       "    </tr>\n",
       "  </tbody>\n",
       "</table>\n",
       "<p>547148 rows × 6 columns</p>\n",
       "</div>"
      ],
      "text/plain": [
       "       FINANCIALPRODUCT  GENDER  AGE  CUST_TYPE  INCOME  FOREINERINDEX\n",
       "0                  급여계좌       0    2          0       5              0\n",
       "1                  신용카드       0    2          0       5              0\n",
       "2                  신용카드       0    3          0       5              1\n",
       "3                    증권       0    3          0       5              1\n",
       "4                  급여계좌       1    3          0       3              1\n",
       "...                 ...     ...  ...        ...     ...            ...\n",
       "547143             급여계좌       0    5          0       5              1\n",
       "547144             급여계좌       1    3          0       4              1\n",
       "547145            주니어계좌       0    1          0       3              1\n",
       "547146             급여계좌       1    2          0       5              0\n",
       "547147             신용카드       1    2          0       5              0\n",
       "\n",
       "[547148 rows x 6 columns]"
      ]
     },
     "execution_count": 6,
     "metadata": {},
     "output_type": "execute_result"
    }
   ],
   "source": [
    "secondStepDf"
   ]
  },
  {
   "cell_type": "markdown",
   "id": "4a40d23b-bc72-43d0-b359-4f02bcd75037",
   "metadata": {},
   "source": [
    "# 컬럼명 설정"
   ]
  },
  {
   "cell_type": "markdown",
   "id": "9717537e-80bc-4b34-b2dd-6084270195b0",
   "metadata": {},
   "source": [
    "### 상품 가입자만 조회"
   ]
  },
  {
   "cell_type": "code",
   "execution_count": 7,
   "id": "58bca6b3-ed66-4e98-b107-c4da17e50393",
   "metadata": {},
   "outputs": [],
   "source": [
    "secondStepDf = secondStepDf.loc[secondStepDf.FINANCIALPRODUCT != \"0\"]"
   ]
  },
  {
   "cell_type": "code",
   "execution_count": 8,
   "id": "35c2a224-c70d-41b1-98a6-795f421e681d",
   "metadata": {},
   "outputs": [],
   "source": [
    "secondStepDf = secondStepDf.reset_index(drop=True)"
   ]
  },
  {
   "cell_type": "markdown",
   "id": "75f6db15-1b2e-4169-b7e3-e191728a4f34",
   "metadata": {},
   "source": [
    "### feature, label 선언"
   ]
  },
  {
   "cell_type": "code",
   "execution_count": 9,
   "id": "8c48a037-2a54-4b57-80fd-46bdac31eace",
   "metadata": {},
   "outputs": [
    {
     "data": {
      "text/plain": [
       "Index(['FINANCIALPRODUCT', 'GENDER', 'AGE', 'CUST_TYPE', 'INCOME',\n",
       "       'FOREINERINDEX'],\n",
       "      dtype='object')"
      ]
     },
     "execution_count": 9,
     "metadata": {},
     "output_type": "execute_result"
    }
   ],
   "source": [
    "secondStepDf.columns"
   ]
  },
  {
   "cell_type": "code",
   "execution_count": 10,
   "id": "82f041c2-e7a1-4661-bfa9-ca849c735d39",
   "metadata": {},
   "outputs": [],
   "source": [
    "feature = ['GENDER', 'AGE', 'CUST_TYPE', 'INCOME', 'FOREINERINDEX']"
   ]
  },
  {
   "cell_type": "code",
   "execution_count": 11,
   "id": "08297a69-7133-4fa2-836c-1f1eb9aeb5ea",
   "metadata": {},
   "outputs": [],
   "source": [
    "label = ['FINANCIALPRODUCT']"
   ]
  },
  {
   "cell_type": "code",
   "execution_count": 12,
   "id": "744f0158-ef96-4783-b48c-9e10c7f7fb1d",
   "metadata": {},
   "outputs": [],
   "source": [
    "featureData = secondStepDf.loc[:,feature]\n",
    "labelData = secondStepDf.loc[:,label]"
   ]
  },
  {
   "cell_type": "markdown",
   "id": "d14f75cd-f5c6-493c-9c72-f97617b93c2f",
   "metadata": {},
   "source": [
    "### 학습, 훈련 분리"
   ]
  },
  {
   "cell_type": "code",
   "execution_count": 13,
   "id": "4993576a-4d1f-49a0-b79d-07b7161f9a06",
   "metadata": {},
   "outputs": [],
   "source": [
    "training_feature,\\\n",
    "test_feature,\\\n",
    "training_label,\\\n",
    "test_label = train_test_split(featureData, labelData, test_size=0.3, random_state=10)"
   ]
  },
  {
   "cell_type": "code",
   "execution_count": 14,
   "id": "2a37d7c4-d21a-45e0-83ef-91ef70439d42",
   "metadata": {},
   "outputs": [
    {
     "name": "stdout",
     "output_type": "stream",
     "text": [
      "(383003, 5)\n",
      "(383003, 1)\n",
      "(164145, 5)\n",
      "(164145, 1)\n"
     ]
    }
   ],
   "source": [
    "print(training_feature.shape)\n",
    "print(training_label.shape)\n",
    "print(test_feature.shape)\n",
    "print(test_label.shape)"
   ]
  },
  {
   "cell_type": "markdown",
   "id": "d162a7cf-bdcd-46d8-94ec-155024b35d22",
   "metadata": {},
   "source": [
    "# 모델 선언"
   ]
  },
  {
   "cell_type": "code",
   "execution_count": 15,
   "id": "8d68b787-3acd-479c-a732-93c72a397b9b",
   "metadata": {},
   "outputs": [],
   "source": [
    "model = DecisionTreeClassifier(random_state = 10, max_depth=11)"
   ]
  },
  {
   "cell_type": "markdown",
   "id": "2361c205-9492-4249-b8c0-f437f63bd6a4",
   "metadata": {},
   "source": [
    "### 학습"
   ]
  },
  {
   "cell_type": "code",
   "execution_count": 16,
   "id": "3df60f94-5786-4c4a-af83-79b75b39f5af",
   "metadata": {},
   "outputs": [
    {
     "data": {
      "text/plain": [
       "DecisionTreeClassifier(max_depth=11, random_state=10)"
      ]
     },
     "execution_count": 16,
     "metadata": {},
     "output_type": "execute_result"
    }
   ],
   "source": [
    "model.fit(X = training_feature,\n",
    "          y = training_label)"
   ]
  },
  {
   "cell_type": "markdown",
   "id": "935857d7-3df5-4750-95c3-c5862581c9c4",
   "metadata": {
    "tags": []
   },
   "source": [
    "### 예측"
   ]
  },
  {
   "cell_type": "code",
   "execution_count": 17,
   "id": "2e92ee65-caf6-4443-b643-c728d0abe9e0",
   "metadata": {},
   "outputs": [],
   "source": [
    "pred_tree = model.predict(X=test_feature) #타입:np.array\n",
    "\n",
    "pred_tree = pd.DataFrame(pred_tree, columns=[\"pred_tree\"])\n",
    "\n",
    "test_label = test_label.reset_index(drop=True)\n",
    "\n",
    "accuracy_tree = accuracy_score(test_label, pred_tree)"
   ]
  },
  {
   "cell_type": "code",
   "execution_count": 18,
   "id": "5af34fe2-4d48-461d-b5d2-064da4d5444d",
   "metadata": {},
   "outputs": [
    {
     "data": {
      "text/plain": [
       "0.45331261993968747"
      ]
     },
     "execution_count": 18,
     "metadata": {},
     "output_type": "execute_result"
    }
   ],
   "source": [
    "accuracy_tree"
   ]
  },
  {
   "cell_type": "code",
   "execution_count": 19,
   "id": "128940ad-c957-49f2-97a8-60e3bcb05c50",
   "metadata": {},
   "outputs": [
    {
     "ename": "SyntaxError",
     "evalue": "invalid syntax (476313318.py, line 1)",
     "output_type": "error",
     "traceback": [
      "\u001b[1;36m  File \u001b[1;32m\"C:\\Users\\caose\\AppData\\Local\\Temp\\ipykernel_35736\\476313318.py\"\u001b[1;36m, line \u001b[1;32m1\u001b[0m\n\u001b[1;33m    -\u001b[0m\n\u001b[1;37m     ^\u001b[0m\n\u001b[1;31mSyntaxError\u001b[0m\u001b[1;31m:\u001b[0m invalid syntax\n"
     ]
    }
   ],
   "source": [
    "-"
   ]
  },
  {
   "cell_type": "code",
   "execution_count": null,
   "id": "a4a1a0a2-4077-415c-bd75-40d5b487f1dc",
   "metadata": {},
   "outputs": [],
   "source": [
    "# Grid_search를 이용한 최적의 hyperparameter를 찾는다.\n",
    "\n",
    "from sklearn.tree import DecisionTreeClassifier\n",
    "from sklearn.model_selection import GridSearchCV\n",
    "\n",
    "# 데이터 로드\n",
    "X = training_feature\n",
    "y = training_label\n",
    "\n",
    "# 의사 결정 트리 분류기 생성\n",
    "dt_classifier = DecisionTreeClassifier()\n",
    "\n",
    "# 튜닝할 하이퍼파라미터와 범위 정의\n",
    "param_grid = {\n",
    "    'max_depth': [3, 5, 7, 9, 11],\n",
    "    'min_samples_split': [2, 5, 10],\n",
    "    'min_samples_leaf': [1, 3, 5],\n",
    "    'max_features': [None, 'sqrt', 'log2'],\n",
    "    'criterion': ['gini', 'entropy'],\n",
    "    'class_weight': [None, 'balanced']\n",
    "}\n",
    "\n",
    "# 그리드 서치를 사용한 하이퍼파라미터 튜닝\n",
    "grid_search = GridSearchCV(dt_classifier, param_grid, cv=5)\n",
    "grid_search.fit(X, y)\n",
    "\n",
    "# 최적의 하이퍼파라미터와 정확도 출력\n",
    "print(\"Best Parameters:\", grid_search.best_params_)\n",
    "print(\"Best Accuracy:\", grid_search.best_score_)"
   ]
  },
  {
   "cell_type": "code",
   "execution_count": null,
   "id": "3357c1ca-d1a3-4ea2-b2ce-d1c96118ad4e",
   "metadata": {},
   "outputs": [],
   "source": [
    "--"
   ]
  },
  {
   "cell_type": "markdown",
   "id": "25aeee7e-0a68-43b8-935b-2b342761dbc5",
   "metadata": {},
   "source": [
    "# 시각화"
   ]
  },
  {
   "cell_type": "code",
   "execution_count": null,
   "id": "85b9e45d-d2ac-4d8e-b933-8a1a0b1d6f84",
   "metadata": {
    "scrolled": true,
    "tags": []
   },
   "outputs": [
    {
     "data": {
      "text/plain": [
       "[Text(0.4583333333333333, 0.875, 'AGE <= 1.5\\ngini = 0.756\\nsamples = 383003\\nvalue = [150479, 72806, 67789, 15992, 44857, 31080]'),\n",
       " Text(0.25, 0.625, 'GENDER <= 0.5\\ngini = 0.0\\nsamples = 15972\\nvalue = [0, 0, 2, 15970, 0, 0]'),\n",
       " Text(0.16666666666666666, 0.375, 'AGE <= 0.5\\ngini = 0.0\\nsamples = 8187\\nvalue = [0, 0, 2, 8185, 0, 0]'),\n",
       " Text(0.08333333333333333, 0.125, '\\n  (...)  \\n'),\n",
       " Text(0.25, 0.125, '\\n  (...)  \\n'),\n",
       " Text(0.3333333333333333, 0.375, 'gini = 0.0\\nsamples = 7785\\nvalue = [0, 0, 0, 7785, 0, 0]'),\n",
       " Text(0.6666666666666666, 0.625, 'AGE <= 3.5\\ngini = 0.736\\nsamples = 367031\\nvalue = [150479, 72806, 67787, 22, 44857, 31080]'),\n",
       " Text(0.5, 0.375, 'AGE <= 2.5\\ngini = 0.511\\nsamples = 82981\\nvalue = [55925, 12694, 6696, 22, 5099, 2545]'),\n",
       " Text(0.4166666666666667, 0.125, '\\n  (...)  \\n'),\n",
       " Text(0.5833333333333334, 0.125, '\\n  (...)  \\n'),\n",
       " Text(0.8333333333333334, 0.375, 'AGE <= 5.5\\ngini = 0.768\\nsamples = 284050\\nvalue = [94554, 60112, 61091, 0, 39758, 28535]'),\n",
       " Text(0.75, 0.125, '\\n  (...)  \\n'),\n",
       " Text(0.9166666666666666, 0.125, '\\n  (...)  \\n')]"
      ]
     },
     "execution_count": 22,
     "metadata": {},
     "output_type": "execute_result"
    }
   ],
   "source": [
    "plt.figure(figsize =(80,20))\n",
    "\n",
    "plot_tree(model, feature_names=training_feature.columns, max_depth=2, filled=False)"
   ]
  },
  {
   "cell_type": "code",
   "execution_count": null,
   "id": "f3fe3ce0-f87d-4bf1-975d-46ad818e3597",
   "metadata": {},
   "outputs": [],
   "source": []
  },
  {
   "cell_type": "markdown",
   "id": "eb51c9b4-3ccf-4fa6-aeeb-147feed58692",
   "metadata": {},
   "source": [
    "# pickle 저장"
   ]
  },
  {
   "cell_type": "code",
   "execution_count": null,
   "id": "5272b682-5ed5-4e62-863e-c14c227c364a",
   "metadata": {},
   "outputs": [],
   "source": [
    "# test\n",
    "with open(\"../test/tree_model.pickle\",\"wb\") as fw:\n",
    "    pickle.dump(model,fw)"
   ]
  },
  {
   "cell_type": "code",
   "execution_count": null,
   "id": "a30121e9-6146-4455-8724-96ba0cc15921",
   "metadata": {},
   "outputs": [],
   "source": [
    "-"
   ]
  },
  {
   "cell_type": "code",
   "execution_count": null,
   "id": "eb468e8b-42fe-4bd4-9f3e-abe10fb9b5cc",
   "metadata": {},
   "outputs": [],
   "source": [
    "# 실전\n",
    "with open(\"./tree_model.pickle\",\"wb\") as fw:\n",
    "    pickle.dump(model,fw)"
   ]
  }
 ],
 "metadata": {
  "kernelspec": {
   "display_name": "Python 3 (ipykernel)",
   "language": "python",
   "name": "python3"
  },
  "language_info": {
   "codemirror_mode": {
    "name": "ipython",
    "version": 3
   },
   "file_extension": ".py",
   "mimetype": "text/x-python",
   "name": "python",
   "nbconvert_exporter": "python",
   "pygments_lexer": "ipython3",
   "version": "3.9.13"
  }
 },
 "nbformat": 4,
 "nbformat_minor": 5
}
