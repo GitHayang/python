{
 "cells": [
  {
   "cell_type": "code",
   "execution_count": 1,
   "id": "44452df3-6a8f-423e-8358-98db6612c493",
   "metadata": {
    "tags": []
   },
   "outputs": [],
   "source": [
    "import pandas as pd\n",
    "import numpy as np"
   ]
  },
  {
   "cell_type": "code",
   "execution_count": 2,
   "id": "023a3b65-c9d1-4907-bd0b-914944f8d0cc",
   "metadata": {},
   "outputs": [],
   "source": [
    "import tqdm"
   ]
  },
  {
   "cell_type": "code",
   "execution_count": 3,
   "id": "25db27d5-0865-469f-a441-137927c1027e",
   "metadata": {
    "tags": []
   },
   "outputs": [
    {
     "name": "stderr",
     "output_type": "stream",
     "text": [
      "C:\\Users\\caose\\AppData\\Local\\Temp\\ipykernel_5176\\3097669333.py:1: DtypeWarning: Columns (5,8,11,15) have mixed types. Specify dtype option on import or set low_memory=False.\n",
      "  baseData = pd.read_csv(\"../data/train_ver2.csv\")\n"
     ]
    }
   ],
   "source": [
    "baseData = pd.read_csv(\"../data/train_ver2.csv\")"
   ]
  },
  {
   "cell_type": "code",
   "execution_count": 4,
   "id": "86ee9ca9-d55b-47a5-84c4-3e4fd2976969",
   "metadata": {},
   "outputs": [],
   "source": [
    "### 3개월 데이터로 줄인다. 값이 너무 많아서 최근의 추세로 판단하겠다"
   ]
  },
  {
   "cell_type": "code",
   "execution_count": 5,
   "id": "0be4ae9b-d560-4d0e-bb15-d9e5d56b5641",
   "metadata": {},
   "outputs": [],
   "source": [
    "base1 = baseData.loc[baseData.fecha_dato == \"2016-04-28\"]"
   ]
  },
  {
   "cell_type": "code",
   "execution_count": 6,
   "id": "f765e816-ecf4-406f-adc2-49413c42bfbc",
   "metadata": {},
   "outputs": [],
   "source": [
    "base2 = baseData.loc[baseData.fecha_dato == \"2016-05-28\"]"
   ]
  },
  {
   "cell_type": "code",
   "execution_count": 7,
   "id": "3f9d8609-6aa7-48bf-ac45-22bddd2c75e9",
   "metadata": {},
   "outputs": [],
   "source": [
    "base3 = baseData.loc[baseData.fecha_dato == \"2016-03-28\"]"
   ]
  },
  {
   "cell_type": "code",
   "execution_count": 8,
   "id": "84c167d0-f6b9-444d-b068-52942097d91f",
   "metadata": {},
   "outputs": [
    {
     "name": "stderr",
     "output_type": "stream",
     "text": [
      "C:\\Users\\caose\\AppData\\Local\\Temp\\ipykernel_5176\\4183799191.py:1: FutureWarning: The frame.append method is deprecated and will be removed from pandas in a future version. Use pandas.concat instead.\n",
      "  data1 = base1.append(base2, ignore_index=True)\n"
     ]
    }
   ],
   "source": [
    "data1 = base1.append(base2, ignore_index=True)"
   ]
  },
  {
   "cell_type": "code",
   "execution_count": 9,
   "id": "0722fe1c-c010-42eb-9f44-36bb82f1637f",
   "metadata": {},
   "outputs": [
    {
     "name": "stderr",
     "output_type": "stream",
     "text": [
      "C:\\Users\\caose\\AppData\\Local\\Temp\\ipykernel_5176\\2843191399.py:1: FutureWarning: The frame.append method is deprecated and will be removed from pandas in a future version. Use pandas.concat instead.\n",
      "  data1 = data1.append(base3, ignore_index=True)\n"
     ]
    }
   ],
   "source": [
    "data1 = data1.append(base3, ignore_index=True)"
   ]
  },
  {
   "cell_type": "code",
   "execution_count": 10,
   "id": "f365f074-251c-49cb-90da-914c79a2ac43",
   "metadata": {},
   "outputs": [
    {
     "data": {
      "text/plain": [
       "Index(['fecha_dato', 'ncodpers', 'ind_empleado', 'pais_residencia', 'sexo',\n",
       "       'age', 'fecha_alta', 'ind_nuevo', 'antiguedad', 'indrel',\n",
       "       'ult_fec_cli_1t', 'indrel_1mes', 'tiprel_1mes', 'indresi', 'indext',\n",
       "       'conyuemp', 'canal_entrada', 'indfall', 'tipodom', 'cod_prov',\n",
       "       'nomprov', 'ind_actividad_cliente', 'renta', 'segmento',\n",
       "       'ind_ahor_fin_ult1', 'ind_aval_fin_ult1', 'ind_cco_fin_ult1',\n",
       "       'ind_cder_fin_ult1', 'ind_cno_fin_ult1', 'ind_ctju_fin_ult1',\n",
       "       'ind_ctma_fin_ult1', 'ind_ctop_fin_ult1', 'ind_ctpp_fin_ult1',\n",
       "       'ind_deco_fin_ult1', 'ind_deme_fin_ult1', 'ind_dela_fin_ult1',\n",
       "       'ind_ecue_fin_ult1', 'ind_fond_fin_ult1', 'ind_hip_fin_ult1',\n",
       "       'ind_plan_fin_ult1', 'ind_pres_fin_ult1', 'ind_reca_fin_ult1',\n",
       "       'ind_tjcr_fin_ult1', 'ind_valo_fin_ult1', 'ind_viv_fin_ult1',\n",
       "       'ind_nomina_ult1', 'ind_nom_pens_ult1', 'ind_recibo_ult1'],\n",
       "      dtype='object')"
      ]
     },
     "execution_count": 10,
     "metadata": {},
     "output_type": "execute_result"
    }
   ],
   "source": [
    "data1.columns"
   ]
  },
  {
   "cell_type": "raw",
   "id": "f1477928-8a69-43fa-bb66-43d27918d258",
   "metadata": {},
   "source": [
    "# 3개의 컬럼이 동시에 null인 경우\n",
    "null_index_count = len(data1[[\"pais_residencia\", \"indresi\", \"indext\"]].loc[data1[[\"pais_residencia\", \"indresi\", \"indext\"]].isnull().all(axis=1)])\n",
    "null_index_count"
   ]
  },
  {
   "cell_type": "code",
   "execution_count": 11,
   "id": "dba926a1-6b24-4f7c-a0f3-a623d05e1cad",
   "metadata": {},
   "outputs": [],
   "source": [
    "data1 = data1.reset_index(drop=True)"
   ]
  },
  {
   "cell_type": "code",
   "execution_count": 12,
   "id": "20114d51-010e-4299-b305-b95867fc1721",
   "metadata": {},
   "outputs": [
    {
     "data": {
      "text/html": [
       "<div>\n",
       "<style scoped>\n",
       "    .dataframe tbody tr th:only-of-type {\n",
       "        vertical-align: middle;\n",
       "    }\n",
       "\n",
       "    .dataframe tbody tr th {\n",
       "        vertical-align: top;\n",
       "    }\n",
       "\n",
       "    .dataframe thead th {\n",
       "        text-align: right;\n",
       "    }\n",
       "</style>\n",
       "<table border=\"1\" class=\"dataframe\">\n",
       "  <thead>\n",
       "    <tr style=\"text-align: right;\">\n",
       "      <th></th>\n",
       "      <th>fecha_dato</th>\n",
       "      <th>ncodpers</th>\n",
       "      <th>ind_empleado</th>\n",
       "      <th>pais_residencia</th>\n",
       "      <th>sexo</th>\n",
       "      <th>age</th>\n",
       "      <th>fecha_alta</th>\n",
       "      <th>ind_nuevo</th>\n",
       "      <th>antiguedad</th>\n",
       "      <th>indrel</th>\n",
       "      <th>...</th>\n",
       "      <th>ind_hip_fin_ult1</th>\n",
       "      <th>ind_plan_fin_ult1</th>\n",
       "      <th>ind_pres_fin_ult1</th>\n",
       "      <th>ind_reca_fin_ult1</th>\n",
       "      <th>ind_tjcr_fin_ult1</th>\n",
       "      <th>ind_valo_fin_ult1</th>\n",
       "      <th>ind_viv_fin_ult1</th>\n",
       "      <th>ind_nomina_ult1</th>\n",
       "      <th>ind_nom_pens_ult1</th>\n",
       "      <th>ind_recibo_ult1</th>\n",
       "    </tr>\n",
       "  </thead>\n",
       "  <tbody>\n",
       "    <tr>\n",
       "      <th>0</th>\n",
       "      <td>2016-04-28</td>\n",
       "      <td>896836</td>\n",
       "      <td>N</td>\n",
       "      <td>ES</td>\n",
       "      <td>H</td>\n",
       "      <td>72</td>\n",
       "      <td>2010-11-12</td>\n",
       "      <td>0.0</td>\n",
       "      <td>65</td>\n",
       "      <td>1.0</td>\n",
       "      <td>...</td>\n",
       "      <td>0</td>\n",
       "      <td>0</td>\n",
       "      <td>0</td>\n",
       "      <td>0</td>\n",
       "      <td>0</td>\n",
       "      <td>0</td>\n",
       "      <td>0</td>\n",
       "      <td>0.0</td>\n",
       "      <td>0.0</td>\n",
       "      <td>0</td>\n",
       "    </tr>\n",
       "    <tr>\n",
       "      <th>1</th>\n",
       "      <td>2016-04-28</td>\n",
       "      <td>896837</td>\n",
       "      <td>N</td>\n",
       "      <td>ES</td>\n",
       "      <td>H</td>\n",
       "      <td>57</td>\n",
       "      <td>2010-11-12</td>\n",
       "      <td>0.0</td>\n",
       "      <td>65</td>\n",
       "      <td>1.0</td>\n",
       "      <td>...</td>\n",
       "      <td>0</td>\n",
       "      <td>0</td>\n",
       "      <td>0</td>\n",
       "      <td>0</td>\n",
       "      <td>0</td>\n",
       "      <td>0</td>\n",
       "      <td>0</td>\n",
       "      <td>0.0</td>\n",
       "      <td>0.0</td>\n",
       "      <td>0</td>\n",
       "    </tr>\n",
       "    <tr>\n",
       "      <th>2</th>\n",
       "      <td>2016-04-28</td>\n",
       "      <td>896839</td>\n",
       "      <td>N</td>\n",
       "      <td>ES</td>\n",
       "      <td>V</td>\n",
       "      <td>39</td>\n",
       "      <td>2010-11-12</td>\n",
       "      <td>0.0</td>\n",
       "      <td>65</td>\n",
       "      <td>1.0</td>\n",
       "      <td>...</td>\n",
       "      <td>0</td>\n",
       "      <td>0</td>\n",
       "      <td>0</td>\n",
       "      <td>0</td>\n",
       "      <td>0</td>\n",
       "      <td>0</td>\n",
       "      <td>0</td>\n",
       "      <td>0.0</td>\n",
       "      <td>0.0</td>\n",
       "      <td>0</td>\n",
       "    </tr>\n",
       "  </tbody>\n",
       "</table>\n",
       "<p>3 rows × 48 columns</p>\n",
       "</div>"
      ],
      "text/plain": [
       "   fecha_dato  ncodpers ind_empleado pais_residencia sexo age  fecha_alta  \\\n",
       "0  2016-04-28    896836            N              ES    H  72  2010-11-12   \n",
       "1  2016-04-28    896837            N              ES    H  57  2010-11-12   \n",
       "2  2016-04-28    896839            N              ES    V  39  2010-11-12   \n",
       "\n",
       "   ind_nuevo antiguedad  indrel  ... ind_hip_fin_ult1 ind_plan_fin_ult1  \\\n",
       "0        0.0         65     1.0  ...                0                 0   \n",
       "1        0.0         65     1.0  ...                0                 0   \n",
       "2        0.0         65     1.0  ...                0                 0   \n",
       "\n",
       "  ind_pres_fin_ult1 ind_reca_fin_ult1 ind_tjcr_fin_ult1 ind_valo_fin_ult1  \\\n",
       "0                 0                 0                 0                 0   \n",
       "1                 0                 0                 0                 0   \n",
       "2                 0                 0                 0                 0   \n",
       "\n",
       "  ind_viv_fin_ult1 ind_nomina_ult1  ind_nom_pens_ult1  ind_recibo_ult1  \n",
       "0                0             0.0                0.0                0  \n",
       "1                0             0.0                0.0                0  \n",
       "2                0             0.0                0.0                0  \n",
       "\n",
       "[3 rows x 48 columns]"
      ]
     },
     "execution_count": 12,
     "metadata": {},
     "output_type": "execute_result"
    }
   ],
   "source": [
    "data1.head(3)"
   ]
  },
  {
   "cell_type": "raw",
   "id": "e395494e-9767-44d2-b579-02daf53fd2fc",
   "metadata": {
    "tags": []
   },
   "source": [
    "# 기존\n",
    "data1 = data1.drop(['fecha_dato', 'ncodpers','ind_empleado','pais_residencia','fecha_alta','ind_nuevo','indrel','ult_fec_cli_1t',\\\n",
    "                    'conyuemp','canal_entrada','indfall','tipodom','cod_prov','nomprov','ind_actividad_cliente',\\\n",
    "                    'ind_aval_fin_ult1','ind_ctma_fin_ult1','ind_ctop_fin_ult1',\\\n",
    "                    'ind_ctpp_fin_ult1','ind_ecue_fin_ult1','ind_hip_fin_ult1',\\\n",
    "                    'ind_reca_fin_ult1','ind_viv_fin_ult1','ind_nomina_ult1','ind_nom_pens_ult1','ind_recibo_ult1',\\\n",
    "                    'ind_cco_fin_ult1','ind_cder_fin_ult1',\"antiguedad\",'indrel_1mes','tiprel_1mes'], axis=1)"
   ]
  },
  {
   "cell_type": "code",
   "execution_count": 13,
   "id": "363e0f97-d516-4f47-b330-7de3f213ed72",
   "metadata": {},
   "outputs": [],
   "source": [
    "# 기존\n",
    "data1 = data1.drop(['fecha_dato', 'ncodpers','ind_empleado','pais_residencia','fecha_alta','ind_nuevo','indrel','ult_fec_cli_1t',\\\n",
    "                    'conyuemp','canal_entrada','indfall','tipodom','cod_prov','nomprov','ind_actividad_cliente',\\\n",
    "                    'ind_aval_fin_ult1','ind_ctma_fin_ult1','ind_ctop_fin_ult1',\\\n",
    "                    'ind_ctpp_fin_ult1','ind_ecue_fin_ult1','ind_hip_fin_ult1',\\\n",
    "                    'ind_reca_fin_ult1','ind_viv_fin_ult1','ind_nomina_ult1','ind_nom_pens_ult1','ind_recibo_ult1',\\\n",
    "                    'ind_cco_fin_ult1','ind_cder_fin_ult1',\"antiguedad\",'indrel_1mes','tiprel_1mes',\\\n",
    "                    'ind_deco_fin_ult1','ind_deme_fin_ult1','ind_ahor_fin_ult1','ind_plan_fin_ult1','ind_pres_fin_ult1'], axis=1)"
   ]
  },
  {
   "cell_type": "code",
   "execution_count": 14,
   "id": "4e4657e1-e27a-41fd-937b-92265cc415c1",
   "metadata": {},
   "outputs": [],
   "source": [
    "# label이 될 컬럼을 상품명으로 변경\n",
    "\n",
    "\n",
    "\n",
    "# data1.loc[data1['ind_deco_fin_ult1'] == 1, 'ind_deco_fin_ult1'] = '단기예금'\n",
    "# data1.loc[data1['ind_deme_fin_ult1'] == 1, 'ind_deme_fin_ult1'] = '중기예금'\n",
    "data1.loc[data1['ind_dela_fin_ult1'] == 1, 'ind_dela_fin_ult1'] = '예금'\n",
    "# data1.loc[data1['ind_ahor_fin_ult1'] == 1, 'ind_ahor_fin_ult1'] = '저축계좌'\n",
    "data1.loc[data1['ind_cno_fin_ult1'] == 1, 'ind_cno_fin_ult1'] = '급여계좌'\n",
    "data1.loc[data1['ind_ctju_fin_ult1'] == 1, 'ind_ctju_fin_ult1'] = '주니어계좌'\n",
    "data1.loc[data1['ind_fond_fin_ult1'] == 1, 'ind_fond_fin_ult1'] = '펀드계좌'\n",
    "# data1.loc[data1['ind_plan_fin_ult1'] == 1, 'ind_plan_fin_ult1'] = '연금'\n",
    "# data1.loc[data1['ind_pres_fin_ult1'] == 1, 'ind_pres_fin_ult1'] = '대출'\n",
    "data1.loc[data1['ind_tjcr_fin_ult1'] == 1, 'ind_tjcr_fin_ult1'] = '신용카드'\n",
    "data1.loc[data1['ind_valo_fin_ult1'] == 1, 'ind_valo_fin_ult1'] = '증권'"
   ]
  },
  {
   "cell_type": "raw",
   "id": "d1ef82d6-5f6b-4645-b40d-d7faa62dd81e",
   "metadata": {},
   "source": [
    "data1 = data1.dropna()"
   ]
  },
  {
   "cell_type": "code",
   "execution_count": 15,
   "id": "cfb06ed2-30eb-42eb-acba-1e8d84e10952",
   "metadata": {},
   "outputs": [],
   "source": [
    "oneStepDf = data1.copy()"
   ]
  },
  {
   "cell_type": "code",
   "execution_count": 16,
   "id": "49568224-198a-447d-92db-d2446f66ffaa",
   "metadata": {},
   "outputs": [
    {
     "data": {
      "text/html": [
       "<div>\n",
       "<style scoped>\n",
       "    .dataframe tbody tr th:only-of-type {\n",
       "        vertical-align: middle;\n",
       "    }\n",
       "\n",
       "    .dataframe tbody tr th {\n",
       "        vertical-align: top;\n",
       "    }\n",
       "\n",
       "    .dataframe thead th {\n",
       "        text-align: right;\n",
       "    }\n",
       "</style>\n",
       "<table border=\"1\" class=\"dataframe\">\n",
       "  <thead>\n",
       "    <tr style=\"text-align: right;\">\n",
       "      <th></th>\n",
       "      <th>sexo</th>\n",
       "      <th>age</th>\n",
       "      <th>indresi</th>\n",
       "      <th>indext</th>\n",
       "      <th>renta</th>\n",
       "      <th>segmento</th>\n",
       "      <th>ind_cno_fin_ult1</th>\n",
       "      <th>ind_ctju_fin_ult1</th>\n",
       "      <th>ind_dela_fin_ult1</th>\n",
       "      <th>ind_fond_fin_ult1</th>\n",
       "      <th>ind_tjcr_fin_ult1</th>\n",
       "      <th>ind_valo_fin_ult1</th>\n",
       "    </tr>\n",
       "  </thead>\n",
       "  <tbody>\n",
       "    <tr>\n",
       "      <th>0</th>\n",
       "      <td>H</td>\n",
       "      <td>72</td>\n",
       "      <td>S</td>\n",
       "      <td>N</td>\n",
       "      <td>315824.52</td>\n",
       "      <td>02 - PARTICULARES</td>\n",
       "      <td>0</td>\n",
       "      <td>0</td>\n",
       "      <td>0</td>\n",
       "      <td>0</td>\n",
       "      <td>0</td>\n",
       "      <td>0</td>\n",
       "    </tr>\n",
       "    <tr>\n",
       "      <th>1</th>\n",
       "      <td>H</td>\n",
       "      <td>57</td>\n",
       "      <td>S</td>\n",
       "      <td>N</td>\n",
       "      <td>NaN</td>\n",
       "      <td>02 - PARTICULARES</td>\n",
       "      <td>0</td>\n",
       "      <td>0</td>\n",
       "      <td>0</td>\n",
       "      <td>0</td>\n",
       "      <td>0</td>\n",
       "      <td>0</td>\n",
       "    </tr>\n",
       "    <tr>\n",
       "      <th>2</th>\n",
       "      <td>V</td>\n",
       "      <td>39</td>\n",
       "      <td>S</td>\n",
       "      <td>N</td>\n",
       "      <td>46618.47</td>\n",
       "      <td>02 - PARTICULARES</td>\n",
       "      <td>0</td>\n",
       "      <td>0</td>\n",
       "      <td>0</td>\n",
       "      <td>0</td>\n",
       "      <td>0</td>\n",
       "      <td>0</td>\n",
       "    </tr>\n",
       "    <tr>\n",
       "      <th>3</th>\n",
       "      <td>H</td>\n",
       "      <td>71</td>\n",
       "      <td>S</td>\n",
       "      <td>N</td>\n",
       "      <td>205204.11</td>\n",
       "      <td>02 - PARTICULARES</td>\n",
       "      <td>0</td>\n",
       "      <td>0</td>\n",
       "      <td>0</td>\n",
       "      <td>0</td>\n",
       "      <td>0</td>\n",
       "      <td>0</td>\n",
       "    </tr>\n",
       "    <tr>\n",
       "      <th>4</th>\n",
       "      <td>V</td>\n",
       "      <td>25</td>\n",
       "      <td>S</td>\n",
       "      <td>N</td>\n",
       "      <td>100300.17</td>\n",
       "      <td>03 - UNIVERSITARIO</td>\n",
       "      <td>급여계좌</td>\n",
       "      <td>0</td>\n",
       "      <td>0</td>\n",
       "      <td>0</td>\n",
       "      <td>신용카드</td>\n",
       "      <td>0</td>\n",
       "    </tr>\n",
       "    <tr>\n",
       "      <th>...</th>\n",
       "      <td>...</td>\n",
       "      <td>...</td>\n",
       "      <td>...</td>\n",
       "      <td>...</td>\n",
       "      <td>...</td>\n",
       "      <td>...</td>\n",
       "      <td>...</td>\n",
       "      <td>...</td>\n",
       "      <td>...</td>\n",
       "      <td>...</td>\n",
       "      <td>...</td>\n",
       "      <td>...</td>\n",
       "    </tr>\n",
       "    <tr>\n",
       "      <th>2784798</th>\n",
       "      <td>V</td>\n",
       "      <td>23</td>\n",
       "      <td>S</td>\n",
       "      <td>N</td>\n",
       "      <td>86176.89</td>\n",
       "      <td>03 - UNIVERSITARIO</td>\n",
       "      <td>0</td>\n",
       "      <td>0</td>\n",
       "      <td>0</td>\n",
       "      <td>0</td>\n",
       "      <td>0</td>\n",
       "      <td>0</td>\n",
       "    </tr>\n",
       "    <tr>\n",
       "      <th>2784799</th>\n",
       "      <td>H</td>\n",
       "      <td>23</td>\n",
       "      <td>S</td>\n",
       "      <td>N</td>\n",
       "      <td>171354.90</td>\n",
       "      <td>03 - UNIVERSITARIO</td>\n",
       "      <td>0</td>\n",
       "      <td>0</td>\n",
       "      <td>0</td>\n",
       "      <td>0</td>\n",
       "      <td>0</td>\n",
       "      <td>0</td>\n",
       "    </tr>\n",
       "    <tr>\n",
       "      <th>2784800</th>\n",
       "      <td>V</td>\n",
       "      <td>23</td>\n",
       "      <td>S</td>\n",
       "      <td>N</td>\n",
       "      <td>119612.49</td>\n",
       "      <td>03 - UNIVERSITARIO</td>\n",
       "      <td>0</td>\n",
       "      <td>0</td>\n",
       "      <td>0</td>\n",
       "      <td>0</td>\n",
       "      <td>0</td>\n",
       "      <td>0</td>\n",
       "    </tr>\n",
       "    <tr>\n",
       "      <th>2784801</th>\n",
       "      <td>V</td>\n",
       "      <td>23</td>\n",
       "      <td>S</td>\n",
       "      <td>N</td>\n",
       "      <td>275829.48</td>\n",
       "      <td>03 - UNIVERSITARIO</td>\n",
       "      <td>0</td>\n",
       "      <td>0</td>\n",
       "      <td>0</td>\n",
       "      <td>0</td>\n",
       "      <td>0</td>\n",
       "      <td>0</td>\n",
       "    </tr>\n",
       "    <tr>\n",
       "      <th>2784802</th>\n",
       "      <td>H</td>\n",
       "      <td>26</td>\n",
       "      <td>S</td>\n",
       "      <td>S</td>\n",
       "      <td>18151.14</td>\n",
       "      <td>03 - UNIVERSITARIO</td>\n",
       "      <td>0</td>\n",
       "      <td>0</td>\n",
       "      <td>0</td>\n",
       "      <td>0</td>\n",
       "      <td>0</td>\n",
       "      <td>0</td>\n",
       "    </tr>\n",
       "  </tbody>\n",
       "</table>\n",
       "<p>2784803 rows × 12 columns</p>\n",
       "</div>"
      ],
      "text/plain": [
       "        sexo age indresi indext      renta            segmento  \\\n",
       "0          H  72       S      N  315824.52   02 - PARTICULARES   \n",
       "1          H  57       S      N        NaN   02 - PARTICULARES   \n",
       "2          V  39       S      N   46618.47   02 - PARTICULARES   \n",
       "3          H  71       S      N  205204.11   02 - PARTICULARES   \n",
       "4          V  25       S      N  100300.17  03 - UNIVERSITARIO   \n",
       "...      ...  ..     ...    ...        ...                 ...   \n",
       "2784798    V  23       S      N   86176.89  03 - UNIVERSITARIO   \n",
       "2784799    H  23       S      N  171354.90  03 - UNIVERSITARIO   \n",
       "2784800    V  23       S      N  119612.49  03 - UNIVERSITARIO   \n",
       "2784801    V  23       S      N  275829.48  03 - UNIVERSITARIO   \n",
       "2784802    H  26       S      S   18151.14  03 - UNIVERSITARIO   \n",
       "\n",
       "        ind_cno_fin_ult1 ind_ctju_fin_ult1 ind_dela_fin_ult1  \\\n",
       "0                      0                 0                 0   \n",
       "1                      0                 0                 0   \n",
       "2                      0                 0                 0   \n",
       "3                      0                 0                 0   \n",
       "4                   급여계좌                 0                 0   \n",
       "...                  ...               ...               ...   \n",
       "2784798                0                 0                 0   \n",
       "2784799                0                 0                 0   \n",
       "2784800                0                 0                 0   \n",
       "2784801                0                 0                 0   \n",
       "2784802                0                 0                 0   \n",
       "\n",
       "        ind_fond_fin_ult1 ind_tjcr_fin_ult1 ind_valo_fin_ult1  \n",
       "0                       0                 0                 0  \n",
       "1                       0                 0                 0  \n",
       "2                       0                 0                 0  \n",
       "3                       0                 0                 0  \n",
       "4                       0              신용카드                 0  \n",
       "...                   ...               ...               ...  \n",
       "2784798                 0                 0                 0  \n",
       "2784799                 0                 0                 0  \n",
       "2784800                 0                 0                 0  \n",
       "2784801                 0                 0                 0  \n",
       "2784802                 0                 0                 0  \n",
       "\n",
       "[2784803 rows x 12 columns]"
      ]
     },
     "execution_count": 16,
     "metadata": {},
     "output_type": "execute_result"
    }
   ],
   "source": [
    "oneStepDf"
   ]
  },
  {
   "cell_type": "markdown",
   "id": "12fcf8ff-9c38-4ea3-83be-fe8d7a6e69dd",
   "metadata": {
    "tags": []
   },
   "source": [
    "# 칼럼 처리"
   ]
  },
  {
   "cell_type": "markdown",
   "id": "ee745a05-a739-466f-a112-0f456acb0034",
   "metadata": {},
   "source": [
    "### 총소득"
   ]
  },
  {
   "cell_type": "raw",
   "id": "83f14d66-3b89-47b2-9b46-8e82d17f3cfd",
   "metadata": {},
   "source": [
    "r1 = len(oneStepDf.loc[oneStepDf[\"renta\"] < 25000])\n",
    "rate1 = r1\n",
    "rate1"
   ]
  },
  {
   "cell_type": "raw",
   "id": "4ba4d17e-3b5a-4dec-8b04-4b2cb9db0aad",
   "metadata": {},
   "source": [
    "r2 = len(oneStepDf.loc[oneStepDf[\"renta\"] < 50000])\n",
    "rate2 = r2 - r1\n",
    "rate2"
   ]
  },
  {
   "cell_type": "raw",
   "id": "a6bcb5b9-e34a-4c99-a0c8-5b277e80e083",
   "metadata": {},
   "source": [
    "r3 = len(oneStepDf.loc[oneStepDf[\"renta\"] < 75000])\n",
    "rate3 = r3 - r2\n",
    "rate3"
   ]
  },
  {
   "cell_type": "raw",
   "id": "5ec774db-23db-4924-8d87-08f588887db1",
   "metadata": {},
   "source": [
    "r4 = len(oneStepDf.loc[oneStepDf[\"renta\"] < 100000])\n",
    "rate4 = r4 - r3\n",
    "rate4"
   ]
  },
  {
   "cell_type": "raw",
   "id": "3eeecd16-b0ce-452b-b297-767322ded9b9",
   "metadata": {},
   "source": [
    "rate5 = len(oneStepDf.loc[oneStepDf[\"renta\"] > 100000])\n",
    "rate5"
   ]
  },
  {
   "cell_type": "raw",
   "id": "26e0aa18-b6b0-483d-a55e-f54f5e6cc0ef",
   "metadata": {},
   "source": [
    "len(oneStepDf.renta) - (rate1 + rate2 + rate3 + rate4 + rate5)"
   ]
  },
  {
   "cell_type": "code",
   "execution_count": 17,
   "id": "2621ef49-b55e-4ae3-a734-6c41bdaa213a",
   "metadata": {},
   "outputs": [],
   "source": [
    "oneStepDf[\"renta\"] = oneStepDf[\"renta\"].fillna(25000)"
   ]
  },
  {
   "cell_type": "code",
   "execution_count": 18,
   "id": "fc1395fe-26e1-474a-9e20-2c4a02294a28",
   "metadata": {
    "tags": []
   },
   "outputs": [],
   "source": [
    "oneStepDf[\"renta\"] = oneStepDf[\"renta\"].astype(int)"
   ]
  },
  {
   "cell_type": "code",
   "execution_count": 19,
   "id": "982c676b-3bc9-4c91-813b-6b5c63c3d57a",
   "metadata": {},
   "outputs": [],
   "source": [
    "oneStepDf[\"renta\"] = np.where(oneStepDf.renta <= 25000,1, # 2만5천\n",
    "                     np.where(oneStepDf.renta <= 50000,2, # 5만\n",
    "                     np.where(oneStepDf.renta <= 75000,3, # 7만5천\n",
    "                     np.where(oneStepDf.renta <= 100000,4,5)))) #10만, 나머지 5로 분류"
   ]
  },
  {
   "cell_type": "code",
   "execution_count": 20,
   "id": "2e27a7a2-46cc-4104-9acb-edcfe8b34e5b",
   "metadata": {},
   "outputs": [
    {
     "data": {
      "text/plain": [
       "0     5\n",
       "1     1\n",
       "2     2\n",
       "7     3\n",
       "13    4\n",
       "Name: renta, dtype: int32"
      ]
     },
     "execution_count": 20,
     "metadata": {},
     "output_type": "execute_result"
    }
   ],
   "source": [
    "oneStepDf[\"renta\"].drop_duplicates()"
   ]
  },
  {
   "cell_type": "markdown",
   "id": "d5b2c2a0-3a8b-4a5e-b655-a0e138452e59",
   "metadata": {},
   "source": [
    "### 나이"
   ]
  },
  {
   "cell_type": "code",
   "execution_count": 21,
   "id": "b1818567-4425-471f-a295-6924f9dbb85f",
   "metadata": {},
   "outputs": [],
   "source": [
    "oneStepDf[\"age\"] = oneStepDf[\"age\"].astype(int)"
   ]
  },
  {
   "cell_type": "code",
   "execution_count": 22,
   "id": "1e8f194b-d0a7-49a3-924d-7398224aafbc",
   "metadata": {},
   "outputs": [
    {
     "name": "stdout",
     "output_type": "stream",
     "text": [
      "164\n",
      "2\n"
     ]
    }
   ],
   "source": [
    "print(max(oneStepDf[\"age\"]))\n",
    "print(min(oneStepDf[\"age\"]))"
   ]
  },
  {
   "cell_type": "raw",
   "id": "2f09c117-8124-4336-9ce1-35d5f41e00f4",
   "metadata": {},
   "source": [
    "# 정확도 1% 하락\n",
    "oneStepDf[\"age\"] = np.where(oneStepDf.age<=19,1, #미성년\n",
    "                   np.where(oneStepDf.age<=49,2, #청년\n",
    "                   np.where(oneStepDf.age<=79,3, #중년\n",
    "                   np.where(oneStepDf.age<=89,4, 5 #장년"
   ]
  },
  {
   "cell_type": "code",
   "execution_count": 23,
   "id": "bc08b95d-bc88-4128-ad86-bcd8018bb1f3",
   "metadata": {},
   "outputs": [],
   "source": [
    "oneStepDf[\"age\"] = np.where(oneStepDf.age<=9,0,\n",
    "                   np.where(oneStepDf.age<=19,1,\n",
    "                   np.where(oneStepDf.age<=29,2,\n",
    "                   np.where(oneStepDf.age<=39,3,\n",
    "                   np.where(oneStepDf.age<=49,4,\n",
    "                   np.where(oneStepDf.age<=59,5,\n",
    "                   np.where(oneStepDf.age<=69,6,\n",
    "                   np.where(oneStepDf.age<=79,7,\n",
    "                   np.where(oneStepDf.age<=89,8,\n",
    "                   np.where(oneStepDf.age<=99,9,10))))))))))"
   ]
  },
  {
   "cell_type": "code",
   "execution_count": 24,
   "id": "b800af8f-9ad1-4d4f-9af4-6e2bcd2cbf71",
   "metadata": {},
   "outputs": [
    {
     "data": {
      "text/plain": [
       "0          7\n",
       "1          5\n",
       "2          3\n",
       "3          7\n",
       "4          2\n",
       "          ..\n",
       "2784798    2\n",
       "2784799    2\n",
       "2784800    2\n",
       "2784801    2\n",
       "2784802    2\n",
       "Name: age, Length: 2784803, dtype: int32"
      ]
     },
     "execution_count": 24,
     "metadata": {},
     "output_type": "execute_result"
    }
   ],
   "source": [
    "oneStepDf[\"age\"]"
   ]
  },
  {
   "cell_type": "markdown",
   "id": "bb69798e-1ecb-4f95-8da9-32ba208401a9",
   "metadata": {},
   "source": [
    "### 성별"
   ]
  },
  {
   "cell_type": "code",
   "execution_count": 25,
   "id": "b1ebcfc3-889e-4a50-9c22-aec612d8d2dd",
   "metadata": {},
   "outputs": [
    {
     "data": {
      "text/plain": [
       "0           H\n",
       "2           V\n",
       "302702    NaN\n",
       "Name: sexo, dtype: object"
      ]
     },
     "execution_count": 25,
     "metadata": {},
     "output_type": "execute_result"
    }
   ],
   "source": [
    "oneStepDf.sexo.drop_duplicates()"
   ]
  },
  {
   "cell_type": "code",
   "execution_count": 26,
   "id": "85105738-8f31-4b8f-9ba0-5cf5d1efbb72",
   "metadata": {},
   "outputs": [],
   "source": [
    "dict = {\"V\":0, \"H\":1}\n",
    "\n",
    "oneStepDf.sexo = oneStepDf.sexo.str.upper()\n",
    "oneStepDf.sexo = oneStepDf.sexo.map(dict)"
   ]
  },
  {
   "cell_type": "raw",
   "id": "7959f2fc-2b32-4789-a869-30cbc1f0d663",
   "metadata": {},
   "source": [
    "r1 = len(oneStepDf.loc[oneStepDf.sexo == 1.0])\n",
    "r1"
   ]
  },
  {
   "cell_type": "raw",
   "id": "cb29c4f3-3556-41bb-9e6f-cacf4f6605b7",
   "metadata": {},
   "source": [
    "r2 = len(oneStepDf.loc[oneStepDf.sexo == 0])\n",
    "r2"
   ]
  },
  {
   "cell_type": "raw",
   "id": "eb14fa3a-7074-4111-81b0-104edbbc2d63",
   "metadata": {},
   "source": [
    "len(oneStepDf.sexo) - (r1+r2)"
   ]
  },
  {
   "cell_type": "code",
   "execution_count": 27,
   "id": "3337df40-5e6e-4bce-8ee7-07975087f503",
   "metadata": {},
   "outputs": [],
   "source": [
    "oneStepDf.sexo = oneStepDf.sexo.fillna(1)"
   ]
  },
  {
   "cell_type": "raw",
   "id": "991a5d44-e639-4890-9062-953d54df9709",
   "metadata": {},
   "source": [
    "oneStepDf.sexo = np.where(oneStepDf.sexo=='H', \"1\", \"0\")"
   ]
  },
  {
   "cell_type": "code",
   "execution_count": 28,
   "id": "3155fd19-b067-42aa-8d55-fc15294b414d",
   "metadata": {},
   "outputs": [],
   "source": [
    "oneStepDf.sexo = oneStepDf.sexo.astype(int)"
   ]
  },
  {
   "cell_type": "code",
   "execution_count": 29,
   "id": "19f23d32-3a76-462d-bf4c-d903d8e78138",
   "metadata": {},
   "outputs": [
    {
     "data": {
      "text/plain": [
       "dtype('int32')"
      ]
     },
     "execution_count": 29,
     "metadata": {},
     "output_type": "execute_result"
    }
   ],
   "source": [
    "oneStepDf.sexo.dtype"
   ]
  },
  {
   "cell_type": "code",
   "execution_count": 30,
   "id": "883ee8d1-c566-486f-bf96-cdf98f713616",
   "metadata": {},
   "outputs": [
    {
     "data": {
      "text/html": [
       "<div>\n",
       "<style scoped>\n",
       "    .dataframe tbody tr th:only-of-type {\n",
       "        vertical-align: middle;\n",
       "    }\n",
       "\n",
       "    .dataframe tbody tr th {\n",
       "        vertical-align: top;\n",
       "    }\n",
       "\n",
       "    .dataframe thead th {\n",
       "        text-align: right;\n",
       "    }\n",
       "</style>\n",
       "<table border=\"1\" class=\"dataframe\">\n",
       "  <thead>\n",
       "    <tr style=\"text-align: right;\">\n",
       "      <th></th>\n",
       "      <th>sexo</th>\n",
       "      <th>age</th>\n",
       "      <th>indresi</th>\n",
       "      <th>indext</th>\n",
       "      <th>renta</th>\n",
       "      <th>segmento</th>\n",
       "      <th>ind_cno_fin_ult1</th>\n",
       "      <th>ind_ctju_fin_ult1</th>\n",
       "      <th>ind_dela_fin_ult1</th>\n",
       "      <th>ind_fond_fin_ult1</th>\n",
       "      <th>ind_tjcr_fin_ult1</th>\n",
       "      <th>ind_valo_fin_ult1</th>\n",
       "    </tr>\n",
       "  </thead>\n",
       "  <tbody>\n",
       "    <tr>\n",
       "      <th>0</th>\n",
       "      <td>1</td>\n",
       "      <td>7</td>\n",
       "      <td>S</td>\n",
       "      <td>N</td>\n",
       "      <td>5</td>\n",
       "      <td>02 - PARTICULARES</td>\n",
       "      <td>0</td>\n",
       "      <td>0</td>\n",
       "      <td>0</td>\n",
       "      <td>0</td>\n",
       "      <td>0</td>\n",
       "      <td>0</td>\n",
       "    </tr>\n",
       "    <tr>\n",
       "      <th>1</th>\n",
       "      <td>1</td>\n",
       "      <td>5</td>\n",
       "      <td>S</td>\n",
       "      <td>N</td>\n",
       "      <td>1</td>\n",
       "      <td>02 - PARTICULARES</td>\n",
       "      <td>0</td>\n",
       "      <td>0</td>\n",
       "      <td>0</td>\n",
       "      <td>0</td>\n",
       "      <td>0</td>\n",
       "      <td>0</td>\n",
       "    </tr>\n",
       "    <tr>\n",
       "      <th>2</th>\n",
       "      <td>0</td>\n",
       "      <td>3</td>\n",
       "      <td>S</td>\n",
       "      <td>N</td>\n",
       "      <td>2</td>\n",
       "      <td>02 - PARTICULARES</td>\n",
       "      <td>0</td>\n",
       "      <td>0</td>\n",
       "      <td>0</td>\n",
       "      <td>0</td>\n",
       "      <td>0</td>\n",
       "      <td>0</td>\n",
       "    </tr>\n",
       "    <tr>\n",
       "      <th>3</th>\n",
       "      <td>1</td>\n",
       "      <td>7</td>\n",
       "      <td>S</td>\n",
       "      <td>N</td>\n",
       "      <td>5</td>\n",
       "      <td>02 - PARTICULARES</td>\n",
       "      <td>0</td>\n",
       "      <td>0</td>\n",
       "      <td>0</td>\n",
       "      <td>0</td>\n",
       "      <td>0</td>\n",
       "      <td>0</td>\n",
       "    </tr>\n",
       "    <tr>\n",
       "      <th>4</th>\n",
       "      <td>0</td>\n",
       "      <td>2</td>\n",
       "      <td>S</td>\n",
       "      <td>N</td>\n",
       "      <td>5</td>\n",
       "      <td>03 - UNIVERSITARIO</td>\n",
       "      <td>급여계좌</td>\n",
       "      <td>0</td>\n",
       "      <td>0</td>\n",
       "      <td>0</td>\n",
       "      <td>신용카드</td>\n",
       "      <td>0</td>\n",
       "    </tr>\n",
       "  </tbody>\n",
       "</table>\n",
       "</div>"
      ],
      "text/plain": [
       "   sexo  age indresi indext  renta            segmento ind_cno_fin_ult1  \\\n",
       "0     1    7       S      N      5   02 - PARTICULARES                0   \n",
       "1     1    5       S      N      1   02 - PARTICULARES                0   \n",
       "2     0    3       S      N      2   02 - PARTICULARES                0   \n",
       "3     1    7       S      N      5   02 - PARTICULARES                0   \n",
       "4     0    2       S      N      5  03 - UNIVERSITARIO             급여계좌   \n",
       "\n",
       "  ind_ctju_fin_ult1 ind_dela_fin_ult1 ind_fond_fin_ult1 ind_tjcr_fin_ult1  \\\n",
       "0                 0                 0                 0                 0   \n",
       "1                 0                 0                 0                 0   \n",
       "2                 0                 0                 0                 0   \n",
       "3                 0                 0                 0                 0   \n",
       "4                 0                 0                 0              신용카드   \n",
       "\n",
       "  ind_valo_fin_ult1  \n",
       "0                 0  \n",
       "1                 0  \n",
       "2                 0  \n",
       "3                 0  \n",
       "4                 0  "
      ]
     },
     "execution_count": 30,
     "metadata": {},
     "output_type": "execute_result"
    }
   ],
   "source": [
    "oneStepDf.head()"
   ]
  },
  {
   "cell_type": "markdown",
   "id": "b3f7eb9f-891b-4ea2-89a3-bb564ab194d3",
   "metadata": {
    "tags": []
   },
   "source": [
    "### 거주지 지수"
   ]
  },
  {
   "cell_type": "code",
   "execution_count": 31,
   "id": "1fa44371-c6d0-4e53-9db1-a2a29838e4f1",
   "metadata": {},
   "outputs": [],
   "source": [
    "dict = {\"N\":0, \"S\":1}\n",
    "\n",
    "oneStepDf.indresi = oneStepDf.indresi.str.upper()\n",
    "oneStepDf.indresi = oneStepDf.indresi.map(dict)"
   ]
  },
  {
   "cell_type": "code",
   "execution_count": 32,
   "id": "9c0c5bd5-3ce1-4076-87df-f56c8e5748d0",
   "metadata": {},
   "outputs": [
    {
     "data": {
      "text/plain": [
       "array([1, 0], dtype=int64)"
      ]
     },
     "execution_count": 32,
     "metadata": {},
     "output_type": "execute_result"
    }
   ],
   "source": [
    "oneStepDf.indresi.unique()"
   ]
  },
  {
   "cell_type": "markdown",
   "id": "3c2430c5-9e0b-4478-84d8-0f9a05415454",
   "metadata": {},
   "source": [
    "### 외국인 지수"
   ]
  },
  {
   "cell_type": "code",
   "execution_count": 33,
   "id": "33cbbfd5-c4b6-404c-a703-5e8faf59a1df",
   "metadata": {},
   "outputs": [],
   "source": [
    "dict = {\"N\":0, \"S\":1}\n",
    "\n",
    "oneStepDf.indext = oneStepDf.indext.str.upper()\n",
    "oneStepDf.indext = oneStepDf.indext.map(dict)"
   ]
  },
  {
   "cell_type": "code",
   "execution_count": 34,
   "id": "0d9df65e-8a2d-4aba-9554-28871cc8f983",
   "metadata": {},
   "outputs": [
    {
     "data": {
      "text/plain": [
       "array([0, 1], dtype=int64)"
      ]
     },
     "execution_count": 34,
     "metadata": {},
     "output_type": "execute_result"
    }
   ],
   "source": [
    "oneStepDf.indext.unique()"
   ]
  },
  {
   "cell_type": "markdown",
   "id": "67118381-1a31-4d74-940a-69dcc7441d51",
   "metadata": {},
   "source": [
    "### 고객 분류"
   ]
  },
  {
   "cell_type": "code",
   "execution_count": 35,
   "id": "83dcc68c-7fbd-4e27-b2a8-5489e6e9c76b",
   "metadata": {},
   "outputs": [
    {
     "data": {
      "text/plain": [
       "0       02 - PARTICULARES\n",
       "4      03 - UNIVERSITARIO\n",
       "5                01 - TOP\n",
       "922                   NaN\n",
       "Name: segmento, dtype: object"
      ]
     },
     "execution_count": 35,
     "metadata": {},
     "output_type": "execute_result"
    }
   ],
   "source": [
    "oneStepDf.segmento.drop_duplicates()"
   ]
  },
  {
   "cell_type": "code",
   "execution_count": 36,
   "id": "fb5326c6-a958-4037-a866-c4fc05f8d039",
   "metadata": {},
   "outputs": [],
   "source": [
    "oneStepDf.segmento = np.where(oneStepDf.segmento == '03 - UNIVERSITARIO', 0, \n",
    "                     np.where(oneStepDf.segmento == '01 - TOP', 1,\n",
    "                     np.where(oneStepDf.segmento == '02 - PARTICULARES', 1, oneStepDf.segmento)))"
   ]
  },
  {
   "cell_type": "code",
   "execution_count": 37,
   "id": "2a15706e-3968-41b5-8840-0bb4ec5fad4b",
   "metadata": {},
   "outputs": [
    {
     "data": {
      "text/plain": [
       "1040053"
      ]
     },
     "execution_count": 37,
     "metadata": {},
     "output_type": "execute_result"
    }
   ],
   "source": [
    "r1 = len(oneStepDf.loc[oneStepDf.segmento == 0])\n",
    "r1"
   ]
  },
  {
   "cell_type": "code",
   "execution_count": 38,
   "id": "f5057060-6543-473d-aa89-c76ec54df9b8",
   "metadata": {},
   "outputs": [
    {
     "data": {
      "text/plain": [
       "1722835"
      ]
     },
     "execution_count": 38,
     "metadata": {},
     "output_type": "execute_result"
    }
   ],
   "source": [
    "r2 = len(oneStepDf.loc[oneStepDf.segmento == 1])\n",
    "r2"
   ]
  },
  {
   "cell_type": "code",
   "execution_count": 39,
   "id": "772eb0cf-4d20-4c44-971d-ad4b3c50f520",
   "metadata": {},
   "outputs": [],
   "source": [
    "oneStepDf.segmento = oneStepDf.segmento.fillna(0)"
   ]
  },
  {
   "cell_type": "code",
   "execution_count": 40,
   "id": "b30d5533-04d7-4890-afda-3225943ed1d8",
   "metadata": {},
   "outputs": [],
   "source": [
    "oneStepDf.segmento = oneStepDf.segmento.astype(int)"
   ]
  },
  {
   "cell_type": "code",
   "execution_count": 41,
   "id": "424be881-03e5-4aff-b8aa-442e4715a45b",
   "metadata": {},
   "outputs": [
    {
     "data": {
      "text/plain": [
       "dtype('int32')"
      ]
     },
     "execution_count": 41,
     "metadata": {},
     "output_type": "execute_result"
    }
   ],
   "source": [
    "oneStepDf.segmento.dtype"
   ]
  },
  {
   "cell_type": "code",
   "execution_count": 42,
   "id": "4037f5d1-17d2-41c5-8730-5e2f38845901",
   "metadata": {},
   "outputs": [
    {
     "data": {
      "text/plain": [
       "sexo                  int32\n",
       "age                   int32\n",
       "indresi               int64\n",
       "indext                int64\n",
       "renta                 int32\n",
       "segmento              int32\n",
       "ind_cno_fin_ult1     object\n",
       "ind_ctju_fin_ult1    object\n",
       "ind_dela_fin_ult1    object\n",
       "ind_fond_fin_ult1    object\n",
       "ind_tjcr_fin_ult1    object\n",
       "ind_valo_fin_ult1    object\n",
       "dtype: object"
      ]
     },
     "execution_count": 42,
     "metadata": {},
     "output_type": "execute_result"
    }
   ],
   "source": [
    "oneStepDf.dtypes"
   ]
  },
  {
   "cell_type": "code",
   "execution_count": 43,
   "id": "76a69983-f00f-49f2-a164-bfd10aa790d7",
   "metadata": {},
   "outputs": [],
   "source": [
    "oneStepDf = oneStepDf.reset_index(drop=True)"
   ]
  },
  {
   "cell_type": "code",
   "execution_count": 44,
   "id": "6e271c67-517b-43aa-928b-88acabebf32d",
   "metadata": {},
   "outputs": [
    {
     "data": {
      "text/html": [
       "<div>\n",
       "<style scoped>\n",
       "    .dataframe tbody tr th:only-of-type {\n",
       "        vertical-align: middle;\n",
       "    }\n",
       "\n",
       "    .dataframe tbody tr th {\n",
       "        vertical-align: top;\n",
       "    }\n",
       "\n",
       "    .dataframe thead th {\n",
       "        text-align: right;\n",
       "    }\n",
       "</style>\n",
       "<table border=\"1\" class=\"dataframe\">\n",
       "  <thead>\n",
       "    <tr style=\"text-align: right;\">\n",
       "      <th></th>\n",
       "      <th>sexo</th>\n",
       "      <th>age</th>\n",
       "      <th>indresi</th>\n",
       "      <th>indext</th>\n",
       "      <th>renta</th>\n",
       "      <th>segmento</th>\n",
       "      <th>ind_cno_fin_ult1</th>\n",
       "      <th>ind_ctju_fin_ult1</th>\n",
       "      <th>ind_dela_fin_ult1</th>\n",
       "      <th>ind_fond_fin_ult1</th>\n",
       "      <th>ind_tjcr_fin_ult1</th>\n",
       "      <th>ind_valo_fin_ult1</th>\n",
       "    </tr>\n",
       "  </thead>\n",
       "  <tbody>\n",
       "    <tr>\n",
       "      <th>0</th>\n",
       "      <td>1</td>\n",
       "      <td>7</td>\n",
       "      <td>1</td>\n",
       "      <td>0</td>\n",
       "      <td>5</td>\n",
       "      <td>1</td>\n",
       "      <td>0</td>\n",
       "      <td>0</td>\n",
       "      <td>0</td>\n",
       "      <td>0</td>\n",
       "      <td>0</td>\n",
       "      <td>0</td>\n",
       "    </tr>\n",
       "    <tr>\n",
       "      <th>1</th>\n",
       "      <td>1</td>\n",
       "      <td>5</td>\n",
       "      <td>1</td>\n",
       "      <td>0</td>\n",
       "      <td>1</td>\n",
       "      <td>1</td>\n",
       "      <td>0</td>\n",
       "      <td>0</td>\n",
       "      <td>0</td>\n",
       "      <td>0</td>\n",
       "      <td>0</td>\n",
       "      <td>0</td>\n",
       "    </tr>\n",
       "    <tr>\n",
       "      <th>2</th>\n",
       "      <td>0</td>\n",
       "      <td>3</td>\n",
       "      <td>1</td>\n",
       "      <td>0</td>\n",
       "      <td>2</td>\n",
       "      <td>1</td>\n",
       "      <td>0</td>\n",
       "      <td>0</td>\n",
       "      <td>0</td>\n",
       "      <td>0</td>\n",
       "      <td>0</td>\n",
       "      <td>0</td>\n",
       "    </tr>\n",
       "    <tr>\n",
       "      <th>3</th>\n",
       "      <td>1</td>\n",
       "      <td>7</td>\n",
       "      <td>1</td>\n",
       "      <td>0</td>\n",
       "      <td>5</td>\n",
       "      <td>1</td>\n",
       "      <td>0</td>\n",
       "      <td>0</td>\n",
       "      <td>0</td>\n",
       "      <td>0</td>\n",
       "      <td>0</td>\n",
       "      <td>0</td>\n",
       "    </tr>\n",
       "    <tr>\n",
       "      <th>4</th>\n",
       "      <td>0</td>\n",
       "      <td>2</td>\n",
       "      <td>1</td>\n",
       "      <td>0</td>\n",
       "      <td>5</td>\n",
       "      <td>0</td>\n",
       "      <td>급여계좌</td>\n",
       "      <td>0</td>\n",
       "      <td>0</td>\n",
       "      <td>0</td>\n",
       "      <td>신용카드</td>\n",
       "      <td>0</td>\n",
       "    </tr>\n",
       "    <tr>\n",
       "      <th>...</th>\n",
       "      <td>...</td>\n",
       "      <td>...</td>\n",
       "      <td>...</td>\n",
       "      <td>...</td>\n",
       "      <td>...</td>\n",
       "      <td>...</td>\n",
       "      <td>...</td>\n",
       "      <td>...</td>\n",
       "      <td>...</td>\n",
       "      <td>...</td>\n",
       "      <td>...</td>\n",
       "      <td>...</td>\n",
       "    </tr>\n",
       "    <tr>\n",
       "      <th>2784798</th>\n",
       "      <td>0</td>\n",
       "      <td>2</td>\n",
       "      <td>1</td>\n",
       "      <td>0</td>\n",
       "      <td>4</td>\n",
       "      <td>0</td>\n",
       "      <td>0</td>\n",
       "      <td>0</td>\n",
       "      <td>0</td>\n",
       "      <td>0</td>\n",
       "      <td>0</td>\n",
       "      <td>0</td>\n",
       "    </tr>\n",
       "    <tr>\n",
       "      <th>2784799</th>\n",
       "      <td>1</td>\n",
       "      <td>2</td>\n",
       "      <td>1</td>\n",
       "      <td>0</td>\n",
       "      <td>5</td>\n",
       "      <td>0</td>\n",
       "      <td>0</td>\n",
       "      <td>0</td>\n",
       "      <td>0</td>\n",
       "      <td>0</td>\n",
       "      <td>0</td>\n",
       "      <td>0</td>\n",
       "    </tr>\n",
       "    <tr>\n",
       "      <th>2784800</th>\n",
       "      <td>0</td>\n",
       "      <td>2</td>\n",
       "      <td>1</td>\n",
       "      <td>0</td>\n",
       "      <td>5</td>\n",
       "      <td>0</td>\n",
       "      <td>0</td>\n",
       "      <td>0</td>\n",
       "      <td>0</td>\n",
       "      <td>0</td>\n",
       "      <td>0</td>\n",
       "      <td>0</td>\n",
       "    </tr>\n",
       "    <tr>\n",
       "      <th>2784801</th>\n",
       "      <td>0</td>\n",
       "      <td>2</td>\n",
       "      <td>1</td>\n",
       "      <td>0</td>\n",
       "      <td>5</td>\n",
       "      <td>0</td>\n",
       "      <td>0</td>\n",
       "      <td>0</td>\n",
       "      <td>0</td>\n",
       "      <td>0</td>\n",
       "      <td>0</td>\n",
       "      <td>0</td>\n",
       "    </tr>\n",
       "    <tr>\n",
       "      <th>2784802</th>\n",
       "      <td>1</td>\n",
       "      <td>2</td>\n",
       "      <td>1</td>\n",
       "      <td>1</td>\n",
       "      <td>1</td>\n",
       "      <td>0</td>\n",
       "      <td>0</td>\n",
       "      <td>0</td>\n",
       "      <td>0</td>\n",
       "      <td>0</td>\n",
       "      <td>0</td>\n",
       "      <td>0</td>\n",
       "    </tr>\n",
       "  </tbody>\n",
       "</table>\n",
       "<p>2784803 rows × 12 columns</p>\n",
       "</div>"
      ],
      "text/plain": [
       "         sexo  age  indresi  indext  renta  segmento ind_cno_fin_ult1  \\\n",
       "0           1    7        1       0      5         1                0   \n",
       "1           1    5        1       0      1         1                0   \n",
       "2           0    3        1       0      2         1                0   \n",
       "3           1    7        1       0      5         1                0   \n",
       "4           0    2        1       0      5         0             급여계좌   \n",
       "...       ...  ...      ...     ...    ...       ...              ...   \n",
       "2784798     0    2        1       0      4         0                0   \n",
       "2784799     1    2        1       0      5         0                0   \n",
       "2784800     0    2        1       0      5         0                0   \n",
       "2784801     0    2        1       0      5         0                0   \n",
       "2784802     1    2        1       1      1         0                0   \n",
       "\n",
       "        ind_ctju_fin_ult1 ind_dela_fin_ult1 ind_fond_fin_ult1  \\\n",
       "0                       0                 0                 0   \n",
       "1                       0                 0                 0   \n",
       "2                       0                 0                 0   \n",
       "3                       0                 0                 0   \n",
       "4                       0                 0                 0   \n",
       "...                   ...               ...               ...   \n",
       "2784798                 0                 0                 0   \n",
       "2784799                 0                 0                 0   \n",
       "2784800                 0                 0                 0   \n",
       "2784801                 0                 0                 0   \n",
       "2784802                 0                 0                 0   \n",
       "\n",
       "        ind_tjcr_fin_ult1 ind_valo_fin_ult1  \n",
       "0                       0                 0  \n",
       "1                       0                 0  \n",
       "2                       0                 0  \n",
       "3                       0                 0  \n",
       "4                    신용카드                 0  \n",
       "...                   ...               ...  \n",
       "2784798                 0                 0  \n",
       "2784799                 0                 0  \n",
       "2784800                 0                 0  \n",
       "2784801                 0                 0  \n",
       "2784802                 0                 0  \n",
       "\n",
       "[2784803 rows x 12 columns]"
      ]
     },
     "execution_count": 44,
     "metadata": {},
     "output_type": "execute_result"
    }
   ],
   "source": [
    "oneStepDf"
   ]
  },
  {
   "cell_type": "code",
   "execution_count": 45,
   "id": "93c27a22-1afc-4faf-a17f-698548ff5f75",
   "metadata": {},
   "outputs": [
    {
     "data": {
      "text/plain": [
       "Index(['sexo', 'age', 'indresi', 'indext', 'renta', 'segmento',\n",
       "       'ind_cno_fin_ult1', 'ind_ctju_fin_ult1', 'ind_dela_fin_ult1',\n",
       "       'ind_fond_fin_ult1', 'ind_tjcr_fin_ult1', 'ind_valo_fin_ult1'],\n",
       "      dtype='object')"
      ]
     },
     "execution_count": 45,
     "metadata": {},
     "output_type": "execute_result"
    }
   ],
   "source": [
    "oneStepDf.columns"
   ]
  },
  {
   "cell_type": "code",
   "execution_count": 46,
   "id": "f7eb5898-284b-4ef5-a076-98b087e180c6",
   "metadata": {},
   "outputs": [],
   "source": [
    "# 라벨부분 컬럼\n",
    "expandColumn = ['ind_cno_fin_ult1', 'ind_ctju_fin_ult1', 'ind_dela_fin_ult1',\\\n",
    "                'ind_fond_fin_ult1', 'ind_tjcr_fin_ult1', 'ind_valo_fin_ult1']"
   ]
  },
  {
   "cell_type": "code",
   "execution_count": 47,
   "id": "58286e8b-2962-4fac-b04d-2f7927e94e4c",
   "metadata": {},
   "outputs": [],
   "source": [
    "# 컬럼\n",
    "dataCol = ['sexo', 'age', 'indext', 'renta', 'segmento']"
   ]
  },
  {
   "cell_type": "code",
   "execution_count": 48,
   "id": "f728e989-9e01-4f10-8896-11977a96fd8e",
   "metadata": {},
   "outputs": [
    {
     "data": {
      "text/html": [
       "<div>\n",
       "<style scoped>\n",
       "    .dataframe tbody tr th:only-of-type {\n",
       "        vertical-align: middle;\n",
       "    }\n",
       "\n",
       "    .dataframe tbody tr th {\n",
       "        vertical-align: top;\n",
       "    }\n",
       "\n",
       "    .dataframe thead th {\n",
       "        text-align: right;\n",
       "    }\n",
       "</style>\n",
       "<table border=\"1\" class=\"dataframe\">\n",
       "  <thead>\n",
       "    <tr style=\"text-align: right;\">\n",
       "      <th></th>\n",
       "      <th>sexo</th>\n",
       "      <th>age</th>\n",
       "      <th>indresi</th>\n",
       "      <th>indext</th>\n",
       "      <th>renta</th>\n",
       "      <th>segmento</th>\n",
       "      <th>ind_cno_fin_ult1</th>\n",
       "      <th>ind_ctju_fin_ult1</th>\n",
       "      <th>ind_dela_fin_ult1</th>\n",
       "      <th>ind_fond_fin_ult1</th>\n",
       "      <th>ind_tjcr_fin_ult1</th>\n",
       "      <th>ind_valo_fin_ult1</th>\n",
       "    </tr>\n",
       "  </thead>\n",
       "  <tbody>\n",
       "    <tr>\n",
       "      <th>0</th>\n",
       "      <td>1</td>\n",
       "      <td>7</td>\n",
       "      <td>1</td>\n",
       "      <td>0</td>\n",
       "      <td>5</td>\n",
       "      <td>1</td>\n",
       "      <td>0</td>\n",
       "      <td>0</td>\n",
       "      <td>0</td>\n",
       "      <td>0</td>\n",
       "      <td>0</td>\n",
       "      <td>0</td>\n",
       "    </tr>\n",
       "    <tr>\n",
       "      <th>1</th>\n",
       "      <td>1</td>\n",
       "      <td>5</td>\n",
       "      <td>1</td>\n",
       "      <td>0</td>\n",
       "      <td>1</td>\n",
       "      <td>1</td>\n",
       "      <td>0</td>\n",
       "      <td>0</td>\n",
       "      <td>0</td>\n",
       "      <td>0</td>\n",
       "      <td>0</td>\n",
       "      <td>0</td>\n",
       "    </tr>\n",
       "    <tr>\n",
       "      <th>2</th>\n",
       "      <td>0</td>\n",
       "      <td>3</td>\n",
       "      <td>1</td>\n",
       "      <td>0</td>\n",
       "      <td>2</td>\n",
       "      <td>1</td>\n",
       "      <td>0</td>\n",
       "      <td>0</td>\n",
       "      <td>0</td>\n",
       "      <td>0</td>\n",
       "      <td>0</td>\n",
       "      <td>0</td>\n",
       "    </tr>\n",
       "    <tr>\n",
       "      <th>3</th>\n",
       "      <td>1</td>\n",
       "      <td>7</td>\n",
       "      <td>1</td>\n",
       "      <td>0</td>\n",
       "      <td>5</td>\n",
       "      <td>1</td>\n",
       "      <td>0</td>\n",
       "      <td>0</td>\n",
       "      <td>0</td>\n",
       "      <td>0</td>\n",
       "      <td>0</td>\n",
       "      <td>0</td>\n",
       "    </tr>\n",
       "    <tr>\n",
       "      <th>4</th>\n",
       "      <td>0</td>\n",
       "      <td>2</td>\n",
       "      <td>1</td>\n",
       "      <td>0</td>\n",
       "      <td>5</td>\n",
       "      <td>0</td>\n",
       "      <td>급여계좌</td>\n",
       "      <td>0</td>\n",
       "      <td>0</td>\n",
       "      <td>0</td>\n",
       "      <td>신용카드</td>\n",
       "      <td>0</td>\n",
       "    </tr>\n",
       "    <tr>\n",
       "      <th>...</th>\n",
       "      <td>...</td>\n",
       "      <td>...</td>\n",
       "      <td>...</td>\n",
       "      <td>...</td>\n",
       "      <td>...</td>\n",
       "      <td>...</td>\n",
       "      <td>...</td>\n",
       "      <td>...</td>\n",
       "      <td>...</td>\n",
       "      <td>...</td>\n",
       "      <td>...</td>\n",
       "      <td>...</td>\n",
       "    </tr>\n",
       "    <tr>\n",
       "      <th>2784798</th>\n",
       "      <td>0</td>\n",
       "      <td>2</td>\n",
       "      <td>1</td>\n",
       "      <td>0</td>\n",
       "      <td>4</td>\n",
       "      <td>0</td>\n",
       "      <td>0</td>\n",
       "      <td>0</td>\n",
       "      <td>0</td>\n",
       "      <td>0</td>\n",
       "      <td>0</td>\n",
       "      <td>0</td>\n",
       "    </tr>\n",
       "    <tr>\n",
       "      <th>2784799</th>\n",
       "      <td>1</td>\n",
       "      <td>2</td>\n",
       "      <td>1</td>\n",
       "      <td>0</td>\n",
       "      <td>5</td>\n",
       "      <td>0</td>\n",
       "      <td>0</td>\n",
       "      <td>0</td>\n",
       "      <td>0</td>\n",
       "      <td>0</td>\n",
       "      <td>0</td>\n",
       "      <td>0</td>\n",
       "    </tr>\n",
       "    <tr>\n",
       "      <th>2784800</th>\n",
       "      <td>0</td>\n",
       "      <td>2</td>\n",
       "      <td>1</td>\n",
       "      <td>0</td>\n",
       "      <td>5</td>\n",
       "      <td>0</td>\n",
       "      <td>0</td>\n",
       "      <td>0</td>\n",
       "      <td>0</td>\n",
       "      <td>0</td>\n",
       "      <td>0</td>\n",
       "      <td>0</td>\n",
       "    </tr>\n",
       "    <tr>\n",
       "      <th>2784801</th>\n",
       "      <td>0</td>\n",
       "      <td>2</td>\n",
       "      <td>1</td>\n",
       "      <td>0</td>\n",
       "      <td>5</td>\n",
       "      <td>0</td>\n",
       "      <td>0</td>\n",
       "      <td>0</td>\n",
       "      <td>0</td>\n",
       "      <td>0</td>\n",
       "      <td>0</td>\n",
       "      <td>0</td>\n",
       "    </tr>\n",
       "    <tr>\n",
       "      <th>2784802</th>\n",
       "      <td>1</td>\n",
       "      <td>2</td>\n",
       "      <td>1</td>\n",
       "      <td>1</td>\n",
       "      <td>1</td>\n",
       "      <td>0</td>\n",
       "      <td>0</td>\n",
       "      <td>0</td>\n",
       "      <td>0</td>\n",
       "      <td>0</td>\n",
       "      <td>0</td>\n",
       "      <td>0</td>\n",
       "    </tr>\n",
       "  </tbody>\n",
       "</table>\n",
       "<p>2784803 rows × 12 columns</p>\n",
       "</div>"
      ],
      "text/plain": [
       "         sexo  age  indresi  indext  renta  segmento ind_cno_fin_ult1  \\\n",
       "0           1    7        1       0      5         1                0   \n",
       "1           1    5        1       0      1         1                0   \n",
       "2           0    3        1       0      2         1                0   \n",
       "3           1    7        1       0      5         1                0   \n",
       "4           0    2        1       0      5         0             급여계좌   \n",
       "...       ...  ...      ...     ...    ...       ...              ...   \n",
       "2784798     0    2        1       0      4         0                0   \n",
       "2784799     1    2        1       0      5         0                0   \n",
       "2784800     0    2        1       0      5         0                0   \n",
       "2784801     0    2        1       0      5         0                0   \n",
       "2784802     1    2        1       1      1         0                0   \n",
       "\n",
       "        ind_ctju_fin_ult1 ind_dela_fin_ult1 ind_fond_fin_ult1  \\\n",
       "0                       0                 0                 0   \n",
       "1                       0                 0                 0   \n",
       "2                       0                 0                 0   \n",
       "3                       0                 0                 0   \n",
       "4                       0                 0                 0   \n",
       "...                   ...               ...               ...   \n",
       "2784798                 0                 0                 0   \n",
       "2784799                 0                 0                 0   \n",
       "2784800                 0                 0                 0   \n",
       "2784801                 0                 0                 0   \n",
       "2784802                 0                 0                 0   \n",
       "\n",
       "        ind_tjcr_fin_ult1 ind_valo_fin_ult1  \n",
       "0                       0                 0  \n",
       "1                       0                 0  \n",
       "2                       0                 0  \n",
       "3                       0                 0  \n",
       "4                    신용카드                 0  \n",
       "...                   ...               ...  \n",
       "2784798                 0                 0  \n",
       "2784799                 0                 0  \n",
       "2784800                 0                 0  \n",
       "2784801                 0                 0  \n",
       "2784802                 0                 0  \n",
       "\n",
       "[2784803 rows x 12 columns]"
      ]
     },
     "execution_count": 48,
     "metadata": {},
     "output_type": "execute_result"
    }
   ],
   "source": [
    "oneStepDf"
   ]
  },
  {
   "cell_type": "markdown",
   "id": "403bd643-33a7-4c30-8d13-bf57eb565c79",
   "metadata": {
    "tags": []
   },
   "source": [
    "### 11개 상품 1개의 컬럼으로 수정"
   ]
  },
  {
   "cell_type": "code",
   "execution_count": 49,
   "id": "17fee484-a6af-4358-b7f7-fc4753397d31",
   "metadata": {
    "tags": []
   },
   "outputs": [
    {
     "name": "stderr",
     "output_type": "stream",
     "text": [
      "100%|██████████████████████████████████████████████████████████████████████| 2784803/2784803 [10:59<00:00, 4224.14it/s]\n"
     ]
    }
   ],
   "source": [
    "wholeList = []\n",
    "for i in tqdm.tqdm(range(len(oneStepDf))):\n",
    "    for j in expandColumn:\n",
    "        rowList = []\n",
    "        rowList.append(oneStepDf[j][i])\n",
    "        for k in dataCol:\n",
    "            rowList.append(oneStepDf[k][i])\n",
    "        wholeList.append(rowList)\n",
    "secondStepDf = pd.DataFrame(wholeList)"
   ]
  },
  {
   "cell_type": "code",
   "execution_count": 50,
   "id": "86b91dab-32a1-45f1-848d-5570a79d85ef",
   "metadata": {},
   "outputs": [
    {
     "data": {
      "text/html": [
       "<div>\n",
       "<style scoped>\n",
       "    .dataframe tbody tr th:only-of-type {\n",
       "        vertical-align: middle;\n",
       "    }\n",
       "\n",
       "    .dataframe tbody tr th {\n",
       "        vertical-align: top;\n",
       "    }\n",
       "\n",
       "    .dataframe thead th {\n",
       "        text-align: right;\n",
       "    }\n",
       "</style>\n",
       "<table border=\"1\" class=\"dataframe\">\n",
       "  <thead>\n",
       "    <tr style=\"text-align: right;\">\n",
       "      <th></th>\n",
       "      <th>FINANCIALPRODUCT</th>\n",
       "      <th>GENDER</th>\n",
       "      <th>AGE</th>\n",
       "      <th>CUST_TYPE</th>\n",
       "      <th>INCOME</th>\n",
       "      <th>FOREINERINDEX</th>\n",
       "    </tr>\n",
       "  </thead>\n",
       "  <tbody>\n",
       "    <tr>\n",
       "      <th>0</th>\n",
       "      <td>0</td>\n",
       "      <td>1</td>\n",
       "      <td>7</td>\n",
       "      <td>0</td>\n",
       "      <td>5</td>\n",
       "      <td>1</td>\n",
       "    </tr>\n",
       "    <tr>\n",
       "      <th>1</th>\n",
       "      <td>0</td>\n",
       "      <td>1</td>\n",
       "      <td>7</td>\n",
       "      <td>0</td>\n",
       "      <td>5</td>\n",
       "      <td>1</td>\n",
       "    </tr>\n",
       "    <tr>\n",
       "      <th>2</th>\n",
       "      <td>0</td>\n",
       "      <td>1</td>\n",
       "      <td>7</td>\n",
       "      <td>0</td>\n",
       "      <td>5</td>\n",
       "      <td>1</td>\n",
       "    </tr>\n",
       "    <tr>\n",
       "      <th>3</th>\n",
       "      <td>0</td>\n",
       "      <td>1</td>\n",
       "      <td>7</td>\n",
       "      <td>0</td>\n",
       "      <td>5</td>\n",
       "      <td>1</td>\n",
       "    </tr>\n",
       "    <tr>\n",
       "      <th>4</th>\n",
       "      <td>0</td>\n",
       "      <td>1</td>\n",
       "      <td>7</td>\n",
       "      <td>0</td>\n",
       "      <td>5</td>\n",
       "      <td>1</td>\n",
       "    </tr>\n",
       "    <tr>\n",
       "      <th>...</th>\n",
       "      <td>...</td>\n",
       "      <td>...</td>\n",
       "      <td>...</td>\n",
       "      <td>...</td>\n",
       "      <td>...</td>\n",
       "      <td>...</td>\n",
       "    </tr>\n",
       "    <tr>\n",
       "      <th>16708813</th>\n",
       "      <td>0</td>\n",
       "      <td>1</td>\n",
       "      <td>2</td>\n",
       "      <td>1</td>\n",
       "      <td>1</td>\n",
       "      <td>0</td>\n",
       "    </tr>\n",
       "    <tr>\n",
       "      <th>16708814</th>\n",
       "      <td>0</td>\n",
       "      <td>1</td>\n",
       "      <td>2</td>\n",
       "      <td>1</td>\n",
       "      <td>1</td>\n",
       "      <td>0</td>\n",
       "    </tr>\n",
       "    <tr>\n",
       "      <th>16708815</th>\n",
       "      <td>0</td>\n",
       "      <td>1</td>\n",
       "      <td>2</td>\n",
       "      <td>1</td>\n",
       "      <td>1</td>\n",
       "      <td>0</td>\n",
       "    </tr>\n",
       "    <tr>\n",
       "      <th>16708816</th>\n",
       "      <td>0</td>\n",
       "      <td>1</td>\n",
       "      <td>2</td>\n",
       "      <td>1</td>\n",
       "      <td>1</td>\n",
       "      <td>0</td>\n",
       "    </tr>\n",
       "    <tr>\n",
       "      <th>16708817</th>\n",
       "      <td>0</td>\n",
       "      <td>1</td>\n",
       "      <td>2</td>\n",
       "      <td>1</td>\n",
       "      <td>1</td>\n",
       "      <td>0</td>\n",
       "    </tr>\n",
       "  </tbody>\n",
       "</table>\n",
       "<p>16708818 rows × 6 columns</p>\n",
       "</div>"
      ],
      "text/plain": [
       "         FINANCIALPRODUCT  GENDER  AGE  CUST_TYPE  INCOME  FOREINERINDEX\n",
       "0                       0       1    7          0       5              1\n",
       "1                       0       1    7          0       5              1\n",
       "2                       0       1    7          0       5              1\n",
       "3                       0       1    7          0       5              1\n",
       "4                       0       1    7          0       5              1\n",
       "...                   ...     ...  ...        ...     ...            ...\n",
       "16708813                0       1    2          1       1              0\n",
       "16708814                0       1    2          1       1              0\n",
       "16708815                0       1    2          1       1              0\n",
       "16708816                0       1    2          1       1              0\n",
       "16708817                0       1    2          1       1              0\n",
       "\n",
       "[16708818 rows x 6 columns]"
      ]
     },
     "execution_count": 50,
     "metadata": {},
     "output_type": "execute_result"
    }
   ],
   "source": [
    "secondStepDf.rename(columns={0:\"FINANCIALPRODUCT\"}, inplace=True)\n",
    "secondStepDf.rename(columns={1:\"GENDER\"}, inplace=True)\n",
    "secondStepDf.rename(columns={2:\"AGE\"}, inplace=True)\n",
    "secondStepDf.rename(columns={3:\"CUST_TYPE\"}, inplace=True)\n",
    "secondStepDf.rename(columns={4:\"INCOME\"}, inplace=True)\n",
    "secondStepDf.rename(columns={5:\"FOREINERINDEX\"}, inplace=True)\n",
    "\n",
    "secondStepDf"
   ]
  },
  {
   "cell_type": "code",
   "execution_count": 51,
   "id": "968b27e2-85c0-4a97-834f-8dcf3dd431b5",
   "metadata": {},
   "outputs": [
    {
     "data": {
      "text/html": [
       "<div>\n",
       "<style scoped>\n",
       "    .dataframe tbody tr th:only-of-type {\n",
       "        vertical-align: middle;\n",
       "    }\n",
       "\n",
       "    .dataframe tbody tr th {\n",
       "        vertical-align: top;\n",
       "    }\n",
       "\n",
       "    .dataframe thead th {\n",
       "        text-align: right;\n",
       "    }\n",
       "</style>\n",
       "<table border=\"1\" class=\"dataframe\">\n",
       "  <thead>\n",
       "    <tr style=\"text-align: right;\">\n",
       "      <th></th>\n",
       "      <th>FINANCIALPRODUCT</th>\n",
       "      <th>GENDER</th>\n",
       "      <th>AGE</th>\n",
       "      <th>CUST_TYPE</th>\n",
       "      <th>INCOME</th>\n",
       "      <th>FOREINERINDEX</th>\n",
       "    </tr>\n",
       "  </thead>\n",
       "  <tbody>\n",
       "    <tr>\n",
       "      <th>0</th>\n",
       "      <td>급여계좌</td>\n",
       "      <td>0</td>\n",
       "      <td>2</td>\n",
       "      <td>0</td>\n",
       "      <td>5</td>\n",
       "      <td>0</td>\n",
       "    </tr>\n",
       "    <tr>\n",
       "      <th>1</th>\n",
       "      <td>신용카드</td>\n",
       "      <td>0</td>\n",
       "      <td>2</td>\n",
       "      <td>0</td>\n",
       "      <td>5</td>\n",
       "      <td>0</td>\n",
       "    </tr>\n",
       "    <tr>\n",
       "      <th>2</th>\n",
       "      <td>신용카드</td>\n",
       "      <td>0</td>\n",
       "      <td>3</td>\n",
       "      <td>0</td>\n",
       "      <td>5</td>\n",
       "      <td>1</td>\n",
       "    </tr>\n",
       "    <tr>\n",
       "      <th>3</th>\n",
       "      <td>증권</td>\n",
       "      <td>0</td>\n",
       "      <td>3</td>\n",
       "      <td>0</td>\n",
       "      <td>5</td>\n",
       "      <td>1</td>\n",
       "    </tr>\n",
       "    <tr>\n",
       "      <th>4</th>\n",
       "      <td>급여계좌</td>\n",
       "      <td>1</td>\n",
       "      <td>3</td>\n",
       "      <td>0</td>\n",
       "      <td>3</td>\n",
       "      <td>1</td>\n",
       "    </tr>\n",
       "    <tr>\n",
       "      <th>...</th>\n",
       "      <td>...</td>\n",
       "      <td>...</td>\n",
       "      <td>...</td>\n",
       "      <td>...</td>\n",
       "      <td>...</td>\n",
       "      <td>...</td>\n",
       "    </tr>\n",
       "    <tr>\n",
       "      <th>547143</th>\n",
       "      <td>급여계좌</td>\n",
       "      <td>0</td>\n",
       "      <td>5</td>\n",
       "      <td>0</td>\n",
       "      <td>5</td>\n",
       "      <td>1</td>\n",
       "    </tr>\n",
       "    <tr>\n",
       "      <th>547144</th>\n",
       "      <td>급여계좌</td>\n",
       "      <td>1</td>\n",
       "      <td>3</td>\n",
       "      <td>0</td>\n",
       "      <td>1</td>\n",
       "      <td>1</td>\n",
       "    </tr>\n",
       "    <tr>\n",
       "      <th>547145</th>\n",
       "      <td>주니어계좌</td>\n",
       "      <td>0</td>\n",
       "      <td>1</td>\n",
       "      <td>0</td>\n",
       "      <td>3</td>\n",
       "      <td>1</td>\n",
       "    </tr>\n",
       "    <tr>\n",
       "      <th>547146</th>\n",
       "      <td>급여계좌</td>\n",
       "      <td>1</td>\n",
       "      <td>2</td>\n",
       "      <td>0</td>\n",
       "      <td>5</td>\n",
       "      <td>0</td>\n",
       "    </tr>\n",
       "    <tr>\n",
       "      <th>547147</th>\n",
       "      <td>신용카드</td>\n",
       "      <td>1</td>\n",
       "      <td>2</td>\n",
       "      <td>0</td>\n",
       "      <td>5</td>\n",
       "      <td>0</td>\n",
       "    </tr>\n",
       "  </tbody>\n",
       "</table>\n",
       "<p>547148 rows × 6 columns</p>\n",
       "</div>"
      ],
      "text/plain": [
       "       FINANCIALPRODUCT  GENDER  AGE  CUST_TYPE  INCOME  FOREINERINDEX\n",
       "0                  급여계좌       0    2          0       5              0\n",
       "1                  신용카드       0    2          0       5              0\n",
       "2                  신용카드       0    3          0       5              1\n",
       "3                    증권       0    3          0       5              1\n",
       "4                  급여계좌       1    3          0       3              1\n",
       "...                 ...     ...  ...        ...     ...            ...\n",
       "547143             급여계좌       0    5          0       5              1\n",
       "547144             급여계좌       1    3          0       1              1\n",
       "547145            주니어계좌       0    1          0       3              1\n",
       "547146             급여계좌       1    2          0       5              0\n",
       "547147             신용카드       1    2          0       5              0\n",
       "\n",
       "[547148 rows x 6 columns]"
      ]
     },
     "execution_count": 51,
     "metadata": {},
     "output_type": "execute_result"
    }
   ],
   "source": [
    "secondStepDf = secondStepDf.loc[secondStepDf.FINANCIALPRODUCT != 0]\n",
    "secondStepDf = secondStepDf.reset_index(drop=True)\n",
    "secondStepDf"
   ]
  },
  {
   "cell_type": "code",
   "execution_count": null,
   "id": "763ebb94-e5b2-4d3c-8dff-a7805fedf993",
   "metadata": {},
   "outputs": [],
   "source": [
    "----------------------------------------------------------------------------------------------------------------"
   ]
  },
  {
   "cell_type": "code",
   "execution_count": 54,
   "id": "145eaf99-7b50-4965-b39a-287ce70906f6",
   "metadata": {},
   "outputs": [],
   "source": [
    "secondStepDf.to_csv(\"../test/Financial_Product_Recommendation.csv\", index=False, mode =\"w\")"
   ]
  },
  {
   "cell_type": "code",
   "execution_count": null,
   "id": "0bf62fee-4c86-4810-8f7b-a4197f17f0b5",
   "metadata": {},
   "outputs": [],
   "source": []
  }
 ],
 "metadata": {
  "kernelspec": {
   "display_name": "Python 3 (ipykernel)",
   "language": "python",
   "name": "python3"
  },
  "language_info": {
   "codemirror_mode": {
    "name": "ipython",
    "version": 3
   },
   "file_extension": ".py",
   "mimetype": "text/x-python",
   "name": "python",
   "nbconvert_exporter": "python",
   "pygments_lexer": "ipython3",
   "version": "3.9.13"
  }
 },
 "nbformat": 4,
 "nbformat_minor": 5
}
