{
 "cells": [
  {
   "cell_type": "markdown",
   "id": "98ea398c-4ad1-499d-a497-ef8328e46956",
   "metadata": {},
   "source": [
    "# 라이브러리 선언"
   ]
  },
  {
   "cell_type": "code",
   "execution_count": 1,
   "id": "25d52d95-cd9d-4365-906b-658ea7d12b62",
   "metadata": {},
   "outputs": [],
   "source": [
    "import pandas as pd\n",
    "import numpy as np"
   ]
  },
  {
   "cell_type": "code",
   "execution_count": 2,
   "id": "6bc31e45-573e-48d1-96e3-281ea099025a",
   "metadata": {},
   "outputs": [],
   "source": [
    "import pickle"
   ]
  },
  {
   "cell_type": "code",
   "execution_count": 3,
   "id": "044960a7-7ad6-4304-95e3-b3ffefe1e7a6",
   "metadata": {},
   "outputs": [],
   "source": [
    "from sklearn.metrics import accuracy_score\n",
    "from sklearn.tree import DecisionTreeClassifier\n",
    "from sklearn.model_selection import train_test_split\n",
    "from sklearn import tree\n",
    "import matplotlib.pyplot as plt\n",
    "from sklearn.tree import plot_tree, export_text\n",
    "from sklearn.model_selection import GridSearchCV"
   ]
  },
  {
   "cell_type": "code",
   "execution_count": 4,
   "id": "c6bd4ef9-0f7d-4f65-b132-716e2072f099",
   "metadata": {},
   "outputs": [],
   "source": [
    "# 데이터 불러오기"
   ]
  },
  {
   "cell_type": "code",
   "execution_count": 5,
   "id": "095071e1-8493-42b8-8775-3f7b2b3c7cdf",
   "metadata": {},
   "outputs": [],
   "source": [
    "secondStepDf = pd.read_csv(\"../dataset/Financial_Product_Recommendation.csv\")"
   ]
  },
  {
   "cell_type": "markdown",
   "id": "75f6db15-1b2e-4169-b7e3-e191728a4f34",
   "metadata": {},
   "source": [
    "### 데이터 분리"
   ]
  },
  {
   "cell_type": "code",
   "execution_count": 9,
   "id": "8c48a037-2a54-4b57-80fd-46bdac31eace",
   "metadata": {},
   "outputs": [
    {
     "data": {
      "text/plain": [
       "Index(['FINANCIALPRODUCT', 'GENDER', 'AGE', 'CUST_TYPE', 'INCOME',\n",
       "       'FOREINERINDEX'],\n",
       "      dtype='object')"
      ]
     },
     "execution_count": 9,
     "metadata": {},
     "output_type": "execute_result"
    }
   ],
   "source": [
    "secondStepDf.columns"
   ]
  },
  {
   "cell_type": "code",
   "execution_count": 10,
   "id": "82f041c2-e7a1-4661-bfa9-ca849c735d39",
   "metadata": {},
   "outputs": [],
   "source": [
    "feature = ['GENDER', 'AGE', 'CUST_TYPE', 'INCOME', 'FOREINERINDEX']"
   ]
  },
  {
   "cell_type": "code",
   "execution_count": 11,
   "id": "08297a69-7133-4fa2-836c-1f1eb9aeb5ea",
   "metadata": {},
   "outputs": [],
   "source": [
    "label = ['FINANCIALPRODUCT']"
   ]
  },
  {
   "cell_type": "code",
   "execution_count": 12,
   "id": "744f0158-ef96-4783-b48c-9e10c7f7fb1d",
   "metadata": {},
   "outputs": [],
   "source": [
    "featureData = secondStepDf.loc[:,feature]\n",
    "labelData = secondStepDf.loc[:,label]"
   ]
  },
  {
   "cell_type": "code",
   "execution_count": 13,
   "id": "4993576a-4d1f-49a0-b79d-07b7161f9a06",
   "metadata": {},
   "outputs": [],
   "source": [
    "training_feature,\\\n",
    "test_feature,\\\n",
    "training_label,\\\n",
    "test_label = train_test_split(featureData, labelData, test_size=0.3, random_state=10)"
   ]
  },
  {
   "cell_type": "code",
   "execution_count": 14,
   "id": "2a37d7c4-d21a-45e0-83ef-91ef70439d42",
   "metadata": {},
   "outputs": [
    {
     "name": "stdout",
     "output_type": "stream",
     "text": [
      "(255864, 5)\n",
      "(255864, 1)\n",
      "(109656, 5)\n",
      "(109656, 1)\n"
     ]
    }
   ],
   "source": [
    "print(training_feature.shape)\n",
    "print(training_label.shape)\n",
    "print(test_feature.shape)\n",
    "print(test_label.shape)"
   ]
  },
  {
   "cell_type": "markdown",
   "id": "d162a7cf-bdcd-46d8-94ec-155024b35d22",
   "metadata": {},
   "source": [
    "# 모델 선언"
   ]
  },
  {
   "cell_type": "raw",
   "id": "fef10957-e09f-405d-bdab-7ea2c8b5137e",
   "metadata": {},
   "source": [
    "# Grid_search를 이용한 최적의 hyperparameter를 찾는다.\n",
    "\n",
    "# 데이터 로드\n",
    "X = training_feature\n",
    "y = training_label\n",
    "\n",
    "# 의사 결정 트리 분류기 생성\n",
    "dt_classifier = DecisionTreeClassifier()\n",
    "\n",
    "# 튜닝할 하이퍼파라미터와 범위 정의\n",
    "param_grid = {\n",
    "    'max_depth': [3, 5, 7, 9, 11],\n",
    "    'min_samples_split': [2, 5, 10],\n",
    "    'min_samples_leaf': [1, 3, 5],\n",
    "    'max_features': [None, 'sqrt', 'log2'],\n",
    "    'criterion': ['gini', 'entropy'],\n",
    "    'class_weight': [None, 'balanced']\n",
    "}\n",
    "\n",
    "# 그리드 서치를 사용한 하이퍼파라미터 튜닝\n",
    "grid_search = GridSearchCV(dt_classifier, param_grid, cv=5)\n",
    "grid_search.fit(X, y)\n",
    "\n",
    "# 최적의 하이퍼파라미터\n",
    "print(\"Best Parameters:\", grid_search.best_params_)"
   ]
  },
  {
   "cell_type": "code",
   "execution_count": 15,
   "id": "8d68b787-3acd-479c-a732-93c72a397b9b",
   "metadata": {},
   "outputs": [],
   "source": [
    "model = DecisionTreeClassifier(class_weight = None,\n",
    "                               criterion = 'gini',\n",
    "                               max_depth = 9,\n",
    "                               max_features = 'log2',\n",
    "                               min_samples_leaf = 5,\n",
    "                               min_samples_split = 2)"
   ]
  },
  {
   "cell_type": "markdown",
   "id": "2361c205-9492-4249-b8c0-f437f63bd6a4",
   "metadata": {},
   "source": [
    "### 학습"
   ]
  },
  {
   "cell_type": "code",
   "execution_count": 16,
   "id": "3df60f94-5786-4c4a-af83-79b75b39f5af",
   "metadata": {},
   "outputs": [
    {
     "data": {
      "text/plain": [
       "DecisionTreeClassifier(max_depth=9, max_features='log2', min_samples_leaf=5)"
      ]
     },
     "execution_count": 16,
     "metadata": {},
     "output_type": "execute_result"
    }
   ],
   "source": [
    "model.fit(X = training_feature,\n",
    "          y = training_label)"
   ]
  },
  {
   "cell_type": "markdown",
   "id": "935857d7-3df5-4750-95c3-c5862581c9c4",
   "metadata": {
    "tags": []
   },
   "source": [
    "### 예측"
   ]
  },
  {
   "cell_type": "code",
   "execution_count": 17,
   "id": "2e92ee65-caf6-4443-b643-c728d0abe9e0",
   "metadata": {},
   "outputs": [],
   "source": [
    "pred_tree = model.predict(X=test_feature) #타입:np.array\n",
    "\n",
    "pred_tree = pd.DataFrame(pred_tree, columns=[\"pred_tree\"])\n",
    "\n",
    "test_label = test_label.reset_index(drop=True)\n",
    "\n",
    "accuracy_tree = accuracy_score(test_label, pred_tree)"
   ]
  },
  {
   "cell_type": "code",
   "execution_count": 18,
   "id": "5af34fe2-4d48-461d-b5d2-064da4d5444d",
   "metadata": {},
   "outputs": [
    {
     "data": {
      "text/plain": [
       "0.4540927992996279"
      ]
     },
     "execution_count": 18,
     "metadata": {},
     "output_type": "execute_result"
    }
   ],
   "source": [
    "accuracy_tree"
   ]
  },
  {
   "cell_type": "markdown",
   "id": "eb51c9b4-3ccf-4fa6-aeeb-147feed58692",
   "metadata": {},
   "source": [
    "# pickle 저장"
   ]
  },
  {
   "cell_type": "code",
   "execution_count": 20,
   "id": "eb468e8b-42fe-4bd4-9f3e-abe10fb9b5cc",
   "metadata": {},
   "outputs": [],
   "source": [
    "with open(\"./tree_model.pickle\",\"wb\") as fw:\n",
    "    pickle.dump(model,fw)"
   ]
  },
  {
   "cell_type": "code",
   "execution_count": null,
   "id": "fd928c4a-6ec8-4e7f-ad4e-06a9159e955b",
   "metadata": {},
   "outputs": [],
   "source": []
  }
 ],
 "metadata": {
  "kernelspec": {
   "display_name": "Python 3 (ipykernel)",
   "language": "python",
   "name": "python3"
  },
  "language_info": {
   "codemirror_mode": {
    "name": "ipython",
    "version": 3
   },
   "file_extension": ".py",
   "mimetype": "text/x-python",
   "name": "python",
   "nbconvert_exporter": "python",
   "pygments_lexer": "ipython3",
   "version": "3.9.13"
  }
 },
 "nbformat": 4,
 "nbformat_minor": 5
}
