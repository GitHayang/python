{
 "cells": [
  {
   "cell_type": "code",
   "execution_count": 1,
   "id": "25d52d95-cd9d-4365-906b-658ea7d12b62",
   "metadata": {},
   "outputs": [],
   "source": [
    "import pandas as pd"
   ]
  },
  {
   "cell_type": "code",
   "execution_count": 2,
   "id": "095071e1-8493-42b8-8775-3f7b2b3c7cdf",
   "metadata": {},
   "outputs": [],
   "source": [
    "secondStepDf = pd.read_csv(\"./modelTrainData.csv\")"
   ]
  },
  {
   "cell_type": "code",
   "execution_count": 3,
   "id": "bb8ac1d0-7349-4622-97dd-b19ff7918131",
   "metadata": {},
   "outputs": [
    {
     "data": {
      "text/html": [
       "<div>\n",
       "<style scoped>\n",
       "    .dataframe tbody tr th:only-of-type {\n",
       "        vertical-align: middle;\n",
       "    }\n",
       "\n",
       "    .dataframe tbody tr th {\n",
       "        vertical-align: top;\n",
       "    }\n",
       "\n",
       "    .dataframe thead th {\n",
       "        text-align: right;\n",
       "    }\n",
       "</style>\n",
       "<table border=\"1\" class=\"dataframe\">\n",
       "  <thead>\n",
       "    <tr style=\"text-align: right;\">\n",
       "      <th></th>\n",
       "      <th>FINANCIALPRODUCT</th>\n",
       "      <th>GENDER</th>\n",
       "      <th>AGE</th>\n",
       "      <th>CUST_TYPE</th>\n",
       "      <th>INCOME</th>\n",
       "      <th>FOREINERINDEX</th>\n",
       "    </tr>\n",
       "  </thead>\n",
       "  <tbody>\n",
       "    <tr>\n",
       "      <th>0</th>\n",
       "      <td>0</td>\n",
       "      <td>1</td>\n",
       "      <td>7</td>\n",
       "      <td>0</td>\n",
       "      <td>1</td>\n",
       "      <td>1</td>\n",
       "    </tr>\n",
       "    <tr>\n",
       "      <th>1</th>\n",
       "      <td>0</td>\n",
       "      <td>1</td>\n",
       "      <td>7</td>\n",
       "      <td>0</td>\n",
       "      <td>1</td>\n",
       "      <td>1</td>\n",
       "    </tr>\n",
       "    <tr>\n",
       "      <th>2</th>\n",
       "      <td>0</td>\n",
       "      <td>1</td>\n",
       "      <td>7</td>\n",
       "      <td>0</td>\n",
       "      <td>1</td>\n",
       "      <td>1</td>\n",
       "    </tr>\n",
       "    <tr>\n",
       "      <th>3</th>\n",
       "      <td>0</td>\n",
       "      <td>1</td>\n",
       "      <td>7</td>\n",
       "      <td>0</td>\n",
       "      <td>1</td>\n",
       "      <td>1</td>\n",
       "    </tr>\n",
       "    <tr>\n",
       "      <th>4</th>\n",
       "      <td>0</td>\n",
       "      <td>1</td>\n",
       "      <td>7</td>\n",
       "      <td>0</td>\n",
       "      <td>1</td>\n",
       "      <td>1</td>\n",
       "    </tr>\n",
       "    <tr>\n",
       "      <th>...</th>\n",
       "      <td>...</td>\n",
       "      <td>...</td>\n",
       "      <td>...</td>\n",
       "      <td>...</td>\n",
       "      <td>...</td>\n",
       "      <td>...</td>\n",
       "    </tr>\n",
       "    <tr>\n",
       "      <th>20456992</th>\n",
       "      <td>0</td>\n",
       "      <td>1</td>\n",
       "      <td>3</td>\n",
       "      <td>0</td>\n",
       "      <td>1</td>\n",
       "      <td>0</td>\n",
       "    </tr>\n",
       "    <tr>\n",
       "      <th>20456993</th>\n",
       "      <td>0</td>\n",
       "      <td>1</td>\n",
       "      <td>3</td>\n",
       "      <td>0</td>\n",
       "      <td>1</td>\n",
       "      <td>0</td>\n",
       "    </tr>\n",
       "    <tr>\n",
       "      <th>20456994</th>\n",
       "      <td>0</td>\n",
       "      <td>1</td>\n",
       "      <td>3</td>\n",
       "      <td>0</td>\n",
       "      <td>1</td>\n",
       "      <td>0</td>\n",
       "    </tr>\n",
       "    <tr>\n",
       "      <th>20456995</th>\n",
       "      <td>0</td>\n",
       "      <td>1</td>\n",
       "      <td>3</td>\n",
       "      <td>0</td>\n",
       "      <td>1</td>\n",
       "      <td>0</td>\n",
       "    </tr>\n",
       "    <tr>\n",
       "      <th>20456996</th>\n",
       "      <td>0</td>\n",
       "      <td>1</td>\n",
       "      <td>3</td>\n",
       "      <td>0</td>\n",
       "      <td>1</td>\n",
       "      <td>0</td>\n",
       "    </tr>\n",
       "  </tbody>\n",
       "</table>\n",
       "<p>20456997 rows × 6 columns</p>\n",
       "</div>"
      ],
      "text/plain": [
       "         FINANCIALPRODUCT  GENDER  AGE  CUST_TYPE  INCOME  FOREINERINDEX\n",
       "0                       0       1    7          0       1              1\n",
       "1                       0       1    7          0       1              1\n",
       "2                       0       1    7          0       1              1\n",
       "3                       0       1    7          0       1              1\n",
       "4                       0       1    7          0       1              1\n",
       "...                   ...     ...  ...        ...     ...            ...\n",
       "20456992                0       1    3          0       1              0\n",
       "20456993                0       1    3          0       1              0\n",
       "20456994                0       1    3          0       1              0\n",
       "20456995                0       1    3          0       1              0\n",
       "20456996                0       1    3          0       1              0\n",
       "\n",
       "[20456997 rows x 6 columns]"
      ]
     },
     "execution_count": 3,
     "metadata": {},
     "output_type": "execute_result"
    }
   ],
   "source": [
    "secondStepDf.rename(columns={\"0\":\"FINANCIALPRODUCT\"}, inplace=True)\n",
    "secondStepDf.rename(columns={\"1\":\"GENDER\"}, inplace=True)\n",
    "secondStepDf.rename(columns={\"2\":\"AGE\"}, inplace=True)\n",
    "secondStepDf.rename(columns={\"3\":\"CUST_TYPE\"}, inplace=True)\n",
    "secondStepDf.rename(columns={\"4\":\"INCOME\"}, inplace=True)\n",
    "secondStepDf.rename(columns={\"5\":\"FOREINERINDEX\"}, inplace=True)\n",
    "\n",
    "secondStepDf"
   ]
  },
  {
   "cell_type": "code",
   "execution_count": 4,
   "id": "58bca6b3-ed66-4e98-b107-c4da17e50393",
   "metadata": {},
   "outputs": [],
   "source": [
    "secondStepDf = secondStepDf.loc[secondStepDf.FINANCIALPRODUCT != \"0\"]"
   ]
  },
  {
   "cell_type": "code",
   "execution_count": 5,
   "id": "35c2a224-c70d-41b1-98a6-795f421e681d",
   "metadata": {},
   "outputs": [
    {
     "data": {
      "text/html": [
       "<div>\n",
       "<style scoped>\n",
       "    .dataframe tbody tr th:only-of-type {\n",
       "        vertical-align: middle;\n",
       "    }\n",
       "\n",
       "    .dataframe tbody tr th {\n",
       "        vertical-align: top;\n",
       "    }\n",
       "\n",
       "    .dataframe thead th {\n",
       "        text-align: right;\n",
       "    }\n",
       "</style>\n",
       "<table border=\"1\" class=\"dataframe\">\n",
       "  <thead>\n",
       "    <tr style=\"text-align: right;\">\n",
       "      <th></th>\n",
       "      <th>FINANCIALPRODUCT</th>\n",
       "      <th>GENDER</th>\n",
       "      <th>AGE</th>\n",
       "      <th>CUST_TYPE</th>\n",
       "      <th>INCOME</th>\n",
       "      <th>FOREINERINDEX</th>\n",
       "    </tr>\n",
       "  </thead>\n",
       "  <tbody>\n",
       "    <tr>\n",
       "      <th>0</th>\n",
       "      <td>급여계좌</td>\n",
       "      <td>0</td>\n",
       "      <td>2</td>\n",
       "      <td>0</td>\n",
       "      <td>1</td>\n",
       "      <td>0</td>\n",
       "    </tr>\n",
       "    <tr>\n",
       "      <th>1</th>\n",
       "      <td>신용카드</td>\n",
       "      <td>0</td>\n",
       "      <td>2</td>\n",
       "      <td>0</td>\n",
       "      <td>1</td>\n",
       "      <td>0</td>\n",
       "    </tr>\n",
       "    <tr>\n",
       "      <th>2</th>\n",
       "      <td>신용카드</td>\n",
       "      <td>0</td>\n",
       "      <td>4</td>\n",
       "      <td>0</td>\n",
       "      <td>1</td>\n",
       "      <td>1</td>\n",
       "    </tr>\n",
       "    <tr>\n",
       "      <th>3</th>\n",
       "      <td>증권</td>\n",
       "      <td>0</td>\n",
       "      <td>4</td>\n",
       "      <td>0</td>\n",
       "      <td>1</td>\n",
       "      <td>1</td>\n",
       "    </tr>\n",
       "    <tr>\n",
       "      <th>4</th>\n",
       "      <td>급여계좌</td>\n",
       "      <td>1</td>\n",
       "      <td>4</td>\n",
       "      <td>0</td>\n",
       "      <td>1</td>\n",
       "      <td>1</td>\n",
       "    </tr>\n",
       "    <tr>\n",
       "      <th>...</th>\n",
       "      <td>...</td>\n",
       "      <td>...</td>\n",
       "      <td>...</td>\n",
       "      <td>...</td>\n",
       "      <td>...</td>\n",
       "      <td>...</td>\n",
       "    </tr>\n",
       "    <tr>\n",
       "      <th>387067</th>\n",
       "      <td>급여계좌</td>\n",
       "      <td>0</td>\n",
       "      <td>2</td>\n",
       "      <td>0</td>\n",
       "      <td>1</td>\n",
       "      <td>0</td>\n",
       "    </tr>\n",
       "    <tr>\n",
       "      <th>387068</th>\n",
       "      <td>주니어계좌</td>\n",
       "      <td>1</td>\n",
       "      <td>1</td>\n",
       "      <td>0</td>\n",
       "      <td>1</td>\n",
       "      <td>1</td>\n",
       "    </tr>\n",
       "    <tr>\n",
       "      <th>387069</th>\n",
       "      <td>주니어계좌</td>\n",
       "      <td>0</td>\n",
       "      <td>1</td>\n",
       "      <td>0</td>\n",
       "      <td>1</td>\n",
       "      <td>1</td>\n",
       "    </tr>\n",
       "    <tr>\n",
       "      <th>387070</th>\n",
       "      <td>급여계좌</td>\n",
       "      <td>1</td>\n",
       "      <td>2</td>\n",
       "      <td>0</td>\n",
       "      <td>1</td>\n",
       "      <td>0</td>\n",
       "    </tr>\n",
       "    <tr>\n",
       "      <th>387071</th>\n",
       "      <td>급여계좌</td>\n",
       "      <td>1</td>\n",
       "      <td>2</td>\n",
       "      <td>0</td>\n",
       "      <td>1</td>\n",
       "      <td>0</td>\n",
       "    </tr>\n",
       "  </tbody>\n",
       "</table>\n",
       "<p>387072 rows × 6 columns</p>\n",
       "</div>"
      ],
      "text/plain": [
       "       FINANCIALPRODUCT  GENDER  AGE  CUST_TYPE  INCOME  FOREINERINDEX\n",
       "0                  급여계좌       0    2          0       1              0\n",
       "1                  신용카드       0    2          0       1              0\n",
       "2                  신용카드       0    4          0       1              1\n",
       "3                    증권       0    4          0       1              1\n",
       "4                  급여계좌       1    4          0       1              1\n",
       "...                 ...     ...  ...        ...     ...            ...\n",
       "387067             급여계좌       0    2          0       1              0\n",
       "387068            주니어계좌       1    1          0       1              1\n",
       "387069            주니어계좌       0    1          0       1              1\n",
       "387070             급여계좌       1    2          0       1              0\n",
       "387071             급여계좌       1    2          0       1              0\n",
       "\n",
       "[387072 rows x 6 columns]"
      ]
     },
     "execution_count": 5,
     "metadata": {},
     "output_type": "execute_result"
    }
   ],
   "source": [
    "secondStepDf.reset_index(drop=True)"
   ]
  },
  {
   "cell_type": "code",
   "execution_count": 6,
   "id": "8c48a037-2a54-4b57-80fd-46bdac31eace",
   "metadata": {},
   "outputs": [
    {
     "data": {
      "text/plain": [
       "Index(['FINANCIALPRODUCT', 'GENDER', 'AGE', 'CUST_TYPE', 'INCOME',\n",
       "       'FOREINERINDEX'],\n",
       "      dtype='object')"
      ]
     },
     "execution_count": 6,
     "metadata": {},
     "output_type": "execute_result"
    }
   ],
   "source": [
    "secondStepDf.columns"
   ]
  },
  {
   "cell_type": "code",
   "execution_count": 7,
   "id": "82f041c2-e7a1-4661-bfa9-ca849c735d39",
   "metadata": {},
   "outputs": [],
   "source": [
    "feature = ['GENDER', 'AGE', 'CUST_TYPE', 'INCOME', 'FOREINERINDEX']"
   ]
  },
  {
   "cell_type": "code",
   "execution_count": 8,
   "id": "08297a69-7133-4fa2-836c-1f1eb9aeb5ea",
   "metadata": {},
   "outputs": [],
   "source": [
    "label = ['FINANCIALPRODUCT']"
   ]
  },
  {
   "cell_type": "code",
   "execution_count": 9,
   "id": "744f0158-ef96-4783-b48c-9e10c7f7fb1d",
   "metadata": {},
   "outputs": [],
   "source": [
    "featureData = secondStepDf.loc[:,feature]\n",
    "labelData = secondStepDf.loc[:,label]"
   ]
  },
  {
   "cell_type": "code",
   "execution_count": 10,
   "id": "044960a7-7ad6-4304-95e3-b3ffefe1e7a6",
   "metadata": {},
   "outputs": [],
   "source": [
    "from sklearn.metrics import accuracy_score\n",
    "from sklearn.tree import DecisionTreeClassifier\n",
    "from sklearn.model_selection import train_test_split\n",
    "from sklearn import tree"
   ]
  },
  {
   "cell_type": "code",
   "execution_count": 11,
   "id": "4993576a-4d1f-49a0-b79d-07b7161f9a06",
   "metadata": {},
   "outputs": [],
   "source": [
    "training_feature,\\\n",
    "test_feature,\\\n",
    "training_label,\\\n",
    "test_label = train_test_split(featureData, labelData, test_size=0.3, random_state=10)"
   ]
  },
  {
   "cell_type": "code",
   "execution_count": 12,
   "id": "2a37d7c4-d21a-45e0-83ef-91ef70439d42",
   "metadata": {},
   "outputs": [
    {
     "name": "stdout",
     "output_type": "stream",
     "text": [
      "(270950, 5)\n",
      "(270950, 1)\n",
      "(116122, 5)\n",
      "(116122, 1)\n"
     ]
    }
   ],
   "source": [
    "print(training_feature.shape)\n",
    "print(training_label.shape)\n",
    "print(test_feature.shape)\n",
    "print(test_label.shape)"
   ]
  },
  {
   "cell_type": "code",
   "execution_count": 13,
   "id": "8d68b787-3acd-479c-a732-93c72a397b9b",
   "metadata": {},
   "outputs": [],
   "source": [
    "tree_model = tree.DecisionTreeClassifier(random_state=10)"
   ]
  },
  {
   "cell_type": "code",
   "execution_count": 14,
   "id": "3df60f94-5786-4c4a-af83-79b75b39f5af",
   "metadata": {},
   "outputs": [
    {
     "data": {
      "text/plain": [
       "DecisionTreeClassifier(random_state=10)"
      ]
     },
     "execution_count": 14,
     "metadata": {},
     "output_type": "execute_result"
    }
   ],
   "source": [
    "tree_model.fit(X = training_feature,\n",
    "               y = training_label)"
   ]
  },
  {
   "cell_type": "code",
   "execution_count": 15,
   "id": "2e92ee65-caf6-4443-b643-c728d0abe9e0",
   "metadata": {},
   "outputs": [],
   "source": [
    "pred_tree = tree_model.predict(X=test_feature) #타입:np.array\n",
    "\n",
    "pred_tree = pd.DataFrame(pred_tree, columns=[\"pred_tree\"])\n",
    "\n",
    "test_label = test_label.reset_index(drop=True)\n",
    "\n",
    "accuracy_tree = accuracy_score(test_label, pred_tree)"
   ]
  },
  {
   "cell_type": "code",
   "execution_count": 16,
   "id": "5af34fe2-4d48-461d-b5d2-064da4d5444d",
   "metadata": {},
   "outputs": [
    {
     "data": {
      "text/plain": [
       "0.4256299409242004"
      ]
     },
     "execution_count": 16,
     "metadata": {},
     "output_type": "execute_result"
    }
   ],
   "source": [
    "accuracy_tree"
   ]
  },
  {
   "cell_type": "code",
   "execution_count": null,
   "id": "127881b5-ae00-41e1-ad8f-954967432688",
   "metadata": {},
   "outputs": [],
   "source": []
  },
  {
   "cell_type": "code",
   "execution_count": 59,
   "id": "5272b682-5ed5-4e62-863e-c14c227c364a",
   "metadata": {},
   "outputs": [],
   "source": [
    "import pickle\n",
    "with open(\"./tree_model.pickle\",\"wb\") as fw:\n",
    "    pickle.dump(tree_model,fw)"
   ]
  },
  {
   "cell_type": "code",
   "execution_count": null,
   "id": "eb468e8b-42fe-4bd4-9f3e-abe10fb9b5cc",
   "metadata": {},
   "outputs": [],
   "source": []
  },
  {
   "cell_type": "code",
   "execution_count": 18,
   "id": "4dd68dd2-b891-4b99-8923-03a307412051",
   "metadata": {},
   "outputs": [
    {
     "data": {
      "text/plain": [
       "Index(['GENDER', 'AGE', 'CUST_TYPE', 'INCOME', 'FOREINERINDEX'], dtype='object')"
      ]
     },
     "execution_count": 18,
     "metadata": {},
     "output_type": "execute_result"
    }
   ],
   "source": [
    "training_feature.columns"
   ]
  },
  {
   "cell_type": "code",
   "execution_count": 56,
   "id": "858707c5-b255-4486-b2d4-2788ee52bda4",
   "metadata": {},
   "outputs": [],
   "source": [
    "inG = 0 # 0,1\n",
    "inA = 8 # 0~10\n",
    "inC = 0 # 0,1\n",
    "inI = 1 # 1~5\n",
    "inF = 0 # 0,1"
   ]
  },
  {
   "cell_type": "code",
   "execution_count": 57,
   "id": "c24f09c2-0c4b-427d-8292-6cabf1b24d2b",
   "metadata": {},
   "outputs": [
    {
     "data": {
      "text/html": [
       "<div>\n",
       "<style scoped>\n",
       "    .dataframe tbody tr th:only-of-type {\n",
       "        vertical-align: middle;\n",
       "    }\n",
       "\n",
       "    .dataframe tbody tr th {\n",
       "        vertical-align: top;\n",
       "    }\n",
       "\n",
       "    .dataframe thead th {\n",
       "        text-align: right;\n",
       "    }\n",
       "</style>\n",
       "<table border=\"1\" class=\"dataframe\">\n",
       "  <thead>\n",
       "    <tr style=\"text-align: right;\">\n",
       "      <th></th>\n",
       "      <th>0</th>\n",
       "      <th>1</th>\n",
       "      <th>2</th>\n",
       "      <th>3</th>\n",
       "      <th>4</th>\n",
       "    </tr>\n",
       "  </thead>\n",
       "  <tbody>\n",
       "    <tr>\n",
       "      <th>0</th>\n",
       "      <td>0</td>\n",
       "      <td>8</td>\n",
       "      <td>0</td>\n",
       "      <td>1</td>\n",
       "      <td>0</td>\n",
       "    </tr>\n",
       "  </tbody>\n",
       "</table>\n",
       "</div>"
      ],
      "text/plain": [
       "   0  1  2  3  4\n",
       "0  0  8  0  1  0"
      ]
     },
     "execution_count": 57,
     "metadata": {},
     "output_type": "execute_result"
    }
   ],
   "source": [
    "test = pd.DataFrame([[inG,inA,inC,inI,inF]])\n",
    "test"
   ]
  },
  {
   "cell_type": "code",
   "execution_count": 58,
   "id": "fd5bfda5-fe35-47fb-a57b-9fcfb946d53e",
   "metadata": {},
   "outputs": [
    {
     "name": "stderr",
     "output_type": "stream",
     "text": [
      "C:\\Users\\caose\\anaconda3\\lib\\site-packages\\sklearn\\base.py:450: UserWarning: X does not have valid feature names, but DecisionTreeClassifier was fitted with feature names\n",
      "  warnings.warn(\n"
     ]
    },
    {
     "data": {
      "text/plain": [
       "array(['급여계좌'], dtype=object)"
      ]
     },
     "execution_count": 58,
     "metadata": {},
     "output_type": "execute_result"
    }
   ],
   "source": [
    "tree_model.predict(X = test)"
   ]
  },
  {
   "cell_type": "code",
   "execution_count": null,
   "id": "cb5949b0-0aff-4d5c-a149-feea4a7c5ffb",
   "metadata": {},
   "outputs": [],
   "source": []
  }
 ],
 "metadata": {
  "kernelspec": {
   "display_name": "Python 3 (ipykernel)",
   "language": "python",
   "name": "python3"
  },
  "language_info": {
   "codemirror_mode": {
    "name": "ipython",
    "version": 3
   },
   "file_extension": ".py",
   "mimetype": "text/x-python",
   "name": "python",
   "nbconvert_exporter": "python",
   "pygments_lexer": "ipython3",
   "version": "3.9.13"
  }
 },
 "nbformat": 4,
 "nbformat_minor": 5
}
