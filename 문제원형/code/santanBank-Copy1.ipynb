{
 "cells": [
  {
   "cell_type": "code",
   "execution_count": 1,
   "id": "44452df3-6a8f-423e-8358-98db6612c493",
   "metadata": {},
   "outputs": [],
   "source": [
    "import pandas as pd\n",
    "import numpy as np"
   ]
  },
  {
   "cell_type": "code",
   "execution_count": null,
   "id": "25db27d5-0865-469f-a441-137927c1027e",
   "metadata": {
    "tags": []
   },
   "outputs": [
    {
     "name": "stderr",
     "output_type": "stream",
     "text": [
      "C:\\Users\\WIN\\AppData\\Local\\Temp\\ipykernel_18856\\3097669333.py:1: DtypeWarning: Columns (5,8,11,15) have mixed types. Specify dtype option on import or set low_memory=False.\n",
      "  baseData = pd.read_csv(\"../data/train_ver2.csv\")\n"
     ]
    }
   ],
   "source": [
    "baseData = pd.read_csv(\"../data/train_ver2.csv\")"
   ]
  },
  {
   "cell_type": "raw",
   "id": "497c42ee-f291-4f0f-99df-e1fd929ce60c",
   "metadata": {},
   "source": [
    "len(baseData)\n",
    "set1 = int(10796058/3)\n",
    "set2 = int(10796058/3)*2\n",
    "set3 = 10796058\n",
    "data1 = baseData.loc[:set1-1]"
   ]
  },
  {
   "cell_type": "code",
   "execution_count": null,
   "id": "282fa43b-b516-4494-bac8-f1d39e87d245",
   "metadata": {},
   "outputs": [],
   "source": [
    "data1 = baseData.copy()"
   ]
  },
  {
   "cell_type": "code",
   "execution_count": null,
   "id": "a50a8f68-1753-40af-826d-8de223e75754",
   "metadata": {
    "tags": []
   },
   "outputs": [],
   "source": [
    "data1 = data1.drop(['fecha_dato', 'ncodpers','ind_empleado','pais_residencia','fecha_alta','ind_nuevo','indrel','ult_fec_cli_1t',\\\n",
    "                    'conyuemp','canal_entrada','indfall','tipodom','cod_prov','nomprov','ind_actividad_cliente',\\\n",
    "                    'ind_aval_fin_ult1','ind_ctma_fin_ult1','ind_ctop_fin_ult1',\\\n",
    "                    'ind_ctpp_fin_ult1','ind_ecue_fin_ult1','ind_hip_fin_ult1',\\\n",
    "                    'ind_reca_fin_ult1','ind_viv_fin_ult1','ind_nomina_ult1','ind_nom_pens_ult1','ind_recibo_ult1',\\\n",
    "                    'ind_cco_fin_ult1','ind_cder_fin_ult1',\"antiguedad\",'indrel_1mes','tiprel_1mes'], axis=1)"
   ]
  },
  {
   "cell_type": "code",
   "execution_count": null,
   "id": "4e4657e1-e27a-41fd-937b-92265cc415c1",
   "metadata": {},
   "outputs": [],
   "source": [
    "# label이 될 컬럼을 상품명으로 변경\n",
    "data1.loc[data1['ind_deco_fin_ult1'] == 1, 'ind_deco_fin_ult1'] = '단기예금'\n",
    "data1.loc[data1['ind_deme_fin_ult1'] == 1, 'ind_deme_fin_ult1'] = '중기예금'\n",
    "data1.loc[data1['ind_dela_fin_ult1'] == 1, 'ind_dela_fin_ult1'] = '장기예금'\n",
    "data1.loc[data1['ind_ahor_fin_ult1'] == 1, 'ind_ahor_fin_ult1'] = '저축계좌'\n",
    "data1.loc[data1['ind_cno_fin_ult1'] == 1, 'ind_cno_fin_ult1'] = '급여계좌'\n",
    "data1.loc[data1['ind_ctju_fin_ult1'] == 1, 'ind_ctju_fin_ult1'] = '주니어계좌'\n",
    "data1.loc[data1['ind_fond_fin_ult1'] == 1, 'ind_fond_fin_ult1'] = '펀드계좌'\n",
    "data1.loc[data1['ind_plan_fin_ult1'] == 1, 'ind_plan_fin_ult1'] = '연금'\n",
    "data1.loc[data1['ind_pres_fin_ult1'] == 1, 'ind_pres_fin_ult1'] = '대출'\n",
    "data1.loc[data1['ind_tjcr_fin_ult1'] == 1, 'ind_tjcr_fin_ult1'] = '신용카드'\n",
    "data1.loc[data1['ind_valo_fin_ult1'] == 1, 'ind_valo_fin_ult1'] = '증권'"
   ]
  },
  {
   "cell_type": "code",
   "execution_count": null,
   "id": "e9adfef4-14e0-4e1b-bdf8-bc9c2a9d2fe8",
   "metadata": {},
   "outputs": [],
   "source": [
    "data1 = data1.dropna()"
   ]
  },
  {
   "cell_type": "code",
   "execution_count": null,
   "id": "cfb06ed2-30eb-42eb-acba-1e8d84e10952",
   "metadata": {},
   "outputs": [],
   "source": [
    "oneStepDf = data1.copy()"
   ]
  },
  {
   "cell_type": "code",
   "execution_count": null,
   "id": "49568224-198a-447d-92db-d2446f66ffaa",
   "metadata": {},
   "outputs": [],
   "source": [
    "oneStepDf"
   ]
  },
  {
   "cell_type": "markdown",
   "id": "12fcf8ff-9c38-4ea3-83be-fe8d7a6e69dd",
   "metadata": {
    "tags": []
   },
   "source": [
    "# 칼럼 처리"
   ]
  },
  {
   "cell_type": "markdown",
   "id": "ee745a05-a739-466f-a112-0f456acb0034",
   "metadata": {},
   "source": [
    "### 총소득"
   ]
  },
  {
   "cell_type": "code",
   "execution_count": null,
   "id": "fc1395fe-26e1-474a-9e20-2c4a02294a28",
   "metadata": {
    "tags": []
   },
   "outputs": [],
   "source": [
    "oneStepDf[\"renta\"] = oneStepDf[\"renta\"].astype(int)"
   ]
  },
  {
   "cell_type": "code",
   "execution_count": null,
   "id": "7ff4821b-adf1-4836-a775-fb514ac94ba3",
   "metadata": {},
   "outputs": [],
   "source": [
    "print(min(oneStepDf.renta))\n",
    "print(max(oneStepDf.renta))\n",
    "# 3000000기준 5분위"
   ]
  },
  {
   "cell_type": "code",
   "execution_count": null,
   "id": "982c676b-3bc9-4c91-813b-6b5c63c3d57a",
   "metadata": {},
   "outputs": [],
   "source": [
    "oneStepDf[\"renta\"] = np.where(oneStepDf.renta<599999,1,\n",
    "                     np.where(oneStepDf.renta<1190000,2,\n",
    "                     np.where(oneStepDf.renta<1799999,3,\n",
    "                     np.where(oneStepDf.renta<2399999,4,5))))"
   ]
  },
  {
   "cell_type": "markdown",
   "id": "d5b2c2a0-3a8b-4a5e-b655-a0e138452e59",
   "metadata": {},
   "source": [
    "### 나이"
   ]
  },
  {
   "cell_type": "code",
   "execution_count": null,
   "id": "b1818567-4425-471f-a295-6924f9dbb85f",
   "metadata": {},
   "outputs": [],
   "source": [
    "oneStepDf[\"age\"] = oneStepDf[\"age\"].astype(int)"
   ]
  },
  {
   "cell_type": "code",
   "execution_count": null,
   "id": "1e8f194b-d0a7-49a3-924d-7398224aafbc",
   "metadata": {},
   "outputs": [],
   "source": [
    "print(max(oneStepDf[\"age\"]))\n",
    "print(min(oneStepDf[\"age\"]))"
   ]
  },
  {
   "cell_type": "code",
   "execution_count": null,
   "id": "73c15319-d761-4d7b-a549-ec80630ae5b7",
   "metadata": {},
   "outputs": [],
   "source": [
    "oneStepDf[\"age\"] = np.where(oneStepDf.age<9,0,\n",
    "                   np.where(oneStepDf.age<19,1,\n",
    "                   np.where(oneStepDf.age<29,2,\n",
    "                   np.where(oneStepDf.age<39,3,\n",
    "                   np.where(oneStepDf.age<49,4,\n",
    "                   np.where(oneStepDf.age<59,5,\n",
    "                   np.where(oneStepDf.age<69,6,\n",
    "                   np.where(oneStepDf.age<79,7,\n",
    "                   np.where(oneStepDf.age<89,8,\n",
    "                   np.where(oneStepDf.age<99,9,10))))))))))"
   ]
  },
  {
   "cell_type": "markdown",
   "id": "bb69798e-1ecb-4f95-8da9-32ba208401a9",
   "metadata": {},
   "source": [
    "### 성별"
   ]
  },
  {
   "cell_type": "code",
   "execution_count": null,
   "id": "7bdb42f7-2be5-4401-8eb1-3e8c015fb251",
   "metadata": {},
   "outputs": [],
   "source": [
    "oneStepDf.sexo = np.where(oneStepDf.sexo=='H', \"1\", \"0\")"
   ]
  },
  {
   "cell_type": "code",
   "execution_count": null,
   "id": "3155fd19-b067-42aa-8d55-fc15294b414d",
   "metadata": {},
   "outputs": [],
   "source": [
    "oneStepDf.sexo = oneStepDf.sexo.astype(int)"
   ]
  },
  {
   "cell_type": "code",
   "execution_count": null,
   "id": "19f23d32-3a76-462d-bf4c-d903d8e78138",
   "metadata": {},
   "outputs": [],
   "source": [
    "oneStepDf.sexo.dtype"
   ]
  },
  {
   "cell_type": "code",
   "execution_count": null,
   "id": "883ee8d1-c566-486f-bf96-cdf98f713616",
   "metadata": {},
   "outputs": [],
   "source": [
    "oneStepDf"
   ]
  },
  {
   "cell_type": "markdown",
   "id": "b3f7eb9f-891b-4ea2-89a3-bb564ab194d3",
   "metadata": {
    "tags": []
   },
   "source": [
    "### 거주지 지수"
   ]
  },
  {
   "cell_type": "code",
   "execution_count": null,
   "id": "1fa44371-c6d0-4e53-9db1-a2a29838e4f1",
   "metadata": {},
   "outputs": [],
   "source": [
    "dict = {\"N\":0, \"S\":1}\n",
    "\n",
    "oneStepDf.indresi = oneStepDf.indresi.str.upper()\n",
    "oneStepDf.indresi = oneStepDf.indresi.map(dict)"
   ]
  },
  {
   "cell_type": "code",
   "execution_count": null,
   "id": "9c0c5bd5-3ce1-4076-87df-f56c8e5748d0",
   "metadata": {},
   "outputs": [],
   "source": [
    "oneStepDf.indresi.unique()"
   ]
  },
  {
   "cell_type": "markdown",
   "id": "3c2430c5-9e0b-4478-84d8-0f9a05415454",
   "metadata": {},
   "source": [
    "### 외국인 지수"
   ]
  },
  {
   "cell_type": "code",
   "execution_count": null,
   "id": "33cbbfd5-c4b6-404c-a703-5e8faf59a1df",
   "metadata": {},
   "outputs": [],
   "source": [
    "dict = {\"N\":0, \"S\":1}\n",
    "\n",
    "oneStepDf.indext = oneStepDf.indext.str.upper()\n",
    "oneStepDf.indext = oneStepDf.indext.map(dict)"
   ]
  },
  {
   "cell_type": "code",
   "execution_count": null,
   "id": "0d9df65e-8a2d-4aba-9554-28871cc8f983",
   "metadata": {},
   "outputs": [],
   "source": [
    "oneStepDf.indext.unique()"
   ]
  },
  {
   "cell_type": "markdown",
   "id": "67118381-1a31-4d74-940a-69dcc7441d51",
   "metadata": {},
   "source": [
    "### 고객 분류"
   ]
  },
  {
   "cell_type": "code",
   "execution_count": null,
   "id": "fb5326c6-a958-4037-a866-c4fc05f8d039",
   "metadata": {},
   "outputs": [],
   "source": [
    "oneStepDf.segmento = np.where( oneStepDf.segmento == '03 - UNIVERSITARIO', 0, \n",
    "                     np.where( oneStepDf.segmento == '01 - TOP', 1,\n",
    "                     np.where( oneStepDf.segmento == '02 - PARTICULARES', 1, oneStepDf.segmento)))"
   ]
  },
  {
   "cell_type": "code",
   "execution_count": null,
   "id": "b30d5533-04d7-4890-afda-3225943ed1d8",
   "metadata": {},
   "outputs": [],
   "source": [
    "oneStepDf.segmento = oneStepDf.segmento.astype(int)"
   ]
  },
  {
   "cell_type": "code",
   "execution_count": null,
   "id": "424be881-03e5-4aff-b8aa-442e4715a45b",
   "metadata": {},
   "outputs": [],
   "source": [
    "oneStepDf.segmento.dtype"
   ]
  },
  {
   "cell_type": "code",
   "execution_count": null,
   "id": "4037f5d1-17d2-41c5-8730-5e2f38845901",
   "metadata": {},
   "outputs": [],
   "source": [
    "oneStepDf.dtypes"
   ]
  },
  {
   "cell_type": "code",
   "execution_count": null,
   "id": "76a69983-f00f-49f2-a164-bfd10aa790d7",
   "metadata": {},
   "outputs": [],
   "source": [
    "oneStepDf = oneStepDf.reset_index(drop=True)"
   ]
  },
  {
   "cell_type": "code",
   "execution_count": null,
   "id": "6e271c67-517b-43aa-928b-88acabebf32d",
   "metadata": {},
   "outputs": [],
   "source": [
    "oneStepDf"
   ]
  },
  {
   "cell_type": "code",
   "execution_count": null,
   "id": "24ca8124-da0f-4a1b-bbb6-e320cda20174",
   "metadata": {},
   "outputs": [],
   "source": [
    "oneStepDf = oneStepDf.loc[(oneStepDf.ind_ahor_fin_ult1 != 0) |(oneStepDf.ind_cno_fin_ult1 != 0) |(oneStepDf.ind_ctju_fin_ult1 != 0) |\\\n",
    "              (oneStepDf.ind_deco_fin_ult1 != 0) |(oneStepDf.ind_deme_fin_ult1 != 0) |(oneStepDf.ind_dela_fin_ult1 != 0) |\\\n",
    "              (oneStepDf.ind_fond_fin_ult1 != 0) |(oneStepDf.ind_plan_fin_ult1 != 0) |(oneStepDf.ind_pres_fin_ult1 != 0) |\\\n",
    "              (oneStepDf.ind_tjcr_fin_ult1 != 0) |(oneStepDf.ind_valo_fin_ult1 != 0)]"
   ]
  },
  {
   "cell_type": "code",
   "execution_count": null,
   "id": "04dc6f00-1199-4223-9f4f-64d3e921d860",
   "metadata": {},
   "outputs": [],
   "source": [
    "oneStepDf = oneStepDf.reset_index(drop=True)"
   ]
  },
  {
   "cell_type": "code",
   "execution_count": null,
   "id": "2788f4be-ce38-4de1-8f7d-d17512175184",
   "metadata": {},
   "outputs": [],
   "source": [
    "### 라벨 생성"
   ]
  },
  {
   "cell_type": "code",
   "execution_count": null,
   "id": "93c27a22-1afc-4faf-a17f-698548ff5f75",
   "metadata": {},
   "outputs": [],
   "source": [
    "oneStepDf.columns"
   ]
  },
  {
   "cell_type": "code",
   "execution_count": null,
   "id": "dcf10d29-0977-4174-999f-49ea365b4a37",
   "metadata": {},
   "outputs": [],
   "source": [
    "# 라벨부분 컬럼\n",
    "expandColumn = ['ind_ahor_fin_ult1', 'ind_cno_fin_ult1',\\\n",
    "                'ind_ctju_fin_ult1', 'ind_deco_fin_ult1', 'ind_deme_fin_ult1',\\\n",
    "                'ind_dela_fin_ult1', 'ind_fond_fin_ult1', 'ind_plan_fin_ult1',\\\n",
    "                'ind_pres_fin_ult1', 'ind_tjcr_fin_ult1', 'ind_valo_fin_ult1']"
   ]
  },
  {
   "cell_type": "code",
   "execution_count": null,
   "id": "58286e8b-2962-4fac-b04d-2f7927e94e4c",
   "metadata": {},
   "outputs": [],
   "source": [
    "# 컬럼\n",
    "dataCol = ['sexo', 'age', 'indext', 'renta', 'segmento']"
   ]
  },
  {
   "cell_type": "code",
   "execution_count": null,
   "id": "023a3b65-c9d1-4907-bd0b-914944f8d0cc",
   "metadata": {},
   "outputs": [],
   "source": [
    "import tqdm"
   ]
  },
  {
   "cell_type": "code",
   "execution_count": null,
   "id": "756e8993-04fd-42ba-9637-4295573a6209",
   "metadata": {},
   "outputs": [],
   "source": [
    "### 파일 불러오기"
   ]
  },
  {
   "cell_type": "code",
   "execution_count": null,
   "id": "0b9ed20d-7da1-4201-afb8-20d42d83bc54",
   "metadata": {},
   "outputs": [],
   "source": [
    "wholeList = []\n",
    "for i in tqdm.tqdm(range(len(oneStepDf))):\n",
    "    for j in expandColumn:\n",
    "        rowList = []\n",
    "        rowList.append(oneStepDf[j][i])\n",
    "        for k in dataCol:\n",
    "            rowList.append(oneStepDf[k][i])\n",
    "        wholeList.append(rowList)\n",
    "secondStepDf = pd.DataFrame(wholeList)"
   ]
  },
  {
   "cell_type": "code",
   "execution_count": null,
   "id": "4775298e-9d7d-457f-8ced-d72c938169dc",
   "metadata": {},
   "outputs": [],
   "source": [
    "secondStepDf.to_csv(\"./testData.csv\", index=False, mode =\"w\")"
   ]
  },
  {
   "cell_type": "code",
   "execution_count": null,
   "id": "c375a018-4bc4-438a-9e64-2b6ef6d8c4c3",
   "metadata": {},
   "outputs": [],
   "source": [
    "secondStepDf.rename(columns={0:\"product\"}, inplace=True)\n",
    "secondStepDf.rename(columns={1:\"sexo\"}, inplace=True)\n",
    "secondStepDf.rename(columns={2:\"age\"}, inplace=True)\n",
    "secondStepDf.rename(columns={3:\"indext\"}, inplace=True)\n",
    "secondStepDf.rename(columns={4:\"renta\"}, inplace=True)\n",
    "secondStepDf.rename(columns={5:\"segmento\"}, inplace=True)\n",
    "\n",
    "secondStepDf"
   ]
  },
  {
   "cell_type": "code",
   "execution_count": null,
   "id": "e79a3664-21a5-4782-8d72-36387e569ced",
   "metadata": {},
   "outputs": [],
   "source": [
    "secondStepDf = secondStepDf[secondStepDf[\"product\"]!=0]"
   ]
  },
  {
   "cell_type": "code",
   "execution_count": null,
   "id": "085d11c8-63d9-438f-b23b-c383c7b0d09f",
   "metadata": {},
   "outputs": [],
   "source": [
    "secondStepDf = secondStepDf.reset_index(drop=True)"
   ]
  },
  {
   "cell_type": "code",
   "execution_count": null,
   "id": "8be26c3d-a10f-4e16-86b7-001ec551e61f",
   "metadata": {},
   "outputs": [],
   "source": [
    "secondStepDf"
   ]
  },
  {
   "cell_type": "code",
   "execution_count": null,
   "id": "6f8f8190-fa1e-482d-bb08-0ab08e1f4caa",
   "metadata": {},
   "outputs": [],
   "source": [
    "# mode='w' : 덮어쓰기\n",
    "secondStepDf.to_csv('../data/sub_test.csv', index=False, mode='w')"
   ]
  },
  {
   "cell_type": "code",
   "execution_count": null,
   "id": "96c9248a-b65e-4db4-9dd3-354697ff0ba5",
   "metadata": {},
   "outputs": [],
   "source": [
    "feature = ['sexo', 'age', 'indext', 'renta', 'segmento']"
   ]
  },
  {
   "cell_type": "code",
   "execution_count": null,
   "id": "f306ee2c-e6ff-47f2-ada2-fa3dd72f6a6c",
   "metadata": {},
   "outputs": [],
   "source": [
    "label = ['product']"
   ]
  },
  {
   "cell_type": "code",
   "execution_count": null,
   "id": "55d21f13-973c-4b6a-9b9f-cd6987711f94",
   "metadata": {},
   "outputs": [],
   "source": [
    "featuredData = secondStepDf.loc[:,feature]\n",
    "labelData = secondStepDf.loc[:,label]"
   ]
  },
  {
   "cell_type": "code",
   "execution_count": null,
   "id": "db8299a4-bc5a-4745-a5f5-81dd4e490b83",
   "metadata": {},
   "outputs": [],
   "source": [
    "print(featuredData.shape)\n",
    "print(labelData.shape)"
   ]
  },
  {
   "cell_type": "code",
   "execution_count": null,
   "id": "ce3ba072-cef1-4311-84cc-d111cc8c9422",
   "metadata": {},
   "outputs": [],
   "source": [
    "from sklearn.model_selection import train_test_split"
   ]
  },
  {
   "cell_type": "code",
   "execution_count": null,
   "id": "59710d55-2926-415a-9deb-638e042463fc",
   "metadata": {},
   "outputs": [],
   "source": [
    "trainFeatData,\\\n",
    "testFeatData,\\\n",
    "trainLabelData,\\\n",
    "testLabelData = train_test_split(featuredData, labelData, test_size=0.3 ,random_state=10)"
   ]
  },
  {
   "cell_type": "code",
   "execution_count": null,
   "id": "e39c44f7-b761-4a8d-817a-2162354dbd70",
   "metadata": {},
   "outputs": [],
   "source": [
    "index = list(trainFeatData.index)"
   ]
  },
  {
   "cell_type": "code",
   "execution_count": null,
   "id": "5835d787-5227-4ecd-bcc3-1d8e8e74e79d",
   "metadata": {},
   "outputs": [],
   "source": [
    "print(trainFeatData.shape)\n",
    "print(trainLabelData.shape)\n",
    "print(testFeatData.shape)\n",
    "print(testLabelData.shape)"
   ]
  },
  {
   "cell_type": "code",
   "execution_count": null,
   "id": "bbb3c4cc-29b0-466b-9731-097ca0bbe905",
   "metadata": {},
   "outputs": [],
   "source": [
    "from sklearn.tree import DecisionTreeClassifier"
   ]
  },
  {
   "cell_type": "code",
   "execution_count": null,
   "id": "3a37f083-6ffe-457e-ba8e-97316b28a822",
   "metadata": {},
   "outputs": [],
   "source": [
    "model_method = DecisionTreeClassifier()"
   ]
  },
  {
   "cell_type": "code",
   "execution_count": null,
   "id": "fcea7991-473c-4819-8b0b-f2d74dd8307e",
   "metadata": {},
   "outputs": [],
   "source": [
    "trainLabelData.columns"
   ]
  },
  {
   "cell_type": "code",
   "execution_count": null,
   "id": "a2fa474b-de0e-4d85-ac16-121d29272e3c",
   "metadata": {},
   "outputs": [],
   "source": [
    "trainFeatData.columns"
   ]
  },
  {
   "cell_type": "code",
   "execution_count": null,
   "id": "ecaa7164-27fa-4b7e-97b6-129b3bbfa68a",
   "metadata": {},
   "outputs": [],
   "source": [
    "trainLabelData.drop_duplicates()"
   ]
  },
  {
   "cell_type": "code",
   "execution_count": null,
   "id": "5d7431af-69ea-4505-8955-232cf0d25056",
   "metadata": {},
   "outputs": [],
   "source": [
    "model = model_method.fit(X = trainFeatData,\\\n",
    "                         y = trainLabelData)"
   ]
  },
  {
   "cell_type": "code",
   "execution_count": null,
   "id": "f63dbad5-9177-4f4d-b5f3-5f25a3d7f434",
   "metadata": {},
   "outputs": [],
   "source": [
    "tree_pred = model.predict(X = testFeatData)"
   ]
  },
  {
   "cell_type": "code",
   "execution_count": null,
   "id": "4e015250-c576-48e0-8212-c112826055ee",
   "metadata": {},
   "outputs": [],
   "source": [
    "tree_pred = pd.DataFrame(tree_pred, columns=[\"tree_pred\"])"
   ]
  },
  {
   "cell_type": "code",
   "execution_count": null,
   "id": "c08cfc0a-6386-4e96-aa16-bb73b13ef519",
   "metadata": {},
   "outputs": [],
   "source": [
    "from sklearn.metrics import accuracy_score"
   ]
  },
  {
   "cell_type": "code",
   "execution_count": null,
   "id": "dc1282be-ea13-4d6e-95cc-d496fcbb2eb3",
   "metadata": {},
   "outputs": [],
   "source": [
    "testLabelData = testLabelData.reset_index(drop=True)"
   ]
  },
  {
   "cell_type": "code",
   "execution_count": null,
   "id": "d1e92b62-1bd3-4230-9251-f477c926592f",
   "metadata": {},
   "outputs": [],
   "source": [
    "score = accuracy_score(testLabelData, tree_pred)"
   ]
  },
  {
   "cell_type": "code",
   "execution_count": null,
   "id": "f63405fd-23e7-4273-b788-0a6cd891e1c1",
   "metadata": {},
   "outputs": [],
   "source": [
    "score"
   ]
  },
  {
   "cell_type": "code",
   "execution_count": null,
   "id": "f8759d8b-5eb5-4c60-8000-a3858b62ffeb",
   "metadata": {},
   "outputs": [],
   "source": []
  },
  {
   "cell_type": "code",
   "execution_count": null,
   "id": "399c6073-d876-4b7c-b309-612221823166",
   "metadata": {},
   "outputs": [],
   "source": []
  },
  {
   "cell_type": "code",
   "execution_count": null,
   "id": "81b0d167-878b-43e1-8cd3-68bf93f84757",
   "metadata": {},
   "outputs": [],
   "source": []
  },
  {
   "cell_type": "code",
   "execution_count": null,
   "id": "4997f11e-5eed-47f2-b99b-54109b731bf8",
   "metadata": {},
   "outputs": [],
   "source": []
  }
 ],
 "metadata": {
  "kernelspec": {
   "display_name": "Python 3 (ipykernel)",
   "language": "python",
   "name": "python3"
  },
  "language_info": {
   "codemirror_mode": {
    "name": "ipython",
    "version": 3
   },
   "file_extension": ".py",
   "mimetype": "text/x-python",
   "name": "python",
   "nbconvert_exporter": "python",
   "pygments_lexer": "ipython3",
   "version": "3.9.13"
  }
 },
 "nbformat": 4,
 "nbformat_minor": 5
}
