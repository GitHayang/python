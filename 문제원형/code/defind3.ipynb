{
 "cells": [
  {
   "cell_type": "code",
   "execution_count": 1,
   "id": "940de68e-504b-406d-8e62-4486d89a4bed",
   "metadata": {},
   "outputs": [],
   "source": [
    "import pandas as pd \n",
    "import numpy as np"
   ]
  },
  {
   "cell_type": "code",
   "execution_count": 2,
   "id": "608b45c6-7e77-4968-9a9f-10cc6d02bffc",
   "metadata": {},
   "outputs": [],
   "source": [
    "baseData = pd.read_csv(\"../data/data3_refind.csv\")"
   ]
  },
  {
   "cell_type": "code",
   "execution_count": 3,
   "id": "0941284f-4a05-40e6-a4f1-c56a010e870e",
   "metadata": {},
   "outputs": [],
   "source": [
    "baseData = baseData.rename(columns={\"0\":\"product\"})\n",
    "baseData = baseData.rename(columns={\"1\":\"sexo\"})\n",
    "baseData = baseData.rename(columns={\"2\":\"age\"})\n",
    "baseData = baseData.rename(columns={\"3\":\"indrel_1mes\"})\n",
    "baseData = baseData.rename(columns={\"4\":\"tiprel_1mes\"})\n",
    "baseData = baseData.rename(columns={\"5\":\"indresi\"})\n",
    "baseData = baseData.rename(columns={\"6\":\"indext\"})\n",
    "baseData = baseData.rename(columns={\"7\":\"renta\"})\n",
    "baseData = baseData.rename(columns={\"8\":\"segmento\"})"
   ]
  },
  {
   "cell_type": "code",
   "execution_count": 4,
   "id": "98d2941c-e1c5-4cde-a731-4f13e412dc36",
   "metadata": {},
   "outputs": [
    {
     "data": {
      "text/html": [
       "<div>\n",
       "<style scoped>\n",
       "    .dataframe tbody tr th:only-of-type {\n",
       "        vertical-align: middle;\n",
       "    }\n",
       "\n",
       "    .dataframe tbody tr th {\n",
       "        vertical-align: top;\n",
       "    }\n",
       "\n",
       "    .dataframe thead th {\n",
       "        text-align: right;\n",
       "    }\n",
       "</style>\n",
       "<table border=\"1\" class=\"dataframe\">\n",
       "  <thead>\n",
       "    <tr style=\"text-align: right;\">\n",
       "      <th></th>\n",
       "      <th>product</th>\n",
       "      <th>sexo</th>\n",
       "      <th>age</th>\n",
       "      <th>indrel_1mes</th>\n",
       "      <th>tiprel_1mes</th>\n",
       "      <th>indresi</th>\n",
       "      <th>indext</th>\n",
       "      <th>renta</th>\n",
       "      <th>segmento</th>\n",
       "    </tr>\n",
       "  </thead>\n",
       "  <tbody>\n",
       "    <tr>\n",
       "      <th>0</th>\n",
       "      <td>0</td>\n",
       "      <td>0</td>\n",
       "      <td>8</td>\n",
       "      <td>1</td>\n",
       "      <td>0</td>\n",
       "      <td>1</td>\n",
       "      <td>0</td>\n",
       "      <td>1</td>\n",
       "      <td>1</td>\n",
       "    </tr>\n",
       "    <tr>\n",
       "      <th>1</th>\n",
       "      <td>0</td>\n",
       "      <td>0</td>\n",
       "      <td>8</td>\n",
       "      <td>1</td>\n",
       "      <td>0</td>\n",
       "      <td>1</td>\n",
       "      <td>0</td>\n",
       "      <td>1</td>\n",
       "      <td>1</td>\n",
       "    </tr>\n",
       "    <tr>\n",
       "      <th>2</th>\n",
       "      <td>0</td>\n",
       "      <td>0</td>\n",
       "      <td>8</td>\n",
       "      <td>1</td>\n",
       "      <td>0</td>\n",
       "      <td>1</td>\n",
       "      <td>0</td>\n",
       "      <td>1</td>\n",
       "      <td>1</td>\n",
       "    </tr>\n",
       "    <tr>\n",
       "      <th>3</th>\n",
       "      <td>0</td>\n",
       "      <td>0</td>\n",
       "      <td>8</td>\n",
       "      <td>1</td>\n",
       "      <td>0</td>\n",
       "      <td>1</td>\n",
       "      <td>0</td>\n",
       "      <td>1</td>\n",
       "      <td>1</td>\n",
       "    </tr>\n",
       "    <tr>\n",
       "      <th>4</th>\n",
       "      <td>0</td>\n",
       "      <td>0</td>\n",
       "      <td>8</td>\n",
       "      <td>1</td>\n",
       "      <td>0</td>\n",
       "      <td>1</td>\n",
       "      <td>0</td>\n",
       "      <td>1</td>\n",
       "      <td>1</td>\n",
       "    </tr>\n",
       "    <tr>\n",
       "      <th>...</th>\n",
       "      <td>...</td>\n",
       "      <td>...</td>\n",
       "      <td>...</td>\n",
       "      <td>...</td>\n",
       "      <td>...</td>\n",
       "      <td>...</td>\n",
       "      <td>...</td>\n",
       "      <td>...</td>\n",
       "      <td>...</td>\n",
       "    </tr>\n",
       "    <tr>\n",
       "      <th>39585541</th>\n",
       "      <td>0</td>\n",
       "      <td>1</td>\n",
       "      <td>2</td>\n",
       "      <td>1</td>\n",
       "      <td>0</td>\n",
       "      <td>1</td>\n",
       "      <td>0</td>\n",
       "      <td>1</td>\n",
       "      <td>0</td>\n",
       "    </tr>\n",
       "    <tr>\n",
       "      <th>39585542</th>\n",
       "      <td>0</td>\n",
       "      <td>1</td>\n",
       "      <td>2</td>\n",
       "      <td>1</td>\n",
       "      <td>0</td>\n",
       "      <td>1</td>\n",
       "      <td>0</td>\n",
       "      <td>1</td>\n",
       "      <td>0</td>\n",
       "    </tr>\n",
       "    <tr>\n",
       "      <th>39585543</th>\n",
       "      <td>0</td>\n",
       "      <td>1</td>\n",
       "      <td>2</td>\n",
       "      <td>1</td>\n",
       "      <td>0</td>\n",
       "      <td>1</td>\n",
       "      <td>0</td>\n",
       "      <td>1</td>\n",
       "      <td>0</td>\n",
       "    </tr>\n",
       "    <tr>\n",
       "      <th>39585544</th>\n",
       "      <td>0</td>\n",
       "      <td>1</td>\n",
       "      <td>2</td>\n",
       "      <td>1</td>\n",
       "      <td>0</td>\n",
       "      <td>1</td>\n",
       "      <td>0</td>\n",
       "      <td>1</td>\n",
       "      <td>0</td>\n",
       "    </tr>\n",
       "    <tr>\n",
       "      <th>39585545</th>\n",
       "      <td>0</td>\n",
       "      <td>1</td>\n",
       "      <td>2</td>\n",
       "      <td>1</td>\n",
       "      <td>0</td>\n",
       "      <td>1</td>\n",
       "      <td>0</td>\n",
       "      <td>1</td>\n",
       "      <td>0</td>\n",
       "    </tr>\n",
       "  </tbody>\n",
       "</table>\n",
       "<p>39585546 rows × 9 columns</p>\n",
       "</div>"
      ],
      "text/plain": [
       "         product  sexo  age  indrel_1mes  tiprel_1mes  indresi  indext  renta  \\\n",
       "0              0     0    8            1            0        1       0      1   \n",
       "1              0     0    8            1            0        1       0      1   \n",
       "2              0     0    8            1            0        1       0      1   \n",
       "3              0     0    8            1            0        1       0      1   \n",
       "4              0     0    8            1            0        1       0      1   \n",
       "...          ...   ...  ...          ...          ...      ...     ...    ...   \n",
       "39585541       0     1    2            1            0        1       0      1   \n",
       "39585542       0     1    2            1            0        1       0      1   \n",
       "39585543       0     1    2            1            0        1       0      1   \n",
       "39585544       0     1    2            1            0        1       0      1   \n",
       "39585545       0     1    2            1            0        1       0      1   \n",
       "\n",
       "          segmento  \n",
       "0                1  \n",
       "1                1  \n",
       "2                1  \n",
       "3                1  \n",
       "4                1  \n",
       "...            ...  \n",
       "39585541         0  \n",
       "39585542         0  \n",
       "39585543         0  \n",
       "39585544         0  \n",
       "39585545         0  \n",
       "\n",
       "[39585546 rows x 9 columns]"
      ]
     },
     "execution_count": 4,
     "metadata": {},
     "output_type": "execute_result"
    }
   ],
   "source": [
    "baseData"
   ]
  },
  {
   "cell_type": "code",
   "execution_count": 5,
   "id": "84de0d24-e640-48fd-857d-abdc43bb7f9b",
   "metadata": {},
   "outputs": [],
   "source": [
    "baseData = baseData[baseData[\"product\"] != \"0\"]"
   ]
  },
  {
   "cell_type": "code",
   "execution_count": 6,
   "id": "b9179a3d-78c6-4338-b39f-e98d68ce6fa6",
   "metadata": {},
   "outputs": [],
   "source": [
    "baseData = baseData.reset_index(drop=True)"
   ]
  },
  {
   "cell_type": "code",
   "execution_count": 7,
   "id": "a6625aa9-d685-4f4f-aae1-1f98bd69e2fe",
   "metadata": {},
   "outputs": [
    {
     "data": {
      "text/plain": [
       "0        장기예금\n",
       "1          증권\n",
       "2        급여계좌\n",
       "7        펀드계좌\n",
       "11       신용카드\n",
       "14         연금\n",
       "21      주니어계좌\n",
       "47       중기예금\n",
       "123      단기예금\n",
       "234        대출\n",
       "3008     저축계좌\n",
       "Name: product, dtype: object"
      ]
     },
     "execution_count": 7,
     "metadata": {},
     "output_type": "execute_result"
    }
   ],
   "source": [
    "baseData[\"product\"].drop_duplicates()"
   ]
  },
  {
   "cell_type": "code",
   "execution_count": 8,
   "id": "4217383a-dc66-4bb2-89df-9c07a3554e72",
   "metadata": {},
   "outputs": [
    {
     "data": {
      "text/html": [
       "<div>\n",
       "<style scoped>\n",
       "    .dataframe tbody tr th:only-of-type {\n",
       "        vertical-align: middle;\n",
       "    }\n",
       "\n",
       "    .dataframe tbody tr th {\n",
       "        vertical-align: top;\n",
       "    }\n",
       "\n",
       "    .dataframe thead th {\n",
       "        text-align: right;\n",
       "    }\n",
       "</style>\n",
       "<table border=\"1\" class=\"dataframe\">\n",
       "  <thead>\n",
       "    <tr style=\"text-align: right;\">\n",
       "      <th></th>\n",
       "      <th>product</th>\n",
       "      <th>sexo</th>\n",
       "      <th>age</th>\n",
       "      <th>indrel_1mes</th>\n",
       "      <th>tiprel_1mes</th>\n",
       "      <th>indresi</th>\n",
       "      <th>indext</th>\n",
       "      <th>renta</th>\n",
       "      <th>segmento</th>\n",
       "    </tr>\n",
       "  </thead>\n",
       "  <tbody>\n",
       "    <tr>\n",
       "      <th>0</th>\n",
       "      <td>장기예금</td>\n",
       "      <td>1</td>\n",
       "      <td>6</td>\n",
       "      <td>1</td>\n",
       "      <td>1</td>\n",
       "      <td>1</td>\n",
       "      <td>0</td>\n",
       "      <td>1</td>\n",
       "      <td>1</td>\n",
       "    </tr>\n",
       "    <tr>\n",
       "      <th>1</th>\n",
       "      <td>증권</td>\n",
       "      <td>0</td>\n",
       "      <td>5</td>\n",
       "      <td>1</td>\n",
       "      <td>1</td>\n",
       "      <td>1</td>\n",
       "      <td>0</td>\n",
       "      <td>1</td>\n",
       "      <td>1</td>\n",
       "    </tr>\n",
       "    <tr>\n",
       "      <th>2</th>\n",
       "      <td>급여계좌</td>\n",
       "      <td>0</td>\n",
       "      <td>4</td>\n",
       "      <td>1</td>\n",
       "      <td>1</td>\n",
       "      <td>1</td>\n",
       "      <td>0</td>\n",
       "      <td>1</td>\n",
       "      <td>1</td>\n",
       "    </tr>\n",
       "    <tr>\n",
       "      <th>3</th>\n",
       "      <td>증권</td>\n",
       "      <td>0</td>\n",
       "      <td>3</td>\n",
       "      <td>1</td>\n",
       "      <td>1</td>\n",
       "      <td>1</td>\n",
       "      <td>0</td>\n",
       "      <td>1</td>\n",
       "      <td>1</td>\n",
       "    </tr>\n",
       "    <tr>\n",
       "      <th>4</th>\n",
       "      <td>급여계좌</td>\n",
       "      <td>0</td>\n",
       "      <td>5</td>\n",
       "      <td>1</td>\n",
       "      <td>1</td>\n",
       "      <td>1</td>\n",
       "      <td>0</td>\n",
       "      <td>1</td>\n",
       "      <td>1</td>\n",
       "    </tr>\n",
       "    <tr>\n",
       "      <th>...</th>\n",
       "      <td>...</td>\n",
       "      <td>...</td>\n",
       "      <td>...</td>\n",
       "      <td>...</td>\n",
       "      <td>...</td>\n",
       "      <td>...</td>\n",
       "      <td>...</td>\n",
       "      <td>...</td>\n",
       "      <td>...</td>\n",
       "    </tr>\n",
       "    <tr>\n",
       "      <th>829441</th>\n",
       "      <td>급여계좌</td>\n",
       "      <td>0</td>\n",
       "      <td>2</td>\n",
       "      <td>1</td>\n",
       "      <td>0</td>\n",
       "      <td>1</td>\n",
       "      <td>0</td>\n",
       "      <td>1</td>\n",
       "      <td>0</td>\n",
       "    </tr>\n",
       "    <tr>\n",
       "      <th>829442</th>\n",
       "      <td>주니어계좌</td>\n",
       "      <td>1</td>\n",
       "      <td>1</td>\n",
       "      <td>1</td>\n",
       "      <td>1</td>\n",
       "      <td>1</td>\n",
       "      <td>0</td>\n",
       "      <td>1</td>\n",
       "      <td>1</td>\n",
       "    </tr>\n",
       "    <tr>\n",
       "      <th>829443</th>\n",
       "      <td>주니어계좌</td>\n",
       "      <td>0</td>\n",
       "      <td>1</td>\n",
       "      <td>1</td>\n",
       "      <td>1</td>\n",
       "      <td>1</td>\n",
       "      <td>0</td>\n",
       "      <td>1</td>\n",
       "      <td>1</td>\n",
       "    </tr>\n",
       "    <tr>\n",
       "      <th>829444</th>\n",
       "      <td>급여계좌</td>\n",
       "      <td>1</td>\n",
       "      <td>2</td>\n",
       "      <td>1</td>\n",
       "      <td>1</td>\n",
       "      <td>1</td>\n",
       "      <td>0</td>\n",
       "      <td>1</td>\n",
       "      <td>0</td>\n",
       "    </tr>\n",
       "    <tr>\n",
       "      <th>829445</th>\n",
       "      <td>급여계좌</td>\n",
       "      <td>1</td>\n",
       "      <td>2</td>\n",
       "      <td>1</td>\n",
       "      <td>1</td>\n",
       "      <td>1</td>\n",
       "      <td>0</td>\n",
       "      <td>1</td>\n",
       "      <td>0</td>\n",
       "    </tr>\n",
       "  </tbody>\n",
       "</table>\n",
       "<p>829446 rows × 9 columns</p>\n",
       "</div>"
      ],
      "text/plain": [
       "       product  sexo  age  indrel_1mes  tiprel_1mes  indresi  indext  renta  \\\n",
       "0         장기예금     1    6            1            1        1       0      1   \n",
       "1           증권     0    5            1            1        1       0      1   \n",
       "2         급여계좌     0    4            1            1        1       0      1   \n",
       "3           증권     0    3            1            1        1       0      1   \n",
       "4         급여계좌     0    5            1            1        1       0      1   \n",
       "...        ...   ...  ...          ...          ...      ...     ...    ...   \n",
       "829441    급여계좌     0    2            1            0        1       0      1   \n",
       "829442   주니어계좌     1    1            1            1        1       0      1   \n",
       "829443   주니어계좌     0    1            1            1        1       0      1   \n",
       "829444    급여계좌     1    2            1            1        1       0      1   \n",
       "829445    급여계좌     1    2            1            1        1       0      1   \n",
       "\n",
       "        segmento  \n",
       "0              1  \n",
       "1              1  \n",
       "2              1  \n",
       "3              1  \n",
       "4              1  \n",
       "...          ...  \n",
       "829441         0  \n",
       "829442         1  \n",
       "829443         1  \n",
       "829444         0  \n",
       "829445         0  \n",
       "\n",
       "[829446 rows x 9 columns]"
      ]
     },
     "execution_count": 8,
     "metadata": {},
     "output_type": "execute_result"
    }
   ],
   "source": [
    "baseData"
   ]
  },
  {
   "cell_type": "code",
   "execution_count": 9,
   "id": "b5bc2460-5cf6-4f44-96a2-a4434267ad23",
   "metadata": {},
   "outputs": [],
   "source": [
    "feature = ['sexo', 'age', 'indext', 'renta']"
   ]
  },
  {
   "cell_type": "code",
   "execution_count": 10,
   "id": "368f5d12-0329-498e-aca9-3f0eaf3cc8eb",
   "metadata": {},
   "outputs": [],
   "source": [
    "label = ['product']"
   ]
  },
  {
   "cell_type": "code",
   "execution_count": 11,
   "id": "09c8f828-929f-4b20-a666-4d175299fd85",
   "metadata": {},
   "outputs": [],
   "source": [
    "featuredData = baseData.loc[:,feature]\n",
    "labelData = baseData.loc[:,label]"
   ]
  },
  {
   "cell_type": "code",
   "execution_count": 12,
   "id": "150c00ee-4d12-41cc-8e45-9090ce8d1690",
   "metadata": {},
   "outputs": [
    {
     "name": "stdout",
     "output_type": "stream",
     "text": [
      "(829446, 4)\n",
      "(829446, 1)\n"
     ]
    }
   ],
   "source": [
    "print(featuredData.shape)\n",
    "print(labelData.shape)"
   ]
  },
  {
   "cell_type": "code",
   "execution_count": 13,
   "id": "677fbd6e-3c08-4474-ab1d-520e020c0e2d",
   "metadata": {},
   "outputs": [],
   "source": [
    "from sklearn.model_selection import train_test_split"
   ]
  },
  {
   "cell_type": "code",
   "execution_count": 14,
   "id": "441cc28e-9bfa-4286-9063-191c282b5598",
   "metadata": {},
   "outputs": [],
   "source": [
    "trainFeatData,\\\n",
    "testFeatData,\\\n",
    "trainLabelData,\\\n",
    "testLabelData = train_test_split(featuredData, labelData, test_size=0.7 ,random_state=10)"
   ]
  },
  {
   "cell_type": "code",
   "execution_count": 15,
   "id": "5c69e995-8e55-4bb1-8388-d2da0b20aaa2",
   "metadata": {},
   "outputs": [],
   "source": [
    "index = list(trainFeatData.index)"
   ]
  },
  {
   "cell_type": "code",
   "execution_count": 16,
   "id": "a9c63799-398d-4da8-9cea-2f3392623112",
   "metadata": {},
   "outputs": [
    {
     "name": "stdout",
     "output_type": "stream",
     "text": [
      "(248833, 4)\n",
      "(248833, 1)\n",
      "(580613, 4)\n",
      "(580613, 1)\n"
     ]
    }
   ],
   "source": [
    "print(trainFeatData.shape)\n",
    "print(trainLabelData.shape)\n",
    "print(testFeatData.shape)\n",
    "print(testLabelData.shape)"
   ]
  },
  {
   "cell_type": "code",
   "execution_count": 17,
   "id": "ace1a07d-f33b-4501-8609-d561b1ca1c3b",
   "metadata": {},
   "outputs": [],
   "source": [
    "from sklearn.tree import DecisionTreeClassifier"
   ]
  },
  {
   "cell_type": "code",
   "execution_count": 18,
   "id": "37bd2d92-9002-4680-b6b7-4ba65c064df2",
   "metadata": {},
   "outputs": [],
   "source": [
    "model_method = DecisionTreeClassifier()"
   ]
  },
  {
   "cell_type": "code",
   "execution_count": 19,
   "id": "aa97ce74-3cb4-4034-b216-4ab2e4d6fabc",
   "metadata": {},
   "outputs": [],
   "source": [
    "model = model_method.fit(X = trainFeatData,\\\n",
    "                         y = trainLabelData)"
   ]
  },
  {
   "cell_type": "code",
   "execution_count": 20,
   "id": "7de367dd-e962-4834-8224-c4230efb4386",
   "metadata": {},
   "outputs": [],
   "source": [
    "tree_pred = model.predict(X = testFeatData)"
   ]
  },
  {
   "cell_type": "code",
   "execution_count": 21,
   "id": "5a80ebd9-8628-4123-9a3f-c7efff03bbfe",
   "metadata": {},
   "outputs": [],
   "source": [
    "tree_pred = pd.DataFrame(tree_pred, columns=[\"tree_pred\"])"
   ]
  },
  {
   "cell_type": "code",
   "execution_count": 31,
   "id": "f556f877-fd5e-4466-91e2-98938571e283",
   "metadata": {},
   "outputs": [
    {
     "data": {
      "text/html": [
       "<div>\n",
       "<style scoped>\n",
       "    .dataframe tbody tr th:only-of-type {\n",
       "        vertical-align: middle;\n",
       "    }\n",
       "\n",
       "    .dataframe tbody tr th {\n",
       "        vertical-align: top;\n",
       "    }\n",
       "\n",
       "    .dataframe thead th {\n",
       "        text-align: right;\n",
       "    }\n",
       "</style>\n",
       "<table border=\"1\" class=\"dataframe\">\n",
       "  <thead>\n",
       "    <tr style=\"text-align: right;\">\n",
       "      <th></th>\n",
       "      <th>tree_pred</th>\n",
       "    </tr>\n",
       "  </thead>\n",
       "  <tbody>\n",
       "    <tr>\n",
       "      <th>0</th>\n",
       "      <td>급여계좌</td>\n",
       "    </tr>\n",
       "    <tr>\n",
       "      <th>5</th>\n",
       "      <td>주니어계좌</td>\n",
       "    </tr>\n",
       "    <tr>\n",
       "      <th>11</th>\n",
       "      <td>장기예금</td>\n",
       "    </tr>\n",
       "    <tr>\n",
       "      <th>552</th>\n",
       "      <td>신용카드</td>\n",
       "    </tr>\n",
       "    <tr>\n",
       "      <th>2796</th>\n",
       "      <td>펀드계좌</td>\n",
       "    </tr>\n",
       "    <tr>\n",
       "      <th>4583</th>\n",
       "      <td>증권</td>\n",
       "    </tr>\n",
       "    <tr>\n",
       "      <th>60969</th>\n",
       "      <td>대출</td>\n",
       "    </tr>\n",
       "    <tr>\n",
       "      <th>100038</th>\n",
       "      <td>연금</td>\n",
       "    </tr>\n",
       "  </tbody>\n",
       "</table>\n",
       "</div>"
      ],
      "text/plain": [
       "       tree_pred\n",
       "0           급여계좌\n",
       "5          주니어계좌\n",
       "11          장기예금\n",
       "552         신용카드\n",
       "2796        펀드계좌\n",
       "4583          증권\n",
       "60969         대출\n",
       "100038        연금"
      ]
     },
     "execution_count": 31,
     "metadata": {},
     "output_type": "execute_result"
    }
   ],
   "source": [
    "tree_pred.drop_duplicates()"
   ]
  },
  {
   "cell_type": "code",
   "execution_count": 23,
   "id": "12b1c1d1-5fa6-426b-b0f0-0a6146c81fa4",
   "metadata": {},
   "outputs": [],
   "source": [
    "from sklearn.metrics import accuracy_score"
   ]
  },
  {
   "cell_type": "code",
   "execution_count": 24,
   "id": "f7f42203-4f00-40de-be1c-1e37380140bb",
   "metadata": {},
   "outputs": [],
   "source": [
    "testLabelData = testLabelData.reset_index(drop=True)"
   ]
  },
  {
   "cell_type": "code",
   "execution_count": 25,
   "id": "2fa77ff4-074a-4c49-bdcf-19941d34291c",
   "metadata": {},
   "outputs": [],
   "source": [
    "score = accuracy_score(testLabelData, tree_pred)"
   ]
  },
  {
   "cell_type": "code",
   "execution_count": 26,
   "id": "b6d66fb6-3ba6-4b00-bf25-1d598eee365a",
   "metadata": {},
   "outputs": [
    {
     "data": {
      "text/plain": [
       "0.4174518999746819"
      ]
     },
     "execution_count": 26,
     "metadata": {},
     "output_type": "execute_result"
    }
   ],
   "source": [
    "score"
   ]
  },
  {
   "cell_type": "code",
   "execution_count": null,
   "id": "9c1d23bf-8143-4834-9d53-3aa977411c36",
   "metadata": {},
   "outputs": [],
   "source": []
  }
 ],
 "metadata": {
  "kernelspec": {
   "display_name": "Python 3 (ipykernel)",
   "language": "python",
   "name": "python3"
  },
  "language_info": {
   "codemirror_mode": {
    "name": "ipython",
    "version": 3
   },
   "file_extension": ".py",
   "mimetype": "text/x-python",
   "name": "python",
   "nbconvert_exporter": "python",
   "pygments_lexer": "ipython3",
   "version": "3.9.13"
  }
 },
 "nbformat": 4,
 "nbformat_minor": 5
}
