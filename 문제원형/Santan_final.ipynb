{
 "cells": [
  {
   "cell_type": "code",
   "execution_count": 1,
   "id": "c725f884-2eae-4ec0-a256-7ab7992d756f",
   "metadata": {},
   "outputs": [],
   "source": [
    "import pandas as pd\n",
    "import numpy as np"
   ]
  },
  {
   "cell_type": "markdown",
   "id": "c3f8d9c2-d983-4b97-b624-fc9c7fd2f101",
   "metadata": {},
   "source": [
    "# A. 데이터 전처리"
   ]
  },
  {
   "cell_type": "code",
   "execution_count": 144,
   "id": "21b8e021-c0c6-4526-bbf5-a197577a9672",
   "metadata": {},
   "outputs": [
    {
     "name": "stderr",
     "output_type": "stream",
     "text": [
      "C:\\Users\\SMART09\\AppData\\Local\\Temp\\ipykernel_3524\\1972658950.py:2: DtypeWarning: Columns (5,8,11,15) have mixed types. Specify dtype option on import or set low_memory=False.\n",
      "  trn = pd.read_csv('./train_ver2.csv')\n"
     ]
    },
    {
     "data": {
      "text/html": [
       "<div>\n",
       "<style scoped>\n",
       "    .dataframe tbody tr th:only-of-type {\n",
       "        vertical-align: middle;\n",
       "    }\n",
       "\n",
       "    .dataframe tbody tr th {\n",
       "        vertical-align: top;\n",
       "    }\n",
       "\n",
       "    .dataframe thead th {\n",
       "        text-align: right;\n",
       "    }\n",
       "</style>\n",
       "<table border=\"1\" class=\"dataframe\">\n",
       "  <thead>\n",
       "    <tr style=\"text-align: right;\">\n",
       "      <th></th>\n",
       "      <th>fecha_dato</th>\n",
       "      <th>ncodpers</th>\n",
       "      <th>ind_empleado</th>\n",
       "      <th>pais_residencia</th>\n",
       "      <th>sexo</th>\n",
       "      <th>age</th>\n",
       "      <th>fecha_alta</th>\n",
       "      <th>ind_nuevo</th>\n",
       "      <th>antiguedad</th>\n",
       "      <th>indrel</th>\n",
       "      <th>ult_fec_cli_1t</th>\n",
       "      <th>indrel_1mes</th>\n",
       "      <th>tiprel_1mes</th>\n",
       "      <th>indresi</th>\n",
       "      <th>indext</th>\n",
       "      <th>conyuemp</th>\n",
       "      <th>canal_entrada</th>\n",
       "      <th>indfall</th>\n",
       "      <th>tipodom</th>\n",
       "      <th>cod_prov</th>\n",
       "      <th>nomprov</th>\n",
       "      <th>ind_actividad_cliente</th>\n",
       "      <th>renta</th>\n",
       "      <th>segmento</th>\n",
       "      <th>ind_ahor_fin_ult1</th>\n",
       "      <th>ind_aval_fin_ult1</th>\n",
       "      <th>ind_cco_fin_ult1</th>\n",
       "      <th>ind_cder_fin_ult1</th>\n",
       "      <th>ind_cno_fin_ult1</th>\n",
       "      <th>ind_ctju_fin_ult1</th>\n",
       "      <th>ind_ctma_fin_ult1</th>\n",
       "      <th>ind_ctop_fin_ult1</th>\n",
       "      <th>ind_ctpp_fin_ult1</th>\n",
       "      <th>ind_deco_fin_ult1</th>\n",
       "      <th>ind_deme_fin_ult1</th>\n",
       "      <th>ind_dela_fin_ult1</th>\n",
       "      <th>ind_ecue_fin_ult1</th>\n",
       "      <th>ind_fond_fin_ult1</th>\n",
       "      <th>ind_hip_fin_ult1</th>\n",
       "      <th>ind_plan_fin_ult1</th>\n",
       "      <th>ind_pres_fin_ult1</th>\n",
       "      <th>ind_reca_fin_ult1</th>\n",
       "      <th>ind_tjcr_fin_ult1</th>\n",
       "      <th>ind_valo_fin_ult1</th>\n",
       "      <th>ind_viv_fin_ult1</th>\n",
       "      <th>ind_nomina_ult1</th>\n",
       "      <th>ind_nom_pens_ult1</th>\n",
       "      <th>ind_recibo_ult1</th>\n",
       "    </tr>\n",
       "  </thead>\n",
       "  <tbody>\n",
       "    <tr>\n",
       "      <th>0</th>\n",
       "      <td>2015-01-28</td>\n",
       "      <td>1375586</td>\n",
       "      <td>N</td>\n",
       "      <td>ES</td>\n",
       "      <td>H</td>\n",
       "      <td>35</td>\n",
       "      <td>2015-01-12</td>\n",
       "      <td>0.0</td>\n",
       "      <td>6</td>\n",
       "      <td>1.0</td>\n",
       "      <td>NaN</td>\n",
       "      <td>1.0</td>\n",
       "      <td>A</td>\n",
       "      <td>S</td>\n",
       "      <td>N</td>\n",
       "      <td>NaN</td>\n",
       "      <td>KHL</td>\n",
       "      <td>N</td>\n",
       "      <td>1.0</td>\n",
       "      <td>29.0</td>\n",
       "      <td>MALAGA</td>\n",
       "      <td>1.0</td>\n",
       "      <td>87218.10</td>\n",
       "      <td>02 - PARTICULARES</td>\n",
       "      <td>0</td>\n",
       "      <td>0</td>\n",
       "      <td>1</td>\n",
       "      <td>0</td>\n",
       "      <td>0</td>\n",
       "      <td>0</td>\n",
       "      <td>0</td>\n",
       "      <td>0</td>\n",
       "      <td>0</td>\n",
       "      <td>0</td>\n",
       "      <td>0</td>\n",
       "      <td>0</td>\n",
       "      <td>0</td>\n",
       "      <td>0</td>\n",
       "      <td>0</td>\n",
       "      <td>0</td>\n",
       "      <td>0</td>\n",
       "      <td>0</td>\n",
       "      <td>0</td>\n",
       "      <td>0</td>\n",
       "      <td>0</td>\n",
       "      <td>0.0</td>\n",
       "      <td>0.0</td>\n",
       "      <td>0</td>\n",
       "    </tr>\n",
       "    <tr>\n",
       "      <th>1</th>\n",
       "      <td>2015-01-28</td>\n",
       "      <td>1050611</td>\n",
       "      <td>N</td>\n",
       "      <td>ES</td>\n",
       "      <td>V</td>\n",
       "      <td>23</td>\n",
       "      <td>2012-08-10</td>\n",
       "      <td>0.0</td>\n",
       "      <td>35</td>\n",
       "      <td>1.0</td>\n",
       "      <td>NaN</td>\n",
       "      <td>1.0</td>\n",
       "      <td>I</td>\n",
       "      <td>S</td>\n",
       "      <td>S</td>\n",
       "      <td>NaN</td>\n",
       "      <td>KHE</td>\n",
       "      <td>N</td>\n",
       "      <td>1.0</td>\n",
       "      <td>13.0</td>\n",
       "      <td>CIUDAD REAL</td>\n",
       "      <td>0.0</td>\n",
       "      <td>35548.74</td>\n",
       "      <td>03 - UNIVERSITARIO</td>\n",
       "      <td>0</td>\n",
       "      <td>0</td>\n",
       "      <td>1</td>\n",
       "      <td>0</td>\n",
       "      <td>0</td>\n",
       "      <td>0</td>\n",
       "      <td>0</td>\n",
       "      <td>0</td>\n",
       "      <td>0</td>\n",
       "      <td>0</td>\n",
       "      <td>0</td>\n",
       "      <td>0</td>\n",
       "      <td>0</td>\n",
       "      <td>0</td>\n",
       "      <td>0</td>\n",
       "      <td>0</td>\n",
       "      <td>0</td>\n",
       "      <td>0</td>\n",
       "      <td>0</td>\n",
       "      <td>0</td>\n",
       "      <td>0</td>\n",
       "      <td>0.0</td>\n",
       "      <td>0.0</td>\n",
       "      <td>0</td>\n",
       "    </tr>\n",
       "    <tr>\n",
       "      <th>2</th>\n",
       "      <td>2015-01-28</td>\n",
       "      <td>1050612</td>\n",
       "      <td>N</td>\n",
       "      <td>ES</td>\n",
       "      <td>V</td>\n",
       "      <td>23</td>\n",
       "      <td>2012-08-10</td>\n",
       "      <td>0.0</td>\n",
       "      <td>35</td>\n",
       "      <td>1.0</td>\n",
       "      <td>NaN</td>\n",
       "      <td>1.0</td>\n",
       "      <td>I</td>\n",
       "      <td>S</td>\n",
       "      <td>N</td>\n",
       "      <td>NaN</td>\n",
       "      <td>KHE</td>\n",
       "      <td>N</td>\n",
       "      <td>1.0</td>\n",
       "      <td>13.0</td>\n",
       "      <td>CIUDAD REAL</td>\n",
       "      <td>0.0</td>\n",
       "      <td>122179.11</td>\n",
       "      <td>03 - UNIVERSITARIO</td>\n",
       "      <td>0</td>\n",
       "      <td>0</td>\n",
       "      <td>1</td>\n",
       "      <td>0</td>\n",
       "      <td>0</td>\n",
       "      <td>0</td>\n",
       "      <td>0</td>\n",
       "      <td>0</td>\n",
       "      <td>0</td>\n",
       "      <td>0</td>\n",
       "      <td>0</td>\n",
       "      <td>0</td>\n",
       "      <td>0</td>\n",
       "      <td>0</td>\n",
       "      <td>0</td>\n",
       "      <td>0</td>\n",
       "      <td>0</td>\n",
       "      <td>0</td>\n",
       "      <td>0</td>\n",
       "      <td>0</td>\n",
       "      <td>0</td>\n",
       "      <td>0.0</td>\n",
       "      <td>0.0</td>\n",
       "      <td>0</td>\n",
       "    </tr>\n",
       "    <tr>\n",
       "      <th>3</th>\n",
       "      <td>2015-01-28</td>\n",
       "      <td>1050613</td>\n",
       "      <td>N</td>\n",
       "      <td>ES</td>\n",
       "      <td>H</td>\n",
       "      <td>22</td>\n",
       "      <td>2012-08-10</td>\n",
       "      <td>0.0</td>\n",
       "      <td>35</td>\n",
       "      <td>1.0</td>\n",
       "      <td>NaN</td>\n",
       "      <td>1.0</td>\n",
       "      <td>I</td>\n",
       "      <td>S</td>\n",
       "      <td>N</td>\n",
       "      <td>NaN</td>\n",
       "      <td>KHD</td>\n",
       "      <td>N</td>\n",
       "      <td>1.0</td>\n",
       "      <td>50.0</td>\n",
       "      <td>ZARAGOZA</td>\n",
       "      <td>0.0</td>\n",
       "      <td>119775.54</td>\n",
       "      <td>03 - UNIVERSITARIO</td>\n",
       "      <td>0</td>\n",
       "      <td>0</td>\n",
       "      <td>0</td>\n",
       "      <td>0</td>\n",
       "      <td>0</td>\n",
       "      <td>0</td>\n",
       "      <td>0</td>\n",
       "      <td>0</td>\n",
       "      <td>0</td>\n",
       "      <td>1</td>\n",
       "      <td>0</td>\n",
       "      <td>0</td>\n",
       "      <td>0</td>\n",
       "      <td>0</td>\n",
       "      <td>0</td>\n",
       "      <td>0</td>\n",
       "      <td>0</td>\n",
       "      <td>0</td>\n",
       "      <td>0</td>\n",
       "      <td>0</td>\n",
       "      <td>0</td>\n",
       "      <td>0.0</td>\n",
       "      <td>0.0</td>\n",
       "      <td>0</td>\n",
       "    </tr>\n",
       "    <tr>\n",
       "      <th>4</th>\n",
       "      <td>2015-01-28</td>\n",
       "      <td>1050614</td>\n",
       "      <td>N</td>\n",
       "      <td>ES</td>\n",
       "      <td>V</td>\n",
       "      <td>23</td>\n",
       "      <td>2012-08-10</td>\n",
       "      <td>0.0</td>\n",
       "      <td>35</td>\n",
       "      <td>1.0</td>\n",
       "      <td>NaN</td>\n",
       "      <td>1.0</td>\n",
       "      <td>A</td>\n",
       "      <td>S</td>\n",
       "      <td>N</td>\n",
       "      <td>NaN</td>\n",
       "      <td>KHE</td>\n",
       "      <td>N</td>\n",
       "      <td>1.0</td>\n",
       "      <td>50.0</td>\n",
       "      <td>ZARAGOZA</td>\n",
       "      <td>1.0</td>\n",
       "      <td>NaN</td>\n",
       "      <td>03 - UNIVERSITARIO</td>\n",
       "      <td>0</td>\n",
       "      <td>0</td>\n",
       "      <td>1</td>\n",
       "      <td>0</td>\n",
       "      <td>0</td>\n",
       "      <td>0</td>\n",
       "      <td>0</td>\n",
       "      <td>0</td>\n",
       "      <td>0</td>\n",
       "      <td>0</td>\n",
       "      <td>0</td>\n",
       "      <td>0</td>\n",
       "      <td>0</td>\n",
       "      <td>0</td>\n",
       "      <td>0</td>\n",
       "      <td>0</td>\n",
       "      <td>0</td>\n",
       "      <td>0</td>\n",
       "      <td>0</td>\n",
       "      <td>0</td>\n",
       "      <td>0</td>\n",
       "      <td>0.0</td>\n",
       "      <td>0.0</td>\n",
       "      <td>0</td>\n",
       "    </tr>\n",
       "    <tr>\n",
       "      <th>...</th>\n",
       "      <td>...</td>\n",
       "      <td>...</td>\n",
       "      <td>...</td>\n",
       "      <td>...</td>\n",
       "      <td>...</td>\n",
       "      <td>...</td>\n",
       "      <td>...</td>\n",
       "      <td>...</td>\n",
       "      <td>...</td>\n",
       "      <td>...</td>\n",
       "      <td>...</td>\n",
       "      <td>...</td>\n",
       "      <td>...</td>\n",
       "      <td>...</td>\n",
       "      <td>...</td>\n",
       "      <td>...</td>\n",
       "      <td>...</td>\n",
       "      <td>...</td>\n",
       "      <td>...</td>\n",
       "      <td>...</td>\n",
       "      <td>...</td>\n",
       "      <td>...</td>\n",
       "      <td>...</td>\n",
       "      <td>...</td>\n",
       "      <td>...</td>\n",
       "      <td>...</td>\n",
       "      <td>...</td>\n",
       "      <td>...</td>\n",
       "      <td>...</td>\n",
       "      <td>...</td>\n",
       "      <td>...</td>\n",
       "      <td>...</td>\n",
       "      <td>...</td>\n",
       "      <td>...</td>\n",
       "      <td>...</td>\n",
       "      <td>...</td>\n",
       "      <td>...</td>\n",
       "      <td>...</td>\n",
       "      <td>...</td>\n",
       "      <td>...</td>\n",
       "      <td>...</td>\n",
       "      <td>...</td>\n",
       "      <td>...</td>\n",
       "      <td>...</td>\n",
       "      <td>...</td>\n",
       "      <td>...</td>\n",
       "      <td>...</td>\n",
       "      <td>...</td>\n",
       "    </tr>\n",
       "    <tr>\n",
       "      <th>13647304</th>\n",
       "      <td>2016-05-28</td>\n",
       "      <td>1166765</td>\n",
       "      <td>N</td>\n",
       "      <td>ES</td>\n",
       "      <td>V</td>\n",
       "      <td>22</td>\n",
       "      <td>2013-08-14</td>\n",
       "      <td>0.0</td>\n",
       "      <td>33</td>\n",
       "      <td>1.0</td>\n",
       "      <td>NaN</td>\n",
       "      <td>1</td>\n",
       "      <td>I</td>\n",
       "      <td>S</td>\n",
       "      <td>N</td>\n",
       "      <td>NaN</td>\n",
       "      <td>KHE</td>\n",
       "      <td>N</td>\n",
       "      <td>1.0</td>\n",
       "      <td>50.0</td>\n",
       "      <td>ZARAGOZA</td>\n",
       "      <td>0.0</td>\n",
       "      <td>43912.17</td>\n",
       "      <td>03 - UNIVERSITARIO</td>\n",
       "      <td>0</td>\n",
       "      <td>0</td>\n",
       "      <td>1</td>\n",
       "      <td>0</td>\n",
       "      <td>0</td>\n",
       "      <td>0</td>\n",
       "      <td>0</td>\n",
       "      <td>0</td>\n",
       "      <td>0</td>\n",
       "      <td>0</td>\n",
       "      <td>0</td>\n",
       "      <td>0</td>\n",
       "      <td>0</td>\n",
       "      <td>0</td>\n",
       "      <td>0</td>\n",
       "      <td>0</td>\n",
       "      <td>0</td>\n",
       "      <td>0</td>\n",
       "      <td>0</td>\n",
       "      <td>0</td>\n",
       "      <td>0</td>\n",
       "      <td>0.0</td>\n",
       "      <td>0.0</td>\n",
       "      <td>0</td>\n",
       "    </tr>\n",
       "    <tr>\n",
       "      <th>13647305</th>\n",
       "      <td>2016-05-28</td>\n",
       "      <td>1166764</td>\n",
       "      <td>N</td>\n",
       "      <td>ES</td>\n",
       "      <td>V</td>\n",
       "      <td>23</td>\n",
       "      <td>2013-08-14</td>\n",
       "      <td>0.0</td>\n",
       "      <td>33</td>\n",
       "      <td>1.0</td>\n",
       "      <td>NaN</td>\n",
       "      <td>1</td>\n",
       "      <td>I</td>\n",
       "      <td>S</td>\n",
       "      <td>N</td>\n",
       "      <td>NaN</td>\n",
       "      <td>KHE</td>\n",
       "      <td>N</td>\n",
       "      <td>1.0</td>\n",
       "      <td>26.0</td>\n",
       "      <td>RIOJA, LA</td>\n",
       "      <td>0.0</td>\n",
       "      <td>23334.99</td>\n",
       "      <td>03 - UNIVERSITARIO</td>\n",
       "      <td>0</td>\n",
       "      <td>0</td>\n",
       "      <td>1</td>\n",
       "      <td>0</td>\n",
       "      <td>0</td>\n",
       "      <td>0</td>\n",
       "      <td>0</td>\n",
       "      <td>0</td>\n",
       "      <td>0</td>\n",
       "      <td>0</td>\n",
       "      <td>0</td>\n",
       "      <td>0</td>\n",
       "      <td>0</td>\n",
       "      <td>0</td>\n",
       "      <td>0</td>\n",
       "      <td>0</td>\n",
       "      <td>0</td>\n",
       "      <td>0</td>\n",
       "      <td>0</td>\n",
       "      <td>0</td>\n",
       "      <td>0</td>\n",
       "      <td>0.0</td>\n",
       "      <td>0.0</td>\n",
       "      <td>0</td>\n",
       "    </tr>\n",
       "    <tr>\n",
       "      <th>13647306</th>\n",
       "      <td>2016-05-28</td>\n",
       "      <td>1166763</td>\n",
       "      <td>N</td>\n",
       "      <td>ES</td>\n",
       "      <td>H</td>\n",
       "      <td>47</td>\n",
       "      <td>2013-08-14</td>\n",
       "      <td>0.0</td>\n",
       "      <td>33</td>\n",
       "      <td>1.0</td>\n",
       "      <td>NaN</td>\n",
       "      <td>1</td>\n",
       "      <td>A</td>\n",
       "      <td>S</td>\n",
       "      <td>N</td>\n",
       "      <td>NaN</td>\n",
       "      <td>KHE</td>\n",
       "      <td>N</td>\n",
       "      <td>1.0</td>\n",
       "      <td>50.0</td>\n",
       "      <td>ZARAGOZA</td>\n",
       "      <td>1.0</td>\n",
       "      <td>NaN</td>\n",
       "      <td>02 - PARTICULARES</td>\n",
       "      <td>0</td>\n",
       "      <td>0</td>\n",
       "      <td>1</td>\n",
       "      <td>0</td>\n",
       "      <td>0</td>\n",
       "      <td>0</td>\n",
       "      <td>0</td>\n",
       "      <td>0</td>\n",
       "      <td>0</td>\n",
       "      <td>0</td>\n",
       "      <td>0</td>\n",
       "      <td>0</td>\n",
       "      <td>0</td>\n",
       "      <td>0</td>\n",
       "      <td>0</td>\n",
       "      <td>0</td>\n",
       "      <td>0</td>\n",
       "      <td>0</td>\n",
       "      <td>0</td>\n",
       "      <td>0</td>\n",
       "      <td>0</td>\n",
       "      <td>0.0</td>\n",
       "      <td>0.0</td>\n",
       "      <td>0</td>\n",
       "    </tr>\n",
       "    <tr>\n",
       "      <th>13647307</th>\n",
       "      <td>2016-05-28</td>\n",
       "      <td>1166789</td>\n",
       "      <td>N</td>\n",
       "      <td>ES</td>\n",
       "      <td>H</td>\n",
       "      <td>22</td>\n",
       "      <td>2013-08-14</td>\n",
       "      <td>0.0</td>\n",
       "      <td>33</td>\n",
       "      <td>1.0</td>\n",
       "      <td>NaN</td>\n",
       "      <td>1.0</td>\n",
       "      <td>I</td>\n",
       "      <td>S</td>\n",
       "      <td>N</td>\n",
       "      <td>NaN</td>\n",
       "      <td>KHE</td>\n",
       "      <td>N</td>\n",
       "      <td>1.0</td>\n",
       "      <td>50.0</td>\n",
       "      <td>ZARAGOZA</td>\n",
       "      <td>0.0</td>\n",
       "      <td>199592.82</td>\n",
       "      <td>03 - UNIVERSITARIO</td>\n",
       "      <td>0</td>\n",
       "      <td>0</td>\n",
       "      <td>1</td>\n",
       "      <td>0</td>\n",
       "      <td>0</td>\n",
       "      <td>0</td>\n",
       "      <td>0</td>\n",
       "      <td>0</td>\n",
       "      <td>0</td>\n",
       "      <td>0</td>\n",
       "      <td>0</td>\n",
       "      <td>0</td>\n",
       "      <td>0</td>\n",
       "      <td>0</td>\n",
       "      <td>0</td>\n",
       "      <td>0</td>\n",
       "      <td>0</td>\n",
       "      <td>0</td>\n",
       "      <td>0</td>\n",
       "      <td>0</td>\n",
       "      <td>0</td>\n",
       "      <td>0.0</td>\n",
       "      <td>0.0</td>\n",
       "      <td>0</td>\n",
       "    </tr>\n",
       "    <tr>\n",
       "      <th>13647308</th>\n",
       "      <td>2016-05-28</td>\n",
       "      <td>1550586</td>\n",
       "      <td>N</td>\n",
       "      <td>ES</td>\n",
       "      <td>H</td>\n",
       "      <td>37</td>\n",
       "      <td>2016-05-13</td>\n",
       "      <td>1.0</td>\n",
       "      <td>0</td>\n",
       "      <td>1.0</td>\n",
       "      <td>NaN</td>\n",
       "      <td>NaN</td>\n",
       "      <td>NaN</td>\n",
       "      <td>S</td>\n",
       "      <td>N</td>\n",
       "      <td>NaN</td>\n",
       "      <td>NaN</td>\n",
       "      <td>N</td>\n",
       "      <td>1.0</td>\n",
       "      <td>28.0</td>\n",
       "      <td>MADRID</td>\n",
       "      <td>1.0</td>\n",
       "      <td>NaN</td>\n",
       "      <td>NaN</td>\n",
       "      <td>0</td>\n",
       "      <td>0</td>\n",
       "      <td>1</td>\n",
       "      <td>0</td>\n",
       "      <td>0</td>\n",
       "      <td>0</td>\n",
       "      <td>1</td>\n",
       "      <td>0</td>\n",
       "      <td>0</td>\n",
       "      <td>0</td>\n",
       "      <td>0</td>\n",
       "      <td>0</td>\n",
       "      <td>0</td>\n",
       "      <td>0</td>\n",
       "      <td>0</td>\n",
       "      <td>0</td>\n",
       "      <td>0</td>\n",
       "      <td>0</td>\n",
       "      <td>0</td>\n",
       "      <td>0</td>\n",
       "      <td>0</td>\n",
       "      <td>0.0</td>\n",
       "      <td>0.0</td>\n",
       "      <td>0</td>\n",
       "    </tr>\n",
       "  </tbody>\n",
       "</table>\n",
       "<p>13647309 rows × 48 columns</p>\n",
       "</div>"
      ],
      "text/plain": [
       "          fecha_dato  ncodpers ind_empleado pais_residencia sexo  age  \\\n",
       "0         2015-01-28   1375586            N              ES    H   35   \n",
       "1         2015-01-28   1050611            N              ES    V   23   \n",
       "2         2015-01-28   1050612            N              ES    V   23   \n",
       "3         2015-01-28   1050613            N              ES    H   22   \n",
       "4         2015-01-28   1050614            N              ES    V   23   \n",
       "...              ...       ...          ...             ...  ...  ...   \n",
       "13647304  2016-05-28   1166765            N              ES    V   22   \n",
       "13647305  2016-05-28   1166764            N              ES    V   23   \n",
       "13647306  2016-05-28   1166763            N              ES    H   47   \n",
       "13647307  2016-05-28   1166789            N              ES    H   22   \n",
       "13647308  2016-05-28   1550586            N              ES    H   37   \n",
       "\n",
       "          fecha_alta  ind_nuevo antiguedad  indrel ult_fec_cli_1t indrel_1mes  \\\n",
       "0         2015-01-12        0.0          6     1.0            NaN         1.0   \n",
       "1         2012-08-10        0.0         35     1.0            NaN         1.0   \n",
       "2         2012-08-10        0.0         35     1.0            NaN         1.0   \n",
       "3         2012-08-10        0.0         35     1.0            NaN         1.0   \n",
       "4         2012-08-10        0.0         35     1.0            NaN         1.0   \n",
       "...              ...        ...        ...     ...            ...         ...   \n",
       "13647304  2013-08-14        0.0         33     1.0            NaN           1   \n",
       "13647305  2013-08-14        0.0         33     1.0            NaN           1   \n",
       "13647306  2013-08-14        0.0         33     1.0            NaN           1   \n",
       "13647307  2013-08-14        0.0         33     1.0            NaN         1.0   \n",
       "13647308  2016-05-13        1.0          0     1.0            NaN         NaN   \n",
       "\n",
       "         tiprel_1mes indresi indext conyuemp canal_entrada indfall  tipodom  \\\n",
       "0                  A       S      N      NaN           KHL       N      1.0   \n",
       "1                  I       S      S      NaN           KHE       N      1.0   \n",
       "2                  I       S      N      NaN           KHE       N      1.0   \n",
       "3                  I       S      N      NaN           KHD       N      1.0   \n",
       "4                  A       S      N      NaN           KHE       N      1.0   \n",
       "...              ...     ...    ...      ...           ...     ...      ...   \n",
       "13647304           I       S      N      NaN           KHE       N      1.0   \n",
       "13647305           I       S      N      NaN           KHE       N      1.0   \n",
       "13647306           A       S      N      NaN           KHE       N      1.0   \n",
       "13647307           I       S      N      NaN           KHE       N      1.0   \n",
       "13647308         NaN       S      N      NaN           NaN       N      1.0   \n",
       "\n",
       "          cod_prov      nomprov  ind_actividad_cliente      renta  \\\n",
       "0             29.0       MALAGA                    1.0   87218.10   \n",
       "1             13.0  CIUDAD REAL                    0.0   35548.74   \n",
       "2             13.0  CIUDAD REAL                    0.0  122179.11   \n",
       "3             50.0     ZARAGOZA                    0.0  119775.54   \n",
       "4             50.0     ZARAGOZA                    1.0        NaN   \n",
       "...            ...          ...                    ...        ...   \n",
       "13647304      50.0     ZARAGOZA                    0.0   43912.17   \n",
       "13647305      26.0    RIOJA, LA                    0.0   23334.99   \n",
       "13647306      50.0     ZARAGOZA                    1.0        NaN   \n",
       "13647307      50.0     ZARAGOZA                    0.0  199592.82   \n",
       "13647308      28.0       MADRID                    1.0        NaN   \n",
       "\n",
       "                    segmento  ind_ahor_fin_ult1  ind_aval_fin_ult1  \\\n",
       "0          02 - PARTICULARES                  0                  0   \n",
       "1         03 - UNIVERSITARIO                  0                  0   \n",
       "2         03 - UNIVERSITARIO                  0                  0   \n",
       "3         03 - UNIVERSITARIO                  0                  0   \n",
       "4         03 - UNIVERSITARIO                  0                  0   \n",
       "...                      ...                ...                ...   \n",
       "13647304  03 - UNIVERSITARIO                  0                  0   \n",
       "13647305  03 - UNIVERSITARIO                  0                  0   \n",
       "13647306   02 - PARTICULARES                  0                  0   \n",
       "13647307  03 - UNIVERSITARIO                  0                  0   \n",
       "13647308                 NaN                  0                  0   \n",
       "\n",
       "          ind_cco_fin_ult1  ind_cder_fin_ult1  ind_cno_fin_ult1  \\\n",
       "0                        1                  0                 0   \n",
       "1                        1                  0                 0   \n",
       "2                        1                  0                 0   \n",
       "3                        0                  0                 0   \n",
       "4                        1                  0                 0   \n",
       "...                    ...                ...               ...   \n",
       "13647304                 1                  0                 0   \n",
       "13647305                 1                  0                 0   \n",
       "13647306                 1                  0                 0   \n",
       "13647307                 1                  0                 0   \n",
       "13647308                 1                  0                 0   \n",
       "\n",
       "          ind_ctju_fin_ult1  ind_ctma_fin_ult1  ind_ctop_fin_ult1  \\\n",
       "0                         0                  0                  0   \n",
       "1                         0                  0                  0   \n",
       "2                         0                  0                  0   \n",
       "3                         0                  0                  0   \n",
       "4                         0                  0                  0   \n",
       "...                     ...                ...                ...   \n",
       "13647304                  0                  0                  0   \n",
       "13647305                  0                  0                  0   \n",
       "13647306                  0                  0                  0   \n",
       "13647307                  0                  0                  0   \n",
       "13647308                  0                  1                  0   \n",
       "\n",
       "          ind_ctpp_fin_ult1  ind_deco_fin_ult1  ind_deme_fin_ult1  \\\n",
       "0                         0                  0                  0   \n",
       "1                         0                  0                  0   \n",
       "2                         0                  0                  0   \n",
       "3                         0                  1                  0   \n",
       "4                         0                  0                  0   \n",
       "...                     ...                ...                ...   \n",
       "13647304                  0                  0                  0   \n",
       "13647305                  0                  0                  0   \n",
       "13647306                  0                  0                  0   \n",
       "13647307                  0                  0                  0   \n",
       "13647308                  0                  0                  0   \n",
       "\n",
       "          ind_dela_fin_ult1  ind_ecue_fin_ult1  ind_fond_fin_ult1  \\\n",
       "0                         0                  0                  0   \n",
       "1                         0                  0                  0   \n",
       "2                         0                  0                  0   \n",
       "3                         0                  0                  0   \n",
       "4                         0                  0                  0   \n",
       "...                     ...                ...                ...   \n",
       "13647304                  0                  0                  0   \n",
       "13647305                  0                  0                  0   \n",
       "13647306                  0                  0                  0   \n",
       "13647307                  0                  0                  0   \n",
       "13647308                  0                  0                  0   \n",
       "\n",
       "          ind_hip_fin_ult1  ind_plan_fin_ult1  ind_pres_fin_ult1  \\\n",
       "0                        0                  0                  0   \n",
       "1                        0                  0                  0   \n",
       "2                        0                  0                  0   \n",
       "3                        0                  0                  0   \n",
       "4                        0                  0                  0   \n",
       "...                    ...                ...                ...   \n",
       "13647304                 0                  0                  0   \n",
       "13647305                 0                  0                  0   \n",
       "13647306                 0                  0                  0   \n",
       "13647307                 0                  0                  0   \n",
       "13647308                 0                  0                  0   \n",
       "\n",
       "          ind_reca_fin_ult1  ind_tjcr_fin_ult1  ind_valo_fin_ult1  \\\n",
       "0                         0                  0                  0   \n",
       "1                         0                  0                  0   \n",
       "2                         0                  0                  0   \n",
       "3                         0                  0                  0   \n",
       "4                         0                  0                  0   \n",
       "...                     ...                ...                ...   \n",
       "13647304                  0                  0                  0   \n",
       "13647305                  0                  0                  0   \n",
       "13647306                  0                  0                  0   \n",
       "13647307                  0                  0                  0   \n",
       "13647308                  0                  0                  0   \n",
       "\n",
       "          ind_viv_fin_ult1  ind_nomina_ult1  ind_nom_pens_ult1  \\\n",
       "0                        0              0.0                0.0   \n",
       "1                        0              0.0                0.0   \n",
       "2                        0              0.0                0.0   \n",
       "3                        0              0.0                0.0   \n",
       "4                        0              0.0                0.0   \n",
       "...                    ...              ...                ...   \n",
       "13647304                 0              0.0                0.0   \n",
       "13647305                 0              0.0                0.0   \n",
       "13647306                 0              0.0                0.0   \n",
       "13647307                 0              0.0                0.0   \n",
       "13647308                 0              0.0                0.0   \n",
       "\n",
       "          ind_recibo_ult1  \n",
       "0                       0  \n",
       "1                       0  \n",
       "2                       0  \n",
       "3                       0  \n",
       "4                       0  \n",
       "...                   ...  \n",
       "13647304                0  \n",
       "13647305                0  \n",
       "13647306                0  \n",
       "13647307                0  \n",
       "13647308                0  \n",
       "\n",
       "[13647309 rows x 48 columns]"
      ]
     },
     "execution_count": 144,
     "metadata": {},
     "output_type": "execute_result"
    }
   ],
   "source": [
    "# 데이터 추출\n",
    "trn = pd.read_csv('./train_ver2.csv')\n",
    "trn"
   ]
  },
  {
   "cell_type": "code",
   "execution_count": 94,
   "id": "51d51856-5c3f-486f-9bb8-ce6048421d9e",
   "metadata": {},
   "outputs": [],
   "source": [
    "pd.set_option('display.max_columns', None)  # 열의 수 제한 해제\n",
    "pd.set_option('display.width', None)  # 출력 너비 제한 해제"
   ]
  },
  {
   "cell_type": "code",
   "execution_count": 97,
   "id": "c6e93228-f298-4fb0-8b12-bc25b94c8cb5",
   "metadata": {
    "tags": []
   },
   "outputs": [],
   "source": [
    "# len(trn) #1364만개"
   ]
  },
  {
   "cell_type": "code",
   "execution_count": 98,
   "id": "9a7edf96-9587-4b5d-b46e-e3ea03b326f6",
   "metadata": {
    "tags": []
   },
   "outputs": [],
   "source": [
    "# trn.info()"
   ]
  },
  {
   "cell_type": "code",
   "execution_count": null,
   "id": "d324ba3d-7c12-49ed-a06e-267a4ec78b04",
   "metadata": {},
   "outputs": [],
   "source": []
  },
  {
   "cell_type": "code",
   "execution_count": null,
   "id": "7e5a2381-86e5-48a6-9380-34afac2569ff",
   "metadata": {},
   "outputs": [],
   "source": []
  },
  {
   "cell_type": "code",
   "execution_count": 99,
   "id": "4e67bba3-ab23-434f-9fa3-bae90d8924c9",
   "metadata": {},
   "outputs": [],
   "source": [
    "#성별"
   ]
  },
  {
   "cell_type": "code",
   "execution_count": 100,
   "id": "d5f393c1-3748-4345-8c06-ab6a255aabd7",
   "metadata": {},
   "outputs": [
    {
     "name": "stdout",
     "output_type": "stream",
     "text": [
      "<class 'pandas.core.series.Series'>\n",
      "RangeIndex: 13647309 entries, 0 to 13647308\n",
      "Series name: sexo\n",
      "Non-Null Count     Dtype \n",
      "--------------     ----- \n",
      "13619505 non-null  object\n",
      "dtypes: object(1)\n",
      "memory usage: 104.1+ MB\n"
     ]
    }
   ],
   "source": [
    "trn.sexo.info()"
   ]
  },
  {
   "cell_type": "code",
   "execution_count": 101,
   "id": "94149dc0-760a-4ff1-a723-88afa1c16c3f",
   "metadata": {},
   "outputs": [
    {
     "name": "stderr",
     "output_type": "stream",
     "text": [
      "C:\\Users\\SMART09\\AppData\\Local\\Temp\\ipykernel_3524\\345525901.py:4: SettingWithCopyWarning: \n",
      "A value is trying to be set on a copy of a slice from a DataFrame.\n",
      "Try using .loc[row_indexer,col_indexer] = value instead\n",
      "\n",
      "See the caveats in the documentation: https://pandas.pydata.org/pandas-docs/stable/user_guide/indexing.html#returning-a-view-versus-a-copy\n",
      "  refined_trn.sexo = np.where( refined_trn.sexo=='H', \"1\", \"0\")\n"
     ]
    }
   ],
   "source": [
    "# 결측치 제거\n",
    "refined_trn = trn.loc[ (trn.sexo.notnull() ) ]\n",
    "# refined_trn\n",
    "refined_trn.sexo = np.where( refined_trn.sexo=='H', \"1\", \"0\")"
   ]
  },
  {
   "cell_type": "code",
   "execution_count": 102,
   "id": "f14e00be-f0aa-4208-8763-8f6a4e6294fa",
   "metadata": {},
   "outputs": [
    {
     "data": {
      "text/plain": [
       "array(['1', '0'], dtype=object)"
      ]
     },
     "execution_count": 102,
     "metadata": {},
     "output_type": "execute_result"
    }
   ],
   "source": [
    "# 성별 컬럼 전처리 결과 확인\n",
    "refined_trn.sexo.unique()"
   ]
  },
  {
   "cell_type": "code",
   "execution_count": null,
   "id": "f70b1a45-c25b-494a-ab9f-34629f69b614",
   "metadata": {},
   "outputs": [],
   "source": []
  },
  {
   "cell_type": "code",
   "execution_count": null,
   "id": "e2ef4bf1-82ca-43e3-9fa1-8e6564eae167",
   "metadata": {},
   "outputs": [],
   "source": []
  },
  {
   "cell_type": "code",
   "execution_count": 104,
   "id": "5fe336fe-00ce-4f45-b900-23564b18b92e",
   "metadata": {},
   "outputs": [],
   "source": [
    "# 월 초 고객 유형"
   ]
  },
  {
   "cell_type": "code",
   "execution_count": 105,
   "id": "94d912e8-77df-42ce-ba39-7f2beb663050",
   "metadata": {},
   "outputs": [
    {
     "name": "stdout",
     "output_type": "stream",
     "text": [
      "<class 'pandas.core.series.Series'>\n",
      "Int64Index: 13619505 entries, 0 to 13647308\n",
      "Series name: indrel_1mes\n",
      "Non-Null Count     Dtype \n",
      "--------------     ----- \n",
      "13497458 non-null  object\n",
      "dtypes: object(1)\n",
      "memory usage: 207.8+ MB\n"
     ]
    }
   ],
   "source": [
    "refined_trn.indrel_1mes.info()"
   ]
  },
  {
   "cell_type": "code",
   "execution_count": 106,
   "id": "b256faf0-25e5-4555-93a4-1676201d90a2",
   "metadata": {},
   "outputs": [
    {
     "data": {
      "text/plain": [
       "array([1.0, 3.0, 2.0, nan, '1.0', '1', '3', '3.0', '2.0', '4.0', 'P', '4',\n",
       "       4.0, '2'], dtype=object)"
      ]
     },
     "execution_count": 106,
     "metadata": {},
     "output_type": "execute_result"
    }
   ],
   "source": [
    "refined_trn.indrel_1mes.unique()"
   ]
  },
  {
   "cell_type": "code",
   "execution_count": 107,
   "id": "a395581d-9a6e-4e4e-9200-bcc22aba1504",
   "metadata": {},
   "outputs": [],
   "source": [
    "# 결측치 제거\n",
    "refined_trn = refined_trn.loc[ (refined_trn.indrel_1mes.notnull() ) ]\n",
    "\n",
    "# 1. int형변환 2. p->5 \n",
    "try:\n",
    "    refined_trn.loc[refined_trn.indrel_1mes.str.upper()==\"P\", \"indrel_1mes\"] = 5\n",
    "except Exception as e:\n",
    "    print(e)"
   ]
  },
  {
   "cell_type": "code",
   "execution_count": 108,
   "id": "0fac7d70-e78b-4c1d-9106-3645c0b7f51d",
   "metadata": {
    "tags": []
   },
   "outputs": [
    {
     "data": {
      "text/plain": [
       "array([1.0, 3.0, 2.0, '1.0', '1', '3', '3.0', '2.0', '4.0', 5, '4', 4.0,\n",
       "       '2'], dtype=object)"
      ]
     },
     "execution_count": 108,
     "metadata": {},
     "output_type": "execute_result"
    }
   ],
   "source": [
    "refined_trn.indrel_1mes.unique()"
   ]
  },
  {
   "cell_type": "code",
   "execution_count": 109,
   "id": "db5ad503-0430-4a01-87b0-e4a2db32d133",
   "metadata": {},
   "outputs": [],
   "source": [
    "try:\n",
    "    refined_trn.indrel_1mes = refined_trn.indrel_1mes.astype(float)\n",
    "    refined_trn.indrel_1mes = refined_trn.indrel_1mes.astype(int)\n",
    "except Exception as e:\n",
    "    print(e)"
   ]
  },
  {
   "cell_type": "code",
   "execution_count": 110,
   "id": "ee02cb8c-0602-4ae2-8be2-b63aba399625",
   "metadata": {},
   "outputs": [
    {
     "data": {
      "text/plain": [
       "array([1, 3, 2, 4, 5])"
      ]
     },
     "execution_count": 110,
     "metadata": {},
     "output_type": "execute_result"
    }
   ],
   "source": [
    "# '월 초 고객 유형' 컬럼 전처리 결과 확인\n",
    "refined_trn.indrel_1mes.unique()"
   ]
  },
  {
   "cell_type": "code",
   "execution_count": null,
   "id": "0d226acf-6b2f-4dd0-b0b4-59d323d6aad0",
   "metadata": {},
   "outputs": [],
   "source": []
  },
  {
   "cell_type": "code",
   "execution_count": null,
   "id": "401c4187-3ce8-4a86-8d50-5edb1f73f7a9",
   "metadata": {},
   "outputs": [],
   "source": []
  },
  {
   "cell_type": "code",
   "execution_count": 111,
   "id": "25d4eff4-bdff-453e-a2fe-c71aa932e376",
   "metadata": {},
   "outputs": [],
   "source": [
    "# 월 초 고객 관계 유형"
   ]
  },
  {
   "cell_type": "code",
   "execution_count": 112,
   "id": "fdbf74e7-43ab-42fc-b4aa-3f224b006ec3",
   "metadata": {},
   "outputs": [
    {
     "data": {
      "text/plain": [
       "0           A\n",
       "1           I\n",
       "2           I\n",
       "3           I\n",
       "4           A\n",
       "           ..\n",
       "13647303    I\n",
       "13647304    I\n",
       "13647305    I\n",
       "13647306    A\n",
       "13647307    I\n",
       "Name: tiprel_1mes, Length: 13497458, dtype: object"
      ]
     },
     "execution_count": 112,
     "metadata": {},
     "output_type": "execute_result"
    }
   ],
   "source": [
    "refined_trn.tiprel_1mes"
   ]
  },
  {
   "cell_type": "code",
   "execution_count": 113,
   "id": "7bf3d427-a3b7-4c1c-93db-2b2aecbe8b4e",
   "metadata": {},
   "outputs": [
    {
     "data": {
      "text/plain": [
       "array(['A', 'I', 'P', 'R', 'N'], dtype=object)"
      ]
     },
     "execution_count": 113,
     "metadata": {},
     "output_type": "execute_result"
    }
   ],
   "source": [
    "refined_trn.tiprel_1mes.unique()"
   ]
  },
  {
   "cell_type": "code",
   "execution_count": 114,
   "id": "ad57ba65-905f-4840-9870-8d163c6722a3",
   "metadata": {},
   "outputs": [
    {
     "data": {
      "text/plain": [
       "0"
      ]
     },
     "execution_count": 114,
     "metadata": {},
     "output_type": "execute_result"
    }
   ],
   "source": [
    "refined_trn.tiprel_1mes.isnull().sum()"
   ]
  },
  {
   "cell_type": "code",
   "execution_count": 115,
   "id": "9cb4a174-7e7e-404d-82ba-4a9b3fe8708a",
   "metadata": {},
   "outputs": [],
   "source": [
    "dict = {\"I\":0, \"A\":1, \"P\":2,\"R\":3, \"N\":4}"
   ]
  },
  {
   "cell_type": "code",
   "execution_count": 116,
   "id": "ac56d1ab-33bb-4f75-b053-9d60c158ceea",
   "metadata": {},
   "outputs": [],
   "source": [
    "refined_trn.tiprel_1mes = refined_trn.tiprel_1mes.str.upper()\n",
    "refined_trn.tiprel_1mes = refined_trn.tiprel_1mes.map(dict)"
   ]
  },
  {
   "cell_type": "code",
   "execution_count": 117,
   "id": "3ca3830d-e506-4b22-9370-f844565ce047",
   "metadata": {},
   "outputs": [
    {
     "data": {
      "text/plain": [
       "array([1, 0, 2, 3, 4], dtype=int64)"
      ]
     },
     "execution_count": 117,
     "metadata": {},
     "output_type": "execute_result"
    }
   ],
   "source": [
    "# 월 초 고객 관계 유형 전처리 결과 확인\n",
    "refined_trn.tiprel_1mes.unique()"
   ]
  },
  {
   "cell_type": "code",
   "execution_count": null,
   "id": "093d06cc-1a09-45a0-9036-40595cb14320",
   "metadata": {},
   "outputs": [],
   "source": []
  },
  {
   "cell_type": "code",
   "execution_count": null,
   "id": "4c9a6d78-91ac-4615-a23b-680e82226d23",
   "metadata": {},
   "outputs": [],
   "source": []
  },
  {
   "cell_type": "code",
   "execution_count": 118,
   "id": "58528e06-40a9-4937-b1f8-5cde3207c19c",
   "metadata": {},
   "outputs": [],
   "source": [
    "# 거주지 지수"
   ]
  },
  {
   "cell_type": "code",
   "execution_count": 119,
   "id": "e30e6ba8-1382-4e5f-8159-d00b80fd9578",
   "metadata": {},
   "outputs": [
    {
     "data": {
      "text/plain": [
       "0"
      ]
     },
     "execution_count": 119,
     "metadata": {},
     "output_type": "execute_result"
    }
   ],
   "source": [
    "refined_trn.indresi.isnull().sum()"
   ]
  },
  {
   "cell_type": "code",
   "execution_count": 120,
   "id": "ab6e9ffa-5849-49eb-a536-49fe80b85778",
   "metadata": {},
   "outputs": [
    {
     "data": {
      "text/plain": [
       "array(['S', 'N'], dtype=object)"
      ]
     },
     "execution_count": 120,
     "metadata": {},
     "output_type": "execute_result"
    }
   ],
   "source": [
    "refined_trn.indresi.unique()"
   ]
  },
  {
   "cell_type": "code",
   "execution_count": 121,
   "id": "f8a8e58b-84f6-448c-8912-401c1f1cf9fc",
   "metadata": {},
   "outputs": [],
   "source": [
    "dict = {\"N\":0, \"S\":1}\n",
    "\n",
    "refined_trn.indresi = refined_trn.indresi.str.upper()\n",
    "refined_trn.indresi = refined_trn.indresi.map(dict)"
   ]
  },
  {
   "cell_type": "code",
   "execution_count": 122,
   "id": "648906c6-e315-413b-a5b5-253604f93b1a",
   "metadata": {},
   "outputs": [
    {
     "data": {
      "text/plain": [
       "array([1, 0], dtype=int64)"
      ]
     },
     "execution_count": 122,
     "metadata": {},
     "output_type": "execute_result"
    }
   ],
   "source": [
    "# 결과 확인\n",
    "refined_trn.indresi.unique()"
   ]
  },
  {
   "cell_type": "code",
   "execution_count": null,
   "id": "48581b75-44b8-44b7-b169-6999b180e0ee",
   "metadata": {},
   "outputs": [],
   "source": []
  },
  {
   "cell_type": "code",
   "execution_count": null,
   "id": "944d7441-f798-4003-84dd-ee9a9c4ec426",
   "metadata": {},
   "outputs": [],
   "source": []
  },
  {
   "cell_type": "code",
   "execution_count": 123,
   "id": "08c2c9df-748b-478b-afeb-d035d298124a",
   "metadata": {},
   "outputs": [],
   "source": [
    "# 외국인 지수"
   ]
  },
  {
   "cell_type": "code",
   "execution_count": 124,
   "id": "05b3195b-320c-462b-9277-4be86631c9d1",
   "metadata": {},
   "outputs": [
    {
     "data": {
      "text/plain": [
       "0"
      ]
     },
     "execution_count": 124,
     "metadata": {},
     "output_type": "execute_result"
    }
   ],
   "source": [
    "refined_trn.indext.isnull().sum()"
   ]
  },
  {
   "cell_type": "code",
   "execution_count": 125,
   "id": "a61167f0-2678-4cf1-9ee2-e1967860eacf",
   "metadata": {},
   "outputs": [
    {
     "data": {
      "text/plain": [
       "array(['N', 'S'], dtype=object)"
      ]
     },
     "execution_count": 125,
     "metadata": {},
     "output_type": "execute_result"
    }
   ],
   "source": [
    "refined_trn.indext.unique()"
   ]
  },
  {
   "cell_type": "code",
   "execution_count": 126,
   "id": "afaec4b8-62d7-48cf-9d5a-ed5bca58b8ba",
   "metadata": {},
   "outputs": [],
   "source": [
    "dict = {\"N\":0, \"S\":1}\n",
    "\n",
    "refined_trn.indext = refined_trn.indext.str.upper()\n",
    "refined_trn.indext = refined_trn.indext.map(dict)"
   ]
  },
  {
   "cell_type": "code",
   "execution_count": 127,
   "id": "7771f3d9-966e-4e16-b819-888fc0caea8a",
   "metadata": {},
   "outputs": [
    {
     "data": {
      "text/plain": [
       "array([0, 1], dtype=int64)"
      ]
     },
     "execution_count": 127,
     "metadata": {},
     "output_type": "execute_result"
    }
   ],
   "source": [
    "# 결과 확인\n",
    "refined_trn.indext.unique()"
   ]
  },
  {
   "cell_type": "code",
   "execution_count": null,
   "id": "23349bbc-3129-4927-a9c1-546babf1d054",
   "metadata": {},
   "outputs": [],
   "source": []
  },
  {
   "cell_type": "code",
   "execution_count": null,
   "id": "0e7ea9d5-04c3-48f3-9f3b-17f8694552a6",
   "metadata": {},
   "outputs": [],
   "source": []
  },
  {
   "cell_type": "code",
   "execution_count": 128,
   "id": "dfbb298f-327f-4085-a643-74eb4c8395ed",
   "metadata": {},
   "outputs": [],
   "source": [
    "# 고객분류 "
   ]
  },
  {
   "cell_type": "code",
   "execution_count": 129,
   "id": "a09de16f-3a6e-4db0-8f4b-af260d7d4d7f",
   "metadata": {},
   "outputs": [
    {
     "data": {
      "text/plain": [
       "39653"
      ]
     },
     "execution_count": 129,
     "metadata": {},
     "output_type": "execute_result"
    }
   ],
   "source": [
    "refined_trn.segmento.isnull().sum()"
   ]
  },
  {
   "cell_type": "code",
   "execution_count": 130,
   "id": "bed0817d-3660-4d1a-8b02-3ca268042ad8",
   "metadata": {},
   "outputs": [
    {
     "data": {
      "text/plain": [
       "array(['02 - PARTICULARES', '03 - UNIVERSITARIO', '01 - TOP', nan],\n",
       "      dtype=object)"
      ]
     },
     "execution_count": 130,
     "metadata": {},
     "output_type": "execute_result"
    }
   ],
   "source": [
    "refined_trn.segmento.unique()"
   ]
  },
  {
   "cell_type": "code",
   "execution_count": 131,
   "id": "759d38d8-26e8-4588-817c-3a7eff076c06",
   "metadata": {},
   "outputs": [],
   "source": [
    "refined_trn = refined_trn.loc[refined_trn.segmento.notnull()]"
   ]
  },
  {
   "cell_type": "code",
   "execution_count": 132,
   "id": "8bb7f3a0-2fb9-4a2c-adc0-3f6c97622210",
   "metadata": {},
   "outputs": [
    {
     "data": {
      "text/plain": [
       "0"
      ]
     },
     "execution_count": 132,
     "metadata": {},
     "output_type": "execute_result"
    }
   ],
   "source": [
    "refined_trn.segmento.isnull().sum()"
   ]
  },
  {
   "cell_type": "code",
   "execution_count": 140,
   "id": "acfa335c-b71c-4b93-a251-a75eff202a2f",
   "metadata": {},
   "outputs": [],
   "source": [
    "refined_trn.segmento = np.where( refined_trn.segmento == '03 - UNIVERSITARIO', 0, \n",
    "                                np.where( refined_trn.segmento == '01 - TOP', 1,\n",
    "                                          np.where( refined_trn.segmento == '02 - PARTICULARES', 1, refined_trn.segmento) ) )"
   ]
  },
  {
   "cell_type": "code",
   "execution_count": 93,
   "id": "739cfffb-ed2b-458e-9e5a-aeb84aafd50c",
   "metadata": {},
   "outputs": [],
   "source": [
    "# dict = {'03 - UNIVERSITARIO':0, '01 - TOP':1, '02 - PARTICULARES':1}\n",
    "\n",
    "# refined_trn.segmento = refined_trn.segmento.str.upper()\n",
    "# refined_trn.segmento = refined_trn.segmento.map(dict)\n",
    "\n",
    "# refined_trn.segmento.unique()\n",
    "\n",
    "# refined_trn.segmento.head(20)"
   ]
  },
  {
   "cell_type": "code",
   "execution_count": 142,
   "id": "54a30f2a-187e-4f72-af2d-98b4845ace0b",
   "metadata": {},
   "outputs": [
    {
     "data": {
      "text/plain": [
       "array([1, 0], dtype=object)"
      ]
     },
     "execution_count": 142,
     "metadata": {},
     "output_type": "execute_result"
    }
   ],
   "source": [
    "# 결과 확인\n",
    "refined_trn.segmento.unique()"
   ]
  }
 ],
 "metadata": {
  "kernelspec": {
   "display_name": "Python 3 (ipykernel)",
   "language": "python",
   "name": "python3"
  },
  "language_info": {
   "codemirror_mode": {
    "name": "ipython",
    "version": 3
   },
   "file_extension": ".py",
   "mimetype": "text/x-python",
   "name": "python",
   "nbconvert_exporter": "python",
   "pygments_lexer": "ipython3",
   "version": "3.9.13"
  }
 },
 "nbformat": 4,
 "nbformat_minor": 5
}
