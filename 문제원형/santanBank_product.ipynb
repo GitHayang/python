{
 "cells": [
  {
   "cell_type": "code",
   "execution_count": 1,
   "id": "44452df3-6a8f-423e-8358-98db6612c493",
   "metadata": {
    "tags": []
   },
   "outputs": [],
   "source": [
    "import pandas as pd\n",
    "import numpy as np"
   ]
  },
  {
   "cell_type": "code",
   "execution_count": 2,
   "id": "023a3b65-c9d1-4907-bd0b-914944f8d0cc",
   "metadata": {},
   "outputs": [],
   "source": [
    "import tqdm"
   ]
  },
  {
   "cell_type": "code",
   "execution_count": 3,
   "id": "25db27d5-0865-469f-a441-137927c1027e",
   "metadata": {
    "tags": []
   },
   "outputs": [
    {
     "name": "stderr",
     "output_type": "stream",
     "text": [
      "C:\\Users\\caose\\AppData\\Local\\Temp\\ipykernel_70500\\3097669333.py:1: DtypeWarning: Columns (5,8,11,15) have mixed types. Specify dtype option on import or set low_memory=False.\n",
      "  baseData = pd.read_csv(\"../data/train_ver2.csv\")\n"
     ]
    }
   ],
   "source": [
    "baseData = pd.read_csv(\"../data/train_ver2.csv\")"
   ]
  },
  {
   "cell_type": "code",
   "execution_count": 4,
   "id": "86ee9ca9-d55b-47a5-84c4-3e4fd2976969",
   "metadata": {},
   "outputs": [],
   "source": [
    "### 3개월 데이터로 줄인다. 값이 너무 많아서 최근의 추세로 판단하겠다"
   ]
  },
  {
   "cell_type": "code",
   "execution_count": 5,
   "id": "f765e816-ecf4-406f-adc2-49413c42bfbc",
   "metadata": {},
   "outputs": [],
   "source": [
    "base1 = baseData.loc[baseData.fecha_dato == \"2016-04-28\"]"
   ]
  },
  {
   "cell_type": "code",
   "execution_count": 6,
   "id": "3f9d8609-6aa7-48bf-ac45-22bddd2c75e9",
   "metadata": {},
   "outputs": [],
   "source": [
    "base2 = baseData.loc[baseData.fecha_dato == \"2016-05-28\"]"
   ]
  },
  {
   "cell_type": "code",
   "execution_count": 7,
   "id": "d66875ec-263d-4915-9b07-ecf203eaf97d",
   "metadata": {},
   "outputs": [
    {
     "name": "stderr",
     "output_type": "stream",
     "text": [
      "C:\\Users\\caose\\AppData\\Local\\Temp\\ipykernel_70500\\4183799191.py:1: FutureWarning: The frame.append method is deprecated and will be removed from pandas in a future version. Use pandas.concat instead.\n",
      "  data1 = base1.append(base2, ignore_index=True)\n"
     ]
    }
   ],
   "source": [
    "data1 = base1.append(base2, ignore_index=True)"
   ]
  },
  {
   "cell_type": "code",
   "execution_count": 8,
   "id": "dba926a1-6b24-4f7c-a0f3-a623d05e1cad",
   "metadata": {},
   "outputs": [],
   "source": [
    "data1 = data1.reset_index(drop=True)"
   ]
  },
  {
   "cell_type": "code",
   "execution_count": 9,
   "id": "5d7d45f8-3adc-4ade-a146-43e40b4c9b06",
   "metadata": {},
   "outputs": [],
   "source": [
    "# 기존\n",
    "data1 = data1.drop(['fecha_dato', 'ncodpers','ind_empleado','pais_residencia','fecha_alta','ind_nuevo','indrel','ult_fec_cli_1t',\\\n",
    "                    'conyuemp','canal_entrada','indfall','tipodom','cod_prov','nomprov','ind_actividad_cliente',\\\n",
    "                    'ind_aval_fin_ult1','ind_ctma_fin_ult1','ind_ctop_fin_ult1',\\\n",
    "                    'ind_ctpp_fin_ult1','ind_ecue_fin_ult1','ind_hip_fin_ult1','indresi',\\\n",
    "                    'ind_reca_fin_ult1','ind_viv_fin_ult1','ind_nomina_ult1','ind_nom_pens_ult1','ind_recibo_ult1',\\\n",
    "                    'ind_cco_fin_ult1','ind_cder_fin_ult1',\"antiguedad\",'indrel_1mes','tiprel_1mes',\\\n",
    "                    'ind_deco_fin_ult1','ind_deme_fin_ult1','ind_ahor_fin_ult1','ind_plan_fin_ult1','ind_pres_fin_ult1'], axis=1)"
   ]
  },
  {
   "cell_type": "code",
   "execution_count": 10,
   "id": "cfb06ed2-30eb-42eb-acba-1e8d84e10952",
   "metadata": {},
   "outputs": [],
   "source": [
    "oneStepDf = data1.copy()"
   ]
  },
  {
   "cell_type": "markdown",
   "id": "12fcf8ff-9c38-4ea3-83be-fe8d7a6e69dd",
   "metadata": {
    "tags": []
   },
   "source": [
    "# 칼럼 처리"
   ]
  },
  {
   "cell_type": "markdown",
   "id": "d5b2c2a0-3a8b-4a5e-b655-a0e138452e59",
   "metadata": {
    "tags": []
   },
   "source": [
    "### 나이"
   ]
  },
  {
   "cell_type": "code",
   "execution_count": 11,
   "id": "b1818567-4425-471f-a295-6924f9dbb85f",
   "metadata": {},
   "outputs": [],
   "source": [
    "oneStepDf[\"age\"] = oneStepDf[\"age\"].astype(int)"
   ]
  },
  {
   "cell_type": "code",
   "execution_count": 12,
   "id": "bc08b95d-bc88-4128-ad86-bcd8018bb1f3",
   "metadata": {
    "tags": []
   },
   "outputs": [],
   "source": [
    "oneStepDf[\"age\"] = np.where(oneStepDf.age <= 9,0,\n",
    "                   np.where(oneStepDf.age <= 19,1,\n",
    "                   np.where(oneStepDf.age <= 29,2,\n",
    "                   np.where(oneStepDf.age <= 39,3,\n",
    "                   np.where(oneStepDf.age <= 49,4,\n",
    "                   np.where(oneStepDf.age <= 59,5,\n",
    "                   np.where(oneStepDf.age <= 69,6,\n",
    "                   np.where(oneStepDf.age <= 79,7,\n",
    "                   np.where(oneStepDf.age <= 89,8,\n",
    "                   np.where(oneStepDf.age <= 99,9,10))))))))))"
   ]
  },
  {
   "cell_type": "markdown",
   "id": "ee745a05-a739-466f-a112-0f456acb0034",
   "metadata": {},
   "source": [
    "### 총소득"
   ]
  },
  {
   "cell_type": "code",
   "execution_count": 13,
   "id": "2621ef49-b55e-4ae3-a734-6c41bdaa213a",
   "metadata": {},
   "outputs": [],
   "source": [
    "oneStepDf[\"renta\"].fillna(oneStepDf.groupby('age')[\"renta\"].transform('median'), inplace=True)"
   ]
  },
  {
   "cell_type": "code",
   "execution_count": 14,
   "id": "fc1395fe-26e1-474a-9e20-2c4a02294a28",
   "metadata": {
    "tags": []
   },
   "outputs": [],
   "source": [
    "oneStepDf[\"renta\"] = oneStepDf[\"renta\"].astype(int)"
   ]
  },
  {
   "cell_type": "code",
   "execution_count": 15,
   "id": "34ced49b-5933-4000-8741-21753d340bb4",
   "metadata": {},
   "outputs": [
    {
     "data": {
      "text/plain": [
       "count     1859727\n",
       "mean       125652\n",
       "std        202483\n",
       "min          1202\n",
       "25%         78250\n",
       "50%         96544\n",
       "75%        133053\n",
       "max      28894395\n",
       "Name: renta, dtype: int32"
      ]
     },
     "execution_count": 15,
     "metadata": {},
     "output_type": "execute_result"
    }
   ],
   "source": [
    "oneStepDf[\"renta\"].describe().astype(int)"
   ]
  },
  {
   "cell_type": "code",
   "execution_count": null,
   "id": "982c676b-3bc9-4c91-813b-6b5c63c3d57a",
   "metadata": {},
   "outputs": [],
   "source": [
    "oneStepDf[\"renta\"] = np.where(oneStepDf.renta <= oneStepDf['renta'].quantile(0.2), 1,\n",
    "                     np.where(oneStepDf.renta <= oneStepDf['renta'].quantile(0.4), 2,\n",
    "                     np.where(oneStepDf.renta <= oneStepDf['renta'].quantile(0.6), 3,\n",
    "                     np.where(oneStepDf.renta <= oneStepDf['renta'].quantile(0.8), 4, 5))))"
   ]
  },
  {
   "cell_type": "code",
   "execution_count": null,
   "id": "2e27a7a2-46cc-4104-9acb-edcfe8b34e5b",
   "metadata": {},
   "outputs": [],
   "source": [
    "oneStepDf[\"renta\"].drop_duplicates()"
   ]
  },
  {
   "cell_type": "markdown",
   "id": "bb69798e-1ecb-4f95-8da9-32ba208401a9",
   "metadata": {},
   "source": [
    "### 성별"
   ]
  },
  {
   "cell_type": "code",
   "execution_count": null,
   "id": "b1ebcfc3-889e-4a50-9c22-aec612d8d2dd",
   "metadata": {},
   "outputs": [],
   "source": [
    "oneStepDf.sexo.drop_duplicates()"
   ]
  },
  {
   "cell_type": "raw",
   "id": "ce2858ba-7dc3-4e3f-ac5c-4ae3da570b30",
   "metadata": {},
   "source": [
    "len(oneStepDf.loc[oneStepDf.sexo == \"H\"])"
   ]
  },
  {
   "cell_type": "raw",
   "id": "73db2f47-618c-4f77-abc9-fd3f6848d55c",
   "metadata": {},
   "source": [
    "len(oneStepDf.loc[oneStepDf.sexo == \"V\"])"
   ]
  },
  {
   "cell_type": "raw",
   "id": "068db726-3d14-4324-a879-90772e8ce760",
   "metadata": {},
   "source": [
    "oneStepDf.sexo.isnull().sum()"
   ]
  },
  {
   "cell_type": "code",
   "execution_count": null,
   "id": "f4520361-a361-4726-b9fc-627b94a26d8a",
   "metadata": {},
   "outputs": [],
   "source": [
    "oneStepDf.sexo = oneStepDf.sexo.fillna(\"H\")"
   ]
  },
  {
   "cell_type": "raw",
   "id": "148d7cc3-67ca-475f-828d-1d0229bcc347",
   "metadata": {},
   "source": [
    "oneStepDf.sexo = oneStepDf.sexo.fillna(\"V\")"
   ]
  },
  {
   "cell_type": "code",
   "execution_count": null,
   "id": "f1816c84-f624-4ebc-96fb-ce5395bae9ee",
   "metadata": {},
   "outputs": [],
   "source": [
    "oneStepDf.sexo.drop_duplicates()"
   ]
  },
  {
   "cell_type": "code",
   "execution_count": null,
   "id": "85105738-8f31-4b8f-9ba0-5cf5d1efbb72",
   "metadata": {},
   "outputs": [],
   "source": [
    "dict = {\"V\":0, \"H\":1}\n",
    "\n",
    "oneStepDf.sexo = oneStepDf.sexo.str.upper()\n",
    "oneStepDf.sexo = oneStepDf.sexo.map(dict)"
   ]
  },
  {
   "cell_type": "raw",
   "id": "7959f2fc-2b32-4789-a869-30cbc1f0d663",
   "metadata": {},
   "source": [
    "r1 = len(oneStepDf.loc[oneStepDf.sexo == 1.0])\n",
    "r1"
   ]
  },
  {
   "cell_type": "raw",
   "id": "cb29c4f3-3556-41bb-9e6f-cacf4f6605b7",
   "metadata": {},
   "source": [
    "r2 = len(oneStepDf.loc[oneStepDf.sexo == 0])\n",
    "r2"
   ]
  },
  {
   "cell_type": "raw",
   "id": "eb14fa3a-7074-4111-81b0-104edbbc2d63",
   "metadata": {},
   "source": [
    "len(oneStepDf.sexo) - (r1+r2)"
   ]
  },
  {
   "cell_type": "raw",
   "id": "991a5d44-e639-4890-9062-953d54df9709",
   "metadata": {},
   "source": [
    "oneStepDf.sexo = np.where(oneStepDf.sexo=='H', \"1\", \"0\")"
   ]
  },
  {
   "cell_type": "code",
   "execution_count": null,
   "id": "3155fd19-b067-42aa-8d55-fc15294b414d",
   "metadata": {},
   "outputs": [],
   "source": [
    "oneStepDf.sexo = oneStepDf.sexo.astype(int)"
   ]
  },
  {
   "cell_type": "code",
   "execution_count": null,
   "id": "19f23d32-3a76-462d-bf4c-d903d8e78138",
   "metadata": {},
   "outputs": [],
   "source": [
    "oneStepDf.sexo.dtype"
   ]
  },
  {
   "cell_type": "markdown",
   "id": "3c2430c5-9e0b-4478-84d8-0f9a05415454",
   "metadata": {},
   "source": [
    "### 외국인 지수"
   ]
  },
  {
   "cell_type": "code",
   "execution_count": null,
   "id": "33cbbfd5-c4b6-404c-a703-5e8faf59a1df",
   "metadata": {},
   "outputs": [],
   "source": [
    "dict = {\"N\":0, \"S\":1}\n",
    "\n",
    "oneStepDf.indext = oneStepDf.indext.str.upper()\n",
    "oneStepDf.indext = oneStepDf.indext.map(dict)"
   ]
  },
  {
   "cell_type": "code",
   "execution_count": null,
   "id": "0d9df65e-8a2d-4aba-9554-28871cc8f983",
   "metadata": {},
   "outputs": [],
   "source": [
    "oneStepDf.indext.unique()"
   ]
  },
  {
   "cell_type": "markdown",
   "id": "67118381-1a31-4d74-940a-69dcc7441d51",
   "metadata": {},
   "source": [
    "### 고객 분류"
   ]
  },
  {
   "cell_type": "code",
   "execution_count": null,
   "id": "83dcc68c-7fbd-4e27-b2a8-5489e6e9c76b",
   "metadata": {},
   "outputs": [],
   "source": [
    "oneStepDf.segmento.drop_duplicates()"
   ]
  },
  {
   "cell_type": "code",
   "execution_count": null,
   "id": "fb5326c6-a958-4037-a866-c4fc05f8d039",
   "metadata": {},
   "outputs": [],
   "source": [
    "oneStepDf.segmento = np.where(oneStepDf.segmento == '03 - UNIVERSITARIO', 0, \n",
    "                     np.where(oneStepDf.segmento == '01 - TOP', 1,\n",
    "                     np.where(oneStepDf.segmento == '02 - PARTICULARES', 1, oneStepDf.segmento)))"
   ]
  },
  {
   "cell_type": "raw",
   "id": "ea75582a-76d9-446e-b8d2-58235601ef8f",
   "metadata": {},
   "source": [
    "r1 = len(oneStepDf.loc[oneStepDf.segmento == 0])\n",
    "r1"
   ]
  },
  {
   "cell_type": "raw",
   "id": "0b0f466b-f201-449b-8870-899d40091fa5",
   "metadata": {},
   "source": [
    "r2 = len(oneStepDf.loc[oneStepDf.segmento == 1])\n",
    "r2"
   ]
  },
  {
   "cell_type": "code",
   "execution_count": null,
   "id": "8facdd0f-086d-490a-9b9e-a22d3f5d217e",
   "metadata": {},
   "outputs": [],
   "source": [
    "oneStepDf.loc[oneStepDf[\"age\"] < 2, 'segmento'] = oneStepDf.segmento.fillna(0)"
   ]
  },
  {
   "cell_type": "code",
   "execution_count": null,
   "id": "18a2e9f6-e8cb-4ab0-a269-e7df9497fd06",
   "metadata": {},
   "outputs": [],
   "source": [
    "oneStepDf.loc[oneStepDf[\"age\"] >= 2, 'segmento'] = oneStepDf.segmento.fillna(1)"
   ]
  },
  {
   "cell_type": "code",
   "execution_count": null,
   "id": "b30d5533-04d7-4890-afda-3225943ed1d8",
   "metadata": {},
   "outputs": [],
   "source": [
    "oneStepDf.segmento = oneStepDf.segmento.astype(int)"
   ]
  },
  {
   "cell_type": "code",
   "execution_count": null,
   "id": "424be881-03e5-4aff-b8aa-442e4715a45b",
   "metadata": {},
   "outputs": [],
   "source": [
    "oneStepDf.segmento.dtype"
   ]
  },
  {
   "cell_type": "code",
   "execution_count": null,
   "id": "4037f5d1-17d2-41c5-8730-5e2f38845901",
   "metadata": {},
   "outputs": [],
   "source": [
    "oneStepDf.dtypes"
   ]
  },
  {
   "cell_type": "markdown",
   "id": "14fe4361-2a9a-407e-95e1-814de87aa4fa",
   "metadata": {},
   "source": [
    "### 나이"
   ]
  },
  {
   "cell_type": "code",
   "execution_count": null,
   "id": "ce5bb275-3ede-485e-a5ea-ca83b9da63a3",
   "metadata": {},
   "outputs": [],
   "source": [
    "# 0 ~ 19 미성년\n",
    "oneStepDf.loc[oneStepDf[\"age\"] == 0 , \"age\"] = 1\n",
    "oneStepDf.loc[oneStepDf[\"age\"] == 1 , \"age\"] = 1\n",
    "\n",
    "# 20 ~ 49 청년\n",
    "oneStepDf.loc[oneStepDf[\"age\"] == 2 , \"age\"] = 2\n",
    "oneStepDf.loc[oneStepDf[\"age\"] == 3 , \"age\"] = 2\n",
    "oneStepDf.loc[oneStepDf[\"age\"] == 4 , \"age\"] = 2\n",
    "\n",
    "# 50 ~ 69 중년\n",
    "oneStepDf.loc[oneStepDf[\"age\"] == 5 , \"age\"] = 3\n",
    "oneStepDf.loc[oneStepDf[\"age\"] == 6 , \"age\"] = 3\n",
    "\n",
    "# 70이후 노년\n",
    "oneStepDf.loc[oneStepDf[\"age\"] == 7 , \"age\"] = 4\n",
    "oneStepDf.loc[oneStepDf[\"age\"] == 8 , \"age\"] = 4\n",
    "oneStepDf.loc[oneStepDf[\"age\"] == 9 , \"age\"] = 4\n",
    "oneStepDf.loc[oneStepDf[\"age\"] == 10 , \"age\"] = 4"
   ]
  },
  {
   "cell_type": "code",
   "execution_count": null,
   "id": "76a69983-f00f-49f2-a164-bfd10aa790d7",
   "metadata": {},
   "outputs": [],
   "source": [
    "oneStepDf = oneStepDf.reset_index(drop=True)"
   ]
  },
  {
   "cell_type": "code",
   "execution_count": null,
   "id": "5c37f127-32d4-4c2f-b289-a750edbfc6aa",
   "metadata": {},
   "outputs": [],
   "source": [
    "# label이 될 컬럼을 상품명으로 변경\n",
    "\n",
    "oneStepDf.loc[oneStepDf['ind_dela_fin_ult1'] == 1, 'ind_dela_fin_ult1'] = '예금'\n",
    "oneStepDf.loc[oneStepDf['ind_cno_fin_ult1'] == 1, 'ind_cno_fin_ult1'] = '급여계좌'\n",
    "oneStepDf.loc[oneStepDf['ind_ctju_fin_ult1'] == 1, 'ind_ctju_fin_ult1'] = '주니어계좌'\n",
    "oneStepDf.loc[oneStepDf['ind_fond_fin_ult1'] == 1, 'ind_fond_fin_ult1'] = '펀드계좌'\n",
    "oneStepDf.loc[oneStepDf['ind_tjcr_fin_ult1'] == 1, 'ind_tjcr_fin_ult1'] = '신용카드'\n",
    "oneStepDf.loc[oneStepDf['ind_valo_fin_ult1'] == 1, 'ind_valo_fin_ult1'] = '증권'\n",
    "# oneStepDf.loc[oneStepDf['ind_deco_fin_ult1'] == 1, 'ind_deco_fin_ult1'] = '단기예금'\n",
    "# oneStepDf.loc[oneStepDf['ind_deme_fin_ult1'] == 1, 'ind_deme_fin_ult1'] = '중기예금'\n",
    "# oneStepDf.loc[data1['ind_ahor_fin_ult1'] == 1, 'ind_ahor_fin_ult1'] = '저축계좌'\n",
    "# oneStepDf.loc[oneStepDf['ind_plan_fin_ult1'] == 1, 'ind_plan_fin_ult1'] = '연금'\n",
    "# oneStepDf.loc[oneStepDf['ind_pres_fin_ult1'] == 1, 'ind_pres_fin_ult1'] = '대출'"
   ]
  },
  {
   "cell_type": "code",
   "execution_count": null,
   "id": "6e271c67-517b-43aa-928b-88acabebf32d",
   "metadata": {},
   "outputs": [],
   "source": [
    "oneStepDf"
   ]
  },
  {
   "cell_type": "code",
   "execution_count": null,
   "id": "93c27a22-1afc-4faf-a17f-698548ff5f75",
   "metadata": {},
   "outputs": [],
   "source": [
    "oneStepDf.columns"
   ]
  },
  {
   "cell_type": "code",
   "execution_count": null,
   "id": "18782bb6-dcb1-4917-b201-a5f0622fe5d9",
   "metadata": {},
   "outputs": [],
   "source": [
    "# 라벨부분 컬럼\n",
    "expandColumn = ['ind_cno_fin_ult1', 'ind_ctju_fin_ult1', 'ind_dela_fin_ult1',\\\n",
    "                'ind_fond_fin_ult1', 'ind_tjcr_fin_ult1', 'ind_valo_fin_ult1']"
   ]
  },
  {
   "cell_type": "code",
   "execution_count": null,
   "id": "58286e8b-2962-4fac-b04d-2f7927e94e4c",
   "metadata": {},
   "outputs": [],
   "source": [
    "# 컬럼\n",
    "dataCol = ['sexo', 'age', 'indext', 'renta', 'segmento']"
   ]
  },
  {
   "cell_type": "code",
   "execution_count": null,
   "id": "f728e989-9e01-4f10-8896-11977a96fd8e",
   "metadata": {},
   "outputs": [],
   "source": [
    "oneStepDf"
   ]
  },
  {
   "cell_type": "markdown",
   "id": "403bd643-33a7-4c30-8d13-bf57eb565c79",
   "metadata": {
    "tags": []
   },
   "source": [
    "### 11개 상품 1개의 컬럼으로 수정"
   ]
  },
  {
   "cell_type": "code",
   "execution_count": null,
   "id": "17fee484-a6af-4358-b7f7-fc4753397d31",
   "metadata": {
    "tags": []
   },
   "outputs": [],
   "source": [
    "wholeList = []\n",
    "for i in tqdm.tqdm(range(len(oneStepDf))):\n",
    "    for j in expandColumn:\n",
    "        rowList = []\n",
    "        rowList.append(oneStepDf[j][i])\n",
    "        for k in dataCol:\n",
    "            rowList.append(oneStepDf[k][i])\n",
    "        wholeList.append(rowList)\n",
    "secondStepDf = pd.DataFrame(wholeList)"
   ]
  },
  {
   "cell_type": "code",
   "execution_count": null,
   "id": "86b91dab-32a1-45f1-848d-5570a79d85ef",
   "metadata": {},
   "outputs": [],
   "source": [
    "secondStepDf.rename(columns={0:\"FINANCIALPRODUCT\"}, inplace=True)\n",
    "secondStepDf.rename(columns={1:\"GENDER\"}, inplace=True)\n",
    "secondStepDf.rename(columns={2:\"AGE\"}, inplace=True)\n",
    "secondStepDf.rename(columns={3:\"CUST_TYPE\"}, inplace=True)\n",
    "secondStepDf.rename(columns={4:\"INCOME\"}, inplace=True)\n",
    "secondStepDf.rename(columns={5:\"FOREINERINDEX\"}, inplace=True)\n",
    "\n",
    "secondStepDf"
   ]
  },
  {
   "cell_type": "code",
   "execution_count": null,
   "id": "968b27e2-85c0-4a97-834f-8dcf3dd431b5",
   "metadata": {},
   "outputs": [],
   "source": [
    "# 가입 안 된 데이터 삭제\n",
    "secondStepDf = secondStepDf.loc[secondStepDf.FINANCIALPRODUCT != 0]\n",
    "secondStepDf = secondStepDf.reset_index(drop=True)\n",
    "secondStepDf"
   ]
  },
  {
   "cell_type": "code",
   "execution_count": null,
   "id": "bb339620-9045-4a89-bfcb-207d98cfff1e",
   "metadata": {},
   "outputs": [],
   "source": [
    "from sklearn.preprocessing import LabelEncoder"
   ]
  },
  {
   "cell_type": "code",
   "execution_count": null,
   "id": "9aa44266-fa63-4d7e-8c1a-6796357a0303",
   "metadata": {},
   "outputs": [],
   "source": [
    "labelEn = LabelEncoder()"
   ]
  },
  {
   "cell_type": "code",
   "execution_count": null,
   "id": "2c766c1c-23f3-4f12-a516-394b4fb94b5b",
   "metadata": {},
   "outputs": [],
   "source": [
    "secondStepDf.FINANCIALPRODUCT = labelEn.fit_transform(secondStepDf.FINANCIALPRODUCT)"
   ]
  },
  {
   "cell_type": "code",
   "execution_count": null,
   "id": "42d3e1eb-cc37-4a7f-bdeb-50fe489f2914",
   "metadata": {},
   "outputs": [],
   "source": [
    "secondStepDf.corr()"
   ]
  },
  {
   "cell_type": "code",
   "execution_count": null,
   "id": "06f58665-22fa-4be8-be40-e8c3f4021efd",
   "metadata": {},
   "outputs": [],
   "source": [
    "secondStepDf.FINANCIALPRODUCT = labelEn.inverse_transform(secondStepDf.FINANCIALPRODUCT)"
   ]
  },
  {
   "cell_type": "code",
   "execution_count": null,
   "id": "2112942b-b4a2-4d95-bebc-27d533f6597f",
   "metadata": {},
   "outputs": [],
   "source": [
    "secondStepDf"
   ]
  },
  {
   "cell_type": "code",
   "execution_count": null,
   "id": "059d7330-2201-4803-9710-3367d744660e",
   "metadata": {},
   "outputs": [],
   "source": [
    "----------------------------------------------------------------------------------------------------------------"
   ]
  },
  {
   "cell_type": "code",
   "execution_count": null,
   "id": "6486bd5e-1cfe-420e-bf9b-54c0134432a6",
   "metadata": {},
   "outputs": [],
   "source": [
    "### csv저장"
   ]
  },
  {
   "cell_type": "code",
   "execution_count": null,
   "id": "145eaf99-7b50-4965-b39a-287ce70906f6",
   "metadata": {},
   "outputs": [],
   "source": [
    "secondStepDf.to_csv(\"../test/Financial_Product_Recommendation.csv\", index=False, mode =\"w\")"
   ]
  },
  {
   "cell_type": "code",
   "execution_count": null,
   "id": "3ef8b779-f20d-4626-94c1-6b56996a188c",
   "metadata": {},
   "outputs": [],
   "source": []
  }
 ],
 "metadata": {
  "kernelspec": {
   "display_name": "Python 3 (ipykernel)",
   "language": "python",
   "name": "python3"
  },
  "language_info": {
   "codemirror_mode": {
    "name": "ipython",
    "version": 3
   },
   "file_extension": ".py",
   "mimetype": "text/x-python",
   "name": "python",
   "nbconvert_exporter": "python",
   "pygments_lexer": "ipython3",
   "version": "3.9.13"
  }
 },
 "nbformat": 4,
 "nbformat_minor": 5
}
