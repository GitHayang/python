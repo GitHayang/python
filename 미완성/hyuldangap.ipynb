{
 "cells": [
  {
   "cell_type": "code",
   "execution_count": 1,
   "id": "7518bbf7-991d-485c-bc0a-6e3a041b188d",
   "metadata": {},
   "outputs": [],
   "source": [
    "import pandas as pd\n",
    "import numpy as np"
   ]
  },
  {
   "cell_type": "code",
   "execution_count": 2,
   "id": "89667270-576a-4321-8e42-0cc58ed49a57",
   "metadata": {},
   "outputs": [
    {
     "data": {
      "text/html": [
       "<div>\n",
       "<style scoped>\n",
       "    .dataframe tbody tr th:only-of-type {\n",
       "        vertical-align: middle;\n",
       "    }\n",
       "\n",
       "    .dataframe tbody tr th {\n",
       "        vertical-align: top;\n",
       "    }\n",
       "\n",
       "    .dataframe thead th {\n",
       "        text-align: right;\n",
       "    }\n",
       "</style>\n",
       "<table border=\"1\" class=\"dataframe\">\n",
       "  <thead>\n",
       "    <tr style=\"text-align: right;\">\n",
       "      <th></th>\n",
       "      <th>SEX</th>\n",
       "      <th>BTH_G</th>\n",
       "      <th>SBP</th>\n",
       "      <th>DBP</th>\n",
       "      <th>FBS</th>\n",
       "      <th>DIS</th>\n",
       "      <th>BMI</th>\n",
       "    </tr>\n",
       "  </thead>\n",
       "  <tbody>\n",
       "    <tr>\n",
       "      <th>0</th>\n",
       "      <td>1</td>\n",
       "      <td>1</td>\n",
       "      <td>116</td>\n",
       "      <td>78</td>\n",
       "      <td>94</td>\n",
       "      <td>4</td>\n",
       "      <td>16.6</td>\n",
       "    </tr>\n",
       "    <tr>\n",
       "      <th>1</th>\n",
       "      <td>1</td>\n",
       "      <td>1</td>\n",
       "      <td>100</td>\n",
       "      <td>60</td>\n",
       "      <td>79</td>\n",
       "      <td>4</td>\n",
       "      <td>22.3</td>\n",
       "    </tr>\n",
       "    <tr>\n",
       "      <th>2</th>\n",
       "      <td>1</td>\n",
       "      <td>1</td>\n",
       "      <td>100</td>\n",
       "      <td>60</td>\n",
       "      <td>87</td>\n",
       "      <td>4</td>\n",
       "      <td>21.9</td>\n",
       "    </tr>\n",
       "    <tr>\n",
       "      <th>3</th>\n",
       "      <td>1</td>\n",
       "      <td>1</td>\n",
       "      <td>111</td>\n",
       "      <td>70</td>\n",
       "      <td>72</td>\n",
       "      <td>4</td>\n",
       "      <td>20.2</td>\n",
       "    </tr>\n",
       "    <tr>\n",
       "      <th>4</th>\n",
       "      <td>1</td>\n",
       "      <td>1</td>\n",
       "      <td>120</td>\n",
       "      <td>80</td>\n",
       "      <td>98</td>\n",
       "      <td>4</td>\n",
       "      <td>20.0</td>\n",
       "    </tr>\n",
       "    <tr>\n",
       "      <th>...</th>\n",
       "      <td>...</td>\n",
       "      <td>...</td>\n",
       "      <td>...</td>\n",
       "      <td>...</td>\n",
       "      <td>...</td>\n",
       "      <td>...</td>\n",
       "      <td>...</td>\n",
       "    </tr>\n",
       "    <tr>\n",
       "      <th>999995</th>\n",
       "      <td>2</td>\n",
       "      <td>27</td>\n",
       "      <td>120</td>\n",
       "      <td>70</td>\n",
       "      <td>81</td>\n",
       "      <td>2</td>\n",
       "      <td>23.1</td>\n",
       "    </tr>\n",
       "    <tr>\n",
       "      <th>999996</th>\n",
       "      <td>2</td>\n",
       "      <td>27</td>\n",
       "      <td>110</td>\n",
       "      <td>70</td>\n",
       "      <td>104</td>\n",
       "      <td>2</td>\n",
       "      <td>27.2</td>\n",
       "    </tr>\n",
       "    <tr>\n",
       "      <th>999997</th>\n",
       "      <td>2</td>\n",
       "      <td>27</td>\n",
       "      <td>115</td>\n",
       "      <td>53</td>\n",
       "      <td>110</td>\n",
       "      <td>1</td>\n",
       "      <td>25.2</td>\n",
       "    </tr>\n",
       "    <tr>\n",
       "      <th>999998</th>\n",
       "      <td>2</td>\n",
       "      <td>27</td>\n",
       "      <td>120</td>\n",
       "      <td>70</td>\n",
       "      <td>90</td>\n",
       "      <td>2</td>\n",
       "      <td>19.7</td>\n",
       "    </tr>\n",
       "    <tr>\n",
       "      <th>999999</th>\n",
       "      <td>2</td>\n",
       "      <td>27</td>\n",
       "      <td>116</td>\n",
       "      <td>73</td>\n",
       "      <td>92</td>\n",
       "      <td>4</td>\n",
       "      <td>17.6</td>\n",
       "    </tr>\n",
       "  </tbody>\n",
       "</table>\n",
       "<p>1000000 rows × 7 columns</p>\n",
       "</div>"
      ],
      "text/plain": [
       "        SEX  BTH_G  SBP  DBP  FBS  DIS   BMI\n",
       "0         1      1  116   78   94    4  16.6\n",
       "1         1      1  100   60   79    4  22.3\n",
       "2         1      1  100   60   87    4  21.9\n",
       "3         1      1  111   70   72    4  20.2\n",
       "4         1      1  120   80   98    4  20.0\n",
       "...     ...    ...  ...  ...  ...  ...   ...\n",
       "999995    2     27  120   70   81    2  23.1\n",
       "999996    2     27  110   70  104    2  27.2\n",
       "999997    2     27  115   53  110    1  25.2\n",
       "999998    2     27  120   70   90    2  19.7\n",
       "999999    2     27  116   73   92    4  17.6\n",
       "\n",
       "[1000000 rows x 7 columns]"
      ]
     },
     "execution_count": 2,
     "metadata": {},
     "output_type": "execute_result"
    }
   ],
   "source": [
    "baseData = pd.read_csv(\"./dataset/국가건강검진_혈압혈당_데이터.csv\")\n",
    "baseData"
   ]
  },
  {
   "cell_type": "code",
   "execution_count": 3,
   "id": "f0bb788d-b6ea-4aad-bb73-faac09767e16",
   "metadata": {},
   "outputs": [
    {
     "data": {
      "text/plain": [
       "SEX        int64\n",
       "BTH_G      int64\n",
       "SBP        int64\n",
       "DBP        int64\n",
       "FBS        int64\n",
       "DIS        int64\n",
       "BMI      float64\n",
       "dtype: object"
      ]
     },
     "execution_count": 3,
     "metadata": {},
     "output_type": "execute_result"
    }
   ],
   "source": [
    "baseData.dtypes"
   ]
  },
  {
   "cell_type": "code",
   "execution_count": 4,
   "id": "ffe44766-ee9a-40c1-9343-a0ac24a02a30",
   "metadata": {},
   "outputs": [
    {
     "data": {
      "text/plain": [
       "SEX      0\n",
       "BTH_G    0\n",
       "SBP      0\n",
       "DBP      0\n",
       "FBS      0\n",
       "DIS      0\n",
       "BMI      0\n",
       "dtype: int64"
      ]
     },
     "execution_count": 4,
     "metadata": {},
     "output_type": "execute_result"
    }
   ],
   "source": [
    "baseData.isnull().sum()"
   ]
  },
  {
   "cell_type": "code",
   "execution_count": 5,
   "id": "22372543-d422-489a-96c2-1ac1d0cdeed1",
   "metadata": {},
   "outputs": [
    {
     "data": {
      "text/html": [
       "<div>\n",
       "<style scoped>\n",
       "    .dataframe tbody tr th:only-of-type {\n",
       "        vertical-align: middle;\n",
       "    }\n",
       "\n",
       "    .dataframe tbody tr th {\n",
       "        vertical-align: top;\n",
       "    }\n",
       "\n",
       "    .dataframe thead th {\n",
       "        text-align: right;\n",
       "    }\n",
       "</style>\n",
       "<table border=\"1\" class=\"dataframe\">\n",
       "  <thead>\n",
       "    <tr style=\"text-align: right;\">\n",
       "      <th></th>\n",
       "      <th>SEX</th>\n",
       "      <th>BTH_G</th>\n",
       "      <th>SBP</th>\n",
       "      <th>DBP</th>\n",
       "      <th>FBS</th>\n",
       "      <th>DIS</th>\n",
       "      <th>BMI</th>\n",
       "    </tr>\n",
       "  </thead>\n",
       "  <tbody>\n",
       "    <tr>\n",
       "      <th>count</th>\n",
       "      <td>1000000.000000</td>\n",
       "      <td>1000000.000000</td>\n",
       "      <td>1000000.000000</td>\n",
       "      <td>1000000.000000</td>\n",
       "      <td>1000000.000000</td>\n",
       "      <td>1000000.000000</td>\n",
       "      <td>1000000.000000</td>\n",
       "    </tr>\n",
       "    <tr>\n",
       "      <th>mean</th>\n",
       "      <td>1.489773</td>\n",
       "      <td>13.905268</td>\n",
       "      <td>121.871763</td>\n",
       "      <td>75.787874</td>\n",
       "      <td>98.864428</td>\n",
       "      <td>3.471040</td>\n",
       "      <td>23.804029</td>\n",
       "    </tr>\n",
       "    <tr>\n",
       "      <th>std</th>\n",
       "      <td>0.499896</td>\n",
       "      <td>7.006442</td>\n",
       "      <td>14.561706</td>\n",
       "      <td>9.793411</td>\n",
       "      <td>22.981300</td>\n",
       "      <td>0.946151</td>\n",
       "      <td>3.297287</td>\n",
       "    </tr>\n",
       "    <tr>\n",
       "      <th>min</th>\n",
       "      <td>1.000000</td>\n",
       "      <td>1.000000</td>\n",
       "      <td>82.000000</td>\n",
       "      <td>50.000000</td>\n",
       "      <td>60.000000</td>\n",
       "      <td>1.000000</td>\n",
       "      <td>14.800000</td>\n",
       "    </tr>\n",
       "    <tr>\n",
       "      <th>25%</th>\n",
       "      <td>1.000000</td>\n",
       "      <td>9.000000</td>\n",
       "      <td>110.000000</td>\n",
       "      <td>70.000000</td>\n",
       "      <td>87.000000</td>\n",
       "      <td>3.000000</td>\n",
       "      <td>21.500000</td>\n",
       "    </tr>\n",
       "    <tr>\n",
       "      <th>50%</th>\n",
       "      <td>1.000000</td>\n",
       "      <td>14.000000</td>\n",
       "      <td>120.000000</td>\n",
       "      <td>76.000000</td>\n",
       "      <td>94.000000</td>\n",
       "      <td>4.000000</td>\n",
       "      <td>23.600000</td>\n",
       "    </tr>\n",
       "    <tr>\n",
       "      <th>75%</th>\n",
       "      <td>2.000000</td>\n",
       "      <td>19.000000</td>\n",
       "      <td>130.000000</td>\n",
       "      <td>80.000000</td>\n",
       "      <td>104.000000</td>\n",
       "      <td>4.000000</td>\n",
       "      <td>25.800000</td>\n",
       "    </tr>\n",
       "    <tr>\n",
       "      <th>max</th>\n",
       "      <td>2.000000</td>\n",
       "      <td>27.000000</td>\n",
       "      <td>190.000000</td>\n",
       "      <td>120.000000</td>\n",
       "      <td>358.000000</td>\n",
       "      <td>4.000000</td>\n",
       "      <td>40.300000</td>\n",
       "    </tr>\n",
       "  </tbody>\n",
       "</table>\n",
       "</div>"
      ],
      "text/plain": [
       "                  SEX           BTH_G             SBP             DBP  \\\n",
       "count  1000000.000000  1000000.000000  1000000.000000  1000000.000000   \n",
       "mean         1.489773       13.905268      121.871763       75.787874   \n",
       "std          0.499896        7.006442       14.561706        9.793411   \n",
       "min          1.000000        1.000000       82.000000       50.000000   \n",
       "25%          1.000000        9.000000      110.000000       70.000000   \n",
       "50%          1.000000       14.000000      120.000000       76.000000   \n",
       "75%          2.000000       19.000000      130.000000       80.000000   \n",
       "max          2.000000       27.000000      190.000000      120.000000   \n",
       "\n",
       "                  FBS             DIS             BMI  \n",
       "count  1000000.000000  1000000.000000  1000000.000000  \n",
       "mean        98.864428        3.471040       23.804029  \n",
       "std         22.981300        0.946151        3.297287  \n",
       "min         60.000000        1.000000       14.800000  \n",
       "25%         87.000000        3.000000       21.500000  \n",
       "50%         94.000000        4.000000       23.600000  \n",
       "75%        104.000000        4.000000       25.800000  \n",
       "max        358.000000        4.000000       40.300000  "
      ]
     },
     "execution_count": 5,
     "metadata": {},
     "output_type": "execute_result"
    }
   ],
   "source": [
    "baseData.describe()"
   ]
  },
  {
   "cell_type": "code",
   "execution_count": 6,
   "id": "e0e1b2ed-68a1-48c2-aae8-656d075ce980",
   "metadata": {},
   "outputs": [],
   "source": [
    "import matplotlib.pyplot as plt"
   ]
  },
  {
   "cell_type": "code",
   "execution_count": 7,
   "id": "a04f86d0-f41e-40ad-9058-a6e706c64ab7",
   "metadata": {},
   "outputs": [
    {
     "data": {
      "text/html": [
       "<div>\n",
       "<style scoped>\n",
       "    .dataframe tbody tr th:only-of-type {\n",
       "        vertical-align: middle;\n",
       "    }\n",
       "\n",
       "    .dataframe tbody tr th {\n",
       "        vertical-align: top;\n",
       "    }\n",
       "\n",
       "    .dataframe thead th {\n",
       "        text-align: right;\n",
       "    }\n",
       "</style>\n",
       "<table border=\"1\" class=\"dataframe\">\n",
       "  <thead>\n",
       "    <tr style=\"text-align: right;\">\n",
       "      <th></th>\n",
       "      <th>SEX</th>\n",
       "      <th>BTH_G</th>\n",
       "      <th>SBP</th>\n",
       "      <th>DBP</th>\n",
       "      <th>FBS</th>\n",
       "      <th>DIS</th>\n",
       "      <th>BMI</th>\n",
       "    </tr>\n",
       "  </thead>\n",
       "  <tbody>\n",
       "    <tr>\n",
       "      <th>0</th>\n",
       "      <td>1</td>\n",
       "      <td>1</td>\n",
       "      <td>116</td>\n",
       "      <td>78</td>\n",
       "      <td>94</td>\n",
       "      <td>4</td>\n",
       "      <td>16.6</td>\n",
       "    </tr>\n",
       "    <tr>\n",
       "      <th>1</th>\n",
       "      <td>1</td>\n",
       "      <td>1</td>\n",
       "      <td>100</td>\n",
       "      <td>60</td>\n",
       "      <td>79</td>\n",
       "      <td>4</td>\n",
       "      <td>22.3</td>\n",
       "    </tr>\n",
       "    <tr>\n",
       "      <th>2</th>\n",
       "      <td>1</td>\n",
       "      <td>1</td>\n",
       "      <td>100</td>\n",
       "      <td>60</td>\n",
       "      <td>87</td>\n",
       "      <td>4</td>\n",
       "      <td>21.9</td>\n",
       "    </tr>\n",
       "    <tr>\n",
       "      <th>3</th>\n",
       "      <td>1</td>\n",
       "      <td>1</td>\n",
       "      <td>111</td>\n",
       "      <td>70</td>\n",
       "      <td>72</td>\n",
       "      <td>4</td>\n",
       "      <td>20.2</td>\n",
       "    </tr>\n",
       "    <tr>\n",
       "      <th>4</th>\n",
       "      <td>1</td>\n",
       "      <td>1</td>\n",
       "      <td>120</td>\n",
       "      <td>80</td>\n",
       "      <td>98</td>\n",
       "      <td>4</td>\n",
       "      <td>20.0</td>\n",
       "    </tr>\n",
       "    <tr>\n",
       "      <th>...</th>\n",
       "      <td>...</td>\n",
       "      <td>...</td>\n",
       "      <td>...</td>\n",
       "      <td>...</td>\n",
       "      <td>...</td>\n",
       "      <td>...</td>\n",
       "      <td>...</td>\n",
       "    </tr>\n",
       "    <tr>\n",
       "      <th>999995</th>\n",
       "      <td>2</td>\n",
       "      <td>27</td>\n",
       "      <td>120</td>\n",
       "      <td>70</td>\n",
       "      <td>81</td>\n",
       "      <td>2</td>\n",
       "      <td>23.1</td>\n",
       "    </tr>\n",
       "    <tr>\n",
       "      <th>999996</th>\n",
       "      <td>2</td>\n",
       "      <td>27</td>\n",
       "      <td>110</td>\n",
       "      <td>70</td>\n",
       "      <td>104</td>\n",
       "      <td>2</td>\n",
       "      <td>27.2</td>\n",
       "    </tr>\n",
       "    <tr>\n",
       "      <th>999997</th>\n",
       "      <td>2</td>\n",
       "      <td>27</td>\n",
       "      <td>115</td>\n",
       "      <td>53</td>\n",
       "      <td>110</td>\n",
       "      <td>1</td>\n",
       "      <td>25.2</td>\n",
       "    </tr>\n",
       "    <tr>\n",
       "      <th>999998</th>\n",
       "      <td>2</td>\n",
       "      <td>27</td>\n",
       "      <td>120</td>\n",
       "      <td>70</td>\n",
       "      <td>90</td>\n",
       "      <td>2</td>\n",
       "      <td>19.7</td>\n",
       "    </tr>\n",
       "    <tr>\n",
       "      <th>999999</th>\n",
       "      <td>2</td>\n",
       "      <td>27</td>\n",
       "      <td>116</td>\n",
       "      <td>73</td>\n",
       "      <td>92</td>\n",
       "      <td>4</td>\n",
       "      <td>17.6</td>\n",
       "    </tr>\n",
       "  </tbody>\n",
       "</table>\n",
       "<p>1000000 rows × 7 columns</p>\n",
       "</div>"
      ],
      "text/plain": [
       "        SEX  BTH_G  SBP  DBP  FBS  DIS   BMI\n",
       "0         1      1  116   78   94    4  16.6\n",
       "1         1      1  100   60   79    4  22.3\n",
       "2         1      1  100   60   87    4  21.9\n",
       "3         1      1  111   70   72    4  20.2\n",
       "4         1      1  120   80   98    4  20.0\n",
       "...     ...    ...  ...  ...  ...  ...   ...\n",
       "999995    2     27  120   70   81    2  23.1\n",
       "999996    2     27  110   70  104    2  27.2\n",
       "999997    2     27  115   53  110    1  25.2\n",
       "999998    2     27  120   70   90    2  19.7\n",
       "999999    2     27  116   73   92    4  17.6\n",
       "\n",
       "[1000000 rows x 7 columns]"
      ]
     },
     "execution_count": 7,
     "metadata": {},
     "output_type": "execute_result"
    }
   ],
   "source": [
    "baseData"
   ]
  },
  {
   "cell_type": "code",
   "execution_count": 8,
   "id": "6d231b10-a263-47dc-a12b-2b42a5f4a26d",
   "metadata": {},
   "outputs": [
    {
     "data": {
      "text/plain": [
       "SEX        int64\n",
       "BTH_G      int64\n",
       "SBP        int64\n",
       "DBP        int64\n",
       "FBS        int64\n",
       "DIS        int64\n",
       "BMI      float64\n",
       "dtype: object"
      ]
     },
     "execution_count": 8,
     "metadata": {},
     "output_type": "execute_result"
    }
   ],
   "source": [
    "baseData.dtypes"
   ]
  },
  {
   "cell_type": "code",
   "execution_count": 9,
   "id": "3cf81eaf-e740-4e39-8c61-6d33492f4af1",
   "metadata": {},
   "outputs": [
    {
     "data": {
      "text/html": [
       "<div>\n",
       "<style scoped>\n",
       "    .dataframe tbody tr th:only-of-type {\n",
       "        vertical-align: middle;\n",
       "    }\n",
       "\n",
       "    .dataframe tbody tr th {\n",
       "        vertical-align: top;\n",
       "    }\n",
       "\n",
       "    .dataframe thead th {\n",
       "        text-align: right;\n",
       "    }\n",
       "</style>\n",
       "<table border=\"1\" class=\"dataframe\">\n",
       "  <thead>\n",
       "    <tr style=\"text-align: right;\">\n",
       "      <th></th>\n",
       "      <th>SEX</th>\n",
       "      <th>BTH_G</th>\n",
       "      <th>SBP</th>\n",
       "      <th>DBP</th>\n",
       "      <th>FBS</th>\n",
       "      <th>DIS</th>\n",
       "      <th>BMI</th>\n",
       "    </tr>\n",
       "  </thead>\n",
       "  <tbody>\n",
       "    <tr>\n",
       "      <th>SEX</th>\n",
       "      <td>1.000000</td>\n",
       "      <td>0.085226</td>\n",
       "      <td>-0.168796</td>\n",
       "      <td>-0.190420</td>\n",
       "      <td>-0.101150</td>\n",
       "      <td>-0.004797</td>\n",
       "      <td>-0.170833</td>\n",
       "    </tr>\n",
       "    <tr>\n",
       "      <th>BTH_G</th>\n",
       "      <td>0.085226</td>\n",
       "      <td>1.000000</td>\n",
       "      <td>0.275981</td>\n",
       "      <td>0.134484</td>\n",
       "      <td>0.213951</td>\n",
       "      <td>-0.478049</td>\n",
       "      <td>0.088089</td>\n",
       "    </tr>\n",
       "    <tr>\n",
       "      <th>SBP</th>\n",
       "      <td>-0.168796</td>\n",
       "      <td>0.275981</td>\n",
       "      <td>1.000000</td>\n",
       "      <td>0.743006</td>\n",
       "      <td>0.186501</td>\n",
       "      <td>-0.310757</td>\n",
       "      <td>0.304383</td>\n",
       "    </tr>\n",
       "    <tr>\n",
       "      <th>DBP</th>\n",
       "      <td>-0.190420</td>\n",
       "      <td>0.134484</td>\n",
       "      <td>0.743006</td>\n",
       "      <td>1.000000</td>\n",
       "      <td>0.138717</td>\n",
       "      <td>-0.193525</td>\n",
       "      <td>0.275492</td>\n",
       "    </tr>\n",
       "    <tr>\n",
       "      <th>FBS</th>\n",
       "      <td>-0.101150</td>\n",
       "      <td>0.213951</td>\n",
       "      <td>0.186501</td>\n",
       "      <td>0.138717</td>\n",
       "      <td>1.000000</td>\n",
       "      <td>-0.315935</td>\n",
       "      <td>0.173688</td>\n",
       "    </tr>\n",
       "    <tr>\n",
       "      <th>DIS</th>\n",
       "      <td>-0.004797</td>\n",
       "      <td>-0.478049</td>\n",
       "      <td>-0.310757</td>\n",
       "      <td>-0.193525</td>\n",
       "      <td>-0.315935</td>\n",
       "      <td>1.000000</td>\n",
       "      <td>-0.200107</td>\n",
       "    </tr>\n",
       "    <tr>\n",
       "      <th>BMI</th>\n",
       "      <td>-0.170833</td>\n",
       "      <td>0.088089</td>\n",
       "      <td>0.304383</td>\n",
       "      <td>0.275492</td>\n",
       "      <td>0.173688</td>\n",
       "      <td>-0.200107</td>\n",
       "      <td>1.000000</td>\n",
       "    </tr>\n",
       "  </tbody>\n",
       "</table>\n",
       "</div>"
      ],
      "text/plain": [
       "            SEX     BTH_G       SBP       DBP       FBS       DIS       BMI\n",
       "SEX    1.000000  0.085226 -0.168796 -0.190420 -0.101150 -0.004797 -0.170833\n",
       "BTH_G  0.085226  1.000000  0.275981  0.134484  0.213951 -0.478049  0.088089\n",
       "SBP   -0.168796  0.275981  1.000000  0.743006  0.186501 -0.310757  0.304383\n",
       "DBP   -0.190420  0.134484  0.743006  1.000000  0.138717 -0.193525  0.275492\n",
       "FBS   -0.101150  0.213951  0.186501  0.138717  1.000000 -0.315935  0.173688\n",
       "DIS   -0.004797 -0.478049 -0.310757 -0.193525 -0.315935  1.000000 -0.200107\n",
       "BMI   -0.170833  0.088089  0.304383  0.275492  0.173688 -0.200107  1.000000"
      ]
     },
     "execution_count": 9,
     "metadata": {},
     "output_type": "execute_result"
    }
   ],
   "source": [
    "baseData.corr()"
   ]
  },
  {
   "cell_type": "code",
   "execution_count": 10,
   "id": "f27da740-63e3-4bd5-b4fa-0281c91979c0",
   "metadata": {},
   "outputs": [
    {
     "data": {
      "text/plain": [
       "['BTH_G', 'SBP', 'FBS']"
      ]
     },
     "execution_count": 10,
     "metadata": {},
     "output_type": "execute_result"
    }
   ],
   "source": [
    "corrDf = baseData.corr()\n",
    "stdCorr = 0.3\n",
    "dataCol = list(corrDf.loc[(abs(corrDf[\"DIS\"])>stdCorr)&(corrDf[\"DIS\"]!=1)].index)\n",
    "dataCol"
   ]
  },
  {
   "cell_type": "code",
   "execution_count": 11,
   "id": "abba2b76-69db-4431-8ae2-872c1e0af491",
   "metadata": {},
   "outputs": [
    {
     "data": {
      "text/plain": [
       "['SBP', 'FBS']"
      ]
     },
     "execution_count": 11,
     "metadata": {},
     "output_type": "execute_result"
    }
   ],
   "source": [
    "dataCol = dataCol[-2:]\n",
    "dataCol"
   ]
  },
  {
   "cell_type": "code",
   "execution_count": 12,
   "id": "d4c55793-2141-4e5a-aafc-a54057d00272",
   "metadata": {},
   "outputs": [],
   "source": [
    "tarCol = ['DIS']"
   ]
  },
  {
   "cell_type": "code",
   "execution_count": 13,
   "id": "19c35ef2-e2d2-49c3-a2e3-7f9484df9477",
   "metadata": {},
   "outputs": [],
   "source": [
    "featureData = baseData[dataCol]\n",
    "labelData = baseData[tarCol]"
   ]
  },
  {
   "cell_type": "code",
   "execution_count": 14,
   "id": "e9dedee9-e275-47a6-8563-53e8212eb7cb",
   "metadata": {},
   "outputs": [],
   "source": [
    "# 분류모델"
   ]
  },
  {
   "cell_type": "code",
   "execution_count": 16,
   "id": "a7cc9c7e-a206-4bf9-81a3-4509e2f8958a",
   "metadata": {},
   "outputs": [],
   "source": [
    "from sklearn.tree import DecisionTreeClassifier\n",
    "from sklearn.model_selection import train_test_split\n",
    "from sklearn.metrics import accuracy_score\n",
    "from sklearn.metrics import classification_report"
   ]
  },
  {
   "cell_type": "code",
   "execution_count": 17,
   "id": "87cc1e1f-b921-410c-8814-727f89e0ff53",
   "metadata": {},
   "outputs": [],
   "source": [
    "train_feat,\\\n",
    "test_feat, \\\n",
    "train_label, \\\n",
    "test_label = train_test_split(featureData, labelData, test_size=0.2, random_state=10)"
   ]
  },
  {
   "cell_type": "code",
   "execution_count": 18,
   "id": "45f361d2-fc6f-4545-9986-5b6ef20671ad",
   "metadata": {},
   "outputs": [
    {
     "name": "stdout",
     "output_type": "stream",
     "text": [
      "(800000, 2)\n",
      "(800000, 1)\n",
      "(200000, 2)\n",
      "(200000, 1)\n"
     ]
    }
   ],
   "source": [
    "print(train_feat.shape)\n",
    "print(train_label.shape)\n",
    "print(test_feat.shape)\n",
    "print(test_label.shape)"
   ]
  },
  {
   "cell_type": "code",
   "execution_count": 20,
   "id": "8fccf627-b4ed-4c51-984b-fac41ebe268e",
   "metadata": {},
   "outputs": [],
   "source": [
    "model_method = DecisionTreeClassifier(random_state=10)"
   ]
  },
  {
   "cell_type": "code",
   "execution_count": 21,
   "id": "96cd5d9e-33b1-43aa-b818-2dd01ddcc480",
   "metadata": {},
   "outputs": [],
   "source": [
    "model = model_method.fit(X = train_feat, y = train_label)"
   ]
  },
  {
   "cell_type": "code",
   "execution_count": 22,
   "id": "4c782105-4260-4a09-bf21-ef784887b7d1",
   "metadata": {},
   "outputs": [],
   "source": [
    "predict = model.predict(test_feat)"
   ]
  },
  {
   "cell_type": "code",
   "execution_count": 23,
   "id": "313cc189-ed32-45e3-b551-a3679476200d",
   "metadata": {},
   "outputs": [],
   "source": [
    "predictData = pd.DataFrame(predict, columns = [\"predict\"])"
   ]
  },
  {
   "cell_type": "code",
   "execution_count": 24,
   "id": "64c46fd5-7584-4a1b-963b-6e820623af65",
   "metadata": {},
   "outputs": [],
   "source": [
    "test_label.reset_index(drop=True, inplace=True)"
   ]
  },
  {
   "cell_type": "code",
   "execution_count": 25,
   "id": "366e0c04-898d-47db-bc18-d8a18e850db5",
   "metadata": {},
   "outputs": [],
   "source": [
    "finalReuslt = pd.concat( [test_label, predictData], axis=1)"
   ]
  },
  {
   "cell_type": "code",
   "execution_count": 26,
   "id": "422c6aa7-0ecc-42e1-babb-bc16e953702e",
   "metadata": {},
   "outputs": [
    {
     "name": "stdout",
     "output_type": "stream",
     "text": [
      "Accuracy = 0.74965\n",
      "result =\n",
      "               precision    recall  f1-score   support\n",
      "\n",
      "           1       0.37      0.24      0.29     10695\n",
      "           2       0.43      0.10      0.17     32435\n",
      "           3       0.37      0.16      0.22      8629\n",
      "           4       0.79      0.96      0.86    148241\n",
      "\n",
      "    accuracy                           0.75    200000\n",
      "   macro avg       0.49      0.37      0.39    200000\n",
      "weighted avg       0.69      0.75      0.69    200000\n",
      "\n"
     ]
    }
   ],
   "source": [
    "# 결과 테스트하기 \n",
    "ac_score = accuracy_score(finalReuslt.DIS, \n",
    "                          finalReuslt.predict)\n",
    "cl_report = classification_report(finalReuslt.DIS, \n",
    "                                  finalReuslt.predict)\n",
    "## 결과 리포트하기\n",
    "print(\"Accuracy =\", ac_score)\n",
    "print(\"result =\\n\", cl_report)"
   ]
  },
  {
   "cell_type": "code",
   "execution_count": 27,
   "id": "ab5a4954-faf6-4540-a6cb-623122fd7a12",
   "metadata": {},
   "outputs": [
    {
     "data": {
      "text/plain": [
       "['SBP', 'FBS']"
      ]
     },
     "execution_count": 27,
     "metadata": {},
     "output_type": "execute_result"
    }
   ],
   "source": [
    "list(train_feat)"
   ]
  },
  {
   "cell_type": "raw",
   "id": "7954487d-0b50-42c7-a62d-0d8ce1673eec",
   "metadata": {},
   "source": [
    "고혈압\n",
    "전 고혈압 120-139/80-89\n",
    "1단계 140-159/90-99\n",
    "2단계 160~/100~\n",
    "\n",
    "저혈압\n",
    "~100/~60\n",
    "\n",
    "공복혈당\n",
    "정상 : 70~100 \n",
    "\n",
    "당뇨병 전 단계\n",
    "공복 혈당 장애 : 100 ~ 125\n",
    "내당능 장애 : 140 ~ 199"
   ]
  },
  {
   "cell_type": "code",
   "execution_count": 64,
   "id": "723b11b4-3f85-4580-bc9e-51bee543b32f",
   "metadata": {},
   "outputs": [],
   "source": [
    "#BTH_G = 30 #나이 \n",
    "SBP = 130 #최고혈압\n",
    "FBS = 150 #공복혈당"
   ]
  },
  {
   "cell_type": "raw",
   "id": "49e9ab7a-3098-45d0-8d9f-9948e6386059",
   "metadata": {
    "jupyter": {
     "source_hidden": true
    },
    "tags": []
   },
   "source": [
    "def AGE(BTH_G):\n",
    "    if 20 <= BTH_G <= 24:\n",
    "        return 1\n",
    "    elif 25 <= BTH_G <= 26:\n",
    "        return 2\n",
    "    elif 27 <= BTH_G <= 28:\n",
    "        return 3\n",
    "    elif 29 <= BTH_G <= 30:\n",
    "        return 4\n",
    "    elif 31 <= BTH_G <= 32:\n",
    "        return 5\n",
    "    elif 33 <= BTH_G <= 34:\n",
    "        return 6\n",
    "    elif 35 <= BTH_G <= 36:\n",
    "        return 7\n",
    "    elif 37 <= BTH_G <= 38:\n",
    "        return 8\n",
    "    elif 39 <= BTH_G <= 40:\n",
    "        return 9\n",
    "    elif 41 <= BTH_G <= 42:\n",
    "        return 10\n",
    "    elif 43 <= BTH_G <= 44:\n",
    "        return 11\n",
    "    elif 45 <= BTH_G <= 46:\n",
    "        return 12\n",
    "    elif 47 <= BTH_G <= 48:\n",
    "        return 13\n",
    "    elif 49 <= BTH_G <= 50:\n",
    "        return 14\n",
    "    elif 51 <= BTH_G <= 52:\n",
    "        return 15\n",
    "    elif 53 <= BTH_G <= 54:\n",
    "        return 16\n",
    "    elif 55 <= BTH_G <= 56:\n",
    "        return 17\n",
    "    elif 57 <= BTH_G <= 58:\n",
    "        return 18\n",
    "    elif 59 <= BTH_G <= 60:\n",
    "        return 19\n",
    "    elif 61 <= BTH_G <= 62:\n",
    "        return 20\n",
    "    elif 63 <= BTH_G <= 64:\n",
    "        return 21\n",
    "    elif 65 <= BTH_G <= 66:\n",
    "        return 22\n",
    "    elif 67 <= BTH_G <= 68:\n",
    "        return 23\n",
    "    elif 69 <= BTH_G <= 70:\n",
    "        return 24\n",
    "    elif 71 <= BTH_G <= 72:\n",
    "        return 25\n",
    "    elif 73 <= BTH_G <= 74:\n",
    "        return 26\n",
    "    else:\n",
    "        return 27"
   ]
  },
  {
   "cell_type": "raw",
   "id": "f320de9b-9ab2-4228-9971-4c41ffadbc84",
   "metadata": {},
   "source": [
    "BTH_G = AGE(BTH_G)"
   ]
  },
  {
   "cell_type": "code",
   "execution_count": 65,
   "id": "4aa9134e-0e30-4852-a686-cb1cb9d1efe3",
   "metadata": {},
   "outputs": [
    {
     "data": {
      "text/html": [
       "<div>\n",
       "<style scoped>\n",
       "    .dataframe tbody tr th:only-of-type {\n",
       "        vertical-align: middle;\n",
       "    }\n",
       "\n",
       "    .dataframe tbody tr th {\n",
       "        vertical-align: top;\n",
       "    }\n",
       "\n",
       "    .dataframe thead th {\n",
       "        text-align: right;\n",
       "    }\n",
       "</style>\n",
       "<table border=\"1\" class=\"dataframe\">\n",
       "  <thead>\n",
       "    <tr style=\"text-align: right;\">\n",
       "      <th></th>\n",
       "      <th>0</th>\n",
       "      <th>1</th>\n",
       "    </tr>\n",
       "  </thead>\n",
       "  <tbody>\n",
       "    <tr>\n",
       "      <th>0</th>\n",
       "      <td>130</td>\n",
       "      <td>150</td>\n",
       "    </tr>\n",
       "  </tbody>\n",
       "</table>\n",
       "</div>"
      ],
      "text/plain": [
       "     0    1\n",
       "0  130  150"
      ]
     },
     "execution_count": 65,
     "metadata": {},
     "output_type": "execute_result"
    }
   ],
   "source": [
    "myData = pd.DataFrame([[SBP,FBS]])\n",
    "myData"
   ]
  },
  {
   "cell_type": "code",
   "execution_count": 66,
   "id": "ee347edf-dd03-464a-9769-e69cc380b11a",
   "metadata": {},
   "outputs": [
    {
     "name": "stderr",
     "output_type": "stream",
     "text": [
      "C:\\Users\\caose\\anaconda3\\lib\\site-packages\\sklearn\\base.py:450: UserWarning: X does not have valid feature names, but DecisionTreeClassifier was fitted with feature names\n",
      "  warnings.warn(\n"
     ]
    },
    {
     "data": {
      "text/html": [
       "<div>\n",
       "<style scoped>\n",
       "    .dataframe tbody tr th:only-of-type {\n",
       "        vertical-align: middle;\n",
       "    }\n",
       "\n",
       "    .dataframe tbody tr th {\n",
       "        vertical-align: top;\n",
       "    }\n",
       "\n",
       "    .dataframe thead th {\n",
       "        text-align: right;\n",
       "    }\n",
       "</style>\n",
       "<table border=\"1\" class=\"dataframe\">\n",
       "  <thead>\n",
       "    <tr style=\"text-align: right;\">\n",
       "      <th></th>\n",
       "      <th>result</th>\n",
       "    </tr>\n",
       "  </thead>\n",
       "  <tbody>\n",
       "    <tr>\n",
       "      <th>0</th>\n",
       "      <td>1</td>\n",
       "    </tr>\n",
       "  </tbody>\n",
       "</table>\n",
       "</div>"
      ],
      "text/plain": [
       "   result\n",
       "0       1"
      ]
     },
     "execution_count": 66,
     "metadata": {},
     "output_type": "execute_result"
    }
   ],
   "source": [
    "result = model.predict(myData)\n",
    "re = pd.DataFrame({\"result\": result})\n",
    "re"
   ]
  },
  {
   "cell_type": "code",
   "execution_count": 67,
   "id": "e3364452-1670-48dd-835d-6958a7e74fac",
   "metadata": {},
   "outputs": [
    {
     "data": {
      "text/plain": [
       "1"
      ]
     },
     "execution_count": 67,
     "metadata": {},
     "output_type": "execute_result"
    }
   ],
   "source": [
    "re.result[0]"
   ]
  },
  {
   "cell_type": "code",
   "execution_count": 68,
   "id": "34392df0-0d63-44fe-8e8c-1d78a30f618f",
   "metadata": {},
   "outputs": [],
   "source": [
    "def result(result):\n",
    "    if result == 1 :\n",
    "        print(\"고혈압\" + \" + \" + \"당뇨\")\n",
    "    elif result == 2 :\n",
    "        print(\"고혈압\")\n",
    "    elif result == 3 :\n",
    "        print(\"당뇨\")\n",
    "    else :\n",
    "        print(\"건강\")"
   ]
  },
  {
   "cell_type": "code",
   "execution_count": 69,
   "id": "4e8e32a8-f64b-4fa1-a3bb-0b00f16dabf9",
   "metadata": {},
   "outputs": [
    {
     "name": "stdout",
     "output_type": "stream",
     "text": [
      "고혈압 + 당뇨\n"
     ]
    }
   ],
   "source": [
    "result(re.result[0])"
   ]
  },
  {
   "cell_type": "code",
   "execution_count": null,
   "id": "ccb4e4d5-48eb-4ac0-84ba-0dbadea539fe",
   "metadata": {},
   "outputs": [],
   "source": []
  }
 ],
 "metadata": {
  "kernelspec": {
   "display_name": "Python 3 (ipykernel)",
   "language": "python",
   "name": "python3"
  },
  "language_info": {
   "codemirror_mode": {
    "name": "ipython",
    "version": 3
   },
   "file_extension": ".py",
   "mimetype": "text/x-python",
   "name": "python",
   "nbconvert_exporter": "python",
   "pygments_lexer": "ipython3",
   "version": "3.9.13"
  }
 },
 "nbformat": 4,
 "nbformat_minor": 5
}
