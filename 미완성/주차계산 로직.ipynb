{
 "cells": [
  {
   "cell_type": "code",
   "execution_count": 32,
   "id": "fede32d9-085b-4f77-ba17-4e1f62b4cd9c",
   "metadata": {},
   "outputs": [],
   "source": [
    "from isoweek import Week"
   ]
  },
  {
   "cell_type": "code",
   "execution_count": 33,
   "id": "c97882d3-f3d3-43ca-a4c4-d772f1366f05",
   "metadata": {},
   "outputs": [],
   "source": [
    "curYear=2016"
   ]
  },
  {
   "cell_type": "code",
   "execution_count": 66,
   "id": "76a887b8-4f3c-417d-a496-fce60463908a",
   "metadata": {},
   "outputs": [
    {
     "data": {
      "text/plain": [
       "52"
      ]
     },
     "execution_count": 66,
     "metadata": {},
     "output_type": "execute_result"
    }
   ],
   "source": [
    "Week.last_week_of_year(curYear).week"
   ]
  },
  {
   "cell_type": "code",
   "execution_count": null,
   "id": "13e824fa-5941-4334-9c5a-2ac865c8bedb",
   "metadata": {},
   "outputs": [],
   "source": []
  },
  {
   "cell_type": "code",
   "execution_count": 3,
   "id": "fb49a499-65cc-477d-b5cf-17d6d189cf7c",
   "metadata": {},
   "outputs": [],
   "source": [
    "def preWeek(current,preWeek) : #1년까지는 되지만 주차가 1년이 지나면 '-'상태로 붙인다\n",
    "\n",
    "    from isoweek import Week\n",
    "\n",
    "    # current = 201701 #현재 년과 주차\n",
    "    # preWeek = \"10\" #빼려는 주차\n",
    "\n",
    "    if type(current) == int :\n",
    "        strCurrent = str(current) #문자열로 캐스팅, 캐스팅 이유는 년도와 주차를 분리할때 문자열로 해야하기 때문이다\n",
    "        curYear = strCurrent[:4] #년도 \n",
    "    elif type(current) == str :\n",
    "        strCurrent = current\n",
    "        curYear = strCurrent[:4]\n",
    "\n",
    "    curWeek = strCurrent[4:] #주차\n",
    "\n",
    "    curYear = int(curYear) #다시 숫자로 캐스팅\n",
    "    curWeek = int(curWeek) #다시 숫자로 캐스팅\n",
    "\n",
    "    if type(preWeek)==str :\n",
    "        preWeek = int(preWeek)\n",
    "\n",
    "    weekLeft = curWeek - preWeek #현재 주차에서 주차를 뺸 값\n",
    "    \n",
    "    if weekLeft<=0 : #주차를 뻇는데 값이 0이되거나 0보다 작으면 년도를 하나 줄인다\n",
    "        inputYear = curYear - 1 \n",
    "        inputWeek = Week.last_week_of_year(inputYear).week #변동된 년도의 주차수 구하기\n",
    "        resultweek = inputWeek + weekLeft #변동된 년차의 주차수에서 빼고 남은 주차수를 뺀다\n",
    "        result = str(inputYear) + str(resultweek).zfill(2) #최종 년차와 최종 주차를 합친다\n",
    "    else : #주차를 빼고 난 값이 0보다 클때의 값\n",
    "        result = str(curYear) + str(weekLeft).zfill(2) #z.fill(2)을 쓰면 무조건 2칸으로 만들어줘서 1주차는 01주차등으로 된다\n",
    "\n",
    "    print(result)"
   ]
  },
  {
   "cell_type": "code",
   "execution_count": null,
   "id": "22f66034-4114-452a-b11e-b193905f8344",
   "metadata": {},
   "outputs": [],
   "source": [
    "# def preWeek2(current,preWeek) : #1년까지는 되지만 주차가 1년이 지나면 '-'상태로 붙인다\n",
    "\n",
    "from isoweek import Week\n",
    "\n",
    "current = 201701 #현재 년과 주차\n",
    "preWeek = 100 #빼려는 주차\n",
    "\n",
    "if type(current) == int :\n",
    "    strCurrent = str(current) #문자열로 캐스팅, 캐스팅 이유는 년도와 주차를 분리할때 문자열로 해야하기 때문이다\n",
    "    curYear = strCurrent[:4] #년도 \n",
    "elif type(current) == str :\n",
    "    strCurrent = current\n",
    "    curYear = strCurrent[:4]\n",
    "\n",
    "curWeek = strCurrent[4:] #주차\n",
    "\n",
    "curYear = int(curYear) #다시 숫자로 캐스팅\n",
    "curWeek = int(curWeek) #다시 숫자로 캐스팅\n",
    "\n",
    "if type(preWeek)==str :\n",
    "    preWeek = int(preWeek)\n",
    "\n",
    "weekLeft = curWeek - preWeek #현재 주차에서 주차를 뺸 값\n",
    "\n",
    "while(weekLeft<=0):       # 주차가 0 이하라면\n",
    "    inputYear = curYear-1    # 년도가 하나 줄어듭니다\n",
    "    inputWeek = Week.last_week_of_year(inputYear).week  #줄어든 년도의 총 주차수\n",
    "    result = inputWeek + weekLeft \n",
    "print(result)"
   ]
  },
  {
   "cell_type": "code",
   "execution_count": null,
   "id": "98218fe3-5b08-4d2d-abad-577ef7f24379",
   "metadata": {},
   "outputs": [],
   "source": [
    "preWeek2(\"201632\",\"100\")"
   ]
  },
  {
   "cell_type": "code",
   "execution_count": null,
   "id": "8df18c60-23f6-48ec-b719-bd6f74909254",
   "metadata": {},
   "outputs": [
    {
     "name": "stdout",
     "output_type": "stream",
     "text": [
      "201622\n"
     ]
    }
   ],
   "source": [
    "preWeek(\"201632\",\"10\")"
   ]
  },
  {
   "cell_type": "code",
   "execution_count": null,
   "id": "5710ebf0-a597-4b31-9bf2-8e1c9c881a37",
   "metadata": {},
   "outputs": [],
   "source": [
    "# 문제점 1 : 1년전까지는 되지만 빼려는 주차가 1년을 넘어버리면 년도는 1년만 빠지고 남은 주차는 '-'로 표시된다.\n",
    "# 만일 주차가 2년전 3년전이라면 올바른 값을 구할 수가 없다."
   ]
  },
  {
   "cell_type": "code",
   "execution_count": 3,
   "id": "0cda7f9c-c277-42a2-8e23-6ea822a257d9",
   "metadata": {},
   "outputs": [
    {
     "name": "stdout",
     "output_type": "stream",
     "text": [
      "201603\n"
     ]
    }
   ],
   "source": [
    "# def preWeek(current,preWeek) : #1년까지는 되지만 주차가 1년이 지나면 '-'상태로 붙인다\n",
    "\n",
    "from isoweek import Week\n",
    "\n",
    "current = 201701 #현재 년과 주차\n",
    "preWeek = 50 #빼려는 주차\n",
    "\n",
    "if type(current) == int :\n",
    "    strCurrent = str(current) #문자열로 캐스팅, 캐스팅 이유는 년도와 주차를 분리할때 문자열로 해야하기 때문이다\n",
    "    curYear = strCurrent[:4] #년도 \n",
    "elif type(current) == str :\n",
    "    strCurrent = current\n",
    "    curYear = strCurrent[:4]\n",
    "\n",
    "curWeek = strCurrent[4:] #주차\n",
    "\n",
    "curYear = int(curYear) #다시 숫자로 캐스팅\n",
    "curWeek = int(curWeek) #다시 숫자로 캐스팅\n",
    "\n",
    "if type(preWeek)==str :\n",
    "    preWeek = int(preWeek)\n",
    "\n",
    "weekLeft = curWeek - preWeek #현재 주차에서 주차를 뺸 값\n",
    "\n",
    "\n",
    "for i in range(0,100):\n",
    "    if weekLeft<=0 : #주차를 뻇는데 값이 0이되거나 0보다 작으면 년도를 하나 줄인다\n",
    "        inputYear = curYear - 1 \n",
    "        inputWeek = Week.last_week_of_year(inputYear).week #변동된 년도의 주차수 구하기\n",
    "        resultweek = inputWeek + weekLeft #변동된 년차의 주차수에서 빼고 남은 주차수를 뺀다\n",
    "        result = str(inputYear) + str(resultweek).zfill(2) #최종 년차와 최종 주차를 합친다\n",
    "    \n",
    "    else : #주차를 빼고 난 값이 0보다 클때의 값\n",
    "        result = str(inputYear) + str(weekLeft).zfill(2) #z.fill(2)을 쓰면 무조건 2칸으로 만들어줘서 1주차는 01주차등으로 된다\n",
    "        \n",
    "print(result)"
   ]
  },
  {
   "cell_type": "code",
   "execution_count": null,
   "id": "b322e04d-73c0-4942-b9ba-291cec1c61cd",
   "metadata": {},
   "outputs": [],
   "source": []
  },
  {
   "cell_type": "code",
   "execution_count": null,
   "id": "1a341ab7-8d56-4183-9f6c-2c18ca4a37bc",
   "metadata": {},
   "outputs": [],
   "source": []
  },
  {
   "cell_type": "code",
   "execution_count": 26,
   "id": "3b703f0a-dc35-4a72-9455-264b35bd41dc",
   "metadata": {},
   "outputs": [
    {
     "name": "stdout",
     "output_type": "stream",
     "text": [
      "None\n"
     ]
    }
   ],
   "source": [
    "preWeek(201732,100)"
   ]
  },
  {
   "cell_type": "code",
   "execution_count": null,
   "id": "00cc16dc-1c84-40ec-9905-e60094a53add",
   "metadata": {},
   "outputs": [],
   "source": []
  }
 ],
 "metadata": {
  "kernelspec": {
   "display_name": "Python 3 (ipykernel)",
   "language": "python",
   "name": "python3"
  },
  "language_info": {
   "codemirror_mode": {
    "name": "ipython",
    "version": 3
   },
   "file_extension": ".py",
   "mimetype": "text/x-python",
   "name": "python",
   "nbconvert_exporter": "python",
   "pygments_lexer": "ipython3",
   "version": "3.9.13"
  }
 },
 "nbformat": 4,
 "nbformat_minor": 5
}
