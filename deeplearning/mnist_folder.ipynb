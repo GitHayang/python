{
 "cells": [
  {
   "cell_type": "code",
   "execution_count": 7,
   "id": "96c06d18-f2c0-455b-b336-13ac88e4b3a5",
   "metadata": {},
   "outputs": [],
   "source": [
    "import pandas as pd\n",
    "import numpy as np\n",
    "\n",
    "import mnist\n",
    "from tensorflow import keras\n",
    "\n",
    "from tensorflow.keras.layers import Dense, Dropout, Flatten\n",
    "\n",
    "from tensorflow.keras.models import Sequential\n",
    "from tensorflow.keras.utils import to_categorical\n",
    "\n",
    "import os\n",
    "\n",
    "import cv2"
   ]
  },
  {
   "cell_type": "markdown",
   "id": "dc4a6405-b600-4209-895f-56ea69c2494a",
   "metadata": {},
   "source": [
    "# 데이터 불러오기"
   ]
  },
  {
   "cell_type": "code",
   "execution_count": 8,
   "id": "0c1f2d05-34a2-40e8-84fd-f33f091cf3e1",
   "metadata": {},
   "outputs": [
    {
     "name": "stdout",
     "output_type": "stream",
     "text": [
      "4133\n",
      "4684\n",
      "4176\n",
      "4350\n",
      "4071\n",
      "3795\n",
      "4137\n",
      "4401\n",
      "4063\n",
      "4188\n"
     ]
    }
   ],
   "source": [
    "# 파일에 있는 이미지 불러오기\n",
    "train_Dir =\"./mnist/trainingSet/\"\n",
    "train_folder_list = np.array(os.listdir(train_Dir))\n",
    "train_folder_list\n",
    "\n",
    "img_size = 48\n",
    "train_images = []\n",
    "train_labels = []\n",
    "for index in range(0,len(train_folder_list)):\n",
    "    path = os.path.join(train_Dir, train_folder_list[index])\n",
    "    path = path + \"/\"\n",
    "    img_list = os.listdir(path)\n",
    "    print(len(img_list))\n",
    "\n",
    "    for img in img_list :\n",
    "        img_path = os.path.join(path, img)\n",
    "        try : \n",
    "            img = cv2.imread(img_path, cv2.IMREAD_GRAYSCALE)\n",
    "            new_img = cv2.resize(img,(img_size, img_size))\n",
    "            train_images.append(new_img)\n",
    "            train_labels.append(index)\n",
    "        except :\n",
    "            pass"
   ]
  },
  {
   "cell_type": "code",
   "execution_count": 12,
   "id": "102a892e-afe1-4857-bdfc-74b71158b682",
   "metadata": {},
   "outputs": [
    {
     "name": "stdout",
     "output_type": "stream",
     "text": [
      "20\n",
      "20\n",
      "20\n",
      "20\n",
      "20\n",
      "20\n",
      "20\n",
      "20\n",
      "20\n",
      "20\n"
     ]
    }
   ],
   "source": [
    "# 파일에 있는 이미지 불러오기\n",
    "test_Dir =\"./mnist/testSet/\"\n",
    "test_folder_list = np.array(os.listdir(test_Dir))\n",
    "test_folder_list\n",
    "\n",
    "img_size = 48\n",
    "test_images = []\n",
    "test_labels = []\n",
    "for index in range(0,len(test_folder_list)):\n",
    "    path = os.path.join(test_Dir, test_folder_list[index])\n",
    "    path = path + \"/\"\n",
    "    img_list = os.listdir(path)\n",
    "    print(len(img_list))\n",
    "\n",
    "    for img in img_list :\n",
    "        img_path = os.path.join(path, img)\n",
    "        try : \n",
    "            img = cv2.imread(img_path, cv2.IMREAD_GRAYSCALE)\n",
    "            new_img = cv2.resize(img,(img_size, img_size))\n",
    "            test_images.append(new_img)\n",
    "            test_labels.append(index)\n",
    "        except :\n",
    "            pass"
   ]
  },
  {
   "cell_type": "code",
   "execution_count": 13,
   "id": "e6d1529e-c2be-44fd-befe-79be31d2856b",
   "metadata": {},
   "outputs": [
    {
     "name": "stdout",
     "output_type": "stream",
     "text": [
      "41997\n",
      "41997\n",
      "200\n",
      "200\n"
     ]
    }
   ],
   "source": [
    "print(len(train_images))\n",
    "print(len(train_labels))\n",
    "print(len(test_images))\n",
    "print(len(test_labels))"
   ]
  },
  {
   "cell_type": "code",
   "execution_count": 14,
   "id": "6ece4aed-51f4-4533-b3bf-3b4b69672508",
   "metadata": {},
   "outputs": [],
   "source": [
    "# 이미지 정규화\n",
    "for i in range(0,len(train_images)):\n",
    "    train_images[i] = (train_images[i]/255)\n",
    "for i in range(0,len(test_images)):\n",
    "    test_images[i] = (test_images[i]/255)"
   ]
  },
  {
   "cell_type": "code",
   "execution_count": 15,
   "id": "73f91f25-fb70-4283-bb0f-c3c14683c198",
   "metadata": {},
   "outputs": [],
   "source": [
    "train_labels_one_hot = to_categorical(train_labels)\n",
    "test_labels_one_hot = to_categorical(test_labels)"
   ]
  },
  {
   "cell_type": "markdown",
   "id": "44c221cd-3b38-4f64-8546-6ea34573bbb2",
   "metadata": {},
   "source": [
    "# 모델생성"
   ]
  },
  {
   "cell_type": "code",
   "execution_count": 16,
   "id": "a92cc893-2a6f-4b59-b66b-a90ca4d93d58",
   "metadata": {},
   "outputs": [
    {
     "data": {
      "text/plain": [
       "(48, 48)"
      ]
     },
     "execution_count": 16,
     "metadata": {},
     "output_type": "execute_result"
    }
   ],
   "source": [
    "# input layer를 위한 설정\n",
    "inputShape = train_images[0].shape\n",
    "inputShape"
   ]
  },
  {
   "cell_type": "code",
   "execution_count": 17,
   "id": "7f573365-bdae-4ec1-a96a-bf5f2dc19575",
   "metadata": {},
   "outputs": [
    {
     "data": {
      "text/plain": [
       "10"
      ]
     },
     "execution_count": 17,
     "metadata": {},
     "output_type": "execute_result"
    }
   ],
   "source": [
    "# output layer를 위한 설정\n",
    "nCalss = len(np.unique(train_labels))\n",
    "nCalss"
   ]
  },
  {
   "cell_type": "code",
   "execution_count": 18,
   "id": "4cf5fa2f-e0b2-4a1a-93c7-67f617061430",
   "metadata": {},
   "outputs": [],
   "source": [
    "model = Sequential()\n",
    "# input layer\n",
    "model.add(Flatten(input_shape = inputShape))\n",
    "# hidden layer\n",
    "model.add(Dense(units=16, activation=\"relu\"))\n",
    "model.add(Dense(units=16, activation=\"relu\"))\n",
    "# output layer\n",
    "model.add(Dense(units=nCalss, activation=\"softmax\"))"
   ]
  },
  {
   "cell_type": "code",
   "execution_count": 19,
   "id": "0436d712-a024-4d67-8789-3f82f6c16260",
   "metadata": {},
   "outputs": [
    {
     "name": "stdout",
     "output_type": "stream",
     "text": [
      "Model: \"sequential\"\n",
      "_________________________________________________________________\n",
      " Layer (type)                Output Shape              Param #   \n",
      "=================================================================\n",
      " flatten (Flatten)           (None, 2304)              0         \n",
      "                                                                 \n",
      " dense (Dense)               (None, 16)                36880     \n",
      "                                                                 \n",
      " dense_1 (Dense)             (None, 16)                272       \n",
      "                                                                 \n",
      " dense_2 (Dense)             (None, 10)                170       \n",
      "                                                                 \n",
      "=================================================================\n",
      "Total params: 37,322\n",
      "Trainable params: 37,322\n",
      "Non-trainable params: 0\n",
      "_________________________________________________________________\n"
     ]
    }
   ],
   "source": [
    "model.summary()"
   ]
  },
  {
   "cell_type": "code",
   "execution_count": 20,
   "id": "5ec1ea2b-5ec4-4b0a-8214-6cf90fc66991",
   "metadata": {},
   "outputs": [
    {
     "data": {
      "image/png": "[encoded data removed]",
      "text/plain": [
       "<IPython.core.display.Image object>"
      ]
     },
     "execution_count": 20,
     "metadata": {},
     "output_type": "execute_result"
    }
   ],
   "source": [
    "from tensorflow.keras.utils import plot_model\n",
    "plot_model(model, to_file = \"model_plot.png\",\n",
    "           show_shapes=True,\n",
    "           show_layer_names = True)"
   ]
  },
  {
   "cell_type": "markdown",
   "id": "4ac8be1e-1aa0-41e1-b99d-3099fc27e7d5",
   "metadata": {},
   "source": [
    "# 모델 컴파일"
   ]
  },
  {
   "cell_type": "code",
   "execution_count": 21,
   "id": "d0b1c113-c152-4715-8769-7ab2795e8ff8",
   "metadata": {},
   "outputs": [],
   "source": [
    "from tensorflow.keras import optimizers\n",
    "from tensorflow.keras import losses\n",
    "from tensorflow.keras import metrics"
   ]
  },
  {
   "cell_type": "code",
   "execution_count": 22,
   "id": "2608af4d-5aa0-43ac-99a3-173915fcb192",
   "metadata": {},
   "outputs": [],
   "source": [
    "model.compile(loss = \"categorical_crossentropy\",\n",
    "             optimizer = \"adam\",\n",
    "             metrics = [\"accuracy\"])"
   ]
  },
  {
   "cell_type": "code",
   "execution_count": 23,
   "id": "214cb633-c677-4a39-84b6-d28aebc2ccba",
   "metadata": {},
   "outputs": [],
   "source": [
    "train_images = np.asarray(train_images)\n",
    "test_images = np.asarray(test_images)"
   ]
  },
  {
   "cell_type": "code",
   "execution_count": 24,
   "id": "2cc385c3-2af7-4e33-b40f-55f34eb410cd",
   "metadata": {
    "scrolled": true,
    "tags": []
   },
   "outputs": [
    {
     "name": "stdout",
     "output_type": "stream",
     "text": [
      "Epoch 1/10\n",
      "1050/1050 [==============================] - 5s 4ms/step - loss: 0.3256 - accuracy: 0.9079 - val_loss: 13.7807 - val_accuracy: 0.0165\n",
      "Epoch 2/10\n",
      "1050/1050 [==============================] - 2s 2ms/step - loss: 0.1713 - accuracy: 0.9487 - val_loss: 14.8586 - val_accuracy: 0.0164\n",
      "Epoch 3/10\n",
      "1050/1050 [==============================] - 2s 2ms/step - loss: 0.1457 - accuracy: 0.9568 - val_loss: 16.6966 - val_accuracy: 0.0158\n",
      "Epoch 4/10\n",
      "1050/1050 [==============================] - 2s 2ms/step - loss: 0.1268 - accuracy: 0.9618 - val_loss: 18.0937 - val_accuracy: 0.0161\n",
      "Epoch 5/10\n",
      "1050/1050 [==============================] - 2s 2ms/step - loss: 0.1134 - accuracy: 0.9653 - val_loss: 18.6221 - val_accuracy: 0.0168\n",
      "Epoch 6/10\n",
      "1050/1050 [==============================] - 2s 2ms/step - loss: 0.1059 - accuracy: 0.9678 - val_loss: 20.1952 - val_accuracy: 0.0171\n",
      "Epoch 7/10\n",
      "1050/1050 [==============================] - 2s 2ms/step - loss: 0.0943 - accuracy: 0.9714 - val_loss: 22.2757 - val_accuracy: 0.0171\n",
      "Epoch 8/10\n",
      "1050/1050 [==============================] - 2s 2ms/step - loss: 0.0880 - accuracy: 0.9730 - val_loss: 22.1512 - val_accuracy: 0.0170\n",
      "Epoch 9/10\n",
      "1050/1050 [==============================] - 2s 2ms/step - loss: 0.0836 - accuracy: 0.9739 - val_loss: 23.4737 - val_accuracy: 0.0169\n",
      "Epoch 10/10\n",
      "1050/1050 [==============================] - 2s 2ms/step - loss: 0.0785 - accuracy: 0.9754 - val_loss: 25.6603 - val_accuracy: 0.0171\n"
     ]
    }
   ],
   "source": [
    "history = model.fit(x = train_images,\n",
    "                    y = train_labels_one_hot,\n",
    "                    epochs = 10,\n",
    "                    batch_size = 32,\n",
    "                    validation_split = 0.2)"
   ]
  },
  {
   "cell_type": "markdown",
   "id": "2a60c4f7-c2bc-47e0-b779-c88765b28974",
   "metadata": {},
   "source": [
    "### C-1. 모델 추론"
   ]
  },
  {
   "cell_type": "code",
   "execution_count": 25,
   "id": "b6054a27-1c3d-490b-ba28-3201921b8ccb",
   "metadata": {},
   "outputs": [
    {
     "name": "stdout",
     "output_type": "stream",
     "text": [
      "7/7 [==============================] - 0s 2ms/step - loss: 5.2970 - accuracy: 0.7750\n"
     ]
    },
    {
     "data": {
      "text/plain": [
       "[5.297000885009766, 0.7749999761581421]"
      ]
     },
     "execution_count": 25,
     "metadata": {},
     "output_type": "execute_result"
    }
   ],
   "source": [
    "model.evaluate(test_images, test_labels_one_hot)"
   ]
  },
  {
   "cell_type": "markdown",
   "id": "f2e589e2-3155-4b37-bff8-06329d8be6fc",
   "metadata": {},
   "source": [
    "### 에측"
   ]
  },
  {
   "cell_type": "code",
   "execution_count": 26,
   "id": "7aa807fe-6adc-4125-abcd-47105621e4eb",
   "metadata": {},
   "outputs": [
    {
     "data": {
      "text/plain": [
       "(200, 48, 48)"
      ]
     },
     "execution_count": 26,
     "metadata": {},
     "output_type": "execute_result"
    }
   ],
   "source": [
    "test_images.shape"
   ]
  },
  {
   "cell_type": "code",
   "execution_count": 32,
   "id": "0c9881e1-b1d3-4b4c-8fe7-31469067b127",
   "metadata": {},
   "outputs": [],
   "source": [
    "# 카톡에서 다운받아서 할것\n",
    "testImg = cv2.imread(\"./imageset/img_18.jpg\", cv2.IMREAD_GRAYSCALE)"
   ]
  },
  {
   "cell_type": "code",
   "execution_count": 33,
   "id": "1d39b59c-0a53-451b-a888-82e48a1eed13",
   "metadata": {},
   "outputs": [
    {
     "data": {
      "text/plain": [
       "numpy.ndarray"
      ]
     },
     "execution_count": 33,
     "metadata": {},
     "output_type": "execute_result"
    }
   ],
   "source": [
    "type(testImg)"
   ]
  },
  {
   "cell_type": "code",
   "execution_count": 34,
   "id": "0d7f721d-bed1-4b6d-a01b-4d8180ee2ea0",
   "metadata": {},
   "outputs": [
    {
     "data": {
      "text/plain": [
       "(28, 28)"
      ]
     },
     "execution_count": 34,
     "metadata": {},
     "output_type": "execute_result"
    }
   ],
   "source": [
    "testImg.shape"
   ]
  },
  {
   "cell_type": "code",
   "execution_count": 35,
   "id": "9d760586-2444-466a-8c3e-b888f458114e",
   "metadata": {},
   "outputs": [],
   "source": [
    "import matplotlib.pyplot as plt"
   ]
  },
  {
   "cell_type": "code",
   "execution_count": 36,
   "id": "f7f32f25-296d-4742-9655-e20eb4478519",
   "metadata": {},
   "outputs": [
    {
     "data": {
      "text/plain": [
       "<matplotlib.image.AxesImage at 0x2690225ba90>"
      ]
     },
     "execution_count": 36,
     "metadata": {},
     "output_type": "execute_result"
    },
    {
     "data": {
      "image/png": "[encoded data removed]",
      "text/plain": [
       "<Figure size 640x480 with 1 Axes>"
      ]
     },
     "metadata": {},
     "output_type": "display_data"
    }
   ],
   "source": [
    "plt.imshow(testImg)"
   ]
  },
  {
   "cell_type": "code",
   "execution_count": 37,
   "id": "d8f36d2b-cdab-49fe-8850-1265e1bafb0b",
   "metadata": {},
   "outputs": [
    {
     "data": {
      "text/plain": [
       "(28, 28)"
      ]
     },
     "execution_count": 37,
     "metadata": {},
     "output_type": "execute_result"
    }
   ],
   "source": [
    "testImg.shape"
   ]
  },
  {
   "cell_type": "code",
   "execution_count": 38,
   "id": "11ba7fe6-aa20-4c61-bbaf-5416002d70e1",
   "metadata": {},
   "outputs": [],
   "source": [
    "testImg = testImg.astype(float)"
   ]
  },
  {
   "cell_type": "code",
   "execution_count": 39,
   "id": "b3a93555-5572-44f2-97dc-718a91bf7d64",
   "metadata": {},
   "outputs": [],
   "source": [
    "testImg = testImg/255.0"
   ]
  },
  {
   "cell_type": "code",
   "execution_count": 40,
   "id": "16c76ccd-f7af-4502-842b-82d093045152",
   "metadata": {},
   "outputs": [],
   "source": [
    "# 이미지 사이즈 변경\n",
    "# testImg = testImg.resize((img_size,img_size)) 이 경우 from PIL import Image을 선언해야함\n",
    "testImg = cv2.resize(testImg, (img_size, img_size))\n",
    "# testImg = cv2.resize(testImg, dsize=(img_size,img_size))"
   ]
  },
  {
   "cell_type": "code",
   "execution_count": 41,
   "id": "5fc24eaa-6852-4e0b-98bb-61a1d005eb0a",
   "metadata": {},
   "outputs": [
    {
     "data": {
      "text/plain": [
       "(48, 48)"
      ]
     },
     "execution_count": 41,
     "metadata": {},
     "output_type": "execute_result"
    }
   ],
   "source": [
    "testImg.shape"
   ]
  },
  {
   "cell_type": "code",
   "execution_count": 42,
   "id": "799c1469-a8d1-4fad-98d5-35d0521a7fd6",
   "metadata": {},
   "outputs": [],
   "source": [
    "testImg = testImg.reshape(1,img_size,img_size)"
   ]
  },
  {
   "cell_type": "code",
   "execution_count": 43,
   "id": "7f474066-51a9-45d0-a0d0-f82caa14600c",
   "metadata": {},
   "outputs": [
    {
     "name": "stdout",
     "output_type": "stream",
     "text": [
      "1/1 [==============================] - 0s 81ms/step\n"
     ]
    }
   ],
   "source": [
    "answer = model.predict(testImg)"
   ]
  },
  {
   "cell_type": "code",
   "execution_count": 44,
   "id": "04ee9713-c6ec-4aaa-81d6-2443549a6d84",
   "metadata": {},
   "outputs": [],
   "source": [
    "result = np.argmax(answer)"
   ]
  },
  {
   "cell_type": "code",
   "execution_count": 45,
   "id": "b291c4b3-3715-4a80-ac15-a1421a0e72e5",
   "metadata": {},
   "outputs": [
    {
     "data": {
      "text/plain": [
       "1"
      ]
     },
     "execution_count": 45,
     "metadata": {},
     "output_type": "execute_result"
    }
   ],
   "source": [
    "result"
   ]
  },
  {
   "cell_type": "code",
   "execution_count": null,
   "id": "681f17e8-e267-4292-b76a-71d52977deec",
   "metadata": {},
   "outputs": [],
   "source": []
  }
 ],
 "metadata": {
  "kernelspec": {
   "display_name": "Python 3 (ipykernel)",
   "language": "python",
   "name": "python3"
  },
  "language_info": {
   "codemirror_mode": {
    "name": "ipython",
    "version": 3
   },
   "file_extension": ".py",
   "mimetype": "text/x-python",
   "name": "python",
   "nbconvert_exporter": "python",
   "pygments_lexer": "ipython3",
   "version": "3.9.13"
  }
 },
 "nbformat": 4,
 "nbformat_minor": 5
}
