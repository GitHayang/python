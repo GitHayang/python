{
 "cells": [
  {
   "cell_type": "code",
   "execution_count": 1,
   "id": "41b8689c-941b-4604-b78d-fbd3c5824295",
   "metadata": {},
   "outputs": [],
   "source": [
    "# 데이터 조작 라이브러리\n",
    "import pandas as pd\n",
    "import numpy as np\n",
    "\n",
    "from sklearn.model_selection import train_test_split\n",
    "\n",
    "from tensorflow import keras\n",
    "from tensorflow.keras import layers\n",
    "\n",
    "from tensorflow.keras import Sequential\n",
    "from tensorflow.keras.layers import Dense"
   ]
  },
  {
   "cell_type": "code",
   "execution_count": 2,
   "id": "4bdb8ff6-f390-402b-922e-e01db352587e",
   "metadata": {},
   "outputs": [],
   "source": [
    "url = \"https://raw.githubusercontent.com/hyokwan/python-lecture/master/dataset/pima-indians-diabetes.csv\""
   ]
  },
  {
   "cell_type": "code",
   "execution_count": 3,
   "id": "576ddeb5-f278-451f-97b8-b78a8dbce9b1",
   "metadata": {},
   "outputs": [
    {
     "data": {
      "text/html": [
       "<div>\n",
       "<style scoped>\n",
       "    .dataframe tbody tr th:only-of-type {\n",
       "        vertical-align: middle;\n",
       "    }\n",
       "\n",
       "    .dataframe tbody tr th {\n",
       "        vertical-align: top;\n",
       "    }\n",
       "\n",
       "    .dataframe thead th {\n",
       "        text-align: right;\n",
       "    }\n",
       "</style>\n",
       "<table border=\"1\" class=\"dataframe\">\n",
       "  <thead>\n",
       "    <tr style=\"text-align: right;\">\n",
       "      <th></th>\n",
       "      <th>pregnancies</th>\n",
       "      <th>glucose</th>\n",
       "      <th>diastolic</th>\n",
       "      <th>trceps</th>\n",
       "      <th>insulin</th>\n",
       "      <th>bmi</th>\n",
       "      <th>dpf</th>\n",
       "      <th>age</th>\n",
       "      <th>diabetes</th>\n",
       "    </tr>\n",
       "  </thead>\n",
       "  <tbody>\n",
       "    <tr>\n",
       "      <th>0</th>\n",
       "      <td>6</td>\n",
       "      <td>148</td>\n",
       "      <td>72</td>\n",
       "      <td>35</td>\n",
       "      <td>0</td>\n",
       "      <td>33.6</td>\n",
       "      <td>0.627</td>\n",
       "      <td>50</td>\n",
       "      <td>1</td>\n",
       "    </tr>\n",
       "    <tr>\n",
       "      <th>1</th>\n",
       "      <td>1</td>\n",
       "      <td>85</td>\n",
       "      <td>66</td>\n",
       "      <td>29</td>\n",
       "      <td>0</td>\n",
       "      <td>26.6</td>\n",
       "      <td>0.351</td>\n",
       "      <td>31</td>\n",
       "      <td>0</td>\n",
       "    </tr>\n",
       "    <tr>\n",
       "      <th>2</th>\n",
       "      <td>8</td>\n",
       "      <td>183</td>\n",
       "      <td>64</td>\n",
       "      <td>0</td>\n",
       "      <td>0</td>\n",
       "      <td>23.3</td>\n",
       "      <td>0.672</td>\n",
       "      <td>32</td>\n",
       "      <td>1</td>\n",
       "    </tr>\n",
       "    <tr>\n",
       "      <th>3</th>\n",
       "      <td>1</td>\n",
       "      <td>89</td>\n",
       "      <td>66</td>\n",
       "      <td>23</td>\n",
       "      <td>94</td>\n",
       "      <td>28.1</td>\n",
       "      <td>0.167</td>\n",
       "      <td>21</td>\n",
       "      <td>0</td>\n",
       "    </tr>\n",
       "    <tr>\n",
       "      <th>4</th>\n",
       "      <td>0</td>\n",
       "      <td>137</td>\n",
       "      <td>40</td>\n",
       "      <td>35</td>\n",
       "      <td>168</td>\n",
       "      <td>43.1</td>\n",
       "      <td>2.288</td>\n",
       "      <td>33</td>\n",
       "      <td>1</td>\n",
       "    </tr>\n",
       "    <tr>\n",
       "      <th>...</th>\n",
       "      <td>...</td>\n",
       "      <td>...</td>\n",
       "      <td>...</td>\n",
       "      <td>...</td>\n",
       "      <td>...</td>\n",
       "      <td>...</td>\n",
       "      <td>...</td>\n",
       "      <td>...</td>\n",
       "      <td>...</td>\n",
       "    </tr>\n",
       "    <tr>\n",
       "      <th>763</th>\n",
       "      <td>10</td>\n",
       "      <td>101</td>\n",
       "      <td>76</td>\n",
       "      <td>48</td>\n",
       "      <td>180</td>\n",
       "      <td>32.9</td>\n",
       "      <td>0.171</td>\n",
       "      <td>63</td>\n",
       "      <td>0</td>\n",
       "    </tr>\n",
       "    <tr>\n",
       "      <th>764</th>\n",
       "      <td>2</td>\n",
       "      <td>122</td>\n",
       "      <td>70</td>\n",
       "      <td>27</td>\n",
       "      <td>0</td>\n",
       "      <td>36.8</td>\n",
       "      <td>0.340</td>\n",
       "      <td>27</td>\n",
       "      <td>0</td>\n",
       "    </tr>\n",
       "    <tr>\n",
       "      <th>765</th>\n",
       "      <td>5</td>\n",
       "      <td>121</td>\n",
       "      <td>72</td>\n",
       "      <td>23</td>\n",
       "      <td>112</td>\n",
       "      <td>26.2</td>\n",
       "      <td>0.245</td>\n",
       "      <td>30</td>\n",
       "      <td>0</td>\n",
       "    </tr>\n",
       "    <tr>\n",
       "      <th>766</th>\n",
       "      <td>1</td>\n",
       "      <td>126</td>\n",
       "      <td>60</td>\n",
       "      <td>0</td>\n",
       "      <td>0</td>\n",
       "      <td>30.1</td>\n",
       "      <td>0.349</td>\n",
       "      <td>47</td>\n",
       "      <td>1</td>\n",
       "    </tr>\n",
       "    <tr>\n",
       "      <th>767</th>\n",
       "      <td>1</td>\n",
       "      <td>93</td>\n",
       "      <td>70</td>\n",
       "      <td>31</td>\n",
       "      <td>0</td>\n",
       "      <td>30.4</td>\n",
       "      <td>0.315</td>\n",
       "      <td>23</td>\n",
       "      <td>0</td>\n",
       "    </tr>\n",
       "  </tbody>\n",
       "</table>\n",
       "<p>768 rows × 9 columns</p>\n",
       "</div>"
      ],
      "text/plain": [
       "     pregnancies  glucose  diastolic  trceps  insulin   bmi    dpf  age  \\\n",
       "0              6      148         72      35        0  33.6  0.627   50   \n",
       "1              1       85         66      29        0  26.6  0.351   31   \n",
       "2              8      183         64       0        0  23.3  0.672   32   \n",
       "3              1       89         66      23       94  28.1  0.167   21   \n",
       "4              0      137         40      35      168  43.1  2.288   33   \n",
       "..           ...      ...        ...     ...      ...   ...    ...  ...   \n",
       "763           10      101         76      48      180  32.9  0.171   63   \n",
       "764            2      122         70      27        0  36.8  0.340   27   \n",
       "765            5      121         72      23      112  26.2  0.245   30   \n",
       "766            1      126         60       0        0  30.1  0.349   47   \n",
       "767            1       93         70      31        0  30.4  0.315   23   \n",
       "\n",
       "     diabetes  \n",
       "0           1  \n",
       "1           0  \n",
       "2           1  \n",
       "3           0  \n",
       "4           1  \n",
       "..        ...  \n",
       "763         0  \n",
       "764         0  \n",
       "765         0  \n",
       "766         1  \n",
       "767         0  \n",
       "\n",
       "[768 rows x 9 columns]"
      ]
     },
     "execution_count": 3,
     "metadata": {},
     "output_type": "execute_result"
    }
   ],
   "source": [
    "baseData = pd.read_csv(url)\n",
    "baseData"
   ]
  },
  {
   "cell_type": "code",
   "execution_count": 4,
   "id": "1de41c39-c8de-4f0d-ac0c-66c25ced3acf",
   "metadata": {},
   "outputs": [],
   "source": [
    "import seaborn as sns"
   ]
  },
  {
   "cell_type": "code",
   "execution_count": 5,
   "id": "aff91542-2c8b-4c07-90ad-835f779065eb",
   "metadata": {},
   "outputs": [
    {
     "data": {
      "text/plain": [
       "<AxesSubplot:xlabel='diabetes', ylabel='count'>"
      ]
     },
     "execution_count": 5,
     "metadata": {},
     "output_type": "execute_result"
    },
    {
     "data": {
      "image/png": "[encoded data removed]",
      "text/plain": [
       "<Figure size 640x480 with 1 Axes>"
      ]
     },
     "metadata": {},
     "output_type": "display_data"
    }
   ],
   "source": [
    "sns.countplot(data = baseData, x=\"diabetes\")"
   ]
  },
  {
   "cell_type": "code",
   "execution_count": 6,
   "id": "de76eeee-67b4-4231-a751-4272324cf899",
   "metadata": {},
   "outputs": [
    {
     "data": {
      "text/plain": [
       "pregnancies      int64\n",
       "glucose          int64\n",
       "diastolic        int64\n",
       "trceps           int64\n",
       "insulin          int64\n",
       "bmi            float64\n",
       "dpf            float64\n",
       "age              int64\n",
       "diabetes         int64\n",
       "dtype: object"
      ]
     },
     "execution_count": 6,
     "metadata": {},
     "output_type": "execute_result"
    }
   ],
   "source": [
    "baseData.dtypes"
   ]
  },
  {
   "cell_type": "code",
   "execution_count": 7,
   "id": "6fa3944d-6a66-47f7-b5a3-af6f46cdfacb",
   "metadata": {},
   "outputs": [
    {
     "name": "stdout",
     "output_type": "stream",
     "text": [
      "label: ['diabetes']\n",
      "features: ['diastolic', 'dpf', 'insulin', 'glucose', 'trceps', 'bmi', 'age', 'pregnancies']\n"
     ]
    }
   ],
   "source": [
    "label = [\"diabetes\"]\n",
    "features = list(baseData.select_dtypes(np.number).columns)\n",
    "features = list(set(features)-set(label))\n",
    "print(\"label: {}\".format(label))\n",
    "print(\"features: {}\".format(features))"
   ]
  },
  {
   "cell_type": "code",
   "execution_count": 8,
   "id": "15e96dc8-85fc-404c-8f01-02d3f99ffcd9",
   "metadata": {},
   "outputs": [],
   "source": [
    "featuresData = baseData.loc[:,features]\n",
    "labelData = baseData.loc[:,label]"
   ]
  },
  {
   "cell_type": "code",
   "execution_count": 9,
   "id": "5133f477-fb0a-4ade-8b7f-6956e7cce16d",
   "metadata": {},
   "outputs": [],
   "source": [
    "trainingData_features,\\\n",
    "testData_features,\\\n",
    "trainingData_label,\\\n",
    "testData_label = train_test_split(featuresData,labelData, test_size=0.2, random_state=1)"
   ]
  },
  {
   "cell_type": "code",
   "execution_count": 10,
   "id": "9478c439-a3a9-41f8-9e0a-ced496a8c5e7",
   "metadata": {},
   "outputs": [],
   "source": [
    "testIndex = testData_label.index"
   ]
  },
  {
   "cell_type": "code",
   "execution_count": 11,
   "id": "330ea74b-0d84-4532-b11e-b146edf7d937",
   "metadata": {},
   "outputs": [
    {
     "name": "stdout",
     "output_type": "stream",
     "text": [
      "(614, 8)\n",
      "(614, 1)\n",
      "(154, 8)\n",
      "(154, 1)\n"
     ]
    }
   ],
   "source": [
    "print(trainingData_features.shape)\n",
    "print(trainingData_label.shape)\n",
    "print(testData_features.shape)\n",
    "print(testData_label.shape)"
   ]
  },
  {
   "cell_type": "code",
   "execution_count": 12,
   "id": "28bbe4e9-73f4-44af-ba6f-f40c3e6e6bc9",
   "metadata": {},
   "outputs": [],
   "source": [
    "model = Sequential()\n",
    "model.add(Dense(8, activation='relu', input_shape=(len(features),)))\n",
    "model.add(Dense(8, activation='relu'))\n",
    "model.add(Dense(1,activation='sigmoid'))"
   ]
  },
  {
   "cell_type": "code",
   "execution_count": 13,
   "id": "39d4563c-d6d7-49ef-a5ef-69f5ee30a136",
   "metadata": {},
   "outputs": [
    {
     "name": "stdout",
     "output_type": "stream",
     "text": [
      "Model: \"sequential\"\n",
      "_________________________________________________________________\n",
      " Layer (type)                Output Shape              Param #   \n",
      "=================================================================\n",
      " dense (Dense)               (None, 8)                 72        \n",
      "                                                                 \n",
      " dense_1 (Dense)             (None, 8)                 72        \n",
      "                                                                 \n",
      " dense_2 (Dense)             (None, 1)                 9         \n",
      "                                                                 \n",
      "=================================================================\n",
      "Total params: 153\n",
      "Trainable params: 153\n",
      "Non-trainable params: 0\n",
      "_________________________________________________________________\n"
     ]
    }
   ],
   "source": [
    "model.summary() "
   ]
  },
  {
   "cell_type": "code",
   "execution_count": 14,
   "id": "792912ef-02df-4672-9ce3-dec49a3b6353",
   "metadata": {},
   "outputs": [
    {
     "data": {
      "image/png": "[encoded data removed]",
      "text/plain": [
       "<IPython.core.display.Image object>"
      ]
     },
     "execution_count": 14,
     "metadata": {},
     "output_type": "execute_result"
    }
   ],
   "source": [
    "# 모델 시각화\n",
    "from tensorflow.keras.utils import plot_model\n",
    "plot_model(model, to_file='model_plot.png', \n",
    "           show_shapes=True, \n",
    "           show_layer_names=True)"
   ]
  },
  {
   "cell_type": "code",
   "execution_count": 15,
   "id": "6584d554-2c72-46de-af72-d260bbc7fa70",
   "metadata": {},
   "outputs": [],
   "source": [
    "from tensorflow.keras import optimizers\n",
    "from tensorflow.keras import losses\n",
    "from tensorflow.keras import metrics"
   ]
  },
  {
   "cell_type": "code",
   "execution_count": 16,
   "id": "58f6728b-754c-432a-8cd2-f969eeb71928",
   "metadata": {},
   "outputs": [],
   "source": [
    "model.compile(loss='binary_crossentropy',\n",
    "              optimizer='adam',\n",
    "              metrics=['accuracy'])"
   ]
  },
  {
   "cell_type": "code",
   "execution_count": 17,
   "id": "b344b72a-d8ab-406e-a62d-af3332a2eae5",
   "metadata": {
    "scrolled": true,
    "tags": []
   },
   "outputs": [
    {
     "name": "stdout",
     "output_type": "stream",
     "text": [
      "Epoch 1/100\n",
      "16/16 [==============================] - 1s 19ms/step - loss: 4.5929 - accuracy: 0.3401 - val_loss: 3.1615 - val_accuracy: 0.3659\n",
      "Epoch 2/100\n",
      "16/16 [==============================] - 0s 4ms/step - loss: 2.5781 - accuracy: 0.3218 - val_loss: 1.7283 - val_accuracy: 0.3659\n",
      "Epoch 3/100\n",
      "16/16 [==============================] - 0s 3ms/step - loss: 1.5356 - accuracy: 0.4358 - val_loss: 1.2667 - val_accuracy: 0.4553\n",
      "Epoch 4/100\n",
      "16/16 [==============================] - 0s 3ms/step - loss: 1.2465 - accuracy: 0.5031 - val_loss: 1.1469 - val_accuracy: 0.5122\n",
      "Epoch 5/100\n",
      "16/16 [==============================] - 0s 4ms/step - loss: 1.1837 - accuracy: 0.5356 - val_loss: 1.0898 - val_accuracy: 0.5285\n",
      "Epoch 6/100\n",
      "16/16 [==============================] - 0s 3ms/step - loss: 1.1301 - accuracy: 0.5418 - val_loss: 1.0432 - val_accuracy: 0.5285\n",
      "Epoch 7/100\n",
      "16/16 [==============================] - 0s 3ms/step - loss: 1.0872 - accuracy: 0.5560 - val_loss: 1.0028 - val_accuracy: 0.5447\n",
      "Epoch 8/100\n",
      "16/16 [==============================] - 0s 3ms/step - loss: 1.0350 - accuracy: 0.5642 - val_loss: 0.9513 - val_accuracy: 0.5447\n",
      "Epoch 9/100\n",
      "16/16 [==============================] - 0s 3ms/step - loss: 0.9709 - accuracy: 0.5723 - val_loss: 0.9103 - val_accuracy: 0.5610\n",
      "Epoch 10/100\n",
      "16/16 [==============================] - 0s 3ms/step - loss: 0.9207 - accuracy: 0.5866 - val_loss: 0.8637 - val_accuracy: 0.5772\n",
      "Epoch 11/100\n",
      "16/16 [==============================] - 0s 3ms/step - loss: 0.8585 - accuracy: 0.6171 - val_loss: 0.8493 - val_accuracy: 0.6098\n",
      "Epoch 12/100\n",
      "16/16 [==============================] - 0s 3ms/step - loss: 0.8136 - accuracy: 0.6314 - val_loss: 0.8253 - val_accuracy: 0.6098\n",
      "Epoch 13/100\n",
      "16/16 [==============================] - 0s 3ms/step - loss: 0.7763 - accuracy: 0.6395 - val_loss: 0.7853 - val_accuracy: 0.6098\n",
      "Epoch 14/100\n",
      "16/16 [==============================] - 0s 3ms/step - loss: 0.7184 - accuracy: 0.6456 - val_loss: 0.7461 - val_accuracy: 0.6260\n",
      "Epoch 15/100\n",
      "16/16 [==============================] - 0s 3ms/step - loss: 0.6938 - accuracy: 0.6497 - val_loss: 0.7274 - val_accuracy: 0.6341\n",
      "Epoch 16/100\n",
      "16/16 [==============================] - 0s 3ms/step - loss: 0.6819 - accuracy: 0.6517 - val_loss: 0.7171 - val_accuracy: 0.6341\n",
      "Epoch 17/100\n",
      "16/16 [==============================] - 0s 3ms/step - loss: 0.6768 - accuracy: 0.6517 - val_loss: 0.7069 - val_accuracy: 0.6341\n",
      "Epoch 18/100\n",
      "16/16 [==============================] - 0s 3ms/step - loss: 0.6725 - accuracy: 0.6517 - val_loss: 0.7017 - val_accuracy: 0.6341\n",
      "Epoch 19/100\n",
      "16/16 [==============================] - 0s 3ms/step - loss: 0.6694 - accuracy: 0.6578 - val_loss: 0.6979 - val_accuracy: 0.6341\n",
      "Epoch 20/100\n",
      "16/16 [==============================] - 0s 3ms/step - loss: 0.6666 - accuracy: 0.6558 - val_loss: 0.6952 - val_accuracy: 0.6341\n",
      "Epoch 21/100\n",
      "16/16 [==============================] - 0s 3ms/step - loss: 0.6636 - accuracy: 0.6558 - val_loss: 0.6926 - val_accuracy: 0.6260\n",
      "Epoch 22/100\n",
      "16/16 [==============================] - 0s 2ms/step - loss: 0.6627 - accuracy: 0.6578 - val_loss: 0.6927 - val_accuracy: 0.6260\n",
      "Epoch 23/100\n",
      "16/16 [==============================] - 0s 4ms/step - loss: 0.6583 - accuracy: 0.6578 - val_loss: 0.6888 - val_accuracy: 0.6341\n",
      "Epoch 24/100\n",
      "16/16 [==============================] - 0s 3ms/step - loss: 0.6560 - accuracy: 0.6578 - val_loss: 0.6853 - val_accuracy: 0.6341\n",
      "Epoch 25/100\n",
      "16/16 [==============================] - 0s 3ms/step - loss: 0.6530 - accuracy: 0.6578 - val_loss: 0.6826 - val_accuracy: 0.6341\n",
      "Epoch 26/100\n",
      "16/16 [==============================] - 0s 3ms/step - loss: 0.6511 - accuracy: 0.6578 - val_loss: 0.6807 - val_accuracy: 0.6341\n",
      "Epoch 27/100\n",
      "16/16 [==============================] - 0s 3ms/step - loss: 0.6487 - accuracy: 0.6599 - val_loss: 0.6798 - val_accuracy: 0.6341\n",
      "Epoch 28/100\n",
      "16/16 [==============================] - 0s 3ms/step - loss: 0.6468 - accuracy: 0.6619 - val_loss: 0.6766 - val_accuracy: 0.6341\n",
      "Epoch 29/100\n",
      "16/16 [==============================] - 0s 3ms/step - loss: 0.6459 - accuracy: 0.6619 - val_loss: 0.6773 - val_accuracy: 0.6341\n",
      "Epoch 30/100\n",
      "16/16 [==============================] - 0s 3ms/step - loss: 0.6421 - accuracy: 0.6619 - val_loss: 0.6759 - val_accuracy: 0.6341\n",
      "Epoch 31/100\n",
      "16/16 [==============================] - 0s 3ms/step - loss: 0.6401 - accuracy: 0.6640 - val_loss: 0.6754 - val_accuracy: 0.6341\n",
      "Epoch 32/100\n",
      "16/16 [==============================] - 0s 3ms/step - loss: 0.6381 - accuracy: 0.6619 - val_loss: 0.6732 - val_accuracy: 0.6341\n",
      "Epoch 33/100\n",
      "16/16 [==============================] - 0s 2ms/step - loss: 0.6354 - accuracy: 0.6640 - val_loss: 0.6734 - val_accuracy: 0.6423\n",
      "Epoch 34/100\n",
      "16/16 [==============================] - 0s 3ms/step - loss: 0.6336 - accuracy: 0.6640 - val_loss: 0.6746 - val_accuracy: 0.6423\n",
      "Epoch 35/100\n",
      "16/16 [==============================] - 0s 3ms/step - loss: 0.6310 - accuracy: 0.6640 - val_loss: 0.6753 - val_accuracy: 0.6423\n",
      "Epoch 36/100\n",
      "16/16 [==============================] - 0s 3ms/step - loss: 0.6296 - accuracy: 0.6619 - val_loss: 0.6767 - val_accuracy: 0.6423\n",
      "Epoch 37/100\n",
      "16/16 [==============================] - 0s 3ms/step - loss: 0.6268 - accuracy: 0.6619 - val_loss: 0.6754 - val_accuracy: 0.6423\n",
      "Epoch 38/100\n",
      "16/16 [==============================] - 0s 3ms/step - loss: 0.6235 - accuracy: 0.6660 - val_loss: 0.6722 - val_accuracy: 0.6423\n",
      "Epoch 39/100\n",
      "16/16 [==============================] - 0s 3ms/step - loss: 0.6217 - accuracy: 0.6660 - val_loss: 0.6716 - val_accuracy: 0.6423\n",
      "Epoch 40/100\n",
      "16/16 [==============================] - 0s 3ms/step - loss: 0.6201 - accuracy: 0.6640 - val_loss: 0.6705 - val_accuracy: 0.6423\n",
      "Epoch 41/100\n",
      "16/16 [==============================] - 0s 3ms/step - loss: 0.6181 - accuracy: 0.6660 - val_loss: 0.6729 - val_accuracy: 0.6423\n",
      "Epoch 42/100\n",
      "16/16 [==============================] - 0s 3ms/step - loss: 0.6166 - accuracy: 0.6640 - val_loss: 0.6701 - val_accuracy: 0.6423\n",
      "Epoch 43/100\n",
      "16/16 [==============================] - 0s 3ms/step - loss: 0.6147 - accuracy: 0.6640 - val_loss: 0.6721 - val_accuracy: 0.6423\n",
      "Epoch 44/100\n",
      "16/16 [==============================] - 0s 3ms/step - loss: 0.6135 - accuracy: 0.6640 - val_loss: 0.6735 - val_accuracy: 0.6423\n",
      "Epoch 45/100\n",
      "16/16 [==============================] - 0s 3ms/step - loss: 0.6113 - accuracy: 0.6640 - val_loss: 0.6778 - val_accuracy: 0.6423\n",
      "Epoch 46/100\n",
      "16/16 [==============================] - 0s 3ms/step - loss: 0.6102 - accuracy: 0.6640 - val_loss: 0.6756 - val_accuracy: 0.6423\n",
      "Epoch 47/100\n",
      "16/16 [==============================] - 0s 3ms/step - loss: 0.6083 - accuracy: 0.6640 - val_loss: 0.6765 - val_accuracy: 0.6423\n",
      "Epoch 48/100\n",
      "16/16 [==============================] - 0s 3ms/step - loss: 0.6074 - accuracy: 0.6640 - val_loss: 0.6811 - val_accuracy: 0.6423\n",
      "Epoch 49/100\n",
      "16/16 [==============================] - 0s 3ms/step - loss: 0.6063 - accuracy: 0.6640 - val_loss: 0.6850 - val_accuracy: 0.6341\n",
      "Epoch 50/100\n",
      "16/16 [==============================] - 0s 2ms/step - loss: 0.6051 - accuracy: 0.6640 - val_loss: 0.6843 - val_accuracy: 0.6423\n",
      "Epoch 51/100\n",
      "16/16 [==============================] - 0s 3ms/step - loss: 0.6041 - accuracy: 0.6640 - val_loss: 0.6831 - val_accuracy: 0.6341\n",
      "Epoch 52/100\n",
      "16/16 [==============================] - 0s 3ms/step - loss: 0.6041 - accuracy: 0.6619 - val_loss: 0.6839 - val_accuracy: 0.6423\n",
      "Epoch 53/100\n",
      "16/16 [==============================] - 0s 3ms/step - loss: 0.6026 - accuracy: 0.6619 - val_loss: 0.6864 - val_accuracy: 0.6341\n",
      "Epoch 54/100\n",
      "16/16 [==============================] - 0s 3ms/step - loss: 0.6007 - accuracy: 0.6640 - val_loss: 0.6864 - val_accuracy: 0.6341\n",
      "Epoch 55/100\n",
      "16/16 [==============================] - 0s 3ms/step - loss: 0.6012 - accuracy: 0.6619 - val_loss: 0.6924 - val_accuracy: 0.6341\n",
      "Epoch 56/100\n",
      "16/16 [==============================] - 0s 3ms/step - loss: 0.5996 - accuracy: 0.6660 - val_loss: 0.6883 - val_accuracy: 0.6341\n",
      "Epoch 57/100\n",
      "16/16 [==============================] - 0s 3ms/step - loss: 0.5984 - accuracy: 0.6660 - val_loss: 0.6913 - val_accuracy: 0.6341\n",
      "Epoch 58/100\n",
      "16/16 [==============================] - 0s 3ms/step - loss: 0.5964 - accuracy: 0.6660 - val_loss: 0.6928 - val_accuracy: 0.6341\n",
      "Epoch 59/100\n",
      "16/16 [==============================] - 0s 3ms/step - loss: 0.5965 - accuracy: 0.6660 - val_loss: 0.6986 - val_accuracy: 0.6341\n",
      "Epoch 60/100\n",
      "16/16 [==============================] - 0s 2ms/step - loss: 0.5955 - accuracy: 0.6660 - val_loss: 0.6947 - val_accuracy: 0.6341\n",
      "Epoch 61/100\n",
      "16/16 [==============================] - 0s 3ms/step - loss: 0.5973 - accuracy: 0.6640 - val_loss: 0.6974 - val_accuracy: 0.6341\n",
      "Epoch 62/100\n",
      "16/16 [==============================] - 0s 3ms/step - loss: 0.5961 - accuracy: 0.6660 - val_loss: 0.7019 - val_accuracy: 0.6341\n",
      "Epoch 63/100\n",
      "16/16 [==============================] - 0s 3ms/step - loss: 0.5921 - accuracy: 0.6660 - val_loss: 0.7036 - val_accuracy: 0.6341\n",
      "Epoch 64/100\n",
      "16/16 [==============================] - 0s 3ms/step - loss: 0.5915 - accuracy: 0.6640 - val_loss: 0.7015 - val_accuracy: 0.6341\n",
      "Epoch 65/100\n",
      "16/16 [==============================] - 0s 3ms/step - loss: 0.5920 - accuracy: 0.6680 - val_loss: 0.6994 - val_accuracy: 0.6423\n",
      "Epoch 66/100\n",
      "16/16 [==============================] - 0s 3ms/step - loss: 0.5910 - accuracy: 0.6680 - val_loss: 0.7084 - val_accuracy: 0.6341\n",
      "Epoch 67/100\n",
      "16/16 [==============================] - 0s 3ms/step - loss: 0.5899 - accuracy: 0.6680 - val_loss: 0.7093 - val_accuracy: 0.6341\n",
      "Epoch 68/100\n",
      "16/16 [==============================] - 0s 3ms/step - loss: 0.5891 - accuracy: 0.6680 - val_loss: 0.7125 - val_accuracy: 0.6341\n",
      "Epoch 69/100\n",
      "16/16 [==============================] - 0s 3ms/step - loss: 0.5894 - accuracy: 0.6680 - val_loss: 0.7033 - val_accuracy: 0.6423\n",
      "Epoch 70/100\n",
      "16/16 [==============================] - 0s 2ms/step - loss: 0.5887 - accuracy: 0.6680 - val_loss: 0.7140 - val_accuracy: 0.6423\n",
      "Epoch 71/100\n",
      "16/16 [==============================] - 0s 3ms/step - loss: 0.5886 - accuracy: 0.6640 - val_loss: 0.7249 - val_accuracy: 0.6341\n",
      "Epoch 72/100\n",
      "16/16 [==============================] - 0s 3ms/step - loss: 0.5896 - accuracy: 0.6660 - val_loss: 0.7267 - val_accuracy: 0.6341\n",
      "Epoch 73/100\n",
      "16/16 [==============================] - 0s 3ms/step - loss: 0.5868 - accuracy: 0.6640 - val_loss: 0.7222 - val_accuracy: 0.6423\n",
      "Epoch 74/100\n",
      "16/16 [==============================] - 0s 3ms/step - loss: 0.5854 - accuracy: 0.6680 - val_loss: 0.7232 - val_accuracy: 0.6341\n",
      "Epoch 75/100\n",
      "16/16 [==============================] - 0s 3ms/step - loss: 0.5857 - accuracy: 0.6680 - val_loss: 0.7314 - val_accuracy: 0.6341\n",
      "Epoch 76/100\n",
      "16/16 [==============================] - 0s 3ms/step - loss: 0.5844 - accuracy: 0.6680 - val_loss: 0.7257 - val_accuracy: 0.6423\n",
      "Epoch 77/100\n",
      "16/16 [==============================] - 0s 3ms/step - loss: 0.5841 - accuracy: 0.6680 - val_loss: 0.7304 - val_accuracy: 0.6341\n",
      "Epoch 78/100\n",
      "16/16 [==============================] - 0s 3ms/step - loss: 0.5849 - accuracy: 0.6660 - val_loss: 0.7345 - val_accuracy: 0.6341\n",
      "Epoch 79/100\n",
      "16/16 [==============================] - 0s 3ms/step - loss: 0.5849 - accuracy: 0.6680 - val_loss: 0.7373 - val_accuracy: 0.6341\n",
      "Epoch 80/100\n",
      "16/16 [==============================] - 0s 3ms/step - loss: 0.5833 - accuracy: 0.6680 - val_loss: 0.7248 - val_accuracy: 0.6423\n",
      "Epoch 81/100\n",
      "16/16 [==============================] - 0s 3ms/step - loss: 0.5826 - accuracy: 0.6680 - val_loss: 0.7393 - val_accuracy: 0.6341\n",
      "Epoch 82/100\n",
      "16/16 [==============================] - 0s 3ms/step - loss: 0.5814 - accuracy: 0.6660 - val_loss: 0.7408 - val_accuracy: 0.6341\n",
      "Epoch 83/100\n",
      "16/16 [==============================] - 0s 3ms/step - loss: 0.5804 - accuracy: 0.6680 - val_loss: 0.7442 - val_accuracy: 0.6341\n",
      "Epoch 84/100\n",
      "16/16 [==============================] - 0s 3ms/step - loss: 0.5809 - accuracy: 0.6660 - val_loss: 0.7508 - val_accuracy: 0.6260\n",
      "Epoch 85/100\n",
      "16/16 [==============================] - 0s 3ms/step - loss: 0.5803 - accuracy: 0.6660 - val_loss: 0.7464 - val_accuracy: 0.6260\n",
      "Epoch 86/100\n",
      "16/16 [==============================] - 0s 3ms/step - loss: 0.5799 - accuracy: 0.6640 - val_loss: 0.7499 - val_accuracy: 0.6260\n",
      "Epoch 87/100\n",
      "16/16 [==============================] - 0s 3ms/step - loss: 0.5793 - accuracy: 0.6680 - val_loss: 0.7425 - val_accuracy: 0.6341\n",
      "Epoch 88/100\n",
      "16/16 [==============================] - 0s 3ms/step - loss: 0.5791 - accuracy: 0.6680 - val_loss: 0.7506 - val_accuracy: 0.6341\n",
      "Epoch 89/100\n",
      "16/16 [==============================] - 0s 3ms/step - loss: 0.5779 - accuracy: 0.6680 - val_loss: 0.7548 - val_accuracy: 0.6504\n",
      "Epoch 90/100\n",
      "16/16 [==============================] - 0s 3ms/step - loss: 0.5799 - accuracy: 0.6680 - val_loss: 0.7576 - val_accuracy: 0.6504\n",
      "Epoch 91/100\n",
      "16/16 [==============================] - 0s 3ms/step - loss: 0.5784 - accuracy: 0.6660 - val_loss: 0.7613 - val_accuracy: 0.6341\n",
      "Epoch 92/100\n",
      "16/16 [==============================] - 0s 3ms/step - loss: 0.5789 - accuracy: 0.6660 - val_loss: 0.7600 - val_accuracy: 0.6504\n",
      "Epoch 93/100\n",
      "16/16 [==============================] - 0s 3ms/step - loss: 0.5774 - accuracy: 0.6660 - val_loss: 0.7634 - val_accuracy: 0.6341\n",
      "Epoch 94/100\n",
      "16/16 [==============================] - 0s 3ms/step - loss: 0.5769 - accuracy: 0.6619 - val_loss: 0.7605 - val_accuracy: 0.6504\n",
      "Epoch 95/100\n",
      "16/16 [==============================] - 0s 3ms/step - loss: 0.5745 - accuracy: 0.6701 - val_loss: 0.7637 - val_accuracy: 0.6341\n",
      "Epoch 96/100\n",
      "16/16 [==============================] - 0s 3ms/step - loss: 0.5768 - accuracy: 0.6660 - val_loss: 0.7591 - val_accuracy: 0.6341\n",
      "Epoch 97/100\n",
      "16/16 [==============================] - 0s 3ms/step - loss: 0.5787 - accuracy: 0.6640 - val_loss: 0.7685 - val_accuracy: 0.6260\n",
      "Epoch 98/100\n",
      "16/16 [==============================] - 0s 3ms/step - loss: 0.5771 - accuracy: 0.6660 - val_loss: 0.7620 - val_accuracy: 0.6341\n",
      "Epoch 99/100\n",
      "16/16 [==============================] - 0s 3ms/step - loss: 0.5751 - accuracy: 0.6660 - val_loss: 0.7719 - val_accuracy: 0.6341\n",
      "Epoch 100/100\n",
      "16/16 [==============================] - 0s 3ms/step - loss: 0.5761 - accuracy: 0.6660 - val_loss: 0.7760 - val_accuracy: 0.6341\n"
     ]
    }
   ],
   "source": [
    "history = model.fit(trainingData_features,\n",
    "                         trainingData_label,\n",
    "                         epochs=100,\n",
    "                         batch_size=32,\n",
    "                         validation_split=0.2)"
   ]
  },
  {
   "cell_type": "code",
   "execution_count": 18,
   "id": "4798ef0d-b5e9-470e-8d12-3db2e072d92f",
   "metadata": {},
   "outputs": [
    {
     "data": {
      "image/png": "[encoded data removed]",
      "text/plain": [
       "<Figure size 1200x800 with 1 Axes>"
      ]
     },
     "metadata": {},
     "output_type": "display_data"
    }
   ],
   "source": [
    "import matplotlib.pyplot as plt\n",
    "%matplotlib inline\n",
    "\n",
    "plt.figure(figsize=(12,8))\n",
    "\n",
    "# 훈련 데이터의 accuracy\n",
    "plt.plot(history.history['accuracy'])\n",
    "\n",
    "# 검증 데이터의 accuracy\n",
    "plt.plot(history.history['val_accuracy'])\n",
    "plt.legend(['accuracy','val_accuracy'])\n",
    "plt.grid()\n",
    "plt.show()"
   ]
  },
  {
   "cell_type": "code",
   "execution_count": 19,
   "id": "e21c32d0-0d10-45a6-b2ea-22e890c7dd1d",
   "metadata": {},
   "outputs": [
    {
     "name": "stdout",
     "output_type": "stream",
     "text": [
      "5/5 [==============================] - 0s 999us/step\n"
     ]
    },
    {
     "data": {
      "text/html": [
       "<div>\n",
       "<style scoped>\n",
       "    .dataframe tbody tr th:only-of-type {\n",
       "        vertical-align: middle;\n",
       "    }\n",
       "\n",
       "    .dataframe tbody tr th {\n",
       "        vertical-align: top;\n",
       "    }\n",
       "\n",
       "    .dataframe thead th {\n",
       "        text-align: right;\n",
       "    }\n",
       "</style>\n",
       "<table border=\"1\" class=\"dataframe\">\n",
       "  <thead>\n",
       "    <tr style=\"text-align: right;\">\n",
       "      <th></th>\n",
       "      <th>predict</th>\n",
       "    </tr>\n",
       "  </thead>\n",
       "  <tbody>\n",
       "    <tr>\n",
       "      <th>0</th>\n",
       "      <td>0.363089</td>\n",
       "    </tr>\n",
       "    <tr>\n",
       "      <th>1</th>\n",
       "      <td>0.466698</td>\n",
       "    </tr>\n",
       "    <tr>\n",
       "      <th>2</th>\n",
       "      <td>0.355432</td>\n",
       "    </tr>\n",
       "    <tr>\n",
       "      <th>3</th>\n",
       "      <td>0.078390</td>\n",
       "    </tr>\n",
       "    <tr>\n",
       "      <th>4</th>\n",
       "      <td>0.196053</td>\n",
       "    </tr>\n",
       "    <tr>\n",
       "      <th>...</th>\n",
       "      <td>...</td>\n",
       "    </tr>\n",
       "    <tr>\n",
       "      <th>149</th>\n",
       "      <td>0.320471</td>\n",
       "    </tr>\n",
       "    <tr>\n",
       "      <th>150</th>\n",
       "      <td>0.435234</td>\n",
       "    </tr>\n",
       "    <tr>\n",
       "      <th>151</th>\n",
       "      <td>0.466698</td>\n",
       "    </tr>\n",
       "    <tr>\n",
       "      <th>152</th>\n",
       "      <td>0.340618</td>\n",
       "    </tr>\n",
       "    <tr>\n",
       "      <th>153</th>\n",
       "      <td>0.050856</td>\n",
       "    </tr>\n",
       "  </tbody>\n",
       "</table>\n",
       "<p>154 rows × 1 columns</p>\n",
       "</div>"
      ],
      "text/plain": [
       "      predict\n",
       "0    0.363089\n",
       "1    0.466698\n",
       "2    0.355432\n",
       "3    0.078390\n",
       "4    0.196053\n",
       "..        ...\n",
       "149  0.320471\n",
       "150  0.435234\n",
       "151  0.466698\n",
       "152  0.340618\n",
       "153  0.050856\n",
       "\n",
       "[154 rows x 1 columns]"
      ]
     },
     "execution_count": 19,
     "metadata": {},
     "output_type": "execute_result"
    }
   ],
   "source": [
    "predict = pd.DataFrame(model.predict(testData_features), columns=[\"predict\"])\n",
    "predict"
   ]
  },
  {
   "cell_type": "code",
   "execution_count": 20,
   "id": "3c884d3f-5ede-4187-91e8-d4833401cc12",
   "metadata": {},
   "outputs": [],
   "source": [
    "testData_label.reset_index(drop=True, inplace=True)"
   ]
  },
  {
   "cell_type": "code",
   "execution_count": 21,
   "id": "d883ddc5-0bc5-4f34-aee7-2f7b0b3ea78d",
   "metadata": {},
   "outputs": [
    {
     "data": {
      "text/html": [
       "<div>\n",
       "<style scoped>\n",
       "    .dataframe tbody tr th:only-of-type {\n",
       "        vertical-align: middle;\n",
       "    }\n",
       "\n",
       "    .dataframe tbody tr th {\n",
       "        vertical-align: top;\n",
       "    }\n",
       "\n",
       "    .dataframe thead th {\n",
       "        text-align: right;\n",
       "    }\n",
       "</style>\n",
       "<table border=\"1\" class=\"dataframe\">\n",
       "  <thead>\n",
       "    <tr style=\"text-align: right;\">\n",
       "      <th></th>\n",
       "      <th>diabetes</th>\n",
       "      <th>predict</th>\n",
       "    </tr>\n",
       "  </thead>\n",
       "  <tbody>\n",
       "    <tr>\n",
       "      <th>0</th>\n",
       "      <td>0</td>\n",
       "      <td>0.363089</td>\n",
       "    </tr>\n",
       "    <tr>\n",
       "      <th>1</th>\n",
       "      <td>0</td>\n",
       "      <td>0.466698</td>\n",
       "    </tr>\n",
       "    <tr>\n",
       "      <th>2</th>\n",
       "      <td>0</td>\n",
       "      <td>0.355432</td>\n",
       "    </tr>\n",
       "    <tr>\n",
       "      <th>3</th>\n",
       "      <td>0</td>\n",
       "      <td>0.078390</td>\n",
       "    </tr>\n",
       "    <tr>\n",
       "      <th>4</th>\n",
       "      <td>0</td>\n",
       "      <td>0.196053</td>\n",
       "    </tr>\n",
       "    <tr>\n",
       "      <th>...</th>\n",
       "      <td>...</td>\n",
       "      <td>...</td>\n",
       "    </tr>\n",
       "    <tr>\n",
       "      <th>149</th>\n",
       "      <td>0</td>\n",
       "      <td>0.320471</td>\n",
       "    </tr>\n",
       "    <tr>\n",
       "      <th>150</th>\n",
       "      <td>0</td>\n",
       "      <td>0.435234</td>\n",
       "    </tr>\n",
       "    <tr>\n",
       "      <th>151</th>\n",
       "      <td>1</td>\n",
       "      <td>0.466698</td>\n",
       "    </tr>\n",
       "    <tr>\n",
       "      <th>152</th>\n",
       "      <td>0</td>\n",
       "      <td>0.340618</td>\n",
       "    </tr>\n",
       "    <tr>\n",
       "      <th>153</th>\n",
       "      <td>0</td>\n",
       "      <td>0.050856</td>\n",
       "    </tr>\n",
       "  </tbody>\n",
       "</table>\n",
       "<p>154 rows × 2 columns</p>\n",
       "</div>"
      ],
      "text/plain": [
       "     diabetes   predict\n",
       "0           0  0.363089\n",
       "1           0  0.466698\n",
       "2           0  0.355432\n",
       "3           0  0.078390\n",
       "4           0  0.196053\n",
       "..        ...       ...\n",
       "149         0  0.320471\n",
       "150         0  0.435234\n",
       "151         1  0.466698\n",
       "152         0  0.340618\n",
       "153         0  0.050856\n",
       "\n",
       "[154 rows x 2 columns]"
      ]
     },
     "execution_count": 21,
     "metadata": {},
     "output_type": "execute_result"
    }
   ],
   "source": [
    "resultData = pd.concat([testData_label, predict], axis = 1)\n",
    "resultData"
   ]
  },
  {
   "cell_type": "code",
   "execution_count": 22,
   "id": "df147bde-f3e8-4be8-92fa-7454dfabd5a0",
   "metadata": {},
   "outputs": [],
   "source": [
    "resultData.loc[resultData.predict<0.5] = 0\n",
    "resultData.loc[resultData.predict>=0.5] = 1\n",
    "resultData.predict = resultData.predict.astype(int)"
   ]
  },
  {
   "cell_type": "code",
   "execution_count": 23,
   "id": "3099c543-4ed5-42c9-91f2-7158556ad0ac",
   "metadata": {},
   "outputs": [
    {
     "data": {
      "text/html": [
       "<div>\n",
       "<style scoped>\n",
       "    .dataframe tbody tr th:only-of-type {\n",
       "        vertical-align: middle;\n",
       "    }\n",
       "\n",
       "    .dataframe tbody tr th {\n",
       "        vertical-align: top;\n",
       "    }\n",
       "\n",
       "    .dataframe thead th {\n",
       "        text-align: right;\n",
       "    }\n",
       "</style>\n",
       "<table border=\"1\" class=\"dataframe\">\n",
       "  <thead>\n",
       "    <tr style=\"text-align: right;\">\n",
       "      <th></th>\n",
       "      <th>diabetes</th>\n",
       "      <th>predict</th>\n",
       "    </tr>\n",
       "  </thead>\n",
       "  <tbody>\n",
       "    <tr>\n",
       "      <th>0</th>\n",
       "      <td>0</td>\n",
       "      <td>0</td>\n",
       "    </tr>\n",
       "    <tr>\n",
       "      <th>1</th>\n",
       "      <td>0</td>\n",
       "      <td>0</td>\n",
       "    </tr>\n",
       "    <tr>\n",
       "      <th>2</th>\n",
       "      <td>0</td>\n",
       "      <td>0</td>\n",
       "    </tr>\n",
       "    <tr>\n",
       "      <th>3</th>\n",
       "      <td>0</td>\n",
       "      <td>0</td>\n",
       "    </tr>\n",
       "    <tr>\n",
       "      <th>4</th>\n",
       "      <td>0</td>\n",
       "      <td>0</td>\n",
       "    </tr>\n",
       "    <tr>\n",
       "      <th>...</th>\n",
       "      <td>...</td>\n",
       "      <td>...</td>\n",
       "    </tr>\n",
       "    <tr>\n",
       "      <th>149</th>\n",
       "      <td>0</td>\n",
       "      <td>0</td>\n",
       "    </tr>\n",
       "    <tr>\n",
       "      <th>150</th>\n",
       "      <td>0</td>\n",
       "      <td>0</td>\n",
       "    </tr>\n",
       "    <tr>\n",
       "      <th>151</th>\n",
       "      <td>0</td>\n",
       "      <td>0</td>\n",
       "    </tr>\n",
       "    <tr>\n",
       "      <th>152</th>\n",
       "      <td>0</td>\n",
       "      <td>0</td>\n",
       "    </tr>\n",
       "    <tr>\n",
       "      <th>153</th>\n",
       "      <td>0</td>\n",
       "      <td>0</td>\n",
       "    </tr>\n",
       "  </tbody>\n",
       "</table>\n",
       "<p>154 rows × 2 columns</p>\n",
       "</div>"
      ],
      "text/plain": [
       "     diabetes  predict\n",
       "0           0        0\n",
       "1           0        0\n",
       "2           0        0\n",
       "3           0        0\n",
       "4           0        0\n",
       "..        ...      ...\n",
       "149         0        0\n",
       "150         0        0\n",
       "151         0        0\n",
       "152         0        0\n",
       "153         0        0\n",
       "\n",
       "[154 rows x 2 columns]"
      ]
     },
     "execution_count": 23,
     "metadata": {},
     "output_type": "execute_result"
    }
   ],
   "source": [
    "resultData"
   ]
  },
  {
   "cell_type": "code",
   "execution_count": 24,
   "id": "3e49b998-668a-4acd-bb8e-bd6b50e8b33a",
   "metadata": {},
   "outputs": [
    {
     "data": {
      "text/html": [
       "<div>\n",
       "<style scoped>\n",
       "    .dataframe tbody tr th:only-of-type {\n",
       "        vertical-align: middle;\n",
       "    }\n",
       "\n",
       "    .dataframe tbody tr th {\n",
       "        vertical-align: top;\n",
       "    }\n",
       "\n",
       "    .dataframe thead th {\n",
       "        text-align: right;\n",
       "    }\n",
       "</style>\n",
       "<table border=\"1\" class=\"dataframe\">\n",
       "  <thead>\n",
       "    <tr style=\"text-align: right;\">\n",
       "      <th></th>\n",
       "      <th>diabetes</th>\n",
       "      <th>predict</th>\n",
       "    </tr>\n",
       "  </thead>\n",
       "  <tbody>\n",
       "  </tbody>\n",
       "</table>\n",
       "</div>"
      ],
      "text/plain": [
       "Empty DataFrame\n",
       "Columns: [diabetes, predict]\n",
       "Index: []"
      ]
     },
     "execution_count": 24,
     "metadata": {},
     "output_type": "execute_result"
    }
   ],
   "source": [
    "resultData.loc[(resultData.diabetes==0) & (resultData.predict!=0)]"
   ]
  },
  {
   "cell_type": "code",
   "execution_count": 25,
   "id": "9c952181-0f07-4394-a492-861b922d806e",
   "metadata": {},
   "outputs": [
    {
     "data": {
      "text/html": [
       "<div>\n",
       "<style scoped>\n",
       "    .dataframe tbody tr th:only-of-type {\n",
       "        vertical-align: middle;\n",
       "    }\n",
       "\n",
       "    .dataframe tbody tr th {\n",
       "        vertical-align: top;\n",
       "    }\n",
       "\n",
       "    .dataframe thead th {\n",
       "        text-align: right;\n",
       "    }\n",
       "</style>\n",
       "<table border=\"1\" class=\"dataframe\">\n",
       "  <thead>\n",
       "    <tr style=\"text-align: right;\">\n",
       "      <th></th>\n",
       "      <th>diabetes</th>\n",
       "      <th>predict</th>\n",
       "    </tr>\n",
       "  </thead>\n",
       "  <tbody>\n",
       "  </tbody>\n",
       "</table>\n",
       "</div>"
      ],
      "text/plain": [
       "Empty DataFrame\n",
       "Columns: [diabetes, predict]\n",
       "Index: []"
      ]
     },
     "execution_count": 25,
     "metadata": {},
     "output_type": "execute_result"
    }
   ],
   "source": [
    "resultData.loc[(resultData.diabetes==1) & (resultData.predict!=1)]"
   ]
  },
  {
   "cell_type": "markdown",
   "id": "b20c30fd-85ef-4a98-8992-9d70a1650a3d",
   "metadata": {},
   "source": [
    "# 예측"
   ]
  },
  {
   "cell_type": "code",
   "execution_count": 27,
   "id": "6670659e-078a-4d27-b0a7-8cbe151dfa0e",
   "metadata": {},
   "outputs": [
    {
     "data": {
      "text/plain": [
       "['diastolic',\n",
       " 'dpf',\n",
       " 'insulin',\n",
       " 'glucose',\n",
       " 'trceps',\n",
       " 'bmi',\n",
       " 'age',\n",
       " 'pregnancies']"
      ]
     },
     "execution_count": 27,
     "metadata": {},
     "output_type": "execute_result"
    }
   ],
   "source": [
    "features"
   ]
  },
  {
   "cell_type": "code",
   "execution_count": 91,
   "id": "77c51f2f-a8cb-421b-988f-fa7802f73e10",
   "metadata": {
    "tags": []
   },
   "outputs": [
    {
     "data": {
      "text/plain": [
       "0      148\n",
       "1       85\n",
       "2      183\n",
       "3       89\n",
       "4      137\n",
       "      ... \n",
       "680     56\n",
       "696    169\n",
       "722    149\n",
       "737     65\n",
       "759    190\n",
       "Name: glucose, Length: 136, dtype: int64"
      ]
     },
     "execution_count": 91,
     "metadata": {},
     "output_type": "execute_result"
    }
   ],
   "source": [
    "baseData.glucose.drop_duplicates()"
   ]
  },
  {
   "cell_type": "code",
   "execution_count": 104,
   "id": "35f93b7a-2c96-40c1-933f-c208144de874",
   "metadata": {},
   "outputs": [],
   "source": [
    "inDiastolic = 42\n",
    "inDpf = 0.222\n",
    "inInsulin = 543\n",
    "inGlucose = 190\n",
    "inTrceps = 35\n",
    "inBmi = 50.1\n",
    "inAge = 50\n",
    "inPregnancies = 18"
   ]
  },
  {
   "cell_type": "code",
   "execution_count": 105,
   "id": "efdbfcdc-98d2-4d03-978d-b69b0ffee5f4",
   "metadata": {},
   "outputs": [],
   "source": [
    "testDf = pd.DataFrame([[inDiastolic,inDpf,inInsulin,inGlucose,inTrceps,inBmi,inAge,inPregnancies]])"
   ]
  },
  {
   "cell_type": "code",
   "execution_count": 106,
   "id": "7fb59a40-4254-46ea-be7f-2158b934e7f6",
   "metadata": {},
   "outputs": [
    {
     "name": "stdout",
     "output_type": "stream",
     "text": [
      "1/1 [==============================] - 0s 21ms/step\n"
     ]
    },
    {
     "data": {
      "text/plain": [
       "array([[0.46669763]], dtype=float32)"
      ]
     },
     "execution_count": 106,
     "metadata": {},
     "output_type": "execute_result"
    }
   ],
   "source": [
    "result = model.predict(testDf)\n",
    "result"
   ]
  },
  {
   "cell_type": "code",
   "execution_count": 107,
   "id": "069cbadc-c828-4959-8212-b14ec8e4877b",
   "metadata": {},
   "outputs": [
    {
     "name": "stdout",
     "output_type": "stream",
     "text": [
      "건강\n"
     ]
    }
   ],
   "source": [
    "if result < 0.5 :\n",
    "    print(\"건강\")\n",
    "else :\n",
    "    print(\"당뇨\")"
   ]
  },
  {
   "cell_type": "code",
   "execution_count": 109,
   "id": "3158d99f-3929-4d82-8189-bcb366454dff",
   "metadata": {},
   "outputs": [
    {
     "data": {
      "text/html": [
       "<div>\n",
       "<style scoped>\n",
       "    .dataframe tbody tr th:only-of-type {\n",
       "        vertical-align: middle;\n",
       "    }\n",
       "\n",
       "    .dataframe tbody tr th {\n",
       "        vertical-align: top;\n",
       "    }\n",
       "\n",
       "    .dataframe thead th {\n",
       "        text-align: right;\n",
       "    }\n",
       "</style>\n",
       "<table border=\"1\" class=\"dataframe\">\n",
       "  <thead>\n",
       "    <tr style=\"text-align: right;\">\n",
       "      <th></th>\n",
       "      <th>pregnancies</th>\n",
       "      <th>glucose</th>\n",
       "      <th>diastolic</th>\n",
       "      <th>trceps</th>\n",
       "      <th>insulin</th>\n",
       "      <th>bmi</th>\n",
       "      <th>dpf</th>\n",
       "      <th>age</th>\n",
       "      <th>diabetes</th>\n",
       "    </tr>\n",
       "  </thead>\n",
       "  <tbody>\n",
       "    <tr>\n",
       "      <th>pregnancies</th>\n",
       "      <td>1.000000</td>\n",
       "      <td>0.129459</td>\n",
       "      <td>0.141282</td>\n",
       "      <td>-0.081672</td>\n",
       "      <td>-0.073535</td>\n",
       "      <td>0.017683</td>\n",
       "      <td>-0.033523</td>\n",
       "      <td>0.544341</td>\n",
       "      <td>0.221898</td>\n",
       "    </tr>\n",
       "    <tr>\n",
       "      <th>glucose</th>\n",
       "      <td>0.129459</td>\n",
       "      <td>1.000000</td>\n",
       "      <td>0.152590</td>\n",
       "      <td>0.057328</td>\n",
       "      <td>0.331357</td>\n",
       "      <td>0.221071</td>\n",
       "      <td>0.137337</td>\n",
       "      <td>0.263514</td>\n",
       "      <td>0.466581</td>\n",
       "    </tr>\n",
       "    <tr>\n",
       "      <th>diastolic</th>\n",
       "      <td>0.141282</td>\n",
       "      <td>0.152590</td>\n",
       "      <td>1.000000</td>\n",
       "      <td>0.207371</td>\n",
       "      <td>0.088933</td>\n",
       "      <td>0.281805</td>\n",
       "      <td>0.041265</td>\n",
       "      <td>0.239528</td>\n",
       "      <td>0.065068</td>\n",
       "    </tr>\n",
       "    <tr>\n",
       "      <th>trceps</th>\n",
       "      <td>-0.081672</td>\n",
       "      <td>0.057328</td>\n",
       "      <td>0.207371</td>\n",
       "      <td>1.000000</td>\n",
       "      <td>0.436783</td>\n",
       "      <td>0.392573</td>\n",
       "      <td>0.183928</td>\n",
       "      <td>-0.113970</td>\n",
       "      <td>0.074752</td>\n",
       "    </tr>\n",
       "    <tr>\n",
       "      <th>insulin</th>\n",
       "      <td>-0.073535</td>\n",
       "      <td>0.331357</td>\n",
       "      <td>0.088933</td>\n",
       "      <td>0.436783</td>\n",
       "      <td>1.000000</td>\n",
       "      <td>0.197859</td>\n",
       "      <td>0.185071</td>\n",
       "      <td>-0.042163</td>\n",
       "      <td>0.130548</td>\n",
       "    </tr>\n",
       "    <tr>\n",
       "      <th>bmi</th>\n",
       "      <td>0.017683</td>\n",
       "      <td>0.221071</td>\n",
       "      <td>0.281805</td>\n",
       "      <td>0.392573</td>\n",
       "      <td>0.197859</td>\n",
       "      <td>1.000000</td>\n",
       "      <td>0.140647</td>\n",
       "      <td>0.036242</td>\n",
       "      <td>0.292695</td>\n",
       "    </tr>\n",
       "    <tr>\n",
       "      <th>dpf</th>\n",
       "      <td>-0.033523</td>\n",
       "      <td>0.137337</td>\n",
       "      <td>0.041265</td>\n",
       "      <td>0.183928</td>\n",
       "      <td>0.185071</td>\n",
       "      <td>0.140647</td>\n",
       "      <td>1.000000</td>\n",
       "      <td>0.033561</td>\n",
       "      <td>0.173844</td>\n",
       "    </tr>\n",
       "    <tr>\n",
       "      <th>age</th>\n",
       "      <td>0.544341</td>\n",
       "      <td>0.263514</td>\n",
       "      <td>0.239528</td>\n",
       "      <td>-0.113970</td>\n",
       "      <td>-0.042163</td>\n",
       "      <td>0.036242</td>\n",
       "      <td>0.033561</td>\n",
       "      <td>1.000000</td>\n",
       "      <td>0.238356</td>\n",
       "    </tr>\n",
       "    <tr>\n",
       "      <th>diabetes</th>\n",
       "      <td>0.221898</td>\n",
       "      <td>0.466581</td>\n",
       "      <td>0.065068</td>\n",
       "      <td>0.074752</td>\n",
       "      <td>0.130548</td>\n",
       "      <td>0.292695</td>\n",
       "      <td>0.173844</td>\n",
       "      <td>0.238356</td>\n",
       "      <td>1.000000</td>\n",
       "    </tr>\n",
       "  </tbody>\n",
       "</table>\n",
       "</div>"
      ],
      "text/plain": [
       "             pregnancies   glucose  diastolic    trceps   insulin       bmi  \\\n",
       "pregnancies     1.000000  0.129459   0.141282 -0.081672 -0.073535  0.017683   \n",
       "glucose         0.129459  1.000000   0.152590  0.057328  0.331357  0.221071   \n",
       "diastolic       0.141282  0.152590   1.000000  0.207371  0.088933  0.281805   \n",
       "trceps         -0.081672  0.057328   0.207371  1.000000  0.436783  0.392573   \n",
       "insulin        -0.073535  0.331357   0.088933  0.436783  1.000000  0.197859   \n",
       "bmi             0.017683  0.221071   0.281805  0.392573  0.197859  1.000000   \n",
       "dpf            -0.033523  0.137337   0.041265  0.183928  0.185071  0.140647   \n",
       "age             0.544341  0.263514   0.239528 -0.113970 -0.042163  0.036242   \n",
       "diabetes        0.221898  0.466581   0.065068  0.074752  0.130548  0.292695   \n",
       "\n",
       "                  dpf       age  diabetes  \n",
       "pregnancies -0.033523  0.544341  0.221898  \n",
       "glucose      0.137337  0.263514  0.466581  \n",
       "diastolic    0.041265  0.239528  0.065068  \n",
       "trceps       0.183928 -0.113970  0.074752  \n",
       "insulin      0.185071 -0.042163  0.130548  \n",
       "bmi          0.140647  0.036242  0.292695  \n",
       "dpf          1.000000  0.033561  0.173844  \n",
       "age          0.033561  1.000000  0.238356  \n",
       "diabetes     0.173844  0.238356  1.000000  "
      ]
     },
     "execution_count": 109,
     "metadata": {},
     "output_type": "execute_result"
    }
   ],
   "source": [
    "corrDf = baseData.corr()\n",
    "corrDf"
   ]
  },
  {
   "cell_type": "code",
   "execution_count": 112,
   "id": "6bb22e2e-690c-4f83-8bee-afb7c2e662d4",
   "metadata": {},
   "outputs": [
    {
     "data": {
      "text/html": [
       "<div>\n",
       "<style scoped>\n",
       "    .dataframe tbody tr th:only-of-type {\n",
       "        vertical-align: middle;\n",
       "    }\n",
       "\n",
       "    .dataframe tbody tr th {\n",
       "        vertical-align: top;\n",
       "    }\n",
       "\n",
       "    .dataframe thead th {\n",
       "        text-align: right;\n",
       "    }\n",
       "</style>\n",
       "<table border=\"1\" class=\"dataframe\">\n",
       "  <thead>\n",
       "    <tr style=\"text-align: right;\">\n",
       "      <th></th>\n",
       "      <th>pregnancies</th>\n",
       "      <th>glucose</th>\n",
       "      <th>diastolic</th>\n",
       "      <th>trceps</th>\n",
       "      <th>insulin</th>\n",
       "      <th>bmi</th>\n",
       "      <th>dpf</th>\n",
       "      <th>age</th>\n",
       "      <th>diabetes</th>\n",
       "    </tr>\n",
       "  </thead>\n",
       "  <tbody>\n",
       "    <tr>\n",
       "      <th>glucose</th>\n",
       "      <td>0.129459</td>\n",
       "      <td>1.0</td>\n",
       "      <td>0.15259</td>\n",
       "      <td>0.057328</td>\n",
       "      <td>0.331357</td>\n",
       "      <td>0.221071</td>\n",
       "      <td>0.137337</td>\n",
       "      <td>0.263514</td>\n",
       "      <td>0.466581</td>\n",
       "    </tr>\n",
       "  </tbody>\n",
       "</table>\n",
       "</div>"
      ],
      "text/plain": [
       "         pregnancies  glucose  diastolic    trceps   insulin       bmi  \\\n",
       "glucose     0.129459      1.0    0.15259  0.057328  0.331357  0.221071   \n",
       "\n",
       "              dpf       age  diabetes  \n",
       "glucose  0.137337  0.263514  0.466581  "
      ]
     },
     "execution_count": 112,
     "metadata": {},
     "output_type": "execute_result"
    }
   ],
   "source": [
    "corrDf.loc[(corrDf.diabetes>0.3)&(corrDf.diabetes!=1)]"
   ]
  },
  {
   "cell_type": "code",
   "execution_count": 113,
   "id": "3e2c0e6e-c8e2-4161-8a89-ba9b6751d5af",
   "metadata": {},
   "outputs": [
    {
     "name": "stdout",
     "output_type": "stream",
     "text": [
      "5/5 [==============================] - 0s 2ms/step - loss: 0.6236 - accuracy: 0.6494\n",
      "0.623553991317749\n",
      "0.649350643157959\n"
     ]
    }
   ],
   "source": [
    "import math\n",
    "# 정확도 추론\n",
    "loss, accuracy = model.evaluate(testData_features, testData_label, verbose=1)\n",
    "print(loss)\n",
    "print(accuracy)"
   ]
  },
  {
   "cell_type": "code",
   "execution_count": null,
   "id": "39122f95-8319-405c-9ffa-4d0243d06357",
   "metadata": {},
   "outputs": [],
   "source": []
  }
 ],
 "metadata": {
  "kernelspec": {
   "display_name": "Python 3 (ipykernel)",
   "language": "python",
   "name": "python3"
  },
  "language_info": {
   "codemirror_mode": {
    "name": "ipython",
    "version": 3
   },
   "file_extension": ".py",
   "mimetype": "text/x-python",
   "name": "python",
   "nbconvert_exporter": "python",
   "pygments_lexer": "ipython3",
   "version": "3.9.13"
  }
 },
 "nbformat": 4,
 "nbformat_minor": 5
}
