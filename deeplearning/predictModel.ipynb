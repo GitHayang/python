{
 "cells": [
  {
   "cell_type": "code",
   "execution_count": 1,
   "id": "ae71b6c9-d90f-4644-a837-6f5ad6c81a4c",
   "metadata": {},
   "outputs": [],
   "source": [
    "# 데이터 조작 라이브러리\n",
    "import pandas as pd\n",
    "import numpy as np\n",
    "\n",
    "from tensorflow import keras\n",
    "from tensorflow.keras import layers"
   ]
  },
  {
   "cell_type": "code",
   "execution_count": 2,
   "id": "1dca8500-6838-4406-b345-332ebb10750f",
   "metadata": {},
   "outputs": [
    {
     "data": {
      "text/html": [
       "<div>\n",
       "<style scoped>\n",
       "    .dataframe tbody tr th:only-of-type {\n",
       "        vertical-align: middle;\n",
       "    }\n",
       "\n",
       "    .dataframe tbody tr th {\n",
       "        vertical-align: top;\n",
       "    }\n",
       "\n",
       "    .dataframe thead th {\n",
       "        text-align: right;\n",
       "    }\n",
       "</style>\n",
       "<table border=\"1\" class=\"dataframe\">\n",
       "  <thead>\n",
       "    <tr style=\"text-align: right;\">\n",
       "      <th></th>\n",
       "      <th>age</th>\n",
       "      <th>gender</th>\n",
       "      <th>miles</th>\n",
       "      <th>debt</th>\n",
       "      <th>income</th>\n",
       "      <th>sales</th>\n",
       "    </tr>\n",
       "  </thead>\n",
       "  <tbody>\n",
       "    <tr>\n",
       "      <th>0</th>\n",
       "      <td>28</td>\n",
       "      <td>0</td>\n",
       "      <td>23</td>\n",
       "      <td>0</td>\n",
       "      <td>4099</td>\n",
       "      <td>620</td>\n",
       "    </tr>\n",
       "    <tr>\n",
       "      <th>1</th>\n",
       "      <td>26</td>\n",
       "      <td>0</td>\n",
       "      <td>27</td>\n",
       "      <td>0</td>\n",
       "      <td>2677</td>\n",
       "      <td>1792</td>\n",
       "    </tr>\n",
       "    <tr>\n",
       "      <th>2</th>\n",
       "      <td>30</td>\n",
       "      <td>1</td>\n",
       "      <td>58</td>\n",
       "      <td>41576</td>\n",
       "      <td>6215</td>\n",
       "      <td>27754</td>\n",
       "    </tr>\n",
       "    <tr>\n",
       "      <th>3</th>\n",
       "      <td>26</td>\n",
       "      <td>1</td>\n",
       "      <td>25</td>\n",
       "      <td>43172</td>\n",
       "      <td>7626</td>\n",
       "      <td>28256</td>\n",
       "    </tr>\n",
       "    <tr>\n",
       "      <th>4</th>\n",
       "      <td>20</td>\n",
       "      <td>1</td>\n",
       "      <td>17</td>\n",
       "      <td>6979</td>\n",
       "      <td>8071</td>\n",
       "      <td>4438</td>\n",
       "    </tr>\n",
       "    <tr>\n",
       "      <th>...</th>\n",
       "      <td>...</td>\n",
       "      <td>...</td>\n",
       "      <td>...</td>\n",
       "      <td>...</td>\n",
       "      <td>...</td>\n",
       "      <td>...</td>\n",
       "    </tr>\n",
       "    <tr>\n",
       "      <th>958</th>\n",
       "      <td>22</td>\n",
       "      <td>0</td>\n",
       "      <td>11</td>\n",
       "      <td>8778</td>\n",
       "      <td>9829</td>\n",
       "      <td>1593</td>\n",
       "    </tr>\n",
       "    <tr>\n",
       "      <th>959</th>\n",
       "      <td>19</td>\n",
       "      <td>1</td>\n",
       "      <td>23</td>\n",
       "      <td>4850</td>\n",
       "      <td>3470</td>\n",
       "      <td>4742</td>\n",
       "    </tr>\n",
       "    <tr>\n",
       "      <th>960</th>\n",
       "      <td>28</td>\n",
       "      <td>1</td>\n",
       "      <td>28</td>\n",
       "      <td>9312</td>\n",
       "      <td>2720</td>\n",
       "      <td>12771</td>\n",
       "    </tr>\n",
       "    <tr>\n",
       "      <th>961</th>\n",
       "      <td>50</td>\n",
       "      <td>0</td>\n",
       "      <td>29</td>\n",
       "      <td>51343</td>\n",
       "      <td>8713</td>\n",
       "      <td>28511</td>\n",
       "    </tr>\n",
       "    <tr>\n",
       "      <th>962</th>\n",
       "      <td>47</td>\n",
       "      <td>1</td>\n",
       "      <td>15</td>\n",
       "      <td>3735</td>\n",
       "      <td>6406</td>\n",
       "      <td>6104</td>\n",
       "    </tr>\n",
       "  </tbody>\n",
       "</table>\n",
       "<p>963 rows × 6 columns</p>\n",
       "</div>"
      ],
      "text/plain": [
       "     age  gender  miles   debt  income  sales\n",
       "0     28       0     23      0    4099    620\n",
       "1     26       0     27      0    2677   1792\n",
       "2     30       1     58  41576    6215  27754\n",
       "3     26       1     25  43172    7626  28256\n",
       "4     20       1     17   6979    8071   4438\n",
       "..   ...     ...    ...    ...     ...    ...\n",
       "958   22       0     11   8778    9829   1593\n",
       "959   19       1     23   4850    3470   4742\n",
       "960   28       1     28   9312    2720  12771\n",
       "961   50       0     29  51343    8713  28511\n",
       "962   47       1     15   3735    6406   6104\n",
       "\n",
       "[963 rows x 6 columns]"
      ]
     },
     "execution_count": 2,
     "metadata": {},
     "output_type": "execute_result"
    }
   ],
   "source": [
    "baseData = pd.read_csv(\"../../dataset/cars.csv\")\n",
    "baseData"
   ]
  },
  {
   "cell_type": "code",
   "execution_count": 3,
   "id": "114238fa-9367-4d49-b2e3-bad3689a5eb7",
   "metadata": {},
   "outputs": [],
   "source": [
    "label = [\"income\"]"
   ]
  },
  {
   "cell_type": "code",
   "execution_count": 4,
   "id": "39f0399c-1009-460d-b250-8e09f2465cc7",
   "metadata": {},
   "outputs": [
    {
     "name": "stdout",
     "output_type": "stream",
     "text": [
      "label: ['income']\n",
      "features: ['miles', 'debt', 'gender', 'sales']\n"
     ]
    }
   ],
   "source": [
    "features = ['miles', 'debt', 'gender', 'sales']\n",
    "print(\"label: {}\".format(label))\n",
    "print(\"features: {}\".format(features))"
   ]
  },
  {
   "cell_type": "code",
   "execution_count": 5,
   "id": "c911ba47-96e6-49f3-bfdc-b0282abbf66d",
   "metadata": {},
   "outputs": [],
   "source": [
    "stdRatio = 0.8"
   ]
  },
  {
   "cell_type": "code",
   "execution_count": 6,
   "id": "505def0a-db32-41f5-9e87-0fce52e20241",
   "metadata": {},
   "outputs": [
    {
     "data": {
      "text/plain": [
       "770"
      ]
     },
     "execution_count": 6,
     "metadata": {},
     "output_type": "execute_result"
    }
   ],
   "source": [
    "stdIndex = int(baseData.shape[0] * stdRatio)\n",
    "stdIndex"
   ]
  },
  {
   "cell_type": "code",
   "execution_count": 7,
   "id": "eebbe2a2-8230-4f94-bbd8-61864fcc7d24",
   "metadata": {},
   "outputs": [],
   "source": [
    "trainFeat = baseData.loc[0:stdIndex, features]\n",
    "trainLabel = baseData.loc[0:stdIndex, label]\n",
    "testFeat = baseData.loc[stdIndex:, features]\n",
    "testLabel = baseData.loc[stdIndex:, label]"
   ]
  },
  {
   "cell_type": "code",
   "execution_count": 8,
   "id": "d686dfe3-f727-428b-ae30-b00b8f4147a5",
   "metadata": {},
   "outputs": [
    {
     "name": "stdout",
     "output_type": "stream",
     "text": [
      "(771, 4)\n",
      "(771, 1)\n",
      "(193, 4)\n",
      "(193, 1)\n"
     ]
    }
   ],
   "source": [
    "print(trainFeat.shape)\n",
    "print(trainLabel.shape)\n",
    "print(testFeat.shape)\n",
    "print(testLabel.shape)"
   ]
  },
  {
   "cell_type": "code",
   "execution_count": 9,
   "id": "31f5d5f2-af8b-4ddb-a788-775ab186a279",
   "metadata": {},
   "outputs": [],
   "source": [
    "# 모델 불러오기\n",
    "from tensorflow.keras.models import model_from_json "
   ]
  },
  {
   "cell_type": "code",
   "execution_count": 10,
   "id": "c4b89b71-f921-4765-9238-6c32bfc07683",
   "metadata": {},
   "outputs": [],
   "source": [
    "json_file = open(\"model.json\", \"r\") \n",
    "loaded_model_json = json_file.read() \n",
    "json_file.close() \n",
    "\n",
    "loaded_model = model_from_json(loaded_model_json)\n",
    "\n",
    "loaded_model.load_weights(\"linear_keras_sellout.h5\") "
   ]
  },
  {
   "cell_type": "code",
   "execution_count": 11,
   "id": "0173cbb5-cf4b-43fd-8591-f93830822e32",
   "metadata": {},
   "outputs": [],
   "source": [
    "# 모델 재 컴파일\n",
    "loaded_model.compile(loss='mean_squared_error',\n",
    "                optimizer='adam',\n",
    "                metrics=['mean_absolute_error', 'mean_squared_error'])"
   ]
  },
  {
   "cell_type": "code",
   "execution_count": 12,
   "id": "45af9408-0a13-462b-b585-b0896e08df09",
   "metadata": {},
   "outputs": [
    {
     "name": "stdout",
     "output_type": "stream",
     "text": [
      "Model: \"sequential\"\n",
      "_________________________________________________________________\n",
      " Layer (type)                Output Shape              Param #   \n",
      "=================================================================\n",
      " dense (Dense)               (None, 32)                160       \n",
      "                                                                 \n",
      " dense_1 (Dense)             (None, 256)               8448      \n",
      "                                                                 \n",
      " dense_2 (Dense)             (None, 1)                 257       \n",
      "                                                                 \n",
      "=================================================================\n",
      "Total params: 8,865\n",
      "Trainable params: 8,865\n",
      "Non-trainable params: 0\n",
      "_________________________________________________________________\n"
     ]
    }
   ],
   "source": [
    "loaded_model.summary()"
   ]
  },
  {
   "cell_type": "code",
   "execution_count": 13,
   "id": "589cfaf9-64e0-472a-b267-68c63fe35a0d",
   "metadata": {},
   "outputs": [],
   "source": [
    "# 모델 재 학습\n",
    "# early_stopping_monitor = EarlyStopping(patience=50)\n",
    "EPOCHS = 100"
   ]
  },
  {
   "cell_type": "code",
   "execution_count": null,
   "id": "8ebea3d3-9405-4927-9731-6f251a4a1a50",
   "metadata": {
    "scrolled": true,
    "tags": []
   },
   "outputs": [
    {
     "name": "stdout",
     "output_type": "stream",
     "text": [
      "Epoch 1/100\n",
      " 1/20 [>.............................] - ETA: 13s - loss: 118704205463552.0000 - mean_absolute_error: 9119734.0000 - mean_squared_error: 118704205463552.0000"
     ]
    }
   ],
   "source": [
    "#모델 훈련 (훈련/검증을 80%, 20%로 나눔)\n",
    "history = loaded_model.fit(trainFeat,\n",
    "                   trainLabel, \n",
    "                   validation_split=0.2, epochs= EPOCHS)#, callbacks=[early_stopping_monitor])"
   ]
  },
  {
   "cell_type": "code",
   "execution_count": null,
   "id": "20e358c5-7c04-43ae-84f5-8bf029a2ee6d",
   "metadata": {},
   "outputs": [],
   "source": [
    "features"
   ]
  },
  {
   "cell_type": "code",
   "execution_count": null,
   "id": "c88a89e8-5afb-40d9-8a24-a695fde2ccb8",
   "metadata": {},
   "outputs": [],
   "source": [
    "label"
   ]
  },
  {
   "cell_type": "code",
   "execution_count": null,
   "id": "674ddf7b-bdf5-4b04-a24b-dc3e733bef05",
   "metadata": {},
   "outputs": [],
   "source": [
    "print(min(baseData.debt.drop_duplicates()))\n",
    "print(max(baseData.debt.drop_duplicates()))"
   ]
  },
  {
   "cell_type": "code",
   "execution_count": null,
   "id": "32ac24da-d7d8-4afc-bc21-1773f01f8141",
   "metadata": {},
   "outputs": [],
   "source": [
    "# 10~97\n",
    "inMiles = 97\n",
    "# 0~59770\n",
    "inDebt = 0\n",
    "# 0,1\n",
    "inGender = 1\n",
    "# 500~29926\n",
    "inSales = 29926"
   ]
  },
  {
   "cell_type": "code",
   "execution_count": null,
   "id": "a3189d85-a17d-41e7-8f4a-168aca1ab3ec",
   "metadata": {},
   "outputs": [],
   "source": [
    "testDf = pd.DataFrame([[inMiles,inDebt,inGender,inSales]])\n",
    "testDf"
   ]
  },
  {
   "cell_type": "code",
   "execution_count": null,
   "id": "7faadb21-aed4-44e9-98bc-2e4ca32d9a52",
   "metadata": {},
   "outputs": [],
   "source": [
    "loaded_model.predict(testDf)"
   ]
  },
  {
   "cell_type": "code",
   "execution_count": null,
   "id": "186c1860-0b16-41f1-bc25-283b547a2de0",
   "metadata": {},
   "outputs": [],
   "source": [
    "import math\n",
    "# 정확도 추론\n",
    "loss, accuracy = model.evaluate(testData_features, testData_label, verbose=1)\n",
    "print(loss)\n",
    "print(accuracy)"
   ]
  },
  {
   "cell_type": "code",
   "execution_count": null,
   "id": "b16a0afb-f675-417c-b864-ac308e9458c9",
   "metadata": {},
   "outputs": [],
   "source": []
  }
 ],
 "metadata": {
  "kernelspec": {
   "display_name": "Python 3 (ipykernel)",
   "language": "python",
   "name": "python3"
  },
  "language_info": {
   "codemirror_mode": {
    "name": "ipython",
    "version": 3
   },
   "file_extension": ".py",
   "mimetype": "text/x-python",
   "name": "python",
   "nbconvert_exporter": "python",
   "pygments_lexer": "ipython3",
   "version": "3.9.13"
  }
 },
 "nbformat": 4,
 "nbformat_minor": 5
}
