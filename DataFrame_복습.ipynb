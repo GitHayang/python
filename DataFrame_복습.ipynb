{
 "cells": [
  {
   "cell_type": "markdown",
   "id": "4dfeb390-6093-4a06-8d19-fd94bfc22789",
   "metadata": {},
   "source": [
    "# DataFrame 복습"
   ]
  },
  {
   "cell_type": "code",
   "execution_count": 4,
   "id": "4d746c0c-49bc-46ce-8bf9-726f16f2e0d7",
   "metadata": {},
   "outputs": [
    {
     "data": {
      "text/html": [
       "<div>\n",
       "<style scoped>\n",
       "    .dataframe tbody tr th:only-of-type {\n",
       "        vertical-align: middle;\n",
       "    }\n",
       "\n",
       "    .dataframe tbody tr th {\n",
       "        vertical-align: top;\n",
       "    }\n",
       "\n",
       "    .dataframe thead th {\n",
       "        text-align: right;\n",
       "    }\n",
       "</style>\n",
       "<table border=\"1\" class=\"dataframe\">\n",
       "  <thead>\n",
       "    <tr style=\"text-align: right;\">\n",
       "      <th></th>\n",
       "      <th>나라</th>\n",
       "      <th>언어</th>\n",
       "    </tr>\n",
       "  </thead>\n",
       "  <tbody>\n",
       "    <tr>\n",
       "      <th>0</th>\n",
       "      <td>한국</td>\n",
       "      <td>한국어</td>\n",
       "    </tr>\n",
       "    <tr>\n",
       "      <th>1</th>\n",
       "      <td>미국</td>\n",
       "      <td>영어</td>\n",
       "    </tr>\n",
       "  </tbody>\n",
       "</table>\n",
       "</div>"
      ],
      "text/plain": [
       "   나라   언어\n",
       "0  한국  한국어\n",
       "1  미국   영어"
      ]
     },
     "execution_count": 4,
     "metadata": {},
     "output_type": "execute_result"
    }
   ],
   "source": [
    "# 열병함\n",
    "import pandas as pd\n",
    "row1 = [\"한국\",\"한국어\"]\n",
    "row2 = [\"미국\",\"영어\"]\n",
    "\n",
    "# 칼럼의 갯수를 맞춰줘야한다.\n",
    "finalRow= pd.DataFrame([row1,row2],columns=[\"나라\",\"언어\"])\n",
    "finalRow"
   ]
  },
  {
   "cell_type": "code",
   "execution_count": 5,
   "id": "7070c444-d11c-4c6a-a210-18b896e4ba17",
   "metadata": {},
   "outputs": [
    {
     "data": {
      "text/html": [
       "<div>\n",
       "<style scoped>\n",
       "    .dataframe tbody tr th:only-of-type {\n",
       "        vertical-align: middle;\n",
       "    }\n",
       "\n",
       "    .dataframe tbody tr th {\n",
       "        vertical-align: top;\n",
       "    }\n",
       "\n",
       "    .dataframe thead th {\n",
       "        text-align: right;\n",
       "    }\n",
       "</style>\n",
       "<table border=\"1\" class=\"dataframe\">\n",
       "  <thead>\n",
       "    <tr style=\"text-align: right;\">\n",
       "      <th></th>\n",
       "      <th>생년</th>\n",
       "      <th>이름</th>\n",
       "      <th>지역</th>\n",
       "    </tr>\n",
       "  </thead>\n",
       "  <tbody>\n",
       "    <tr>\n",
       "      <th>0</th>\n",
       "      <td>1998</td>\n",
       "      <td>1972</td>\n",
       "      <td>1988</td>\n",
       "    </tr>\n",
       "    <tr>\n",
       "      <th>1</th>\n",
       "      <td>코끼리</td>\n",
       "      <td>강아지</td>\n",
       "      <td>고양이</td>\n",
       "    </tr>\n",
       "    <tr>\n",
       "      <th>2</th>\n",
       "      <td>울산</td>\n",
       "      <td>서울</td>\n",
       "      <td>부산</td>\n",
       "    </tr>\n",
       "  </tbody>\n",
       "</table>\n",
       "</div>"
      ],
      "text/plain": [
       "     생년    이름    지역\n",
       "0  1998  1972  1988\n",
       "1   코끼리   강아지   고양이\n",
       "2    울산    서울    부산"
      ]
     },
     "execution_count": 5,
     "metadata": {},
     "output_type": "execute_result"
    }
   ],
   "source": [
    "#칼럼 병합\n",
    "import pandas as pd\n",
    "list1 = [1998,\"코끼리\",\"울산\"]\n",
    "list2 = [1972,\"강아지\",\"서울\"]\n",
    "list3 = [1988,\"고양이\",\"부산\"]\n",
    "\n",
    "finalCol = pd.DataFrame(zip(list1,list2,list3),columns=[\"생년\",\"이름\",\"지역\"])\n",
    "finalCol"
   ]
  }
 ],
 "metadata": {
  "kernelspec": {
   "display_name": "Python 3 (ipykernel)",
   "language": "python",
   "name": "python3"
  },
  "language_info": {
   "codemirror_mode": {
    "name": "ipython",
    "version": 3
   },
   "file_extension": ".py",
   "mimetype": "text/x-python",
   "name": "python",
   "nbconvert_exporter": "python",
   "pygments_lexer": "ipython3",
   "version": "3.9.13"
  }
 },
 "nbformat": 4,
 "nbformat_minor": 5
}
