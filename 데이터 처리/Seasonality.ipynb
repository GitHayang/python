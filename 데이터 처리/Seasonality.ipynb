{
 "cells": [
  {
   "cell_type": "code",
   "execution_count": 31,
   "id": "45d8707b-da78-4d9a-9b26-beee60a6ff0d",
   "metadata": {
    "tags": []
   },
   "outputs": [],
   "source": [
    "import pandas as pd\n",
    "from statistics import mean, median, stdev\n",
    "\n",
    "#오류 메세지도 가린다\n",
    "# import warnings\n",
    "# warnings.filterwarnings('ignore')"
   ]
  },
  {
   "cell_type": "code",
   "execution_count": 32,
   "id": "d4c25ff1-5574-4237-a8b9-a0a00c7acac6",
   "metadata": {},
   "outputs": [
    {
     "data": {
      "text/html": [
       "<div>\n",
       "<style scoped>\n",
       "    .dataframe tbody tr th:only-of-type {\n",
       "        vertical-align: middle;\n",
       "    }\n",
       "\n",
       "    .dataframe tbody tr th {\n",
       "        vertical-align: top;\n",
       "    }\n",
       "\n",
       "    .dataframe thead th {\n",
       "        text-align: right;\n",
       "    }\n",
       "</style>\n",
       "<table border=\"1\" class=\"dataframe\">\n",
       "  <thead>\n",
       "    <tr style=\"text-align: right;\">\n",
       "      <th></th>\n",
       "      <th>REGIONID</th>\n",
       "      <th>PRODUCT</th>\n",
       "      <th>YEARWEEK</th>\n",
       "      <th>QTY</th>\n",
       "    </tr>\n",
       "  </thead>\n",
       "  <tbody>\n",
       "    <tr>\n",
       "      <th>0</th>\n",
       "      <td>A60</td>\n",
       "      <td>PRODUCT4</td>\n",
       "      <td>201402</td>\n",
       "      <td>71.0</td>\n",
       "    </tr>\n",
       "    <tr>\n",
       "      <th>1</th>\n",
       "      <td>A60</td>\n",
       "      <td>PRODUCT59</td>\n",
       "      <td>201402</td>\n",
       "      <td>22275.0</td>\n",
       "    </tr>\n",
       "    <tr>\n",
       "      <th>2</th>\n",
       "      <td>A60</td>\n",
       "      <td>PRODUCT34</td>\n",
       "      <td>201402</td>\n",
       "      <td>4463.0</td>\n",
       "    </tr>\n",
       "    <tr>\n",
       "      <th>3</th>\n",
       "      <td>A60</td>\n",
       "      <td>PRODUCT47</td>\n",
       "      <td>201402</td>\n",
       "      <td>0.0</td>\n",
       "    </tr>\n",
       "    <tr>\n",
       "      <th>4</th>\n",
       "      <td>A60</td>\n",
       "      <td>PRODUCT56</td>\n",
       "      <td>201402</td>\n",
       "      <td>23.0</td>\n",
       "    </tr>\n",
       "  </tbody>\n",
       "</table>\n",
       "</div>"
      ],
      "text/plain": [
       "  REGIONID    PRODUCT  YEARWEEK      QTY\n",
       "0      A60   PRODUCT4    201402     71.0\n",
       "1      A60  PRODUCT59    201402  22275.0\n",
       "2      A60  PRODUCT34    201402   4463.0\n",
       "3      A60  PRODUCT47    201402      0.0\n",
       "4      A60  PRODUCT56    201402     23.0"
      ]
     },
     "execution_count": 32,
     "metadata": {},
     "output_type": "execute_result"
    }
   ],
   "source": [
    "selloutData = pd.read_csv(\"../dataset/kopo_channel_seasonality_new.csv\")\n",
    "selloutData.head()"
   ]
  },
  {
   "cell_type": "code",
   "execution_count": 33,
   "id": "ff574158-63e1-4f08-83b8-5303b07150c4",
   "metadata": {},
   "outputs": [
    {
     "data": {
      "text/plain": [
       "REGIONID     object\n",
       "PRODUCT      object\n",
       "YEARWEEK      int64\n",
       "QTY         float64\n",
       "dtype: object"
      ]
     },
     "execution_count": 33,
     "metadata": {},
     "output_type": "execute_result"
    }
   ],
   "source": [
    "selloutData.dtypes"
   ]
  },
  {
   "cell_type": "code",
   "execution_count": 34,
   "id": "c5af0f5e-52d4-419f-84cf-efb722e9fafe",
   "metadata": {},
   "outputs": [
    {
     "data": {
      "text/plain": [
       "['REGIONID', 'PRODUCT', 'YEARWEEK', 'QTY']"
      ]
     },
     "execution_count": 34,
     "metadata": {},
     "output_type": "execute_result"
    }
   ],
   "source": [
    "dataCol = list(selloutData.columns)\n",
    "dataCol"
   ]
  },
  {
   "cell_type": "code",
   "execution_count": 35,
   "id": "24f75c76-5abc-4159-a155-1e90db4cd824",
   "metadata": {},
   "outputs": [
    {
     "name": "stdout",
     "output_type": "stream",
     "text": [
      "could not convert string to float: 'A60'\n",
      "could not convert string to float: 'PRODUCT4'\n",
      "REGIONID     object\n",
      "PRODUCT      object\n",
      "YEARWEEK     object\n",
      "QTY         float64\n",
      "dtype: object\n"
     ]
    }
   ],
   "source": [
    "# 1안\n",
    "\n",
    "for i in range(0,len(dataCol)):\n",
    "    try:\n",
    "        selloutData[dataCol[i]] = selloutData[dataCol[i]].astype(float)\n",
    "    except Exception as e:\n",
    "        print(e)\n",
    "selloutData['YEARWEEK'] = selloutData['YEARWEEK'].astype(str)\n",
    "print(selloutData.dtypes)"
   ]
  },
  {
   "cell_type": "raw",
   "id": "131698df-75cb-4b91-b761-6b63b952367f",
   "metadata": {},
   "source": [
    "# 2안\n",
    "\n",
    "selloutData.REGIONID = selloutData.REGIONID.astype(str)\n",
    "selloutData.PRODUCT = selloutData.PRODUCT.astype(str)\n",
    "selloutData.YEARWEEK = selloutData.YEARWEEK.astype(str)\n",
    "selloutData.QTY = selloutData.QTY.astype(float)\n",
    "print(selloutData.dtypes)\n",
    "print(selloutData.shape)\n",
    "selloutData.head()"
   ]
  },
  {
   "cell_type": "code",
   "execution_count": 36,
   "id": "eea37827-c9ca-4f93-879e-f494bd3374ea",
   "metadata": {},
   "outputs": [
    {
     "data": {
      "text/html": [
       "<div>\n",
       "<style scoped>\n",
       "    .dataframe tbody tr th:only-of-type {\n",
       "        vertical-align: middle;\n",
       "    }\n",
       "\n",
       "    .dataframe tbody tr th {\n",
       "        vertical-align: top;\n",
       "    }\n",
       "\n",
       "    .dataframe thead th {\n",
       "        text-align: right;\n",
       "    }\n",
       "</style>\n",
       "<table border=\"1\" class=\"dataframe\">\n",
       "  <thead>\n",
       "    <tr style=\"text-align: right;\">\n",
       "      <th></th>\n",
       "      <th>QTY</th>\n",
       "    </tr>\n",
       "  </thead>\n",
       "  <tbody>\n",
       "    <tr>\n",
       "      <th>count</th>\n",
       "      <td>1.246580e+05</td>\n",
       "    </tr>\n",
       "    <tr>\n",
       "      <th>mean</th>\n",
       "      <td>8.949287e+03</td>\n",
       "    </tr>\n",
       "    <tr>\n",
       "      <th>std</th>\n",
       "      <td>4.294973e+04</td>\n",
       "    </tr>\n",
       "    <tr>\n",
       "      <th>min</th>\n",
       "      <td>-3.640000e+02</td>\n",
       "    </tr>\n",
       "    <tr>\n",
       "      <th>25%</th>\n",
       "      <td>3.200000e+01</td>\n",
       "    </tr>\n",
       "    <tr>\n",
       "      <th>50%</th>\n",
       "      <td>2.820000e+02</td>\n",
       "    </tr>\n",
       "    <tr>\n",
       "      <th>75%</th>\n",
       "      <td>2.223000e+03</td>\n",
       "    </tr>\n",
       "    <tr>\n",
       "      <th>max</th>\n",
       "      <td>1.663206e+06</td>\n",
       "    </tr>\n",
       "  </tbody>\n",
       "</table>\n",
       "</div>"
      ],
      "text/plain": [
       "                QTY\n",
       "count  1.246580e+05\n",
       "mean   8.949287e+03\n",
       "std    4.294973e+04\n",
       "min   -3.640000e+02\n",
       "25%    3.200000e+01\n",
       "50%    2.820000e+02\n",
       "75%    2.223000e+03\n",
       "max    1.663206e+06"
      ]
     },
     "execution_count": 36,
     "metadata": {},
     "output_type": "execute_result"
    }
   ],
   "source": [
    "selloutData.describe()"
   ]
  },
  {
   "cell_type": "code",
   "execution_count": 37,
   "id": "3e323165-24b8-4b95-9c9a-5ca4d3af3e84",
   "metadata": {},
   "outputs": [
    {
     "name": "stdout",
     "output_type": "stream",
     "text": [
      "(10515, 4)\n",
      "(323, 4)\n"
     ]
    }
   ],
   "source": [
    "# 이미 0인게 있다.\n",
    "print(selloutData.loc[selloutData.QTY==0].shape)\n",
    "print(selloutData.loc[selloutData.QTY<0].shape)"
   ]
  },
  {
   "cell_type": "code",
   "execution_count": 38,
   "id": "27256888-bb2b-4d7d-8016-1bdd28708797",
   "metadata": {
    "tags": []
   },
   "outputs": [],
   "source": [
    "# -인 값은 오류를 산출할 수 있으니 0으로 바꾼다.\n",
    "selloutData.loc[selloutData[\"QTY\"] < 0, \"QTY\"] = 0"
   ]
  },
  {
   "cell_type": "code",
   "execution_count": 39,
   "id": "673f1a77-9e61-49c3-9406-1a3568f2ee38",
   "metadata": {
    "tags": []
   },
   "outputs": [
    {
     "name": "stdout",
     "output_type": "stream",
     "text": [
      "(124658, 4)\n"
     ]
    }
   ],
   "source": [
    "#전체 갯수\n",
    "print(selloutData.loc[selloutData.QTY>=0].shape)"
   ]
  },
  {
   "cell_type": "code",
   "execution_count": 40,
   "id": "f19e3d92-5c69-401a-8b28-435e6e051d62",
   "metadata": {
    "tags": []
   },
   "outputs": [
    {
     "name": "stdout",
     "output_type": "stream",
     "text": [
      "(10838, 4)\n",
      "(113820, 4)\n"
     ]
    }
   ],
   "source": [
    "# 몇개인지 확인, 기존에 0개였던 것과 0으로 바꾼 음수가 합쳐졌다\n",
    "print(selloutData.loc[selloutData.QTY==0].shape)\n",
    "\n",
    "# 0보다 큰건 몇개인지 확인\n",
    "print(selloutData.loc[selloutData.QTY>0].shape)"
   ]
  },
  {
   "cell_type": "code",
   "execution_count": 41,
   "id": "f0b1c545-e08b-4d3c-ac03-3a2b5a4c369b",
   "metadata": {},
   "outputs": [],
   "source": [
    "#칼럼 조회 : 인덱스 전체 조회 후 칼럼명\n",
    "REGIONID_DATA = selloutData.loc[:,[\"REGIONID\"]]\n",
    "PRODUCT_DATA = selloutData.loc[:,[\"PRODUCT\"]]\n",
    "YEARWEEK_DATA = selloutData.loc[:,[\"YEARWEEK\"]]\n",
    "QTY_DATA = selloutData.loc[:,[\"QTY\"]]"
   ]
  },
  {
   "cell_type": "code",
   "execution_count": 42,
   "id": "08e746f4-7b5b-4a5a-949d-276d743cea42",
   "metadata": {},
   "outputs": [
    {
     "data": {
      "text/html": [
       "<div>\n",
       "<style scoped>\n",
       "    .dataframe tbody tr th:only-of-type {\n",
       "        vertical-align: middle;\n",
       "    }\n",
       "\n",
       "    .dataframe tbody tr th {\n",
       "        vertical-align: top;\n",
       "    }\n",
       "\n",
       "    .dataframe thead th {\n",
       "        text-align: right;\n",
       "    }\n",
       "</style>\n",
       "<table border=\"1\" class=\"dataframe\">\n",
       "  <thead>\n",
       "    <tr style=\"text-align: right;\">\n",
       "      <th></th>\n",
       "      <th>REGIONID</th>\n",
       "      <th>PRODUCT</th>\n",
       "      <th>YEARWEEK</th>\n",
       "      <th>QTY</th>\n",
       "      <th>MA</th>\n",
       "    </tr>\n",
       "  </thead>\n",
       "  <tbody>\n",
       "    <tr>\n",
       "      <th>0</th>\n",
       "      <td>A60</td>\n",
       "      <td>PRODUCT4</td>\n",
       "      <td>201402.0</td>\n",
       "      <td>71.0</td>\n",
       "      <td>4004.571</td>\n",
       "    </tr>\n",
       "    <tr>\n",
       "      <th>1</th>\n",
       "      <td>A60</td>\n",
       "      <td>PRODUCT59</td>\n",
       "      <td>201402.0</td>\n",
       "      <td>22275.0</td>\n",
       "      <td>3504.875</td>\n",
       "    </tr>\n",
       "    <tr>\n",
       "      <th>2</th>\n",
       "      <td>A60</td>\n",
       "      <td>PRODUCT34</td>\n",
       "      <td>201402.0</td>\n",
       "      <td>4463.0</td>\n",
       "      <td>3126.667</td>\n",
       "    </tr>\n",
       "    <tr>\n",
       "      <th>3</th>\n",
       "      <td>A60</td>\n",
       "      <td>PRODUCT47</td>\n",
       "      <td>201402.0</td>\n",
       "      <td>0.0</td>\n",
       "      <td>2847.600</td>\n",
       "    </tr>\n",
       "    <tr>\n",
       "      <th>4</th>\n",
       "      <td>A60</td>\n",
       "      <td>PRODUCT56</td>\n",
       "      <td>201402.0</td>\n",
       "      <td>23.0</td>\n",
       "      <td>2588.727</td>\n",
       "    </tr>\n",
       "    <tr>\n",
       "      <th>...</th>\n",
       "      <td>...</td>\n",
       "      <td>...</td>\n",
       "      <td>...</td>\n",
       "      <td>...</td>\n",
       "      <td>...</td>\n",
       "    </tr>\n",
       "    <tr>\n",
       "      <th>124653</th>\n",
       "      <td>A10</td>\n",
       "      <td>PRODUCT60</td>\n",
       "      <td>201630.0</td>\n",
       "      <td>824.0</td>\n",
       "      <td>25945.000</td>\n",
       "    </tr>\n",
       "    <tr>\n",
       "      <th>124654</th>\n",
       "      <td>A10</td>\n",
       "      <td>PRODUCT56</td>\n",
       "      <td>201630.0</td>\n",
       "      <td>275.0</td>\n",
       "      <td>28238.300</td>\n",
       "    </tr>\n",
       "    <tr>\n",
       "      <th>124655</th>\n",
       "      <td>A10</td>\n",
       "      <td>PRODUCT61</td>\n",
       "      <td>201630.0</td>\n",
       "      <td>0.0</td>\n",
       "      <td>31350.222</td>\n",
       "    </tr>\n",
       "    <tr>\n",
       "      <th>124656</th>\n",
       "      <td>A10</td>\n",
       "      <td>PRODUCT12</td>\n",
       "      <td>201630.0</td>\n",
       "      <td>15021.0</td>\n",
       "      <td>6391.000</td>\n",
       "    </tr>\n",
       "    <tr>\n",
       "      <th>124657</th>\n",
       "      <td>A10</td>\n",
       "      <td>PRODUCT1</td>\n",
       "      <td>201630.0</td>\n",
       "      <td>568.0</td>\n",
       "      <td>2384.571</td>\n",
       "    </tr>\n",
       "  </tbody>\n",
       "</table>\n",
       "<p>124658 rows × 5 columns</p>\n",
       "</div>"
      ],
      "text/plain": [
       "       REGIONID    PRODUCT  YEARWEEK      QTY         MA\n",
       "0           A60   PRODUCT4  201402.0     71.0   4004.571\n",
       "1           A60  PRODUCT59  201402.0  22275.0   3504.875\n",
       "2           A60  PRODUCT34  201402.0   4463.0   3126.667\n",
       "3           A60  PRODUCT47  201402.0      0.0   2847.600\n",
       "4           A60  PRODUCT56  201402.0     23.0   2588.727\n",
       "...         ...        ...       ...      ...        ...\n",
       "124653      A10  PRODUCT60  201630.0    824.0  25945.000\n",
       "124654      A10  PRODUCT56  201630.0    275.0  28238.300\n",
       "124655      A10  PRODUCT61  201630.0      0.0  31350.222\n",
       "124656      A10  PRODUCT12  201630.0  15021.0   6391.000\n",
       "124657      A10   PRODUCT1  201630.0    568.0   2384.571\n",
       "\n",
       "[124658 rows x 5 columns]"
      ]
     },
     "execution_count": 42,
     "metadata": {},
     "output_type": "execute_result"
    }
   ],
   "source": [
    "# rolling을 이용하면 이동평균을 구해준다\n",
    "# min_periods : 계산할 값의 최소 개수\n",
    "# center=True : 현재 값을 중심으로 연산할지\n",
    "selloutData[\"MA\"] = round(selloutData.QTY.rolling(window=13, min_periods=1 ,center=True).mean(),3)\n",
    "selloutData"
   ]
  },
  {
   "cell_type": "raw",
   "id": "c4e9e82c-f98d-428e-b353-e9707f708463",
   "metadata": {},
   "source": [
    "#CR을 만들기 위한 로직\n",
    "selloutData[\"CR\"] = round(stdev(selloutData.MA),3)\n",
    "# 현재 모든 값의 표준편차\n",
    "\n",
    "#CR을 만들기 위한 로직\n",
    "for i in range(0,len(selloutData)):\n",
    "    try:\n",
    "        if(i<2):\n",
    "            selloutData[\"CR\"][i] = round(stdev(selloutData.MA[0:i+3]),3)\n",
    "        elif(i>=len(selloutData)-2):\n",
    "            selloutData[\"CR\"][i] = round(stdev(selloutData.MA[i-2:i+2]),3)\n",
    "            # 마지막 값은 오버나도 에러 안 뜬다\n",
    "        else:\n",
    "            selloutData[\"CR\"][i] = round(stdev(selloutData.MA[i-2:i+3]),3)\n",
    "    except Exception as e:\n",
    "        e\n",
    "selloutData"
   ]
  },
  {
   "cell_type": "code",
   "execution_count": 43,
   "id": "1961b325-f1f0-4504-854a-d95d445c62eb",
   "metadata": {},
   "outputs": [
    {
     "data": {
      "text/html": [
       "<div>\n",
       "<style scoped>\n",
       "    .dataframe tbody tr th:only-of-type {\n",
       "        vertical-align: middle;\n",
       "    }\n",
       "\n",
       "    .dataframe tbody tr th {\n",
       "        vertical-align: top;\n",
       "    }\n",
       "\n",
       "    .dataframe thead th {\n",
       "        text-align: right;\n",
       "    }\n",
       "</style>\n",
       "<table border=\"1\" class=\"dataframe\">\n",
       "  <thead>\n",
       "    <tr style=\"text-align: right;\">\n",
       "      <th></th>\n",
       "      <th>REGIONID</th>\n",
       "      <th>PRODUCT</th>\n",
       "      <th>YEARWEEK</th>\n",
       "      <th>QTY</th>\n",
       "      <th>MA</th>\n",
       "      <th>CR</th>\n",
       "    </tr>\n",
       "  </thead>\n",
       "  <tbody>\n",
       "    <tr>\n",
       "      <th>0</th>\n",
       "      <td>A60</td>\n",
       "      <td>PRODUCT4</td>\n",
       "      <td>201402.0</td>\n",
       "      <td>71.0</td>\n",
       "      <td>4004.571</td>\n",
       "      <td>440.351</td>\n",
       "    </tr>\n",
       "    <tr>\n",
       "      <th>1</th>\n",
       "      <td>A60</td>\n",
       "      <td>PRODUCT59</td>\n",
       "      <td>201402.0</td>\n",
       "      <td>22275.0</td>\n",
       "      <td>3504.875</td>\n",
       "      <td>500.993</td>\n",
       "    </tr>\n",
       "    <tr>\n",
       "      <th>2</th>\n",
       "      <td>A60</td>\n",
       "      <td>PRODUCT34</td>\n",
       "      <td>201402.0</td>\n",
       "      <td>4463.0</td>\n",
       "      <td>3126.667</td>\n",
       "      <td>557.327</td>\n",
       "    </tr>\n",
       "    <tr>\n",
       "      <th>3</th>\n",
       "      <td>A60</td>\n",
       "      <td>PRODUCT47</td>\n",
       "      <td>201402.0</td>\n",
       "      <td>0.0</td>\n",
       "      <td>2847.600</td>\n",
       "      <td>367.726</td>\n",
       "    </tr>\n",
       "    <tr>\n",
       "      <th>4</th>\n",
       "      <td>A60</td>\n",
       "      <td>PRODUCT56</td>\n",
       "      <td>201402.0</td>\n",
       "      <td>23.0</td>\n",
       "      <td>2588.727</td>\n",
       "      <td>290.077</td>\n",
       "    </tr>\n",
       "    <tr>\n",
       "      <th>...</th>\n",
       "      <td>...</td>\n",
       "      <td>...</td>\n",
       "      <td>...</td>\n",
       "      <td>...</td>\n",
       "      <td>...</td>\n",
       "      <td>...</td>\n",
       "    </tr>\n",
       "    <tr>\n",
       "      <th>124653</th>\n",
       "      <td>A10</td>\n",
       "      <td>PRODUCT60</td>\n",
       "      <td>201630.0</td>\n",
       "      <td>824.0</td>\n",
       "      <td>25945.000</td>\n",
       "      <td>3600.100</td>\n",
       "    </tr>\n",
       "    <tr>\n",
       "      <th>124654</th>\n",
       "      <td>A10</td>\n",
       "      <td>PRODUCT56</td>\n",
       "      <td>201630.0</td>\n",
       "      <td>275.0</td>\n",
       "      <td>28238.300</td>\n",
       "      <td>9775.106</td>\n",
       "    </tr>\n",
       "    <tr>\n",
       "      <th>124655</th>\n",
       "      <td>A10</td>\n",
       "      <td>PRODUCT61</td>\n",
       "      <td>201630.0</td>\n",
       "      <td>0.0</td>\n",
       "      <td>31350.222</td>\n",
       "      <td>13426.383</td>\n",
       "    </tr>\n",
       "    <tr>\n",
       "      <th>124656</th>\n",
       "      <td>A10</td>\n",
       "      <td>PRODUCT12</td>\n",
       "      <td>201630.0</td>\n",
       "      <td>15021.0</td>\n",
       "      <td>6391.000</td>\n",
       "      <td>14813.921</td>\n",
       "    </tr>\n",
       "    <tr>\n",
       "      <th>124657</th>\n",
       "      <td>A10</td>\n",
       "      <td>PRODUCT1</td>\n",
       "      <td>201630.0</td>\n",
       "      <td>568.0</td>\n",
       "      <td>2384.571</td>\n",
       "      <td>15695.133</td>\n",
       "    </tr>\n",
       "  </tbody>\n",
       "</table>\n",
       "<p>124658 rows × 6 columns</p>\n",
       "</div>"
      ],
      "text/plain": [
       "       REGIONID    PRODUCT  YEARWEEK      QTY         MA         CR\n",
       "0           A60   PRODUCT4  201402.0     71.0   4004.571    440.351\n",
       "1           A60  PRODUCT59  201402.0  22275.0   3504.875    500.993\n",
       "2           A60  PRODUCT34  201402.0   4463.0   3126.667    557.327\n",
       "3           A60  PRODUCT47  201402.0      0.0   2847.600    367.726\n",
       "4           A60  PRODUCT56  201402.0     23.0   2588.727    290.077\n",
       "...         ...        ...       ...      ...        ...        ...\n",
       "124653      A10  PRODUCT60  201630.0    824.0  25945.000   3600.100\n",
       "124654      A10  PRODUCT56  201630.0    275.0  28238.300   9775.106\n",
       "124655      A10  PRODUCT61  201630.0      0.0  31350.222  13426.383\n",
       "124656      A10  PRODUCT12  201630.0  15021.0   6391.000  14813.921\n",
       "124657      A10   PRODUCT1  201630.0    568.0   2384.571  15695.133\n",
       "\n",
       "[124658 rows x 6 columns]"
      ]
     },
     "execution_count": 43,
     "metadata": {},
     "output_type": "execute_result"
    }
   ],
   "source": [
    "selloutData[\"CR\"] = round(selloutData.MA.rolling(window=5, min_periods=1 ,center=True).std(),3)\n",
    "selloutData"
   ]
  },
  {
   "cell_type": "code",
   "execution_count": 44,
   "id": "f0e7399b-b30f-4071-9da1-c429a54c8623",
   "metadata": {},
   "outputs": [
    {
     "name": "stderr",
     "output_type": "stream",
     "text": [
      "C:\\Users\\caose\\AppData\\Local\\Temp\\ipykernel_5904\\2317182594.py:5: SettingWithCopyWarning: \n",
      "A value is trying to be set on a copy of a slice from a DataFrame\n",
      "\n",
      "See the caveats in the documentation: https://pandas.pydata.org/pandas-docs/stable/user_guide/indexing.html#returning-a-view-versus-a-copy\n",
      "  selloutData[\"UPPER_BAND\"][i] = selloutData.CR[i] + selloutData.QTY[i]\n"
     ]
    },
    {
     "data": {
      "text/html": [
       "<div>\n",
       "<style scoped>\n",
       "    .dataframe tbody tr th:only-of-type {\n",
       "        vertical-align: middle;\n",
       "    }\n",
       "\n",
       "    .dataframe tbody tr th {\n",
       "        vertical-align: top;\n",
       "    }\n",
       "\n",
       "    .dataframe thead th {\n",
       "        text-align: right;\n",
       "    }\n",
       "</style>\n",
       "<table border=\"1\" class=\"dataframe\">\n",
       "  <thead>\n",
       "    <tr style=\"text-align: right;\">\n",
       "      <th></th>\n",
       "      <th>REGIONID</th>\n",
       "      <th>PRODUCT</th>\n",
       "      <th>YEARWEEK</th>\n",
       "      <th>QTY</th>\n",
       "      <th>MA</th>\n",
       "      <th>CR</th>\n",
       "      <th>UPPER_BAND</th>\n",
       "    </tr>\n",
       "  </thead>\n",
       "  <tbody>\n",
       "    <tr>\n",
       "      <th>0</th>\n",
       "      <td>A60</td>\n",
       "      <td>PRODUCT4</td>\n",
       "      <td>201402.0</td>\n",
       "      <td>71.0</td>\n",
       "      <td>4004.571</td>\n",
       "      <td>440.351</td>\n",
       "      <td>511.351</td>\n",
       "    </tr>\n",
       "    <tr>\n",
       "      <th>1</th>\n",
       "      <td>A60</td>\n",
       "      <td>PRODUCT59</td>\n",
       "      <td>201402.0</td>\n",
       "      <td>22275.0</td>\n",
       "      <td>3504.875</td>\n",
       "      <td>500.993</td>\n",
       "      <td>22775.993</td>\n",
       "    </tr>\n",
       "    <tr>\n",
       "      <th>2</th>\n",
       "      <td>A60</td>\n",
       "      <td>PRODUCT34</td>\n",
       "      <td>201402.0</td>\n",
       "      <td>4463.0</td>\n",
       "      <td>3126.667</td>\n",
       "      <td>557.327</td>\n",
       "      <td>5020.327</td>\n",
       "    </tr>\n",
       "    <tr>\n",
       "      <th>3</th>\n",
       "      <td>A60</td>\n",
       "      <td>PRODUCT47</td>\n",
       "      <td>201402.0</td>\n",
       "      <td>0.0</td>\n",
       "      <td>2847.600</td>\n",
       "      <td>367.726</td>\n",
       "      <td>367.726</td>\n",
       "    </tr>\n",
       "    <tr>\n",
       "      <th>4</th>\n",
       "      <td>A60</td>\n",
       "      <td>PRODUCT56</td>\n",
       "      <td>201402.0</td>\n",
       "      <td>23.0</td>\n",
       "      <td>2588.727</td>\n",
       "      <td>290.077</td>\n",
       "      <td>313.077</td>\n",
       "    </tr>\n",
       "    <tr>\n",
       "      <th>...</th>\n",
       "      <td>...</td>\n",
       "      <td>...</td>\n",
       "      <td>...</td>\n",
       "      <td>...</td>\n",
       "      <td>...</td>\n",
       "      <td>...</td>\n",
       "      <td>...</td>\n",
       "    </tr>\n",
       "    <tr>\n",
       "      <th>124653</th>\n",
       "      <td>A10</td>\n",
       "      <td>PRODUCT60</td>\n",
       "      <td>201630.0</td>\n",
       "      <td>824.0</td>\n",
       "      <td>25945.000</td>\n",
       "      <td>3600.100</td>\n",
       "      <td>4424.100</td>\n",
       "    </tr>\n",
       "    <tr>\n",
       "      <th>124654</th>\n",
       "      <td>A10</td>\n",
       "      <td>PRODUCT56</td>\n",
       "      <td>201630.0</td>\n",
       "      <td>275.0</td>\n",
       "      <td>28238.300</td>\n",
       "      <td>9775.106</td>\n",
       "      <td>10050.106</td>\n",
       "    </tr>\n",
       "    <tr>\n",
       "      <th>124655</th>\n",
       "      <td>A10</td>\n",
       "      <td>PRODUCT61</td>\n",
       "      <td>201630.0</td>\n",
       "      <td>0.0</td>\n",
       "      <td>31350.222</td>\n",
       "      <td>13426.383</td>\n",
       "      <td>13426.383</td>\n",
       "    </tr>\n",
       "    <tr>\n",
       "      <th>124656</th>\n",
       "      <td>A10</td>\n",
       "      <td>PRODUCT12</td>\n",
       "      <td>201630.0</td>\n",
       "      <td>15021.0</td>\n",
       "      <td>6391.000</td>\n",
       "      <td>14813.921</td>\n",
       "      <td>29834.921</td>\n",
       "    </tr>\n",
       "    <tr>\n",
       "      <th>124657</th>\n",
       "      <td>A10</td>\n",
       "      <td>PRODUCT1</td>\n",
       "      <td>201630.0</td>\n",
       "      <td>568.0</td>\n",
       "      <td>2384.571</td>\n",
       "      <td>15695.133</td>\n",
       "      <td>16263.133</td>\n",
       "    </tr>\n",
       "  </tbody>\n",
       "</table>\n",
       "<p>124658 rows × 7 columns</p>\n",
       "</div>"
      ],
      "text/plain": [
       "       REGIONID    PRODUCT  YEARWEEK      QTY         MA         CR  \\\n",
       "0           A60   PRODUCT4  201402.0     71.0   4004.571    440.351   \n",
       "1           A60  PRODUCT59  201402.0  22275.0   3504.875    500.993   \n",
       "2           A60  PRODUCT34  201402.0   4463.0   3126.667    557.327   \n",
       "3           A60  PRODUCT47  201402.0      0.0   2847.600    367.726   \n",
       "4           A60  PRODUCT56  201402.0     23.0   2588.727    290.077   \n",
       "...         ...        ...       ...      ...        ...        ...   \n",
       "124653      A10  PRODUCT60  201630.0    824.0  25945.000   3600.100   \n",
       "124654      A10  PRODUCT56  201630.0    275.0  28238.300   9775.106   \n",
       "124655      A10  PRODUCT61  201630.0      0.0  31350.222  13426.383   \n",
       "124656      A10  PRODUCT12  201630.0  15021.0   6391.000  14813.921   \n",
       "124657      A10   PRODUCT1  201630.0    568.0   2384.571  15695.133   \n",
       "\n",
       "        UPPER_BAND  \n",
       "0          511.351  \n",
       "1        22775.993  \n",
       "2         5020.327  \n",
       "3          367.726  \n",
       "4          313.077  \n",
       "...            ...  \n",
       "124653    4424.100  \n",
       "124654   10050.106  \n",
       "124655   13426.383  \n",
       "124656   29834.921  \n",
       "124657   16263.133  \n",
       "\n",
       "[124658 rows x 7 columns]"
      ]
     },
     "execution_count": 44,
     "metadata": {},
     "output_type": "execute_result"
    }
   ],
   "source": [
    "# UPPER_BAND만들기\n",
    "selloutData[\"UPPER_BAND\"] = selloutData.CR\n",
    "\n",
    "for i in range(0,len(selloutData)):\n",
    "    selloutData[\"UPPER_BAND\"][i] = selloutData.CR[i] + selloutData.QTY[i]\n",
    "selloutData"
   ]
  },
  {
   "cell_type": "code",
   "execution_count": null,
   "id": "fe2685b2-79e6-4dc2-9e86-651d9529968a",
   "metadata": {},
   "outputs": [
    {
     "name": "stderr",
     "output_type": "stream",
     "text": [
      "C:\\Users\\caose\\AppData\\Local\\Temp\\ipykernel_5904\\218226510.py:5: SettingWithCopyWarning: \n",
      "A value is trying to be set on a copy of a slice from a DataFrame\n",
      "\n",
      "See the caveats in the documentation: https://pandas.pydata.org/pandas-docs/stable/user_guide/indexing.html#returning-a-view-versus-a-copy\n",
      "  selloutData[\"LOWER_BAND\"][i] = selloutData.QTY[i] - selloutData.CR[i]\n"
     ]
    }
   ],
   "source": [
    "# LOWER_BAND\n",
    "selloutData[\"LOWER_BAND\"] = selloutData.CR\n",
    "\n",
    "for i in range(0,len(selloutData)):\n",
    "    selloutData[\"LOWER_BAND\"][i] = selloutData.QTY[i] - selloutData.CR[i]\n",
    "selloutData"
   ]
  },
  {
   "cell_type": "code",
   "execution_count": null,
   "id": "cf4c9f62-44d0-432b-b88f-ef54217ac07e",
   "metadata": {},
   "outputs": [],
   "source": [
    "selloutData.dtypes"
   ]
  },
  {
   "cell_type": "code",
   "execution_count": null,
   "id": "3202d74d-507a-4be2-a5bf-e8d812daa62c",
   "metadata": {},
   "outputs": [],
   "source": [
    "for i in range(0,len(selloutData)):\n",
    "    if (selloutData[\"LOWER_BAND\"][i] < 0) : \n",
    "        selloutData[\"LOWER_BAND\"][i] = 0\n",
    "selloutData"
   ]
  },
  {
   "cell_type": "code",
   "execution_count": null,
   "id": "2c17a124-70a6-4612-8117-77956c8e7ff9",
   "metadata": {},
   "outputs": [],
   "source": [
    "selloutData[\"DATA_CLEANSING\"] = 0"
   ]
  },
  {
   "cell_type": "code",
   "execution_count": null,
   "id": "8db410a2-5ac0-49df-a614-f8158f44a7ce",
   "metadata": {},
   "outputs": [],
   "source": [
    "for i in range(0,len(selloutData)):\n",
    "    if(selloutData.QTY[i]>selloutData.UPPER_BAND[i]):\n",
    "        selloutData[\"DATA_CLEANSING\"][i] = selloutData.UPPER_BAND[i]\n",
    "    elif(selloutData.QTY[i]<selloutData.LOWER_BAND[i]):        \n",
    "        selloutData[\"DATA_CLEANSING\"][i] = selloutData.LOWER_BAND[i]\n",
    "    else :\n",
    "        selloutData[\"DATA_CLEANSING\"][i] = selloutData.QTY[i]\n",
    "selloutData"
   ]
  },
  {
   "cell_type": "code",
   "execution_count": null,
   "id": "6196970f-8dfa-460b-ba3c-3b8e0088fecd",
   "metadata": {},
   "outputs": [],
   "source": [
    "selloutData[\"SMOOTHING_1\"] = round(selloutData.MA.rolling(window=5, min_periods=1 ,center=True).mean(),3)\n",
    "selloutData"
   ]
  },
  {
   "cell_type": "code",
   "execution_count": null,
   "id": "34d3a27d-e137-481d-9904-ecfbddbca58a",
   "metadata": {},
   "outputs": [],
   "source": [
    "selloutData[\"SMOOTHING_2\"] = round(selloutData.DATA_CLEANSING.rolling(window=5, min_periods=1 ,center=True).mean(),3)\n",
    "selloutData"
   ]
  },
  {
   "cell_type": "code",
   "execution_count": null,
   "id": "de39fba0-72ed-478a-9e77-88d21f335678",
   "metadata": {},
   "outputs": [],
   "source": [
    "selloutData[\"FORECAST\"] = 0\n",
    "for i in range(0,len(selloutData)):\n",
    "    selloutData[\"FORECAST\"][i] = selloutData.QTY[i] - selloutData.SMOOTHING_2[i]\n",
    "    if selloutData[\"FORECAST\"][i] < 0 :\n",
    "        selloutData[\"FORECAST\"][i] = 0 \n",
    "selloutData"
   ]
  },
  {
   "cell_type": "code",
   "execution_count": null,
   "id": "a9e5699e-dbbf-4f3c-b11a-ac62adef977b",
   "metadata": {},
   "outputs": [],
   "source": [
    "selloutData[\"FORECAST_NOTSAFE\"] = 0\n",
    "for i in range(0,len(selloutData)):\n",
    "    selloutData[\"FORECAST_NOTSAFE\"][i] = selloutData.DATA_CLEANSING[i] - selloutData.SMOOTHING_2[i]\n",
    "    if selloutData[\"FORECAST_NOTSAFE\"][i] < 0 :\n",
    "        selloutData[\"FORECAST_NOTSAFE\"][i] = 0 \n",
    "selloutData"
   ]
  },
  {
   "cell_type": "code",
   "execution_count": null,
   "id": "94286205-b496-49dc-84e3-d537e4516ba2",
   "metadata": {},
   "outputs": [],
   "source": []
  }
 ],
 "metadata": {
  "kernelspec": {
   "display_name": "Python 3 (ipykernel)",
   "language": "python",
   "name": "python3"
  },
  "language_info": {
   "codemirror_mode": {
    "name": "ipython",
    "version": 3
   },
   "file_extension": ".py",
   "mimetype": "text/x-python",
   "name": "python",
   "nbconvert_exporter": "python",
   "pygments_lexer": "ipython3",
   "version": "3.9.13"
  }
 },
 "nbformat": 4,
 "nbformat_minor": 5
}
