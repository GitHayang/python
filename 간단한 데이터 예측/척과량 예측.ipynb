{
 "cells": [
  {
   "cell_type": "code",
   "execution_count": 1,
   "id": "85f72298-17b9-4db8-a48c-3e5e3427bef4",
   "metadata": {},
   "outputs": [],
   "source": [
    "#데이터 처리 라이브러리\n",
    "import pandas as pd\n",
    "import numpy as np\n",
    "\n",
    "#머신러닝 라이브러리\n",
    "from sklearn import tree"
   ]
  },
  {
   "cell_type": "code",
   "execution_count": 2,
   "id": "f8bed0a8-63fb-40ba-a42c-6f90f617e9f2",
   "metadata": {
    "tags": []
   },
   "outputs": [],
   "source": [
    "trainData = pd.read_csv(\"../dataset/train.csv\")\n",
    "testData = pd.read_csv(\"../dataset/test.csv\")"
   ]
  },
  {
   "cell_type": "code",
   "execution_count": 3,
   "id": "ef6d5572-94f3-4f61-96a0-f485edf6dc51",
   "metadata": {
    "tags": []
   },
   "outputs": [
    {
     "data": {
      "text/html": [
       "<div>\n",
       "<style scoped>\n",
       "    .dataframe tbody tr th:only-of-type {\n",
       "        vertical-align: middle;\n",
       "    }\n",
       "\n",
       "    .dataframe tbody tr th {\n",
       "        vertical-align: top;\n",
       "    }\n",
       "\n",
       "    .dataframe thead th {\n",
       "        text-align: right;\n",
       "    }\n",
       "</style>\n",
       "<table border=\"1\" class=\"dataframe\">\n",
       "  <thead>\n",
       "    <tr style=\"text-align: right;\">\n",
       "      <th></th>\n",
       "      <th>ID</th>\n",
       "      <th>착과량(int)</th>\n",
       "      <th>수고(m)</th>\n",
       "      <th>수관폭1(min)</th>\n",
       "      <th>수관폭2(max)</th>\n",
       "      <th>수관폭평균</th>\n",
       "      <th>2022-09-01 새순</th>\n",
       "      <th>2022-09-02 새순</th>\n",
       "      <th>2022-09-03 새순</th>\n",
       "      <th>2022-09-04 새순</th>\n",
       "      <th>...</th>\n",
       "      <th>2022-11-19 엽록소</th>\n",
       "      <th>2022-11-20 엽록소</th>\n",
       "      <th>2022-11-21 엽록소</th>\n",
       "      <th>2022-11-22 엽록소</th>\n",
       "      <th>2022-11-23 엽록소</th>\n",
       "      <th>2022-11-24 엽록소</th>\n",
       "      <th>2022-11-25 엽록소</th>\n",
       "      <th>2022-11-26 엽록소</th>\n",
       "      <th>2022-11-27 엽록소</th>\n",
       "      <th>2022-11-28 엽록소</th>\n",
       "    </tr>\n",
       "  </thead>\n",
       "  <tbody>\n",
       "    <tr>\n",
       "      <th>0</th>\n",
       "      <td>TRAIN_0000</td>\n",
       "      <td>692</td>\n",
       "      <td>275.0</td>\n",
       "      <td>287.0</td>\n",
       "      <td>292.0</td>\n",
       "      <td>289.5</td>\n",
       "      <td>2.8</td>\n",
       "      <td>2.8</td>\n",
       "      <td>2.7</td>\n",
       "      <td>2.7</td>\n",
       "      <td>...</td>\n",
       "      <td>70.978249</td>\n",
       "      <td>70.876794</td>\n",
       "      <td>70.705253</td>\n",
       "      <td>70.559603</td>\n",
       "      <td>70.427356</td>\n",
       "      <td>70.340491</td>\n",
       "      <td>70.293830</td>\n",
       "      <td>70.262422</td>\n",
       "      <td>70.169841</td>\n",
       "      <td>70.043251</td>\n",
       "    </tr>\n",
       "    <tr>\n",
       "      <th>1</th>\n",
       "      <td>TRAIN_0001</td>\n",
       "      <td>534</td>\n",
       "      <td>293.0</td>\n",
       "      <td>284.0</td>\n",
       "      <td>336.0</td>\n",
       "      <td>310.0</td>\n",
       "      <td>3.3</td>\n",
       "      <td>3.3</td>\n",
       "      <td>3.3</td>\n",
       "      <td>3.2</td>\n",
       "      <td>...</td>\n",
       "      <td>71.535483</td>\n",
       "      <td>71.382303</td>\n",
       "      <td>71.253604</td>\n",
       "      <td>71.092665</td>\n",
       "      <td>70.955608</td>\n",
       "      <td>70.796630</td>\n",
       "      <td>70.597550</td>\n",
       "      <td>70.565088</td>\n",
       "      <td>70.560502</td>\n",
       "      <td>70.427600</td>\n",
       "    </tr>\n",
       "    <tr>\n",
       "      <th>2</th>\n",
       "      <td>TRAIN_0002</td>\n",
       "      <td>634</td>\n",
       "      <td>300.0</td>\n",
       "      <td>392.0</td>\n",
       "      <td>450.0</td>\n",
       "      <td>421.0</td>\n",
       "      <td>3.0</td>\n",
       "      <td>2.9</td>\n",
       "      <td>2.9</td>\n",
       "      <td>2.9</td>\n",
       "      <td>...</td>\n",
       "      <td>71.279804</td>\n",
       "      <td>71.199570</td>\n",
       "      <td>71.144020</td>\n",
       "      <td>71.026740</td>\n",
       "      <td>70.920038</td>\n",
       "      <td>70.876723</td>\n",
       "      <td>70.710129</td>\n",
       "      <td>70.595971</td>\n",
       "      <td>70.418203</td>\n",
       "      <td>70.399578</td>\n",
       "    </tr>\n",
       "    <tr>\n",
       "      <th>3</th>\n",
       "      <td>TRAIN_0003</td>\n",
       "      <td>639</td>\n",
       "      <td>289.0</td>\n",
       "      <td>368.0</td>\n",
       "      <td>379.0</td>\n",
       "      <td>373.5</td>\n",
       "      <td>3.1</td>\n",
       "      <td>3.0</td>\n",
       "      <td>3.0</td>\n",
       "      <td>3.0</td>\n",
       "      <td>...</td>\n",
       "      <td>69.934615</td>\n",
       "      <td>69.884124</td>\n",
       "      <td>69.845683</td>\n",
       "      <td>69.794682</td>\n",
       "      <td>69.779813</td>\n",
       "      <td>69.614644</td>\n",
       "      <td>69.455404</td>\n",
       "      <td>69.281590</td>\n",
       "      <td>69.238689</td>\n",
       "      <td>69.133970</td>\n",
       "    </tr>\n",
       "    <tr>\n",
       "      <th>4</th>\n",
       "      <td>TRAIN_0004</td>\n",
       "      <td>496</td>\n",
       "      <td>306.0</td>\n",
       "      <td>353.0</td>\n",
       "      <td>358.0</td>\n",
       "      <td>355.5</td>\n",
       "      <td>3.7</td>\n",
       "      <td>3.6</td>\n",
       "      <td>3.6</td>\n",
       "      <td>3.6</td>\n",
       "      <td>...</td>\n",
       "      <td>68.313016</td>\n",
       "      <td>68.285364</td>\n",
       "      <td>68.209860</td>\n",
       "      <td>68.209458</td>\n",
       "      <td>68.040083</td>\n",
       "      <td>67.859963</td>\n",
       "      <td>67.775556</td>\n",
       "      <td>67.701456</td>\n",
       "      <td>67.504244</td>\n",
       "      <td>67.410093</td>\n",
       "    </tr>\n",
       "  </tbody>\n",
       "</table>\n",
       "<p>5 rows × 184 columns</p>\n",
       "</div>"
      ],
      "text/plain": [
       "           ID  착과량(int)  수고(m)  수관폭1(min)  수관폭2(max)  수관폭평균  2022-09-01 새순  \\\n",
       "0  TRAIN_0000       692  275.0      287.0      292.0  289.5            2.8   \n",
       "1  TRAIN_0001       534  293.0      284.0      336.0  310.0            3.3   \n",
       "2  TRAIN_0002       634  300.0      392.0      450.0  421.0            3.0   \n",
       "3  TRAIN_0003       639  289.0      368.0      379.0  373.5            3.1   \n",
       "4  TRAIN_0004       496  306.0      353.0      358.0  355.5            3.7   \n",
       "\n",
       "   2022-09-02 새순  2022-09-03 새순  2022-09-04 새순  ...  2022-11-19 엽록소  \\\n",
       "0            2.8            2.7            2.7  ...       70.978249   \n",
       "1            3.3            3.3            3.2  ...       71.535483   \n",
       "2            2.9            2.9            2.9  ...       71.279804   \n",
       "3            3.0            3.0            3.0  ...       69.934615   \n",
       "4            3.6            3.6            3.6  ...       68.313016   \n",
       "\n",
       "   2022-11-20 엽록소  2022-11-21 엽록소  2022-11-22 엽록소  2022-11-23 엽록소  \\\n",
       "0       70.876794       70.705253       70.559603       70.427356   \n",
       "1       71.382303       71.253604       71.092665       70.955608   \n",
       "2       71.199570       71.144020       71.026740       70.920038   \n",
       "3       69.884124       69.845683       69.794682       69.779813   \n",
       "4       68.285364       68.209860       68.209458       68.040083   \n",
       "\n",
       "   2022-11-24 엽록소  2022-11-25 엽록소  2022-11-26 엽록소  2022-11-27 엽록소  \\\n",
       "0       70.340491       70.293830       70.262422       70.169841   \n",
       "1       70.796630       70.597550       70.565088       70.560502   \n",
       "2       70.876723       70.710129       70.595971       70.418203   \n",
       "3       69.614644       69.455404       69.281590       69.238689   \n",
       "4       67.859963       67.775556       67.701456       67.504244   \n",
       "\n",
       "   2022-11-28 엽록소  \n",
       "0       70.043251  \n",
       "1       70.427600  \n",
       "2       70.399578  \n",
       "3       69.133970  \n",
       "4       67.410093  \n",
       "\n",
       "[5 rows x 184 columns]"
      ]
     },
     "execution_count": 3,
     "metadata": {},
     "output_type": "execute_result"
    }
   ],
   "source": [
    "trainData.head()"
   ]
  },
  {
   "cell_type": "code",
   "execution_count": 4,
   "id": "cd8859d0-b4bc-4c74-be2f-64d5ac71f374",
   "metadata": {
    "tags": []
   },
   "outputs": [
    {
     "data": {
      "text/plain": [
       "ID                0\n",
       "착과량(int)          0\n",
       "수고(m)             0\n",
       "수관폭1(min)         0\n",
       "수관폭2(max)         0\n",
       "                 ..\n",
       "2022-11-24 엽록소    0\n",
       "2022-11-25 엽록소    0\n",
       "2022-11-26 엽록소    0\n",
       "2022-11-27 엽록소    0\n",
       "2022-11-28 엽록소    0\n",
       "Length: 184, dtype: int64"
      ]
     },
     "execution_count": 4,
     "metadata": {},
     "output_type": "execute_result"
    }
   ],
   "source": [
    "trainData.isnull().sum()\n",
    "# null값은 없다."
   ]
  },
  {
   "cell_type": "code",
   "execution_count": 5,
   "id": "ae3d2ca0-e661-4f75-8e7f-c0e1e481c302",
   "metadata": {
    "tags": []
   },
   "outputs": [],
   "source": [
    "corrDF = trainData.corr()\n",
    "stdCorr = 0.5\n",
    "dataCol = list(corrDF.loc[(abs(corrDF[\"착과량(int)\"])>stdCorr)&(corrDF[\"착과량(int)\"]!=1)].index)"
   ]
  },
  {
   "cell_type": "code",
   "execution_count": 6,
   "id": "6a40925e-cdee-4f59-8b69-9f89deadbd6b",
   "metadata": {
    "tags": []
   },
   "outputs": [],
   "source": [
    "# 상단에 상관성이 높은 데이터가 있지만, 본인은 수고(m),수관폭1(min),수관폭2(max),수관폭평균으로 착과량을 예측해보고 싶기에 위의 자료는 사용하지 않는다."
   ]
  },
  {
   "cell_type": "code",
   "execution_count": 7,
   "id": "8283174d-ca52-462a-a403-c2988d1885f6",
   "metadata": {},
   "outputs": [],
   "source": [
    "trainDataFeat =  trainData.iloc[:,[2,3,4,5]]\n",
    "trainDataTar =  trainData.iloc[:,[1]]"
   ]
  },
  {
   "cell_type": "code",
   "execution_count": 8,
   "id": "dba9ae0f-4c52-47a4-a94d-b4b00f8e8d9e",
   "metadata": {},
   "outputs": [
    {
     "data": {
      "text/html": [
       "<div>\n",
       "<style scoped>\n",
       "    .dataframe tbody tr th:only-of-type {\n",
       "        vertical-align: middle;\n",
       "    }\n",
       "\n",
       "    .dataframe tbody tr th {\n",
       "        vertical-align: top;\n",
       "    }\n",
       "\n",
       "    .dataframe thead th {\n",
       "        text-align: right;\n",
       "    }\n",
       "</style>\n",
       "<table border=\"1\" class=\"dataframe\">\n",
       "  <thead>\n",
       "    <tr style=\"text-align: right;\">\n",
       "      <th></th>\n",
       "      <th>착과량(int)</th>\n",
       "    </tr>\n",
       "  </thead>\n",
       "  <tbody>\n",
       "    <tr>\n",
       "      <th>0</th>\n",
       "      <td>692</td>\n",
       "    </tr>\n",
       "    <tr>\n",
       "      <th>1</th>\n",
       "      <td>534</td>\n",
       "    </tr>\n",
       "    <tr>\n",
       "      <th>2</th>\n",
       "      <td>634</td>\n",
       "    </tr>\n",
       "    <tr>\n",
       "      <th>3</th>\n",
       "      <td>639</td>\n",
       "    </tr>\n",
       "    <tr>\n",
       "      <th>4</th>\n",
       "      <td>496</td>\n",
       "    </tr>\n",
       "  </tbody>\n",
       "</table>\n",
       "</div>"
      ],
      "text/plain": [
       "   착과량(int)\n",
       "0       692\n",
       "1       534\n",
       "2       634\n",
       "3       639\n",
       "4       496"
      ]
     },
     "execution_count": 8,
     "metadata": {},
     "output_type": "execute_result"
    }
   ],
   "source": [
    "trainDataTar.head()"
   ]
  },
  {
   "cell_type": "code",
   "execution_count": 9,
   "id": "47e74c6b-e1c2-4193-81ca-01ffc20de9a0",
   "metadata": {},
   "outputs": [
    {
     "data": {
      "text/html": [
       "<div>\n",
       "<style scoped>\n",
       "    .dataframe tbody tr th:only-of-type {\n",
       "        vertical-align: middle;\n",
       "    }\n",
       "\n",
       "    .dataframe tbody tr th {\n",
       "        vertical-align: top;\n",
       "    }\n",
       "\n",
       "    .dataframe thead th {\n",
       "        text-align: right;\n",
       "    }\n",
       "</style>\n",
       "<table border=\"1\" class=\"dataframe\">\n",
       "  <thead>\n",
       "    <tr style=\"text-align: right;\">\n",
       "      <th></th>\n",
       "      <th>수고(m)</th>\n",
       "      <th>수관폭1(min)</th>\n",
       "      <th>수관폭2(max)</th>\n",
       "      <th>수관폭평균</th>\n",
       "    </tr>\n",
       "  </thead>\n",
       "  <tbody>\n",
       "    <tr>\n",
       "      <th>0</th>\n",
       "      <td>275.0</td>\n",
       "      <td>287.0</td>\n",
       "      <td>292.0</td>\n",
       "      <td>289.5</td>\n",
       "    </tr>\n",
       "    <tr>\n",
       "      <th>1</th>\n",
       "      <td>293.0</td>\n",
       "      <td>284.0</td>\n",
       "      <td>336.0</td>\n",
       "      <td>310.0</td>\n",
       "    </tr>\n",
       "    <tr>\n",
       "      <th>2</th>\n",
       "      <td>300.0</td>\n",
       "      <td>392.0</td>\n",
       "      <td>450.0</td>\n",
       "      <td>421.0</td>\n",
       "    </tr>\n",
       "    <tr>\n",
       "      <th>3</th>\n",
       "      <td>289.0</td>\n",
       "      <td>368.0</td>\n",
       "      <td>379.0</td>\n",
       "      <td>373.5</td>\n",
       "    </tr>\n",
       "    <tr>\n",
       "      <th>4</th>\n",
       "      <td>306.0</td>\n",
       "      <td>353.0</td>\n",
       "      <td>358.0</td>\n",
       "      <td>355.5</td>\n",
       "    </tr>\n",
       "  </tbody>\n",
       "</table>\n",
       "</div>"
      ],
      "text/plain": [
       "   수고(m)  수관폭1(min)  수관폭2(max)  수관폭평균\n",
       "0  275.0      287.0      292.0  289.5\n",
       "1  293.0      284.0      336.0  310.0\n",
       "2  300.0      392.0      450.0  421.0\n",
       "3  289.0      368.0      379.0  373.5\n",
       "4  306.0      353.0      358.0  355.5"
      ]
     },
     "execution_count": 9,
     "metadata": {},
     "output_type": "execute_result"
    }
   ],
   "source": [
    "trainDataFeat.head()"
   ]
  },
  {
   "cell_type": "code",
   "execution_count": 10,
   "id": "341dcf31-8b2d-4500-b23b-4dbda279a14b",
   "metadata": {},
   "outputs": [],
   "source": [
    "# null값 확인"
   ]
  },
  {
   "cell_type": "code",
   "execution_count": 11,
   "id": "f3fb16bf-9e1e-4c3d-8f39-a9229cb0e879",
   "metadata": {},
   "outputs": [
    {
     "data": {
      "text/plain": [
       "수고(m)        0\n",
       "수관폭1(min)    0\n",
       "수관폭2(max)    0\n",
       "수관폭평균        0\n",
       "dtype: int64"
      ]
     },
     "execution_count": 11,
     "metadata": {},
     "output_type": "execute_result"
    }
   ],
   "source": [
    "trainDataFeat.isnull().sum()"
   ]
  },
  {
   "cell_type": "code",
   "execution_count": 12,
   "id": "439f2e82-c166-479a-ab6c-3d484b3f349b",
   "metadata": {},
   "outputs": [
    {
     "data": {
      "text/plain": [
       "착과량(int)    0\n",
       "dtype: int64"
      ]
     },
     "execution_count": 12,
     "metadata": {},
     "output_type": "execute_result"
    }
   ],
   "source": [
    "trainDataTar.isnull().sum()"
   ]
  },
  {
   "cell_type": "code",
   "execution_count": 13,
   "id": "bd1a6240-f67d-4772-a4b7-293f1b5faa88",
   "metadata": {},
   "outputs": [],
   "source": [
    "# 컬럼명 변경"
   ]
  },
  {
   "cell_type": "code",
   "execution_count": 14,
   "id": "0ccd58f4-b056-4252-b3e1-b9af24582596",
   "metadata": {},
   "outputs": [
    {
     "name": "stderr",
     "output_type": "stream",
     "text": [
      "C:\\Users\\caose\\AppData\\Local\\Temp\\ipykernel_7968\\2222668989.py:6: SettingWithCopyWarning: \n",
      "A value is trying to be set on a copy of a slice from a DataFrame\n",
      "\n",
      "See the caveats in the documentation: https://pandas.pydata.org/pandas-docs/stable/user_guide/indexing.html#returning-a-view-versus-a-copy\n",
      "  trainDataFeat.rename(columns={featCol[i]:changeCol[i]}, inplace=True)\n",
      "C:\\Users\\caose\\AppData\\Local\\Temp\\ipykernel_7968\\2222668989.py:6: SettingWithCopyWarning: \n",
      "A value is trying to be set on a copy of a slice from a DataFrame\n",
      "\n",
      "See the caveats in the documentation: https://pandas.pydata.org/pandas-docs/stable/user_guide/indexing.html#returning-a-view-versus-a-copy\n",
      "  trainDataFeat.rename(columns={featCol[i]:changeCol[i]}, inplace=True)\n",
      "C:\\Users\\caose\\AppData\\Local\\Temp\\ipykernel_7968\\2222668989.py:6: SettingWithCopyWarning: \n",
      "A value is trying to be set on a copy of a slice from a DataFrame\n",
      "\n",
      "See the caveats in the documentation: https://pandas.pydata.org/pandas-docs/stable/user_guide/indexing.html#returning-a-view-versus-a-copy\n",
      "  trainDataFeat.rename(columns={featCol[i]:changeCol[i]}, inplace=True)\n",
      "C:\\Users\\caose\\AppData\\Local\\Temp\\ipykernel_7968\\2222668989.py:6: SettingWithCopyWarning: \n",
      "A value is trying to be set on a copy of a slice from a DataFrame\n",
      "\n",
      "See the caveats in the documentation: https://pandas.pydata.org/pandas-docs/stable/user_guide/indexing.html#returning-a-view-versus-a-copy\n",
      "  trainDataFeat.rename(columns={featCol[i]:changeCol[i]}, inplace=True)\n"
     ]
    },
    {
     "data": {
      "text/html": [
       "<div>\n",
       "<style scoped>\n",
       "    .dataframe tbody tr th:only-of-type {\n",
       "        vertical-align: middle;\n",
       "    }\n",
       "\n",
       "    .dataframe tbody tr th {\n",
       "        vertical-align: top;\n",
       "    }\n",
       "\n",
       "    .dataframe thead th {\n",
       "        text-align: right;\n",
       "    }\n",
       "</style>\n",
       "<table border=\"1\" class=\"dataframe\">\n",
       "  <thead>\n",
       "    <tr style=\"text-align: right;\">\n",
       "      <th></th>\n",
       "      <th>수고</th>\n",
       "      <th>수관폭1</th>\n",
       "      <th>수관폭2</th>\n",
       "      <th>수관폭평균</th>\n",
       "    </tr>\n",
       "  </thead>\n",
       "  <tbody>\n",
       "    <tr>\n",
       "      <th>0</th>\n",
       "      <td>275.0</td>\n",
       "      <td>287.0</td>\n",
       "      <td>292.0</td>\n",
       "      <td>289.5</td>\n",
       "    </tr>\n",
       "    <tr>\n",
       "      <th>1</th>\n",
       "      <td>293.0</td>\n",
       "      <td>284.0</td>\n",
       "      <td>336.0</td>\n",
       "      <td>310.0</td>\n",
       "    </tr>\n",
       "    <tr>\n",
       "      <th>2</th>\n",
       "      <td>300.0</td>\n",
       "      <td>392.0</td>\n",
       "      <td>450.0</td>\n",
       "      <td>421.0</td>\n",
       "    </tr>\n",
       "    <tr>\n",
       "      <th>3</th>\n",
       "      <td>289.0</td>\n",
       "      <td>368.0</td>\n",
       "      <td>379.0</td>\n",
       "      <td>373.5</td>\n",
       "    </tr>\n",
       "    <tr>\n",
       "      <th>4</th>\n",
       "      <td>306.0</td>\n",
       "      <td>353.0</td>\n",
       "      <td>358.0</td>\n",
       "      <td>355.5</td>\n",
       "    </tr>\n",
       "    <tr>\n",
       "      <th>...</th>\n",
       "      <td>...</td>\n",
       "      <td>...</td>\n",
       "      <td>...</td>\n",
       "      <td>...</td>\n",
       "    </tr>\n",
       "    <tr>\n",
       "      <th>2202</th>\n",
       "      <td>230.0</td>\n",
       "      <td>353.0</td>\n",
       "      <td>367.0</td>\n",
       "      <td>360.0</td>\n",
       "    </tr>\n",
       "    <tr>\n",
       "      <th>2203</th>\n",
       "      <td>266.0</td>\n",
       "      <td>337.0</td>\n",
       "      <td>400.0</td>\n",
       "      <td>368.5</td>\n",
       "    </tr>\n",
       "    <tr>\n",
       "      <th>2204</th>\n",
       "      <td>237.0</td>\n",
       "      <td>353.0</td>\n",
       "      <td>362.0</td>\n",
       "      <td>357.5</td>\n",
       "    </tr>\n",
       "    <tr>\n",
       "      <th>2205</th>\n",
       "      <td>281.0</td>\n",
       "      <td>337.0</td>\n",
       "      <td>403.0</td>\n",
       "      <td>370.0</td>\n",
       "    </tr>\n",
       "    <tr>\n",
       "      <th>2206</th>\n",
       "      <td>228.0</td>\n",
       "      <td>389.0</td>\n",
       "      <td>398.0</td>\n",
       "      <td>393.5</td>\n",
       "    </tr>\n",
       "  </tbody>\n",
       "</table>\n",
       "<p>2207 rows × 4 columns</p>\n",
       "</div>"
      ],
      "text/plain": [
       "         수고   수관폭1   수관폭2  수관폭평균\n",
       "0     275.0  287.0  292.0  289.5\n",
       "1     293.0  284.0  336.0  310.0\n",
       "2     300.0  392.0  450.0  421.0\n",
       "3     289.0  368.0  379.0  373.5\n",
       "4     306.0  353.0  358.0  355.5\n",
       "...     ...    ...    ...    ...\n",
       "2202  230.0  353.0  367.0  360.0\n",
       "2203  266.0  337.0  400.0  368.5\n",
       "2204  237.0  353.0  362.0  357.5\n",
       "2205  281.0  337.0  403.0  370.0\n",
       "2206  228.0  389.0  398.0  393.5\n",
       "\n",
       "[2207 rows x 4 columns]"
      ]
     },
     "execution_count": 14,
     "metadata": {},
     "output_type": "execute_result"
    }
   ],
   "source": [
    "featCol = list(trainDataFeat.columns)\n",
    "changeCol = []\n",
    "for i in range (len(featCol)):\n",
    "    splitCol = featCol[i].split(\"(\")\n",
    "    changeCol.append(splitCol[0])\n",
    "    trainDataFeat.rename(columns={featCol[i]:changeCol[i]}, inplace=True)\n",
    "trainDataFeat"
   ]
  },
  {
   "cell_type": "code",
   "execution_count": 15,
   "id": "86cc7e54-4732-4f00-ae51-71e20ae58729",
   "metadata": {},
   "outputs": [
    {
     "data": {
      "text/html": [
       "<div>\n",
       "<style scoped>\n",
       "    .dataframe tbody tr th:only-of-type {\n",
       "        vertical-align: middle;\n",
       "    }\n",
       "\n",
       "    .dataframe tbody tr th {\n",
       "        vertical-align: top;\n",
       "    }\n",
       "\n",
       "    .dataframe thead th {\n",
       "        text-align: right;\n",
       "    }\n",
       "</style>\n",
       "<table border=\"1\" class=\"dataframe\">\n",
       "  <thead>\n",
       "    <tr style=\"text-align: right;\">\n",
       "      <th></th>\n",
       "      <th>착과량</th>\n",
       "    </tr>\n",
       "  </thead>\n",
       "  <tbody>\n",
       "    <tr>\n",
       "      <th>0</th>\n",
       "      <td>692</td>\n",
       "    </tr>\n",
       "    <tr>\n",
       "      <th>1</th>\n",
       "      <td>534</td>\n",
       "    </tr>\n",
       "    <tr>\n",
       "      <th>2</th>\n",
       "      <td>634</td>\n",
       "    </tr>\n",
       "    <tr>\n",
       "      <th>3</th>\n",
       "      <td>639</td>\n",
       "    </tr>\n",
       "    <tr>\n",
       "      <th>4</th>\n",
       "      <td>496</td>\n",
       "    </tr>\n",
       "    <tr>\n",
       "      <th>...</th>\n",
       "      <td>...</td>\n",
       "    </tr>\n",
       "    <tr>\n",
       "      <th>2202</th>\n",
       "      <td>119</td>\n",
       "    </tr>\n",
       "    <tr>\n",
       "      <th>2203</th>\n",
       "      <td>611</td>\n",
       "    </tr>\n",
       "    <tr>\n",
       "      <th>2204</th>\n",
       "      <td>650</td>\n",
       "    </tr>\n",
       "    <tr>\n",
       "      <th>2205</th>\n",
       "      <td>363</td>\n",
       "    </tr>\n",
       "    <tr>\n",
       "      <th>2206</th>\n",
       "      <td>17</td>\n",
       "    </tr>\n",
       "  </tbody>\n",
       "</table>\n",
       "<p>2207 rows × 1 columns</p>\n",
       "</div>"
      ],
      "text/plain": [
       "      착과량\n",
       "0     692\n",
       "1     534\n",
       "2     634\n",
       "3     639\n",
       "4     496\n",
       "...   ...\n",
       "2202  119\n",
       "2203  611\n",
       "2204  650\n",
       "2205  363\n",
       "2206   17\n",
       "\n",
       "[2207 rows x 1 columns]"
      ]
     },
     "execution_count": 15,
     "metadata": {},
     "output_type": "execute_result"
    }
   ],
   "source": [
    "trainDataTar = trainDataTar.rename(columns={\"착과량(int)\":\"착과량\"})\n",
    "trainDataTar"
   ]
  },
  {
   "cell_type": "code",
   "execution_count": 21,
   "id": "14eda130-4b20-4b12-9865-b0ac231ee53c",
   "metadata": {},
   "outputs": [
    {
     "data": {
      "text/plain": [
       "DecisionTreeClassifier(random_state=10)"
      ]
     },
     "execution_count": 21,
     "metadata": {},
     "output_type": "execute_result"
    }
   ],
   "source": []
  },
  {
   "cell_type": "code",
   "execution_count": 22,
   "id": "cee00f23-fa06-47f3-b297-1ac4ec32aedd",
   "metadata": {},
   "outputs": [
    {
     "data": {
      "text/plain": [
       "DecisionTreeClassifier(random_state=10)"
      ]
     },
     "execution_count": 22,
     "metadata": {},
     "output_type": "execute_result"
    }
   ],
   "source": []
  },
  {
   "cell_type": "code",
   "execution_count": 16,
   "id": "25eccebc-c8df-4bb7-b677-9b2c99e76d7b",
   "metadata": {},
   "outputs": [
    {
     "data": {
      "text/html": [
       "<div>\n",
       "<style scoped>\n",
       "    .dataframe tbody tr th:only-of-type {\n",
       "        vertical-align: middle;\n",
       "    }\n",
       "\n",
       "    .dataframe tbody tr th {\n",
       "        vertical-align: top;\n",
       "    }\n",
       "\n",
       "    .dataframe thead th {\n",
       "        text-align: right;\n",
       "    }\n",
       "</style>\n",
       "<table border=\"1\" class=\"dataframe\">\n",
       "  <thead>\n",
       "    <tr style=\"text-align: right;\">\n",
       "      <th></th>\n",
       "      <th>ID</th>\n",
       "      <th>수고(m)</th>\n",
       "      <th>수관폭1(min)</th>\n",
       "      <th>수관폭2(max)</th>\n",
       "      <th>수관폭평균</th>\n",
       "      <th>2022-09-01 새순</th>\n",
       "      <th>2022-09-02 새순</th>\n",
       "      <th>2022-09-03 새순</th>\n",
       "      <th>2022-09-04 새순</th>\n",
       "      <th>2022-09-05 새순</th>\n",
       "      <th>...</th>\n",
       "      <th>2022-11-19 엽록소</th>\n",
       "      <th>2022-11-20 엽록소</th>\n",
       "      <th>2022-11-21 엽록소</th>\n",
       "      <th>2022-11-22 엽록소</th>\n",
       "      <th>2022-11-23 엽록소</th>\n",
       "      <th>2022-11-24 엽록소</th>\n",
       "      <th>2022-11-25 엽록소</th>\n",
       "      <th>2022-11-26 엽록소</th>\n",
       "      <th>2022-11-27 엽록소</th>\n",
       "      <th>2022-11-28 엽록소</th>\n",
       "    </tr>\n",
       "  </thead>\n",
       "  <tbody>\n",
       "    <tr>\n",
       "      <th>0</th>\n",
       "      <td>TEST_0000</td>\n",
       "      <td>231.0</td>\n",
       "      <td>219.0</td>\n",
       "      <td>302.0</td>\n",
       "      <td>260.5</td>\n",
       "      <td>4.3</td>\n",
       "      <td>4.2</td>\n",
       "      <td>4.2</td>\n",
       "      <td>4.1</td>\n",
       "      <td>4.1</td>\n",
       "      <td>...</td>\n",
       "      <td>72.091497</td>\n",
       "      <td>71.906176</td>\n",
       "      <td>71.886799</td>\n",
       "      <td>71.858720</td>\n",
       "      <td>71.725540</td>\n",
       "      <td>71.531618</td>\n",
       "      <td>71.476935</td>\n",
       "      <td>71.321237</td>\n",
       "      <td>71.184295</td>\n",
       "      <td>71.000223</td>\n",
       "    </tr>\n",
       "    <tr>\n",
       "      <th>1</th>\n",
       "      <td>TEST_0001</td>\n",
       "      <td>206.0</td>\n",
       "      <td>324.0</td>\n",
       "      <td>346.0</td>\n",
       "      <td>335.0</td>\n",
       "      <td>2.5</td>\n",
       "      <td>2.5</td>\n",
       "      <td>2.5</td>\n",
       "      <td>2.5</td>\n",
       "      <td>2.5</td>\n",
       "      <td>...</td>\n",
       "      <td>68.423776</td>\n",
       "      <td>68.353200</td>\n",
       "      <td>68.346777</td>\n",
       "      <td>68.188159</td>\n",
       "      <td>67.995233</td>\n",
       "      <td>67.879958</td>\n",
       "      <td>67.744820</td>\n",
       "      <td>67.673522</td>\n",
       "      <td>67.539973</td>\n",
       "      <td>67.447849</td>\n",
       "    </tr>\n",
       "    <tr>\n",
       "      <th>2</th>\n",
       "      <td>TEST_0002</td>\n",
       "      <td>282.0</td>\n",
       "      <td>373.0</td>\n",
       "      <td>404.0</td>\n",
       "      <td>388.5</td>\n",
       "      <td>4.7</td>\n",
       "      <td>4.7</td>\n",
       "      <td>4.6</td>\n",
       "      <td>4.6</td>\n",
       "      <td>4.5</td>\n",
       "      <td>...</td>\n",
       "      <td>74.435783</td>\n",
       "      <td>74.247468</td>\n",
       "      <td>74.142664</td>\n",
       "      <td>74.070401</td>\n",
       "      <td>73.892408</td>\n",
       "      <td>73.796143</td>\n",
       "      <td>73.615838</td>\n",
       "      <td>73.440136</td>\n",
       "      <td>73.387051</td>\n",
       "      <td>73.228319</td>\n",
       "    </tr>\n",
       "    <tr>\n",
       "      <th>3</th>\n",
       "      <td>TEST_0003</td>\n",
       "      <td>234.0</td>\n",
       "      <td>337.0</td>\n",
       "      <td>357.0</td>\n",
       "      <td>347.0</td>\n",
       "      <td>3.6</td>\n",
       "      <td>3.6</td>\n",
       "      <td>3.6</td>\n",
       "      <td>3.6</td>\n",
       "      <td>3.5</td>\n",
       "      <td>...</td>\n",
       "      <td>73.570735</td>\n",
       "      <td>73.420243</td>\n",
       "      <td>73.313538</td>\n",
       "      <td>73.149298</td>\n",
       "      <td>73.109599</td>\n",
       "      <td>72.924511</td>\n",
       "      <td>72.847411</td>\n",
       "      <td>72.838263</td>\n",
       "      <td>72.672156</td>\n",
       "      <td>72.538171</td>\n",
       "    </tr>\n",
       "    <tr>\n",
       "      <th>4</th>\n",
       "      <td>TEST_0004</td>\n",
       "      <td>222.0</td>\n",
       "      <td>329.0</td>\n",
       "      <td>347.0</td>\n",
       "      <td>338.0</td>\n",
       "      <td>2.7</td>\n",
       "      <td>2.7</td>\n",
       "      <td>2.7</td>\n",
       "      <td>2.7</td>\n",
       "      <td>2.6</td>\n",
       "      <td>...</td>\n",
       "      <td>72.216758</td>\n",
       "      <td>72.163153</td>\n",
       "      <td>72.052952</td>\n",
       "      <td>71.905982</td>\n",
       "      <td>71.766141</td>\n",
       "      <td>71.746813</td>\n",
       "      <td>71.668847</td>\n",
       "      <td>71.501043</td>\n",
       "      <td>71.419715</td>\n",
       "      <td>71.328224</td>\n",
       "    </tr>\n",
       "  </tbody>\n",
       "</table>\n",
       "<p>5 rows × 183 columns</p>\n",
       "</div>"
      ],
      "text/plain": [
       "          ID  수고(m)  수관폭1(min)  수관폭2(max)  수관폭평균  2022-09-01 새순  \\\n",
       "0  TEST_0000  231.0      219.0      302.0  260.5            4.3   \n",
       "1  TEST_0001  206.0      324.0      346.0  335.0            2.5   \n",
       "2  TEST_0002  282.0      373.0      404.0  388.5            4.7   \n",
       "3  TEST_0003  234.0      337.0      357.0  347.0            3.6   \n",
       "4  TEST_0004  222.0      329.0      347.0  338.0            2.7   \n",
       "\n",
       "   2022-09-02 새순  2022-09-03 새순  2022-09-04 새순  2022-09-05 새순  ...  \\\n",
       "0            4.2            4.2            4.1            4.1  ...   \n",
       "1            2.5            2.5            2.5            2.5  ...   \n",
       "2            4.7            4.6            4.6            4.5  ...   \n",
       "3            3.6            3.6            3.6            3.5  ...   \n",
       "4            2.7            2.7            2.7            2.6  ...   \n",
       "\n",
       "   2022-11-19 엽록소  2022-11-20 엽록소  2022-11-21 엽록소  2022-11-22 엽록소  \\\n",
       "0       72.091497       71.906176       71.886799       71.858720   \n",
       "1       68.423776       68.353200       68.346777       68.188159   \n",
       "2       74.435783       74.247468       74.142664       74.070401   \n",
       "3       73.570735       73.420243       73.313538       73.149298   \n",
       "4       72.216758       72.163153       72.052952       71.905982   \n",
       "\n",
       "   2022-11-23 엽록소  2022-11-24 엽록소  2022-11-25 엽록소  2022-11-26 엽록소  \\\n",
       "0       71.725540       71.531618       71.476935       71.321237   \n",
       "1       67.995233       67.879958       67.744820       67.673522   \n",
       "2       73.892408       73.796143       73.615838       73.440136   \n",
       "3       73.109599       72.924511       72.847411       72.838263   \n",
       "4       71.766141       71.746813       71.668847       71.501043   \n",
       "\n",
       "   2022-11-27 엽록소  2022-11-28 엽록소  \n",
       "0       71.184295       71.000223  \n",
       "1       67.539973       67.447849  \n",
       "2       73.387051       73.228319  \n",
       "3       72.672156       72.538171  \n",
       "4       71.419715       71.328224  \n",
       "\n",
       "[5 rows x 183 columns]"
      ]
     },
     "execution_count": 16,
     "metadata": {},
     "output_type": "execute_result"
    }
   ],
   "source": [
    "# 예측할 데이터\n",
    "testData.head()"
   ]
  },
  {
   "cell_type": "code",
   "execution_count": 17,
   "id": "c830bbe4-0310-4b0a-9200-93a0c5c4ebfa",
   "metadata": {},
   "outputs": [],
   "source": [
    "# null값 확인"
   ]
  },
  {
   "cell_type": "code",
   "execution_count": 18,
   "id": "af3833a8-52e7-4ba8-bc9c-a8385d4d5816",
   "metadata": {},
   "outputs": [
    {
     "data": {
      "text/plain": [
       "ID                0\n",
       "수고(m)             0\n",
       "수관폭1(min)         0\n",
       "수관폭2(max)         0\n",
       "수관폭평균             0\n",
       "                 ..\n",
       "2022-11-24 엽록소    0\n",
       "2022-11-25 엽록소    0\n",
       "2022-11-26 엽록소    0\n",
       "2022-11-27 엽록소    0\n",
       "2022-11-28 엽록소    0\n",
       "Length: 183, dtype: int64"
      ]
     },
     "execution_count": 18,
     "metadata": {},
     "output_type": "execute_result"
    }
   ],
   "source": [
    "testData.isnull().sum()"
   ]
  },
  {
   "cell_type": "code",
   "execution_count": 19,
   "id": "b4b43fdd-c04e-45fd-9d57-8f46acef23cf",
   "metadata": {},
   "outputs": [
    {
     "data": {
      "text/plain": [
       "수고(m)        0\n",
       "수관폭1(min)    0\n",
       "수관폭2(max)    0\n",
       "수관폭평균        0\n",
       "dtype: int64"
      ]
     },
     "execution_count": 19,
     "metadata": {},
     "output_type": "execute_result"
    }
   ],
   "source": [
    "testDataFeat =  testData.iloc[:,[1,2,3,4]]\n",
    "testDataFeat.isnull().sum()"
   ]
  },
  {
   "cell_type": "code",
   "execution_count": 27,
   "id": "fd1cf03c-015c-43fd-ba7e-e88b432b443a",
   "metadata": {},
   "outputs": [
    {
     "name": "stderr",
     "output_type": "stream",
     "text": [
      "C:\\Users\\caose\\AppData\\Local\\Temp\\ipykernel_7968\\2630635040.py:6: SettingWithCopyWarning: \n",
      "A value is trying to be set on a copy of a slice from a DataFrame\n",
      "\n",
      "See the caveats in the documentation: https://pandas.pydata.org/pandas-docs/stable/user_guide/indexing.html#returning-a-view-versus-a-copy\n",
      "  testDataFeat.rename(columns={featCol[i]:changeCol[i]}, inplace=True)\n",
      "C:\\Users\\caose\\AppData\\Local\\Temp\\ipykernel_7968\\2630635040.py:6: SettingWithCopyWarning: \n",
      "A value is trying to be set on a copy of a slice from a DataFrame\n",
      "\n",
      "See the caveats in the documentation: https://pandas.pydata.org/pandas-docs/stable/user_guide/indexing.html#returning-a-view-versus-a-copy\n",
      "  testDataFeat.rename(columns={featCol[i]:changeCol[i]}, inplace=True)\n",
      "C:\\Users\\caose\\AppData\\Local\\Temp\\ipykernel_7968\\2630635040.py:6: SettingWithCopyWarning: \n",
      "A value is trying to be set on a copy of a slice from a DataFrame\n",
      "\n",
      "See the caveats in the documentation: https://pandas.pydata.org/pandas-docs/stable/user_guide/indexing.html#returning-a-view-versus-a-copy\n",
      "  testDataFeat.rename(columns={featCol[i]:changeCol[i]}, inplace=True)\n",
      "C:\\Users\\caose\\AppData\\Local\\Temp\\ipykernel_7968\\2630635040.py:6: SettingWithCopyWarning: \n",
      "A value is trying to be set on a copy of a slice from a DataFrame\n",
      "\n",
      "See the caveats in the documentation: https://pandas.pydata.org/pandas-docs/stable/user_guide/indexing.html#returning-a-view-versus-a-copy\n",
      "  testDataFeat.rename(columns={featCol[i]:changeCol[i]}, inplace=True)\n"
     ]
    },
    {
     "data": {
      "text/html": [
       "<div>\n",
       "<style scoped>\n",
       "    .dataframe tbody tr th:only-of-type {\n",
       "        vertical-align: middle;\n",
       "    }\n",
       "\n",
       "    .dataframe tbody tr th {\n",
       "        vertical-align: top;\n",
       "    }\n",
       "\n",
       "    .dataframe thead th {\n",
       "        text-align: right;\n",
       "    }\n",
       "</style>\n",
       "<table border=\"1\" class=\"dataframe\">\n",
       "  <thead>\n",
       "    <tr style=\"text-align: right;\">\n",
       "      <th></th>\n",
       "      <th>수고</th>\n",
       "      <th>수관폭1</th>\n",
       "      <th>수관폭2</th>\n",
       "      <th>수관폭평균</th>\n",
       "    </tr>\n",
       "  </thead>\n",
       "  <tbody>\n",
       "    <tr>\n",
       "      <th>0</th>\n",
       "      <td>231.0</td>\n",
       "      <td>219.0</td>\n",
       "      <td>302.0</td>\n",
       "      <td>260.5</td>\n",
       "    </tr>\n",
       "    <tr>\n",
       "      <th>1</th>\n",
       "      <td>206.0</td>\n",
       "      <td>324.0</td>\n",
       "      <td>346.0</td>\n",
       "      <td>335.0</td>\n",
       "    </tr>\n",
       "    <tr>\n",
       "      <th>2</th>\n",
       "      <td>282.0</td>\n",
       "      <td>373.0</td>\n",
       "      <td>404.0</td>\n",
       "      <td>388.5</td>\n",
       "    </tr>\n",
       "    <tr>\n",
       "      <th>3</th>\n",
       "      <td>234.0</td>\n",
       "      <td>337.0</td>\n",
       "      <td>357.0</td>\n",
       "      <td>347.0</td>\n",
       "    </tr>\n",
       "    <tr>\n",
       "      <th>4</th>\n",
       "      <td>222.0</td>\n",
       "      <td>329.0</td>\n",
       "      <td>347.0</td>\n",
       "      <td>338.0</td>\n",
       "    </tr>\n",
       "    <tr>\n",
       "      <th>...</th>\n",
       "      <td>...</td>\n",
       "      <td>...</td>\n",
       "      <td>...</td>\n",
       "      <td>...</td>\n",
       "    </tr>\n",
       "    <tr>\n",
       "      <th>2203</th>\n",
       "      <td>217.0</td>\n",
       "      <td>265.0</td>\n",
       "      <td>288.0</td>\n",
       "      <td>276.5</td>\n",
       "    </tr>\n",
       "    <tr>\n",
       "      <th>2204</th>\n",
       "      <td>182.0</td>\n",
       "      <td>191.0</td>\n",
       "      <td>262.0</td>\n",
       "      <td>226.5</td>\n",
       "    </tr>\n",
       "    <tr>\n",
       "      <th>2205</th>\n",
       "      <td>254.0</td>\n",
       "      <td>280.0</td>\n",
       "      <td>332.0</td>\n",
       "      <td>306.0</td>\n",
       "    </tr>\n",
       "    <tr>\n",
       "      <th>2206</th>\n",
       "      <td>257.0</td>\n",
       "      <td>285.0</td>\n",
       "      <td>297.0</td>\n",
       "      <td>291.0</td>\n",
       "    </tr>\n",
       "    <tr>\n",
       "      <th>2207</th>\n",
       "      <td>244.0</td>\n",
       "      <td>380.0</td>\n",
       "      <td>391.0</td>\n",
       "      <td>385.5</td>\n",
       "    </tr>\n",
       "  </tbody>\n",
       "</table>\n",
       "<p>2208 rows × 4 columns</p>\n",
       "</div>"
      ],
      "text/plain": [
       "         수고   수관폭1   수관폭2  수관폭평균\n",
       "0     231.0  219.0  302.0  260.5\n",
       "1     206.0  324.0  346.0  335.0\n",
       "2     282.0  373.0  404.0  388.5\n",
       "3     234.0  337.0  357.0  347.0\n",
       "4     222.0  329.0  347.0  338.0\n",
       "...     ...    ...    ...    ...\n",
       "2203  217.0  265.0  288.0  276.5\n",
       "2204  182.0  191.0  262.0  226.5\n",
       "2205  254.0  280.0  332.0  306.0\n",
       "2206  257.0  285.0  297.0  291.0\n",
       "2207  244.0  380.0  391.0  385.5\n",
       "\n",
       "[2208 rows x 4 columns]"
      ]
     },
     "execution_count": 27,
     "metadata": {},
     "output_type": "execute_result"
    }
   ],
   "source": [
    "featCol = list(testDataFeat.columns)\n",
    "changeCol = []\n",
    "for i in range (len(featCol)):\n",
    "    splitCol = featCol[i].split(\"(\")\n",
    "    changeCol.append(splitCol[0])\n",
    "    testDataFeat.rename(columns={featCol[i]:changeCol[i]}, inplace=True)\n",
    "testDataFeat"
   ]
  },
  {
   "cell_type": "code",
   "execution_count": 41,
   "id": "b18de906-095a-4c7c-ba6c-1e298a39c185",
   "metadata": {},
   "outputs": [],
   "source": [
    "# 모델 선언"
   ]
  },
  {
   "cell_type": "code",
   "execution_count": 25,
   "id": "468f64a2-e799-40ff-954e-dc5d487691d3",
   "metadata": {},
   "outputs": [
    {
     "data": {
      "text/plain": [
       "DecisionTreeClassifier(random_state=10)"
      ]
     },
     "execution_count": 25,
     "metadata": {},
     "output_type": "execute_result"
    }
   ],
   "source": [
    "dtModel = tree.DecisionTreeClassifier(random_state=10)\n",
    "dtModel"
   ]
  },
  {
   "cell_type": "code",
   "execution_count": 26,
   "id": "0ed0ec1d-7d0e-4a7f-8267-0ff2e4305d0a",
   "metadata": {},
   "outputs": [
    {
     "data": {
      "text/plain": [
       "DecisionTreeClassifier(random_state=10)"
      ]
     },
     "execution_count": 26,
     "metadata": {},
     "output_type": "execute_result"
    }
   ],
   "source": [
    "dtModel.fit(X = trainDataFeat,\n",
    "            y = trainDataTar)"
   ]
  },
  {
   "cell_type": "code",
   "execution_count": 29,
   "id": "d4a747af-5b7b-4143-b2f1-d1738330c312",
   "metadata": {},
   "outputs": [],
   "source": [
    "predictValue = dtModel.predict(X = testDataFeat)"
   ]
  },
  {
   "cell_type": "code",
   "execution_count": 39,
   "id": "0b5a4657-224b-46b7-b91b-14542ac8c0f0",
   "metadata": {},
   "outputs": [
    {
     "data": {
      "text/html": [
       "<div>\n",
       "<style scoped>\n",
       "    .dataframe tbody tr th:only-of-type {\n",
       "        vertical-align: middle;\n",
       "    }\n",
       "\n",
       "    .dataframe tbody tr th {\n",
       "        vertical-align: top;\n",
       "    }\n",
       "\n",
       "    .dataframe thead th {\n",
       "        text-align: right;\n",
       "    }\n",
       "</style>\n",
       "<table border=\"1\" class=\"dataframe\">\n",
       "  <thead>\n",
       "    <tr style=\"text-align: right;\">\n",
       "      <th></th>\n",
       "      <th>착과량</th>\n",
       "    </tr>\n",
       "  </thead>\n",
       "  <tbody>\n",
       "    <tr>\n",
       "      <th>0</th>\n",
       "      <td>199</td>\n",
       "    </tr>\n",
       "    <tr>\n",
       "      <th>1</th>\n",
       "      <td>218</td>\n",
       "    </tr>\n",
       "    <tr>\n",
       "      <th>2</th>\n",
       "      <td>535</td>\n",
       "    </tr>\n",
       "    <tr>\n",
       "      <th>3</th>\n",
       "      <td>174</td>\n",
       "    </tr>\n",
       "    <tr>\n",
       "      <th>4</th>\n",
       "      <td>205</td>\n",
       "    </tr>\n",
       "    <tr>\n",
       "      <th>...</th>\n",
       "      <td>...</td>\n",
       "    </tr>\n",
       "    <tr>\n",
       "      <th>2203</th>\n",
       "      <td>397</td>\n",
       "    </tr>\n",
       "    <tr>\n",
       "      <th>2204</th>\n",
       "      <td>267</td>\n",
       "    </tr>\n",
       "    <tr>\n",
       "      <th>2205</th>\n",
       "      <td>265</td>\n",
       "    </tr>\n",
       "    <tr>\n",
       "      <th>2206</th>\n",
       "      <td>192</td>\n",
       "    </tr>\n",
       "    <tr>\n",
       "      <th>2207</th>\n",
       "      <td>167</td>\n",
       "    </tr>\n",
       "  </tbody>\n",
       "</table>\n",
       "<p>2208 rows × 1 columns</p>\n",
       "</div>"
      ],
      "text/plain": [
       "      착과량\n",
       "0     199\n",
       "1     218\n",
       "2     535\n",
       "3     174\n",
       "4     205\n",
       "...   ...\n",
       "2203  397\n",
       "2204  267\n",
       "2205  265\n",
       "2206  192\n",
       "2207  167\n",
       "\n",
       "[2208 rows x 1 columns]"
      ]
     },
     "execution_count": 39,
     "metadata": {},
     "output_type": "execute_result"
    }
   ],
   "source": [
    "# 예측해낸 착과량\n",
    "testTar = predictValue\n",
    "testDataTar = pd.DataFrame(testTar,columns=[\"착과량\"])\n",
    "testDataTar"
   ]
  },
  {
   "cell_type": "code",
   "execution_count": 42,
   "id": "1e9c8b90-3f3e-450d-b72a-4c1e0d726f9c",
   "metadata": {},
   "outputs": [],
   "source": [
    "# 미래예측"
   ]
  },
  {
   "cell_type": "code",
   "execution_count": 44,
   "id": "df7c9069-24e7-4489-85e0-8ab306dad8a7",
   "metadata": {},
   "outputs": [
    {
     "data": {
      "text/plain": [
       "['수고', '수관폭1', '수관폭2', '수관폭평균']"
      ]
     },
     "execution_count": 44,
     "metadata": {},
     "output_type": "execute_result"
    }
   ],
   "source": [
    "changeCol"
   ]
  },
  {
   "cell_type": "code",
   "execution_count": 55,
   "id": "6db4e77c-a7a0-4d6b-85c0-63982c0ebb92",
   "metadata": {},
   "outputs": [],
   "source": [
    "inputHigh = 260\n",
    "inputWID1 = 260\n",
    "inputWID2 = 260\n",
    "inputAvg = 260"
   ]
  },
  {
   "cell_type": "code",
   "execution_count": 56,
   "id": "6f5c4f4c-3ebe-4f79-a59b-b0881b48c527",
   "metadata": {},
   "outputs": [],
   "source": [
    "testData = pd.DataFrame([[inputHigh,inputWID1,inputWID2,inputAvg]])"
   ]
  },
  {
   "cell_type": "code",
   "execution_count": 57,
   "id": "30191adb-83ea-46e0-a341-23b11d5f7dc8",
   "metadata": {},
   "outputs": [
    {
     "name": "stderr",
     "output_type": "stream",
     "text": [
      "C:\\Users\\caose\\anaconda3\\lib\\site-packages\\sklearn\\base.py:450: UserWarning: X does not have valid feature names, but DecisionTreeClassifier was fitted with feature names\n",
      "  warnings.warn(\n"
     ]
    },
    {
     "data": {
      "text/plain": [
       "array([147], dtype=int64)"
      ]
     },
     "execution_count": 57,
     "metadata": {},
     "output_type": "execute_result"
    }
   ],
   "source": [
    "dtModel.predict(testData)"
   ]
  },
  {
   "cell_type": "code",
   "execution_count": null,
   "id": "194aa7a8-9cb1-42e2-9b8c-a34a1d43f7f4",
   "metadata": {},
   "outputs": [],
   "source": []
  }
 ],
 "metadata": {
  "kernelspec": {
   "display_name": "Python 3 (ipykernel)",
   "language": "python",
   "name": "python3"
  },
  "language_info": {
   "codemirror_mode": {
    "name": "ipython",
    "version": 3
   },
   "file_extension": ".py",
   "mimetype": "text/x-python",
   "name": "python",
   "nbconvert_exporter": "python",
   "pygments_lexer": "ipython3",
   "version": "3.9.13"
  }
 },
 "nbformat": 4,
 "nbformat_minor": 5
}
