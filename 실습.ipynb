{
 "cells": [
  {
   "cell_type": "code",
   "execution_count": 13,
   "id": "406e2375-3ef4-4fd2-a58b-96e475180611",
   "metadata": {},
   "outputs": [
    {
     "name": "stdout",
     "output_type": "stream",
     "text": [
      "35248.91490376756\n",
      "35248\n"
     ]
    }
   ],
   "source": [
    "import pandas as pd\n",
    "customerData = pd.read_csv(\"../dataset/kopo_customerdata.csv\")\n",
    "customerTotalList = customerData[\"TOTAL_AMOUNT\"].tolist()\n",
    "\n",
    "# 최소값 검색\n",
    "min(customerTotalList)\n",
    "\n",
    "# 최소값 카운트\n",
    "DelMin = customerTotalList.count(min(customerTotalList))\n",
    "\n",
    "# 오름차순 정렬\n",
    "customerTotalList.sort()\n",
    "\n",
    "# 정렬된 오름차순에서 최소값 전체 삭제\n",
    "del customerTotalList[:DelMin]\n",
    "\n",
    "# 최대값 검색\n",
    "max(customerTotalList)\n",
    "\n",
    "# 최대값 카운트\n",
    "DelMax = customerTotalList.count(max(customerTotalList))\n",
    "\n",
    "# 내림차순 정렬\n",
    "customerTotalList.sort(reverse=True)\n",
    "\n",
    "# 최대값 제거\n",
    "del customerTotalList[:DelMax]\n",
    "\n",
    "# 최대, 최소 제거 이후 총합계\n",
    "ListSum = sum(customerTotalList)\n",
    "\n",
    "# 최소, 최대 제거 이후 총 갯수\n",
    "ListLen = len(customerTotalList)\n",
    "\n",
    "# 평균 구하기\n",
    "avg = ListSum/ListLen\n",
    "# 평균\n",
    "print(avg)\n",
    "# 정수로 수정\n",
    "print(int(avg))"
   ]
  }
 ],
 "metadata": {
  "kernelspec": {
   "display_name": "Python 3 (ipykernel)",
   "language": "python",
   "name": "python3"
  },
  "language_info": {
   "codemirror_mode": {
    "name": "ipython",
    "version": 3
   },
   "file_extension": ".py",
   "mimetype": "text/x-python",
   "name": "python",
   "nbconvert_exporter": "python",
   "pygments_lexer": "ipython3",
   "version": "3.9.13"
  }
 },
 "nbformat": 4,
 "nbformat_minor": 5
}
