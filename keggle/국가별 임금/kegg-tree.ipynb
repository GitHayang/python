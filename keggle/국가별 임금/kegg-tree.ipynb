{
 "cells": [
  {
   "cell_type": "code",
   "execution_count": 1,
   "id": "1357f64f-837b-47d8-b21f-f10b5266adbc",
   "metadata": {},
   "outputs": [],
   "source": [
    "import pandas as pd\n",
    "import numpy as np\n",
    "\n",
    "from sklearn import tree\n",
    "\n",
    "from sklearn.model_selection import train_test_split\n",
    "from sklearn.preprocessing import minmax_scale\n",
    "from sklearn.preprocessing import LabelEncoder\n",
    "# 정답과 예측을 넣으면, 정확도를 산출해서 보여준다.\n",
    "from sklearn.metrics import accuracy_score"
   ]
  },
  {
   "cell_type": "code",
   "execution_count": 2,
   "id": "c7c090c6-183c-4454-b1a4-698b97715b64",
   "metadata": {},
   "outputs": [],
   "source": [
    "baseData = pd.read_csv(\"../../dataset/keggledata.csv\")"
   ]
  },
  {
   "cell_type": "code",
   "execution_count": 3,
   "id": "b3cfc089-21db-4f74-9a75-c1cb3f7e6753",
   "metadata": {},
   "outputs": [
    {
     "data": {
      "text/html": [
       "<div>\n",
       "<style scoped>\n",
       "    .dataframe tbody tr th:only-of-type {\n",
       "        vertical-align: middle;\n",
       "    }\n",
       "\n",
       "    .dataframe tbody tr th {\n",
       "        vertical-align: top;\n",
       "    }\n",
       "\n",
       "    .dataframe thead th {\n",
       "        text-align: right;\n",
       "    }\n",
       "</style>\n",
       "<table border=\"1\" class=\"dataframe\">\n",
       "  <thead>\n",
       "    <tr style=\"text-align: right;\">\n",
       "      <th></th>\n",
       "      <th>work_year</th>\n",
       "      <th>experience_level</th>\n",
       "      <th>employment_type</th>\n",
       "      <th>job_title</th>\n",
       "      <th>salary</th>\n",
       "      <th>salary_currency</th>\n",
       "      <th>salary_in_usd</th>\n",
       "      <th>employee_residence</th>\n",
       "      <th>remote_ratio</th>\n",
       "      <th>company_location</th>\n",
       "      <th>company_size</th>\n",
       "    </tr>\n",
       "  </thead>\n",
       "  <tbody>\n",
       "    <tr>\n",
       "      <th>0</th>\n",
       "      <td>2023</td>\n",
       "      <td>SE</td>\n",
       "      <td>FT</td>\n",
       "      <td>Principal Data Scientist</td>\n",
       "      <td>80000</td>\n",
       "      <td>EUR</td>\n",
       "      <td>85847</td>\n",
       "      <td>ES</td>\n",
       "      <td>100</td>\n",
       "      <td>ES</td>\n",
       "      <td>L</td>\n",
       "    </tr>\n",
       "    <tr>\n",
       "      <th>1</th>\n",
       "      <td>2023</td>\n",
       "      <td>MI</td>\n",
       "      <td>CT</td>\n",
       "      <td>ML Engineer</td>\n",
       "      <td>30000</td>\n",
       "      <td>USD</td>\n",
       "      <td>30000</td>\n",
       "      <td>US</td>\n",
       "      <td>100</td>\n",
       "      <td>US</td>\n",
       "      <td>S</td>\n",
       "    </tr>\n",
       "    <tr>\n",
       "      <th>2</th>\n",
       "      <td>2023</td>\n",
       "      <td>MI</td>\n",
       "      <td>CT</td>\n",
       "      <td>ML Engineer</td>\n",
       "      <td>25500</td>\n",
       "      <td>USD</td>\n",
       "      <td>25500</td>\n",
       "      <td>US</td>\n",
       "      <td>100</td>\n",
       "      <td>US</td>\n",
       "      <td>S</td>\n",
       "    </tr>\n",
       "    <tr>\n",
       "      <th>3</th>\n",
       "      <td>2023</td>\n",
       "      <td>SE</td>\n",
       "      <td>FT</td>\n",
       "      <td>Data Scientist</td>\n",
       "      <td>175000</td>\n",
       "      <td>USD</td>\n",
       "      <td>175000</td>\n",
       "      <td>CA</td>\n",
       "      <td>100</td>\n",
       "      <td>CA</td>\n",
       "      <td>M</td>\n",
       "    </tr>\n",
       "    <tr>\n",
       "      <th>4</th>\n",
       "      <td>2023</td>\n",
       "      <td>SE</td>\n",
       "      <td>FT</td>\n",
       "      <td>Data Scientist</td>\n",
       "      <td>120000</td>\n",
       "      <td>USD</td>\n",
       "      <td>120000</td>\n",
       "      <td>CA</td>\n",
       "      <td>100</td>\n",
       "      <td>CA</td>\n",
       "      <td>M</td>\n",
       "    </tr>\n",
       "    <tr>\n",
       "      <th>...</th>\n",
       "      <td>...</td>\n",
       "      <td>...</td>\n",
       "      <td>...</td>\n",
       "      <td>...</td>\n",
       "      <td>...</td>\n",
       "      <td>...</td>\n",
       "      <td>...</td>\n",
       "      <td>...</td>\n",
       "      <td>...</td>\n",
       "      <td>...</td>\n",
       "      <td>...</td>\n",
       "    </tr>\n",
       "    <tr>\n",
       "      <th>3750</th>\n",
       "      <td>2020</td>\n",
       "      <td>SE</td>\n",
       "      <td>FT</td>\n",
       "      <td>Data Scientist</td>\n",
       "      <td>412000</td>\n",
       "      <td>USD</td>\n",
       "      <td>412000</td>\n",
       "      <td>US</td>\n",
       "      <td>100</td>\n",
       "      <td>US</td>\n",
       "      <td>L</td>\n",
       "    </tr>\n",
       "    <tr>\n",
       "      <th>3751</th>\n",
       "      <td>2021</td>\n",
       "      <td>MI</td>\n",
       "      <td>FT</td>\n",
       "      <td>Principal Data Scientist</td>\n",
       "      <td>151000</td>\n",
       "      <td>USD</td>\n",
       "      <td>151000</td>\n",
       "      <td>US</td>\n",
       "      <td>100</td>\n",
       "      <td>US</td>\n",
       "      <td>L</td>\n",
       "    </tr>\n",
       "    <tr>\n",
       "      <th>3752</th>\n",
       "      <td>2020</td>\n",
       "      <td>EN</td>\n",
       "      <td>FT</td>\n",
       "      <td>Data Scientist</td>\n",
       "      <td>105000</td>\n",
       "      <td>USD</td>\n",
       "      <td>105000</td>\n",
       "      <td>US</td>\n",
       "      <td>100</td>\n",
       "      <td>US</td>\n",
       "      <td>S</td>\n",
       "    </tr>\n",
       "    <tr>\n",
       "      <th>3753</th>\n",
       "      <td>2020</td>\n",
       "      <td>EN</td>\n",
       "      <td>CT</td>\n",
       "      <td>Business Data Analyst</td>\n",
       "      <td>100000</td>\n",
       "      <td>USD</td>\n",
       "      <td>100000</td>\n",
       "      <td>US</td>\n",
       "      <td>100</td>\n",
       "      <td>US</td>\n",
       "      <td>L</td>\n",
       "    </tr>\n",
       "    <tr>\n",
       "      <th>3754</th>\n",
       "      <td>2021</td>\n",
       "      <td>SE</td>\n",
       "      <td>FT</td>\n",
       "      <td>Data Science Manager</td>\n",
       "      <td>7000000</td>\n",
       "      <td>INR</td>\n",
       "      <td>94665</td>\n",
       "      <td>IN</td>\n",
       "      <td>50</td>\n",
       "      <td>IN</td>\n",
       "      <td>L</td>\n",
       "    </tr>\n",
       "  </tbody>\n",
       "</table>\n",
       "<p>3755 rows × 11 columns</p>\n",
       "</div>"
      ],
      "text/plain": [
       "      work_year experience_level employment_type                 job_title  \\\n",
       "0          2023               SE              FT  Principal Data Scientist   \n",
       "1          2023               MI              CT               ML Engineer   \n",
       "2          2023               MI              CT               ML Engineer   \n",
       "3          2023               SE              FT            Data Scientist   \n",
       "4          2023               SE              FT            Data Scientist   \n",
       "...         ...              ...             ...                       ...   \n",
       "3750       2020               SE              FT            Data Scientist   \n",
       "3751       2021               MI              FT  Principal Data Scientist   \n",
       "3752       2020               EN              FT            Data Scientist   \n",
       "3753       2020               EN              CT     Business Data Analyst   \n",
       "3754       2021               SE              FT      Data Science Manager   \n",
       "\n",
       "       salary salary_currency  salary_in_usd employee_residence  remote_ratio  \\\n",
       "0       80000             EUR          85847                 ES           100   \n",
       "1       30000             USD          30000                 US           100   \n",
       "2       25500             USD          25500                 US           100   \n",
       "3      175000             USD         175000                 CA           100   \n",
       "4      120000             USD         120000                 CA           100   \n",
       "...       ...             ...            ...                ...           ...   \n",
       "3750   412000             USD         412000                 US           100   \n",
       "3751   151000             USD         151000                 US           100   \n",
       "3752   105000             USD         105000                 US           100   \n",
       "3753   100000             USD         100000                 US           100   \n",
       "3754  7000000             INR          94665                 IN            50   \n",
       "\n",
       "     company_location company_size  \n",
       "0                  ES            L  \n",
       "1                  US            S  \n",
       "2                  US            S  \n",
       "3                  CA            M  \n",
       "4                  CA            M  \n",
       "...               ...          ...  \n",
       "3750               US            L  \n",
       "3751               US            L  \n",
       "3752               US            S  \n",
       "3753               US            L  \n",
       "3754               IN            L  \n",
       "\n",
       "[3755 rows x 11 columns]"
      ]
     },
     "execution_count": 3,
     "metadata": {},
     "output_type": "execute_result"
    }
   ],
   "source": [
    "baseData"
   ]
  },
  {
   "cell_type": "code",
   "execution_count": 4,
   "id": "b7443385-b11b-461e-abd3-c6fd05c6bc4f",
   "metadata": {},
   "outputs": [
    {
     "data": {
      "text/plain": [
       "work_year              int64\n",
       "experience_level      object\n",
       "employment_type       object\n",
       "job_title             object\n",
       "salary                 int64\n",
       "salary_currency       object\n",
       "salary_in_usd          int64\n",
       "employee_residence    object\n",
       "remote_ratio           int64\n",
       "company_location      object\n",
       "company_size          object\n",
       "dtype: object"
      ]
     },
     "execution_count": 4,
     "metadata": {},
     "output_type": "execute_result"
    }
   ],
   "source": [
    "baseData.dtypes"
   ]
  },
  {
   "cell_type": "code",
   "execution_count": 5,
   "id": "751391b1-3815-4e43-bf09-b12d34e6f4e2",
   "metadata": {
    "tags": []
   },
   "outputs": [
    {
     "data": {
      "text/plain": [
       "0     SE\n",
       "1     MI\n",
       "13    EN\n",
       "58    EX\n",
       "Name: experience_level, dtype: object"
      ]
     },
     "execution_count": 5,
     "metadata": {},
     "output_type": "execute_result"
    }
   ],
   "source": [
    "baseData.experience_level.drop_duplicates()"
   ]
  },
  {
   "cell_type": "code",
   "execution_count": 6,
   "id": "34e3a00e-690c-4131-a3d0-fe5e3cb9387e",
   "metadata": {
    "tags": []
   },
   "outputs": [
    {
     "data": {
      "text/plain": [
       "0      FT\n",
       "1      CT\n",
       "324    FL\n",
       "971    PT\n",
       "Name: employment_type, dtype: object"
      ]
     },
     "execution_count": 6,
     "metadata": {},
     "output_type": "execute_result"
    }
   ],
   "source": [
    "baseData.employment_type.drop_duplicates()"
   ]
  },
  {
   "cell_type": "code",
   "execution_count": 7,
   "id": "eea9f2bb-5ccc-46c7-b287-0a08edeedcf1",
   "metadata": {
    "tags": []
   },
   "outputs": [
    {
     "data": {
      "text/plain": [
       "0       EUR\n",
       "1       USD\n",
       "41      INR\n",
       "80      HKD\n",
       "114     CHF\n",
       "157     GBP\n",
       "218     AUD\n",
       "219     SGD\n",
       "322     CAD\n",
       "528     ILS\n",
       "972     BRL\n",
       "998     THB\n",
       "1165    PLN\n",
       "2358    HUF\n",
       "2684    CZK\n",
       "2923    DKK\n",
       "3475    JPY\n",
       "3594    MXN\n",
       "3597    TRY\n",
       "3669    CLP\n",
       "Name: salary_currency, dtype: object"
      ]
     },
     "execution_count": 7,
     "metadata": {},
     "output_type": "execute_result"
    }
   ],
   "source": [
    "baseData.salary_currency.drop_duplicates()"
   ]
  },
  {
   "cell_type": "code",
   "execution_count": 8,
   "id": "e32bb10e-41fa-4eee-9ef8-79526825ae94",
   "metadata": {
    "tags": []
   },
   "outputs": [
    {
     "data": {
      "text/plain": [
       "0       ES\n",
       "1       US\n",
       "3       CA\n",
       "21      DE\n",
       "23      GB\n",
       "        ..\n",
       "3638    RS\n",
       "3657    NZ\n",
       "3720    MD\n",
       "3724    LU\n",
       "3748    MT\n",
       "Name: employee_residence, Length: 78, dtype: object"
      ]
     },
     "execution_count": 8,
     "metadata": {},
     "output_type": "execute_result"
    }
   ],
   "source": [
    "baseData.employee_residence.drop_duplicates()"
   ]
  },
  {
   "cell_type": "code",
   "execution_count": 9,
   "id": "804845c3-470d-437f-b21f-f82891635b6d",
   "metadata": {
    "tags": []
   },
   "outputs": [
    {
     "data": {
      "text/plain": [
       "0       ES\n",
       "1       US\n",
       "3       CA\n",
       "21      DE\n",
       "23      GB\n",
       "        ..\n",
       "3621    CN\n",
       "3657    NZ\n",
       "3669    CL\n",
       "3720    MD\n",
       "3748    MT\n",
       "Name: company_location, Length: 72, dtype: object"
      ]
     },
     "execution_count": 9,
     "metadata": {},
     "output_type": "execute_result"
    }
   ],
   "source": [
    "baseData.company_location.drop_duplicates()"
   ]
  },
  {
   "cell_type": "code",
   "execution_count": 10,
   "id": "9e5b7f9a-2f51-4762-8ef2-08666dcc10ec",
   "metadata": {},
   "outputs": [
    {
     "data": {
      "text/plain": [
       "0    L\n",
       "1    S\n",
       "3    M\n",
       "Name: company_size, dtype: object"
      ]
     },
     "execution_count": 10,
     "metadata": {},
     "output_type": "execute_result"
    }
   ],
   "source": [
    "baseData.company_size.drop_duplicates()"
   ]
  },
  {
   "cell_type": "code",
   "execution_count": 11,
   "id": "7cb643d3-4920-4ec6-b663-aedc95ba57d9",
   "metadata": {},
   "outputs": [],
   "source": [
    "Label = LabelEncoder()"
   ]
  },
  {
   "cell_type": "code",
   "execution_count": 12,
   "id": "c8766782-0f60-4202-9cf6-12fe35c6ba1d",
   "metadata": {},
   "outputs": [],
   "source": [
    "baseData[\"experience_level_no\"] = Label.fit_transform(baseData.experience_level)"
   ]
  },
  {
   "cell_type": "code",
   "execution_count": 13,
   "id": "5ca8f063-c191-453c-a790-cd7288606f8f",
   "metadata": {},
   "outputs": [],
   "source": [
    "baseData[\"employment_type_no\"] = Label.fit_transform(baseData.employment_type)"
   ]
  },
  {
   "cell_type": "code",
   "execution_count": 14,
   "id": "cea02a8f-7c86-4c23-b34e-18bce433e510",
   "metadata": {},
   "outputs": [],
   "source": [
    "baseData[\"salary_currency_no\"] = Label.fit_transform(baseData.salary_currency)"
   ]
  },
  {
   "cell_type": "code",
   "execution_count": 15,
   "id": "182c95a9-0ff7-48e7-84dc-4ae46bf95511",
   "metadata": {},
   "outputs": [],
   "source": [
    "baseData[\"employee_residence_no\"] = Label.fit_transform(baseData.employee_residence)"
   ]
  },
  {
   "cell_type": "code",
   "execution_count": 16,
   "id": "7d25c09b-77f9-4946-8c91-7e8a877b965e",
   "metadata": {},
   "outputs": [],
   "source": [
    "baseData[\"employee_residence_no\"] = Label.fit_transform(baseData.company_location)"
   ]
  },
  {
   "cell_type": "code",
   "execution_count": 17,
   "id": "e83229e5-82f4-477a-956b-3648e4dc1654",
   "metadata": {},
   "outputs": [],
   "source": [
    "baseData[\"company_size_no\"] = Label.fit_transform(baseData.company_size)"
   ]
  },
  {
   "cell_type": "code",
   "execution_count": 18,
   "id": "1b8c6043-8d62-4f7f-9a3c-b0af204e9209",
   "metadata": {},
   "outputs": [
    {
     "data": {
      "text/html": [
       "<div>\n",
       "<style scoped>\n",
       "    .dataframe tbody tr th:only-of-type {\n",
       "        vertical-align: middle;\n",
       "    }\n",
       "\n",
       "    .dataframe tbody tr th {\n",
       "        vertical-align: top;\n",
       "    }\n",
       "\n",
       "    .dataframe thead th {\n",
       "        text-align: right;\n",
       "    }\n",
       "</style>\n",
       "<table border=\"1\" class=\"dataframe\">\n",
       "  <thead>\n",
       "    <tr style=\"text-align: right;\">\n",
       "      <th></th>\n",
       "      <th>work_year</th>\n",
       "      <th>experience_level</th>\n",
       "      <th>employment_type</th>\n",
       "      <th>job_title</th>\n",
       "      <th>salary</th>\n",
       "      <th>salary_currency</th>\n",
       "      <th>salary_in_usd</th>\n",
       "      <th>employee_residence</th>\n",
       "      <th>remote_ratio</th>\n",
       "      <th>company_location</th>\n",
       "      <th>company_size</th>\n",
       "      <th>experience_level_no</th>\n",
       "      <th>employment_type_no</th>\n",
       "      <th>salary_currency_no</th>\n",
       "      <th>employee_residence_no</th>\n",
       "      <th>company_size_no</th>\n",
       "    </tr>\n",
       "  </thead>\n",
       "  <tbody>\n",
       "    <tr>\n",
       "      <th>0</th>\n",
       "      <td>2023</td>\n",
       "      <td>SE</td>\n",
       "      <td>FT</td>\n",
       "      <td>Principal Data Scientist</td>\n",
       "      <td>80000</td>\n",
       "      <td>EUR</td>\n",
       "      <td>85847</td>\n",
       "      <td>ES</td>\n",
       "      <td>100</td>\n",
       "      <td>ES</td>\n",
       "      <td>L</td>\n",
       "      <td>3</td>\n",
       "      <td>2</td>\n",
       "      <td>7</td>\n",
       "      <td>25</td>\n",
       "      <td>0</td>\n",
       "    </tr>\n",
       "    <tr>\n",
       "      <th>1</th>\n",
       "      <td>2023</td>\n",
       "      <td>MI</td>\n",
       "      <td>CT</td>\n",
       "      <td>ML Engineer</td>\n",
       "      <td>30000</td>\n",
       "      <td>USD</td>\n",
       "      <td>30000</td>\n",
       "      <td>US</td>\n",
       "      <td>100</td>\n",
       "      <td>US</td>\n",
       "      <td>S</td>\n",
       "      <td>2</td>\n",
       "      <td>0</td>\n",
       "      <td>19</td>\n",
       "      <td>70</td>\n",
       "      <td>2</td>\n",
       "    </tr>\n",
       "    <tr>\n",
       "      <th>2</th>\n",
       "      <td>2023</td>\n",
       "      <td>MI</td>\n",
       "      <td>CT</td>\n",
       "      <td>ML Engineer</td>\n",
       "      <td>25500</td>\n",
       "      <td>USD</td>\n",
       "      <td>25500</td>\n",
       "      <td>US</td>\n",
       "      <td>100</td>\n",
       "      <td>US</td>\n",
       "      <td>S</td>\n",
       "      <td>2</td>\n",
       "      <td>0</td>\n",
       "      <td>19</td>\n",
       "      <td>70</td>\n",
       "      <td>2</td>\n",
       "    </tr>\n",
       "    <tr>\n",
       "      <th>3</th>\n",
       "      <td>2023</td>\n",
       "      <td>SE</td>\n",
       "      <td>FT</td>\n",
       "      <td>Data Scientist</td>\n",
       "      <td>175000</td>\n",
       "      <td>USD</td>\n",
       "      <td>175000</td>\n",
       "      <td>CA</td>\n",
       "      <td>100</td>\n",
       "      <td>CA</td>\n",
       "      <td>M</td>\n",
       "      <td>3</td>\n",
       "      <td>2</td>\n",
       "      <td>19</td>\n",
       "      <td>12</td>\n",
       "      <td>1</td>\n",
       "    </tr>\n",
       "    <tr>\n",
       "      <th>4</th>\n",
       "      <td>2023</td>\n",
       "      <td>SE</td>\n",
       "      <td>FT</td>\n",
       "      <td>Data Scientist</td>\n",
       "      <td>120000</td>\n",
       "      <td>USD</td>\n",
       "      <td>120000</td>\n",
       "      <td>CA</td>\n",
       "      <td>100</td>\n",
       "      <td>CA</td>\n",
       "      <td>M</td>\n",
       "      <td>3</td>\n",
       "      <td>2</td>\n",
       "      <td>19</td>\n",
       "      <td>12</td>\n",
       "      <td>1</td>\n",
       "    </tr>\n",
       "    <tr>\n",
       "      <th>...</th>\n",
       "      <td>...</td>\n",
       "      <td>...</td>\n",
       "      <td>...</td>\n",
       "      <td>...</td>\n",
       "      <td>...</td>\n",
       "      <td>...</td>\n",
       "      <td>...</td>\n",
       "      <td>...</td>\n",
       "      <td>...</td>\n",
       "      <td>...</td>\n",
       "      <td>...</td>\n",
       "      <td>...</td>\n",
       "      <td>...</td>\n",
       "      <td>...</td>\n",
       "      <td>...</td>\n",
       "      <td>...</td>\n",
       "    </tr>\n",
       "    <tr>\n",
       "      <th>3750</th>\n",
       "      <td>2020</td>\n",
       "      <td>SE</td>\n",
       "      <td>FT</td>\n",
       "      <td>Data Scientist</td>\n",
       "      <td>412000</td>\n",
       "      <td>USD</td>\n",
       "      <td>412000</td>\n",
       "      <td>US</td>\n",
       "      <td>100</td>\n",
       "      <td>US</td>\n",
       "      <td>L</td>\n",
       "      <td>3</td>\n",
       "      <td>2</td>\n",
       "      <td>19</td>\n",
       "      <td>70</td>\n",
       "      <td>0</td>\n",
       "    </tr>\n",
       "    <tr>\n",
       "      <th>3751</th>\n",
       "      <td>2021</td>\n",
       "      <td>MI</td>\n",
       "      <td>FT</td>\n",
       "      <td>Principal Data Scientist</td>\n",
       "      <td>151000</td>\n",
       "      <td>USD</td>\n",
       "      <td>151000</td>\n",
       "      <td>US</td>\n",
       "      <td>100</td>\n",
       "      <td>US</td>\n",
       "      <td>L</td>\n",
       "      <td>2</td>\n",
       "      <td>2</td>\n",
       "      <td>19</td>\n",
       "      <td>70</td>\n",
       "      <td>0</td>\n",
       "    </tr>\n",
       "    <tr>\n",
       "      <th>3752</th>\n",
       "      <td>2020</td>\n",
       "      <td>EN</td>\n",
       "      <td>FT</td>\n",
       "      <td>Data Scientist</td>\n",
       "      <td>105000</td>\n",
       "      <td>USD</td>\n",
       "      <td>105000</td>\n",
       "      <td>US</td>\n",
       "      <td>100</td>\n",
       "      <td>US</td>\n",
       "      <td>S</td>\n",
       "      <td>0</td>\n",
       "      <td>2</td>\n",
       "      <td>19</td>\n",
       "      <td>70</td>\n",
       "      <td>2</td>\n",
       "    </tr>\n",
       "    <tr>\n",
       "      <th>3753</th>\n",
       "      <td>2020</td>\n",
       "      <td>EN</td>\n",
       "      <td>CT</td>\n",
       "      <td>Business Data Analyst</td>\n",
       "      <td>100000</td>\n",
       "      <td>USD</td>\n",
       "      <td>100000</td>\n",
       "      <td>US</td>\n",
       "      <td>100</td>\n",
       "      <td>US</td>\n",
       "      <td>L</td>\n",
       "      <td>0</td>\n",
       "      <td>0</td>\n",
       "      <td>19</td>\n",
       "      <td>70</td>\n",
       "      <td>0</td>\n",
       "    </tr>\n",
       "    <tr>\n",
       "      <th>3754</th>\n",
       "      <td>2021</td>\n",
       "      <td>SE</td>\n",
       "      <td>FT</td>\n",
       "      <td>Data Science Manager</td>\n",
       "      <td>7000000</td>\n",
       "      <td>INR</td>\n",
       "      <td>94665</td>\n",
       "      <td>IN</td>\n",
       "      <td>50</td>\n",
       "      <td>IN</td>\n",
       "      <td>L</td>\n",
       "      <td>3</td>\n",
       "      <td>2</td>\n",
       "      <td>12</td>\n",
       "      <td>38</td>\n",
       "      <td>0</td>\n",
       "    </tr>\n",
       "  </tbody>\n",
       "</table>\n",
       "<p>3755 rows × 16 columns</p>\n",
       "</div>"
      ],
      "text/plain": [
       "      work_year experience_level employment_type                 job_title  \\\n",
       "0          2023               SE              FT  Principal Data Scientist   \n",
       "1          2023               MI              CT               ML Engineer   \n",
       "2          2023               MI              CT               ML Engineer   \n",
       "3          2023               SE              FT            Data Scientist   \n",
       "4          2023               SE              FT            Data Scientist   \n",
       "...         ...              ...             ...                       ...   \n",
       "3750       2020               SE              FT            Data Scientist   \n",
       "3751       2021               MI              FT  Principal Data Scientist   \n",
       "3752       2020               EN              FT            Data Scientist   \n",
       "3753       2020               EN              CT     Business Data Analyst   \n",
       "3754       2021               SE              FT      Data Science Manager   \n",
       "\n",
       "       salary salary_currency  salary_in_usd employee_residence  remote_ratio  \\\n",
       "0       80000             EUR          85847                 ES           100   \n",
       "1       30000             USD          30000                 US           100   \n",
       "2       25500             USD          25500                 US           100   \n",
       "3      175000             USD         175000                 CA           100   \n",
       "4      120000             USD         120000                 CA           100   \n",
       "...       ...             ...            ...                ...           ...   \n",
       "3750   412000             USD         412000                 US           100   \n",
       "3751   151000             USD         151000                 US           100   \n",
       "3752   105000             USD         105000                 US           100   \n",
       "3753   100000             USD         100000                 US           100   \n",
       "3754  7000000             INR          94665                 IN            50   \n",
       "\n",
       "     company_location company_size  experience_level_no  employment_type_no  \\\n",
       "0                  ES            L                    3                   2   \n",
       "1                  US            S                    2                   0   \n",
       "2                  US            S                    2                   0   \n",
       "3                  CA            M                    3                   2   \n",
       "4                  CA            M                    3                   2   \n",
       "...               ...          ...                  ...                 ...   \n",
       "3750               US            L                    3                   2   \n",
       "3751               US            L                    2                   2   \n",
       "3752               US            S                    0                   2   \n",
       "3753               US            L                    0                   0   \n",
       "3754               IN            L                    3                   2   \n",
       "\n",
       "      salary_currency_no  employee_residence_no  company_size_no  \n",
       "0                      7                     25                0  \n",
       "1                     19                     70                2  \n",
       "2                     19                     70                2  \n",
       "3                     19                     12                1  \n",
       "4                     19                     12                1  \n",
       "...                  ...                    ...              ...  \n",
       "3750                  19                     70                0  \n",
       "3751                  19                     70                0  \n",
       "3752                  19                     70                2  \n",
       "3753                  19                     70                0  \n",
       "3754                  12                     38                0  \n",
       "\n",
       "[3755 rows x 16 columns]"
      ]
     },
     "execution_count": 18,
     "metadata": {},
     "output_type": "execute_result"
    }
   ],
   "source": [
    "baseData"
   ]
  },
  {
   "cell_type": "code",
   "execution_count": 19,
   "id": "193a3ba8-3475-4e66-8624-56558f125c2c",
   "metadata": {},
   "outputs": [
    {
     "data": {
      "text/html": [
       "<div>\n",
       "<style scoped>\n",
       "    .dataframe tbody tr th:only-of-type {\n",
       "        vertical-align: middle;\n",
       "    }\n",
       "\n",
       "    .dataframe tbody tr th {\n",
       "        vertical-align: top;\n",
       "    }\n",
       "\n",
       "    .dataframe thead th {\n",
       "        text-align: right;\n",
       "    }\n",
       "</style>\n",
       "<table border=\"1\" class=\"dataframe\">\n",
       "  <thead>\n",
       "    <tr style=\"text-align: right;\">\n",
       "      <th></th>\n",
       "      <th>work_year</th>\n",
       "      <th>salary</th>\n",
       "      <th>salary_in_usd</th>\n",
       "      <th>remote_ratio</th>\n",
       "      <th>experience_level_no</th>\n",
       "      <th>employment_type_no</th>\n",
       "      <th>salary_currency_no</th>\n",
       "      <th>employee_residence_no</th>\n",
       "      <th>company_size_no</th>\n",
       "    </tr>\n",
       "  </thead>\n",
       "  <tbody>\n",
       "    <tr>\n",
       "      <th>work_year</th>\n",
       "      <td>1.000000</td>\n",
       "      <td>-0.094724</td>\n",
       "      <td>0.228290</td>\n",
       "      <td>-0.236430</td>\n",
       "      <td>0.187748</td>\n",
       "      <td>0.011127</td>\n",
       "      <td>0.254548</td>\n",
       "      <td>0.234661</td>\n",
       "      <td>0.138875</td>\n",
       "    </tr>\n",
       "    <tr>\n",
       "      <th>salary</th>\n",
       "      <td>-0.094724</td>\n",
       "      <td>1.000000</td>\n",
       "      <td>-0.023676</td>\n",
       "      <td>0.028731</td>\n",
       "      <td>-0.024884</td>\n",
       "      <td>-0.003908</td>\n",
       "      <td>-0.091121</td>\n",
       "      <td>-0.072774</td>\n",
       "      <td>-0.100352</td>\n",
       "    </tr>\n",
       "    <tr>\n",
       "      <th>salary_in_usd</th>\n",
       "      <td>0.228290</td>\n",
       "      <td>-0.023676</td>\n",
       "      <td>1.000000</td>\n",
       "      <td>-0.064171</td>\n",
       "      <td>0.327173</td>\n",
       "      <td>-0.010329</td>\n",
       "      <td>0.430450</td>\n",
       "      <td>0.405183</td>\n",
       "      <td>-0.000372</td>\n",
       "    </tr>\n",
       "    <tr>\n",
       "      <th>remote_ratio</th>\n",
       "      <td>-0.236430</td>\n",
       "      <td>0.028731</td>\n",
       "      <td>-0.064171</td>\n",
       "      <td>1.000000</td>\n",
       "      <td>-0.054025</td>\n",
       "      <td>-0.028673</td>\n",
       "      <td>-0.046644</td>\n",
       "      <td>-0.071574</td>\n",
       "      <td>-0.036928</td>\n",
       "    </tr>\n",
       "    <tr>\n",
       "      <th>experience_level_no</th>\n",
       "      <td>0.187748</td>\n",
       "      <td>-0.024884</td>\n",
       "      <td>0.327173</td>\n",
       "      <td>-0.054025</td>\n",
       "      <td>1.000000</td>\n",
       "      <td>-0.032794</td>\n",
       "      <td>0.225464</td>\n",
       "      <td>0.250591</td>\n",
       "      <td>0.066414</td>\n",
       "    </tr>\n",
       "    <tr>\n",
       "      <th>employment_type_no</th>\n",
       "      <td>0.011127</td>\n",
       "      <td>-0.003908</td>\n",
       "      <td>-0.010329</td>\n",
       "      <td>-0.028673</td>\n",
       "      <td>-0.032794</td>\n",
       "      <td>1.000000</td>\n",
       "      <td>-0.048446</td>\n",
       "      <td>-0.013963</td>\n",
       "      <td>-0.041001</td>\n",
       "    </tr>\n",
       "    <tr>\n",
       "      <th>salary_currency_no</th>\n",
       "      <td>0.254548</td>\n",
       "      <td>-0.091121</td>\n",
       "      <td>0.430450</td>\n",
       "      <td>-0.046644</td>\n",
       "      <td>0.225464</td>\n",
       "      <td>-0.048446</td>\n",
       "      <td>1.000000</td>\n",
       "      <td>0.764744</td>\n",
       "      <td>0.102738</td>\n",
       "    </tr>\n",
       "    <tr>\n",
       "      <th>employee_residence_no</th>\n",
       "      <td>0.234661</td>\n",
       "      <td>-0.072774</td>\n",
       "      <td>0.405183</td>\n",
       "      <td>-0.071574</td>\n",
       "      <td>0.250591</td>\n",
       "      <td>-0.013963</td>\n",
       "      <td>0.764744</td>\n",
       "      <td>1.000000</td>\n",
       "      <td>0.041703</td>\n",
       "    </tr>\n",
       "    <tr>\n",
       "      <th>company_size_no</th>\n",
       "      <td>0.138875</td>\n",
       "      <td>-0.100352</td>\n",
       "      <td>-0.000372</td>\n",
       "      <td>-0.036928</td>\n",
       "      <td>0.066414</td>\n",
       "      <td>-0.041001</td>\n",
       "      <td>0.102738</td>\n",
       "      <td>0.041703</td>\n",
       "      <td>1.000000</td>\n",
       "    </tr>\n",
       "  </tbody>\n",
       "</table>\n",
       "</div>"
      ],
      "text/plain": [
       "                       work_year    salary  salary_in_usd  remote_ratio  \\\n",
       "work_year               1.000000 -0.094724       0.228290     -0.236430   \n",
       "salary                 -0.094724  1.000000      -0.023676      0.028731   \n",
       "salary_in_usd           0.228290 -0.023676       1.000000     -0.064171   \n",
       "remote_ratio           -0.236430  0.028731      -0.064171      1.000000   \n",
       "experience_level_no     0.187748 -0.024884       0.327173     -0.054025   \n",
       "employment_type_no      0.011127 -0.003908      -0.010329     -0.028673   \n",
       "salary_currency_no      0.254548 -0.091121       0.430450     -0.046644   \n",
       "employee_residence_no   0.234661 -0.072774       0.405183     -0.071574   \n",
       "company_size_no         0.138875 -0.100352      -0.000372     -0.036928   \n",
       "\n",
       "                       experience_level_no  employment_type_no  \\\n",
       "work_year                         0.187748            0.011127   \n",
       "salary                           -0.024884           -0.003908   \n",
       "salary_in_usd                     0.327173           -0.010329   \n",
       "remote_ratio                     -0.054025           -0.028673   \n",
       "experience_level_no               1.000000           -0.032794   \n",
       "employment_type_no               -0.032794            1.000000   \n",
       "salary_currency_no                0.225464           -0.048446   \n",
       "employee_residence_no             0.250591           -0.013963   \n",
       "company_size_no                   0.066414           -0.041001   \n",
       "\n",
       "                       salary_currency_no  employee_residence_no  \\\n",
       "work_year                        0.254548               0.234661   \n",
       "salary                          -0.091121              -0.072774   \n",
       "salary_in_usd                    0.430450               0.405183   \n",
       "remote_ratio                    -0.046644              -0.071574   \n",
       "experience_level_no              0.225464               0.250591   \n",
       "employment_type_no              -0.048446              -0.013963   \n",
       "salary_currency_no               1.000000               0.764744   \n",
       "employee_residence_no            0.764744               1.000000   \n",
       "company_size_no                  0.102738               0.041703   \n",
       "\n",
       "                       company_size_no  \n",
       "work_year                     0.138875  \n",
       "salary                       -0.100352  \n",
       "salary_in_usd                -0.000372  \n",
       "remote_ratio                 -0.036928  \n",
       "experience_level_no           0.066414  \n",
       "employment_type_no           -0.041001  \n",
       "salary_currency_no            0.102738  \n",
       "employee_residence_no         0.041703  \n",
       "company_size_no               1.000000  "
      ]
     },
     "execution_count": 19,
     "metadata": {},
     "output_type": "execute_result"
    }
   ],
   "source": [
    "corrDf = baseData.corr()\n",
    "stdRaio = 0.3\n",
    "corrDf"
   ]
  },
  {
   "cell_type": "code",
   "execution_count": 20,
   "id": "fff5b92c-01f8-4d55-a80e-8236133f0daf",
   "metadata": {},
   "outputs": [
    {
     "data": {
      "text/plain": [
       "['experience_level_no', 'salary_currency_no', 'employee_residence_no']"
      ]
     },
     "execution_count": 20,
     "metadata": {},
     "output_type": "execute_result"
    }
   ],
   "source": [
    "feature = list(corrDf.loc[(abs(corrDf.salary_in_usd)>stdRaio)&(abs(corrDf.salary_in_usd)!=1)].index)\n",
    "feature"
   ]
  },
  {
   "cell_type": "code",
   "execution_count": 21,
   "id": "844094cb-5952-4e5a-ac02-5a6cdbbe893f",
   "metadata": {},
   "outputs": [],
   "source": [
    "label = [\"salary_in_usd\"]"
   ]
  },
  {
   "cell_type": "code",
   "execution_count": 22,
   "id": "60d3feb7-a02a-49a6-9af3-b17adb0af29f",
   "metadata": {},
   "outputs": [
    {
     "data": {
      "text/plain": [
       "(3755, 3)"
      ]
     },
     "execution_count": 22,
     "metadata": {},
     "output_type": "execute_result"
    }
   ],
   "source": [
    "featureData = baseData.loc[:,feature]\n",
    "featureData.shape"
   ]
  },
  {
   "cell_type": "code",
   "execution_count": 23,
   "id": "dc2ff4b9-accf-48e3-95c5-6c0fc531b1ba",
   "metadata": {},
   "outputs": [
    {
     "data": {
      "text/plain": [
       "(3755, 1)"
      ]
     },
     "execution_count": 23,
     "metadata": {},
     "output_type": "execute_result"
    }
   ],
   "source": [
    "labelData = baseData.loc[:,label]\n",
    "labelData.shape"
   ]
  },
  {
   "cell_type": "code",
   "execution_count": 24,
   "id": "fa04f590-730a-4f13-adfc-04b442df8074",
   "metadata": {},
   "outputs": [],
   "source": [
    "trainDataFeat,\\\n",
    "testDataFeat,\\\n",
    "trainDataLabel,\\\n",
    "testDataLabel = train_test_split(featureData, labelData, test_size=0.3, random_state=10)"
   ]
  },
  {
   "cell_type": "code",
   "execution_count": 25,
   "id": "533a98d3-7453-4e9c-9449-249ca1499305",
   "metadata": {},
   "outputs": [
    {
     "name": "stdout",
     "output_type": "stream",
     "text": [
      "(2628, 3)\n",
      "(2628, 1)\n",
      "(1127, 3)\n",
      "(1127, 1)\n"
     ]
    }
   ],
   "source": [
    "print(trainDataFeat.shape)\n",
    "print(trainDataLabel.shape)\n",
    "print(testDataFeat.shape)\n",
    "print(testDataLabel.shape)"
   ]
  },
  {
   "cell_type": "code",
   "execution_count": 26,
   "id": "3420aee5-1e0b-46dd-a7c9-65e51cd19970",
   "metadata": {},
   "outputs": [],
   "source": [
    "testIndex = testDataLabel.index"
   ]
  },
  {
   "cell_type": "code",
   "execution_count": 27,
   "id": "55c59302-e4e4-42cd-bc47-dea2f82ea3e7",
   "metadata": {},
   "outputs": [],
   "source": [
    "dtModel = tree.DecisionTreeRegressor(random_state=10)"
   ]
  },
  {
   "cell_type": "code",
   "execution_count": 28,
   "id": "de2f4d44-bb14-4290-be8f-c854ce0f2171",
   "metadata": {},
   "outputs": [
    {
     "data": {
      "text/plain": [
       "DecisionTreeRegressor(random_state=10)"
      ]
     },
     "execution_count": 28,
     "metadata": {},
     "output_type": "execute_result"
    }
   ],
   "source": [
    "dtModel.fit(X = trainDataFeat, y = trainDataLabel)"
   ]
  },
  {
   "cell_type": "code",
   "execution_count": 29,
   "id": "c00a89b1-d805-4814-80bb-7ecf99387700",
   "metadata": {},
   "outputs": [],
   "source": [
    "predict = dtModel.predict(X = testDataFeat)\n",
    "predictData = pd.DataFrame(predict, columns=[\"predict\"])"
   ]
  },
  {
   "cell_type": "code",
   "execution_count": 30,
   "id": "69ce69df-5c8f-4a3c-b7dc-d96c8d78b03c",
   "metadata": {},
   "outputs": [],
   "source": [
    "testDataLabel.reset_index(drop=True, inplace=True)"
   ]
  },
  {
   "cell_type": "code",
   "execution_count": 31,
   "id": "a81e442f-b721-4475-81d2-a58c4798b673",
   "metadata": {},
   "outputs": [
    {
     "data": {
      "text/html": [
       "<div>\n",
       "<style scoped>\n",
       "    .dataframe tbody tr th:only-of-type {\n",
       "        vertical-align: middle;\n",
       "    }\n",
       "\n",
       "    .dataframe tbody tr th {\n",
       "        vertical-align: top;\n",
       "    }\n",
       "\n",
       "    .dataframe thead th {\n",
       "        text-align: right;\n",
       "    }\n",
       "</style>\n",
       "<table border=\"1\" class=\"dataframe\">\n",
       "  <thead>\n",
       "    <tr style=\"text-align: right;\">\n",
       "      <th></th>\n",
       "      <th>salary_in_usd</th>\n",
       "      <th>predict</th>\n",
       "    </tr>\n",
       "  </thead>\n",
       "  <tbody>\n",
       "    <tr>\n",
       "      <th>0</th>\n",
       "      <td>116000</td>\n",
       "      <td>159346.918342</td>\n",
       "    </tr>\n",
       "    <tr>\n",
       "      <th>1</th>\n",
       "      <td>204500</td>\n",
       "      <td>159346.918342</td>\n",
       "    </tr>\n",
       "    <tr>\n",
       "      <th>2</th>\n",
       "      <td>220000</td>\n",
       "      <td>127824.142012</td>\n",
       "    </tr>\n",
       "    <tr>\n",
       "      <th>3</th>\n",
       "      <td>108000</td>\n",
       "      <td>159346.918342</td>\n",
       "    </tr>\n",
       "    <tr>\n",
       "      <th>4</th>\n",
       "      <td>193900</td>\n",
       "      <td>127824.142012</td>\n",
       "    </tr>\n",
       "    <tr>\n",
       "      <th>...</th>\n",
       "      <td>...</td>\n",
       "      <td>...</td>\n",
       "    </tr>\n",
       "    <tr>\n",
       "      <th>1122</th>\n",
       "      <td>45760</td>\n",
       "      <td>127824.142012</td>\n",
       "    </tr>\n",
       "    <tr>\n",
       "      <th>1123</th>\n",
       "      <td>81666</td>\n",
       "      <td>159346.918342</td>\n",
       "    </tr>\n",
       "    <tr>\n",
       "      <th>1124</th>\n",
       "      <td>136000</td>\n",
       "      <td>159346.918342</td>\n",
       "    </tr>\n",
       "    <tr>\n",
       "      <th>1125</th>\n",
       "      <td>150000</td>\n",
       "      <td>159346.918342</td>\n",
       "    </tr>\n",
       "    <tr>\n",
       "      <th>1126</th>\n",
       "      <td>145000</td>\n",
       "      <td>159346.918342</td>\n",
       "    </tr>\n",
       "  </tbody>\n",
       "</table>\n",
       "<p>1127 rows × 2 columns</p>\n",
       "</div>"
      ],
      "text/plain": [
       "      salary_in_usd        predict\n",
       "0            116000  159346.918342\n",
       "1            204500  159346.918342\n",
       "2            220000  127824.142012\n",
       "3            108000  159346.918342\n",
       "4            193900  127824.142012\n",
       "...             ...            ...\n",
       "1122          45760  127824.142012\n",
       "1123          81666  159346.918342\n",
       "1124         136000  159346.918342\n",
       "1125         150000  159346.918342\n",
       "1126         145000  159346.918342\n",
       "\n",
       "[1127 rows x 2 columns]"
      ]
     },
     "execution_count": 31,
     "metadata": {},
     "output_type": "execute_result"
    }
   ],
   "source": [
    "resultData = pd.concat([testDataLabel, predictData], axis=1)\n",
    "resultData"
   ]
  },
  {
   "cell_type": "code",
   "execution_count": 32,
   "id": "9f463218-1c58-4a33-b402-16956628739c",
   "metadata": {},
   "outputs": [
    {
     "data": {
      "text/plain": [
       "['experience_level_no', 'salary_currency_no', 'employee_residence_no']"
      ]
     },
     "execution_count": 32,
     "metadata": {},
     "output_type": "execute_result"
    }
   ],
   "source": [
    "feature"
   ]
  },
  {
   "cell_type": "code",
   "execution_count": 33,
   "id": "87ecdfed-fd72-42ac-af05-0b6e308ffda9",
   "metadata": {},
   "outputs": [
    {
     "data": {
      "text/plain": [
       "['experience_level', 'salary_currency', 'employee_residence']"
      ]
     },
     "execution_count": 33,
     "metadata": {},
     "output_type": "execute_result"
    }
   ],
   "source": [
    "baseFeat = []\n",
    "for i in range (0,len(feature)) : \n",
    "    splitFeat = feature[i].split(\"_\")\n",
    "    baseFeat.append(splitFeat[0] + \"_\" + splitFeat[1])\n",
    "baseFeat"
   ]
  },
  {
   "cell_type": "code",
   "execution_count": 34,
   "id": "64eeb80d-fac7-4784-a03a-d236504e644d",
   "metadata": {},
   "outputs": [],
   "source": [
    "conData = baseData.loc[testIndex,baseFeat]"
   ]
  },
  {
   "cell_type": "code",
   "execution_count": 35,
   "id": "71aec6ac-1858-42e0-b1d6-b25a9dd6da1f",
   "metadata": {},
   "outputs": [],
   "source": [
    "conData.reset_index(drop=True, inplace=True)"
   ]
  },
  {
   "cell_type": "code",
   "execution_count": 36,
   "id": "2211e20f-f2e2-4fdc-8422-0a36e026d9c4",
   "metadata": {},
   "outputs": [
    {
     "data": {
      "text/html": [
       "<div>\n",
       "<style scoped>\n",
       "    .dataframe tbody tr th:only-of-type {\n",
       "        vertical-align: middle;\n",
       "    }\n",
       "\n",
       "    .dataframe tbody tr th {\n",
       "        vertical-align: top;\n",
       "    }\n",
       "\n",
       "    .dataframe thead th {\n",
       "        text-align: right;\n",
       "    }\n",
       "</style>\n",
       "<table border=\"1\" class=\"dataframe\">\n",
       "  <thead>\n",
       "    <tr style=\"text-align: right;\">\n",
       "      <th></th>\n",
       "      <th>experience_level</th>\n",
       "      <th>salary_currency</th>\n",
       "      <th>employee_residence</th>\n",
       "      <th>salary_in_usd</th>\n",
       "      <th>predict</th>\n",
       "    </tr>\n",
       "  </thead>\n",
       "  <tbody>\n",
       "    <tr>\n",
       "      <th>0</th>\n",
       "      <td>SE</td>\n",
       "      <td>USD</td>\n",
       "      <td>US</td>\n",
       "      <td>116000</td>\n",
       "      <td>159346.918342</td>\n",
       "    </tr>\n",
       "    <tr>\n",
       "      <th>1</th>\n",
       "      <td>SE</td>\n",
       "      <td>USD</td>\n",
       "      <td>US</td>\n",
       "      <td>204500</td>\n",
       "      <td>159346.918342</td>\n",
       "    </tr>\n",
       "    <tr>\n",
       "      <th>2</th>\n",
       "      <td>MI</td>\n",
       "      <td>USD</td>\n",
       "      <td>US</td>\n",
       "      <td>220000</td>\n",
       "      <td>127824.142012</td>\n",
       "    </tr>\n",
       "    <tr>\n",
       "      <th>3</th>\n",
       "      <td>SE</td>\n",
       "      <td>USD</td>\n",
       "      <td>US</td>\n",
       "      <td>108000</td>\n",
       "      <td>159346.918342</td>\n",
       "    </tr>\n",
       "    <tr>\n",
       "      <th>4</th>\n",
       "      <td>MI</td>\n",
       "      <td>USD</td>\n",
       "      <td>US</td>\n",
       "      <td>193900</td>\n",
       "      <td>127824.142012</td>\n",
       "    </tr>\n",
       "    <tr>\n",
       "      <th>...</th>\n",
       "      <td>...</td>\n",
       "      <td>...</td>\n",
       "      <td>...</td>\n",
       "      <td>...</td>\n",
       "      <td>...</td>\n",
       "    </tr>\n",
       "    <tr>\n",
       "      <th>1122</th>\n",
       "      <td>MI</td>\n",
       "      <td>USD</td>\n",
       "      <td>PH</td>\n",
       "      <td>45760</td>\n",
       "      <td>127824.142012</td>\n",
       "    </tr>\n",
       "    <tr>\n",
       "      <th>1123</th>\n",
       "      <td>SE</td>\n",
       "      <td>USD</td>\n",
       "      <td>US</td>\n",
       "      <td>81666</td>\n",
       "      <td>159346.918342</td>\n",
       "    </tr>\n",
       "    <tr>\n",
       "      <th>1124</th>\n",
       "      <td>SE</td>\n",
       "      <td>USD</td>\n",
       "      <td>US</td>\n",
       "      <td>136000</td>\n",
       "      <td>159346.918342</td>\n",
       "    </tr>\n",
       "    <tr>\n",
       "      <th>1125</th>\n",
       "      <td>SE</td>\n",
       "      <td>USD</td>\n",
       "      <td>US</td>\n",
       "      <td>150000</td>\n",
       "      <td>159346.918342</td>\n",
       "    </tr>\n",
       "    <tr>\n",
       "      <th>1126</th>\n",
       "      <td>SE</td>\n",
       "      <td>USD</td>\n",
       "      <td>US</td>\n",
       "      <td>145000</td>\n",
       "      <td>159346.918342</td>\n",
       "    </tr>\n",
       "  </tbody>\n",
       "</table>\n",
       "<p>1127 rows × 5 columns</p>\n",
       "</div>"
      ],
      "text/plain": [
       "     experience_level salary_currency employee_residence  salary_in_usd  \\\n",
       "0                  SE             USD                 US         116000   \n",
       "1                  SE             USD                 US         204500   \n",
       "2                  MI             USD                 US         220000   \n",
       "3                  SE             USD                 US         108000   \n",
       "4                  MI             USD                 US         193900   \n",
       "...               ...             ...                ...            ...   \n",
       "1122               MI             USD                 PH          45760   \n",
       "1123               SE             USD                 US          81666   \n",
       "1124               SE             USD                 US         136000   \n",
       "1125               SE             USD                 US         150000   \n",
       "1126               SE             USD                 US         145000   \n",
       "\n",
       "            predict  \n",
       "0     159346.918342  \n",
       "1     159346.918342  \n",
       "2     127824.142012  \n",
       "3     159346.918342  \n",
       "4     127824.142012  \n",
       "...             ...  \n",
       "1122  127824.142012  \n",
       "1123  159346.918342  \n",
       "1124  159346.918342  \n",
       "1125  159346.918342  \n",
       "1126  159346.918342  \n",
       "\n",
       "[1127 rows x 5 columns]"
      ]
     },
     "execution_count": 36,
     "metadata": {},
     "output_type": "execute_result"
    }
   ],
   "source": [
    "finalData = pd.concat([conData, resultData], axis=1)\n",
    "finalData"
   ]
  },
  {
   "cell_type": "code",
   "execution_count": 37,
   "id": "dbed3768-530d-4b1c-9ce1-aac0aa17fd14",
   "metadata": {},
   "outputs": [
    {
     "data": {
      "text/plain": [
       "['experience_level_no', 'salary_currency_no', 'employee_residence_no']"
      ]
     },
     "execution_count": 37,
     "metadata": {},
     "output_type": "execute_result"
    }
   ],
   "source": [
    "feature"
   ]
  },
  {
   "cell_type": "code",
   "execution_count": 38,
   "id": "649761d6-2b4f-4acc-86d2-e7bd5caf264e",
   "metadata": {},
   "outputs": [
    {
     "name": "stdout",
     "output_type": "stream",
     "text": [
      "residenxe 0 3\n"
     ]
    }
   ],
   "source": [
    "featureData.experience_level_no.drop_duplicates()\n",
    "print(\"residenxe\" , min(featureData.experience_level_no),\n",
    "max(featureData.experience_level_no))"
   ]
  },
  {
   "cell_type": "code",
   "execution_count": 39,
   "id": "42d5e7ec-a31e-4ff7-80ca-273c921fc9ae",
   "metadata": {},
   "outputs": [
    {
     "name": "stdout",
     "output_type": "stream",
     "text": [
      "residenxe 0 19\n"
     ]
    }
   ],
   "source": [
    "featureData.salary_currency_no.drop_duplicates()\n",
    "print(\"residenxe\" , min(featureData.salary_currency_no),\n",
    "max(featureData.salary_currency_no))"
   ]
  },
  {
   "cell_type": "code",
   "execution_count": 40,
   "id": "260795ba-2c90-4844-ae92-32c86c3a05a5",
   "metadata": {},
   "outputs": [
    {
     "name": "stdout",
     "output_type": "stream",
     "text": [
      "residenxe 0 71\n"
     ]
    }
   ],
   "source": [
    "featureData.employee_residence_no.drop_duplicates()\n",
    "print(\"residenxe\" , min(featureData.employee_residence_no),\n",
    "max(featureData.employee_residence_no))"
   ]
  },
  {
   "cell_type": "code",
   "execution_count": 41,
   "id": "c4809707-1554-471b-9463-b35e9f10dc33",
   "metadata": {},
   "outputs": [],
   "source": [
    "inExprience = 0\n",
    "inSalary = 15\n",
    "inResidence = 71 "
   ]
  },
  {
   "cell_type": "code",
   "execution_count": 42,
   "id": "d059ebf6-e91a-4687-8950-5e7f5adcb3ae",
   "metadata": {},
   "outputs": [
    {
     "data": {
      "text/html": [
       "<div>\n",
       "<style scoped>\n",
       "    .dataframe tbody tr th:only-of-type {\n",
       "        vertical-align: middle;\n",
       "    }\n",
       "\n",
       "    .dataframe tbody tr th {\n",
       "        vertical-align: top;\n",
       "    }\n",
       "\n",
       "    .dataframe thead th {\n",
       "        text-align: right;\n",
       "    }\n",
       "</style>\n",
       "<table border=\"1\" class=\"dataframe\">\n",
       "  <thead>\n",
       "    <tr style=\"text-align: right;\">\n",
       "      <th></th>\n",
       "      <th>0</th>\n",
       "      <th>1</th>\n",
       "      <th>2</th>\n",
       "    </tr>\n",
       "  </thead>\n",
       "  <tbody>\n",
       "    <tr>\n",
       "      <th>0</th>\n",
       "      <td>0</td>\n",
       "      <td>15</td>\n",
       "      <td>71</td>\n",
       "    </tr>\n",
       "  </tbody>\n",
       "</table>\n",
       "</div>"
      ],
      "text/plain": [
       "   0   1   2\n",
       "0  0  15  71"
      ]
     },
     "execution_count": 42,
     "metadata": {},
     "output_type": "execute_result"
    }
   ],
   "source": [
    "testData = pd.DataFrame([[inExprience,inSalary,inResidence]])\n",
    "testData"
   ]
  },
  {
   "cell_type": "code",
   "execution_count": 43,
   "id": "d4a4d8b2-7c92-4bd8-bc68-993072544678",
   "metadata": {},
   "outputs": [
    {
     "name": "stdout",
     "output_type": "stream",
     "text": [
      "지급 급여 : 65257.0\n"
     ]
    },
    {
     "name": "stderr",
     "output_type": "stream",
     "text": [
      "C:\\Users\\WIN\\anaconda3\\lib\\site-packages\\sklearn\\base.py:450: UserWarning: X does not have valid feature names, but DecisionTreeRegressor was fitted with feature names\n",
      "  warnings.warn(\n"
     ]
    }
   ],
   "source": [
    "result = dtModel.predict(X = testData)\n",
    "print(\"지급 급여 :\",result[0])"
   ]
  }
 ],
 "metadata": {
  "kernelspec": {
   "display_name": "Python 3 (ipykernel)",
   "language": "python",
   "name": "python3"
  },
  "language_info": {
   "codemirror_mode": {
    "name": "ipython",
    "version": 3
   },
   "file_extension": ".py",
   "mimetype": "text/x-python",
   "name": "python",
   "nbconvert_exporter": "python",
   "pygments_lexer": "ipython3",
   "version": "3.9.12"
  }
 },
 "nbformat": 4,
 "nbformat_minor": 5
}
