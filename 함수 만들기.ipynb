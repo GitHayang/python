{
 "cells": [
  {
   "cell_type": "markdown",
   "id": "9c3ef2b3-9e23-4a4a-b3d4-c2942f1a669c",
   "metadata": {},
   "source": [
    "# 함수를 만든다 (최대/최소 빼는거)"
   ]
  },
  {
   "cell_type": "code",
   "execution_count": 2,
   "id": "0ccf5037-b7a8-4a14-9bf7-16982c474c54",
   "metadata": {},
   "outputs": [],
   "source": [
    "def calAvg(testList):\n",
    "    \"\"\"\n",
    "    함수이름 최소 최대값을 뺀 평균\n",
    "    parameter : testlist = 수리스트\n",
    "    return : 리스트 내 값에서 최소 최대 값을 뺀 평균을 반환한다.\n",
    "    \"\"\"\n",
    "    # testList = [1,2,3,4,5,6,7,8,9,11]\n",
    "\n",
    "    minValue = min(testList)\n",
    "    maxValue = max(testList)\n",
    "    print(\"최대값{} 최소값{}\".format(minValue,maxValue))\n",
    "\n",
    "    testList.remove(minValue)\n",
    "    testList.remove(maxValue)\n",
    "\n",
    "    avg = 0\n",
    "    if len(testList) !=0:\n",
    "        avg  = sum(testList)/len(testList)\n",
    "    else : \n",
    "        pass\n",
    "\n",
    "    print(avg)\n",
    "    return;"
   ]
  },
  {
   "cell_type": "markdown",
   "id": "b0f5f876-7bf0-4927-af5c-37d17e6ffb7f",
   "metadata": {},
   "source": [
    "## 사용예시"
   ]
  },
  {
   "cell_type": "code",
   "execution_count": 3,
   "id": "008a141a-6de2-4c8e-bd51-5f8c17385489",
   "metadata": {},
   "outputs": [],
   "source": [
    "list1 = [1,2,3,4,5]\n",
    "list2 = [11,22,55,99,44]"
   ]
  },
  {
   "cell_type": "code",
   "execution_count": 4,
   "id": "5b333cdf-bb32-4516-aef9-7ad2f1cac60a",
   "metadata": {},
   "outputs": [
    {
     "name": "stdout",
     "output_type": "stream",
     "text": [
      "최대값1 최소값5\n",
      "3.0\n"
     ]
    }
   ],
   "source": [
    "calAvg(list1)"
   ]
  },
  {
   "cell_type": "code",
   "execution_count": null,
   "id": "80aaedf8-3de9-422c-b7a7-f0569e889520",
   "metadata": {},
   "outputs": [],
   "source": []
  }
 ],
 "metadata": {
  "kernelspec": {
   "display_name": "Python 3 (ipykernel)",
   "language": "python",
   "name": "python3"
  },
  "language_info": {
   "codemirror_mode": {
    "name": "ipython",
    "version": 3
   },
   "file_extension": ".py",
   "mimetype": "text/x-python",
   "name": "python",
   "nbconvert_exporter": "python",
   "pygments_lexer": "ipython3",
   "version": "3.9.13"
  }
 },
 "nbformat": 4,
 "nbformat_minor": 5
}
