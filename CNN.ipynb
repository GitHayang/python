{
 "cells": [
  {
   "cell_type": "code",
   "execution_count": 2,
   "id": "aec97a3e-d1ce-4109-b91a-e2e35d32cd42",
   "metadata": {},
   "outputs": [],
   "source": [
    "import os\n",
    "import cv2\n",
    "#케라스 모델 생성 라이브러리\n",
    "from tensorflow import keras\n",
    "from tensorflow.keras import models\n",
    "#레이어 생성 라이브러리(Dense: 입출력 연결)\n",
    "from tensorflow.keras import layers"
   ]
  },
  {
   "cell_type": "code",
   "execution_count": 3,
   "id": "e760b568-7a21-4710-bcda-0be30718f3da",
   "metadata": {},
   "outputs": [],
   "source": [
    "#numpy\n",
    "import numpy as np\n",
    "from numpy import array"
   ]
  },
  {
   "cell_type": "code",
   "execution_count": 4,
   "id": "372b195a-2540-4dd5-921e-53b42858a928",
   "metadata": {},
   "outputs": [],
   "source": [
    "#케라스 카테고르 라이브러리\n",
    "from tensorflow.keras.utils import to_categorical\n",
    "#시각화 라이브러리\n",
    "import matplotlib.pyplot as plt\n",
    "%matplotlib inline"
   ]
  },
  {
   "cell_type": "code",
   "execution_count": 6,
   "id": "44d458cc-44ba-4c30-a5e3-5bc8bc94f1cf",
   "metadata": {},
   "outputs": [
    {
     "name": "stdout",
     "output_type": "stream",
     "text": [
      "Downloading data from https://storage.googleapis.com/tensorflow/tf-keras-datasets/train-labels-idx1-ubyte.gz\n",
      "29515/29515 [==============================] - 0s 0us/step\n",
      "Downloading data from https://storage.googleapis.com/tensorflow/tf-keras-datasets/train-images-idx3-ubyte.gz\n",
      "26421880/26421880 [==============================] - 2s 0us/step\n",
      "Downloading data from https://storage.googleapis.com/tensorflow/tf-keras-datasets/t10k-labels-idx1-ubyte.gz\n",
      "5148/5148 [==============================] - 0s 0s/step\n",
      "Downloading data from https://storage.googleapis.com/tensorflow/tf-keras-datasets/t10k-images-idx3-ubyte.gz\n",
      "4422102/4422102 [==============================] - 0s 0us/step\n"
     ]
    }
   ],
   "source": [
    "#미리 섞여진 fashion-mnist의 학습데이터와 테스트 데이터 로드\n",
    "(x_train, y_train),(x_test, y_test) = keras.datasets.fashion_mnist.load_data()"
   ]
  },
  {
   "cell_type": "code",
   "execution_count": 7,
   "id": "6d3637de-0f0a-4e2c-a7db-7be88633d14e",
   "metadata": {},
   "outputs": [
    {
     "name": "stdout",
     "output_type": "stream",
     "text": [
      "60000 train set\n",
      "10000 test set\n"
     ]
    }
   ],
   "source": [
    "#학습셋과 테스트셋의 데이터 갯수\n",
    "print(x_train.shape[0],'train set')\n",
    "print(x_test.shape[0], 'test set')"
   ]
  },
  {
   "cell_type": "code",
   "execution_count": 8,
   "id": "a2897ba4-85db-4582-a069-aeb566507b5e",
   "metadata": {},
   "outputs": [
    {
     "data": {
      "text/plain": [
       "<matplotlib.image.AxesImage at 0x1fe9c7124c0>"
      ]
     },
     "execution_count": 8,
     "metadata": {},
     "output_type": "execute_result"
    },
    {
     "data": {
      "image/png": "[encoded data removed]",
      "text/plain": [
       "<Figure size 640x480 with 1 Axes>"
      ]
     },
     "metadata": {},
     "output_type": "display_data"
    }
   ],
   "source": [
    "#레이블 정의\n",
    "fashion_mnist_labels = [\"T-shirt/top\", #인덱스0\n",
    "                        \"Trouser\", #인덱스1\n",
    "                        \"Pullover\", #인덱스2\n",
    "                        \"Dress\", #인덱스3\n",
    "                        \"Coat\", #인덱스4\n",
    "                        \"Sandal\", #인덱스5\n",
    "                        \"Shirt\", #인덱스6\n",
    "                        \"Sneaker\", #인덱스7\n",
    "                        \"Bag\", #인덱스8\n",
    "                        \"Ankle boot\"] #인덱스9\n",
    "img_index = 106\n",
    "label_index = y_train[img_index]\n",
    "plt.imshow(x_train[img_index])"
   ]
  },
  {
   "cell_type": "markdown",
   "id": "e764b2c5-3e32-4f98-b0c6-b1c9a8728e12",
   "metadata": {},
   "source": [
    "2. 데이터 분리 및 정제"
   ]
  },
  {
   "cell_type": "code",
   "execution_count": 9,
   "id": "3633360c-3e30-47ab-895d-5a169beb58db",
   "metadata": {},
   "outputs": [],
   "source": [
    "x_train - x_train.astype('float32') / 255\n",
    "x_test = x_test.astype('float32') / 255"
   ]
  },
  {
   "cell_type": "code",
   "execution_count": 10,
   "id": "ecb6fead-65d3-4a7f-add7-cab2b3109a71",
   "metadata": {},
   "outputs": [],
   "source": [
    "# 입력 이미지의 크기를 (28,28)에서 (28,28,1)로 배열 차원을 변경(reshape)\n",
    "w, h = 28, 28\n",
    "x_train = x_train.reshape(x_train.shape[0],w,h,1)\n",
    "x_test = x_test.reshape(x_test.shape[0],w,h,1)"
   ]
  },
  {
   "cell_type": "code",
   "execution_count": 11,
   "id": "637e52b8-9bca-4460-b25d-7e258859f441",
   "metadata": {},
   "outputs": [],
   "source": [
    "#레이블에 원-핫 인코딩 적용 \n",
    "#원-핫 벡터는 단 하나의 차원에서만 1이고, 나머지 차원에서는 0인 벡터입니다.\n",
    "y_train = keras.utils.to_categorical(y_train,10)\n",
    "y_test = keras.utils.to_categorical(y_test,10)"
   ]
  },
  {
   "cell_type": "markdown",
   "id": "84d1428f-22a3-40da-a9bf-afad13c9cb2a",
   "metadata": {},
   "source": [
    "3. 모델 생성"
   ]
  },
  {
   "cell_type": "code",
   "execution_count": 13,
   "id": "2379fd84-fcdd-4bb7-b3b2-6ca88bdca511",
   "metadata": {},
   "outputs": [
    {
     "name": "stdout",
     "output_type": "stream",
     "text": [
      "Model: \"sequential_1\"\n",
      "_________________________________________________________________\n",
      " Layer (type)                Output Shape              Param #   \n",
      "=================================================================\n",
      " conv2d (Conv2D)             (None, 28, 28, 32)        160       \n",
      "                                                                 \n",
      " max_pooling2d (MaxPooling2D  (None, 14, 14, 32)       0         \n",
      " )                                                               \n",
      "                                                                 \n",
      " dropout (Dropout)           (None, 14, 14, 32)        0         \n",
      "                                                                 \n",
      " conv2d_1 (Conv2D)           (None, 14, 14, 32)        4128      \n",
      "                                                                 \n",
      " max_pooling2d_1 (MaxPooling  (None, 7, 7, 32)         0         \n",
      " 2D)                                                             \n",
      "                                                                 \n",
      " dropout_1 (Dropout)         (None, 7, 7, 32)          0         \n",
      "                                                                 \n",
      " flatten (Flatten)           (None, 1568)              0         \n",
      "                                                                 \n",
      " dropout_2 (Dropout)         (None, 1568)              0         \n",
      "                                                                 \n",
      " dense (Dense)               (None, 10)                15690     \n",
      "                                                                 \n",
      "=================================================================\n",
      "Total params: 19,978\n",
      "Trainable params: 19,978\n",
      "Non-trainable params: 0\n",
      "_________________________________________________________________\n"
     ]
    }
   ],
   "source": [
    "from tensorflow.keras import Sequential \n",
    "from tensorflow.keras.layers import MaxPooling2D, Conv2D, Dropout, Flatten, Dense\n",
    "modelDim = x_train[0].shape\n",
    "model = keras.Sequential()\n",
    "\n",
    "#신경망의 첫번째 레이어에서 입력 데이터 크기를 정의해야합니다.\n",
    "model.add(Conv2D(filters=32, kernel_size=2,\n",
    "                 padding='same',\n",
    "                 activation='relu',\n",
    "                 input_shape=modelDim))\n",
    "model.add(MaxPooling2D(pool_size=2))\n",
    "model.add(Dropout(0.3))\n",
    "model.add(Conv2D(filters=32, kernel_size=2, padding='same', activation='relu'))\n",
    "model.add(MaxPooling2D(pool_size=2))\n",
    "model.add(Dropout(0.3))\n",
    "\n",
    "model.add(Flatten())\n",
    "model.add(Dropout(0.5))\n",
    "model.add(Dense(10,activation='softmax'))\n",
    "model.summary()"
   ]
  },
  {
   "cell_type": "code",
   "execution_count": 17,
   "id": "dc2e0f25-7ff6-4c36-9b91-21f7ffeda3c6",
   "metadata": {},
   "outputs": [
    {
     "name": "stdout",
     "output_type": "stream",
     "text": [
      "You must install pydot (`pip install pydot`) and install graphviz (see instructions at https://graphviz.gitlab.io/download/) for plot_model to work.\n"
     ]
    }
   ],
   "source": [
    "from tensorflow.keras.utils import plot_model\n",
    "from IPython.display import Image\n",
    "plot_model(model, to_file='model.plot.png', show_shapes=True,\n",
    "           show_layer_names=True)"
   ]
  },
  {
   "cell_type": "markdown",
   "id": "fa2f8486-ea4b-4ed0-9db1-78508ee31641",
   "metadata": {},
   "source": [
    "4. 모델 컴파일"
   ]
  },
  {
   "cell_type": "code",
   "execution_count": 19,
   "id": "788c6126-215d-4795-823a-287a5fd7edda",
   "metadata": {},
   "outputs": [],
   "source": [
    "#Sequential 방식 keras 모델\n",
    "#손실함수(LOSS) : 훈련동안 최소화될 값 지표 (mse, categorical_crossentropy)\n",
    "#손실함수를 기반으로 Nueral Net 업데이터 결정 (mse, mae, accuracy)\n",
    "model.compile(optimizer='adam',\n",
    "              loss='categorical_crossentropy',\n",
    "              metrics = ['accuracy'])"
   ]
  },
  {
   "cell_type": "markdown",
   "id": "77db0606-3caf-454d-bc06-3542ca9b84b2",
   "metadata": {},
   "source": [
    "5. 모델 훈련"
   ]
  },
  {
   "cell_type": "code",
   "execution_count": 20,
   "id": "0d2ac187-9ed3-4bdd-b67d-82c486270f52",
   "metadata": {},
   "outputs": [],
   "source": [
    "import os \n",
    "from datetime import datetime"
   ]
  },
  {
   "cell_type": "code",
   "execution_count": 21,
   "id": "360edd5e-a57a-4f38-809d-9269c4d60f47",
   "metadata": {},
   "outputs": [
    {
     "data": {
      "text/plain": [
       "'20230918_211122'"
      ]
     },
     "execution_count": 21,
     "metadata": {},
     "output_type": "execute_result"
    }
   ],
   "source": [
    "from tensorflow.keras.callbacks import TensorBoard, ModelCheckpoint, EarlyStopping\n",
    "datetime.now().strftime(\"%Y%m%d_%H%M%S\")"
   ]
  },
  {
   "cell_type": "code",
   "execution_count": 23,
   "id": "d9e1e209-deee-420f-8d1a-69059edb665c",
   "metadata": {},
   "outputs": [
    {
     "data": {
      "text/plain": [
       "'logs_c\\\\20230918_211211'"
      ]
     },
     "execution_count": 23,
     "metadata": {},
     "output_type": "execute_result"
    }
   ],
   "source": [
    "logdir = os.path.join(\"logs_c\", datetime.now().strftime(\"%Y%m%d_%H%M%S\"))\n",
    "logdir"
   ]
  },
  {
   "cell_type": "code",
   "execution_count": 26,
   "id": "e8f8763c-0d2d-4692-9026-b0d78ceb6705",
   "metadata": {},
   "outputs": [],
   "source": [
    "callbacks = [\n",
    "    TensorBoard(\n",
    "    log_dir = logdir),\n",
    "    \n",
    "    EarlyStopping(monitor=\"val_loss\", patience=10),\n",
    "    \n",
    "    ModelCheckpoint(filepath=\"model_mnist_weigth.h5\",\n",
    "                   monitor='val_accuracy',verdose=1, save_best_only=True, mode='max')\n",
    "]"
   ]
  },
  {
   "cell_type": "code",
   "execution_count": 27,
   "id": "574f7a6c-1714-45a3-a406-b83b0e692c3f",
   "metadata": {},
   "outputs": [
    {
     "name": "stdout",
     "output_type": "stream",
     "text": [
      "Epoch 1/10\n",
      "1500/1500 [==============================] - 15s 6ms/step - loss: 2.4844 - accuracy: 0.5921 - val_loss: 0.5981 - val_accuracy: 0.7919\n",
      "Epoch 2/10\n",
      "1500/1500 [==============================] - 9s 6ms/step - loss: 0.7371 - accuracy: 0.7270 - val_loss: 0.5239 - val_accuracy: 0.8243\n",
      "Epoch 3/10\n",
      "1500/1500 [==============================] - 9s 6ms/step - loss: 0.6450 - accuracy: 0.7637 - val_loss: 0.4547 - val_accuracy: 0.8413\n",
      "Epoch 4/10\n",
      "1500/1500 [==============================] - 9s 6ms/step - loss: 0.5945 - accuracy: 0.7826 - val_loss: 0.4547 - val_accuracy: 0.8475\n",
      "Epoch 5/10\n",
      "1500/1500 [==============================] - 9s 6ms/step - loss: 0.5578 - accuracy: 0.7940 - val_loss: 0.4295 - val_accuracy: 0.8426\n",
      "Epoch 6/10\n",
      "1500/1500 [==============================] - 9s 6ms/step - loss: 0.5394 - accuracy: 0.8018 - val_loss: 0.4066 - val_accuracy: 0.8547\n",
      "Epoch 7/10\n",
      "1500/1500 [==============================] - 9s 6ms/step - loss: 0.5275 - accuracy: 0.8055 - val_loss: 0.4116 - val_accuracy: 0.8494\n",
      "Epoch 8/10\n",
      "1500/1500 [==============================] - 9s 6ms/step - loss: 0.5049 - accuracy: 0.8145 - val_loss: 0.3880 - val_accuracy: 0.8643\n",
      "Epoch 9/10\n",
      "1500/1500 [==============================] - 10s 6ms/step - loss: 0.4962 - accuracy: 0.8193 - val_loss: 0.3877 - val_accuracy: 0.8633\n",
      "Epoch 10/10\n",
      "1500/1500 [==============================] - 9s 6ms/step - loss: 0.4841 - accuracy: 0.8207 - val_loss: 0.3861 - val_accuracy: 0.8618\n"
     ]
    }
   ],
   "source": [
    "#텐서를 CPU에 할당\n",
    "#with tf.device('/GPU:0')\n",
    "history = model.fit(x_train, y_train, \n",
    "                   epochs= 10,\n",
    "                   batch_size = 32,\n",
    "                   shuffle=True,\n",
    "                   callbacks=callbacks,\n",
    "                   validation_split=0.2)"
   ]
  },
  {
   "cell_type": "markdown",
   "id": "4f01fd95-0d3e-40e6-9f54-d019516c5da6",
   "metadata": {},
   "source": [
    "6. 모델추론"
   ]
  },
  {
   "cell_type": "code",
   "execution_count": 29,
   "id": "65ab72fe-8ad5-4279-8e72-ed6ac29b8b99",
   "metadata": {},
   "outputs": [
    {
     "name": "stdout",
     "output_type": "stream",
     "text": [
      "313/313 [==============================] - 1s 4ms/step - loss: 3.5234 - accuracy: 0.1000\n",
      "3.52337646484375 0.10000000149011612\n"
     ]
    }
   ],
   "source": [
    "#verbose: 정보표시 레벨(0,1)\n",
    "test_loss,test_acc = model.evaluate(x_test, y_test, verbose=1)\n",
    "print(test_loss, test_acc)"
   ]
  },
  {
   "cell_type": "markdown",
   "id": "cf50cf7b-fc38-48a6-9db7-318a12aeafbd",
   "metadata": {},
   "source": [
    "7. 모델 예측"
   ]
  },
  {
   "cell_type": "code",
   "execution_count": 30,
   "id": "466b7477-1d7b-4602-a9ad-530589ce7645",
   "metadata": {},
   "outputs": [
    {
     "data": {
      "text/plain": [
       "array([0., 1., 0., 0., 0., 0., 0., 0., 0., 0.], dtype=float32)"
      ]
     },
     "execution_count": 30,
     "metadata": {},
     "output_type": "execute_result"
    }
   ],
   "source": [
    "# 테스트 데이터 1개 추출\n",
    "testImg = x_test[190]\n",
    "# 테스트 데이터 1개 답지 확인(바지)\n",
    "y_test[190]"
   ]
  },
  {
   "cell_type": "code",
   "execution_count": 32,
   "id": "dbb901b4-4d85-4d2d-9ab1-08cd2d628644",
   "metadata": {},
   "outputs": [
    {
     "data": {
      "text/plain": [
       "<matplotlib.image.AxesImage at 0x1fea88e0760>"
      ]
     },
     "execution_count": 32,
     "metadata": {},
     "output_type": "execute_result"
    },
    {
     "data": {
      "image/png": "[encoded data removed]",
      "text/plain": [
       "<Figure size 640x480 with 1 Axes>"
      ]
     },
     "metadata": {},
     "output_type": "display_data"
    }
   ],
   "source": [
    "# 테스트 데이터 이미지로 변환\n",
    "testImg2 = testImg*255\n",
    "testImg3 = testImg2.reshape(28,28)\n",
    "plt.imshow(testImg3, cmap=\"gray\")"
   ]
  },
  {
   "cell_type": "code",
   "execution_count": 33,
   "id": "121bbf6c-07c3-4cd4-8553-39200e73ed96",
   "metadata": {},
   "outputs": [],
   "source": [
    "#데이터 정제 작업 수행\n",
    "testImg4 = testImg3/255\n",
    "testImg5 = testImg4.reshape(1,28,28,1)"
   ]
  },
  {
   "cell_type": "code",
   "execution_count": 34,
   "id": "cc2cb750-f0fe-4bde-b7b5-81fb6f54c6cd",
   "metadata": {},
   "outputs": [
    {
     "name": "stdout",
     "output_type": "stream",
     "text": [
      "1/1 [==============================] - 0s 134ms/step\n"
     ]
    },
    {
     "data": {
      "text/plain": [
       "array([[0.02947646, 0.08383537, 0.00253059, 0.01052572, 0.00227665,\n",
       "        0.59222496, 0.01278882, 0.09541317, 0.14067705, 0.03025122]],\n",
       "      dtype=float32)"
      ]
     },
     "execution_count": 34,
     "metadata": {},
     "output_type": "execute_result"
    }
   ],
   "source": [
    "#예측 수행\n",
    "test_predictions = model.predict(testImg5)\n",
    "test_predictions"
   ]
  },
  {
   "cell_type": "code",
   "execution_count": null,
   "id": "47769db2-39b2-4bb9-b142-4522a58c9d22",
   "metadata": {},
   "outputs": [],
   "source": []
  }
 ],
 "metadata": {
  "kernelspec": {
   "display_name": "Python 3 (ipykernel)",
   "language": "python",
   "name": "python3"
  },
  "language_info": {
   "codemirror_mode": {
    "name": "ipython",
    "version": 3
   },
   "file_extension": ".py",
   "mimetype": "text/x-python",
   "name": "python",
   "nbconvert_exporter": "python",
   "pygments_lexer": "ipython3",
   "version": "3.9.13"
  }
 },
 "nbformat": 4,
 "nbformat_minor": 5
}
