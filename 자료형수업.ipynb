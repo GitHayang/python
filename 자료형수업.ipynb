{
 "cells": [
  {
   "cell_type": "code",
   "execution_count": 15,
   "id": "df22c1cd-1565-4808-9ace-4fe7e3a7a5aa",
   "metadata": {},
   "outputs": [
    {
     "data": {
      "text/plain": [
       "15.35"
      ]
     },
     "execution_count": 15,
     "metadata": {},
     "output_type": "execute_result"
    }
   ],
   "source": [
    "a = 3\n",
    "b = 12.35\n",
    "a+b"
   ]
  },
  {
   "cell_type": "code",
   "execution_count": 19,
   "id": "33dd2ac7-cbc6-4ba3-b91d-3f42bf7ea14c",
   "metadata": {},
   "outputs": [
    {
     "name": "stdout",
     "output_type": "stream",
     "text": [
      "<class 'float'>\n",
      "<class 'int'>\n"
     ]
    }
   ],
   "source": [
    "print(type(a+b))\n",
    "print(type(int(a+b)))"
   ]
  },
  {
   "cell_type": "code",
   "execution_count": 20,
   "id": "c0a7c25f-bc79-438b-96d6-fe7ef7388b67",
   "metadata": {},
   "outputs": [
    {
     "data": {
      "text/plain": [
       "'35'"
      ]
     },
     "execution_count": 20,
     "metadata": {},
     "output_type": "execute_result"
    }
   ],
   "source": [
    "c=\"3\"\n",
    "d=\"5\"\n",
    "d = c+d\n",
    "d"
   ]
  },
  {
   "cell_type": "code",
   "execution_count": 23,
   "id": "9bc0274a-1990-4b66-b621-761d254b4986",
   "metadata": {},
   "outputs": [
    {
     "data": {
      "text/plain": [
       "str"
      ]
     },
     "execution_count": 23,
     "metadata": {},
     "output_type": "execute_result"
    }
   ],
   "source": [
    "type(d)"
   ]
  },
  {
   "cell_type": "code",
   "execution_count": 56,
   "id": "2e43d2b3-fb9d-40c7-96f8-8ffcc9ec3400",
   "metadata": {},
   "outputs": [
    {
     "data": {
      "text/plain": [
       "8000.0"
      ]
     },
     "execution_count": 56,
     "metadata": {},
     "output_type": "execute_result"
    }
   ],
   "source": [
    "# 변수명을 식별할 수 없다.\n",
    "a=10000\n",
    "b=0.2\n",
    "c=a-(a*b)\n",
    "c"
   ]
  },
  {
   "cell_type": "code",
   "execution_count": 57,
   "id": "6eef2340-e3c1-450f-ab18-0298d5519bd3",
   "metadata": {},
   "outputs": [
    {
     "data": {
      "text/plain": [
       "8000.0"
      ]
     },
     "execution_count": 57,
     "metadata": {},
     "output_type": "execute_result"
    }
   ],
   "source": [
    "#변수명을 알기 쉽다.\n",
    "orgPrice = 10000\n",
    "discountRatio = 0.2\n",
    "selloutPrice = orgPrice * (1 - discountRatio)\n",
    "selloutPrice"
   ]
  },
  {
   "cell_type": "markdown",
   "id": "849dcb72-035d-499b-821e-a6ef9f19642d",
   "metadata": {},
   "source": [
    "### 1.자료형"
   ]
  },
  {
   "cell_type": "markdown",
   "id": "326adc7e-de44-444b-b955-37d5c814d787",
   "metadata": {},
   "source": [
    "1-1 수"
   ]
  },
  {
   "cell_type": "code",
   "execution_count": 1,
   "id": "1869d2e8-37c7-40b7-a784-ff37536ea4b2",
   "metadata": {},
   "outputs": [],
   "source": [
    "#정수 ,실수 선언\n",
    "intValue = 5\n",
    "floatValue = 10.5"
   ]
  },
  {
   "cell_type": "code",
   "execution_count": 2,
   "id": "9693e420-0a19-4af9-ad2c-54c834cb5436",
   "metadata": {},
   "outputs": [
    {
     "data": {
      "text/plain": [
       "int"
      ]
     },
     "execution_count": 2,
     "metadata": {},
     "output_type": "execute_result"
    }
   ],
   "source": [
    "type(intValue)"
   ]
  },
  {
   "cell_type": "markdown",
   "id": "2838f0eb-0caf-4af8-9f51-69396baab82a",
   "metadata": {},
   "source": [
    "## 파이썬3\n",
    "정수 + 실수 더 큰 범위의 타입으로 바뀐다 \n",
    "\n",
    "## 파이썬2 \n",
    "정수 + 실수 = 실수"
   ]
  },
  {
   "cell_type": "code",
   "execution_count": 3,
   "id": "b1bb75fb-1415-437f-a0fb-c25f4c18aaeb",
   "metadata": {},
   "outputs": [
    {
     "name": "stdout",
     "output_type": "stream",
     "text": [
      "15.5\n",
      "<class 'float'>\n",
      "-5.5\n",
      "<class 'float'>\n"
     ]
    }
   ],
   "source": [
    "#더하기 연산\n",
    "sumation = intValue + floatValue\n",
    "print(sumation)\n",
    "print(type(sumation))\n",
    "\n",
    "#빼기 연산\n",
    "diff = intValue - floatValue\n",
    "print(diff)\n",
    "print(type(diff))"
   ]
  },
  {
   "cell_type": "markdown",
   "id": "18418b92-8b07-4db2-949f-958682d5223a",
   "metadata": {},
   "source": [
    "## 참고. 나머지 연산 (mod)"
   ]
  },
  {
   "cell_type": "code",
   "execution_count": 6,
   "id": "e4b8d311-a717-41c0-89e3-199c7e2c913d",
   "metadata": {},
   "outputs": [],
   "source": [
    "# 패턴을 찾는 나머지 연산"
   ]
  },
  {
   "cell_type": "code",
   "execution_count": 7,
   "id": "e70a6162-99cd-4e94-a502-95f163581e6c",
   "metadata": {},
   "outputs": [],
   "source": [
    "# 12%4"
   ]
  },
  {
   "cell_type": "code",
   "execution_count": 6,
   "id": "95336b70-0ce6-4141-b566-de78004f39e3",
   "metadata": {},
   "outputs": [
    {
     "name": "stdout",
     "output_type": "stream",
     "text": [
      "100\n",
      "25\n"
     ]
    }
   ],
   "source": [
    "# 제곱연산 - 오류 탐색에 사용\n",
    "# 정답 : 100\n",
    "# 예측 : 95\n",
    "# 틀린거 : 5\n",
    "#틀린거를 늘려서 오류 탐색에 도움을 준다.\n",
    "#머신러닝, 딥러닝에서 사용\n",
    "\n",
    "intValue2 = int(floatValue)\n",
    "exponential = intValue2**2\n",
    "print(exponential)\n",
    "exponential2 = intValue**2\n",
    "print(exponential2)"
   ]
  },
  {
   "cell_type": "code",
   "execution_count": 7,
   "id": "e0ddc32c-a161-48cb-b84a-f17313acb116",
   "metadata": {},
   "outputs": [
    {
     "name": "stdout",
     "output_type": "stream",
     "text": [
      "5\n"
     ]
    }
   ],
   "source": [
    "# 5. 나머지 연산\n",
    "mod = intValue%int(floatValue)\n",
    "print(mod)"
   ]
  },
  {
   "cell_type": "code",
   "execution_count": 8,
   "id": "d59faea7-00ab-4bd2-8327-2513abcb0a8e",
   "metadata": {},
   "outputs": [],
   "source": [
    "#현재 시간 분을 더하는 프로그램을 작성하시오"
   ]
  },
  {
   "cell_type": "code",
   "execution_count": 14,
   "id": "f6c20a16-f5cf-4362-98de-b2435d7e2740",
   "metadata": {},
   "outputs": [
    {
     "name": "stdout",
     "output_type": "stream",
     "text": [
      "18\n"
     ]
    }
   ],
   "source": [
    "hour = 17\n",
    "Min = 1\n",
    "print(hour+Min)"
   ]
  },
  {
   "cell_type": "code",
   "execution_count": null,
   "id": "53e30ebf-a3a7-422c-9395-1fec039263c5",
   "metadata": {},
   "outputs": [
    {
     "data": {
      "text/plain": [
       "35"
      ]
     },
     "execution_count": 30,
     "metadata": {},
     "output_type": "execute_result"
    }
   ],
   "source": [
    "#라이브러리 선언\n",
    "from datetime import datetime \n",
    "\n",
    "current_time = datetime.now()\n",
    "current_time\n",
    "\n",
    "current_hour = current_time.hour\n",
    "current_minute = current_time.minute\n",
    "\n",
    "sumation = current_hour + current_minute\n",
    "sumation"
   ]
  },
  {
   "cell_type": "markdown",
   "id": "5b6b9d48-501e-41b0-ba32-b7b238c76349",
   "metadata": {},
   "source": [
    "## 1-2 문자열"
   ]
  },
  {
   "cell_type": "code",
   "execution_count": null,
   "id": "d607a844-6846-43f5-9922-3e85d734c599",
   "metadata": {},
   "outputs": [],
   "source": [
    "# 문자 선언시 \" \" , ' '등을 써준다."
   ]
  },
  {
   "cell_type": "code",
   "execution_count": 32,
   "id": "92bd0d06-f4e6-4a44-980e-f8d246367174",
   "metadata": {},
   "outputs": [
    {
     "name": "stdout",
     "output_type": "stream",
     "text": [
      "SEC\n",
      "\"input\"\n",
      "I'm a student\n"
     ]
    }
   ],
   "source": [
    "stringValue = \"SEC\"\n",
    "stringValue2 = '\"input\"'\n",
    "stringValue3 = \"I'm a student\"\n",
    "print(stringValue)\n",
    "print(stringValue2)\n",
    "print(stringValue3)"
   ]
  },
  {
   "cell_type": "code",
   "execution_count": null,
   "id": "9348caff-9d70-42e5-9303-3d7e7056faca",
   "metadata": {},
   "outputs": [],
   "source": []
  }
 ],
 "metadata": {
  "kernelspec": {
   "display_name": "Python 3 (ipykernel)",
   "language": "python",
   "name": "python3"
  },
  "language_info": {
   "codemirror_mode": {
    "name": "ipython",
    "version": 3
   },
   "file_extension": ".py",
   "mimetype": "text/x-python",
   "name": "python",
   "nbconvert_exporter": "python",
   "pygments_lexer": "ipython3",
   "version": "3.9.13"
  }
 },
 "nbformat": 4,
 "nbformat_minor": 5
}
