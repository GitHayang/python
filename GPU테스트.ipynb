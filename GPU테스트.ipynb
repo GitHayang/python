{
 "cells": [
  {
   "cell_type": "code",
   "execution_count": 1,
   "id": "6cbf4aa9-fef4-48b1-ad95-2b78e22def60",
   "metadata": {},
   "outputs": [
    {
     "name": "stdout",
     "output_type": "stream",
     "text": [
      "사용 가능한 GPU 수: 1\n",
      "GPU 0: NVIDIA GeForce RTX 3060, 메모리: 12.8843776 GB\n"
     ]
    }
   ],
   "source": [
    "import torch\n",
    "\n",
    "# GPU가 사용 가능한지 확인\n",
    "if torch.cuda.is_available():\n",
    "    # 현재 사용 중인 GPU 디바이스의 수를 얻기\n",
    "    gpu_count = torch.cuda.device_count()\n",
    "    print(f\"사용 가능한 GPU 수: {gpu_count}\")\n",
    "\n",
    "    # 현재 사용 중인 GPU의 인덱스, 이름 및 메모리 상태를 얻기\n",
    "    for i in range(gpu_count):\n",
    "        gpu_device = torch.cuda.get_device_properties(i)\n",
    "        print(f\"GPU {i}: {gpu_device.name}, 메모리: {gpu_device.total_memory / 1e9} GB\")\n",
    "else:\n",
    "    print(\"사용할 수 없습니다.\")"
   ]
  },
  {
   "cell_type": "code",
   "execution_count": 2,
   "id": "0cfa500b-638c-4f60-872a-03000fe17dd5",
   "metadata": {},
   "outputs": [
    {
     "data": {
      "text/plain": [
       "1"
      ]
     },
     "execution_count": 2,
     "metadata": {},
     "output_type": "execute_result"
    }
   ],
   "source": [
    "torch.cuda.device_count()"
   ]
  },
  {
   "cell_type": "code",
   "execution_count": 3,
   "id": "05c1af09-b33d-444b-a8dd-e9a9045a6061",
   "metadata": {},
   "outputs": [
    {
     "name": "stdout",
     "output_type": "stream",
     "text": [
      "PyTorch 버전: 2.1.2+cu118\n"
     ]
    }
   ],
   "source": [
    "import torch\n",
    "print(f\"PyTorch 버전: {torch.__version__}\")"
   ]
  },
  {
   "cell_type": "code",
   "execution_count": 4,
   "id": "0ad3ec07-2986-4b9b-b718-bb16688e0ffd",
   "metadata": {},
   "outputs": [
    {
     "name": "stdout",
     "output_type": "stream",
     "text": [
      "PyTorch 버전: 2.1.2+cu118\n",
      "CUDA 버전: 11.8\n"
     ]
    }
   ],
   "source": [
    "import torch\n",
    "\n",
    "# PyTorch 버전 확인\n",
    "print(f\"PyTorch 버전: {torch.__version__}\")\n",
    "\n",
    "# CUDA 버전 확인\n",
    "print(f\"CUDA 버전: {torch.version.cuda}\")"
   ]
  },
  {
   "cell_type": "code",
   "execution_count": 5,
   "id": "ffba67fc-24f9-4917-8627-ec833b1d9d3d",
   "metadata": {},
   "outputs": [
    {
     "name": "stdout",
     "output_type": "stream",
     "text": [
      "TensorFlow 버전: 2.10.0\n"
     ]
    }
   ],
   "source": [
    "import tensorflow as tf\n",
    "print(f\"TensorFlow 버전: {tf.__version__}\")"
   ]
  },
  {
   "cell_type": "code",
   "execution_count": 6,
   "id": "e03f963f-b9a1-41c1-a211-8cf992b47d1b",
   "metadata": {},
   "outputs": [
    {
     "name": "stdout",
     "output_type": "stream",
     "text": [
      "TensorFlow에서 사용 가능한 GPU 수: 1\n",
      "GPU: /physical_device:GPU:0\n"
     ]
    }
   ],
   "source": [
    "import tensorflow as tf\n",
    "\n",
    "# GPU 사용 가능 여부 확인\n",
    "physical_devices = tf.config.experimental.list_physical_devices('GPU')\n",
    "if len(physical_devices) > 0:\n",
    "    print(f\"TensorFlow에서 사용 가능한 GPU 수: {len(physical_devices)}\")\n",
    "    \n",
    "    # 각 GPU의 속성 조회\n",
    "    for device in physical_devices:\n",
    "        print(f\"GPU: {device.name}\")\n",
    "else:\n",
    "    print(\"TensorFlow에서 GPU를 사용할 수 없습니다.\")"
   ]
  },
  {
   "cell_type": "code",
   "execution_count": null,
   "id": "6a23371c-f25d-4da5-9963-3f5af911be9b",
   "metadata": {},
   "outputs": [],
   "source": []
  }
 ],
 "metadata": {
  "kernelspec": {
   "display_name": "Python 3 (ipykernel)",
   "language": "python",
   "name": "python3"
  },
  "language_info": {
   "codemirror_mode": {
    "name": "ipython",
    "version": 3
   },
   "file_extension": ".py",
   "mimetype": "text/x-python",
   "name": "python",
   "nbconvert_exporter": "python",
   "pygments_lexer": "ipython3",
   "version": "3.9.13"
  }
 },
 "nbformat": 4,
 "nbformat_minor": 5
}
