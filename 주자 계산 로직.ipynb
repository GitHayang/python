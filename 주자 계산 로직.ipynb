{
 "cells": [
  {
   "cell_type": "code",
   "execution_count": 32,
   "id": "fede32d9-085b-4f77-ba17-4e1f62b4cd9c",
   "metadata": {},
   "outputs": [],
   "source": [
    "from isoweek import Week"
   ]
  },
  {
   "cell_type": "code",
   "execution_count": 33,
   "id": "c97882d3-f3d3-43ca-a4c4-d772f1366f05",
   "metadata": {},
   "outputs": [],
   "source": [
    "curYear=2016"
   ]
  },
  {
   "cell_type": "code",
   "execution_count": 66,
   "id": "76a887b8-4f3c-417d-a496-fce60463908a",
   "metadata": {},
   "outputs": [
    {
     "data": {
      "text/plain": [
       "52"
      ]
     },
     "execution_count": 66,
     "metadata": {},
     "output_type": "execute_result"
    }
   ],
   "source": [
    "Week.last_week_of_year(curYear).week"
   ]
  },
  {
   "cell_type": "code",
   "execution_count": null,
   "id": "13e824fa-5941-4334-9c5a-2ac865c8bedb",
   "metadata": {},
   "outputs": [],
   "source": []
  },
  {
   "cell_type": "code",
   "execution_count": 3,
   "id": "fb49a499-65cc-477d-b5cf-17d6d189cf7c",
   "metadata": {},
   "outputs": [],
   "source": [
    "def preWeek(current,preWeek) : #1년까지는 되지만 주차가 1년이 지나면 '-'상태로 붙인다\n",
    "\n",
    "    from isoweek import Week\n",
    "\n",
    "    # current = 201701 #현재 년과 주차\n",
    "    # preWeek = \"10\" #빼려는 주차\n",
    "\n",
    "    if type(current) == int :\n",
    "        strCurrent = str(current) #문자열로 캐스팅, 캐스팅 이유는 년도와 주차를 분리할때 문자열로 해야하기 때문이다\n",
    "        curYear = strCurrent[:4] #년도 \n",
    "    elif type(current) == str :\n",
    "        strCurrent = current\n",
    "        curYear = strCurrent[:4]\n",
    "\n",
    "    curWeek = strCurrent[4:] #주차\n",
    "\n",
    "    curYear = int(curYear) #다시 숫자로 캐스팅\n",
    "    curWeek = int(curWeek) #다시 숫자로 캐스팅\n",
    "\n",
    "    if type(preWeek)==str :\n",
    "        preWeek = int(preWeek)\n",
    "\n",
    "    weekLeft = curWeek - preWeek #현재 주차에서 주차를 뺸 값\n",
    "    \n",
    "    if weekLeft<=0 : #주차를 뻇는데 값이 0이되거나 0보다 작으면 년도를 하나 줄인다\n",
    "        inputYear = curYear - 1 \n",
    "        inputWeek = Week.last_week_of_year(inputYear).week #변동된 년도의 주차수 구하기\n",
    "        resultweek = inputWeek + weekLeft #변동된 년차의 주차수에서 빼고 남은 주차수를 뺀다\n",
    "        result = str(inputYear) + str(resultweek).zfill(2) #최종 년차와 최종 주차를 합친다\n",
    "    else : #주차를 빼고 난 값이 0보다 클때의 값\n",
    "        result = str(curYear) + str(weekLeft).zfill(2) #z.fill(2)을 쓰면 무조건 2칸으로 만들어줘서 1주차는 01주차등으로 된다\n",
    "\n",
    "    print(result)"
   ]
  },
  {
   "cell_type": "markdown",
   "id": "e78f47a2-39ec-41d3-be5e-ab59b7db2183",
   "metadata": {},
   "source": [
    "# 개선"
   ]
  },
  {
   "cell_type": "code",
   "execution_count": 7,
   "id": "a079a5af-aad9-428c-ae1e-ceb1e98d3fc4",
   "metadata": {},
   "outputs": [],
   "source": [
    "def preWeek2(current,preWeek) :\n",
    "    from isoweek import Week\n",
    "\n",
    "    # current = 201701 #현재 년과 주차\n",
    "    # preWeek = \"100\" #빼려는 주차\n",
    "\n",
    "    if type(current) == int :\n",
    "        strCurrent = str(current) #문자열로 캐스팅, 캐스팅 이유는 년도와 주차를 분리할때 문자열로 해야하기 때문이다\n",
    "        curYear = strCurrent[:4] #년도 \n",
    "    elif type(current) == str :\n",
    "        strCurrent = current\n",
    "        curYear = strCurrent[:4]\n",
    "\n",
    "    curWeek = strCurrent[4:] #주차\n",
    "\n",
    "    curYear = int(curYear) #다시 숫자로 캐스팅\n",
    "    curWeek = int(curWeek) #다시 숫자로 캐스팅\n",
    "\n",
    "    if type(preWeek)==str :\n",
    "        preWeek = int(preWeek)\n",
    "\n",
    "    weekLeft = curWeek - preWeek #현재 주차에서 주차를 뺸 값\n",
    "\n",
    "    while(weekLeft<=0) :#안쪽에 weekLeft를 써야만 weekLeft가 True에서 False로 바뀌면서 멈춘다\n",
    "        inputYear = curYear - 1 \n",
    "        inputWeek = Week.last_week_of_year(inputYear).week\n",
    "        weekLeft = inputWeek + weekLeft\n",
    "        result = str(inputYear) + str(weekLeft).zfill(2)\n",
    "\n",
    "    print(result)"
   ]
  },
  {
   "cell_type": "code",
   "execution_count": 8,
   "id": "484b9c44-9a65-4553-9fde-81ccad6cfec8",
   "metadata": {},
   "outputs": [
    {
     "name": "stdout",
     "output_type": "stream",
     "text": [
      "201629\n"
     ]
    }
   ],
   "source": [
    "preWeek2(201701,2000)"
   ]
  },
  {
   "cell_type": "code",
   "execution_count": null,
   "id": "d1758260-6577-4070-9cc6-121f18719135",
   "metadata": {},
   "outputs": [],
   "source": [
    "# 개선점 \n",
    "# 년도가 바뀌지 않는다"
   ]
  },
  {
   "cell_type": "markdown",
   "id": "833cb276-fee8-40fc-9c92-db9f0841e82d",
   "metadata": {},
   "source": [
    "# 2차 개선"
   ]
  },
  {
   "cell_type": "code",
   "execution_count": 2,
   "id": "b1dbd0a2-76e4-4558-b072-12bfc677747e",
   "metadata": {
    "tags": []
   },
   "outputs": [
    {
     "name": "stdout",
     "output_type": "stream",
     "text": [
      "199745\n"
     ]
    }
   ],
   "source": [
    "from isoweek import Week\n",
    "\n",
    "current = 201701 #현재 년과 주차\n",
    "preWeek = \"1000\" #빼려는 주차\n",
    "\n",
    "curYear = int(str(current)[:4])\n",
    "curWeek = int(str(current)[4:])\n",
    "preWeek = int(str(preWeek))\n",
    "\n",
    "weekLeft = curWeek - preWeek\n",
    "\n",
    "while(weekLeft<=0) : \n",
    "    curYear = curYear - 1 #년도도 동일 변수를 쓰지 않으면 다음 회차부터는 업데이트가 되지않고, 계속 기존값에서 뺀다\n",
    "    inputWeek = Week.last_week_of_year(curYear).week\n",
    "    weekLeft = inputWeek + weekLeft \n",
    "    result = str(curYear) + str(weekLeft).zfill(2)\n",
    "print(result)"
   ]
  },
  {
   "cell_type": "markdown",
   "id": "3f5a3bae-1e5b-4197-89d3-d82d9bf7f7da",
   "metadata": {},
   "source": [
    "# 최종 간소화"
   ]
  },
  {
   "cell_type": "code",
   "execution_count": 5,
   "id": "f058eb22-45e6-4c7f-b3f2-188aed6d0e34",
   "metadata": {},
   "outputs": [
    {
     "name": "stdout",
     "output_type": "stream",
     "text": [
      "199745\n"
     ]
    }
   ],
   "source": [
    "from isoweek import Week\n",
    "\n",
    "current = 201701 #현재 년과 주차\n",
    "preWeek = \"1000\" #빼려는 주차\n",
    "\n",
    "curYear = int(str(current)[:4])\n",
    "curWeek = int(str(current)[4:])\n",
    "preWeek = int(str(preWeek))\n",
    "\n",
    "weekLeft = curWeek - preWeek #현재 주차에서 주차를 뺸 값\n",
    "\n",
    "while(weekLeft<=0):\n",
    "    curYear = curYear - 1 \n",
    "    inputWeek = Week.last_week_of_year(curYear).week #변동된 년도의 주차수 구하기\n",
    "    weekLeft = inputWeek + weekLeft #변동된 년차의 주차수에서 빼고 남은 주차수를 뺀다\n",
    "    result = str(curYear) + str(weekLeft).zfill(2) #최종 년차와 최종 주차를 합친다\n",
    "\n",
    "print(result)"
   ]
  },
  {
   "cell_type": "code",
   "execution_count": null,
   "id": "67e1c0c1-b67a-46cd-8363-617d666e2d12",
   "metadata": {},
   "outputs": [],
   "source": []
  }
 ],
 "metadata": {
  "kernelspec": {
   "display_name": "Python 3 (ipykernel)",
   "language": "python",
   "name": "python3"
  },
  "language_info": {
   "codemirror_mode": {
    "name": "ipython",
    "version": 3
   },
   "file_extension": ".py",
   "mimetype": "text/x-python",
   "name": "python",
   "nbconvert_exporter": "python",
   "pygments_lexer": "ipython3",
   "version": "3.9.13"
  }
 },
 "nbformat": 4,
 "nbformat_minor": 5
}
