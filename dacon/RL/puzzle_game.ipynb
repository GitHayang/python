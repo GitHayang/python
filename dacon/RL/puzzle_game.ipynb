{
 "cells": [
  {
   "cell_type": "code",
   "execution_count": 5,
   "id": "8f17ecf9-8920-4d81-8f93-24c523b64b05",
   "metadata": {},
   "outputs": [],
   "source": [
    "import numpy as np"
   ]
  },
  {
   "cell_type": "code",
   "execution_count": 6,
   "id": "5050538d-f080-408d-b6b5-794422acfff1",
   "metadata": {},
   "outputs": [
    {
     "name": "stdout",
     "output_type": "stream",
     "text": [
      "[[ 7  1  4 15]\n",
      " [ 0  9 12 13]\n",
      " [ 5  3 14 10]\n",
      " [ 6  8 11  2]]\n",
      "[[ 1  0  4 15]\n",
      " [ 7  9 12 13]\n",
      " [ 5  3 14 10]\n",
      " [ 6  8 11  2]]\n"
     ]
    }
   ],
   "source": [
    "class Game:\n",
    "    def __init__(self):\n",
    "        self.board=np.array([[7,1,4,15],\n",
    "                             [0,9,12,13],\n",
    "                             [5,3,14,10],\n",
    "                             [6,8,11,2]])\n",
    "        self.empty_field=(1,0)\n",
    "        self.number_of_moves = 100\n",
    "        self.number_of_moves_played = 0\n",
    "    \n",
    "    def check_right_position(self, field_value):\n",
    "        niz=self.board.reshape(-1)\n",
    "        if(niz[field_value-1] == field_value):\n",
    "            return True\n",
    "        \n",
    "        return False    \n",
    "\n",
    "    #levo, gore, desno, dole\n",
    "    def play_turn(self, action):\n",
    "        x, y = self.empty_field\n",
    "        if (action == [1, 0, 0, 0]) and y != 0:\n",
    "            y -= 1\n",
    "        if (action == [0, 1, 0, 0]) and x != 0:\n",
    "            x -= 1    \n",
    "        if (action == [0, 0, 1, 0]) and y != 3:\n",
    "            y += 1\n",
    "        if (action == [0, 0, 0, 1]) and x != 3:\n",
    "            x += 1\n",
    "        \n",
    "        self.swap_field_values(self.empty_field, (x, y))\n",
    "        self.empty_field = (x,y)\n",
    "        \n",
    "    def swap_field_values(self, field1, field2):\n",
    "        self.board[field1[0], field1[1]], self.board[field2[0], field2[1]] = self.board[field2[0], field2[1]], self.board[field1[0], field1[1]]\n",
    "    \n",
    "    \n",
    "    \n",
    "a = Game()\n",
    "print(a.board)\n",
    "a.play_turn([0, 1, 0, 0])\n",
    "a.play_turn([0, 0, 1, 0])\n",
    "a.play_turn([0, 1, 0, 0])\n",
    "print(a.board)"
   ]
  }
 ],
 "metadata": {
  "kernelspec": {
   "display_name": "Python 3 (ipykernel)",
   "language": "python",
   "name": "python3"
  },
  "language_info": {
   "codemirror_mode": {
    "name": "ipython",
    "version": 3
   },
   "file_extension": ".py",
   "mimetype": "text/x-python",
   "name": "python",
   "nbconvert_exporter": "python",
   "pygments_lexer": "ipython3",
   "version": "3.9.13"
  }
 },
 "nbformat": 4,
 "nbformat_minor": 5
}
