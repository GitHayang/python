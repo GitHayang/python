{
 "cells": [
  {
   "cell_type": "code",
   "execution_count": 1,
   "id": "5cf0e486-05e6-4f30-a309-54c772d91957",
   "metadata": {
    "tags": []
   },
   "outputs": [],
   "source": [
    "import pandas as pd\n",
    "import numpy as np\n",
    "import os\n",
    "import cv2\n",
    "from PIL import Image\n",
    "from tqdm import tqdm\n",
    "import time"
   ]
  },
  {
   "cell_type": "code",
   "execution_count": 2,
   "id": "a8e88f47-145d-461f-9c6a-766a617570ea",
   "metadata": {},
   "outputs": [],
   "source": [
    "img_df = pd.read_csv(\"./train.csv\")"
   ]
  },
  {
   "cell_type": "code",
   "execution_count": 9,
   "id": "fb274ba8-ed82-470b-96db-4e3d5df10d04",
   "metadata": {},
   "outputs": [],
   "source": [
    "# 조각낸 이미지와 수정된 이미지를 저장할 폴더 생성\n",
    "# 최초 1회 실행, 이후는 이미 존재하기에 건너 뜀\n",
    "try:\n",
    "    os.mkdir(\"./check\")\n",
    "    os.mkdir(\"./img\")\n",
    "except:\n",
    "    pass"
   ]
  },
  {
   "cell_type": "code",
   "execution_count": 10,
   "id": "5fd251a1-b3d4-4acf-a788-dff9c5b346fc",
   "metadata": {},
   "outputs": [
    {
     "name": "stderr",
     "output_type": "stream",
     "text": [
      "100%|█████████████████████████████████████████████████████████████████████████| 70000/70000 [16:21:00<00:00,  1.19it/s]\n"
     ]
    }
   ],
   "source": [
    "pbar = tqdm(range(img_df.shape[0]))\n",
    "for n in pbar:\n",
    "    # 불러올 이미지의 경로\n",
    "    img_path = img_df[\"img_path\"][n]\n",
    "\n",
    "    image = Image.open(img_path)\n",
    "\n",
    "    # 4*4로 자르기 위해 비율을 구하고 저장\n",
    "    img_w = image.width\n",
    "    img_h = image.height\n",
    "\n",
    "    w_rate = img_w/4\n",
    "    h_rate = img_h/4\n",
    "\n",
    "    # 자를 때 시작점을 지정해 줘야 하기에 0부터 시작\n",
    "    w_size_arr = [0]\n",
    "    h_size_arr = [0]\n",
    "\n",
    "    for i in range(1,5):\n",
    "        w_size = i * w_rate\n",
    "        h_size = i * h_rate\n",
    "\n",
    "        w_size_arr.append(w_size)\n",
    "        h_size_arr.append(h_size)\n",
    "\n",
    "    count = 0\n",
    "    for i in range(len(w_size_arr)-1):\n",
    "        for j in range(len(h_size_arr)-1):\n",
    "            # 이미지를 4*4로 자르고 저장\n",
    "            resize_img = image.crop((w_size_arr[j], h_size_arr[i], w_size_arr[j+1], h_size_arr[i+1]))\n",
    "            num = img_df.loc[n][2+count]\n",
    "            count += 1\n",
    "            resize_img.save(f\"./check/img{num}.jpg\")\n",
    "\n",
    "    # 병합할 이미지의 기본틀 만들기\n",
    "    merged = Image.new('RGB', (img_w, img_h)) # \"RGB\" 대신 \"L\"이 들어가면 흑백이 된다.\n",
    "\n",
    "    count = 0\n",
    "    for i in range(len(w_size_arr)-1):\n",
    "        for j in range(len(h_size_arr)-1):\n",
    "            count += 1\n",
    "            # 2. 이미지 불러오기\n",
    "            im = Image.open(f'./check/img{count}.jpg')\n",
    "\n",
    "            # 3. 이미지 붙여넣기\n",
    "            merged.paste(im, (int(w_rate) * j, int(h_rate) * i))\n",
    "\n",
    "    # 4. 병합한 이미지 저장하기\n",
    "    merged.save(f'./img2/{img_df[\"ID\"][n]}.jpg')\n",
    "pbar.close()"
   ]
  },
  {
   "cell_type": "code",
   "execution_count": null,
   "id": "0e5ca76c-d4f4-4d88-8e45-c02ffabecf63",
   "metadata": {},
   "outputs": [],
   "source": []
  },
  {
   "cell_type": "code",
   "execution_count": null,
   "id": "6fc43a00-6058-467f-bf61-94aaddc3606e",
   "metadata": {},
   "outputs": [],
   "source": []
  },
  {
   "cell_type": "code",
   "execution_count": null,
   "id": "503bb938-b1ac-4a0d-a6cc-c3c90e094e3b",
   "metadata": {},
   "outputs": [],
   "source": []
  },
  {
   "cell_type": "code",
   "execution_count": null,
   "id": "4fcee80d-8ac2-4837-a9cd-76ccc44404d2",
   "metadata": {},
   "outputs": [],
   "source": []
  }
 ],
 "metadata": {
  "kernelspec": {
   "display_name": "Python 3 (ipykernel)",
   "language": "python",
   "name": "python3"
  },
  "language_info": {
   "codemirror_mode": {
    "name": "ipython",
    "version": 3
   },
   "file_extension": ".py",
   "mimetype": "text/x-python",
   "name": "python",
   "nbconvert_exporter": "python",
   "pygments_lexer": "ipython3",
   "version": "3.9.13"
  }
 },
 "nbformat": 4,
 "nbformat_minor": 5
}
