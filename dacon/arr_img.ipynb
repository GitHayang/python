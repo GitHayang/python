{
 "cells": [
  {
   "cell_type": "code",
   "execution_count": 19,
   "id": "5792c22b-b2b8-4c47-8c84-5b917453b848",
   "metadata": {},
   "outputs": [],
   "source": [
    "import numpy as np\n",
    "import pandas as pd\n",
    "import os\n",
    "from PIL import Image\n",
    "import cv2\n",
    "import random"
   ]
  },
  {
   "cell_type": "code",
   "execution_count": 20,
   "id": "3eccbe89-87be-4161-8963-c520d57e6e36",
   "metadata": {},
   "outputs": [
    {
     "data": {
      "text/html": [
       "<div>\n",
       "<style scoped>\n",
       "    .dataframe tbody tr th:only-of-type {\n",
       "        vertical-align: middle;\n",
       "    }\n",
       "\n",
       "    .dataframe tbody tr th {\n",
       "        vertical-align: top;\n",
       "    }\n",
       "\n",
       "    .dataframe thead th {\n",
       "        text-align: right;\n",
       "    }\n",
       "</style>\n",
       "<table border=\"1\" class=\"dataframe\">\n",
       "  <thead>\n",
       "    <tr style=\"text-align: right;\">\n",
       "      <th></th>\n",
       "      <th>ID</th>\n",
       "      <th>img_path</th>\n",
       "      <th>1</th>\n",
       "      <th>2</th>\n",
       "      <th>3</th>\n",
       "      <th>4</th>\n",
       "      <th>5</th>\n",
       "      <th>6</th>\n",
       "      <th>7</th>\n",
       "      <th>8</th>\n",
       "      <th>9</th>\n",
       "      <th>10</th>\n",
       "      <th>11</th>\n",
       "      <th>12</th>\n",
       "      <th>13</th>\n",
       "      <th>14</th>\n",
       "      <th>15</th>\n",
       "      <th>16</th>\n",
       "    </tr>\n",
       "  </thead>\n",
       "  <tbody>\n",
       "    <tr>\n",
       "      <th>0</th>\n",
       "      <td>TRAIN_00000</td>\n",
       "      <td>./train/TRAIN_00000.jpg</td>\n",
       "      <td>8</td>\n",
       "      <td>1</td>\n",
       "      <td>16</td>\n",
       "      <td>12</td>\n",
       "      <td>5</td>\n",
       "      <td>10</td>\n",
       "      <td>14</td>\n",
       "      <td>2</td>\n",
       "      <td>13</td>\n",
       "      <td>4</td>\n",
       "      <td>7</td>\n",
       "      <td>3</td>\n",
       "      <td>6</td>\n",
       "      <td>9</td>\n",
       "      <td>11</td>\n",
       "      <td>15</td>\n",
       "    </tr>\n",
       "    <tr>\n",
       "      <th>1</th>\n",
       "      <td>TRAIN_00001</td>\n",
       "      <td>./train/TRAIN_00001.jpg</td>\n",
       "      <td>3</td>\n",
       "      <td>7</td>\n",
       "      <td>2</td>\n",
       "      <td>13</td>\n",
       "      <td>1</td>\n",
       "      <td>5</td>\n",
       "      <td>10</td>\n",
       "      <td>4</td>\n",
       "      <td>11</td>\n",
       "      <td>14</td>\n",
       "      <td>9</td>\n",
       "      <td>15</td>\n",
       "      <td>16</td>\n",
       "      <td>12</td>\n",
       "      <td>8</td>\n",
       "      <td>6</td>\n",
       "    </tr>\n",
       "    <tr>\n",
       "      <th>2</th>\n",
       "      <td>TRAIN_00002</td>\n",
       "      <td>./train/TRAIN_00002.jpg</td>\n",
       "      <td>9</td>\n",
       "      <td>12</td>\n",
       "      <td>11</td>\n",
       "      <td>14</td>\n",
       "      <td>6</td>\n",
       "      <td>16</td>\n",
       "      <td>10</td>\n",
       "      <td>13</td>\n",
       "      <td>15</td>\n",
       "      <td>8</td>\n",
       "      <td>3</td>\n",
       "      <td>1</td>\n",
       "      <td>4</td>\n",
       "      <td>5</td>\n",
       "      <td>2</td>\n",
       "      <td>7</td>\n",
       "    </tr>\n",
       "    <tr>\n",
       "      <th>3</th>\n",
       "      <td>TRAIN_00003</td>\n",
       "      <td>./train/TRAIN_00003.jpg</td>\n",
       "      <td>14</td>\n",
       "      <td>1</td>\n",
       "      <td>6</td>\n",
       "      <td>15</td>\n",
       "      <td>9</td>\n",
       "      <td>4</td>\n",
       "      <td>8</td>\n",
       "      <td>5</td>\n",
       "      <td>16</td>\n",
       "      <td>10</td>\n",
       "      <td>13</td>\n",
       "      <td>7</td>\n",
       "      <td>2</td>\n",
       "      <td>3</td>\n",
       "      <td>11</td>\n",
       "      <td>12</td>\n",
       "    </tr>\n",
       "    <tr>\n",
       "      <th>4</th>\n",
       "      <td>TRAIN_00004</td>\n",
       "      <td>./train/TRAIN_00004.jpg</td>\n",
       "      <td>3</td>\n",
       "      <td>15</td>\n",
       "      <td>12</td>\n",
       "      <td>4</td>\n",
       "      <td>16</td>\n",
       "      <td>13</td>\n",
       "      <td>11</td>\n",
       "      <td>10</td>\n",
       "      <td>9</td>\n",
       "      <td>6</td>\n",
       "      <td>14</td>\n",
       "      <td>5</td>\n",
       "      <td>1</td>\n",
       "      <td>8</td>\n",
       "      <td>2</td>\n",
       "      <td>7</td>\n",
       "    </tr>\n",
       "  </tbody>\n",
       "</table>\n",
       "</div>"
      ],
      "text/plain": [
       "            ID                 img_path   1   2   3   4   5   6   7   8   9  \\\n",
       "0  TRAIN_00000  ./train/TRAIN_00000.jpg   8   1  16  12   5  10  14   2  13   \n",
       "1  TRAIN_00001  ./train/TRAIN_00001.jpg   3   7   2  13   1   5  10   4  11   \n",
       "2  TRAIN_00002  ./train/TRAIN_00002.jpg   9  12  11  14   6  16  10  13  15   \n",
       "3  TRAIN_00003  ./train/TRAIN_00003.jpg  14   1   6  15   9   4   8   5  16   \n",
       "4  TRAIN_00004  ./train/TRAIN_00004.jpg   3  15  12   4  16  13  11  10   9   \n",
       "\n",
       "   10  11  12  13  14  15  16  \n",
       "0   4   7   3   6   9  11  15  \n",
       "1  14   9  15  16  12   8   6  \n",
       "2   8   3   1   4   5   2   7  \n",
       "3  10  13   7   2   3  11  12  \n",
       "4   6  14   5   1   8   2   7  "
      ]
     },
     "execution_count": 20,
     "metadata": {},
     "output_type": "execute_result"
    }
   ],
   "source": [
    "img_df = pd.read_csv(\"./train.csv\")\n",
    "img_df.head()"
   ]
  },
  {
   "cell_type": "code",
   "execution_count": 21,
   "id": "f7280dee-bbe2-42cb-a06e-6e3f7fc4fb42",
   "metadata": {},
   "outputs": [],
   "source": [
    "img_path = img_df[\"img_path\"][0]\n",
    "\n",
    "image = Image.open(img_path)"
   ]
  },
  {
   "cell_type": "code",
   "execution_count": 22,
   "id": "0f484ff3-a652-478f-886a-d84103973c7d",
   "metadata": {
    "tags": []
   },
   "outputs": [],
   "source": [
    "# 4*4로 자르기 위해 비율을 구하고 저장\n",
    "img_w = image.width\n",
    "img_h = image.height\n",
    "\n",
    "w_rate = img_w/4\n",
    "h_rate = img_h/4\n",
    "\n",
    "# 자를 때 시작점을 지정해 줘야 하기에 0부터 시작\n",
    "w_size_arr = [0]\n",
    "h_size_arr = [0]\n",
    "\n",
    "for i in range(1,5):\n",
    "    w_size = i * w_rate\n",
    "    h_size = i * h_rate\n",
    "\n",
    "    w_size_arr.append(w_size)\n",
    "    h_size_arr.append(h_size)"
   ]
  },
  {
   "cell_type": "raw",
   "id": "b466837b-bf4f-4134-aa20-39a30c8ca6e9",
   "metadata": {
    "jupyter": {
     "source_hidden": true
    },
    "tags": []
   },
   "source": [
    "# 쪼갠 후 이미지로 저장할 때\n",
    "count = 0\n",
    "images = []\n",
    "for i in range(len(w_size_arr)-1):\n",
    "    for j in range(len(h_size_arr)-1):\n",
    "        # 이미지를 4*4로 자르고 저장\n",
    "        resize_img = image.crop((w_size_arr[j], h_size_arr[i], w_size_arr[j+1], h_size_arr[i+1]))\n",
    "        # 이제 이미지를 배열로 만들고 배열을 저장한다.\n",
    "        images.append(resize_img)"
   ]
  },
  {
   "cell_type": "raw",
   "id": "ccedc5b4-1d73-42ec-92b9-9c1ee00064fd",
   "metadata": {
    "jupyter": {
     "source_hidden": true
    },
    "tags": []
   },
   "source": [
    "# 병합할 이미지의 기본틀 만들기\n",
    "merged = Image.new('RGB', (img_w, img_h)) # \"RGB\" 대신 \"L\"이 들어가면 흑백이 된다.\n",
    "\n",
    "count = 0\n",
    "# 현재 최초 실행시 인덱스를 랜덤으로 부여해서 나열한다.\n",
    "randIdx = random.sample(range(0,16),16)\n",
    "for i in range(len(w_size_arr)-1):\n",
    "    for j in range(len(h_size_arr)-1):\n",
    "        # 2. 이미지 불러오기\n",
    "        im = images[randIdx[count]]\n",
    "        count += 1\n",
    "\n",
    "        # 3. 이미지 붙여넣기\n",
    "        merged.paste(im, (int(w_rate) * j, int(h_rate) * i))"
   ]
  },
  {
   "cell_type": "code",
   "execution_count": 23,
   "id": "edd0c6b6-ab9d-4e41-9a0f-ff7f9f041ed6",
   "metadata": {},
   "outputs": [],
   "source": [
    "# 쪼갠 후 배열로 만들어 저장할때\n",
    "count = 0\n",
    "images = []\n",
    "for i in range(len(w_size_arr)-1):\n",
    "    for j in range(len(h_size_arr)-1):\n",
    "        # 이미지를 4*4로 자르고 저장\n",
    "        resize_img = image.crop((w_size_arr[j], h_size_arr[i], w_size_arr[j+1], h_size_arr[i+1]))\n",
    "        # 이제 이미지를 배열로 만들고 배열을 저장한다.\n",
    "        images.append(np.array(resize_img))"
   ]
  },
  {
   "cell_type": "raw",
   "id": "b720b722-60b6-40d6-b812-086f8ddff967",
   "metadata": {
    "jupyter": {
     "source_hidden": true
    },
    "tags": []
   },
   "source": [
    "# 배열로 만든 이미지를 다시 이미지로 만든 다음 병합\n",
    "# 병합할 이미지의 기본틀 만들기\n",
    "merged = Image.new('RGB', (img_w, img_h)) # \"RGB\" 대신 \"L\"이 들어가면 흑백이 된다.\n",
    "\n",
    "count = 0\n",
    "# 현재 최초 실행시 인덱스를 랜덤으로 부여해서 나열한다.\n",
    "randIdx = random.sample(range(0,16),16)\n",
    "for i in range(len(w_size_arr)-1):\n",
    "    for j in range(len(h_size_arr)-1):\n",
    "        # 2. 이미지 불러오기\n",
    "        im = images[randIdx[count]]\n",
    "        im = Image.fromarray(im)\n",
    "        count += 1\n",
    "\n",
    "        # 3. 이미지 붙여넣기\n",
    "        merged.paste(im, (int(w_rate) * j, int(h_rate) * i))"
   ]
  },
  {
   "cell_type": "code",
   "execution_count": 24,
   "id": "c90c944b-cbcc-48c5-8be2-907b37a47248",
   "metadata": {
    "tags": []
   },
   "outputs": [],
   "source": [
    "# 이미지 선따기\n",
    "merged = Image.new('RGB', (img_w, img_h)) # \"RGB\" 대신 \"L\"이 들어가면 흑백이 된다.\n",
    "\n",
    "edge = []\n",
    "cnt = 0\n",
    "for i in range(len(w_size_arr)-1):\n",
    "    for j in range(len(h_size_arr)-1):\n",
    "        edge.append(cv2.Canny(images[cnt],300,300))\n",
    "        im = Image.fromarray(edge[cnt])\n",
    "        cnt += 1\n",
    "        merged.paste(im, (int(w_rate) * j, int(h_rate) * i))\n",
    "\n",
    "# 4. 병합한 이미지 저장하기\n",
    "# merged.save(f'./img2/{img_df[\"ID\"][n]}.jpg')"
   ]
  },
  {
   "cell_type": "code",
   "execution_count": 25,
   "id": "a6e8d50f-29c4-488f-bcb3-a2d17d62166d",
   "metadata": {},
   "outputs": [
    {
     "data": {
      "image/png": "[encoded data removed]",
      "text/plain": [
       "<PIL.Image.Image image mode=RGB size=512x512>"
      ]
     },
     "execution_count": 25,
     "metadata": {},
     "output_type": "execute_result"
    }
   ],
   "source": [
    "merged"
   ]
  },
  {
   "cell_type": "raw",
   "id": "f3055885-4645-4e50-9f9a-1a3f9f9c1d58",
   "metadata": {
    "tags": []
   },
   "source": [
    "test = cv2.Canny(images[0],50,255)\n",
    "# 각 모서리 구하기\n",
    "for i in range(test.shape[0]):\n",
    "    # 윗쪽변, 점수 1\n",
    "    test[i][0]\n",
    "    # 아랫쪽변, 점수4\n",
    "    test[127][i]\n",
    "    # 왼쪽변, 점수 8\n",
    "    test[0][i]\n",
    "    # 오른쪽변, 점수 2\n",
    "    test[i][127]"
   ]
  },
  {
   "cell_type": "code",
   "execution_count": 26,
   "id": "335168e2-5757-430e-a89a-07e6f3116970",
   "metadata": {
    "scrolled": true,
    "tags": []
   },
   "outputs": [
    {
     "name": "stdout",
     "output_type": "stream",
     "text": [
      "16\n",
      "6\n",
      "--------------------------------------------------------------------------------\n",
      "16\n",
      "6\n",
      "--------------------------------------------------------------------------------\n"
     ]
    }
   ],
   "source": [
    "# 조각의 인접한 변의 일치에 따라 점수를 매기고 6점이 시작 조각\n",
    "count = 0\n",
    "for i in range(len(edge)):\n",
    "    for k in range(len(edge)):\n",
    "        main = edge[i]\n",
    "        compare = edge[k]\n",
    "        max_size = main.shape[0]-1\n",
    "        \n",
    "        up_score = 0\n",
    "        down_score = 0\n",
    "        r_score = 0\n",
    "        l_score = 0\n",
    "            \n",
    "        compare_up = []\n",
    "        compare_down = []\n",
    "        compare_r = []\n",
    "        compare_l = []\n",
    "\n",
    "        main_up = []\n",
    "        main_down = []\n",
    "        main_r = []\n",
    "        main_l = []\n",
    "            \n",
    "        for j in range(main.shape[0]):\n",
    "            count = i+1\n",
    "            # 선으로 변환이 완벽하지 않기에 정확하게 찾질 못 한다.\n",
    "                        \n",
    "            main_up.append(main[j][0])\n",
    "            main_r.append(main[j][max_size])\n",
    "            main_down.append(main[max_size][j])\n",
    "            main_l.append(main[0][j])\n",
    "            \n",
    "            compare_up.append(compare[j][0])\n",
    "            compare_r.append(compare[j][max_size])\n",
    "            compare_down.append(compare[max_size][j])\n",
    "            compare_l.append(compare[0][j])\n",
    "        \n",
    "        # 메인의 위, 비교의 아래\n",
    "        if np.all(main_up == compare_down):\n",
    "            up_score = 1\n",
    "        # 메인의 오른쪽, 비교의 왼쪽\n",
    "        if np.all(main_r == compare_l):\n",
    "            r_score = 2\n",
    "        # 메인의 아래, 비교의 위\n",
    "        if np.all(main_down == compare_up):\n",
    "            down_score = 4\n",
    "        # 메인의 왼쪽, 비교의 오른쪽\n",
    "        if np.all(main_l == compare_r):\n",
    "            l_score = 8\n",
    "\n",
    "        score = (up_score + down_score + r_score + l_score)\n",
    "\n",
    "        # print(score)\n",
    "        # print(\"-\"*80)\n",
    "\n",
    "        if score == 6:\n",
    "            print(count)\n",
    "            print(score)\n",
    "            print(\"-\"*80)"
   ]
  },
  {
   "cell_type": "code",
   "execution_count": 27,
   "id": "486bef6e-67ea-42f4-adf2-aeb3aca72e3e",
   "metadata": {},
   "outputs": [
    {
     "ename": "ValueError",
     "evalue": "The truth value of an array with more than one element is ambiguous. Use a.any() or a.all()",
     "output_type": "error",
     "traceback": [
      "\u001b[1;31m---------------------------------------------------------------------------\u001b[0m",
      "\u001b[1;31mValueError\u001b[0m                                Traceback (most recent call last)",
      "\u001b[1;32m~\\AppData\\Local\\Temp\\ipykernel_7348\\2666908514.py\u001b[0m in \u001b[0;36m<module>\u001b[1;34m\u001b[0m\n\u001b[0;32m     13\u001b[0m \u001b[1;33m\u001b[0m\u001b[0m\n\u001b[0;32m     14\u001b[0m         \u001b[1;31m# (좌상, 우상), (좌하, 우하) = 위쪽변, 아랫쪽변\u001b[0m\u001b[1;33m\u001b[0m\u001b[1;33m\u001b[0m\u001b[0m\n\u001b[1;32m---> 15\u001b[1;33m         \u001b[1;32mif\u001b[0m \u001b[1;33m(\u001b[0m\u001b[0mmain\u001b[0m\u001b[1;33m[\u001b[0m\u001b[1;36m0\u001b[0m\u001b[1;33m]\u001b[0m\u001b[1;33m[\u001b[0m\u001b[1;36m0\u001b[0m\u001b[1;33m]\u001b[0m \u001b[1;33m==\u001b[0m \u001b[0mcompare\u001b[0m\u001b[1;33m[\u001b[0m\u001b[1;36m0\u001b[0m\u001b[1;33m]\u001b[0m\u001b[1;33m[\u001b[0m\u001b[0mmax_size\u001b[0m\u001b[1;33m]\u001b[0m\u001b[1;33m)\u001b[0m \u001b[1;33m&\u001b[0m \u001b[1;33m(\u001b[0m\u001b[0mmain\u001b[0m\u001b[1;33m[\u001b[0m\u001b[0mmax_size\u001b[0m\u001b[1;33m]\u001b[0m\u001b[1;33m[\u001b[0m\u001b[1;36m0\u001b[0m\u001b[1;33m]\u001b[0m \u001b[1;33m==\u001b[0m \u001b[0mcompare\u001b[0m\u001b[1;33m[\u001b[0m\u001b[0mmax_size\u001b[0m\u001b[1;33m]\u001b[0m\u001b[1;33m[\u001b[0m\u001b[0mmax_size\u001b[0m\u001b[1;33m]\u001b[0m\u001b[1;33m)\u001b[0m\u001b[1;33m:\u001b[0m\u001b[1;33m\u001b[0m\u001b[1;33m\u001b[0m\u001b[0m\n\u001b[0m\u001b[0;32m     16\u001b[0m             \u001b[0mup_score\u001b[0m \u001b[1;33m=\u001b[0m \u001b[1;36m1\u001b[0m\u001b[1;33m\u001b[0m\u001b[1;33m\u001b[0m\u001b[0m\n\u001b[0;32m     17\u001b[0m         \u001b[1;31m# (우상, 우하), (좌상, 좌하) = 오른쪽변, 왼쪽변\u001b[0m\u001b[1;33m\u001b[0m\u001b[1;33m\u001b[0m\u001b[0m\n",
      "\u001b[1;31mValueError\u001b[0m: The truth value of an array with more than one element is ambiguous. Use a.any() or a.all()"
     ]
    }
   ],
   "source": [
    "# 각 이미지의 꼭짓점이 일치하는지 확인하는 방식\n",
    "for i in range(len(images)):\n",
    "    for k in range(len(images)):\n",
    "        main = images[i]\n",
    "        compare = images[k]\n",
    "        max_size = main.shape[0]-1\n",
    "        \n",
    "        up_score = 0\n",
    "        down_score = 0\n",
    "        r_score = 0\n",
    "        l_score = 0\n",
    "        score = (up_score + down_score + r_score + l_score)\n",
    "        \n",
    "        # (좌상, 우상), (좌하, 우하) = 위쪽변, 아랫쪽변\n",
    "        if (main[0][0] == compare[0][max_size]) & (main[max_size][0] == compare[max_size][max_size]):\n",
    "            up_score = 1            \n",
    "        # (우상, 우하), (좌상, 좌하) = 오른쪽변, 왼쪽변\n",
    "        if (main[max_size][0] == compare[0][0]) & (main[max_size][max_size] == compare[0][max_size]):\n",
    "            r_score = 2\n",
    "        # (좌하, 우하), (좌상, 우상) = 아랫쪽변, 윗쪽변\n",
    "        if (main[0][max_size] == compare[0][0]) & (main[max_size][max_size] == compare[max_size][0]):\n",
    "            down_score = 4\n",
    "        # (좌상, 좌하), (우상, 우하) = 왼쪽변, 오른쪽변\n",
    "        if (main[max_size][max_size] == compare[max_size][0]) & (main[0][max_size] == compare[max_size][max_size]):\n",
    "            l_score = 8\n",
    "        \n",
    "        print(up_score)\n",
    "        print(\"-\"*80)\n",
    "        \n",
    "        if score == 6:\n",
    "            print(count)\n",
    "            print(score)\n",
    "            print(\"-\"*80)"
   ]
  },
  {
   "cell_type": "code",
   "execution_count": null,
   "id": "39e57a7b-bc79-4d36-8717-fbc215794e9f",
   "metadata": {},
   "outputs": [],
   "source": []
  },
  {
   "cell_type": "code",
   "execution_count": null,
   "id": "da6424dd-7e03-4786-b454-20c61c492a3e",
   "metadata": {},
   "outputs": [],
   "source": []
  },
  {
   "cell_type": "code",
   "execution_count": null,
   "id": "67861125-bbe4-4447-87ba-85cb78c5e49a",
   "metadata": {},
   "outputs": [],
   "source": []
  },
  {
   "cell_type": "code",
   "execution_count": null,
   "id": "a80d683d-0f87-4c1b-aa26-3388e5757c6e",
   "metadata": {},
   "outputs": [],
   "source": []
  },
  {
   "cell_type": "code",
   "execution_count": null,
   "id": "0153135d-bf3a-4007-bca9-9aaae8a09b92",
   "metadata": {},
   "outputs": [],
   "source": []
  },
  {
   "cell_type": "code",
   "execution_count": null,
   "id": "f966866f-a711-4b6a-8292-451d06dd04b8",
   "metadata": {},
   "outputs": [],
   "source": []
  },
  {
   "cell_type": "code",
   "execution_count": null,
   "id": "6d0604da-cede-41df-90b5-bb93c8b757ad",
   "metadata": {},
   "outputs": [],
   "source": []
  },
  {
   "cell_type": "code",
   "execution_count": null,
   "id": "72a6edd9-40b8-46c6-b0df-75dcea5605d6",
   "metadata": {},
   "outputs": [],
   "source": []
  }
 ],
 "metadata": {
  "kernelspec": {
   "display_name": "Python 3 (ipykernel)",
   "language": "python",
   "name": "python3"
  },
  "language_info": {
   "codemirror_mode": {
    "name": "ipython",
    "version": 3
   },
   "file_extension": ".py",
   "mimetype": "text/x-python",
   "name": "python",
   "nbconvert_exporter": "python",
   "pygments_lexer": "ipython3",
   "version": "3.9.13"
  }
 },
 "nbformat": 4,
 "nbformat_minor": 5
}
