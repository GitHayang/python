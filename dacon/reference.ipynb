{
 "cells": [
  {
   "cell_type": "code",
   "execution_count": 1,
   "id": "e845dc5a-7074-4177-ba93-252234d80ba6",
   "metadata": {},
   "outputs": [],
   "source": [
    "import numpy as np\n",
    "import pandas as pd\n",
    "import matplotlib.pyplot as plt\n",
    "from PIL import Image\n",
    "import random\n",
    "\n",
    "import keras\n",
    "from keras.callbacks import ModelCheckpoint\n",
    "from keras.layers import TimeDistributed as td\n",
    "from keras.layers import Input, Conv2D, Flatten, Dense, ZeroPadding2D, Activation, concatenate\n",
    "from keras.layers import MaxPooling2D, Dropout, BatchNormalization, Reshape, UpSampling2D\n",
    "from keras.models import Model"
   ]
  },
  {
   "cell_type": "code",
   "execution_count": null,
   "id": "2621bc2c-4029-474a-a83d-4af1867c78af",
   "metadata": {},
   "outputs": [],
   "source": [
    "# Convoltuion blocks\n",
    "def conv_block(tensor, nfilters, size=3, padding='same', kernel_initializer = 'he_normal'):\n",
    "    x = Conv2D(filters=nfilters, kernel_size=(size,size) , padding=padding, kernel_initializer = 'he_normal')(tensor)\n",
    "    x = BatchNormalization()(x)\n",
    "    x = Activation(\"relu\")(x)\n",
    "    return x\n",
    "  \n",
    "def deconv_block(tensor, residual, nfilters, size=3, padding='same', kernel_initializer = 'he_normal'):\n",
    "    y = UpSampling2D(size = (2,2))(tensor)\n",
    "    y = Conv2D(filters=nfilters, kernel_size=(size,size), activation = 'relu', padding = 'same', kernel_initializer = kernel_initializer)(y)\n",
    "    y = concatenate([y,residual], axis = 3)\n",
    "    y = conv_block(y, nfilters)\n",
    "    \n",
    "    return y   "
   ]
  },
  {
   "cell_type": "code",
   "execution_count": null,
   "id": "e9dc7e0f-3787-4414-88eb-fae91ad95108",
   "metadata": {},
   "outputs": [],
   "source": [
    "def get_jnet():\n",
    "    inputs = Input((224,224,3))\n",
    "    \n",
    "    #Contraction path\n",
    "    conv1= conv_block(inputs, 16)\n",
    "    pool1 = MaxPooling2D(pool_size=2)(conv1)\n",
    "\n",
    "    conv2 = conv_block(pool1, 32)\n",
    "    pool2 = MaxPooling2D(pool_size=2)(conv2)\n",
    "\n",
    "    conv3 = conv_block(pool2, 64)\n",
    "    pool3 = MaxPooling2D(pool_size=(2, 2))(conv3)\n",
    "    \n",
    "    conv4 = conv_block(pool3, 128)\n",
    "    pool4 = MaxPooling2D(pool_size=2)(conv4)\n",
    "   \n",
    "    conv5 = conv_block(pool4, 256)\n",
    "   \n",
    "    #Expansion path\n",
    "    up6 = deconv_block(conv5, conv4, 128)\n",
    "    up7 = deconv_block(up6, conv3, 64)\n",
    "    up8 = deconv_block(up7, conv2, 32)\n",
    "    up9= deconv_block(up8, conv1, 16)\n",
    "    \n",
    "    pool_fin = MaxPooling2D(pool_size=2)(up9)\n",
    "    conv10 = Conv2D(16, kernel_size=(28, 28), strides=(28, 28))(pool_fin)\n",
    "    out = BatchNormalization()(conv10)\n",
    "    out = Reshape((16, 16))(out)\n",
    "    out = Activation('softmax')(out)\n",
    "\n",
    "    model = Model(inputs=[inputs], outputs=[out])\n",
    "\n",
    "    return model"
   ]
  },
  {
   "cell_type": "code",
   "execution_count": null,
   "id": "77f9e302-fddd-4d04-84bf-358348e65d54",
   "metadata": {},
   "outputs": [],
   "source": [
    "model = get_jnet()\n",
    "adam = keras.optimizers.Adam(learning_rate=.001)\n",
    "model.compile(optimizer=adam, loss='sparse_categorical_crossentropy',\n",
    "              metrics = ['sparse_categorical_accuracy'])"
   ]
  },
  {
   "cell_type": "code",
   "execution_count": null,
   "id": "7ad66daf-62ba-4f9f-9fe1-c25dd2a30d49",
   "metadata": {},
   "outputs": [],
   "source": [
    "def load_data(base_path, path, pieces=2):\n",
    "    data = pd.read_csv(base_path + '{}.csv'.format(path))\n",
    "    path = base_path + path + '/'\n",
    "\n",
    "    x, y = [], []\n",
    "    for i in range(len(data)):\n",
    "        im = Image.open(path + str(i) + '.jpg')\n",
    "        im = np.array(im).astype('float16')\n",
    "        im = im / 255 - 0.5\n",
    "\n",
    "        x.append(im)\n",
    "\n",
    "        label = data.iloc[i]\n",
    "        label = [int(i) for i in label]\n",
    "        y.append(label)\n",
    "\n",
    "    return (np.array(x), np.expand_dims(np.array(y), axis=-1))"
   ]
  },
  {
   "cell_type": "code",
   "execution_count": null,
   "id": "2ee2f4d2-167b-4122-a995-5321be033f71",
   "metadata": {},
   "outputs": [],
   "source": [
    "def group_image(images, shuffle_arr, pieces=4):\n",
    "    img = []\n",
    "\n",
    "    new_array = [shuffle_arr[i] for i in shuffle_arr]\n",
    "    print(new_array)\n",
    "    new_order =  [images[i] for i in new_array]\n",
    "\n",
    "    for i in range(pieces):\n",
    "        img.append(np.concatenate(new_order[i*pieces:(i+1)*pieces], axis=1))\n",
    "\n",
    "    img = np.concatenate(img, axis=0)\n",
    "    return img"
   ]
  },
  {
   "cell_type": "code",
   "execution_count": null,
   "id": "fbb25de5-992a-4868-bcec-08660073ce83",
   "metadata": {},
   "outputs": [],
   "source": [
    "base_path = \"../input/jigsaw-puzzle/Gravity Falls/puzzle_4x4/\""
   ]
  },
  {
   "cell_type": "code",
   "execution_count": null,
   "id": "897156bd-c49f-4849-b7e9-34f8f14b4823",
   "metadata": {},
   "outputs": [],
   "source": [
    "x_train, y_train = load_data(base_path, 'train', pieces=4)"
   ]
  },
  {
   "cell_type": "code",
   "execution_count": null,
   "id": "8004f57f-0a86-46fa-8882-b3b316eaf618",
   "metadata": {},
   "outputs": [],
   "source": [
    "x_val, y_val = load_data(base_path, 'valid', pieces=4)"
   ]
  },
  {
   "cell_type": "code",
   "execution_count": null,
   "id": "95d3a6e3-0632-4a30-bf12-dce1007ef76f",
   "metadata": {},
   "outputs": [],
   "source": [
    "weightpath = \"best_weights.hdf5\"\n",
    "checkpoint = ModelCheckpoint(weightpath, monitor='val_acc', verbose=1, save_best_only=True, save_weights_only=True, mode='max')\n",
    "callbacks_list = [checkpoint]\n",
    "\n",
    "history = model.fit(x_train, y_train, batch_size=64, epochs=50, validation_data=(x_val, y_val), callbacks=callbacks_list)\n",
    "\n",
    "filepath=\"puzzle_4x4.hdf5\"\n",
    "model.save(filepath)"
   ]
  },
  {
   "cell_type": "code",
   "execution_count": null,
   "id": "5f6b38e3-cb74-44ea-b33c-f7d2181b38dd",
   "metadata": {},
   "outputs": [],
   "source": [
    "pd.Series({k:v[-1] for k, v in history.history.items()})"
   ]
  },
  {
   "cell_type": "code",
   "execution_count": null,
   "id": "1e68d9cb-7ca4-432b-b53e-5882cd2dce2b",
   "metadata": {},
   "outputs": [],
   "source": [
    "def plot_loss_accuraccy(history):\n",
    "    history_df = pd.DataFrame(history.history)\n",
    "    print(\"Maximum accuracy: {}\".format(history_df['val_sparse_categorical_accuracy'].max()))\n",
    "    history_df[['loss', 'val_loss']].plot()\n",
    "    history_df[['sparse_categorical_accuracy', 'val_sparse_categorical_accuracy']].plot()"
   ]
  },
  {
   "cell_type": "code",
   "execution_count": null,
   "id": "a6429857-8619-427b-b939-73242d5c7eb7",
   "metadata": {},
   "outputs": [],
   "source": [
    "plot_loss_accuraccy(history)"
   ]
  },
  {
   "cell_type": "markdown",
   "id": "025dba8d-f3ba-4a1f-be72-fc1a506f2de7",
   "metadata": {},
   "source": [
    "# Test model"
   ]
  },
  {
   "cell_type": "code",
   "execution_count": null,
   "id": "741cb2d9-783e-4f1a-9379-d9726545ae3b",
   "metadata": {},
   "outputs": [],
   "source": [
    "model = keras.models.load_model('puzzle_4x4.hdf5')"
   ]
  },
  {
   "cell_type": "code",
   "execution_count": null,
   "id": "5cc8956e-3a19-4327-999a-906c561ebd05",
   "metadata": {},
   "outputs": [],
   "source": [
    "pieces=4\n",
    "\n",
    "x_test, y_test = load_data(base_path, 'test', pieces=pieces)"
   ]
  },
  {
   "cell_type": "code",
   "execution_count": null,
   "id": "8f76f58c-37d0-40d6-b6df-f52e8aa1847b",
   "metadata": {},
   "outputs": [],
   "source": [
    "y_pred = model.predict(x_test)\n",
    "predict = [np.argmax(y, axis=1) for y in y_pred]\n",
    "accuracy = np.mean(keras.metrics.categorical_accuracy(y_test.reshape(-1, 4*4), predict))\n",
    "\n",
    "print(\"Accuracy on {} samples: {}%\".format(len(y_pred), accuracy*100))"
   ]
  },
  {
   "cell_type": "code",
   "execution_count": null,
   "id": "f646e546-19dd-4438-81fb-e96f741196db",
   "metadata": {},
   "outputs": [],
   "source": [
    "def rearrange(im, label, pieces=4, dim=224, channel=3):\n",
    "    cut_len = dim // pieces\n",
    "\n",
    "    new_im = np.zeros((dim, dim, channel))\n",
    "    for i in range(pieces):\n",
    "\n",
    "        hor_cut = im[i * cut_len:(i + 1) * cut_len]\n",
    "\n",
    "        for j in range(pieces):\n",
    "            piece = hor_cut[:, j * cut_len:(j + 1) * cut_len]\n",
    "\n",
    "            pos = label[i * pieces + j]\n",
    "            x = pos // pieces\n",
    "            y = pos % pieces\n",
    "\n",
    "            new_im[x * cut_len:(x + 1) * cut_len, y * cut_len:(y + 1) * cut_len] = piece\n",
    "\n",
    "    return new_im"
   ]
  },
  {
   "cell_type": "code",
   "execution_count": null,
   "id": "518506c6-d041-479f-a698-95f60c339a3f",
   "metadata": {},
   "outputs": [],
   "source": [
    "fig, ax = plt.subplots(2, 3, figsize=(25, 15))\n",
    "indexes = np.random.randint(len(x_test), size=3)\n",
    "\n",
    "for i, idx in enumerate(indexes):\n",
    "    image = x_test[idx].astype('float64')+.5\n",
    "    ax[0, i].imshow(image)\n",
    "\n",
    "    y_pred_idx = np.argmax(y_pred[idx], axis=1)\n",
    "    arrange_img = rearrange(image, y_pred_idx)\n",
    "    ax[1, i].imshow(arrange_img)"
   ]
  },
  {
   "cell_type": "code",
   "execution_count": null,
   "id": "04e02b2d-09e2-4893-9711-1059f97c6e6a",
   "metadata": {},
   "outputs": [],
   "source": []
  },
  {
   "cell_type": "code",
   "execution_count": null,
   "id": "b2dd02a8-f745-44e2-ac04-3e2a8f5dfd25",
   "metadata": {},
   "outputs": [],
   "source": []
  },
  {
   "cell_type": "code",
   "execution_count": null,
   "id": "135de61c-ebe5-4ce8-a4ec-aa9a72cebdb9",
   "metadata": {},
   "outputs": [],
   "source": []
  },
  {
   "cell_type": "code",
   "execution_count": null,
   "id": "a0e4b959-95e9-42c9-b416-9ab76dfca025",
   "metadata": {},
   "outputs": [],
   "source": []
  },
  {
   "cell_type": "code",
   "execution_count": null,
   "id": "8aa16a0d-94cd-4c83-9983-7214e9244588",
   "metadata": {},
   "outputs": [],
   "source": []
  },
  {
   "cell_type": "code",
   "execution_count": null,
   "id": "d51c88fa-e911-4db1-852b-4e9af4b671f1",
   "metadata": {},
   "outputs": [],
   "source": []
  },
  {
   "cell_type": "code",
   "execution_count": null,
   "id": "d706bf9d-e0ea-407d-8c30-b04ff2e469af",
   "metadata": {},
   "outputs": [],
   "source": []
  },
  {
   "cell_type": "code",
   "execution_count": null,
   "id": "a4052dbd-59ec-4673-a12f-f4fdae199db1",
   "metadata": {},
   "outputs": [],
   "source": []
  },
  {
   "cell_type": "code",
   "execution_count": null,
   "id": "3d9f050c-7ea9-4f71-b37e-acaa394226af",
   "metadata": {},
   "outputs": [],
   "source": []
  },
  {
   "cell_type": "code",
   "execution_count": null,
   "id": "2bfbc541-933e-497a-bcfb-3ba173897c1e",
   "metadata": {},
   "outputs": [],
   "source": []
  },
  {
   "cell_type": "code",
   "execution_count": null,
   "id": "877d8cae-8a14-43b3-bf39-461ca9bb4cdc",
   "metadata": {},
   "outputs": [],
   "source": []
  },
  {
   "cell_type": "code",
   "execution_count": null,
   "id": "cb1712f3-a831-4cad-a3cb-269ad3f91961",
   "metadata": {},
   "outputs": [],
   "source": []
  },
  {
   "cell_type": "code",
   "execution_count": null,
   "id": "95a54fac-719c-41d0-be73-2c6ee66cd093",
   "metadata": {},
   "outputs": [],
   "source": []
  },
  {
   "cell_type": "code",
   "execution_count": null,
   "id": "d96dd207-2998-4ff0-ba30-807bcc41b386",
   "metadata": {},
   "outputs": [],
   "source": []
  },
  {
   "cell_type": "code",
   "execution_count": null,
   "id": "1a2c421a-a38f-4c71-8113-79ed33b4850d",
   "metadata": {},
   "outputs": [],
   "source": []
  },
  {
   "cell_type": "code",
   "execution_count": null,
   "id": "0d1eacf9-f590-4566-a406-d955ca0821a2",
   "metadata": {},
   "outputs": [],
   "source": []
  },
  {
   "cell_type": "code",
   "execution_count": null,
   "id": "78a5c9c2-c92e-4439-90fd-50c4b18abd6b",
   "metadata": {},
   "outputs": [],
   "source": []
  }
 ],
 "metadata": {
  "kernelspec": {
   "display_name": "Python 3 (ipykernel)",
   "language": "python",
   "name": "python3"
  },
  "language_info": {
   "codemirror_mode": {
    "name": "ipython",
    "version": 3
   },
   "file_extension": ".py",
   "mimetype": "text/x-python",
   "name": "python",
   "nbconvert_exporter": "python",
   "pygments_lexer": "ipython3",
   "version": "3.9.13"
  }
 },
 "nbformat": 4,
 "nbformat_minor": 5
}
