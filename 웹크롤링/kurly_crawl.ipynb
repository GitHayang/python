from selenium import webdriver
from selenium.webdriver.chrome.service import Service
from selenium.webdriver.chrome.options import Options
from webdriver_manager.chrome import ChromeDriverManager
chromeOption = Options()
chromeOption.add_argument("Window-size=1920x1080")
driver = webdriver.Chrome(service = Service(ChromeDriverManager().install()),options=chromeOption)
from selenium.webdriver.common.by import By
import pandas as pd
import bs4
import time

targetUrl = "https://www.kurly.com/search?sword=%EB%8F%BC%EC%A7%80%EA%B3%A0%EA%B8%B0"

user_agent = 'Mozilla/5.0 (Windows NT 10.0; Win64; x64) AppleWebKit/537.36 (KHTML, like Gecko) Chrome/100.0.4896.75 Safari/537.36'
try:
    driver.get(targetUrl)
except Exception as e:
    print(e)
    
htmlCode = driver.page_source
htmlCode = bs4.BeautifulSoup(htmlCode,"html.parser")

# 총 상품수 구하기
product = htmlCode.find(name='div', attrs={"class" : 'css-crqql1 eudxpx33'})
product = product.text.split(" ")
product = product[1]
product[0:-1]
productNum = int(product[0:-1]) # 총 상품수

# 페이지 하나당 물품수 : 12
pagePro = 12
# 페이지 숫자 구하기
pageNum = int(productNum/pagePro)
#나머지가 있을때 페이지 하나 추가
if(productNum%pagePro>0):
    resultPageNum = pageNum+1

rowList=[]
# 페이지 바꾸기
for i in range(1,resultPageNum+1):
    time.sleep(5)
    # 봇을 방지하기 위해서 1~1.5초정도 대기시간이 필요하다
    # 상대시간을 쓰면 1~1.5초보다 빠르게 종료될 수도 있어서 절대시간으로 써야한다.
    targetUrl = "https://www.kurly.com/search?sword=%EB%8F%BC%EC%A7%80%EA%B3%A0%EA%B8%B0&page={}".format(i)

    user_agent = 'Mozilla/5.0 (Windows NT 10.0; Win64; x64) AppleWebKit/537.36 (KHTML, like Gecko) Chrome/100.0.4896.75 Safari/537.36'
    try:
        driver.get(targetUrl)
    except Exception as e:
        print(e)
            
    htmlCode = driver.page_source

    htmlCode = bs4.BeautifulSoup(htmlCode,"html.parser")

    time.sleep(10)
    # 넘어간 페이지마다 제품과 링크 수집
    div = htmlCode.find(name="div",attrs={"class" : 'css-11kh0cw ef36txc5'})
    aTag = div.findAll(name="a",attrs={"class" : 'css-1xyd46f e1c07x4814'})
    
    # 페이지가 넘어갈때마다 리스트를 초기화
    nameList=[]
    linkList=[]    
    
    # 데이터를 넣는 과정
    for j in range(0,len(aTag)):
        nameList.append(aTag[j].text)
        linkList.append(aTag[j].attrs["href"])
        rowList.append([nameList[j],linkList[j]])

# 제일 마지막 페이지는 끝이라는 표시가 있을 거다 .
# if를 써서 해당 값을 만나면 break;하게 만들면 끝까지 돈다.

result = pd.DataFrame(rowList)
result.columns=("제품","링크")
# 좌측정렬
result.style.set_properties(**{'text-align': 'left'})
