{
 "cells": [
  {
   "cell_type": "code",
   "execution_count": 1,
   "id": "807b1da0-5c61-4ef2-885f-e0d06407d07a",
   "metadata": {},
   "outputs": [],
   "source": [
    "import requests\n",
    "import lxml.html\n",
    "import pandas as pd\n",
    "from bs4 import BeautifulSoup\n",
    "import os"
   ]
  },
  {
   "cell_type": "code",
   "execution_count": 2,
   "id": "aca867aa-8f08-414e-bacd-da77328ffcb5",
   "metadata": {},
   "outputs": [
    {
     "data": {
      "text/plain": [
       "<Response [200]>"
      ]
     },
     "execution_count": 2,
     "metadata": {},
     "output_type": "execute_result"
    }
   ],
   "source": [
    "res = requests.get(\"https://news.naver.com/section/101\")\n",
    "res"
   ]
  },
  {
   "cell_type": "code",
   "execution_count": 3,
   "id": "e5b2d26c-149c-4e0c-8072-208e1e6b3bad",
   "metadata": {},
   "outputs": [
    {
     "data": {
      "text/plain": [
       "<Element html at 0x2e78bb18680>"
      ]
     },
     "execution_count": 3,
     "metadata": {},
     "output_type": "execute_result"
    }
   ],
   "source": [
    "root = lxml.html.fromstring(res.text)\n",
    "root"
   ]
  },
  {
   "cell_type": "code",
   "execution_count": 4,
   "id": "cd8e2419-09b7-4e0c-aa39-98323af0bc51",
   "metadata": {},
   "outputs": [],
   "source": [
    "urls = []\n",
    "for link in root.cssselect('a.sa_text_title'):\n",
    "    urls.append(link.attrib[\"href\"])"
   ]
  },
  {
   "cell_type": "code",
   "execution_count": 5,
   "id": "014debd3-356c-4bb4-97f4-495c04e84759",
   "metadata": {},
   "outputs": [
    {
     "name": "stdout",
     "output_type": "stream",
     "text": [
      "https://n.news.naver.com/mnews/article/214/0001348474\n",
      "46\n"
     ]
    }
   ],
   "source": [
    "print(urls[0])\n",
    "print(len(urls))"
   ]
  },
  {
   "cell_type": "code",
   "execution_count": 6,
   "id": "c4946028-5e87-4dd6-8e10-18f4c4a467d7",
   "metadata": {},
   "outputs": [],
   "source": [
    "articles = []\n",
    "titles = []\n",
    "for u in urls:\n",
    "    if not u.startswith(\"http\"):\n",
    "        continue\n",
    "\n",
    "    res = requests.get(u)\n",
    "    res.raise_for_status()\n",
    "    soup = BeautifulSoup(res.text, \"lxml\")\n",
    "    \n",
    "    # 제목 추출\n",
    "    title = soup.title\n",
    "    # get_text()를 이용하여 태그 없이 저장\n",
    "    title = title.get_text()\n",
    "    \n",
    "    # 기사 추출\n",
    "    article = soup.article\n",
    "    # get_text()를 이용하여 태그 없이 저장\n",
    "    body_elements = article.get_text()\n",
    "    \n",
    "    titles.append(title)\n",
    "    articles.append(body_elements)"
   ]
  },
  {
   "cell_type": "code",
   "execution_count": 7,
   "id": "d5bf34fb-9257-40d2-9343-343ffd4915c5",
   "metadata": {
    "tags": []
   },
   "outputs": [
    {
     "data": {
      "text/html": [
       "<div>\n",
       "<style scoped>\n",
       "    .dataframe tbody tr th:only-of-type {\n",
       "        vertical-align: middle;\n",
       "    }\n",
       "\n",
       "    .dataframe tbody tr th {\n",
       "        vertical-align: top;\n",
       "    }\n",
       "\n",
       "    .dataframe thead th {\n",
       "        text-align: right;\n",
       "    }\n",
       "</style>\n",
       "<table border=\"1\" class=\"dataframe\">\n",
       "  <thead>\n",
       "    <tr style=\"text-align: right;\">\n",
       "      <th></th>\n",
       "      <th>title</th>\n",
       "      <th>article</th>\n",
       "    </tr>\n",
       "  </thead>\n",
       "  <tbody>\n",
       "    <tr>\n",
       "      <th>0</th>\n",
       "      <td>개미 반란 이끈 '키스 질' 귀환에 '게임스톱' 주가 70% ↑ 폭등</td>\n",
       "      <td>\\n\\n\\n\\n\\n자료사진 [연합뉴스 제공]대표적인 '밈(Meme) 주식'인 게임스...</td>\n",
       "    </tr>\n",
       "    <tr>\n",
       "      <th>1</th>\n",
       "      <td>지오영, 동물의약품 유통 강화…\"안정·신속 공급 최선\"</td>\n",
       "      <td>\\n맞춤형 콜드체인 유통 시스템 갖춰…동물약 유통 사업 확대\\n\\n\\n\\nⓒ New...</td>\n",
       "    </tr>\n",
       "    <tr>\n",
       "      <th>2</th>\n",
       "      <td>우리은행, 제4인터넷전문은행 참여…한국신용데이터 컨소시엄 합류</td>\n",
       "      <td>\\n\\n\\n\\n\\n우리은행. 연합뉴스우리은행이 한국신용데이터(KCD)가 추진하는 인...</td>\n",
       "    </tr>\n",
       "    <tr>\n",
       "      <th>3</th>\n",
       "      <td>농심, 프랑스 거점 삼아 유럽 본격 공략</td>\n",
       "      <td>\\n\\n\\n\\n\\n농심 제공  농심이 프랑스 대형유통업체에 대한 판매망 확대를 통해...</td>\n",
       "    </tr>\n",
       "    <tr>\n",
       "      <th>4</th>\n",
       "      <td>가처분 결과가 분수령…‘하이브vs민희진’ 운명은</td>\n",
       "      <td>\\n[마켓인]가처분 결과 따라 임시주총 결론 달라져인용시 민희진 대표 해임 불가 전...</td>\n",
       "    </tr>\n",
       "  </tbody>\n",
       "</table>\n",
       "</div>"
      ],
      "text/plain": [
       "                                    title  \\\n",
       "0  개미 반란 이끈 '키스 질' 귀환에 '게임스톱' 주가 70% ↑ 폭등   \n",
       "1          지오영, 동물의약품 유통 강화…\"안정·신속 공급 최선\"   \n",
       "2      우리은행, 제4인터넷전문은행 참여…한국신용데이터 컨소시엄 합류   \n",
       "3                  농심, 프랑스 거점 삼아 유럽 본격 공략   \n",
       "4              가처분 결과가 분수령…‘하이브vs민희진’ 운명은   \n",
       "\n",
       "                                             article  \n",
       "0  \\n\\n\\n\\n\\n자료사진 [연합뉴스 제공]대표적인 '밈(Meme) 주식'인 게임스...  \n",
       "1  \\n맞춤형 콜드체인 유통 시스템 갖춰…동물약 유통 사업 확대\\n\\n\\n\\nⓒ New...  \n",
       "2  \\n\\n\\n\\n\\n우리은행. 연합뉴스우리은행이 한국신용데이터(KCD)가 추진하는 인...  \n",
       "3  \\n\\n\\n\\n\\n농심 제공  농심이 프랑스 대형유통업체에 대한 판매망 확대를 통해...  \n",
       "4  \\n[마켓인]가처분 결과 따라 임시주총 결론 달라져인용시 민희진 대표 해임 불가 전...  "
      ]
     },
     "execution_count": 7,
     "metadata": {},
     "output_type": "execute_result"
    }
   ],
   "source": [
    "df = pd.DataFrame({\"title\":titles , \"article\":articles})\n",
    "df.head()"
   ]
  },
  {
   "cell_type": "code",
   "execution_count": 13,
   "id": "5633ce87-4786-4789-9e66-4be20f8722d0",
   "metadata": {},
   "outputs": [],
   "source": [
    "# 파일명\n",
    "file_name = \"ai_기사2.xlsx\"\n",
    "\n",
    "# 파일이 이미 존재하는지 확인하고 삭제\n",
    "if os.path.exists(file_name):\n",
    "    os.remove(file_name)\n",
    "\n",
    "# Excel 파일 생성\n",
    "df.to_excel(file_name)"
   ]
  },
  {
   "cell_type": "code",
   "execution_count": null,
   "id": "379de2a7-604b-4869-8716-bc0f41a8ca8c",
   "metadata": {},
   "outputs": [],
   "source": []
  },
  {
   "cell_type": "code",
   "execution_count": null,
   "id": "8218a655-c822-411f-b086-9260af8005be",
   "metadata": {},
   "outputs": [],
   "source": []
  }
 ],
 "metadata": {
  "kernelspec": {
   "display_name": "Python 3",
   "language": "python",
   "name": "python3"
  },
  "language_info": {
   "codemirror_mode": {
    "name": "ipython",
    "version": 3
   },
   "file_extension": ".py",
   "mimetype": "text/x-python",
   "name": "python",
   "nbconvert_exporter": "python",
   "pygments_lexer": "ipython3",
   "version": "3.9.13"
  }
 },
 "nbformat": 4,
 "nbformat_minor": 5
}
