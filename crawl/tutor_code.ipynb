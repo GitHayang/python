{
 "cells": [
  {
   "cell_type": "code",
   "execution_count": null,
   "id": "807b1da0-5c61-4ef2-885f-e0d06407d07a",
   "metadata": {},
   "outputs": [],
   "source": [
    "import requests\n",
    "import lxml.html\n",
    "import pandas as pd\n",
    "from bs4 import BeautifulSoup"
   ]
  },
  {
   "cell_type": "code",
   "execution_count": null,
   "id": "aca867aa-8f08-414e-bacd-da77328ffcb5",
   "metadata": {},
   "outputs": [
    {
     "data": {
      "text/plain": [
       "<Response [200]>"
      ]
     },
     "execution_count": 2,
     "metadata": {},
     "output_type": "execute_result"
    }
   ],
   "source": [
    "res = requests.get(\"https://news.naver.com/section/101\")\n",
    "res"
   ]
  },
  {
   "cell_type": "code",
   "execution_count": null,
   "id": "e5b2d26c-149c-4e0c-8072-208e1e6b3bad",
   "metadata": {},
   "outputs": [
    {
     "data": {
      "text/plain": [
       "<Element html at 0x228df7ca4f0>"
      ]
     },
     "execution_count": 3,
     "metadata": {},
     "output_type": "execute_result"
    }
   ],
   "source": [
    "root = lxml.html.fromstring(res.text)\n",
    "root"
   ]
  },
  {
   "cell_type": "code",
   "execution_count": null,
   "id": "cd8e2419-09b7-4e0c-aa39-98323af0bc51",
   "metadata": {},
   "outputs": [],
   "source": [
    "urls = []\n",
    "for link in root.cssselect('a.sa_text_title'):\n",
    "    urls.append(link.attrib[\"href\"])"
   ]
  },
  {
   "cell_type": "code",
   "execution_count": null,
   "id": "014debd3-356c-4bb4-97f4-495c04e84759",
   "metadata": {},
   "outputs": [
    {
     "name": "stdout",
     "output_type": "stream",
     "text": [
      "https://n.news.naver.com/mnews/article/021/0002637270\n",
      "46\n"
     ]
    }
   ],
   "source": [
    "print(urls[0])\n",
    "print(len(urls))"
   ]
  },
  {
   "cell_type": "code",
   "execution_count": null,
   "id": "c4946028-5e87-4dd6-8e10-18f4c4a467d7",
   "metadata": {},
   "outputs": [],
   "source": [
    "articles = []\n",
    "titles = []\n",
    "for u in urls:\n",
    "    if not u.startswith(\"http\"):\n",
    "        continue\n",
    "\n",
    "    res = requests.get(u)\n",
    "    res.raise_for_status()\n",
    "    soup = BeautifulSoup(res.text, \"lxml\")\n",
    "    \n",
    "    # 제목 추출\n",
    "    title = soup.title\n",
    "    title = title.get_text()\n",
    "    \n",
    "    # 기사 추출\n",
    "    article = soup.article\n",
    "    body_elements = article.get_text()\n",
    "    \n",
    "    titles.append(title)\n",
    "    articles.append(body_elements)"
   ]
  },
  {
   "cell_type": "code",
   "execution_count": null,
   "id": "d5bf34fb-9257-40d2-9343-343ffd4915c5",
   "metadata": {
    "tags": []
   },
   "outputs": [
    {
     "data": {
      "text/html": [
       "<div>\n",
       "<style scoped>\n",
       "    .dataframe tbody tr th:only-of-type {\n",
       "        vertical-align: middle;\n",
       "    }\n",
       "\n",
       "    .dataframe tbody tr th {\n",
       "        vertical-align: top;\n",
       "    }\n",
       "\n",
       "    .dataframe thead th {\n",
       "        text-align: right;\n",
       "    }\n",
       "</style>\n",
       "<table border=\"1\" class=\"dataframe\">\n",
       "  <thead>\n",
       "    <tr style=\"text-align: right;\">\n",
       "      <th></th>\n",
       "      <th>title</th>\n",
       "      <th>article</th>\n",
       "    </tr>\n",
       "  </thead>\n",
       "  <tbody>\n",
       "    <tr>\n",
       "      <th>0</th>\n",
       "      <td>‘희망 고문’만 남긴 채… ‘文정부 공공분양 사전청약’ 폐지</td>\n",
       "      <td>\\n\\n\\n\\n\\n게티이미지뱅크본청약 지연에 주거계획 틀어져이자상환·전월세 등 피해...</td>\n",
       "    </tr>\n",
       "    <tr>\n",
       "      <th>1</th>\n",
       "      <td>\"5개 은행 홍콩 ELS 대표사례 배상비율 30∼65%\" 결정</td>\n",
       "      <td>\\n\\t\\t\\t5개 은행의 홍콩H지수 주가연계증권, ELS 불완전판매 대표 사례에 ...</td>\n",
       "    </tr>\n",
       "    <tr>\n",
       "      <th>2</th>\n",
       "      <td>핑크색 밴 끌고 美 소녀 찾은 삼양…'까르보불닭' 받은 소녀에 역조공</td>\n",
       "      <td>\\n생일선물 까르보불닭볶음면 받고 울음 터뜨린 소녀에게 깜짝 이벤트\\n\\n\\n\\n선...</td>\n",
       "    </tr>\n",
       "    <tr>\n",
       "      <th>3</th>\n",
       "      <td>농식품부 \"식품·외식업계와 '물가안정' 지속 협의\"</td>\n",
       "      <td>\\n\\n\\n\\n\\n음식점 메뉴[연합뉴스 자료 사진]    (서울=연합뉴스) 신선미 ...</td>\n",
       "    </tr>\n",
       "    <tr>\n",
       "      <th>4</th>\n",
       "      <td>기업 87% \"국민연금, 독립성·중립성 위해 의결권 행사 개선해야\"</td>\n",
       "      <td>\\n\\n\\n\\n\\n국민연금의 적절한 의결권 행사 방식 응답 결과/사진=한국경제인협회...</td>\n",
       "    </tr>\n",
       "  </tbody>\n",
       "</table>\n",
       "</div>"
      ],
      "text/plain": [
       "                                    title  \\\n",
       "0       ‘희망 고문’만 남긴 채… ‘文정부 공공분양 사전청약’ 폐지   \n",
       "1      \"5개 은행 홍콩 ELS 대표사례 배상비율 30∼65%\" 결정   \n",
       "2  핑크색 밴 끌고 美 소녀 찾은 삼양…'까르보불닭' 받은 소녀에 역조공   \n",
       "3            농식품부 \"식품·외식업계와 '물가안정' 지속 협의\"   \n",
       "4   기업 87% \"국민연금, 독립성·중립성 위해 의결권 행사 개선해야\"   \n",
       "\n",
       "                                             article  \n",
       "0  \\n\\n\\n\\n\\n게티이미지뱅크본청약 지연에 주거계획 틀어져이자상환·전월세 등 피해...  \n",
       "1  \\n\\t\\t\\t5개 은행의 홍콩H지수 주가연계증권, ELS 불완전판매 대표 사례에 ...  \n",
       "2  \\n생일선물 까르보불닭볶음면 받고 울음 터뜨린 소녀에게 깜짝 이벤트\\n\\n\\n\\n선...  \n",
       "3  \\n\\n\\n\\n\\n음식점 메뉴[연합뉴스 자료 사진]    (서울=연합뉴스) 신선미 ...  \n",
       "4  \\n\\n\\n\\n\\n국민연금의 적절한 의결권 행사 방식 응답 결과/사진=한국경제인협회...  "
      ]
     },
     "execution_count": 7,
     "metadata": {},
     "output_type": "execute_result"
    }
   ],
   "source": [
    "df = pd.DataFrame({\"title\":titles , \"article\":articles})\n",
    "df.head()"
   ]
  },
  {
   "cell_type": "code",
   "execution_count": null,
   "id": "379de2a7-604b-4869-8716-bc0f41a8ca8c",
   "metadata": {},
   "outputs": [],
   "source": [
    "import os\n",
    "\n",
    "# 파일명\n",
    "file_name = \"ai_기사3.xlsx\"\n",
    "\n",
    "# 파일이 이미 존재하는지 확인하고 삭제\n",
    "if os.path.exists(file_name):\n",
    "    os.remove(file_name)\n",
    "\n",
    "# Excel 파일 생성\n",
    "df.to_excel(file_name)"
   ]
  },
  {
   "cell_type": "code",
   "execution_count": null,
   "id": "8218a655-c822-411f-b086-9260af8005be",
   "metadata": {},
   "outputs": [],
   "source": []
  }
 ],
 "metadata": {
  "kernelspec": {
   "display_name": "Python 3",
   "language": "python",
   "name": "python3"
  },
  "language_info": {
   "codemirror_mode": {
    "name": "ipython",
    "version": 3
   },
   "file_extension": ".py",
   "mimetype": "text/x-python",
   "name": "python",
   "nbconvert_exporter": "python",
   "pygments_lexer": "ipython3",
   "version": "3.9.13"
  }
 },
 "nbformat": 4,
 "nbformat_minor": 5
}
