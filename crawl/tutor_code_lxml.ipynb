{
 "cells": [
  {
   "cell_type": "code",
   "execution_count": 1,
   "id": "807b1da0-5c61-4ef2-885f-e0d06407d07a",
   "metadata": {},
   "outputs": [],
   "source": [
    "import requests\n",
    "import lxml.html\n",
    "import pandas as pd\n",
    "import re"
   ]
  },
  {
   "cell_type": "code",
   "execution_count": 2,
   "id": "aca867aa-8f08-414e-bacd-da77328ffcb5",
   "metadata": {},
   "outputs": [
    {
     "data": {
      "text/plain": [
       "<Response [200]>"
      ]
     },
     "execution_count": 2,
     "metadata": {},
     "output_type": "execute_result"
    }
   ],
   "source": [
    "res = requests.get(\"https://news.naver.com/section/101\")\n",
    "res"
   ]
  },
  {
   "cell_type": "code",
   "execution_count": 3,
   "id": "e5b2d26c-149c-4e0c-8072-208e1e6b3bad",
   "metadata": {},
   "outputs": [
    {
     "data": {
      "text/plain": [
       "<Element html at 0x22c787b6770>"
      ]
     },
     "execution_count": 3,
     "metadata": {},
     "output_type": "execute_result"
    }
   ],
   "source": [
    "root = lxml.html.fromstring(res.text)\n",
    "root"
   ]
  },
  {
   "cell_type": "code",
   "execution_count": 4,
   "id": "cd8e2419-09b7-4e0c-aa39-98323af0bc51",
   "metadata": {},
   "outputs": [],
   "source": [
    "urls = []\n",
    "for link in root.cssselect(\"a.sa_text_title\"):\n",
    "    urls.append(link.attrib[\"href\"])"
   ]
  },
  {
   "cell_type": "code",
   "execution_count": 5,
   "id": "014debd3-356c-4bb4-97f4-495c04e84759",
   "metadata": {},
   "outputs": [
    {
     "name": "stdout",
     "output_type": "stream",
     "text": [
      "https://n.news.naver.com/mnews/article/001/0014686923\n",
      "46\n"
     ]
    }
   ],
   "source": [
    "print(urls[0])\n",
    "print(len(urls))"
   ]
  },
  {
   "cell_type": "code",
   "execution_count": 6,
   "id": "c4946028-5e87-4dd6-8e10-18f4c4a467d7",
   "metadata": {
    "tags": []
   },
   "outputs": [],
   "source": [
    "titles = []\n",
    "articles = []\n",
    "i = 0\n",
    "\n",
    "for u in urls:\n",
    "    if not u.startswith(\"http\"):\n",
    "        continue\n",
    "        \n",
    "    res = requests.get(u)\n",
    "    article_root = lxml.html.fromstring(res.text)\n",
    "    \n",
    "    # 기존 오류는 url에 접속하여 해당 기사로 이동 후 원하는 태그 영역의 데이터를 불러오는 것인데, \n",
    "    # 뉴스 사이트마다 태크에 사용한 id혹은 class명이 달라서 오류가 발생했습니다.\n",
    "    # 이를 해결하기 위해 try except문을 사용하여 에러나는 부분은 넘어가게 만들었습니다.\n",
    "    try:\n",
    "        title_elements = article_root.cssselect('h2#title_area').pop()\n",
    "        body_elements = article_root.cssselect('article#dic_area').pop()\n",
    "    except:\n",
    "        continue\n",
    "        \n",
    "    title = title_elements.text_content()\n",
    "    \n",
    "    content = body_elements.text_content()\n",
    "    content = re.sub(r'[\\n\\t]+', '', content)\n",
    "        \n",
    "    titles.append(title)\n",
    "    articles.append(content)"
   ]
  },
  {
   "cell_type": "code",
   "execution_count": 7,
   "id": "d5bf34fb-9257-40d2-9343-343ffd4915c5",
   "metadata": {},
   "outputs": [
    {
     "data": {
      "text/html": [
       "<div>\n",
       "<style scoped>\n",
       "    .dataframe tbody tr th:only-of-type {\n",
       "        vertical-align: middle;\n",
       "    }\n",
       "\n",
       "    .dataframe tbody tr th {\n",
       "        vertical-align: top;\n",
       "    }\n",
       "\n",
       "    .dataframe thead th {\n",
       "        text-align: right;\n",
       "    }\n",
       "</style>\n",
       "<table border=\"1\" class=\"dataframe\">\n",
       "  <thead>\n",
       "    <tr style=\"text-align: right;\">\n",
       "      <th></th>\n",
       "      <th>title</th>\n",
       "      <th>article</th>\n",
       "    </tr>\n",
       "  </thead>\n",
       "  <tbody>\n",
       "    <tr>\n",
       "      <th>0</th>\n",
       "      <td>CJ대한통운 한국사업부문 신임 대표에 윤진 FT본부장</td>\n",
       "      <td>윤진 CJ대한통운 한국사업부문 신임 대표[CJ대한통운 제공. 재판매 및 DB 금지]...</td>\n",
       "    </tr>\n",
       "    <tr>\n",
       "      <th>1</th>\n",
       "      <td>금투협-운용사 밸류업 간담회…상장사 기업가치 제고 지원</td>\n",
       "      <td>금융당국이 ‘기업 밸류업’ 불씨 살리기에 안간힘을 쓰고 있는 가운데 금융투자협회도 ...</td>\n",
       "    </tr>\n",
       "    <tr>\n",
       "      <th>2</th>\n",
       "      <td>보험 순익 양극화…삼성, 홀로 '7020억' vs 현대·KB, 합쳐서 '7695억'</td>\n",
       "      <td>보험사 순이익 양극화삼성화재가 올 1분기 당기순이이익 1위 자리를 공고히했다. 사진...</td>\n",
       "    </tr>\n",
       "    <tr>\n",
       "      <th>3</th>\n",
       "      <td>저축은행, 부실채권 정리 위한 2000억원 자체펀드 조성</td>\n",
       "      <td>캠코매각 추진과 약 2000억원 규모 자체펀드 조성 추진저축은행중앙회가 저축은행의 ...</td>\n",
       "    </tr>\n",
       "    <tr>\n",
       "      <th>4</th>\n",
       "      <td>작년 에코프로 ‘숏스퀴즈’ 떠오르네…“美 게임스톱 개미 ‘선빵’에 공매도 세력 하루...</td>\n",
       "      <td>[게티이미지뱅크][헤럴드경제=신동윤 기자] 지난 3년전 대표적인 ‘밈(Meme) 주...</td>\n",
       "    </tr>\n",
       "  </tbody>\n",
       "</table>\n",
       "</div>"
      ],
      "text/plain": [
       "                                               title  \\\n",
       "0                      CJ대한통운 한국사업부문 신임 대표에 윤진 FT본부장   \n",
       "1                     금투협-운용사 밸류업 간담회…상장사 기업가치 제고 지원   \n",
       "2     보험 순익 양극화…삼성, 홀로 '7020억' vs 현대·KB, 합쳐서 '7695억'   \n",
       "3                    저축은행, 부실채권 정리 위한 2000억원 자체펀드 조성   \n",
       "4  작년 에코프로 ‘숏스퀴즈’ 떠오르네…“美 게임스톱 개미 ‘선빵’에 공매도 세력 하루...   \n",
       "\n",
       "                                             article  \n",
       "0  윤진 CJ대한통운 한국사업부문 신임 대표[CJ대한통운 제공. 재판매 및 DB 금지]...  \n",
       "1  금융당국이 ‘기업 밸류업’ 불씨 살리기에 안간힘을 쓰고 있는 가운데 금융투자협회도 ...  \n",
       "2  보험사 순이익 양극화삼성화재가 올 1분기 당기순이이익 1위 자리를 공고히했다. 사진...  \n",
       "3  캠코매각 추진과 약 2000억원 규모 자체펀드 조성 추진저축은행중앙회가 저축은행의 ...  \n",
       "4  [게티이미지뱅크][헤럴드경제=신동윤 기자] 지난 3년전 대표적인 ‘밈(Meme) 주...  "
      ]
     },
     "execution_count": 7,
     "metadata": {},
     "output_type": "execute_result"
    }
   ],
   "source": [
    "df = pd.DataFrame({\"title\":titles,\"article\":articles})\n",
    "df.head()"
   ]
  },
  {
   "cell_type": "code",
   "execution_count": 8,
   "id": "5633ce87-4786-4789-9e66-4be20f8722d0",
   "metadata": {},
   "outputs": [],
   "source": [
    "import os\n",
    "\n",
    "# 파일명\n",
    "file_name = \"ai_기사.xlsx\"\n",
    "\n",
    "# 파일이 이미 존재하는지 확인하고 삭제\n",
    "if os.path.exists(file_name):\n",
    "    os.remove(file_name)\n",
    "\n",
    "# Excel 파일 생성\n",
    "df.to_excel(file_name)"
   ]
  },
  {
   "cell_type": "code",
   "execution_count": null,
   "id": "c971984b-d303-41f5-b16d-f98d52113e25",
   "metadata": {},
   "outputs": [],
   "source": []
  },
  {
   "cell_type": "code",
   "execution_count": null,
   "id": "a5c930d6-fdf4-4406-a47b-5edbeaa0f2ff",
   "metadata": {},
   "outputs": [],
   "source": []
  }
 ],
 "metadata": {
  "kernelspec": {
   "display_name": "Python 3",
   "language": "python",
   "name": "python3"
  },
  "language_info": {
   "codemirror_mode": {
    "name": "ipython",
    "version": 3
   },
   "file_extension": ".py",
   "mimetype": "text/x-python",
   "name": "python",
   "nbconvert_exporter": "python",
   "pygments_lexer": "ipython3",
   "version": "3.9.13"
  }
 },
 "nbformat": 4,
 "nbformat_minor": 5
}
