{
 "cells": [
  {
   "cell_type": "code",
   "execution_count": 1,
   "id": "13c5dd87-6350-4f67-a8d8-70494d5d6bd8",
   "metadata": {},
   "outputs": [],
   "source": [
    "# LED_TV_를 붙여야한다."
   ]
  },
  {
   "cell_type": "code",
   "execution_count": 2,
   "id": "8c326535-4b3b-48f0-999d-645f06ef9007",
   "metadata": {},
   "outputs": [],
   "source": [
    "inList = [\"UN40EN001\",\"UN40EN002\",\"UN40EN003\"]"
   ]
  },
  {
   "cell_type": "code",
   "execution_count": 3,
   "id": "980d4cad-5b90-4eab-ac3f-4e9f685b23f8",
   "metadata": {},
   "outputs": [],
   "source": [
    "# step1 : 문자열로 LED_TV_선언\n",
    "preFix  = \"LED_TV_\""
   ]
  },
  {
   "cell_type": "code",
   "execution_count": 4,
   "id": "bb2681e6-48d5-451e-be3d-2d851ae06b03",
   "metadata": {},
   "outputs": [
    {
     "data": {
      "text/plain": [
       "'LED_TV_UN40EN002'"
      ]
     },
     "execution_count": 4,
     "metadata": {},
     "output_type": "execute_result"
    }
   ],
   "source": [
    "# step2 : 리스트 0번을 불러서 문자열을 앞에 삽입한다.\n",
    "# step3 : 리스트를 같이 업데이트한다\n",
    "preFix + inList[0]\n",
    "preFix + inList[1]"
   ]
  },
  {
   "cell_type": "code",
   "execution_count": 5,
   "id": "1145dea3-3016-4f2e-8e27-141970aadb96",
   "metadata": {},
   "outputs": [
    {
     "data": {
      "text/plain": [
       "['LED_TV_UN40EN001', 'LED_TV_UN40EN002', 'LED_TV_UN40EN003']"
      ]
     },
     "execution_count": 5,
     "metadata": {},
     "output_type": "execute_result"
    }
   ],
   "source": [
    "# while문 사용\n",
    "inList = [\"UN40EN001\",\"UN40EN002\",\"UN40EN003\"]\n",
    "preFix  = \"LED_TV_\"\n",
    "\n",
    "i = 0\n",
    "while(i<len(inList)):\n",
    "    inList[i] = preFix + inList[i]\n",
    "    i+=1\n",
    "inList"
   ]
  },
  {
   "cell_type": "code",
   "execution_count": 8,
   "id": "c07bed12-862e-4812-a46f-5d4feb7c759c",
   "metadata": {},
   "outputs": [
    {
     "data": {
      "text/plain": [
       "['LEDTV_UN40EN001', 'LEDTV_UN40EN002', 'LEDTV_UN40EN003', 'LEDTV_UN40EN004']"
      ]
     },
     "execution_count": 8,
     "metadata": {},
     "output_type": "execute_result"
    }
   ],
   "source": [
    "# for문\n",
    "tvList = [ \"UN40EN001\", \"UN40EN002\",\n",
    "          \"UN40EN003\", \"UN40EN004\" ]\n",
    "\n",
    "LenList = len(tvList)\n",
    "\n",
    "preFix = \"LEDTV_\"\n",
    "\n",
    "for i in range(0,LenList):\n",
    "    tvList[i] = preFix+tvList[i]\n",
    "\n",
    "tvList"
   ]
  },
  {
   "cell_type": "markdown",
   "id": "6f35a131-b34e-4b40-8a76-847d298412ec",
   "metadata": {},
   "source": [
    "# 디버깅"
   ]
  },
  {
   "cell_type": "markdown",
   "id": "2fee82ce-d63d-400c-b949-f4b4fa1cfbe3",
   "metadata": {},
   "source": [
    "헤더 = 주석처리"
   ]
  },
  {
   "cell_type": "code",
   "execution_count": 42,
   "id": "ca98d10e-6c40-4958-bc1c-58c36400847c",
   "metadata": {},
   "outputs": [],
   "source": [
    "tvList2 = [ \"UN40EN001\", \"UN40EN002\",\n",
    "          \"UN40EN003\", \"UN40EN004\" ]\n",
    "\n",
    "LenList = len(tvList2)\n",
    "\n",
    "preFix = \"LEDTV_\""
   ]
  },
  {
   "cell_type": "code",
   "execution_count": 43,
   "id": "22a40dde-c064-4ecc-b8ed-9e28f52f9dc7",
   "metadata": {},
   "outputs": [],
   "source": [
    "i=0"
   ]
  },
  {
   "cell_type": "code",
   "execution_count": 44,
   "id": "ecc941b6-ea28-48e1-afd3-c1c8d1961293",
   "metadata": {},
   "outputs": [
    {
     "data": {
      "text/plain": [
       "'LEDTV_UN40EN001'"
      ]
     },
     "execution_count": 44,
     "metadata": {},
     "output_type": "execute_result"
    }
   ],
   "source": [
    "# for i in range(0,LenList):\n",
    "tvList2[i] = preFix+tvList2[i]\n",
    "tvList2[i]"
   ]
  },
  {
   "cell_type": "markdown",
   "id": "40e3b43c-9a38-4675-802b-d3c1fb07a19b",
   "metadata": {},
   "source": [
    "# 실습"
   ]
  },
  {
   "cell_type": "raw",
   "id": "fd18f839-e497-4633-95ff-aa7efc348bff",
   "metadata": {},
   "source": [
    "import pandas as pd\n",
    "\n",
    "csData = pd.read_csv(\"../dataset/kopo_customerdata.csv\")\n",
    "\n",
    "csCodeData = list( csData.CUSTOMERCODE )\n",
    "\n",
    "# preFix를 정의한다! \"한국은행_\"\n",
    "# 전부 붙인다!"
   ]
  },
  {
   "cell_type": "code",
   "execution_count": 21,
   "id": "4fb5cbfa-175b-474b-836e-19dd74fb141b",
   "metadata": {},
   "outputs": [],
   "source": [
    "# while문 사용\n",
    "import pandas as pd\n",
    "\n",
    "csData = pd.read_csv(\"../dataset/kopo_customerdata.csv\")\n",
    "\n",
    "csCodeData = list( csData.CUSTOMERCODE )\n",
    "# preFix를 정의한다! \"한국은행_\"\n",
    "# 전부 붙인다!\n",
    "\n",
    "prefix = \"한국은행_\"\n",
    "\n",
    "# 전체 갯수 파악\n",
    "csLen = len(csCodeData)\n",
    "csLen\n",
    "\n",
    "# 갯수만큼 반복, 숫자를 문자로 형변환 후 합치기\n",
    "i=0\n",
    "while(i < csLen):\n",
    "    csCodeData[i] = prefix + str(csCodeData[i])\n",
    "    i+=1\n",
    "\n",
    "# csCodeData"
   ]
  },
  {
   "cell_type": "code",
   "execution_count": 22,
   "id": "3ab5442a-8ce2-47b9-a0c6-e3f608ae6733",
   "metadata": {},
   "outputs": [
    {
     "data": {
      "text/html": [
       "<div>\n",
       "<style scoped>\n",
       "    .dataframe tbody tr th:only-of-type {\n",
       "        vertical-align: middle;\n",
       "    }\n",
       "\n",
       "    .dataframe tbody tr th {\n",
       "        vertical-align: top;\n",
       "    }\n",
       "\n",
       "    .dataframe thead th {\n",
       "        text-align: right;\n",
       "    }\n",
       "</style>\n",
       "<table border=\"1\" class=\"dataframe\">\n",
       "  <thead>\n",
       "    <tr style=\"text-align: right;\">\n",
       "      <th></th>\n",
       "      <th>코드</th>\n",
       "    </tr>\n",
       "  </thead>\n",
       "  <tbody>\n",
       "    <tr>\n",
       "      <th>0</th>\n",
       "      <td>한국은행_1503989</td>\n",
       "    </tr>\n",
       "    <tr>\n",
       "      <th>1</th>\n",
       "      <td>한국은행_1190338</td>\n",
       "    </tr>\n",
       "    <tr>\n",
       "      <th>2</th>\n",
       "      <td>한국은행_1424715</td>\n",
       "    </tr>\n",
       "    <tr>\n",
       "      <th>3</th>\n",
       "      <td>한국은행_2483305</td>\n",
       "    </tr>\n",
       "    <tr>\n",
       "      <th>4</th>\n",
       "      <td>한국은행_1178802</td>\n",
       "    </tr>\n",
       "  </tbody>\n",
       "</table>\n",
       "</div>"
      ],
      "text/plain": [
       "             코드\n",
       "0  한국은행_1503989\n",
       "1  한국은행_1190338\n",
       "2  한국은행_1424715\n",
       "3  한국은행_2483305\n",
       "4  한국은행_1178802"
      ]
     },
     "execution_count": 22,
     "metadata": {},
     "output_type": "execute_result"
    }
   ],
   "source": [
    "pd.DataFrame(csCodeData ,columns = [\"코드\"]).head(5)"
   ]
  },
  {
   "cell_type": "code",
   "execution_count": 14,
   "id": "696dc847-45da-49c3-84aa-2e60e65ab767",
   "metadata": {},
   "outputs": [
    {
     "data": {
      "text/html": [
       "<div>\n",
       "<style scoped>\n",
       "    .dataframe tbody tr th:only-of-type {\n",
       "        vertical-align: middle;\n",
       "    }\n",
       "\n",
       "    .dataframe tbody tr th {\n",
       "        vertical-align: top;\n",
       "    }\n",
       "\n",
       "    .dataframe thead th {\n",
       "        text-align: right;\n",
       "    }\n",
       "</style>\n",
       "<table border=\"1\" class=\"dataframe\">\n",
       "  <thead>\n",
       "    <tr style=\"text-align: right;\">\n",
       "      <th></th>\n",
       "      <th>코드</th>\n",
       "    </tr>\n",
       "  </thead>\n",
       "  <tbody>\n",
       "    <tr>\n",
       "      <th>0</th>\n",
       "      <td>한국은행_1503989</td>\n",
       "    </tr>\n",
       "    <tr>\n",
       "      <th>1</th>\n",
       "      <td>한국은행_1190338</td>\n",
       "    </tr>\n",
       "    <tr>\n",
       "      <th>2</th>\n",
       "      <td>한국은행_1424715</td>\n",
       "    </tr>\n",
       "    <tr>\n",
       "      <th>3</th>\n",
       "      <td>한국은행_2483305</td>\n",
       "    </tr>\n",
       "    <tr>\n",
       "      <th>4</th>\n",
       "      <td>한국은행_1178802</td>\n",
       "    </tr>\n",
       "    <tr>\n",
       "      <th>5</th>\n",
       "      <td>한국은행_859044</td>\n",
       "    </tr>\n",
       "    <tr>\n",
       "      <th>6</th>\n",
       "      <td>한국은행_734198</td>\n",
       "    </tr>\n",
       "    <tr>\n",
       "      <th>7</th>\n",
       "      <td>한국은행_1443485</td>\n",
       "    </tr>\n",
       "    <tr>\n",
       "      <th>8</th>\n",
       "      <td>한국은행_2340520</td>\n",
       "    </tr>\n",
       "    <tr>\n",
       "      <th>9</th>\n",
       "      <td>한국은행_697949</td>\n",
       "    </tr>\n",
       "  </tbody>\n",
       "</table>\n",
       "</div>"
      ],
      "text/plain": [
       "             코드\n",
       "0  한국은행_1503989\n",
       "1  한국은행_1190338\n",
       "2  한국은행_1424715\n",
       "3  한국은행_2483305\n",
       "4  한국은행_1178802\n",
       "5   한국은행_859044\n",
       "6   한국은행_734198\n",
       "7  한국은행_1443485\n",
       "8  한국은행_2340520\n",
       "9   한국은행_697949"
      ]
     },
     "execution_count": 14,
     "metadata": {},
     "output_type": "execute_result"
    }
   ],
   "source": [
    "# for문 사용\n",
    "import pandas as pd\n",
    "\n",
    "csData = pd.read_csv(\"../dataset/kopo_customerdata.csv\")\n",
    "\n",
    "csCodeData = list( csData.CUSTOMERCODE )\n",
    "# preFix를 정의한다! \"한국은행_\"\n",
    "# 전부 붙인다!\n",
    "\n",
    "prefix = \"한국은행_\"\n",
    "\n",
    "# 전체 갯수 파악\n",
    "csLen = len(csCodeData)\n",
    "csLen\n",
    "\n",
    "# 갯수만큼 반복, 숫자를 문자로 형변환 후 합치기\n",
    "for i in range(0,csLen):\n",
    "    csCodeData[i] = prefix + str(csCodeData[i])\n",
    "    i+=1\n",
    "\n",
    "pd.DataFrame(csCodeData ,columns = [\"코드\"]).head(10)"
   ]
  },
  {
   "cell_type": "code",
   "execution_count": null,
   "id": "b1106ffd-8ec6-49b2-bbea-639a465ea774",
   "metadata": {},
   "outputs": [],
   "source": [
    "cs.Data.CUSTOMERCODE = prefix + csData()"
   ]
  }
 ],
 "metadata": {
  "kernelspec": {
   "display_name": "Python 3 (ipykernel)",
   "language": "python",
   "name": "python3"
  },
  "language_info": {
   "codemirror_mode": {
    "name": "ipython",
    "version": 3
   },
   "file_extension": ".py",
   "mimetype": "text/x-python",
   "name": "python",
   "nbconvert_exporter": "python",
   "pygments_lexer": "ipython3",
   "version": "3.9.13"
  }
 },
 "nbformat": 4,
 "nbformat_minor": 5
}
